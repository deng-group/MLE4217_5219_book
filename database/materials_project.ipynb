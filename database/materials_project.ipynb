{
 "cells": [
  {
   "cell_type": "markdown",
   "metadata": {},
   "source": [
    "# Practical: Materials Project\n",
    "\n",
    "In this practical, we will use the Materials Project API to access information about materials. The Materials Project is a database of materials properties that is maintained by the Lawrence Berkeley National Laboratory. The database contains information about the properties of a large number of materials, including their crystal structures, band structures, and thermodynamic properties.\n",
    "\n",
    "## Register for a Materials Project API Key\n",
    "To access the Materials Project API, you will need to register for an API key. You can register an account of Materials Project by visiting the following website:\n",
    "https://profile.materialsproject.org/\n",
    "\n",
    "Then you can find your `API key` in the dashboard page. You should set your `MP_API_KEY` in the following cell."
   ]
  },
  {
   "cell_type": "code",
   "execution_count": 3,
   "metadata": {},
   "outputs": [],
   "source": [
    "MP_API_KEY = \"YOUR_API_KEY\""
   ]
  },
  {
   "cell_type": "markdown",
   "metadata": {},
   "source": [
    "```{admonition} Materials Project API Key\n",
    ":class: tip\n",
    "You should keep your API key secret and not share it with others. If you suspect that your API key has been compromised, you can regenerate a new API key in the dashboard page.\n",
    "\n",
    "You can find more information about the Materials Project API at the following website:\n",
    "https://next-gen.materialsproject.org/api\n",
    "```"
   ]
  },
  {
   "cell_type": "markdown",
   "metadata": {},
   "source": [
    "## Install the `mp_api` Package\n",
    "We need to install `mp_api` package to access the Materials Project API. You can install the package using the following command:"
   ]
  },
  {
   "cell_type": "code",
   "execution_count": null,
   "metadata": {},
   "outputs": [],
   "source": [
    "!pip install mp_api # you can skip this if you've already installed the mp_api package."
   ]
  },
  {
   "cell_type": "markdown",
   "metadata": {},
   "source": [
    "## Querying Data from the Materials Project Database\n",
    "We can query data from the Materials Project database using the `mp_api` package. The `mp_api` package provides a Python interface to the Materials Project API, which allows you to query the database for information about materials. The package provides a number of functions for querying the database, including functions for querying materials by chemical formula, by material ID, and by crystal structure.\n",
    "\n",
    "To query data from the data base, we need to import the `MPRester` class from the `mp_api` package. We can then create an instance of the `MPRester` class, passing our API key as an argument to the constructor. We can then use the instance to query the database for information about materials.\n",
    "\n",
    "In the example below, we are searching data using the `material_ids`."
   ]
  },
  {
   "cell_type": "markdown",
   "metadata": {},
   "source": [
    "```{admonition} Python API\n",
    ":class: info\n",
    "Here we are using API. If you don't know what is class, instances, you can check the [Object-Oriented Programming](https://realpython.com/python3-object-oriented-programming/). There are other online tutorials as well.\n",
    "```"
   ]
  },
  {
   "cell_type": "markdown",
   "metadata": {},
   "source": [
    "### Query Materials by Material ID\n",
    "You can query the Materials Project database for information about a material by its material ID. The material ID is a unique identifier that is assigned to each material in the database. You can find the material ID for a material by searching for the material on the Materials Project website."
   ]
  },
  {
   "cell_type": "code",
   "execution_count": 51,
   "metadata": {},
   "outputs": [
    {
     "data": {
      "application/vnd.jupyter.widget-view+json": {
       "model_id": "8868409719f04da5a728eda203aa0e14",
       "version_major": 2,
       "version_minor": 0
      },
      "text/plain": [
       "Retrieving SummaryDoc documents:   0%|          | 0/3 [00:00<?, ?it/s]"
      ]
     },
     "metadata": {},
     "output_type": "display_data"
    }
   ],
   "source": [
    "from mp_api.client import MPRester\n",
    "\n",
    "# Pass your API key directly as an argument.\n",
    "with MPRester(MP_API_KEY) as mpr:\n",
    "    docs = mpr.materials.summary.search(\n",
    "        material_ids=[\"mp-149\", \"mp-13\", \"mp-2131\"]\n",
    "    )"
   ]
  },
  {
   "cell_type": "markdown",
   "metadata": {},
   "source": [
    "### Show the Available Fields\n",
    "We can check the available properties from `mpr.materials.summary.available_fields`."
   ]
  },
  {
   "cell_type": "code",
   "execution_count": 54,
   "metadata": {},
   "outputs": [
    {
     "name": "stdout",
     "output_type": "stream",
     "text": [
      "Available fields: ['builder_meta', 'nsites', 'elements', 'nelements', 'composition', 'composition_reduced', 'formula_pretty', 'formula_anonymous', 'chemsys', 'volume', 'density', 'density_atomic', 'symmetry', 'property_name', 'material_id', 'deprecated', 'deprecation_reasons', 'last_updated', 'origins', 'warnings', 'structure', 'task_ids', 'uncorrected_energy_per_atom', 'energy_per_atom', 'formation_energy_per_atom', 'energy_above_hull', 'is_stable', 'equilibrium_reaction_energy_per_atom', 'decomposes_to', 'xas', 'grain_boundaries', 'band_gap', 'cbm', 'vbm', 'efermi', 'is_gap_direct', 'is_metal', 'es_source_calc_id', 'bandstructure', 'dos', 'dos_energy_up', 'dos_energy_down', 'is_magnetic', 'ordering', 'total_magnetization', 'total_magnetization_normalized_vol', 'total_magnetization_normalized_formula_units', 'num_magnetic_sites', 'num_unique_magnetic_sites', 'types_of_magnetic_species', 'bulk_modulus', 'shear_modulus', 'universal_anisotropy', 'homogeneous_poisson', 'e_total', 'e_ionic', 'e_electronic', 'n', 'e_ij_max', 'weighted_surface_energy_EV_PER_ANG2', 'weighted_surface_energy', 'weighted_work_function', 'surface_anisotropy', 'shape_factor', 'has_reconstructed', 'possible_species', 'has_props', 'theoretical', 'database_IDs']\n",
      "\n",
      "--------------------\n",
      "Material ID: mp-149\n",
      "Theoretical? False\n",
      "Formula: Si\n",
      "\n",
      "--------------------\n",
      "Material ID: mp-13\n",
      "Theoretical? False\n",
      "Formula: Fe\n",
      "\n",
      "--------------------\n",
      "Material ID: mp-2131\n",
      "Theoretical? False\n",
      "Formula: SrN6\n"
     ]
    }
   ],
   "source": [
    "print(f\"Available fields: {mpr.materials.summary.available_fields}\")\n",
    "\n",
    "# Print out the data (some) for each material\n",
    "for example_doc in docs:\n",
    "    print(\"\\n--------------------\")\n",
    "    print(f\"Material ID: {example_doc.material_id}\")\n",
    "    print(f\"Theoretical? {example_doc.theoretical}\") # whether this structure is a purely theoretical structure or  not (also exist in experiment)\n",
    "    print(f\"Formula: {example_doc.formula_pretty}\")"
   ]
  },
  {
   "cell_type": "markdown",
   "metadata": {},
   "source": [
    "### Customizing the Search\n",
    "We can customize our search in `search()` function. For example, we can search for materials with a specific chemical formula, or we can search for materials with specific density. Please note that sometimes, the search may return lots of results, it's better to save these results into a `json` file.\n",
    "\n",
    "You can use `chemsys` to search for materials with specific elements. For example, `Fe-O` will search for materials with Iron and Oxygen. You can also use `fields` to specify the properties you want to get. You can find more information about the search in the [Materials Project API documentation](https://materialsproject.org/docs/api)."
   ]
  },
  {
   "cell_type": "code",
   "execution_count": 40,
   "metadata": {},
   "outputs": [
    {
     "data": {
      "application/vnd.jupyter.widget-view+json": {
       "model_id": "3f30e75980534699927d927dd01e8607",
       "version_major": 2,
       "version_minor": 0
      },
      "text/plain": [
       "Retrieving SummaryDoc documents:   0%|          | 0/5 [00:00<?, ?it/s]"
      ]
     },
     "metadata": {},
     "output_type": "display_data"
    }
   ],
   "source": [
    "with MPRester(MP_API_KEY) as mpr:\n",
    "    docs = mpr.materials.summary.search(\n",
    "        chemsys=\"Li-Fe-P-O\", is_stable=True,\n",
    "        fields=[\"material_id\", \"volume\", \"elements\",\"structure\"]\n",
    "    )"
   ]
  },
  {
   "cell_type": "code",
   "execution_count": 41,
   "metadata": {},
   "outputs": [],
   "source": [
    "# dump results to a json file\n",
    "import json\n",
    "with open('materials_data.json', 'w') as f:\n",
    "    json.dump([doc.dict() for doc in docs], f, indent=4)"
   ]
  },
  {
   "cell_type": "markdown",
   "metadata": {},
   "source": [
    "You can use wildcard `*` to search for all elements. You can also put formula pattern in search. For example, `ABO3` will search for ternary materials with formula ending with `O3`, structure with perovskite related composition.\n"
   ]
  },
  {
   "cell_type": "code",
   "execution_count": 73,
   "metadata": {},
   "outputs": [
    {
     "data": {
      "application/vnd.jupyter.widget-view+json": {
       "model_id": "1ce446e46aa64d7f998fb59da952a87f",
       "version_major": 2,
       "version_minor": 0
      },
      "text/plain": [
       "Retrieving SummaryDoc documents:   0%|          | 0/71 [00:00<?, ?it/s]"
      ]
     },
     "metadata": {},
     "output_type": "display_data"
    },
    {
     "name": "stdout",
     "output_type": "stream",
     "text": [
      "Materials found: 71\n",
      "Material ID: mp-1221539, Band gap: 0.91 eV, Composition: Mo4 Br12 O4, Energy above hull: 0.00 meV\n",
      "Material ID: mp-558934, Band gap: 1.27 eV, Composition: Hg36 Cl12 O12, Energy above hull: 4.59 meV\n",
      "Material ID: mp-29019, Band gap: 0.63 eV, Composition: Rb18 I6 O6, Energy above hull: 0.00 meV\n",
      "Material ID: mp-505212, Band gap: 1.33 eV, Composition: Cs6 Au2 O2, Energy above hull: 0.00 meV\n",
      "Material ID: mp-28166, Band gap: 0.89 eV, Composition: K3 Br1 O1, Energy above hull: 0.00 meV\n",
      "Material ID: mp-28171, Band gap: 1.03 eV, Composition: K3 I1 O1, Energy above hull: 0.00 meV\n",
      "Material ID: mp-9200, Band gap: 0.56 eV, Composition: K3 Au1 O1, Energy above hull: 0.00 meV\n",
      "Material ID: mp-673798, Band gap: 1.03 eV, Composition: K6 Cl2 O2, Energy above hull: 7.48 meV\n",
      "Material ID: mp-546285, Band gap: 0.82 eV, Composition: Nb2 I6 O2, Energy above hull: 0.00 meV\n",
      "Material ID: mp-11649, Band gap: 0.51 eV, Composition: Ca12 Si4 O4, Energy above hull: 0.71 meV\n",
      "Material ID: mp-572291, Band gap: 1.08 eV, Composition: K12 Cl4 O4, Energy above hull: 0.40 meV\n",
      "Material ID: mp-755428, Band gap: 1.22 eV, Composition: Rb12 Cl4 O4, Energy above hull: 0.00 meV\n",
      "Material ID: mp-757636, Band gap: 0.96 eV, Composition: Nb8 Tl8 O24, Energy above hull: 0.00 meV\n",
      "Material ID: mp-545482, Band gap: 1.06 eV, Composition: Pd2 Se2 O6, Energy above hull: 0.00 meV\n",
      "Material ID: mp-1283250, Band gap: 1.14 eV, Composition: Ba4 Co4 O12, Energy above hull: 1.06 meV\n",
      "Material ID: mp-1542758, Band gap: 1.31 eV, Composition: Sr2 Mo2 O6, Energy above hull: 0.00 meV\n",
      "Material ID: mp-546684, Band gap: 0.82 eV, Composition: Pd2 Se2 O6, Energy above hull: 4.67 meV\n",
      "Material ID: mp-1106094, Band gap: 0.88 eV, Composition: K4 C4 O12, Energy above hull: 0.00 meV\n",
      "Material ID: mp-607467, Band gap: 1.10 eV, Composition: Ca4 Mo4 O12, Energy above hull: 0.00 meV\n",
      "Material ID: mp-727242, Band gap: 0.67 eV, Composition: Na4 C4 O12, Energy above hull: 1.81 meV\n",
      "Material ID: mp-755893, Band gap: 0.67 eV, Composition: Ca4 Bi4 O12, Energy above hull: 0.00 meV\n",
      "Material ID: mp-755478, Band gap: 0.77 eV, Composition: Cd2 Bi2 O6, Energy above hull: 4.83 meV\n",
      "Material ID: mp-1288145, Band gap: 0.95 eV, Composition: La2 Co2 O6, Energy above hull: 0.00 meV\n",
      "Material ID: mp-20569, Band gap: 0.88 eV, Composition: Mn2 Sn2 O6, Energy above hull: 0.00 meV\n",
      "Material ID: mp-23054, Band gap: 1.10 eV, Composition: Na2 Bi2 O6, Energy above hull: 0.00 meV\n",
      "Material ID: mp-754246, Band gap: 1.11 eV, Composition: Ti2 Sn2 O6, Energy above hull: 9.59 meV\n",
      "Material ID: mp-754329, Band gap: 0.98 eV, Composition: Cd2 Sn2 O6, Energy above hull: 1.07 meV\n",
      "Material ID: mp-676262, Band gap: 0.98 eV, Composition: Ta8 Tl8 O24, Energy above hull: 0.00 meV\n",
      "Material ID: mp-23501, Band gap: 1.28 eV, Composition: Fe2 Bi2 O6, Energy above hull: 1.63 meV\n",
      "Material ID: mp-30284, Band gap: 1.24 eV, Composition: Hg2 As2 O6, Energy above hull: 0.00 meV\n",
      "Material ID: mp-18840, Band gap: 0.90 eV, Composition: Ba3 Mn3 O9, Energy above hull: 0.00 meV\n",
      "Material ID: mp-675227, Band gap: 0.87 eV, Composition: Ba5 Mn5 O15, Energy above hull: 1.78 meV\n",
      "Material ID: mp-1120755, Band gap: 0.66 eV, Composition: Na2 C2 O6, Energy above hull: 0.00 meV\n",
      "Material ID: mp-19051, Band gap: 1.00 eV, Composition: La4 Co4 O12, Energy above hull: 3.32 meV\n",
      "Material ID: mp-19097, Band gap: 1.48 eV, Composition: Fe2 B2 O6, Energy above hull: 0.00 meV\n",
      "Material ID: mp-19001, Band gap: 0.90 eV, Composition: Sr4 Mn4 O12, Energy above hull: 3.06 meV\n",
      "Material ID: mp-19138, Band gap: 1.47 eV, Composition: Ba2 Ni2 O6, Energy above hull: 0.00 meV\n",
      "Material ID: mp-557535, Band gap: 0.84 eV, Composition: Ba8 Mn8 O24, Energy above hull: 1.22 meV\n",
      "Material ID: mp-8098, Band gap: 1.34 eV, Composition: In2 Ga2 O6, Energy above hull: 0.00 meV\n",
      "Material ID: mp-1045305, Band gap: 1.14 eV, Composition: Ca4 Mo4 O12, Energy above hull: 9.69 meV\n",
      "Material ID: mp-1178212, Band gap: 0.86 eV, Composition: Fe4 Sn4 O12, Energy above hull: 0.00 meV\n",
      "Material ID: mp-1279343, Band gap: 0.96 eV, Composition: Co2 Ni2 O6, Energy above hull: 0.37 meV\n",
      "Material ID: mp-861502, Band gap: 0.99 eV, Composition: Ac1 Fe1 O3, Energy above hull: 0.00 meV\n",
      "Material ID: mp-935811, Band gap: 1.41 eV, Composition: K1 Nb1 O3, Energy above hull: 7.73 meV\n",
      "Material ID: mp-977455, Band gap: 0.92 eV, Composition: Pa1 Ag1 O3, Energy above hull: 0.00 meV\n",
      "Material ID: mp-756933, Band gap: 0.66 eV, Composition: Ta4 Tl4 O12, Energy above hull: 4.27 meV\n",
      "Material ID: mp-1205366, Band gap: 1.09 eV, Composition: Lu4 Rh4 O12, Energy above hull: 0.00 meV\n",
      "Material ID: mp-1207705, Band gap: 0.96 eV, Composition: Tm4 Rh4 O12, Energy above hull: 0.00 meV\n",
      "Material ID: mp-1209329, Band gap: 1.30 eV, Composition: Pr4 V4 O12, Energy above hull: 0.00 meV\n",
      "Material ID: mp-1212108, Band gap: 0.96 eV, Composition: Ho4 Rh4 O12, Energy above hull: 0.00 meV\n",
      "Material ID: mp-1212884, Band gap: 0.89 eV, Composition: Dy4 Rh4 O12, Energy above hull: 0.00 meV\n",
      "Material ID: mp-1213022, Band gap: 0.96 eV, Composition: Er4 Rh4 O12, Energy above hull: 0.00 meV\n",
      "Material ID: mp-19012, Band gap: 1.13 eV, Composition: Ca4 Mo4 O12, Energy above hull: 6.36 meV\n",
      "Material ID: mp-19802, Band gap: 1.42 eV, Composition: Tb4 Co4 O12, Energy above hull: 0.00 meV\n",
      "Material ID: mp-20079, Band gap: 0.93 eV, Composition: Ca4 Pb4 O12, Energy above hull: 2.45 meV\n",
      "Material ID: mp-20489, Band gap: 0.79 eV, Composition: Sr4 Pb4 O12, Energy above hull: 0.00 meV\n",
      "Material ID: mp-22137, Band gap: 1.19 eV, Composition: Dy4 Co4 O12, Energy above hull: 9.31 meV\n",
      "Material ID: mp-22283, Band gap: 0.91 eV, Composition: Dy4 Fe4 O12, Energy above hull: 6.33 meV\n",
      "Material ID: mp-22341, Band gap: 1.08 eV, Composition: Pr4 Fe4 O12, Energy above hull: 0.00 meV\n",
      "Material ID: mp-3317, Band gap: 0.73 eV, Composition: Sm4 Rh4 O12, Energy above hull: 0.00 meV\n",
      "Material ID: mp-4582, Band gap: 0.65 eV, Composition: Nd4 Rh4 O12, Energy above hull: 0.00 meV\n",
      "Material ID: mp-4789, Band gap: 0.60 eV, Composition: Pr4 Rh4 O12, Energy above hull: 0.00 meV\n",
      "Material ID: mp-5163, Band gap: 0.59 eV, Composition: La4 Rh4 O12, Energy above hull: 0.00 meV\n",
      "Material ID: mp-541129, Band gap: 1.03 eV, Composition: Nd4 V4 O12, Energy above hull: 0.00 meV\n",
      "Material ID: mp-554811, Band gap: 1.44 eV, Composition: Tb4 V4 O12, Energy above hull: 0.00 meV\n",
      "Material ID: mp-562779, Band gap: 1.45 eV, Composition: Er4 Co4 O12, Energy above hull: 0.00 meV\n",
      "Material ID: mp-5692, Band gap: 0.87 eV, Composition: Tb4 Rh4 O12, Energy above hull: 0.00 meV\n",
      "Material ID: mp-4784, Band gap: 1.30 eV, Composition: Ca2 Pt2 O6, Energy above hull: 0.00 meV\n",
      "Material ID: mp-1178513, Band gap: 0.67 eV, Composition: Ba2 Sn2 O6, Energy above hull: 0.65 meV\n",
      "Material ID: mp-1101462, Band gap: 0.95 eV, Composition: Nb8 Tl8 O24, Energy above hull: 1.37 meV\n",
      "Material ID: mp-4342, Band gap: 1.48 eV, Composition: K1 Nb1 O3, Energy above hull: 1.19 meV\n"
     ]
    }
   ],
   "source": [
    "with MPRester(MP_API_KEY) as mpr:\n",
    "    docs = mpr.materials.summary.search(\n",
    "        chemsys=\"O-*-*\", formula=\"ABO3\",\n",
    "        fields=[\"material_id\", \"band_gap\",\"composition\", \"energy_above_hull\"], \n",
    "        energy_above_hull=[0,0.01], band_gap=[0.5, 1.5]\n",
    "    )\n",
    "    mpid_bgap_dict = {doc.material_id: [doc.band_gap, doc.composition, doc.energy_above_hull] for doc in docs}\n",
    "\n",
    "print(f\"Materials found: {len(mpid_bgap_dict)}\")\n",
    "for mpid, (bgap, composition, energy_above_hull) in mpid_bgap_dict.items():\n",
    "    print(f\"Material ID: {mpid}, Band gap: {bgap:.2f} eV, Composition: {composition}, Energy above hull: {energy_above_hull*1000:.2f} meV\")"
   ]
  },
  {
   "cell_type": "markdown",
   "metadata": {},
   "source": [
    "```{admonition} Results from Materials Project\n",
    ":class: tip\n",
    "Results from Materials Project are the calculated values using DFT. They may not be the same as the experimental values. You should always verify the results from the Materials Project with the experimental data. Some properties, e.g. band gap, are difficult to calculate accurately. You should be careful when using these properties.\n",
    "```"
   ]
  },
  {
   "cell_type": "markdown",
   "metadata": {},
   "source": [
    "You can construct a phase diagram using the queried data from Materials Project using `get_phase_diagram_from_chemsys()` function."
   ]
  },
  {
   "cell_type": "code",
   "execution_count": 74,
   "metadata": {},
   "outputs": [],
   "source": [
    "from mp_api.client import MPRester\n",
    "from emmet.core.thermo import ThermoType\n",
    "\n",
    "with MPRester(MP_API_KEY) as mpr:\n",
    "    \n",
    "    # -- GGA/GGA+U mixed phase diagram\n",
    "    pd = mpr.materials.thermo.get_phase_diagram_from_chemsys(chemsys=\"Li-Fe-O\", \n",
    "                                                   thermo_type=ThermoType.GGA_GGA_U)\n",
    "                                                      \n",
    "    "
   ]
  },
  {
   "cell_type": "markdown",
   "metadata": {},
   "source": [
    "Since this is a pymatgen `PhaseDiagram` object, you can visualize the results."
   ]
  },
  {
   "cell_type": "code",
   "execution_count": 75,
   "metadata": {},
   "outputs": [
    {
     "data": {
      "application/vnd.plotly.v1+json": {
       "config": {
        "plotlyServerURL": "https://plot.ly"
       },
       "data": [
        {
         "a": [
          40,
          0,
          null,
          0,
          0,
          null,
          2,
          0,
          null,
          4,
          40,
          null,
          0,
          1,
          null,
          0,
          3,
          null,
          2,
          40,
          null,
          1,
          8,
          null,
          0,
          4,
          null,
          1,
          4,
          null,
          1,
          0,
          null,
          4,
          40,
          null,
          2,
          3,
          null,
          2,
          4,
          null,
          4,
          0,
          null,
          0,
          0,
          null,
          8,
          40,
          null,
          4,
          8,
          null,
          4,
          8,
          null,
          0,
          4,
          null,
          0,
          0,
          null,
          1,
          4,
          null
         ],
         "b": [
          8,
          1,
          null,
          4,
          1,
          null,
          0,
          1,
          null,
          0,
          8,
          null,
          4,
          0,
          null,
          1,
          0,
          null,
          0,
          8,
          null,
          0,
          4,
          null,
          4,
          4,
          null,
          0,
          4,
          null,
          0,
          0,
          null,
          4,
          8,
          null,
          0,
          0,
          null,
          0,
          0,
          null,
          4,
          1,
          null,
          4,
          4,
          null,
          4,
          8,
          null,
          0,
          4,
          null,
          4,
          4,
          null,
          4,
          4,
          null,
          4,
          0,
          null,
          0,
          0,
          null
         ],
         "c": [
          32,
          0,
          null,
          4,
          0,
          null,
          1,
          0,
          null,
          4,
          32,
          null,
          6,
          8,
          null,
          0,
          0,
          null,
          1,
          32,
          null,
          8,
          12,
          null,
          4,
          8,
          null,
          8,
          8,
          null,
          8,
          8,
          null,
          8,
          32,
          null,
          1,
          0,
          null,
          1,
          4,
          null,
          8,
          0,
          null,
          4,
          6,
          null,
          12,
          32,
          null,
          4,
          12,
          null,
          8,
          12,
          null,
          6,
          8,
          null,
          6,
          8,
          null,
          8,
          4,
          null
         ],
         "hoverinfo": "none",
         "line": {
          "color": "black",
          "width": 1.5
         },
         "mode": "lines",
         "showlegend": false,
         "type": "scatterternary"
        },
        {
         "a": [
          0,
          1,
          0
         ],
         "b": [
          4,
          0,
          0
         ],
         "c": [
          6,
          8,
          8
         ],
         "fill": "toself",
         "fillcolor": "#2E91E5",
         "hovertemplate": "<extra></extra>",
         "line": {
          "width": 0
         },
         "mode": "lines",
         "name": "Fe<sub>2</sub>O<sub>3</sub>—LiO<sub>8</sub>—O<sub>2</sub>",
         "opacity": 0.15,
         "showlegend": false,
         "type": "scatterternary"
        },
        {
         "a": [
          2,
          4,
          40
         ],
         "b": [
          0,
          0,
          8
         ],
         "c": [
          1,
          4,
          32
         ],
         "fill": "toself",
         "fillcolor": "#E15F99",
         "hovertemplate": "<extra></extra>",
         "line": {
          "width": 0
         },
         "mode": "lines",
         "name": "Li<sub>2</sub>O—Li<sub>2</sub>O<sub>2</sub>—Li<sub>5</sub>FeO<sub>4</sub>",
         "opacity": 0.15,
         "showlegend": false,
         "type": "scatterternary"
        },
        {
         "a": [
          0,
          3,
          2
         ],
         "b": [
          1,
          0,
          0
         ],
         "c": [
          0,
          0,
          1
         ],
         "fill": "toself",
         "fillcolor": "#1CA71C",
         "hovertemplate": "<extra></extra>",
         "line": {
          "width": 0
         },
         "mode": "lines",
         "name": "Fe—Li—Li<sub>2</sub>O",
         "opacity": 0.15,
         "showlegend": false,
         "type": "scatterternary"
        },
        {
         "a": [
          0,
          2,
          40
         ],
         "b": [
          1,
          0,
          8
         ],
         "c": [
          0,
          1,
          32
         ],
         "fill": "toself",
         "fillcolor": "#FB0D0D",
         "hovertemplate": "<extra></extra>",
         "line": {
          "width": 0
         },
         "mode": "lines",
         "name": "Fe—Li<sub>2</sub>O—Li<sub>5</sub>FeO<sub>4</sub>",
         "opacity": 0.15,
         "showlegend": false,
         "type": "scatterternary"
        },
        {
         "a": [
          8,
          4,
          1
         ],
         "b": [
          4,
          0,
          0
         ],
         "c": [
          12,
          4,
          8
         ],
         "fill": "toself",
         "fillcolor": "#DA16FF",
         "hovertemplate": "<extra></extra>",
         "line": {
          "width": 0
         },
         "mode": "lines",
         "name": "Li<sub>2</sub>FeO<sub>3</sub>—Li<sub>2</sub>O<sub>2</sub>—LiO<sub>8</sub>",
         "opacity": 0.15,
         "showlegend": false,
         "type": "scatterternary"
        },
        {
         "a": [
          8,
          4,
          40
         ],
         "b": [
          4,
          0,
          8
         ],
         "c": [
          12,
          4,
          32
         ],
         "fill": "toself",
         "fillcolor": "#222A2A",
         "hovertemplate": "<extra></extra>",
         "line": {
          "width": 0
         },
         "mode": "lines",
         "name": "Li<sub>2</sub>FeO<sub>3</sub>—Li<sub>2</sub>O<sub>2</sub>—Li<sub>5</sub>FeO<sub>4</sub>",
         "opacity": 0.15,
         "showlegend": false,
         "type": "scatterternary"
        },
        {
         "a": [
          0,
          4,
          1
         ],
         "b": [
          4,
          4,
          0
         ],
         "c": [
          6,
          8,
          8
         ],
         "fill": "toself",
         "fillcolor": "#B68100",
         "hovertemplate": "<extra></extra>",
         "line": {
          "width": 0
         },
         "mode": "lines",
         "name": "Fe<sub>2</sub>O<sub>3</sub>—LiFeO<sub>2</sub>—LiO<sub>8</sub>",
         "opacity": 0.15,
         "showlegend": false,
         "type": "scatterternary"
        },
        {
         "a": [
          8,
          4,
          1
         ],
         "b": [
          4,
          4,
          0
         ],
         "c": [
          12,
          8,
          8
         ],
         "fill": "toself",
         "fillcolor": "#750D86",
         "hovertemplate": "<extra></extra>",
         "line": {
          "width": 0
         },
         "mode": "lines",
         "name": "Li<sub>2</sub>FeO<sub>3</sub>—LiFeO<sub>2</sub>—LiO<sub>8</sub>",
         "opacity": 0.15,
         "showlegend": false,
         "type": "scatterternary"
        },
        {
         "a": [
          8,
          40,
          4
         ],
         "b": [
          4,
          8,
          4
         ],
         "c": [
          12,
          32,
          8
         ],
         "fill": "toself",
         "fillcolor": "#EB663B",
         "hovertemplate": "<extra></extra>",
         "line": {
          "width": 0
         },
         "mode": "lines",
         "name": "Li<sub>2</sub>FeO<sub>3</sub>—Li<sub>5</sub>FeO<sub>4</sub>—LiFeO<sub>2</sub>",
         "opacity": 0.15,
         "showlegend": false,
         "type": "scatterternary"
        },
        {
         "a": [
          0,
          0,
          4
         ],
         "b": [
          4,
          4,
          4
         ],
         "c": [
          6,
          4,
          8
         ],
         "fill": "toself",
         "fillcolor": "#511CFB",
         "hovertemplate": "<extra></extra>",
         "line": {
          "width": 0
         },
         "mode": "lines",
         "name": "Fe<sub>2</sub>O<sub>3</sub>—FeO—LiFeO<sub>2</sub>",
         "opacity": 0.15,
         "showlegend": false,
         "type": "scatterternary"
        },
        {
         "a": [
          0,
          0,
          4
         ],
         "b": [
          1,
          4,
          4
         ],
         "c": [
          0,
          4,
          8
         ],
         "fill": "toself",
         "fillcolor": "#00A08B",
         "hovertemplate": "<extra></extra>",
         "line": {
          "width": 0
         },
         "mode": "lines",
         "name": "Fe—FeO—LiFeO<sub>2</sub>",
         "opacity": 0.15,
         "showlegend": false,
         "type": "scatterternary"
        },
        {
         "a": [
          0,
          40,
          4
         ],
         "b": [
          1,
          8,
          4
         ],
         "c": [
          0,
          32,
          8
         ],
         "fill": "toself",
         "fillcolor": "#FB00D1",
         "hovertemplate": "<extra></extra>",
         "line": {
          "width": 0
         },
         "mode": "lines",
         "name": "Fe—Li<sub>5</sub>FeO<sub>4</sub>—LiFeO<sub>2</sub>",
         "opacity": 0.15,
         "showlegend": false,
         "type": "scatterternary"
        },
        {
         "a": [
          40,
          0,
          0,
          2,
          4,
          0,
          1,
          3,
          8,
          4,
          0
         ],
         "b": [
          8,
          1,
          4,
          0,
          0,
          4,
          0,
          0,
          4,
          4,
          0
         ],
         "c": [
          32,
          0,
          4,
          1,
          4,
          6,
          8,
          0,
          12,
          8,
          8
         ],
         "cliponaxis": false,
         "hoverinfo": "text",
         "hoverlabel": {
          "font": {
           "size": 14
          }
         },
         "hovertext": [
          "Li<sub>5</sub>FeO<sub>4</sub> (mp-19511-GGA+U) <br>  Formation energy: -2.042 eV/atom <br>  (Stable)<br><br> Li: 0.5<br> Fe: 0.1<br> O: 0.4",
          "Fe (mp-13-GGA) <br>  Formation energy: 0.0 eV/atom <br>  (Stable)<br><br> Li: 0.0<br> Fe: 1.0<br> O: 0.0",
          "FeO (mp-1274279-GGA+U) <br>  Formation energy: -1.482 eV/atom <br>  (Stable)<br><br> Li: 0.0<br> Fe: 0.5<br> O: 0.5",
          "Li<sub>2</sub>O (mp-1960-GGA) <br>  Formation energy: -2.062 eV/atom <br>  (Stable)<br><br> Li: 0.666667<br> Fe: 0.0<br> O: 0.333333",
          "Li<sub>2</sub>O<sub>2</sub> (mp-841-GGA) <br>  Formation energy: -1.65 eV/atom <br>  (Stable)<br><br> Li: 0.5<br> Fe: 0.0<br> O: 0.5",
          "Fe<sub>2</sub>O<sub>3</sub> (mp-19770-GGA+U) <br>  Formation energy: -1.707 eV/atom <br>  (Stable)<br><br> Li: 0.0<br> Fe: 0.4<br> O: 0.6",
          "LiO<sub>8</sub> (mp-1235059-GGA) <br>  Formation energy: -0.427 eV/atom <br>  (Stable)<br><br> Li: 0.111111<br> Fe: 0.0<br> O: 0.888889",
          "Li (mp-1018134-GGA) <br>  Formation energy: 0.0 eV/atom <br>  (Stable)<br><br> Li: 1.0<br> Fe: 0.0<br> O: 0.0",
          "Li<sub>2</sub>FeO<sub>3</sub> (mp-774155-GGA+U) <br>  Formation energy: -1.878 eV/atom <br>  (Stable)<br><br> Li: 0.333333<br> Fe: 0.166667<br> O: 0.5",
          "LiFeO<sub>2</sub> (mp-757614-GGA+U) <br>  Formation energy: -1.945 eV/atom <br>  (Stable)<br><br> Li: 0.25<br> Fe: 0.25<br> O: 0.5",
          "O<sub>2</sub> (mp-12957-GGA) <br>  Formation energy: 0.0 eV/atom <br>  (Stable)<br><br> Li: 0.0<br> Fe: 0.0<br> O: 1.0"
         ],
         "marker": {
          "color": "green",
          "line": {
           "color": "black",
           "width": 2
          },
          "size": 15,
          "symbol": "circle"
         },
         "mode": "markers",
         "name": "Stable",
         "showlegend": true,
         "type": "scatterternary"
        },
        {
         "a": [
          1,
          1,
          68,
          68,
          68,
          68,
          1,
          1,
          4,
          1,
          2,
          8,
          1,
          0,
          0,
          0,
          0,
          0,
          0,
          0,
          0,
          0,
          0,
          0,
          0,
          0,
          0,
          7,
          2,
          3,
          2,
          16,
          10,
          8,
          4,
          13,
          3,
          3,
          15,
          6,
          10,
          10,
          6,
          12,
          4,
          5,
          8,
          20,
          18,
          20,
          10,
          12,
          35,
          2,
          6,
          1,
          2,
          8,
          8,
          3,
          12,
          2,
          3,
          2,
          5,
          1,
          3,
          2,
          6,
          9,
          4,
          8,
          1,
          12,
          24,
          3,
          8,
          16,
          10,
          20,
          12,
          16,
          20,
          32,
          28,
          2,
          8,
          7,
          6,
          2,
          6,
          6,
          6,
          4,
          2,
          18,
          6,
          5,
          2,
          4,
          8,
          1,
          1,
          1,
          3,
          3,
          4,
          1,
          4,
          2,
          6,
          4,
          1,
          7,
          12,
          1,
          2,
          8,
          6,
          16,
          16,
          3,
          6,
          8,
          16,
          16,
          5,
          2,
          14,
          32,
          4,
          1,
          12,
          2,
          4,
          1,
          1,
          12,
          6,
          16,
          4,
          3,
          10,
          8,
          6,
          3,
          7,
          6,
          3,
          5,
          7,
          21,
          5,
          9,
          9,
          6,
          4,
          8,
          20,
          1,
          8,
          11,
          40,
          16,
          12,
          12,
          4,
          12,
          3,
          1,
          18,
          30,
          4,
          12,
          8,
          4,
          1,
          12,
          8,
          6,
          4,
          16,
          2,
          2,
          10,
          4,
          3,
          2,
          4,
          8,
          1,
          1,
          12,
          0,
          0,
          0,
          0,
          0,
          0,
          0,
          0,
          0,
          0,
          0,
          0,
          0,
          0,
          0,
          0,
          0,
          0,
          0,
          0,
          0,
          0,
          0,
          0,
          0,
          0,
          0,
          0,
          0,
          0,
          0,
          0,
          0,
          0,
          0,
          0,
          0,
          0,
          0,
          0,
          0,
          0,
          0,
          0,
          0,
          0,
          0,
          0,
          0,
          0,
          0,
          0,
          0,
          0,
          0,
          0,
          0,
          0,
          0,
          0,
          0,
          0,
          0,
          0,
          0,
          0,
          0,
          0,
          0,
          0,
          0,
          0,
          0,
          0,
          0,
          0,
          0,
          0,
          0,
          0
         ],
         "b": [
          0,
          0,
          0,
          0,
          0,
          0,
          0,
          0,
          0,
          0,
          0,
          0,
          0,
          0,
          0,
          0,
          0,
          0,
          0,
          0,
          0,
          28,
          4,
          2,
          2,
          1,
          4,
          5,
          4,
          2,
          4,
          10,
          21,
          40,
          5,
          2,
          4,
          5,
          2,
          10,
          10,
          10,
          10,
          5,
          6,
          11,
          16,
          4,
          4,
          4,
          6,
          10,
          8,
          16,
          4,
          3,
          4,
          7,
          4,
          3,
          4,
          4,
          2,
          2,
          11,
          3,
          4,
          3,
          7,
          5,
          2,
          4,
          1,
          4,
          4,
          1,
          4,
          8,
          22,
          4,
          4,
          8,
          4,
          8,
          8,
          2,
          16,
          1,
          1,
          6,
          4,
          6,
          6,
          4,
          4,
          12,
          10,
          4,
          4,
          3,
          4,
          2,
          1,
          5,
          4,
          3,
          3,
          23,
          3,
          2,
          6,
          8,
          3,
          3,
          6,
          2,
          16,
          4,
          4,
          10,
          10,
          5,
          4,
          5,
          4,
          2,
          5,
          5,
          6,
          8,
          20,
          5,
          4,
          4,
          4,
          8,
          8,
          4,
          4,
          2,
          8,
          1,
          6,
          14,
          2,
          3,
          5,
          4,
          7,
          7,
          5,
          4,
          5,
          23,
          2,
          5,
          4,
          4,
          4,
          8,
          18,
          4,
          8,
          16,
          4,
          20,
          6,
          4,
          1,
          3,
          4,
          8,
          6,
          4,
          4,
          4,
          2,
          12,
          5,
          6,
          8,
          4,
          6,
          16,
          8,
          8,
          0,
          0,
          0,
          0,
          0,
          0,
          0,
          24,
          24,
          12,
          15,
          16,
          21,
          23,
          16,
          32,
          3,
          12,
          12,
          8,
          5,
          4,
          12,
          2,
          4,
          2,
          2,
          2,
          41,
          13,
          12,
          4,
          12,
          4,
          21,
          12,
          15,
          5,
          12,
          23,
          12,
          2,
          11,
          17,
          23,
          20,
          38,
          14,
          13,
          9,
          10,
          8,
          16,
          20,
          5,
          7,
          6,
          16,
          24,
          12,
          16,
          8,
          6,
          25,
          12,
          43,
          16,
          12,
          12,
          12,
          12,
          24,
          24,
          24,
          8,
          8,
          16,
          8,
          8,
          6,
          12,
          6,
          6,
          16,
          14,
          4,
          64
         ],
         "c": [
          8,
          8,
          34,
          34,
          34,
          34,
          8,
          8,
          4,
          8,
          4,
          4,
          8,
          2,
          2,
          4,
          8,
          2,
          4,
          2,
          8,
          0,
          0,
          0,
          0,
          0,
          0,
          16,
          8,
          6,
          6,
          20,
          32,
          64,
          10,
          12,
          8,
          12,
          12,
          24,
          24,
          24,
          24,
          16,
          12,
          16,
          32,
          16,
          16,
          16,
          16,
          24,
          32,
          24,
          12,
          4,
          6,
          15,
          8,
          8,
          16,
          6,
          6,
          6,
          16,
          6,
          8,
          6,
          15,
          12,
          6,
          12,
          2,
          12,
          16,
          4,
          8,
          20,
          32,
          16,
          12,
          20,
          16,
          28,
          26,
          4,
          32,
          6,
          6,
          8,
          12,
          16,
          16,
          12,
          8,
          36,
          18,
          8,
          8,
          8,
          8,
          3,
          2,
          8,
          8,
          8,
          8,
          32,
          8,
          4,
          16,
          16,
          4,
          10,
          16,
          4,
          24,
          12,
          12,
          20,
          20,
          10,
          12,
          10,
          16,
          12,
          10,
          10,
          16,
          36,
          32,
          8,
          16,
          8,
          8,
          12,
          12,
          12,
          12,
          12,
          16,
          4,
          16,
          24,
          8,
          8,
          12,
          12,
          12,
          12,
          12,
          16,
          12,
          32,
          8,
          12,
          12,
          12,
          16,
          16,
          36,
          12,
          32,
          32,
          12,
          32,
          12,
          12,
          4,
          4,
          16,
          32,
          12,
          16,
          8,
          8,
          3,
          36,
          10,
          16,
          16,
          12,
          12,
          24,
          16,
          16,
          0,
          0,
          0,
          0,
          0,
          0,
          0,
          32,
          32,
          16,
          16,
          18,
          23,
          32,
          24,
          35,
          4,
          16,
          16,
          16,
          7,
          4,
          16,
          2,
          4,
          4,
          2,
          4,
          56,
          14,
          13,
          6,
          16,
          4,
          32,
          12,
          16,
          8,
          16,
          32,
          12,
          2,
          12,
          18,
          25,
          22,
          39,
          16,
          15,
          10,
          11,
          9,
          24,
          32,
          8,
          8,
          8,
          24,
          32,
          16,
          24,
          12,
          8,
          32,
          16,
          64,
          24,
          16,
          16,
          16,
          16,
          32,
          32,
          32,
          16,
          12,
          24,
          12,
          10,
          8,
          16,
          8,
          8,
          24,
          15,
          8,
          96
         ],
         "cliponaxis": false,
         "hoverinfo": "text",
         "hoverlabel": {
          "font": {
           "size": 14
          }
         },
         "hovertext": [
          "LiO<sub>8</sub> (mp-1232999-GGA) <br>  Formation energy: -0.41 eV/atom <br>  Energy Above Hull: (+0.017 eV/atom)<br><br> Li: 0.111111<br> Fe: 0.0<br> O: 0.888889",
          "LiO<sub>8</sub> (mp-1236127-GGA) <br>  Formation energy: -0.411 eV/atom <br>  Energy Above Hull: (+0.016 eV/atom)<br><br> Li: 0.111111<br> Fe: 0.0<br> O: 0.888889",
          "Li<sub>2</sub>O (mp-1245009-GGA) <br>  Formation energy: -1.9 eV/atom <br>  Energy Above Hull: (+0.162 eV/atom)<br><br> Li: 0.666667<br> Fe: 0.0<br> O: 0.333333",
          "Li<sub>2</sub>O (mp-1245092-GGA) <br>  Formation energy: -1.888 eV/atom <br>  Energy Above Hull: (+0.173 eV/atom)<br><br> Li: 0.666667<br> Fe: 0.0<br> O: 0.333333",
          "Li<sub>2</sub>O (mp-1245224-GGA) <br>  Formation energy: -1.912 eV/atom <br>  Energy Above Hull: (+0.15 eV/atom)<br><br> Li: 0.666667<br> Fe: 0.0<br> O: 0.333333",
          "Li<sub>2</sub>O (mp-1245303-GGA) <br>  Formation energy: -1.903 eV/atom <br>  Energy Above Hull: (+0.159 eV/atom)<br><br> Li: 0.666667<br> Fe: 0.0<br> O: 0.333333",
          "LiO<sub>8</sub> (mp-1235252-GGA) <br>  Formation energy: -0.418 eV/atom <br>  Energy Above Hull: (+0.009 eV/atom)<br><br> Li: 0.111111<br> Fe: 0.0<br> O: 0.888889",
          "LiO<sub>8</sub> (mp-1236522-GGA) <br>  Formation energy: -0.357 eV/atom <br>  Energy Above Hull: (+0.07 eV/atom)<br><br> Li: 0.111111<br> Fe: 0.0<br> O: 0.888889",
          "Li<sub>2</sub>O<sub>2</sub> (mp-558312-GGA) <br>  Formation energy: -1.507 eV/atom <br>  Energy Above Hull: (+0.143 eV/atom)<br><br> Li: 0.5<br> Fe: 0.0<br> O: 0.5",
          "LiO<sub>8</sub> (mp-1235185-GGA) <br>  Formation energy: -0.422 eV/atom <br>  Energy Above Hull: (+0.005 eV/atom)<br><br> Li: 0.111111<br> Fe: 0.0<br> O: 0.888889",
          "LiO<sub>2</sub> (mp-1018789-GGA) <br>  Formation energy: -1.043 eV/atom <br>  Energy Above Hull: (+0.083 eV/atom)<br><br> Li: 0.333333<br> Fe: 0.0<br> O: 0.666667",
          "Li<sub>2</sub>O (mp-755894-GGA) <br>  Formation energy: -1.977 eV/atom <br>  Energy Above Hull: (+0.085 eV/atom)<br><br> Li: 0.666667<br> Fe: 0.0<br> O: 0.333333",
          "LiO<sub>8</sub> (mp-1235698-GGA) <br>  Formation energy: -0.359 eV/atom <br>  Energy Above Hull: (+0.068 eV/atom)<br><br> Li: 0.111111<br> Fe: 0.0<br> O: 0.888889",
          "O<sub>2</sub> (mp-1009490-GGA) <br>  Formation energy: 0.002 eV/atom <br>  Energy Above Hull: (+0.002 eV/atom)<br><br> Li: 0.0<br> Fe: 0.0<br> O: 1.0",
          "O<sub>2</sub> (mp-611836-GGA) <br>  Formation energy: 0.01 eV/atom <br>  Energy Above Hull: (+0.01 eV/atom)<br><br> Li: 0.0<br> Fe: 0.0<br> O: 1.0",
          "O<sub>2</sub> (mp-1180036-GGA) <br>  Formation energy: 0.03 eV/atom <br>  Energy Above Hull: (+0.03 eV/atom)<br><br> Li: 0.0<br> Fe: 0.0<br> O: 1.0",
          "O<sub>2</sub> (mp-1087546-GGA) <br>  Formation energy: 0.018 eV/atom <br>  Energy Above Hull: (+0.018 eV/atom)<br><br> Li: 0.0<br> Fe: 0.0<br> O: 1.0",
          "O<sub>2</sub> (mp-610917-GGA) <br>  Formation energy: 0.012 eV/atom <br>  Energy Above Hull: (+0.012 eV/atom)<br><br> Li: 0.0<br> Fe: 0.0<br> O: 1.0",
          "O<sub>2</sub> (mp-1066100-GGA) <br>  Formation energy: 0.126 eV/atom <br>  Energy Above Hull: (+0.126 eV/atom)<br><br> Li: 0.0<br> Fe: 0.0<br> O: 1.0",
          "O<sub>2</sub> (mp-607540-GGA) <br>  Formation energy: 0.121 eV/atom <br>  Energy Above Hull: (+0.121 eV/atom)<br><br> Li: 0.0<br> Fe: 0.0<br> O: 1.0",
          "O<sub>2</sub> (mp-723285-GGA) <br>  Formation energy: 0.001 eV/atom <br>  Energy Above Hull: (+0.001 eV/atom)<br><br> Li: 0.0<br> Fe: 0.0<br> O: 1.0",
          "Fe (mp-1194030-GGA) <br>  Formation energy: 0.175 eV/atom <br>  Energy Above Hull: (+0.175 eV/atom)<br><br> Li: 0.0<br> Fe: 1.0<br> O: 0.0",
          "Fe (mp-1271068-GGA) <br>  Formation energy: 0.017 eV/atom <br>  Energy Above Hull: (+0.017 eV/atom)<br><br> Li: 0.0<br> Fe: 1.0<br> O: 0.0",
          "Fe (mp-1271128-GGA) <br>  Formation energy: 0.099 eV/atom <br>  Energy Above Hull: (+0.099 eV/atom)<br><br> Li: 0.0<br> Fe: 1.0<br> O: 0.0",
          "Fe (mp-136-GGA) <br>  Formation energy: 0.098 eV/atom <br>  Energy Above Hull: (+0.098 eV/atom)<br><br> Li: 0.0<br> Fe: 1.0<br> O: 0.0",
          "Fe (mp-150-GGA) <br>  Formation energy: 0.148 eV/atom <br>  Energy Above Hull: (+0.148 eV/atom)<br><br> Li: 0.0<br> Fe: 1.0<br> O: 0.0",
          "Fe (mp-1271198-GGA) <br>  Formation energy: 0.055 eV/atom <br>  Energy Above Hull: (+0.055 eV/atom)<br><br> Li: 0.0<br> Fe: 1.0<br> O: 0.0",
          "Li<sub>7</sub>Fe<sub>5</sub>O<sub>16</sub> (mp-1176883-GGA+U) <br>  Formation energy: -1.497 eV/atom <br>  Energy Above Hull: (+0.149 eV/atom)<br><br> Li: 0.25<br> Fe: 0.178571<br> O: 0.571429",
          "Li(FeO<sub>2</sub>)<sub>2</sub> (mp-1178108-GGA+U) <br>  Formation energy: -1.583 eV/atom <br>  Energy Above Hull: (+0.141 eV/atom)<br><br> Li: 0.142857<br> Fe: 0.285714<br> O: 0.571429",
          "Li<sub>3</sub>(FeO<sub>3</sub>)<sub>2</sub> (mp-1272244-GGA+U) <br>  Formation energy: -1.665 eV/atom <br>  Energy Above Hull: (+0.071 eV/atom)<br><br> Li: 0.272727<br> Fe: 0.181818<br> O: 0.545455",
          "LiFe<sub>2</sub>O<sub>3</sub> (mp-1282759-GGA+U) <br>  Formation energy: -1.724 eV/atom <br>  Energy Above Hull: (+0.067 eV/atom)<br><br> Li: 0.166667<br> Fe: 0.333333<br> O: 0.5",
          "Li<sub>8</sub>(FeO<sub>2</sub>)<sub>5</sub> (mp-1638858-GGA+U) <br>  Formation energy: -1.803 eV/atom <br>  Energy Above Hull: (+0.1 eV/atom)<br><br> Li: 0.347826<br> Fe: 0.217391<br> O: 0.434783",
          "Li<sub>10</sub>Fe<sub>21</sub>O<sub>32</sub> (mp-685404-GGA+U) <br>  Formation energy: -1.679 eV/atom <br>  Energy Above Hull: (+0.114 eV/atom)<br><br> Li: 0.15873<br> Fe: 0.333333<br> O: 0.507937",
          "LiFe<sub>5</sub>O<sub>8</sub> (mp-706252-GGA+U) <br>  Formation energy: -1.676 eV/atom <br>  Energy Above Hull: (+0.099 eV/atom)<br><br> Li: 0.071429<br> Fe: 0.357143<br> O: 0.571429",
          "Li<sub>4</sub>(FeO<sub>2</sub>)<sub>5</sub> (mp-752950-GGA+U) <br>  Formation energy: -1.81 eV/atom <br>  Energy Above Hull: (+0.053 eV/atom)<br><br> Li: 0.210526<br> Fe: 0.263158<br> O: 0.526316",
          "Li<sub>13</sub>(FeO<sub>6</sub>)<sub>2</sub> (mp-753008-GGA+U) <br>  Formation energy: -1.827 eV/atom <br>  Energy Above Hull: (+0.067 eV/atom)<br><br> Li: 0.481481<br> Fe: 0.074074<br> O: 0.444444",
          "Li<sub>3</sub>(FeO<sub>2</sub>)<sub>4</sub> (mp-753083-GGA+U) <br>  Formation energy: -1.719 eV/atom <br>  Energy Above Hull: (+0.123 eV/atom)<br><br> Li: 0.2<br> Fe: 0.266667<br> O: 0.533333",
          "Li<sub>3</sub>Fe<sub>5</sub>O<sub>12</sub> (mp-755806-GGA+U) <br>  Formation energy: -1.455 eV/atom <br>  Energy Above Hull: (+0.146 eV/atom)<br><br> Li: 0.15<br> Fe: 0.25<br> O: 0.6",
          "Li<sub>15</sub>(FeO<sub>6</sub>)<sub>2</sub> (mp-758099-GGA+U) <br>  Formation energy: -1.912 eV/atom <br>  Energy Above Hull: (+0.051 eV/atom)<br><br> Li: 0.517241<br> Fe: 0.068966<br> O: 0.413793",
          "Li<sub>3</sub>Fe<sub>5</sub>O<sub>12</sub> (mp-758559-GGA+U) <br>  Formation energy: -1.447 eV/atom <br>  Energy Above Hull: (+0.154 eV/atom)<br><br> Li: 0.15<br> Fe: 0.25<br> O: 0.6",
          "Li<sub>5</sub>Fe<sub>5</sub>O<sub>12</sub> (mp-758794-GGA+U) <br>  Formation energy: -1.705 eV/atom <br>  Energy Above Hull: (+0.067 eV/atom)<br><br> Li: 0.227273<br> Fe: 0.227273<br> O: 0.545455",
          "Li<sub>5</sub>Fe<sub>5</sub>O<sub>12</sub> (mp-759022-GGA+U) <br>  Formation energy: -1.711 eV/atom <br>  Energy Above Hull: (+0.061 eV/atom)<br><br> Li: 0.227273<br> Fe: 0.227273<br> O: 0.545455",
          "Li<sub>3</sub>Fe<sub>5</sub>O<sub>12</sub> (mp-759319-GGA+U) <br>  Formation energy: -1.455 eV/atom <br>  Energy Above Hull: (+0.145 eV/atom)<br><br> Li: 0.15<br> Fe: 0.25<br> O: 0.6",
          "Li<sub>12</sub>Fe<sub>5</sub>O<sub>16</sub> (mp-760142-GGA+U) <br>  Formation energy: -1.819 eV/atom <br>  Energy Above Hull: (+0.077 eV/atom)<br><br> Li: 0.363636<br> Fe: 0.151515<br> O: 0.484848",
          "Li<sub>2</sub>(FeO<sub>2</sub>)<sub>3</sub> (mp-762575-GGA+U) <br>  Formation energy: -1.728 eV/atom <br>  Energy Above Hull: (+0.076 eV/atom)<br><br> Li: 0.181818<br> Fe: 0.272727<br> O: 0.545455",
          "Li<sub>5</sub>Fe<sub>11</sub>O<sub>16</sub> (mp-762692-GGA+U) <br>  Formation energy: -1.729 eV/atom <br>  Energy Above Hull: (+0.042 eV/atom)<br><br> Li: 0.15625<br> Fe: 0.34375<br> O: 0.5",
          "Li(FeO<sub>2</sub>)<sub>2</sub> (mp-773043-GGA+U) <br>  Formation energy: -1.621 eV/atom <br>  Energy Above Hull: (+0.103 eV/atom)<br><br> Li: 0.142857<br> Fe: 0.285714<br> O: 0.571429",
          "Li<sub>5</sub>FeO<sub>4</sub> (mp-780192-GGA+U) <br>  Formation energy: -1.995 eV/atom <br>  Energy Above Hull: (+0.047 eV/atom)<br><br> Li: 0.5<br> Fe: 0.1<br> O: 0.4",
          "Li<sub>9</sub>(FeO<sub>4</sub>)<sub>2</sub> (mp-780203-GGA+U) <br>  Formation energy: -1.922 eV/atom <br>  Energy Above Hull: (+0.073 eV/atom)<br><br> Li: 0.473684<br> Fe: 0.105263<br> O: 0.421053",
          "Li<sub>5</sub>FeO<sub>4</sub> (mp-780207-GGA+U) <br>  Formation energy: -1.985 eV/atom <br>  Energy Above Hull: (+0.057 eV/atom)<br><br> Li: 0.5<br> Fe: 0.1<br> O: 0.4",
          "Li<sub>5</sub>Fe<sub>3</sub>O<sub>8</sub> (mp-780216-GGA+U) <br>  Formation energy: -1.844 eV/atom <br>  Energy Above Hull: (+0.05 eV/atom)<br><br> Li: 0.3125<br> Fe: 0.1875<br> O: 0.5",
          "Li<sub>6</sub>Fe<sub>5</sub>O<sub>12</sub> (mp-780305-GGA+U) <br>  Formation energy: -1.786 eV/atom <br>  Energy Above Hull: (+0.06 eV/atom)<br><br> Li: 0.26087<br> Fe: 0.217391<br> O: 0.521739",
          "Li<sub>35</sub>(FeO<sub>4</sub>)<sub>8</sub> (mp-850218-GGA+U) <br>  Formation energy: -1.935 eV/atom <br>  Energy Above Hull: (+0.048 eV/atom)<br><br> Li: 0.466667<br> Fe: 0.106667<br> O: 0.426667",
          "Li(Fe<sub>2</sub>O<sub>3</sub>)<sub>4</sub> (mp-997515-GGA+U) <br>  Formation energy: -1.66 eV/atom <br>  Energy Above Hull: (+0.071 eV/atom)<br><br> Li: 0.047619<br> Fe: 0.380952<br> O: 0.571429",
          "Li<sub>3</sub>(FeO<sub>3</sub>)<sub>2</sub> (mp-1286090-GGA+U) <br>  Formation energy: -1.662 eV/atom <br>  Energy Above Hull: (+0.074 eV/atom)<br><br> Li: 0.272727<br> Fe: 0.181818<br> O: 0.545455",
          "LiFe<sub>3</sub>O<sub>4</sub> (mp-773525-GGA+U) <br>  Formation energy: -1.672 eV/atom <br>  Energy Above Hull: (+0.041 eV/atom)<br><br> Li: 0.125<br> Fe: 0.375<br> O: 0.5",
          "LiFe<sub>2</sub>O<sub>3</sub> (mp-1298536-GGA+U) <br>  Formation energy: -1.763 eV/atom <br>  Energy Above Hull: (+0.027 eV/atom)<br><br> Li: 0.166667<br> Fe: 0.333333<br> O: 0.5",
          "Li<sub>8</sub>Fe<sub>7</sub>O<sub>15</sub> (mp-1176945-GGA+U) <br>  Formation energy: -1.86 eV/atom <br>  Energy Above Hull: (+0.071 eV/atom)<br><br> Li: 0.266667<br> Fe: 0.233333<br> O: 0.5",
          "Li<sub>2</sub>FeO<sub>2</sub> (mp-1177943-GGA+U) <br>  Formation energy: -1.836 eV/atom <br>  Energy Above Hull: (+0.044 eV/atom)<br><br> Li: 0.4<br> Fe: 0.2<br> O: 0.4",
          "Li<sub>3</sub>Fe<sub>3</sub>O<sub>8</sub> (mp-1273581-GGA+U) <br>  Formation energy: -1.604 eV/atom <br>  Energy Above Hull: (+0.069 eV/atom)<br><br> Li: 0.214286<br> Fe: 0.214286<br> O: 0.571429",
          "Li<sub>3</sub>FeO<sub>4</sub> (mp-1282942-GGA+U) <br>  Formation energy: -1.762 eV/atom <br>  Energy Above Hull: (+0.059 eV/atom)<br><br> Li: 0.375<br> Fe: 0.125<br> O: 0.5",
          "LiFe<sub>2</sub>O<sub>3</sub> (mp-1309364-GGA+U) <br>  Formation energy: -1.748 eV/atom <br>  Energy Above Hull: (+0.043 eV/atom)<br><br> Li: 0.166667<br> Fe: 0.333333<br> O: 0.5",
          "Li<sub>3</sub>(FeO<sub>3</sub>)<sub>2</sub> (mp-752654-GGA+U) <br>  Formation energy: -1.667 eV/atom <br>  Energy Above Hull: (+0.07 eV/atom)<br><br> Li: 0.272727<br> Fe: 0.181818<br> O: 0.545455",
          "LiFeO<sub>3</sub> (mp-752790-GGA+U) <br>  Formation energy: -1.392 eV/atom <br>  Energy Above Hull: (+0.172 eV/atom)<br><br> Li: 0.2<br> Fe: 0.2<br> O: 0.6",
          "Li<sub>5</sub>Fe<sub>11</sub>O<sub>16</sub> (mp-758105-GGA+U) <br>  Formation energy: -1.721 eV/atom <br>  Energy Above Hull: (+0.05 eV/atom)<br><br> Li: 0.15625<br> Fe: 0.34375<br> O: 0.5",
          "Li(FeO<sub>2</sub>)<sub>3</sub> (mp-758249-GGA+U) <br>  Formation energy: -1.496 eV/atom <br>  Energy Above Hull: (+0.14 eV/atom)<br><br> Li: 0.1<br> Fe: 0.3<br> O: 0.6",
          "Li<sub>3</sub>(FeO<sub>2</sub>)<sub>4</sub> (mp-758469-GGA+U) <br>  Formation energy: -1.744 eV/atom <br>  Energy Above Hull: (+0.098 eV/atom)<br><br> Li: 0.2<br> Fe: 0.266667<br> O: 0.533333",
          "Li<sub>2</sub>(FeO<sub>2</sub>)<sub>3</sub> (mp-758515-GGA+U) <br>  Formation energy: -1.678 eV/atom <br>  Energy Above Hull: (+0.127 eV/atom)<br><br> Li: 0.181818<br> Fe: 0.272727<br> O: 0.545455",
          "Li<sub>6</sub>Fe<sub>7</sub>O<sub>15</sub> (mp-758888-GGA+U) <br>  Formation energy: -1.703 eV/atom <br>  Energy Above Hull: (+0.119 eV/atom)<br><br> Li: 0.214286<br> Fe: 0.25<br> O: 0.535714",
          "Li<sub>9</sub>Fe<sub>5</sub>O<sub>12</sub> (mp-764889-GGA+U) <br>  Formation energy: -1.913 eV/atom <br>  Energy Above Hull: (+0.07 eV/atom)<br><br> Li: 0.346154<br> Fe: 0.192308<br> O: 0.461538",
          "Li<sub>2</sub>FeO<sub>3</sub> (mp-849695-GGA+U) <br>  Formation energy: -1.82 eV/atom <br>  Energy Above Hull: (+0.058 eV/atom)<br><br> Li: 0.333333<br> Fe: 0.166667<br> O: 0.5",
          "Li<sub>2</sub>FeO<sub>3</sub> (mp-887724-GGA+U) <br>  Formation energy: -1.874 eV/atom <br>  Energy Above Hull: (+0.004 eV/atom)<br><br> Li: 0.333333<br> Fe: 0.166667<br> O: 0.5",
          "LiFeO<sub>2</sub> (mp-1222302-GGA+U) <br>  Formation energy: -1.825 eV/atom <br>  Energy Above Hull: (+0.12 eV/atom)<br><br> Li: 0.25<br> Fe: 0.25<br> O: 0.5",
          "Li<sub>3</sub>FeO<sub>3</sub> (mp-771894-GGA+U) <br>  Formation energy: -1.941 eV/atom <br>  Energy Above Hull: (+0.074 eV/atom)<br><br> Li: 0.428571<br> Fe: 0.142857<br> O: 0.428571",
          "Li<sub>6</sub>FeO<sub>4</sub> (mp-756155-GGA+U) <br>  Formation energy: -1.962 eV/atom <br>  Energy Above Hull: (+0.026 eV/atom)<br><br> Li: 0.545455<br> Fe: 0.090909<br> O: 0.363636",
          "Li<sub>3</sub>FeO<sub>4</sub> (mp-754360-GGA+U) <br>  Formation energy: -1.76 eV/atom <br>  Energy Above Hull: (+0.061 eV/atom)<br><br> Li: 0.375<br> Fe: 0.125<br> O: 0.5",
          "Li<sub>2</sub>FeO<sub>2</sub> (mp-1272755-GGA+U) <br>  Formation energy: -1.836 eV/atom <br>  Energy Above Hull: (+0.044 eV/atom)<br><br> Li: 0.4<br> Fe: 0.2<br> O: 0.4",
          "Li<sub>4</sub>Fe<sub>2</sub>O<sub>5</sub> (mp-760830-GGA+U) <br>  Formation energy: -1.941 eV/atom <br>  Energy Above Hull: (+0.048 eV/atom)<br><br> Li: 0.363636<br> Fe: 0.181818<br> O: 0.454545",
          "Li<sub>5</sub>Fe<sub>11</sub>O<sub>16</sub> (mp-766727-GGA+U) <br>  Formation energy: -1.749 eV/atom <br>  Energy Above Hull: (+0.023 eV/atom)<br><br> Li: 0.15625<br> Fe: 0.34375<br> O: 0.5",
          "Li<sub>5</sub>FeO<sub>4</sub> (mp-770834-GGA+U) <br>  Formation energy: -1.996 eV/atom <br>  Energy Above Hull: (+0.046 eV/atom)<br><br> Li: 0.5<br> Fe: 0.1<br> O: 0.4",
          "Li<sub>3</sub>FeO<sub>3</sub> (mp-770885-GGA+U) <br>  Formation energy: -1.946 eV/atom <br>  Energy Above Hull: (+0.069 eV/atom)<br><br> Li: 0.428571<br> Fe: 0.142857<br> O: 0.428571",
          "Li<sub>4</sub>Fe<sub>2</sub>O<sub>5</sub> (mp-770893-GGA+U) <br>  Formation energy: -1.915 eV/atom <br>  Energy Above Hull: (+0.074 eV/atom)<br><br> Li: 0.363636<br> Fe: 0.181818<br> O: 0.454545",
          "Li<sub>5</sub>FeO<sub>4</sub> (mp-770923-GGA+U) <br>  Formation energy: -1.971 eV/atom <br>  Energy Above Hull: (+0.071 eV/atom)<br><br> Li: 0.5<br> Fe: 0.1<br> O: 0.4",
          "Li<sub>8</sub>Fe<sub>2</sub>O<sub>7</sub> (mp-779474-GGA+U) <br>  Formation energy: -1.96 eV/atom <br>  Energy Above Hull: (+0.07 eV/atom)<br><br> Li: 0.470588<br> Fe: 0.117647<br> O: 0.411765",
          "Li<sub>14</sub>Fe<sub>4</sub>O<sub>13</sub> (mp-781016-GGA+U) <br>  Formation energy: -1.924 eV/atom <br>  Energy Above Hull: (+0.099 eV/atom)<br><br> Li: 0.451613<br> Fe: 0.129032<br> O: 0.419355",
          "LiFeO<sub>2</sub> (mp-18782-GGA+U) <br>  Formation energy: -1.925 eV/atom <br>  Energy Above Hull: (+0.02 eV/atom)<br><br> Li: 0.25<br> Fe: 0.25<br> O: 0.5",
          "Li(FeO<sub>2</sub>)<sub>2</sub> (mp-1178122-GGA+U) <br>  Formation energy: -1.623 eV/atom <br>  Energy Above Hull: (+0.101 eV/atom)<br><br> Li: 0.142857<br> Fe: 0.285714<br> O: 0.571429",
          "Li<sub>7</sub>FeO<sub>6</sub> (mp-752471-GGA+U) <br>  Formation energy: -1.876 eV/atom <br>  Energy Above Hull: (+0.054 eV/atom)<br><br> Li: 0.5<br> Fe: 0.071429<br> O: 0.428571",
          "Li<sub>6</sub>FeO<sub>6</sub> (mp-771897-GGA+U) <br>  Formation energy: -1.779 eV/atom <br>  Energy Above Hull: (+0.075 eV/atom)<br><br> Li: 0.461538<br> Fe: 0.076923<br> O: 0.461538",
          "LiFe<sub>3</sub>O<sub>4</sub> (mp-1176726-GGA+U) <br>  Formation energy: -1.674 eV/atom <br>  Energy Above Hull: (+0.039 eV/atom)<br><br> Li: 0.125<br> Fe: 0.375<br> O: 0.5",
          "Li<sub>3</sub>(FeO<sub>3</sub>)<sub>2</sub> (mp-1177753-GGA+U) <br>  Formation energy: -1.667 eV/atom <br>  Energy Above Hull: (+0.069 eV/atom)<br><br> Li: 0.272727<br> Fe: 0.181818<br> O: 0.545455",
          "Li<sub>3</sub>Fe<sub>3</sub>O<sub>8</sub> (mp-1299455-GGA+U) <br>  Formation energy: -1.605 eV/atom <br>  Energy Above Hull: (+0.069 eV/atom)<br><br> Li: 0.214286<br> Fe: 0.214286<br> O: 0.571429",
          "Li<sub>3</sub>Fe<sub>3</sub>O<sub>8</sub> (mp-1308681-GGA+U) <br>  Formation energy: -1.603 eV/atom <br>  Energy Above Hull: (+0.07 eV/atom)<br><br> Li: 0.214286<br> Fe: 0.214286<br> O: 0.571429",
          "LiFeO<sub>3</sub> (mp-752521-GGA+U) <br>  Formation energy: -1.417 eV/atom <br>  Energy Above Hull: (+0.147 eV/atom)<br><br> Li: 0.2<br> Fe: 0.2<br> O: 0.6",
          "Li(FeO<sub>2</sub>)<sub>2</sub> (mp-752935-GGA+U) <br>  Formation energy: -1.614 eV/atom <br>  Energy Above Hull: (+0.11 eV/atom)<br><br> Li: 0.142857<br> Fe: 0.285714<br> O: 0.571429",
          "Li<sub>3</sub>(FeO<sub>3</sub>)<sub>2</sub> (mp-760809-GGA+U) <br>  Formation energy: -1.667 eV/atom <br>  Energy Above Hull: (+0.07 eV/atom)<br><br> Li: 0.272727<br> Fe: 0.181818<br> O: 0.545455",
          "Li<sub>3</sub>Fe<sub>5</sub>O<sub>9</sub> (mp-770655-GGA+U) <br>  Formation energy: -1.768 eV/atom <br>  Energy Above Hull: (+0.107 eV/atom)<br><br> Li: 0.176471<br> Fe: 0.294118<br> O: 0.529412",
          "Li<sub>5</sub>(FeO<sub>2</sub>)<sub>4</sub> (mp-754802-GGA+U) <br>  Formation energy: -1.848 eV/atom <br>  Energy Above Hull: (+0.078 eV/atom)<br><br> Li: 0.294118<br> Fe: 0.235294<br> O: 0.470588",
          "Li(FeO<sub>2</sub>)<sub>2</sub> (mp-754803-GGA+U) <br>  Formation energy: -1.641 eV/atom <br>  Energy Above Hull: (+0.083 eV/atom)<br><br> Li: 0.142857<br> Fe: 0.285714<br> O: 0.571429",
          "Li<sub>4</sub>Fe<sub>3</sub>O<sub>8</sub> (mp-757201-GGA+U) <br>  Formation energy: -1.618 eV/atom <br>  Energy Above Hull: (+0.174 eV/atom)<br><br> Li: 0.266667<br> Fe: 0.2<br> O: 0.533333",
          "Li<sub>2</sub>FeO<sub>2</sub> (mp-754868-GGA+U) <br>  Formation energy: -1.825 eV/atom <br>  Energy Above Hull: (+0.055 eV/atom)<br><br> Li: 0.4<br> Fe: 0.2<br> O: 0.4",
          "LiFe<sub>2</sub>O<sub>3</sub> (mp-756381-GGA+U) <br>  Formation energy: -1.696 eV/atom <br>  Energy Above Hull: (+0.094 eV/atom)<br><br> Li: 0.166667<br> Fe: 0.333333<br> O: 0.5",
          "LiFeO<sub>2</sub> (mp-19419-GGA+U) <br>  Formation energy: -1.87 eV/atom <br>  Energy Above Hull: (+0.075 eV/atom)<br><br> Li: 0.25<br> Fe: 0.25<br> O: 0.5",
          "LiFe<sub>5</sub>O<sub>8</sub> (mp-33551-GGA+U) <br>  Formation energy: -1.639 eV/atom <br>  Energy Above Hull: (+0.137 eV/atom)<br><br> Li: 0.071429<br> Fe: 0.357143<br> O: 0.571429",
          "Li<sub>3</sub>(FeO<sub>2</sub>)<sub>4</sub> (mp-756480-GGA+U) <br>  Formation energy: -1.782 eV/atom <br>  Energy Above Hull: (+0.06 eV/atom)<br><br> Li: 0.2<br> Fe: 0.266667<br> O: 0.533333",
          "Li<sub>3</sub>Fe<sub>3</sub>O<sub>8</sub> (mp-758388-GGA+U) <br>  Formation energy: -1.6 eV/atom <br>  Energy Above Hull: (+0.074 eV/atom)<br><br> Li: 0.214286<br> Fe: 0.214286<br> O: 0.571429",
          "Li<sub>4</sub>Fe<sub>3</sub>O<sub>8</sub> (mp-771986-GGA+U) <br>  Formation energy: -1.7 eV/atom <br>  Energy Above Hull: (+0.092 eV/atom)<br><br> Li: 0.266667<br> Fe: 0.2<br> O: 0.533333",
          "LiFe<sub>23</sub>O<sub>32</sub> (mp-773010-GGA+U) <br>  Formation energy: -1.619 eV/atom <br>  Energy Above Hull: (+0.057 eV/atom)<br><br> Li: 0.017857<br> Fe: 0.410714<br> O: 0.571429",
          "Li<sub>4</sub>Fe<sub>3</sub>O<sub>8</sub> (mp-775127-GGA+U) <br>  Formation energy: -1.725 eV/atom <br>  Energy Above Hull: (+0.067 eV/atom)<br><br> Li: 0.266667<br> Fe: 0.2<br> O: 0.533333",
          "LiFeO<sub>2</sub> (mp-754977-GGA+U) <br>  Formation energy: -1.906 eV/atom <br>  Energy Above Hull: (+0.039 eV/atom)<br><br> Li: 0.25<br> Fe: 0.25<br> O: 0.5",
          "Li<sub>3</sub>Fe<sub>3</sub>O<sub>8</sub> (mp-756955-GGA+U) <br>  Formation energy: -1.564 eV/atom <br>  Energy Above Hull: (+0.109 eV/atom)<br><br> Li: 0.214286<br> Fe: 0.214286<br> O: 0.571429",
          "Li(FeO<sub>2</sub>)<sub>2</sub> (mp-771057-GGA+U) <br>  Formation energy: -1.585 eV/atom <br>  Energy Above Hull: (+0.139 eV/atom)<br><br> Li: 0.142857<br> Fe: 0.285714<br> O: 0.571429",
          "LiFe<sub>3</sub>O<sub>4</sub> (mp-1101736-GGA+U) <br>  Formation energy: -1.674 eV/atom <br>  Energy Above Hull: (+0.039 eV/atom)<br><br> Li: 0.125<br> Fe: 0.375<br> O: 0.5",
          "Li<sub>7</sub>Fe<sub>3</sub>O<sub>10</sub> (mp-1176887-GGA+U) <br>  Formation energy: -1.772 eV/atom <br>  Energy Above Hull: (+0.083 eV/atom)<br><br> Li: 0.35<br> Fe: 0.15<br> O: 0.5",
          "Li<sub>6</sub>Fe<sub>3</sub>O<sub>8</sub> (mp-1177119-GGA+U) <br>  Formation energy: -1.838 eV/atom <br>  Energy Above Hull: (+0.112 eV/atom)<br><br> Li: 0.352941<br> Fe: 0.176471<br> O: 0.470588",
          "Li(FeO<sub>2</sub>)<sub>2</sub> (mp-1178103-GGA+U) <br>  Formation energy: -1.641 eV/atom <br>  Energy Above Hull: (+0.083 eV/atom)<br><br> Li: 0.142857<br> Fe: 0.285714<br> O: 0.571429",
          "Li(Fe<sub>2</sub>O<sub>3</sub>)<sub>4</sub> (mp-1178121-GGA+U) <br>  Formation energy: -1.663 eV/atom <br>  Energy Above Hull: (+0.068 eV/atom)<br><br> Li: 0.047619<br> Fe: 0.380952<br> O: 0.571429",
          "Li<sub>2</sub>FeO<sub>3</sub> (mp-1303136-GGA+U) <br>  Formation energy: -1.877 eV/atom <br>  Energy Above Hull: (+0.001 eV/atom)<br><br> Li: 0.333333<br> Fe: 0.166667<br> O: 0.5",
          "Li<sub>3</sub>(FeO<sub>3</sub>)<sub>2</sub> (mp-1305099-GGA+U) <br>  Formation energy: -1.666 eV/atom <br>  Energy Above Hull: (+0.07 eV/atom)<br><br> Li: 0.272727<br> Fe: 0.181818<br> O: 0.545455",
          "Li<sub>8</sub>(FeO<sub>2</sub>)<sub>5</sub> (mp-1643420-GGA+U) <br>  Formation energy: -1.806 eV/atom <br>  Energy Above Hull: (+0.097 eV/atom)<br><br> Li: 0.347826<br> Fe: 0.217391<br> O: 0.434783",
          "Li<sub>8</sub>(FeO<sub>2</sub>)<sub>5</sub> (mp-1643829-GGA+U) <br>  Formation energy: -1.804 eV/atom <br>  Energy Above Hull: (+0.099 eV/atom)<br><br> Li: 0.347826<br> Fe: 0.217391<br> O: 0.434783",
          "Li<sub>3</sub>(FeO<sub>2</sub>)<sub>5</sub> (mp-752476-GGA+U) <br>  Formation energy: -1.692 eV/atom <br>  Energy Above Hull: (+0.081 eV/atom)<br><br> Li: 0.166667<br> Fe: 0.277778<br> O: 0.555556",
          "Li<sub>3</sub>(FeO<sub>3</sub>)<sub>2</sub> (mp-753133-GGA+U) <br>  Formation energy: -1.658 eV/atom <br>  Energy Above Hull: (+0.078 eV/atom)<br><br> Li: 0.272727<br> Fe: 0.181818<br> O: 0.545455",
          "Li<sub>8</sub>(FeO<sub>2</sub>)<sub>5</sub> (mp-753255-GGA+U) <br>  Formation energy: -1.82 eV/atom <br>  Energy Above Hull: (+0.083 eV/atom)<br><br> Li: 0.347826<br> Fe: 0.217391<br> O: 0.434783",
          "Li<sub>4</sub>FeO<sub>4</sub> (mp-755232-GGA+U) <br>  Formation energy: -1.875 eV/atom <br>  Energy Above Hull: (+0.069 eV/atom)<br><br> Li: 0.444444<br> Fe: 0.111111<br> O: 0.444444",
          "Li<sub>8</sub>FeO<sub>6</sub> (mp-756356-GGA+U) <br>  Formation energy: -1.964 eV/atom <br>  Energy Above Hull: (+0.029 eV/atom)<br><br> Li: 0.533333<br> Fe: 0.066667<br> O: 0.4",
          "LiFeO<sub>2</sub> (mp-756497-GGA+U) <br>  Formation energy: -1.918 eV/atom <br>  Energy Above Hull: (+0.027 eV/atom)<br><br> Li: 0.25<br> Fe: 0.25<br> O: 0.5",
          "Li<sub>2</sub>(FeO<sub>2</sub>)<sub>5</sub> (mp-762529-GGA+U) <br>  Formation energy: -1.538 eV/atom <br>  Energy Above Hull: (+0.135 eV/atom)<br><br> Li: 0.117647<br> Fe: 0.294118<br> O: 0.588235",
          "Li<sub>7</sub>Fe<sub>3</sub>O<sub>8</sub> (mp-771124-GGA+U) <br>  Formation energy: -1.911 eV/atom <br>  Energy Above Hull: (+0.088 eV/atom)<br><br> Li: 0.388889<br> Fe: 0.166667<br> O: 0.444444",
          "Li<sub>8</sub>Fe<sub>2</sub>O<sub>9</sub> (mp-772983-GGA+U) <br>  Formation energy: -1.844 eV/atom <br>  Energy Above Hull: (+0.017 eV/atom)<br><br> Li: 0.421053<br> Fe: 0.105263<br> O: 0.473684",
          "LiFe<sub>5</sub>O<sub>8</sub> (mp-21735-GGA+U) <br>  Formation energy: -1.712 eV/atom <br>  Energy Above Hull: (+0.063 eV/atom)<br><br> Li: 0.071429<br> Fe: 0.357143<br> O: 0.571429",
          "LiFe<sub>5</sub>O<sub>8</sub> (mp-757153-GGA+U) <br>  Formation energy: -1.628 eV/atom <br>  Energy Above Hull: (+0.147 eV/atom)<br><br> Li: 0.071429<br> Fe: 0.357143<br> O: 0.571429",
          "Li<sub>3</sub>FeO<sub>4</sub> (mp-849528-GGA+U) <br>  Formation energy: -1.805 eV/atom <br>  Energy Above Hull: (+0.016 eV/atom)<br><br> Li: 0.375<br> Fe: 0.125<br> O: 0.5",
          "Li(FeO<sub>2</sub>)<sub>2</sub> (mp-25386-GGA+U) <br>  Formation energy: -1.692 eV/atom <br>  Energy Above Hull: (+0.032 eV/atom)<br><br> Li: 0.142857<br> Fe: 0.285714<br> O: 0.571429",
          "LiFeO<sub>2</sub> (mp-755709-GGA+U) <br>  Formation energy: -1.944 eV/atom <br>  Energy Above Hull: (+0.001 eV/atom)<br><br> Li: 0.25<br> Fe: 0.25<br> O: 0.5",
          "Li(Fe<sub>2</sub>O<sub>3</sub>)<sub>4</sub> (mp-1235675-GGA+U) <br>  Formation energy: -1.556 eV/atom <br>  Energy Above Hull: (+0.174 eV/atom)<br><br> Li: 0.047619<br> Fe: 0.380952<br> O: 0.571429",
          "Li(Fe<sub>2</sub>O<sub>3</sub>)<sub>4</sub> (mp-1235693-GGA+U) <br>  Formation energy: -1.588 eV/atom <br>  Energy Above Hull: (+0.143 eV/atom)<br><br> Li: 0.047619<br> Fe: 0.380952<br> O: 0.571429",
          "Li<sub>3</sub>FeO<sub>3</sub> (mp-1665973-GGA+U) <br>  Formation energy: -1.894 eV/atom <br>  Energy Above Hull: (+0.12 eV/atom)<br><br> Li: 0.428571<br> Fe: 0.142857<br> O: 0.428571",
          "Li<sub>3</sub>(FeO<sub>3</sub>)<sub>2</sub> (mp-755242-GGA+U) <br>  Formation energy: -1.641 eV/atom <br>  Energy Above Hull: (+0.095 eV/atom)<br><br> Li: 0.272727<br> Fe: 0.181818<br> O: 0.545455",
          "Li<sub>8</sub>FeO<sub>6</sub> (mp-763305-GGA+U) <br>  Formation energy: -1.969 eV/atom <br>  Energy Above Hull: (+0.025 eV/atom)<br><br> Li: 0.533333<br> Fe: 0.066667<br> O: 0.4",
          "Li(FeO<sub>2</sub>)<sub>2</sub> (mp-771571-GGA+U) <br>  Formation energy: -1.648 eV/atom <br>  Energy Above Hull: (+0.076 eV/atom)<br><br> Li: 0.142857<br> Fe: 0.285714<br> O: 0.571429",
          "Li<sub>3</sub>FeO<sub>4</sub> (mp-764163-GGA+U) <br>  Formation energy: -1.763 eV/atom <br>  Energy Above Hull: (+0.058 eV/atom)<br><br> Li: 0.375<br> Fe: 0.125<br> O: 0.5",
          "Li<sub>5</sub>Fe<sub>3</sub>O<sub>8</sub> (mp-1177185-GGA+U) <br>  Formation energy: -1.845 eV/atom <br>  Energy Above Hull: (+0.05 eV/atom)<br><br> Li: 0.3125<br> Fe: 0.1875<br> O: 0.5",
          "Li<sub>4</sub>Fe<sub>7</sub>O<sub>12</sub> (mp-759241-GGA+U) <br>  Formation energy: -1.798 eV/atom <br>  Energy Above Hull: (+0.055 eV/atom)<br><br> Li: 0.173913<br> Fe: 0.304348<br> O: 0.521739",
          "Li<sub>3</sub>FeO<sub>4</sub> (mp-1279318-GGA+U) <br>  Formation energy: -1.753 eV/atom <br>  Energy Above Hull: (+0.068 eV/atom)<br><br> Li: 0.375<br> Fe: 0.125<br> O: 0.5",
          "Li<sub>3</sub>Fe<sub>3</sub>O<sub>8</sub> (mp-756816-GGA+U) <br>  Formation energy: -1.523 eV/atom <br>  Energy Above Hull: (+0.15 eV/atom)<br><br> Li: 0.214286<br> Fe: 0.214286<br> O: 0.571429",
          "Li<sub>7</sub>Fe<sub>5</sub>O<sub>12</sub> (mp-1176882-GGA+U) <br>  Formation energy: -1.881 eV/atom <br>  Energy Above Hull: (+0.031 eV/atom)<br><br> Li: 0.291667<br> Fe: 0.208333<br> O: 0.5",
          "Li<sub>3</sub>(FeO<sub>3</sub>)<sub>2</sub> (mp-1276910-GGA+U) <br>  Formation energy: -1.663 eV/atom <br>  Energy Above Hull: (+0.073 eV/atom)<br><br> Li: 0.272727<br> Fe: 0.181818<br> O: 0.545455",
          "Li<sub>3</sub>Fe<sub>7</sub>O<sub>12</sub> (mp-752897-GGA+U) <br>  Formation energy: -1.729 eV/atom <br>  Energy Above Hull: (+0.107 eV/atom)<br><br> Li: 0.136364<br> Fe: 0.318182<br> O: 0.545455",
          "Li<sub>5</sub>Fe<sub>7</sub>O<sub>12</sub> (mp-756856-GGA+U) <br>  Formation energy: -1.843 eV/atom <br>  Energy Above Hull: (+0.025 eV/atom)<br><br> Li: 0.208333<br> Fe: 0.291667<br> O: 0.5",
          "Li<sub>7</sub>Fe<sub>5</sub>O<sub>12</sub> (mp-756862-GGA+U) <br>  Formation energy: -1.896 eV/atom <br>  Energy Above Hull: (+0.016 eV/atom)<br><br> Li: 0.291667<br> Fe: 0.208333<br> O: 0.5",
          "Li<sub>21</sub>(FeO<sub>4</sub>)<sub>4</sub> (mp-769519-GGA+U) <br>  Formation energy: -1.999 eV/atom <br>  Energy Above Hull: (+0.029 eV/atom)<br><br> Li: 0.512195<br> Fe: 0.097561<br> O: 0.390244",
          "Li<sub>5</sub>Fe<sub>5</sub>O<sub>12</sub> (mp-771687-GGA+U) <br>  Formation energy: -1.674 eV/atom <br>  Energy Above Hull: (+0.098 eV/atom)<br><br> Li: 0.227273<br> Fe: 0.227273<br> O: 0.545455",
          "Li<sub>9</sub>Fe<sub>23</sub>O<sub>32</sub> (mp-772996-GGA+U) <br>  Formation energy: -1.703 eV/atom <br>  Energy Above Hull: (+0.039 eV/atom)<br><br> Li: 0.140625<br> Fe: 0.359375<br> O: 0.5",
          "Li<sub>9</sub>(FeO<sub>4</sub>)<sub>2</sub> (mp-774501-GGA+U) <br>  Formation energy: -1.911 eV/atom <br>  Energy Above Hull: (+0.085 eV/atom)<br><br> Li: 0.473684<br> Fe: 0.105263<br> O: 0.421053",
          "Li<sub>6</sub>Fe<sub>5</sub>O<sub>12</sub> (mp-780188-GGA+U) <br>  Formation energy: -1.81 eV/atom <br>  Energy Above Hull: (+0.035 eV/atom)<br><br> Li: 0.26087<br> Fe: 0.217391<br> O: 0.521739",
          "LiFeO<sub>3</sub> (mp-756941-GGA+U) <br>  Formation energy: -1.416 eV/atom <br>  Energy Above Hull: (+0.148 eV/atom)<br><br> Li: 0.2<br> Fe: 0.2<br> O: 0.6",
          "Li<sub>2</sub>FeO<sub>3</sub> (mp-759394-GGA+U) <br>  Formation energy: -1.811 eV/atom <br>  Energy Above Hull: (+0.067 eV/atom)<br><br> Li: 0.333333<br> Fe: 0.166667<br> O: 0.5",
          "Li<sub>5</sub>FeO<sub>4</sub> (mp-779333-GGA+U) <br>  Formation energy: -1.973 eV/atom <br>  Energy Above Hull: (+0.069 eV/atom)<br><br> Li: 0.5<br> Fe: 0.1<br> O: 0.4",
          "Li(FeO<sub>2</sub>)<sub>8</sub> (mp-1236025-GGA+U) <br>  Formation energy: -1.346 eV/atom <br>  Energy Above Hull: (+0.167 eV/atom)<br><br> Li: 0.04<br> Fe: 0.32<br> O: 0.64",
          "Li<sub>4</sub>(FeO<sub>2</sub>)<sub>9</sub> (mp-771396-GGA+U) <br>  Formation energy: -1.572 eV/atom <br>  Energy Above Hull: (+0.124 eV/atom)<br><br> Li: 0.129032<br> Fe: 0.290323<br> O: 0.580645",
          "Li<sub>11</sub>(FeO<sub>3</sub>)<sub>4</sub> (mp-849463-GGA+U) <br>  Formation energy: -1.869 eV/atom <br>  Energy Above Hull: (+0.115 eV/atom)<br><br> Li: 0.407407<br> Fe: 0.148148<br> O: 0.444444",
          "Li<sub>5</sub>FeO<sub>4</sub> (mp-779889-GGA+U) <br>  Formation energy: -1.954 eV/atom <br>  Energy Above Hull: (+0.088 eV/atom)<br><br> Li: 0.5<br> Fe: 0.1<br> O: 0.4",
          "LiFeO<sub>2</sub> (mp-850511-GGA+U) <br>  Formation energy: -1.865 eV/atom <br>  Energy Above Hull: (+0.08 eV/atom)<br><br> Li: 0.25<br> Fe: 0.25<br> O: 0.5",
          "Li<sub>3</sub>FeO<sub>3</sub> (mp-770886-GGA+U) <br>  Formation energy: -1.969 eV/atom <br>  Energy Above Hull: (+0.046 eV/atom)<br><br> Li: 0.428571<br> Fe: 0.142857<br> O: 0.428571",
          "Li<sub>3</sub>Fe<sub>5</sub>O<sub>8</sub> (mp-586092-GGA+U) <br>  Formation energy: -1.778 eV/atom <br>  Energy Above Hull: (+0.051 eV/atom)<br><br> Li: 0.1875<br> Fe: 0.3125<br> O: 0.5",
          "Li<sub>2</sub>(FeO<sub>2</sub>)<sub>3</sub> (mp-1178060-GGA+U) <br>  Formation energy: -1.711 eV/atom <br>  Energy Above Hull: (+0.094 eV/atom)<br><br> Li: 0.181818<br> Fe: 0.272727<br> O: 0.545455",
          "Li<sub>3</sub>FeO<sub>3</sub> (mp-1663732-GGA+U) <br>  Formation energy: -1.936 eV/atom <br>  Energy Above Hull: (+0.078 eV/atom)<br><br> Li: 0.428571<br> Fe: 0.142857<br> O: 0.428571",
          "Li<sub>3</sub>FeO<sub>4</sub> (mp-760335-GGA+U) <br>  Formation energy: -1.764 eV/atom <br>  Energy Above Hull: (+0.057 eV/atom)<br><br> Li: 0.375<br> Fe: 0.125<br> O: 0.5",
          "LiFe<sub>3</sub>O<sub>4</sub> (mp-772508-GGA+U) <br>  Formation energy: -1.627 eV/atom <br>  Energy Above Hull: (+0.086 eV/atom)<br><br> Li: 0.125<br> Fe: 0.375<br> O: 0.5",
          "Li<sub>9</sub>(FeO<sub>4</sub>)<sub>2</sub> (mp-759144-GGA+U) <br>  Formation energy: -1.907 eV/atom <br>  Energy Above Hull: (+0.089 eV/atom)<br><br> Li: 0.473684<br> Fe: 0.105263<br> O: 0.421053",
          "Li<sub>15</sub>(FeO<sub>4</sub>)<sub>4</sub> (mp-766829-GGA+U) <br>  Formation energy: -1.799 eV/atom <br>  Energy Above Hull: (+0.117 eV/atom)<br><br> Li: 0.428571<br> Fe: 0.114286<br> O: 0.457143",
          "Li<sub>2</sub>(FeO<sub>2</sub>)<sub>3</sub> (mp-752883-GGA+U) <br>  Formation energy: -1.742 eV/atom <br>  Energy Above Hull: (+0.063 eV/atom)<br><br> Li: 0.181818<br> Fe: 0.272727<br> O: 0.545455",
          "Li<sub>3</sub>FeO<sub>4</sub> (mp-1276702-GGA+U) <br>  Formation energy: -1.76 eV/atom <br>  Energy Above Hull: (+0.061 eV/atom)<br><br> Li: 0.375<br> Fe: 0.125<br> O: 0.5",
          "Li<sub>2</sub>FeO<sub>2</sub> (mp-755094-GGA+U) <br>  Formation energy: -1.878 eV/atom <br>  Energy Above Hull: (+0.002 eV/atom)<br><br> Li: 0.4<br> Fe: 0.2<br> O: 0.4",
          "LiFeO<sub>2</sub> (mp-756527-GGA+U) <br>  Formation energy: -1.867 eV/atom <br>  Energy Above Hull: (+0.078 eV/atom)<br><br> Li: 0.25<br> Fe: 0.25<br> O: 0.5",
          "LiFe<sub>2</sub>O<sub>3</sub> (mp-2411688-GGA+U) <br>  Formation energy: -1.73 eV/atom <br>  Energy Above Hull: (+0.06 eV/atom)<br><br> Li: 0.166667<br> Fe: 0.333333<br> O: 0.5",
          "LiFeO<sub>3</sub> (mp-760833-GGA+U) <br>  Formation energy: -1.434 eV/atom <br>  Energy Above Hull: (+0.131 eV/atom)<br><br> Li: 0.2<br> Fe: 0.2<br> O: 0.6",
          "Li<sub>8</sub>(FeO<sub>2</sub>)<sub>5</sub> (mp-764936-GGA+U) <br>  Formation energy: -1.798 eV/atom <br>  Energy Above Hull: (+0.105 eV/atom)<br><br> Li: 0.347826<br> Fe: 0.217391<br> O: 0.434783",
          "Li<sub>3</sub>Fe<sub>3</sub>O<sub>8</sub> (mp-1177704-GGA+U) <br>  Formation energy: -1.566 eV/atom <br>  Energy Above Hull: (+0.107 eV/atom)<br><br> Li: 0.214286<br> Fe: 0.214286<br> O: 0.571429",
          "Li(FeO<sub>2</sub>)<sub>2</sub> (mp-1178106-GGA+U) <br>  Formation energy: -1.651 eV/atom <br>  Energy Above Hull: (+0.073 eV/atom)<br><br> Li: 0.142857<br> Fe: 0.285714<br> O: 0.571429",
          "Li<sub>4</sub>FeO<sub>3</sub> (mp-752680-GGA+U) <br>  Formation energy: -1.907 eV/atom <br>  Energy Above Hull: (+0.052 eV/atom)<br><br> Li: 0.5<br> Fe: 0.125<br> O: 0.375",
          "Li(FeO<sub>2</sub>)<sub>3</sub> (mp-753154-GGA+U) <br>  Formation energy: -1.508 eV/atom <br>  Energy Above Hull: (+0.128 eV/atom)<br><br> Li: 0.1<br> Fe: 0.3<br> O: 0.6",
          "Li(Fe<sub>2</sub>O<sub>3</sub>)<sub>4</sub> (mp-758077-GGA+U) <br>  Formation energy: -1.665 eV/atom <br>  Energy Above Hull: (+0.066 eV/atom)<br><br> Li: 0.047619<br> Fe: 0.380952<br> O: 0.571429",
          "Li<sub>5</sub>(FeO<sub>2</sub>)<sub>4</sub> (mp-780312-GGA+U) <br>  Formation energy: -1.849 eV/atom <br>  Energy Above Hull: (+0.077 eV/atom)<br><br> Li: 0.294118<br> Fe: 0.235294<br> O: 0.470588",
          "Li(FeO<sub>2</sub>)<sub>2</sub> (mp-771135-GGA+U) <br>  Formation energy: -1.665 eV/atom <br>  Energy Above Hull: (+0.06 eV/atom)<br><br> Li: 0.142857<br> Fe: 0.285714<br> O: 0.571429",
          "Li (mp-1063005-GGA) <br>  Formation energy: 0.019 eV/atom <br>  Energy Above Hull: (+0.019 eV/atom)<br><br> Li: 1.0<br> Fe: 0.0<br> O: 0.0",
          "Li (mp-10173-GGA) <br>  Formation energy: 0.003 eV/atom <br>  Energy Above Hull: (+0.003 eV/atom)<br><br> Li: 1.0<br> Fe: 0.0<br> O: 0.0",
          "Li (mp-976411-GGA) <br>  Formation energy: 0.003 eV/atom <br>  Energy Above Hull: (+0.003 eV/atom)<br><br> Li: 1.0<br> Fe: 0.0<br> O: 0.0",
          "Li (mp-567337-GGA) <br>  Formation energy: 0.011 eV/atom <br>  Energy Above Hull: (+0.011 eV/atom)<br><br> Li: 1.0<br> Fe: 0.0<br> O: 0.0",
          "Li (mp-51-GGA) <br>  Formation energy: 0.003 eV/atom <br>  Energy Above Hull: (+0.003 eV/atom)<br><br> Li: 1.0<br> Fe: 0.0<br> O: 0.0",
          "Li (mp-135-GGA) <br>  Formation energy: 0.005 eV/atom <br>  Energy Above Hull: (+0.005 eV/atom)<br><br> Li: 1.0<br> Fe: 0.0<br> O: 0.0",
          "Li (mp-1103107-GGA) <br>  Formation energy: 0.055 eV/atom <br>  Energy Above Hull: (+0.055 eV/atom)<br><br> Li: 1.0<br> Fe: 0.0<br> O: 0.0",
          "Fe<sub>3</sub>O<sub>4</sub> (mp-1182249-GGA+U) <br>  Formation energy: -1.593 eV/atom <br>  Energy Above Hull: (+0.05 eV/atom)<br><br> Li: 0.0<br> Fe: 0.428571<br> O: 0.571429",
          "Fe<sub>3</sub>O<sub>4</sub> (mp-1185276-GGA+U) <br>  Formation energy: -1.586 eV/atom <br>  Energy Above Hull: (+0.056 eV/atom)<br><br> Li: 0.0<br> Fe: 0.428571<br> O: 0.571429",
          "Fe<sub>3</sub>O<sub>4</sub> (mp-1271978-GGA+U) <br>  Formation energy: -1.616 eV/atom <br>  Energy Above Hull: (+0.027 eV/atom)<br><br> Li: 0.0<br> Fe: 0.428571<br> O: 0.571429",
          "Fe<sub>15</sub>O<sub>16</sub> (mp-705551-GGA+U) <br>  Formation energy: -1.442 eV/atom <br>  Energy Above Hull: (+0.076 eV/atom)<br><br> Li: 0.0<br> Fe: 0.483871<br> O: 0.516129",
          "Fe<sub>8</sub>O<sub>9</sub> (mp-705588-GGA+U) <br>  Formation energy: -1.499 eV/atom <br>  Energy Above Hull: (+0.049 eV/atom)<br><br> Li: 0.0<br> Fe: 0.470588<br> O: 0.529412",
          "Fe<sub>21</sub>O<sub>23</sub> (mp-706875-GGA+U) <br>  Formation energy: -1.48 eV/atom <br>  Energy Above Hull: (+0.052 eV/atom)<br><br> Li: 0.0<br> Fe: 0.477273<br> O: 0.522727",
          "Fe<sub>23</sub>O<sub>32</sub> (mp-776135-GGA+U) <br>  Formation energy: -1.559 eV/atom <br>  Energy Above Hull: (+0.107 eV/atom)<br><br> Li: 0.0<br> Fe: 0.418182<br> O: 0.581818",
          "Fe<sub>2</sub>O<sub>3</sub> (mp-776606-GGA+U) <br>  Formation energy: -1.584 eV/atom <br>  Energy Above Hull: (+0.123 eV/atom)<br><br> Li: 0.0<br> Fe: 0.4<br> O: 0.6",
          "Fe<sub>32</sub>O<sub>35</sub> (mp-863766-GGA+U) <br>  Formation energy: -1.475 eV/atom <br>  Energy Above Hull: (+0.057 eV/atom)<br><br> Li: 0.0<br> Fe: 0.477612<br> O: 0.522388",
          "Fe<sub>3</sub>O<sub>4</sub> (mp-1181340-GGA+U) <br>  Formation energy: -1.521 eV/atom <br>  Energy Above Hull: (+0.122 eV/atom)<br><br> Li: 0.0<br> Fe: 0.428571<br> O: 0.571429",
          "Fe<sub>3</sub>O<sub>4</sub> (mp-1181546-GGA+U) <br>  Formation energy: -1.569 eV/atom <br>  Energy Above Hull: (+0.073 eV/atom)<br><br> Li: 0.0<br> Fe: 0.428571<br> O: 0.571429",
          "Fe<sub>3</sub>O<sub>4</sub> (mp-1181657-GGA+U) <br>  Formation energy: -1.605 eV/atom <br>  Energy Above Hull: (+0.038 eV/atom)<br><br> Li: 0.0<br> Fe: 0.428571<br> O: 0.571429",
          "FeO<sub>2</sub> (mp-1181766-GGA+U) <br>  Formation energy: -1.242 eV/atom <br>  Energy Above Hull: (+0.18 eV/atom)<br><br> Li: 0.0<br> Fe: 0.333333<br> O: 0.666667",
          "Fe<sub>5</sub>O<sub>7</sub> (mp-1095382-GGA+U) <br>  Formation energy: -1.5 eV/atom <br>  Energy Above Hull: (+0.17 eV/atom)<br><br> Li: 0.0<br> Fe: 0.416667<br> O: 0.583333",
          "FeO (mp-1178232-GGA+U) <br>  Formation energy: -1.469 eV/atom <br>  Energy Above Hull: (+0.012 eV/atom)<br><br> Li: 0.0<br> Fe: 0.5<br> O: 0.5",
          "Fe<sub>3</sub>O<sub>4</sub> (mp-715811-GGA+U) <br>  Formation energy: -1.566 eV/atom <br>  Energy Above Hull: (+0.076 eV/atom)<br><br> Li: 0.0<br> Fe: 0.428571<br> O: 0.571429",
          "FeO (mp-756436-GGA+U) <br>  Formation energy: -1.366 eV/atom <br>  Energy Above Hull: (+0.116 eV/atom)<br><br> Li: 0.0<br> Fe: 0.5<br> O: 0.5",
          "FeO (mp-753682-GGA+U) <br>  Formation energy: -1.394 eV/atom <br>  Energy Above Hull: (+0.087 eV/atom)<br><br> Li: 0.0<br> Fe: 0.5<br> O: 0.5",
          "FeO<sub>2</sub> (mp-850222-GGA+U) <br>  Formation energy: -1.277 eV/atom <br>  Energy Above Hull: (+0.145 eV/atom)<br><br> Li: 0.0<br> Fe: 0.333333<br> O: 0.666667",
          "FeO (mp-715262-GGA+U) <br>  Formation energy: -1.472 eV/atom <br>  Energy Above Hull: (+0.009 eV/atom)<br><br> Li: 0.0<br> Fe: 0.5<br> O: 0.5",
          "FeO<sub>2</sub> (mp-25332-GGA+U) <br>  Formation energy: -1.255 eV/atom <br>  Energy Above Hull: (+0.167 eV/atom)<br><br> Li: 0.0<br> Fe: 0.333333<br> O: 0.666667",
          "Fe<sub>41</sub>O<sub>56</sub> (mp-757565-GGA+U) <br>  Formation energy: -1.571 eV/atom <br>  Energy Above Hull: (+0.085 eV/atom)<br><br> Li: 0.0<br> Fe: 0.42268<br> O: 0.57732",
          "Fe<sub>13</sub>O<sub>14</sub> (mp-705414-GGA+U) <br>  Formation energy: -1.452 eV/atom <br>  Energy Above Hull: (+0.071 eV/atom)<br><br> Li: 0.0<br> Fe: 0.481481<br> O: 0.518519",
          "Fe<sub>12</sub>O<sub>13</sub> (mp-764326-GGA+U) <br>  Formation energy: -1.444 eV/atom <br>  Energy Above Hull: (+0.082 eV/atom)<br><br> Li: 0.0<br> Fe: 0.48<br> O: 0.52",
          "Fe<sub>2</sub>O<sub>3</sub> (mp-1181824-GGA+U) <br>  Formation energy: -1.539 eV/atom <br>  Energy Above Hull: (+0.168 eV/atom)<br><br> Li: 0.0<br> Fe: 0.4<br> O: 0.6",
          "Fe<sub>3</sub>O<sub>4</sub> (mp-1271821-GGA+U) <br>  Formation energy: -1.621 eV/atom <br>  Energy Above Hull: (+0.022 eV/atom)<br><br> Li: 0.0<br> Fe: 0.428571<br> O: 0.571429",
          "FeO (mp-1283030-GGA+U) <br>  Formation energy: -1.467 eV/atom <br>  Energy Above Hull: (+0.014 eV/atom)<br><br> Li: 0.0<br> Fe: 0.5<br> O: 0.5",
          "Fe<sub>21</sub>O<sub>32</sub> (mp-530048-GGA+U) <br>  Formation energy: -1.496 eV/atom <br>  Energy Above Hull: (+0.195 eV/atom)<br><br> Li: 0.0<br> Fe: 0.396226<br> O: 0.603774",
          "FeO (mp-1178247-GGA+U) <br>  Formation energy: -1.37 eV/atom <br>  Energy Above Hull: (+0.111 eV/atom)<br><br> Li: 0.0<br> Fe: 0.5<br> O: 0.5",
          "Fe<sub>15</sub>O<sub>16</sub> (mp-1224936-GGA+U) <br>  Formation energy: -1.434 eV/atom <br>  Energy Above Hull: (+0.083 eV/atom)<br><br> Li: 0.0<br> Fe: 0.483871<br> O: 0.516129",
          "Fe<sub>5</sub>O<sub>8</sub> (mp-1225001-GGA+U) <br>  Formation energy: -1.456 eV/atom <br>  Energy Above Hull: (+0.185 eV/atom)<br><br> Li: 0.0<br> Fe: 0.384615<br> O: 0.615385",
          "Fe<sub>3</sub>O<sub>4</sub> (mp-715558-GGA+U) <br>  Formation energy: -1.567 eV/atom <br>  Energy Above Hull: (+0.076 eV/atom)<br><br> Li: 0.0<br> Fe: 0.428571<br> O: 0.571429",
          "Fe<sub>23</sub>O<sub>32</sub> (mp-774295-GGA+U) <br>  Formation energy: -1.479 eV/atom <br>  Energy Above Hull: (+0.187 eV/atom)<br><br> Li: 0.0<br> Fe: 0.418182<br> O: 0.581818",
          "FeO (mp-849689-GGA+U) <br>  Formation energy: -1.378 eV/atom <br>  Energy Above Hull: (+0.104 eV/atom)<br><br> Li: 0.0<br> Fe: 0.5<br> O: 0.5",
          "FeO (mp-755189-GGA+U) <br>  Formation energy: -1.368 eV/atom <br>  Energy Above Hull: (+0.113 eV/atom)<br><br> Li: 0.0<br> Fe: 0.5<br> O: 0.5",
          "Fe<sub>11</sub>O<sub>12</sub> (mp-705417-GGA+U) <br>  Formation energy: -1.482 eV/atom <br>  Energy Above Hull: (+0.049 eV/atom)<br><br> Li: 0.0<br> Fe: 0.478261<br> O: 0.521739",
          "Fe<sub>17</sub>O<sub>18</sub> (mp-705424-GGA+U) <br>  Formation energy: -1.474 eV/atom <br>  Energy Above Hull: (+0.04 eV/atom)<br><br> Li: 0.0<br> Fe: 0.485714<br> O: 0.514286",
          "Fe<sub>23</sub>O<sub>25</sub> (mp-705553-GGA+U) <br>  Formation energy: -1.479 eV/atom <br>  Energy Above Hull: (+0.05 eV/atom)<br><br> Li: 0.0<br> Fe: 0.479167<br> O: 0.520833",
          "Fe<sub>10</sub>O<sub>11</sub> (mp-705555-GGA+U) <br>  Formation energy: -1.491 eV/atom <br>  Energy Above Hull: (+0.044 eV/atom)<br><br> Li: 0.0<br> Fe: 0.47619<br> O: 0.52381",
          "Fe<sub>38</sub>O<sub>39</sub> (mp-705753-GGA+U) <br>  Formation energy: -1.425 eV/atom <br>  Energy Above Hull: (+0.071 eV/atom)<br><br> Li: 0.0<br> Fe: 0.493506<br> O: 0.506494",
          "Fe<sub>7</sub>O<sub>8</sub> (mp-715333-GGA+U) <br>  Formation energy: -1.494 eV/atom <br>  Energy Above Hull: (+0.063 eV/atom)<br><br> Li: 0.0<br> Fe: 0.466667<br> O: 0.533333",
          "Fe<sub>13</sub>O<sub>15</sub> (mp-756693-GGA+U) <br>  Formation energy: -1.486 eV/atom <br>  Energy Above Hull: (+0.077 eV/atom)<br><br> Li: 0.0<br> Fe: 0.464286<br> O: 0.535714",
          "Fe<sub>9</sub>O<sub>10</sub> (mp-759037-GGA+U) <br>  Formation energy: -1.502 eV/atom <br>  Energy Above Hull: (+0.039 eV/atom)<br><br> Li: 0.0<br> Fe: 0.473684<br> O: 0.526316",
          "Fe<sub>10</sub>O<sub>11</sub> (mp-759504-GGA+U) <br>  Formation energy: -1.479 eV/atom <br>  Energy Above Hull: (+0.056 eV/atom)<br><br> Li: 0.0<br> Fe: 0.47619<br> O: 0.52381",
          "Fe<sub>8</sub>O<sub>9</sub> (mp-763787-GGA+U) <br>  Formation energy: -1.487 eV/atom <br>  Energy Above Hull: (+0.061 eV/atom)<br><br> Li: 0.0<br> Fe: 0.470588<br> O: 0.529412",
          "Fe<sub>2</sub>O<sub>3</sub> (mp-565814-GGA+U) <br>  Formation energy: -1.636 eV/atom <br>  Energy Above Hull: (+0.071 eV/atom)<br><br> Li: 0.0<br> Fe: 0.4<br> O: 0.6",
          "Fe<sub>5</sub>O<sub>8</sub> (mp-510746-GGA+U) <br>  Formation energy: -1.478 eV/atom <br>  Energy Above Hull: (+0.163 eV/atom)<br><br> Li: 0.0<br> Fe: 0.384615<br> O: 0.615385",
          "Fe<sub>5</sub>O<sub>8</sub> (mp-1225007-GGA+U) <br>  Formation energy: -1.46 eV/atom <br>  Energy Above Hull: (+0.182 eV/atom)<br><br> Li: 0.0<br> Fe: 0.384615<br> O: 0.615385",
          "Fe<sub>7</sub>O<sub>8</sub> (mp-32939-GGA+U) <br>  Formation energy: -1.459 eV/atom <br>  Energy Above Hull: (+0.098 eV/atom)<br><br> Li: 0.0<br> Fe: 0.466667<br> O: 0.533333",
          "Fe<sub>3</sub>O<sub>4</sub> (mp-19306-GGA+U) <br>  Formation energy: -1.63 eV/atom <br>  Energy Above Hull: (+0.013 eV/atom)<br><br> Li: 0.0<br> Fe: 0.428571<br> O: 0.571429",
          "Fe<sub>2</sub>O<sub>3</sub> (mp-1356129-GGA+U) <br>  Formation energy: -1.622 eV/atom <br>  Energy Above Hull: (+0.085 eV/atom)<br><br> Li: 0.0<br> Fe: 0.4<br> O: 0.6",
          "Fe<sub>3</sub>O<sub>4</sub> (mp-1181813-GGA+U) <br>  Formation energy: -1.597 eV/atom <br>  Energy Above Hull: (+0.046 eV/atom)<br><br> Li: 0.0<br> Fe: 0.428571<br> O: 0.571429",
          "Fe<sub>3</sub>O<sub>4</sub> (mp-715275-GGA+U) <br>  Formation energy: -1.531 eV/atom <br>  Energy Above Hull: (+0.111 eV/atom)<br><br> Li: 0.0<br> Fe: 0.428571<br> O: 0.571429",
          "Fe<sub>2</sub>O<sub>3</sub> (mp-542896-GGA+U) <br>  Formation energy: -1.591 eV/atom <br>  Energy Above Hull: (+0.116 eV/atom)<br><br> Li: 0.0<br> Fe: 0.4<br> O: 0.6",
          "Fe<sub>2</sub>O<sub>3</sub> (mp-715276-GGA+U) <br>  Formation energy: -1.573 eV/atom <br>  Energy Above Hull: (+0.134 eV/atom)<br><br> Li: 0.0<br> Fe: 0.4<br> O: 0.6",
          "Fe<sub>3</sub>O<sub>4</sub> (mp-715438-GGA+U) <br>  Formation energy: -1.535 eV/atom <br>  Energy Above Hull: (+0.108 eV/atom)<br><br> Li: 0.0<br> Fe: 0.428571<br> O: 0.571429",
          "Fe<sub>25</sub>O<sub>32</sub> (mp-1194978-GGA+U) <br>  Formation energy: -1.437 eV/atom <br>  Energy Above Hull: (+0.183 eV/atom)<br><br> Li: 0.0<br> Fe: 0.438596<br> O: 0.561404",
          "Fe<sub>3</sub>O<sub>4</sub> (mp-1271729-GGA+U) <br>  Formation energy: -1.583 eV/atom <br>  Energy Above Hull: (+0.059 eV/atom)<br><br> Li: 0.0<br> Fe: 0.428571<br> O: 0.571429",
          "Fe<sub>43</sub>O<sub>64</sub> (mp-530050-GGA+U) <br>  Formation energy: -1.587 eV/atom <br>  Energy Above Hull: (+0.116 eV/atom)<br><br> Li: 0.0<br> Fe: 0.401869<br> O: 0.598131",
          "Fe<sub>2</sub>O<sub>3</sub> (mp-715572-GGA+U) <br>  Formation energy: -1.63 eV/atom <br>  Energy Above Hull: (+0.077 eV/atom)<br><br> Li: 0.0<br> Fe: 0.4<br> O: 0.6",
          "Fe<sub>3</sub>O<sub>4</sub> (mp-510252-GGA+U) <br>  Formation energy: -1.57 eV/atom <br>  Energy Above Hull: (+0.072 eV/atom)<br><br> Li: 0.0<br> Fe: 0.428571<br> O: 0.571429",
          "Fe<sub>3</sub>O<sub>4</sub> (mp-716052-GGA+U) <br>  Formation energy: -1.57 eV/atom <br>  Energy Above Hull: (+0.073 eV/atom)<br><br> Li: 0.0<br> Fe: 0.428571<br> O: 0.571429",
          "Fe<sub>3</sub>O<sub>4</sub> (mp-1192788-GGA+U) <br>  Formation energy: -1.536 eV/atom <br>  Energy Above Hull: (+0.106 eV/atom)<br><br> Li: 0.0<br> Fe: 0.428571<br> O: 0.571429",
          "Fe<sub>3</sub>O<sub>4</sub> (mp-505595-GGA+U) <br>  Formation energy: -1.479 eV/atom <br>  Energy Above Hull: (+0.164 eV/atom)<br><br> Li: 0.0<br> Fe: 0.428571<br> O: 0.571429",
          "Fe<sub>3</sub>O<sub>4</sub> (mp-650112-GGA+U) <br>  Formation energy: -1.586 eV/atom <br>  Energy Above Hull: (+0.057 eV/atom)<br><br> Li: 0.0<br> Fe: 0.428571<br> O: 0.571429",
          "Fe<sub>3</sub>O<sub>4</sub> (mp-705416-GGA+U) <br>  Formation energy: -1.499 eV/atom <br>  Energy Above Hull: (+0.143 eV/atom)<br><br> Li: 0.0<br> Fe: 0.428571<br> O: 0.571429",
          "Fe<sub>3</sub>O<sub>4</sub> (mp-1182229-GGA+U) <br>  Formation energy: -1.521 eV/atom <br>  Energy Above Hull: (+0.122 eV/atom)<br><br> Li: 0.0<br> Fe: 0.428571<br> O: 0.571429",
          "FeO<sub>2</sub> (mp-1205429-GGA+U) <br>  Formation energy: -1.236 eV/atom <br>  Energy Above Hull: (+0.186 eV/atom)<br><br> Li: 0.0<br> Fe: 0.333333<br> O: 0.666667",
          "Fe<sub>2</sub>O<sub>3</sub> (mp-510080-GGA+U) <br>  Formation energy: -1.576 eV/atom <br>  Energy Above Hull: (+0.131 eV/atom)<br><br> Li: 0.0<br> Fe: 0.4<br> O: 0.6",
          "Fe<sub>2</sub>O<sub>3</sub> (mp-1178392-GGA+U) <br>  Formation energy: -1.594 eV/atom <br>  Energy Above Hull: (+0.113 eV/atom)<br><br> Li: 0.0<br> Fe: 0.4<br> O: 0.6",
          "Fe<sub>2</sub>O<sub>3</sub> (mp-1205415-GGA+U) <br>  Formation energy: -1.53 eV/atom <br>  Energy Above Hull: (+0.177 eV/atom)<br><br> Li: 0.0<br> Fe: 0.4<br> O: 0.6",
          "Fe<sub>4</sub>O<sub>5</sub> (mp-1188678-GGA+U) <br>  Formation energy: -1.519 eV/atom <br>  Energy Above Hull: (+0.088 eV/atom)<br><br> Li: 0.0<br> Fe: 0.444444<br> O: 0.555556",
          "Fe<sub>3</sub>O<sub>4</sub> (mp-18731-GGA+U) <br>  Formation energy: -1.537 eV/atom <br>  Energy Above Hull: (+0.106 eV/atom)<br><br> Li: 0.0<br> Fe: 0.428571<br> O: 0.571429",
          "Fe<sub>3</sub>O<sub>4</sub> (mp-1181570-GGA+U) <br>  Formation energy: -1.513 eV/atom <br>  Energy Above Hull: (+0.13 eV/atom)<br><br> Li: 0.0<br> Fe: 0.428571<br> O: 0.571429",
          "Fe<sub>3</sub>O<sub>4</sub> (mp-31770-GGA+U) <br>  Formation energy: -1.628 eV/atom <br>  Energy Above Hull: (+0.015 eV/atom)<br><br> Li: 0.0<br> Fe: 0.428571<br> O: 0.571429",
          "Fe<sub>3</sub>O<sub>4</sub> (mp-612405-GGA+U) <br>  Formation energy: -1.468 eV/atom <br>  Energy Above Hull: (+0.175 eV/atom)<br><br> Li: 0.0<br> Fe: 0.428571<br> O: 0.571429",
          "Fe<sub>2</sub>O<sub>3</sub> (mp-705547-GGA+U) <br>  Formation energy: -1.547 eV/atom <br>  Energy Above Hull: (+0.16 eV/atom)<br><br> Li: 0.0<br> Fe: 0.4<br> O: 0.6",
          "Fe<sub>14</sub>O<sub>15</sub> (mp-764417-GGA+U) <br>  Formation energy: -1.462 eV/atom <br>  Energy Above Hull: (+0.058 eV/atom)<br><br> Li: 0.0<br> Fe: 0.482759<br> O: 0.517241",
          "FeO<sub>2</sub> (mp-796324-GGA+U) <br>  Formation energy: -1.243 eV/atom <br>  Energy Above Hull: (+0.18 eV/atom)<br><br> Li: 0.0<br> Fe: 0.333333<br> O: 0.666667",
          "Fe<sub>2</sub>O<sub>3</sub> (mp-1456-GGA+U) <br>  Formation energy: -1.588 eV/atom <br>  Energy Above Hull: (+0.119 eV/atom)<br><br> Li: 0.0<br> Fe: 0.4<br> O: 0.6"
         ],
         "marker": {
          "color": [
           0.017,
           0.016,
           0.162,
           0.173,
           0.15,
           0.159,
           0.009,
           0.07,
           0.143,
           0.005,
           0.083,
           0.085,
           0.068,
           0.002,
           0.01,
           0.03,
           0.018,
           0.012,
           0.126,
           0.121,
           0.001,
           0.175,
           0.017,
           0.099,
           0.098,
           0.148,
           0.055,
           0.149,
           0.141,
           0.071,
           0.067,
           0.1,
           0.114,
           0.099,
           0.053,
           0.067,
           0.123,
           0.146,
           0.051,
           0.154,
           0.067,
           0.061,
           0.145,
           0.077,
           0.076,
           0.042,
           0.103,
           0.047,
           0.073,
           0.057,
           0.05,
           0.06,
           0.048,
           0.071,
           0.074,
           0.041,
           0.027,
           0.071,
           0.044,
           0.069,
           0.059,
           0.043,
           0.07,
           0.172,
           0.05,
           0.14,
           0.098,
           0.127,
           0.119,
           0.07,
           0.058,
           0.004,
           0.12,
           0.074,
           0.026,
           0.061,
           0.044,
           0.048,
           0.023,
           0.046,
           0.069,
           0.074,
           0.071,
           0.07,
           0.099,
           0.02,
           0.101,
           0.054,
           0.075,
           0.039,
           0.069,
           0.069,
           0.07,
           0.147,
           0.11,
           0.07,
           0.107,
           0.078,
           0.083,
           0.174,
           0.055,
           0.094,
           0.075,
           0.137,
           0.06,
           0.074,
           0.092,
           0.057,
           0.067,
           0.039,
           0.109,
           0.139,
           0.039,
           0.083,
           0.112,
           0.083,
           0.068,
           0.001,
           0.07,
           0.097,
           0.099,
           0.081,
           0.078,
           0.083,
           0.069,
           0.029,
           0.027,
           0.135,
           0.088,
           0.017,
           0.063,
           0.147,
           0.016,
           0.032,
           0.001,
           0.174,
           0.143,
           0.12,
           0.095,
           0.025,
           0.076,
           0.058,
           0.05,
           0.055,
           0.068,
           0.15,
           0.031,
           0.073,
           0.107,
           0.025,
           0.016,
           0.029,
           0.098,
           0.039,
           0.085,
           0.035,
           0.148,
           0.067,
           0.069,
           0.167,
           0.124,
           0.115,
           0.088,
           0.08,
           0.046,
           0.051,
           0.094,
           0.078,
           0.057,
           0.086,
           0.089,
           0.117,
           0.063,
           0.061,
           0.002,
           0.078,
           0.06,
           0.131,
           0.105,
           0.107,
           0.073,
           0.052,
           0.128,
           0.066,
           0.077,
           0.06,
           0.019,
           0.003,
           0.003,
           0.011,
           0.003,
           0.005,
           0.055,
           0.05,
           0.056,
           0.027,
           0.076,
           0.049,
           0.052,
           0.107,
           0.123,
           0.057,
           0.122,
           0.073,
           0.038,
           0.18,
           0.17,
           0.012,
           0.076,
           0.116,
           0.087,
           0.145,
           0.009,
           0.167,
           0.085,
           0.071,
           0.082,
           0.168,
           0.022,
           0.014,
           0.195,
           0.111,
           0.083,
           0.185,
           0.076,
           0.187,
           0.104,
           0.113,
           0.049,
           0.04,
           0.05,
           0.044,
           0.071,
           0.063,
           0.077,
           0.039,
           0.056,
           0.061,
           0.071,
           0.163,
           0.182,
           0.098,
           0.013,
           0.085,
           0.046,
           0.111,
           0.116,
           0.134,
           0.108,
           0.183,
           0.059,
           0.116,
           0.077,
           0.072,
           0.073,
           0.106,
           0.164,
           0.057,
           0.143,
           0.122,
           0.186,
           0.131,
           0.113,
           0.177,
           0.088,
           0.106,
           0.13,
           0.015,
           0.175,
           0.16,
           0.058,
           0.18,
           0.119
          ],
          "colorbar": {
           "len": 0.5,
           "thickness": 0.02,
           "thicknessmode": "fraction",
           "title": {
            "text": "Energy Above Hull<br>(eV/atom)"
           },
           "x": 0,
           "xpad": 0,
           "y": 1,
           "yanchor": "top",
           "ypad": 0
          },
          "colorscale": [
           [
            0,
            "#fff5e3"
           ],
           [
            0.5,
            "#f24324"
           ],
           [
            1,
            "#c40000"
           ]
          ],
          "line": {
           "color": "black",
           "width": 1
          },
          "opacity": 0.8,
          "size": 7,
          "symbol": "diamond"
         },
         "mode": "markers",
         "name": "Above Hull",
         "showlegend": true,
         "type": "scatterternary"
        }
       ],
       "layout": {
        "autosize": true,
        "coloraxis": {
         "colorbar": {
          "x": 1,
          "y": 0.05,
          "yanchor": "top"
         }
        },
        "margin": {
         "b": 40,
         "l": 20,
         "r": 20,
         "t": 40
        },
        "paper_bgcolor": "rgba(0,0,0,0)",
        "plot_bgcolor": "rgba(0,0,0,0)",
        "showlegend": true,
        "template": {
         "data": {
          "bar": [
           {
            "error_x": {
             "color": "#2a3f5f"
            },
            "error_y": {
             "color": "#2a3f5f"
            },
            "marker": {
             "line": {
              "color": "#E5ECF6",
              "width": 0.5
             },
             "pattern": {
              "fillmode": "overlay",
              "size": 10,
              "solidity": 0.2
             }
            },
            "type": "bar"
           }
          ],
          "barpolar": [
           {
            "marker": {
             "line": {
              "color": "#E5ECF6",
              "width": 0.5
             },
             "pattern": {
              "fillmode": "overlay",
              "size": 10,
              "solidity": 0.2
             }
            },
            "type": "barpolar"
           }
          ],
          "carpet": [
           {
            "aaxis": {
             "endlinecolor": "#2a3f5f",
             "gridcolor": "white",
             "linecolor": "white",
             "minorgridcolor": "white",
             "startlinecolor": "#2a3f5f"
            },
            "baxis": {
             "endlinecolor": "#2a3f5f",
             "gridcolor": "white",
             "linecolor": "white",
             "minorgridcolor": "white",
             "startlinecolor": "#2a3f5f"
            },
            "type": "carpet"
           }
          ],
          "choropleth": [
           {
            "colorbar": {
             "outlinewidth": 0,
             "ticks": ""
            },
            "type": "choropleth"
           }
          ],
          "contour": [
           {
            "colorbar": {
             "outlinewidth": 0,
             "ticks": ""
            },
            "colorscale": [
             [
              0,
              "#0d0887"
             ],
             [
              0.1111111111111111,
              "#46039f"
             ],
             [
              0.2222222222222222,
              "#7201a8"
             ],
             [
              0.3333333333333333,
              "#9c179e"
             ],
             [
              0.4444444444444444,
              "#bd3786"
             ],
             [
              0.5555555555555556,
              "#d8576b"
             ],
             [
              0.6666666666666666,
              "#ed7953"
             ],
             [
              0.7777777777777778,
              "#fb9f3a"
             ],
             [
              0.8888888888888888,
              "#fdca26"
             ],
             [
              1,
              "#f0f921"
             ]
            ],
            "type": "contour"
           }
          ],
          "contourcarpet": [
           {
            "colorbar": {
             "outlinewidth": 0,
             "ticks": ""
            },
            "type": "contourcarpet"
           }
          ],
          "heatmap": [
           {
            "colorbar": {
             "outlinewidth": 0,
             "ticks": ""
            },
            "colorscale": [
             [
              0,
              "#0d0887"
             ],
             [
              0.1111111111111111,
              "#46039f"
             ],
             [
              0.2222222222222222,
              "#7201a8"
             ],
             [
              0.3333333333333333,
              "#9c179e"
             ],
             [
              0.4444444444444444,
              "#bd3786"
             ],
             [
              0.5555555555555556,
              "#d8576b"
             ],
             [
              0.6666666666666666,
              "#ed7953"
             ],
             [
              0.7777777777777778,
              "#fb9f3a"
             ],
             [
              0.8888888888888888,
              "#fdca26"
             ],
             [
              1,
              "#f0f921"
             ]
            ],
            "type": "heatmap"
           }
          ],
          "heatmapgl": [
           {
            "colorbar": {
             "outlinewidth": 0,
             "ticks": ""
            },
            "colorscale": [
             [
              0,
              "#0d0887"
             ],
             [
              0.1111111111111111,
              "#46039f"
             ],
             [
              0.2222222222222222,
              "#7201a8"
             ],
             [
              0.3333333333333333,
              "#9c179e"
             ],
             [
              0.4444444444444444,
              "#bd3786"
             ],
             [
              0.5555555555555556,
              "#d8576b"
             ],
             [
              0.6666666666666666,
              "#ed7953"
             ],
             [
              0.7777777777777778,
              "#fb9f3a"
             ],
             [
              0.8888888888888888,
              "#fdca26"
             ],
             [
              1,
              "#f0f921"
             ]
            ],
            "type": "heatmapgl"
           }
          ],
          "histogram": [
           {
            "marker": {
             "pattern": {
              "fillmode": "overlay",
              "size": 10,
              "solidity": 0.2
             }
            },
            "type": "histogram"
           }
          ],
          "histogram2d": [
           {
            "colorbar": {
             "outlinewidth": 0,
             "ticks": ""
            },
            "colorscale": [
             [
              0,
              "#0d0887"
             ],
             [
              0.1111111111111111,
              "#46039f"
             ],
             [
              0.2222222222222222,
              "#7201a8"
             ],
             [
              0.3333333333333333,
              "#9c179e"
             ],
             [
              0.4444444444444444,
              "#bd3786"
             ],
             [
              0.5555555555555556,
              "#d8576b"
             ],
             [
              0.6666666666666666,
              "#ed7953"
             ],
             [
              0.7777777777777778,
              "#fb9f3a"
             ],
             [
              0.8888888888888888,
              "#fdca26"
             ],
             [
              1,
              "#f0f921"
             ]
            ],
            "type": "histogram2d"
           }
          ],
          "histogram2dcontour": [
           {
            "colorbar": {
             "outlinewidth": 0,
             "ticks": ""
            },
            "colorscale": [
             [
              0,
              "#0d0887"
             ],
             [
              0.1111111111111111,
              "#46039f"
             ],
             [
              0.2222222222222222,
              "#7201a8"
             ],
             [
              0.3333333333333333,
              "#9c179e"
             ],
             [
              0.4444444444444444,
              "#bd3786"
             ],
             [
              0.5555555555555556,
              "#d8576b"
             ],
             [
              0.6666666666666666,
              "#ed7953"
             ],
             [
              0.7777777777777778,
              "#fb9f3a"
             ],
             [
              0.8888888888888888,
              "#fdca26"
             ],
             [
              1,
              "#f0f921"
             ]
            ],
            "type": "histogram2dcontour"
           }
          ],
          "mesh3d": [
           {
            "colorbar": {
             "outlinewidth": 0,
             "ticks": ""
            },
            "type": "mesh3d"
           }
          ],
          "parcoords": [
           {
            "line": {
             "colorbar": {
              "outlinewidth": 0,
              "ticks": ""
             }
            },
            "type": "parcoords"
           }
          ],
          "pie": [
           {
            "automargin": true,
            "type": "pie"
           }
          ],
          "scatter": [
           {
            "fillpattern": {
             "fillmode": "overlay",
             "size": 10,
             "solidity": 0.2
            },
            "type": "scatter"
           }
          ],
          "scatter3d": [
           {
            "line": {
             "colorbar": {
              "outlinewidth": 0,
              "ticks": ""
             }
            },
            "marker": {
             "colorbar": {
              "outlinewidth": 0,
              "ticks": ""
             }
            },
            "type": "scatter3d"
           }
          ],
          "scattercarpet": [
           {
            "marker": {
             "colorbar": {
              "outlinewidth": 0,
              "ticks": ""
             }
            },
            "type": "scattercarpet"
           }
          ],
          "scattergeo": [
           {
            "marker": {
             "colorbar": {
              "outlinewidth": 0,
              "ticks": ""
             }
            },
            "type": "scattergeo"
           }
          ],
          "scattergl": [
           {
            "marker": {
             "colorbar": {
              "outlinewidth": 0,
              "ticks": ""
             }
            },
            "type": "scattergl"
           }
          ],
          "scattermapbox": [
           {
            "marker": {
             "colorbar": {
              "outlinewidth": 0,
              "ticks": ""
             }
            },
            "type": "scattermapbox"
           }
          ],
          "scatterpolar": [
           {
            "marker": {
             "colorbar": {
              "outlinewidth": 0,
              "ticks": ""
             }
            },
            "type": "scatterpolar"
           }
          ],
          "scatterpolargl": [
           {
            "marker": {
             "colorbar": {
              "outlinewidth": 0,
              "ticks": ""
             }
            },
            "type": "scatterpolargl"
           }
          ],
          "scatterternary": [
           {
            "marker": {
             "colorbar": {
              "outlinewidth": 0,
              "ticks": ""
             }
            },
            "type": "scatterternary"
           }
          ],
          "surface": [
           {
            "colorbar": {
             "outlinewidth": 0,
             "ticks": ""
            },
            "colorscale": [
             [
              0,
              "#0d0887"
             ],
             [
              0.1111111111111111,
              "#46039f"
             ],
             [
              0.2222222222222222,
              "#7201a8"
             ],
             [
              0.3333333333333333,
              "#9c179e"
             ],
             [
              0.4444444444444444,
              "#bd3786"
             ],
             [
              0.5555555555555556,
              "#d8576b"
             ],
             [
              0.6666666666666666,
              "#ed7953"
             ],
             [
              0.7777777777777778,
              "#fb9f3a"
             ],
             [
              0.8888888888888888,
              "#fdca26"
             ],
             [
              1,
              "#f0f921"
             ]
            ],
            "type": "surface"
           }
          ],
          "table": [
           {
            "cells": {
             "fill": {
              "color": "#EBF0F8"
             },
             "line": {
              "color": "white"
             }
            },
            "header": {
             "fill": {
              "color": "#C8D4E3"
             },
             "line": {
              "color": "white"
             }
            },
            "type": "table"
           }
          ]
         },
         "layout": {
          "annotationdefaults": {
           "arrowcolor": "#2a3f5f",
           "arrowhead": 0,
           "arrowwidth": 1
          },
          "autotypenumbers": "strict",
          "coloraxis": {
           "colorbar": {
            "outlinewidth": 0,
            "ticks": ""
           }
          },
          "colorscale": {
           "diverging": [
            [
             0,
             "#8e0152"
            ],
            [
             0.1,
             "#c51b7d"
            ],
            [
             0.2,
             "#de77ae"
            ],
            [
             0.3,
             "#f1b6da"
            ],
            [
             0.4,
             "#fde0ef"
            ],
            [
             0.5,
             "#f7f7f7"
            ],
            [
             0.6,
             "#e6f5d0"
            ],
            [
             0.7,
             "#b8e186"
            ],
            [
             0.8,
             "#7fbc41"
            ],
            [
             0.9,
             "#4d9221"
            ],
            [
             1,
             "#276419"
            ]
           ],
           "sequential": [
            [
             0,
             "#0d0887"
            ],
            [
             0.1111111111111111,
             "#46039f"
            ],
            [
             0.2222222222222222,
             "#7201a8"
            ],
            [
             0.3333333333333333,
             "#9c179e"
            ],
            [
             0.4444444444444444,
             "#bd3786"
            ],
            [
             0.5555555555555556,
             "#d8576b"
            ],
            [
             0.6666666666666666,
             "#ed7953"
            ],
            [
             0.7777777777777778,
             "#fb9f3a"
            ],
            [
             0.8888888888888888,
             "#fdca26"
            ],
            [
             1,
             "#f0f921"
            ]
           ],
           "sequentialminus": [
            [
             0,
             "#0d0887"
            ],
            [
             0.1111111111111111,
             "#46039f"
            ],
            [
             0.2222222222222222,
             "#7201a8"
            ],
            [
             0.3333333333333333,
             "#9c179e"
            ],
            [
             0.4444444444444444,
             "#bd3786"
            ],
            [
             0.5555555555555556,
             "#d8576b"
            ],
            [
             0.6666666666666666,
             "#ed7953"
            ],
            [
             0.7777777777777778,
             "#fb9f3a"
            ],
            [
             0.8888888888888888,
             "#fdca26"
            ],
            [
             1,
             "#f0f921"
            ]
           ]
          },
          "colorway": [
           "#636efa",
           "#EF553B",
           "#00cc96",
           "#ab63fa",
           "#FFA15A",
           "#19d3f3",
           "#FF6692",
           "#B6E880",
           "#FF97FF",
           "#FECB52"
          ],
          "font": {
           "color": "#2a3f5f"
          },
          "geo": {
           "bgcolor": "white",
           "lakecolor": "white",
           "landcolor": "#E5ECF6",
           "showlakes": true,
           "showland": true,
           "subunitcolor": "white"
          },
          "hoverlabel": {
           "align": "left"
          },
          "hovermode": "closest",
          "mapbox": {
           "style": "light"
          },
          "paper_bgcolor": "white",
          "plot_bgcolor": "#E5ECF6",
          "polar": {
           "angularaxis": {
            "gridcolor": "white",
            "linecolor": "white",
            "ticks": ""
           },
           "bgcolor": "#E5ECF6",
           "radialaxis": {
            "gridcolor": "white",
            "linecolor": "white",
            "ticks": ""
           }
          },
          "scene": {
           "xaxis": {
            "backgroundcolor": "#E5ECF6",
            "gridcolor": "white",
            "gridwidth": 2,
            "linecolor": "white",
            "showbackground": true,
            "ticks": "",
            "zerolinecolor": "white"
           },
           "yaxis": {
            "backgroundcolor": "#E5ECF6",
            "gridcolor": "white",
            "gridwidth": 2,
            "linecolor": "white",
            "showbackground": true,
            "ticks": "",
            "zerolinecolor": "white"
           },
           "zaxis": {
            "backgroundcolor": "#E5ECF6",
            "gridcolor": "white",
            "gridwidth": 2,
            "linecolor": "white",
            "showbackground": true,
            "ticks": "",
            "zerolinecolor": "white"
           }
          },
          "shapedefaults": {
           "line": {
            "color": "#2a3f5f"
           }
          },
          "ternary": {
           "aaxis": {
            "gridcolor": "white",
            "linecolor": "white",
            "ticks": ""
           },
           "baxis": {
            "gridcolor": "white",
            "linecolor": "white",
            "ticks": ""
           },
           "bgcolor": "#E5ECF6",
           "caxis": {
            "gridcolor": "white",
            "linecolor": "white",
            "ticks": ""
           }
          },
          "title": {
           "x": 0.05
          },
          "xaxis": {
           "automargin": true,
           "gridcolor": "white",
           "linecolor": "white",
           "ticks": "",
           "title": {
            "standoff": 15
           },
           "zerolinecolor": "white",
           "zerolinewidth": 2
          },
          "yaxis": {
           "automargin": true,
           "gridcolor": "white",
           "linecolor": "white",
           "ticks": "",
           "title": {
            "standoff": 15
           },
           "zerolinecolor": "white",
           "zerolinewidth": 2
          }
         }
        },
        "ternary": {
         "aaxis": {
          "layer": "below traces",
          "showgrid": true,
          "showticklabels": true,
          "tickfont": {
           "color": "rgba(0,0,0,0)",
           "size": 7
          },
          "title": {
           "font": {
            "size": 24
           },
           "text": "Li"
          }
         },
         "baxis": {
          "layer": "below traces",
          "min": 0,
          "showgrid": true,
          "showticklabels": true,
          "tickfont": {
           "color": "rgba(0,0,0,0)",
           "size": 7
          },
          "title": {
           "font": {
            "size": 24
           },
           "text": "Fe"
          }
         },
         "caxis": {
          "layer": "below traces",
          "min": 0,
          "showgrid": true,
          "showticklabels": true,
          "tickfont": {
           "color": "rgba(0,0,0,0)",
           "size": 7
          },
          "title": {
           "font": {
            "size": 24
           },
           "text": "O"
          }
         },
         "sum": 1
        }
       }
      }
     },
     "metadata": {},
     "output_type": "display_data"
    }
   ],
   "source": [
    "pd.get_plot().show()"
   ]
  }
 ],
 "metadata": {
  "kernelspec": {
   "display_name": "matsci",
   "language": "python",
   "name": "python3"
  },
  "language_info": {
   "codemirror_mode": {
    "name": "ipython",
    "version": 3
   },
   "file_extension": ".py",
   "mimetype": "text/x-python",
   "name": "python",
   "nbconvert_exporter": "python",
   "pygments_lexer": "ipython3",
   "version": "3.12.6"
  }
 },
 "nbformat": 4,
 "nbformat_minor": 2
}
