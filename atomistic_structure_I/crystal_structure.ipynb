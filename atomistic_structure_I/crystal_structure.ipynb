{
 "cells": [
  {
   "cell_type": "markdown",
   "metadata": {},
   "source": [
    "# Practical: Crystal Structure\n",
    "```{admonition} Pymatgen\n",
    ":class: info\n",
    "Make sure you have `pymatgen` installed. Please refer to the [installation instructions](../orientation/setup.md#creating-python-virtual-environments).\n",
    "```\n",
    "\n",
    "`pymatgen` (Python Materials Genome) is a Python library for materials analysis. It provides classes to work with crystal structures, molecules, and other materials-related objects. It also provides tools to perform various analyses on these objects.\n",
    "\n",
    "In this practical, we will learn how to use the `pymatgen` library to work with crystal structures. We will learn how to create a crystal structure, visualize it, and perform some basic operations on it. \n",
    "\n",
    "\n",
    "\n",
    "In short words, crystal structure = lattice + basis. We will start from the lattice.\n",
    "\n",
    "## Lattice\n",
    "\n",
    "Crystal structure is a fundamental concept in materials science. It describes the arrangement of atoms in a solid material. The crystal structure of a material can be described by the lattice parameters and the atomic positions within the unit cell.\n",
    "\n",
    "You can use `pymatgen` to create a `Lattice` object. The lattice is defined by three lattice vectors `a`, `b`, and `c`. You can supply lattice vectors as a tuple `(a, b, c)` or as a $3\\times3$ matrix.\n",
    "\n",
    "$$\n",
    "\\begin{pmatrix}\n",
    "a_x & a_y & a_z \\\\\n",
    "b_x & b_y & b_z \\\\\n",
    "c_x & c_y & c_z \\\\\n",
    "\\end{pmatrix}\n",
    "$$\n"
   ]
  },
  {
   "cell_type": "code",
   "execution_count": 3,
   "metadata": {},
   "outputs": [
    {
     "name": "stdout",
     "output_type": "stream",
     "text": [
      "5.430000 0.000000 0.000000\n",
      "-0.000000 5.430000 0.000000\n",
      "0.000000 0.000000 5.430000\n",
      "[2.715 2.715 2.715]\n"
     ]
    }
   ],
   "source": [
    "from pymatgen.core import Lattice\n",
    "\n",
    "# Create a Lattice object\n",
    "lattice = Lattice(matrix = [[5.43, 0, 0],  # ax, ay, az\n",
    "                            [0, 5.43, 0],  # bx, by, bz\n",
    "                            [0, 0, 5.43]]) # cx, cy, cz\n",
    "\n",
    "# Another way to create this Lattice object\n",
    "lattice = Lattice.from_parameters(a=5.43, b=5.43, c=5.43, alpha=90, beta=90, gamma=90)\n",
    "\n",
    "print(lattice)\n",
    "\n",
    "\n",
    "print(lattice.get_cartesian_coords([0.5, 0.5, 0.5]))\n",
    "\n"
   ]
  },
  {
   "cell_type": "markdown",
   "metadata": {},
   "source": []
  },
  {
   "cell_type": "markdown",
   "metadata": {},
   "source": [
    "### Reciprocal Lattice\n",
    "You can also create a reciprocal lattice object from the lattice object. The reciprocal lattice is defined by the reciprocal lattice vectors `a*`, `b*`, and `c*`. The reciprocal lattice vectors are given by the formula:\n",
    "$$\n",
    "\\mathbf{a}^* = 2\\pi \\frac{\\mathbf{b} \\times \\mathbf{c}}{\\mathbf{a} \\cdot (\\mathbf{b} \\times \\mathbf{c})}, \\quad\n",
    "\\mathbf{b}^* = 2\\pi \\frac{\\mathbf{c} \\times \\mathbf{a}}{\\mathbf{a} \\cdot (\\mathbf{b} \\times \\mathbf{c})}, \\quad\n",
    "\\mathbf{c}^* = 2\\pi \\frac{\\mathbf{a} \\times \\mathbf{b}}{\\mathbf{a} \\cdot (\\mathbf{b} \\times \\mathbf{c})}\n",
    "$$\n",
    "\n",
    "### Brillouin Zone\n",
    "The Brillouin zone is a primitive cell in reciprocal space. It is used to describe the behavior of electrons in a solid material. You can create a Brillouin zone object from the lattice object using `lattice.get_brillouin_zone()`. The Brillouin zone object contains the vertices of the Brillouin zone."
   ]
  },
  {
   "cell_type": "code",
   "execution_count": 183,
   "metadata": {},
   "outputs": [
    {
     "name": "stdout",
     "output_type": "stream",
     "text": [
      "reciprocal_lattice = \n",
      "2.418 -0.855 0.000\n",
      "0.000 2.565 0.000\n",
      "-1.209 -0.855 2.094\n",
      "brillouin_zone = [[array([-0.8660254 , -0.61237244, -1.5       ]), array([ 0.8660254 , -1.22474487, -1.5       ]), array([ 0.8660254 ,  0.61237244, -1.5       ]), array([-0.8660254 ,  1.22474487, -1.5       ])], [array([ 0.8660254 ,  0.61237244, -1.5       ]), array([1.73205081e+00, 1.22474487e+00, 9.79779540e-16]), array([ 1.73205081e+00, -6.12372436e-01,  3.74264793e-16]), array([ 0.8660254 , -1.22474487, -1.5       ])], [array([ 0.8660254 ,  0.61237244, -1.5       ]), array([1.73205081e+00, 1.22474487e+00, 9.79779540e-16]), array([-1.13023227e-16,  1.83711731e+00,  4.33485989e-16]), array([-0.8660254 ,  1.22474487, -1.5       ])], [array([-1.73205081e+00,  6.12372436e-01, -7.71917805e-16]), array([-0.8660254 ,  1.22474487, -1.5       ]), array([-0.8660254 , -0.61237244, -1.5       ]), array([-1.73205081e+00, -1.22474487e+00, -6.59932732e-16])], [array([-0.8660254 , -0.61237244, -1.5       ]), array([ 0.8660254 , -1.22474487, -1.5       ]), array([-2.78556218e-16, -1.83711731e+00, -3.27828595e-16]), array([-1.73205081e+00, -1.22474487e+00, -6.59932732e-16])], [array([0.8660254 , 0.61237244, 1.5       ]), array([-0.8660254 ,  1.22474487,  1.5       ]), array([-0.8660254 , -0.61237244,  1.5       ]), array([ 0.8660254 , -1.22474487,  1.5       ])], [array([-2.78556218e-16, -1.83711731e+00, -3.27828595e-16]), array([-1.73205081e+00, -1.22474487e+00, -6.59932732e-16]), array([-0.8660254 , -0.61237244,  1.5       ]), array([ 0.8660254 , -1.22474487,  1.5       ])], [array([-1.73205081e+00,  6.12372436e-01, -7.71917805e-16]), array([-0.8660254 ,  1.22474487,  1.5       ]), array([-0.8660254 , -0.61237244,  1.5       ]), array([-1.73205081e+00, -1.22474487e+00, -6.59932732e-16])], [array([-1.13023227e-16,  1.83711731e+00,  4.33485989e-16]), array([-0.8660254 ,  1.22474487,  1.5       ]), array([-1.73205081e+00,  6.12372436e-01, -7.71917805e-16]), array([-0.8660254 ,  1.22474487, -1.5       ])], [array([ 0.8660254 , -1.22474487, -1.5       ]), array([ 1.73205081e+00, -6.12372436e-01,  3.74264793e-16]), array([ 0.8660254 , -1.22474487,  1.5       ]), array([-2.78556218e-16, -1.83711731e+00, -3.27828595e-16])], [array([1.73205081e+00, 1.22474487e+00, 9.79779540e-16]), array([-1.13023227e-16,  1.83711731e+00,  4.33485989e-16]), array([-0.8660254 ,  1.22474487,  1.5       ]), array([0.8660254 , 0.61237244, 1.5       ])], [array([ 1.73205081e+00, -6.12372436e-01,  3.74264793e-16]), array([1.73205081e+00, 1.22474487e+00, 9.79779540e-16]), array([0.8660254 , 0.61237244, 1.5       ]), array([ 0.8660254 , -1.22474487,  1.5       ])]]\n"
     ]
    },
    {
     "data": {
      "application/vnd.plotly.v1+json": {
       "config": {
        "plotlyServerURL": "https://plot.ly"
       },
       "data": [
        {
         "color": "lightgrey",
         "name": "Facet",
         "opacity": 0.5,
         "type": "mesh3d",
         "x": [
          -0.8660254037844389,
          0.8660254037844383,
          0.8660254037844385,
          -0.8660254037844386
         ],
         "y": [
          -0.6123724356957945,
          -1.224744871391589,
          0.6123724356957948,
          1.2247448713915894
         ],
         "z": [
          -1.5,
          -1.5,
          -1.5,
          -1.5
         ]
        },
        {
         "line": {
          "color": "black",
          "width": 2
         },
         "mode": "lines",
         "showlegend": false,
         "type": "scatter3d",
         "x": [
          -0.8660254037844389,
          0.8660254037844383
         ],
         "y": [
          -0.6123724356957945,
          -1.224744871391589
         ],
         "z": [
          -1.5,
          -1.5
         ]
        },
        {
         "line": {
          "color": "black",
          "width": 2
         },
         "mode": "lines",
         "showlegend": false,
         "type": "scatter3d",
         "x": [
          0.8660254037844383,
          0.8660254037844385
         ],
         "y": [
          -1.224744871391589,
          0.6123724356957948
         ],
         "z": [
          -1.5,
          -1.5
         ]
        },
        {
         "line": {
          "color": "black",
          "width": 2
         },
         "mode": "lines",
         "showlegend": false,
         "type": "scatter3d",
         "x": [
          0.8660254037844385,
          -0.8660254037844386
         ],
         "y": [
          0.6123724356957948,
          1.2247448713915894
         ],
         "z": [
          -1.5,
          -1.5
         ]
        },
        {
         "line": {
          "color": "black",
          "width": 2
         },
         "mode": "lines",
         "showlegend": false,
         "type": "scatter3d",
         "x": [
          -0.8660254037844386,
          -0.8660254037844389
         ],
         "y": [
          1.2247448713915894,
          -0.6123724356957945
         ],
         "z": [
          -1.5,
          -1.5
         ]
        },
        {
         "color": "lightgrey",
         "name": "Facet",
         "opacity": 0.5,
         "type": "mesh3d",
         "x": [
          0.8660254037844385,
          1.7320508075688774,
          1.7320508075688774,
          0.8660254037844383
         ],
         "y": [
          0.6123724356957948,
          1.2247448713915894,
          -0.6123724356957948,
          -1.224744871391589
         ],
         "z": [
          -1.5,
          9.797795395030865e-16,
          3.7426479266319887e-16,
          -1.5
         ]
        },
        {
         "line": {
          "color": "black",
          "width": 2
         },
         "mode": "lines",
         "showlegend": false,
         "type": "scatter3d",
         "x": [
          0.8660254037844385,
          1.7320508075688774
         ],
         "y": [
          0.6123724356957948,
          1.2247448713915894
         ],
         "z": [
          -1.5,
          9.797795395030865e-16
         ]
        },
        {
         "line": {
          "color": "black",
          "width": 2
         },
         "mode": "lines",
         "showlegend": false,
         "type": "scatter3d",
         "x": [
          1.7320508075688774,
          1.7320508075688774
         ],
         "y": [
          1.2247448713915894,
          -0.6123724356957948
         ],
         "z": [
          9.797795395030865e-16,
          3.7426479266319887e-16
         ]
        },
        {
         "line": {
          "color": "black",
          "width": 2
         },
         "mode": "lines",
         "showlegend": false,
         "type": "scatter3d",
         "x": [
          1.7320508075688774,
          0.8660254037844383
         ],
         "y": [
          -0.6123724356957948,
          -1.224744871391589
         ],
         "z": [
          3.7426479266319887e-16,
          -1.5
         ]
        },
        {
         "line": {
          "color": "black",
          "width": 2
         },
         "mode": "lines",
         "showlegend": false,
         "type": "scatter3d",
         "x": [
          0.8660254037844383,
          0.8660254037844385
         ],
         "y": [
          -1.224744871391589,
          0.6123724356957948
         ],
         "z": [
          -1.5,
          -1.5
         ]
        },
        {
         "color": "lightgrey",
         "name": "Facet",
         "opacity": 0.5,
         "type": "mesh3d",
         "x": [
          0.8660254037844385,
          1.7320508075688774,
          -1.130232266658942e-16,
          -0.8660254037844386
         ],
         "y": [
          0.6123724356957948,
          1.2247448713915894,
          1.8371173070873839,
          1.2247448713915894
         ],
         "z": [
          -1.5,
          9.797795395030865e-16,
          4.334859888217475e-16,
          -1.5
         ]
        },
        {
         "line": {
          "color": "black",
          "width": 2
         },
         "mode": "lines",
         "showlegend": false,
         "type": "scatter3d",
         "x": [
          0.8660254037844385,
          1.7320508075688774
         ],
         "y": [
          0.6123724356957948,
          1.2247448713915894
         ],
         "z": [
          -1.5,
          9.797795395030865e-16
         ]
        },
        {
         "line": {
          "color": "black",
          "width": 2
         },
         "mode": "lines",
         "showlegend": false,
         "type": "scatter3d",
         "x": [
          1.7320508075688774,
          -1.130232266658942e-16
         ],
         "y": [
          1.2247448713915894,
          1.8371173070873839
         ],
         "z": [
          9.797795395030865e-16,
          4.334859888217475e-16
         ]
        },
        {
         "line": {
          "color": "black",
          "width": 2
         },
         "mode": "lines",
         "showlegend": false,
         "type": "scatter3d",
         "x": [
          -1.130232266658942e-16,
          -0.8660254037844386
         ],
         "y": [
          1.8371173070873839,
          1.2247448713915894
         ],
         "z": [
          4.334859888217475e-16,
          -1.5
         ]
        },
        {
         "line": {
          "color": "black",
          "width": 2
         },
         "mode": "lines",
         "showlegend": false,
         "type": "scatter3d",
         "x": [
          -0.8660254037844386,
          0.8660254037844385
         ],
         "y": [
          1.2247448713915894,
          0.6123724356957948
         ],
         "z": [
          -1.5,
          -1.5
         ]
        },
        {
         "color": "lightgrey",
         "name": "Facet",
         "opacity": 0.5,
         "type": "mesh3d",
         "x": [
          -1.7320508075688776,
          -0.8660254037844386,
          -0.8660254037844389,
          -1.7320508075688774
         ],
         "y": [
          0.6123724356957946,
          1.2247448713915894,
          -0.6123724356957945,
          -1.224744871391589
         ],
         "z": [
          -7.719178047466898e-16,
          -1.5,
          -1.5,
          -6.599327321061624e-16
         ]
        },
        {
         "line": {
          "color": "black",
          "width": 2
         },
         "mode": "lines",
         "showlegend": false,
         "type": "scatter3d",
         "x": [
          -1.7320508075688776,
          -0.8660254037844386
         ],
         "y": [
          0.6123724356957946,
          1.2247448713915894
         ],
         "z": [
          -7.719178047466898e-16,
          -1.5
         ]
        },
        {
         "line": {
          "color": "black",
          "width": 2
         },
         "mode": "lines",
         "showlegend": false,
         "type": "scatter3d",
         "x": [
          -0.8660254037844386,
          -0.8660254037844389
         ],
         "y": [
          1.2247448713915894,
          -0.6123724356957945
         ],
         "z": [
          -1.5,
          -1.5
         ]
        },
        {
         "line": {
          "color": "black",
          "width": 2
         },
         "mode": "lines",
         "showlegend": false,
         "type": "scatter3d",
         "x": [
          -0.8660254037844389,
          -1.7320508075688774
         ],
         "y": [
          -0.6123724356957945,
          -1.224744871391589
         ],
         "z": [
          -1.5,
          -6.599327321061624e-16
         ]
        },
        {
         "line": {
          "color": "black",
          "width": 2
         },
         "mode": "lines",
         "showlegend": false,
         "type": "scatter3d",
         "x": [
          -1.7320508075688774,
          -1.7320508075688776
         ],
         "y": [
          -1.224744871391589,
          0.6123724356957946
         ],
         "z": [
          -6.599327321061624e-16,
          -7.719178047466898e-16
         ]
        },
        {
         "color": "lightgrey",
         "name": "Facet",
         "opacity": 0.5,
         "type": "mesh3d",
         "x": [
          -0.8660254037844389,
          0.8660254037844383,
          -2.785562182579784e-16,
          -1.7320508075688774
         ],
         "y": [
          -0.6123724356957945,
          -1.224744871391589,
          -1.8371173070873836,
          -1.224744871391589
         ],
         "z": [
          -1.5,
          -1.5,
          -3.2782859489662717e-16,
          -6.599327321061624e-16
         ]
        },
        {
         "line": {
          "color": "black",
          "width": 2
         },
         "mode": "lines",
         "showlegend": false,
         "type": "scatter3d",
         "x": [
          -0.8660254037844389,
          0.8660254037844383
         ],
         "y": [
          -0.6123724356957945,
          -1.224744871391589
         ],
         "z": [
          -1.5,
          -1.5
         ]
        },
        {
         "line": {
          "color": "black",
          "width": 2
         },
         "mode": "lines",
         "showlegend": false,
         "type": "scatter3d",
         "x": [
          0.8660254037844383,
          -2.785562182579784e-16
         ],
         "y": [
          -1.224744871391589,
          -1.8371173070873836
         ],
         "z": [
          -1.5,
          -3.2782859489662717e-16
         ]
        },
        {
         "line": {
          "color": "black",
          "width": 2
         },
         "mode": "lines",
         "showlegend": false,
         "type": "scatter3d",
         "x": [
          -2.785562182579784e-16,
          -1.7320508075688774
         ],
         "y": [
          -1.8371173070873836,
          -1.224744871391589
         ],
         "z": [
          -3.2782859489662717e-16,
          -6.599327321061624e-16
         ]
        },
        {
         "line": {
          "color": "black",
          "width": 2
         },
         "mode": "lines",
         "showlegend": false,
         "type": "scatter3d",
         "x": [
          -1.7320508075688774,
          -0.8660254037844389
         ],
         "y": [
          -1.224744871391589,
          -0.6123724356957945
         ],
         "z": [
          -6.599327321061624e-16,
          -1.5
         ]
        },
        {
         "color": "lightgrey",
         "name": "Facet",
         "opacity": 0.5,
         "type": "mesh3d",
         "x": [
          0.8660254037844385,
          -0.8660254037844386,
          -0.8660254037844385,
          0.8660254037844386
         ],
         "y": [
          0.6123724356957946,
          1.2247448713915892,
          -0.6123724356957947,
          -1.2247448713915892
         ],
         "z": [
          1.5000000000000002,
          1.5000000000000002,
          1.5000000000000002,
          1.5000000000000007
         ]
        },
        {
         "line": {
          "color": "black",
          "width": 2
         },
         "mode": "lines",
         "showlegend": false,
         "type": "scatter3d",
         "x": [
          0.8660254037844385,
          -0.8660254037844386
         ],
         "y": [
          0.6123724356957946,
          1.2247448713915892
         ],
         "z": [
          1.5000000000000002,
          1.5000000000000002
         ]
        },
        {
         "line": {
          "color": "black",
          "width": 2
         },
         "mode": "lines",
         "showlegend": false,
         "type": "scatter3d",
         "x": [
          -0.8660254037844386,
          -0.8660254037844385
         ],
         "y": [
          1.2247448713915892,
          -0.6123724356957947
         ],
         "z": [
          1.5000000000000002,
          1.5000000000000002
         ]
        },
        {
         "line": {
          "color": "black",
          "width": 2
         },
         "mode": "lines",
         "showlegend": false,
         "type": "scatter3d",
         "x": [
          -0.8660254037844385,
          0.8660254037844386
         ],
         "y": [
          -0.6123724356957947,
          -1.2247448713915892
         ],
         "z": [
          1.5000000000000002,
          1.5000000000000007
         ]
        },
        {
         "line": {
          "color": "black",
          "width": 2
         },
         "mode": "lines",
         "showlegend": false,
         "type": "scatter3d",
         "x": [
          0.8660254037844386,
          0.8660254037844385
         ],
         "y": [
          -1.2247448713915892,
          0.6123724356957946
         ],
         "z": [
          1.5000000000000007,
          1.5000000000000002
         ]
        },
        {
         "color": "lightgrey",
         "name": "Facet",
         "opacity": 0.5,
         "type": "mesh3d",
         "x": [
          -2.785562182579784e-16,
          -1.7320508075688774,
          -0.8660254037844385,
          0.8660254037844386
         ],
         "y": [
          -1.8371173070873836,
          -1.224744871391589,
          -0.6123724356957947,
          -1.2247448713915892
         ],
         "z": [
          -3.2782859489662717e-16,
          -6.599327321061624e-16,
          1.5000000000000002,
          1.5000000000000007
         ]
        },
        {
         "line": {
          "color": "black",
          "width": 2
         },
         "mode": "lines",
         "showlegend": false,
         "type": "scatter3d",
         "x": [
          -2.785562182579784e-16,
          -1.7320508075688774
         ],
         "y": [
          -1.8371173070873836,
          -1.224744871391589
         ],
         "z": [
          -3.2782859489662717e-16,
          -6.599327321061624e-16
         ]
        },
        {
         "line": {
          "color": "black",
          "width": 2
         },
         "mode": "lines",
         "showlegend": false,
         "type": "scatter3d",
         "x": [
          -1.7320508075688774,
          -0.8660254037844385
         ],
         "y": [
          -1.224744871391589,
          -0.6123724356957947
         ],
         "z": [
          -6.599327321061624e-16,
          1.5000000000000002
         ]
        },
        {
         "line": {
          "color": "black",
          "width": 2
         },
         "mode": "lines",
         "showlegend": false,
         "type": "scatter3d",
         "x": [
          -0.8660254037844385,
          0.8660254037844386
         ],
         "y": [
          -0.6123724356957947,
          -1.2247448713915892
         ],
         "z": [
          1.5000000000000002,
          1.5000000000000007
         ]
        },
        {
         "line": {
          "color": "black",
          "width": 2
         },
         "mode": "lines",
         "showlegend": false,
         "type": "scatter3d",
         "x": [
          0.8660254037844386,
          -2.785562182579784e-16
         ],
         "y": [
          -1.2247448713915892,
          -1.8371173070873836
         ],
         "z": [
          1.5000000000000007,
          -3.2782859489662717e-16
         ]
        },
        {
         "color": "lightgrey",
         "name": "Facet",
         "opacity": 0.5,
         "type": "mesh3d",
         "x": [
          -1.7320508075688776,
          -0.8660254037844386,
          -0.8660254037844385,
          -1.7320508075688774
         ],
         "y": [
          0.6123724356957946,
          1.2247448713915892,
          -0.6123724356957947,
          -1.224744871391589
         ],
         "z": [
          -7.719178047466898e-16,
          1.5000000000000002,
          1.5000000000000002,
          -6.599327321061624e-16
         ]
        },
        {
         "line": {
          "color": "black",
          "width": 2
         },
         "mode": "lines",
         "showlegend": false,
         "type": "scatter3d",
         "x": [
          -1.7320508075688776,
          -0.8660254037844386
         ],
         "y": [
          0.6123724356957946,
          1.2247448713915892
         ],
         "z": [
          -7.719178047466898e-16,
          1.5000000000000002
         ]
        },
        {
         "line": {
          "color": "black",
          "width": 2
         },
         "mode": "lines",
         "showlegend": false,
         "type": "scatter3d",
         "x": [
          -0.8660254037844386,
          -0.8660254037844385
         ],
         "y": [
          1.2247448713915892,
          -0.6123724356957947
         ],
         "z": [
          1.5000000000000002,
          1.5000000000000002
         ]
        },
        {
         "line": {
          "color": "black",
          "width": 2
         },
         "mode": "lines",
         "showlegend": false,
         "type": "scatter3d",
         "x": [
          -0.8660254037844385,
          -1.7320508075688774
         ],
         "y": [
          -0.6123724356957947,
          -1.224744871391589
         ],
         "z": [
          1.5000000000000002,
          -6.599327321061624e-16
         ]
        },
        {
         "line": {
          "color": "black",
          "width": 2
         },
         "mode": "lines",
         "showlegend": false,
         "type": "scatter3d",
         "x": [
          -1.7320508075688774,
          -1.7320508075688776
         ],
         "y": [
          -1.224744871391589,
          0.6123724356957946
         ],
         "z": [
          -6.599327321061624e-16,
          -7.719178047466898e-16
         ]
        },
        {
         "color": "lightgrey",
         "name": "Facet",
         "opacity": 0.5,
         "type": "mesh3d",
         "x": [
          -1.130232266658942e-16,
          -0.8660254037844386,
          -1.7320508075688776,
          -0.8660254037844386
         ],
         "y": [
          1.8371173070873839,
          1.2247448713915892,
          0.6123724356957946,
          1.2247448713915894
         ],
         "z": [
          4.334859888217475e-16,
          1.5000000000000002,
          -7.719178047466898e-16,
          -1.5
         ]
        },
        {
         "line": {
          "color": "black",
          "width": 2
         },
         "mode": "lines",
         "showlegend": false,
         "type": "scatter3d",
         "x": [
          -1.130232266658942e-16,
          -0.8660254037844386
         ],
         "y": [
          1.8371173070873839,
          1.2247448713915892
         ],
         "z": [
          4.334859888217475e-16,
          1.5000000000000002
         ]
        },
        {
         "line": {
          "color": "black",
          "width": 2
         },
         "mode": "lines",
         "showlegend": false,
         "type": "scatter3d",
         "x": [
          -0.8660254037844386,
          -1.7320508075688776
         ],
         "y": [
          1.2247448713915892,
          0.6123724356957946
         ],
         "z": [
          1.5000000000000002,
          -7.719178047466898e-16
         ]
        },
        {
         "line": {
          "color": "black",
          "width": 2
         },
         "mode": "lines",
         "showlegend": false,
         "type": "scatter3d",
         "x": [
          -1.7320508075688776,
          -0.8660254037844386
         ],
         "y": [
          0.6123724356957946,
          1.2247448713915894
         ],
         "z": [
          -7.719178047466898e-16,
          -1.5
         ]
        },
        {
         "line": {
          "color": "black",
          "width": 2
         },
         "mode": "lines",
         "showlegend": false,
         "type": "scatter3d",
         "x": [
          -0.8660254037844386,
          -1.130232266658942e-16
         ],
         "y": [
          1.2247448713915894,
          1.8371173070873839
         ],
         "z": [
          -1.5,
          4.334859888217475e-16
         ]
        },
        {
         "color": "lightgrey",
         "name": "Facet",
         "opacity": 0.5,
         "type": "mesh3d",
         "x": [
          0.8660254037844383,
          1.7320508075688774,
          0.8660254037844386,
          -2.785562182579784e-16
         ],
         "y": [
          -1.224744871391589,
          -0.6123724356957948,
          -1.2247448713915892,
          -1.8371173070873836
         ],
         "z": [
          -1.5,
          3.7426479266319887e-16,
          1.5000000000000007,
          -3.2782859489662717e-16
         ]
        },
        {
         "line": {
          "color": "black",
          "width": 2
         },
         "mode": "lines",
         "showlegend": false,
         "type": "scatter3d",
         "x": [
          0.8660254037844383,
          1.7320508075688774
         ],
         "y": [
          -1.224744871391589,
          -0.6123724356957948
         ],
         "z": [
          -1.5,
          3.7426479266319887e-16
         ]
        },
        {
         "line": {
          "color": "black",
          "width": 2
         },
         "mode": "lines",
         "showlegend": false,
         "type": "scatter3d",
         "x": [
          1.7320508075688774,
          0.8660254037844386
         ],
         "y": [
          -0.6123724356957948,
          -1.2247448713915892
         ],
         "z": [
          3.7426479266319887e-16,
          1.5000000000000007
         ]
        },
        {
         "line": {
          "color": "black",
          "width": 2
         },
         "mode": "lines",
         "showlegend": false,
         "type": "scatter3d",
         "x": [
          0.8660254037844386,
          -2.785562182579784e-16
         ],
         "y": [
          -1.2247448713915892,
          -1.8371173070873836
         ],
         "z": [
          1.5000000000000007,
          -3.2782859489662717e-16
         ]
        },
        {
         "line": {
          "color": "black",
          "width": 2
         },
         "mode": "lines",
         "showlegend": false,
         "type": "scatter3d",
         "x": [
          -2.785562182579784e-16,
          0.8660254037844383
         ],
         "y": [
          -1.8371173070873836,
          -1.224744871391589
         ],
         "z": [
          -3.2782859489662717e-16,
          -1.5
         ]
        },
        {
         "color": "lightgrey",
         "name": "Facet",
         "opacity": 0.5,
         "type": "mesh3d",
         "x": [
          1.7320508075688774,
          -1.130232266658942e-16,
          -0.8660254037844386,
          0.8660254037844385
         ],
         "y": [
          1.2247448713915894,
          1.8371173070873839,
          1.2247448713915892,
          0.6123724356957946
         ],
         "z": [
          9.797795395030865e-16,
          4.334859888217475e-16,
          1.5000000000000002,
          1.5000000000000002
         ]
        },
        {
         "line": {
          "color": "black",
          "width": 2
         },
         "mode": "lines",
         "showlegend": false,
         "type": "scatter3d",
         "x": [
          1.7320508075688774,
          -1.130232266658942e-16
         ],
         "y": [
          1.2247448713915894,
          1.8371173070873839
         ],
         "z": [
          9.797795395030865e-16,
          4.334859888217475e-16
         ]
        },
        {
         "line": {
          "color": "black",
          "width": 2
         },
         "mode": "lines",
         "showlegend": false,
         "type": "scatter3d",
         "x": [
          -1.130232266658942e-16,
          -0.8660254037844386
         ],
         "y": [
          1.8371173070873839,
          1.2247448713915892
         ],
         "z": [
          4.334859888217475e-16,
          1.5000000000000002
         ]
        },
        {
         "line": {
          "color": "black",
          "width": 2
         },
         "mode": "lines",
         "showlegend": false,
         "type": "scatter3d",
         "x": [
          -0.8660254037844386,
          0.8660254037844385
         ],
         "y": [
          1.2247448713915892,
          0.6123724356957946
         ],
         "z": [
          1.5000000000000002,
          1.5000000000000002
         ]
        },
        {
         "line": {
          "color": "black",
          "width": 2
         },
         "mode": "lines",
         "showlegend": false,
         "type": "scatter3d",
         "x": [
          0.8660254037844385,
          1.7320508075688774
         ],
         "y": [
          0.6123724356957946,
          1.2247448713915894
         ],
         "z": [
          1.5000000000000002,
          9.797795395030865e-16
         ]
        },
        {
         "color": "lightgrey",
         "name": "Facet",
         "opacity": 0.5,
         "type": "mesh3d",
         "x": [
          1.7320508075688774,
          1.7320508075688774,
          0.8660254037844385,
          0.8660254037844386
         ],
         "y": [
          -0.6123724356957948,
          1.2247448713915894,
          0.6123724356957946,
          -1.2247448713915892
         ],
         "z": [
          3.7426479266319887e-16,
          9.797795395030865e-16,
          1.5000000000000002,
          1.5000000000000007
         ]
        },
        {
         "line": {
          "color": "black",
          "width": 2
         },
         "mode": "lines",
         "showlegend": false,
         "type": "scatter3d",
         "x": [
          1.7320508075688774,
          1.7320508075688774
         ],
         "y": [
          -0.6123724356957948,
          1.2247448713915894
         ],
         "z": [
          3.7426479266319887e-16,
          9.797795395030865e-16
         ]
        },
        {
         "line": {
          "color": "black",
          "width": 2
         },
         "mode": "lines",
         "showlegend": false,
         "type": "scatter3d",
         "x": [
          1.7320508075688774,
          0.8660254037844385
         ],
         "y": [
          1.2247448713915894,
          0.6123724356957946
         ],
         "z": [
          9.797795395030865e-16,
          1.5000000000000002
         ]
        },
        {
         "line": {
          "color": "black",
          "width": 2
         },
         "mode": "lines",
         "showlegend": false,
         "type": "scatter3d",
         "x": [
          0.8660254037844385,
          0.8660254037844386
         ],
         "y": [
          0.6123724356957946,
          -1.2247448713915892
         ],
         "z": [
          1.5000000000000002,
          1.5000000000000007
         ]
        },
        {
         "line": {
          "color": "black",
          "width": 2
         },
         "mode": "lines",
         "showlegend": false,
         "type": "scatter3d",
         "x": [
          0.8660254037844386,
          1.7320508075688774
         ],
         "y": [
          -1.2247448713915892,
          -0.6123724356957948
         ],
         "z": [
          1.5000000000000007,
          3.7426479266319887e-16
         ]
        }
       ],
       "layout": {
        "height": 550,
        "margin": {
         "b": 0,
         "l": 0,
         "r": 0,
         "t": 40
        },
        "scene": {
         "xaxis": {
          "title": {
           "text": "X"
          }
         },
         "yaxis": {
          "title": {
           "text": "Y"
          }
         },
         "zaxis": {
          "title": {
           "text": "Z"
          }
         }
        },
        "template": {
         "data": {
          "bar": [
           {
            "error_x": {
             "color": "#2a3f5f"
            },
            "error_y": {
             "color": "#2a3f5f"
            },
            "marker": {
             "line": {
              "color": "#E5ECF6",
              "width": 0.5
             },
             "pattern": {
              "fillmode": "overlay",
              "size": 10,
              "solidity": 0.2
             }
            },
            "type": "bar"
           }
          ],
          "barpolar": [
           {
            "marker": {
             "line": {
              "color": "#E5ECF6",
              "width": 0.5
             },
             "pattern": {
              "fillmode": "overlay",
              "size": 10,
              "solidity": 0.2
             }
            },
            "type": "barpolar"
           }
          ],
          "carpet": [
           {
            "aaxis": {
             "endlinecolor": "#2a3f5f",
             "gridcolor": "white",
             "linecolor": "white",
             "minorgridcolor": "white",
             "startlinecolor": "#2a3f5f"
            },
            "baxis": {
             "endlinecolor": "#2a3f5f",
             "gridcolor": "white",
             "linecolor": "white",
             "minorgridcolor": "white",
             "startlinecolor": "#2a3f5f"
            },
            "type": "carpet"
           }
          ],
          "choropleth": [
           {
            "colorbar": {
             "outlinewidth": 0,
             "ticks": ""
            },
            "type": "choropleth"
           }
          ],
          "contour": [
           {
            "colorbar": {
             "outlinewidth": 0,
             "ticks": ""
            },
            "colorscale": [
             [
              0,
              "#0d0887"
             ],
             [
              0.1111111111111111,
              "#46039f"
             ],
             [
              0.2222222222222222,
              "#7201a8"
             ],
             [
              0.3333333333333333,
              "#9c179e"
             ],
             [
              0.4444444444444444,
              "#bd3786"
             ],
             [
              0.5555555555555556,
              "#d8576b"
             ],
             [
              0.6666666666666666,
              "#ed7953"
             ],
             [
              0.7777777777777778,
              "#fb9f3a"
             ],
             [
              0.8888888888888888,
              "#fdca26"
             ],
             [
              1,
              "#f0f921"
             ]
            ],
            "type": "contour"
           }
          ],
          "contourcarpet": [
           {
            "colorbar": {
             "outlinewidth": 0,
             "ticks": ""
            },
            "type": "contourcarpet"
           }
          ],
          "heatmap": [
           {
            "colorbar": {
             "outlinewidth": 0,
             "ticks": ""
            },
            "colorscale": [
             [
              0,
              "#0d0887"
             ],
             [
              0.1111111111111111,
              "#46039f"
             ],
             [
              0.2222222222222222,
              "#7201a8"
             ],
             [
              0.3333333333333333,
              "#9c179e"
             ],
             [
              0.4444444444444444,
              "#bd3786"
             ],
             [
              0.5555555555555556,
              "#d8576b"
             ],
             [
              0.6666666666666666,
              "#ed7953"
             ],
             [
              0.7777777777777778,
              "#fb9f3a"
             ],
             [
              0.8888888888888888,
              "#fdca26"
             ],
             [
              1,
              "#f0f921"
             ]
            ],
            "type": "heatmap"
           }
          ],
          "heatmapgl": [
           {
            "colorbar": {
             "outlinewidth": 0,
             "ticks": ""
            },
            "colorscale": [
             [
              0,
              "#0d0887"
             ],
             [
              0.1111111111111111,
              "#46039f"
             ],
             [
              0.2222222222222222,
              "#7201a8"
             ],
             [
              0.3333333333333333,
              "#9c179e"
             ],
             [
              0.4444444444444444,
              "#bd3786"
             ],
             [
              0.5555555555555556,
              "#d8576b"
             ],
             [
              0.6666666666666666,
              "#ed7953"
             ],
             [
              0.7777777777777778,
              "#fb9f3a"
             ],
             [
              0.8888888888888888,
              "#fdca26"
             ],
             [
              1,
              "#f0f921"
             ]
            ],
            "type": "heatmapgl"
           }
          ],
          "histogram": [
           {
            "marker": {
             "pattern": {
              "fillmode": "overlay",
              "size": 10,
              "solidity": 0.2
             }
            },
            "type": "histogram"
           }
          ],
          "histogram2d": [
           {
            "colorbar": {
             "outlinewidth": 0,
             "ticks": ""
            },
            "colorscale": [
             [
              0,
              "#0d0887"
             ],
             [
              0.1111111111111111,
              "#46039f"
             ],
             [
              0.2222222222222222,
              "#7201a8"
             ],
             [
              0.3333333333333333,
              "#9c179e"
             ],
             [
              0.4444444444444444,
              "#bd3786"
             ],
             [
              0.5555555555555556,
              "#d8576b"
             ],
             [
              0.6666666666666666,
              "#ed7953"
             ],
             [
              0.7777777777777778,
              "#fb9f3a"
             ],
             [
              0.8888888888888888,
              "#fdca26"
             ],
             [
              1,
              "#f0f921"
             ]
            ],
            "type": "histogram2d"
           }
          ],
          "histogram2dcontour": [
           {
            "colorbar": {
             "outlinewidth": 0,
             "ticks": ""
            },
            "colorscale": [
             [
              0,
              "#0d0887"
             ],
             [
              0.1111111111111111,
              "#46039f"
             ],
             [
              0.2222222222222222,
              "#7201a8"
             ],
             [
              0.3333333333333333,
              "#9c179e"
             ],
             [
              0.4444444444444444,
              "#bd3786"
             ],
             [
              0.5555555555555556,
              "#d8576b"
             ],
             [
              0.6666666666666666,
              "#ed7953"
             ],
             [
              0.7777777777777778,
              "#fb9f3a"
             ],
             [
              0.8888888888888888,
              "#fdca26"
             ],
             [
              1,
              "#f0f921"
             ]
            ],
            "type": "histogram2dcontour"
           }
          ],
          "mesh3d": [
           {
            "colorbar": {
             "outlinewidth": 0,
             "ticks": ""
            },
            "type": "mesh3d"
           }
          ],
          "parcoords": [
           {
            "line": {
             "colorbar": {
              "outlinewidth": 0,
              "ticks": ""
             }
            },
            "type": "parcoords"
           }
          ],
          "pie": [
           {
            "automargin": true,
            "type": "pie"
           }
          ],
          "scatter": [
           {
            "fillpattern": {
             "fillmode": "overlay",
             "size": 10,
             "solidity": 0.2
            },
            "type": "scatter"
           }
          ],
          "scatter3d": [
           {
            "line": {
             "colorbar": {
              "outlinewidth": 0,
              "ticks": ""
             }
            },
            "marker": {
             "colorbar": {
              "outlinewidth": 0,
              "ticks": ""
             }
            },
            "type": "scatter3d"
           }
          ],
          "scattercarpet": [
           {
            "marker": {
             "colorbar": {
              "outlinewidth": 0,
              "ticks": ""
             }
            },
            "type": "scattercarpet"
           }
          ],
          "scattergeo": [
           {
            "marker": {
             "colorbar": {
              "outlinewidth": 0,
              "ticks": ""
             }
            },
            "type": "scattergeo"
           }
          ],
          "scattergl": [
           {
            "marker": {
             "colorbar": {
              "outlinewidth": 0,
              "ticks": ""
             }
            },
            "type": "scattergl"
           }
          ],
          "scattermapbox": [
           {
            "marker": {
             "colorbar": {
              "outlinewidth": 0,
              "ticks": ""
             }
            },
            "type": "scattermapbox"
           }
          ],
          "scatterpolar": [
           {
            "marker": {
             "colorbar": {
              "outlinewidth": 0,
              "ticks": ""
             }
            },
            "type": "scatterpolar"
           }
          ],
          "scatterpolargl": [
           {
            "marker": {
             "colorbar": {
              "outlinewidth": 0,
              "ticks": ""
             }
            },
            "type": "scatterpolargl"
           }
          ],
          "scatterternary": [
           {
            "marker": {
             "colorbar": {
              "outlinewidth": 0,
              "ticks": ""
             }
            },
            "type": "scatterternary"
           }
          ],
          "surface": [
           {
            "colorbar": {
             "outlinewidth": 0,
             "ticks": ""
            },
            "colorscale": [
             [
              0,
              "#0d0887"
             ],
             [
              0.1111111111111111,
              "#46039f"
             ],
             [
              0.2222222222222222,
              "#7201a8"
             ],
             [
              0.3333333333333333,
              "#9c179e"
             ],
             [
              0.4444444444444444,
              "#bd3786"
             ],
             [
              0.5555555555555556,
              "#d8576b"
             ],
             [
              0.6666666666666666,
              "#ed7953"
             ],
             [
              0.7777777777777778,
              "#fb9f3a"
             ],
             [
              0.8888888888888888,
              "#fdca26"
             ],
             [
              1,
              "#f0f921"
             ]
            ],
            "type": "surface"
           }
          ],
          "table": [
           {
            "cells": {
             "fill": {
              "color": "#EBF0F8"
             },
             "line": {
              "color": "white"
             }
            },
            "header": {
             "fill": {
              "color": "#C8D4E3"
             },
             "line": {
              "color": "white"
             }
            },
            "type": "table"
           }
          ]
         },
         "layout": {
          "annotationdefaults": {
           "arrowcolor": "#2a3f5f",
           "arrowhead": 0,
           "arrowwidth": 1
          },
          "autotypenumbers": "strict",
          "coloraxis": {
           "colorbar": {
            "outlinewidth": 0,
            "ticks": ""
           }
          },
          "colorscale": {
           "diverging": [
            [
             0,
             "#8e0152"
            ],
            [
             0.1,
             "#c51b7d"
            ],
            [
             0.2,
             "#de77ae"
            ],
            [
             0.3,
             "#f1b6da"
            ],
            [
             0.4,
             "#fde0ef"
            ],
            [
             0.5,
             "#f7f7f7"
            ],
            [
             0.6,
             "#e6f5d0"
            ],
            [
             0.7,
             "#b8e186"
            ],
            [
             0.8,
             "#7fbc41"
            ],
            [
             0.9,
             "#4d9221"
            ],
            [
             1,
             "#276419"
            ]
           ],
           "sequential": [
            [
             0,
             "#0d0887"
            ],
            [
             0.1111111111111111,
             "#46039f"
            ],
            [
             0.2222222222222222,
             "#7201a8"
            ],
            [
             0.3333333333333333,
             "#9c179e"
            ],
            [
             0.4444444444444444,
             "#bd3786"
            ],
            [
             0.5555555555555556,
             "#d8576b"
            ],
            [
             0.6666666666666666,
             "#ed7953"
            ],
            [
             0.7777777777777778,
             "#fb9f3a"
            ],
            [
             0.8888888888888888,
             "#fdca26"
            ],
            [
             1,
             "#f0f921"
            ]
           ],
           "sequentialminus": [
            [
             0,
             "#0d0887"
            ],
            [
             0.1111111111111111,
             "#46039f"
            ],
            [
             0.2222222222222222,
             "#7201a8"
            ],
            [
             0.3333333333333333,
             "#9c179e"
            ],
            [
             0.4444444444444444,
             "#bd3786"
            ],
            [
             0.5555555555555556,
             "#d8576b"
            ],
            [
             0.6666666666666666,
             "#ed7953"
            ],
            [
             0.7777777777777778,
             "#fb9f3a"
            ],
            [
             0.8888888888888888,
             "#fdca26"
            ],
            [
             1,
             "#f0f921"
            ]
           ]
          },
          "colorway": [
           "#636efa",
           "#EF553B",
           "#00cc96",
           "#ab63fa",
           "#FFA15A",
           "#19d3f3",
           "#FF6692",
           "#B6E880",
           "#FF97FF",
           "#FECB52"
          ],
          "font": {
           "color": "#2a3f5f"
          },
          "geo": {
           "bgcolor": "white",
           "lakecolor": "white",
           "landcolor": "#E5ECF6",
           "showlakes": true,
           "showland": true,
           "subunitcolor": "white"
          },
          "hoverlabel": {
           "align": "left"
          },
          "hovermode": "closest",
          "mapbox": {
           "style": "light"
          },
          "paper_bgcolor": "white",
          "plot_bgcolor": "#E5ECF6",
          "polar": {
           "angularaxis": {
            "gridcolor": "white",
            "linecolor": "white",
            "ticks": ""
           },
           "bgcolor": "#E5ECF6",
           "radialaxis": {
            "gridcolor": "white",
            "linecolor": "white",
            "ticks": ""
           }
          },
          "scene": {
           "xaxis": {
            "backgroundcolor": "#E5ECF6",
            "gridcolor": "white",
            "gridwidth": 2,
            "linecolor": "white",
            "showbackground": true,
            "ticks": "",
            "zerolinecolor": "white"
           },
           "yaxis": {
            "backgroundcolor": "#E5ECF6",
            "gridcolor": "white",
            "gridwidth": 2,
            "linecolor": "white",
            "showbackground": true,
            "ticks": "",
            "zerolinecolor": "white"
           },
           "zaxis": {
            "backgroundcolor": "#E5ECF6",
            "gridcolor": "white",
            "gridwidth": 2,
            "linecolor": "white",
            "showbackground": true,
            "ticks": "",
            "zerolinecolor": "white"
           }
          },
          "shapedefaults": {
           "line": {
            "color": "#2a3f5f"
           }
          },
          "ternary": {
           "aaxis": {
            "gridcolor": "white",
            "linecolor": "white",
            "ticks": ""
           },
           "baxis": {
            "gridcolor": "white",
            "linecolor": "white",
            "ticks": ""
           },
           "bgcolor": "#E5ECF6",
           "caxis": {
            "gridcolor": "white",
            "linecolor": "white",
            "ticks": ""
           }
          },
          "title": {
           "x": 0.05
          },
          "xaxis": {
           "automargin": true,
           "gridcolor": "white",
           "linecolor": "white",
           "ticks": "",
           "title": {
            "standoff": 15
           },
           "zerolinecolor": "white",
           "zerolinewidth": 2
          },
          "yaxis": {
           "automargin": true,
           "gridcolor": "white",
           "linecolor": "white",
           "ticks": "",
           "title": {
            "standoff": 15
           },
           "zerolinecolor": "white",
           "zerolinewidth": 2
          }
         }
        },
        "title": {
         "text": "Brillouin Zone Visualization"
        },
        "width": 550
       }
      }
     },
     "metadata": {},
     "output_type": "display_data"
    }
   ],
   "source": [
    "def draw_brillouin_zone(facets):\n",
    "    import plotly.graph_objects as go\n",
    "\n",
    "    fig = go.Figure()\n",
    "\n",
    "    # Plot each facet of the Brillouin zone\n",
    "    for facet in facets:\n",
    "        x, y, z = zip(*[point for point in facet])\n",
    "        fig.add_trace(go.Mesh3d(x=x, y=y, z=z, opacity=0.5, color='lightgrey', name='Facet'))\n",
    "        for i in range(len(facet)):\n",
    "            fig.add_trace(go.Scatter3d(x=[x[i], x[(i+1) % len(facet)]],\n",
    "                                       y=[y[i], y[(i+1) % len(facet)]],\n",
    "                                       z=[z[i], z[(i+1) % len(facet)]],\n",
    "                                       mode='lines',\n",
    "                                       line=dict(color='black', width=2),\n",
    "                                       showlegend=False))\n",
    "\n",
    "    fig.update_layout(scene=dict(\n",
    "        xaxis_title='X',\n",
    "        yaxis_title='Y',\n",
    "        zaxis_title='Z',\n",
    "    ), \n",
    "        title=\"Brillouin Zone Visualization\",\n",
    "        margin=dict(l=0, r=0, b=0, t=40),\n",
    "        width=550,\n",
    "        height=550,\n",
    "    )\n",
    "\n",
    "    fig.show()\n",
    "\n",
    "lattice = Lattice.from_parameters(a=3, b=3, c=3, alpha=60, beta=60, gamma=60)\n",
    "\n",
    "reciprocal_lattice = lattice.reciprocal_lattice\n",
    "brillouin_zone = reciprocal_lattice.get_brillouin_zone()\n",
    "\n",
    "print(f\"reciprocal_lattice = \\n{reciprocal_lattice:.3f}\")\n",
    "print(f\"brillouin_zone = {brillouin_zone}\")\n",
    "\n",
    "draw_brillouin_zone(brillouin_zone)\n",
    "\n"
   ]
  },
  {
   "cell_type": "markdown",
   "metadata": {},
   "source": [
    "## Basis\n",
    "Basis is the set of atomic positions within the unit cell. You can create a `Structure` object by providing the lattice and the basis. The basis is a list of atomic positions. Each atomic position is a tuple `(specie, coords)` where `species` is the atomic symbol and `coords` is the coordiantes (by default fractional) of the atom in the unit cell."
   ]
  },
  {
   "cell_type": "code",
   "execution_count": 139,
   "metadata": {},
   "outputs": [
    {
     "name": "stdout",
     "output_type": "stream",
     "text": [
      "Full Formula (Si8)\n",
      "Reduced Formula: Si\n",
      "abc   :   5.430000   5.430000   5.430000\n",
      "angles:  90.000000  90.000000  90.000000\n",
      "pbc   :       True       True       True\n",
      "Sites (8)\n",
      "  #  SP       a     b     c\n",
      "---  ----  ----  ----  ----\n",
      "  0  Si    0.5   0     0.5\n",
      "  1  Si    0.25  0.25  0.25\n",
      "  2  Si    0     0     0\n",
      "  3  Si    0.25  0.75  0.75\n",
      "  4  Si    0.75  0.25  0.75\n",
      "  5  Si    0     0.5   0.5\n",
      "  6  Si    0.5   0.5   0\n",
      "  7  Si    0.75  0.75  0.25\n"
     ]
    }
   ],
   "source": [
    "from pymatgen.core import Structure\n",
    "\n",
    "lattice_si = Lattice.from_parameters(a=5.43, b=5.43, c=5.43, alpha=90, beta=90, gamma=90) \n",
    "structure_si = Structure.from_spacegroup(sg=227, species=[\"Si\"], lattice=lattice_si, coords=[[0, 0, 0]])\n",
    "\n",
    "print(structure_si)"
   ]
  },
  {
   "cell_type": "markdown",
   "metadata": {},
   "source": [
    "## Structure Visualization\n",
    "You can export the crystal structure to a `.cif` file and visualize it using visualization tools like VESTA, Jmol, or VESTA.\n",
    "\n",
    "In this course, we will use VESTA to visualize the crystal structures. You can download VESTA from [here](https://jp-minerals.org/vesta/en/)."
   ]
  },
  {
   "cell_type": "code",
   "execution_count": 7,
   "metadata": {},
   "outputs": [
    {
     "name": "stderr",
     "output_type": "stream",
     "text": [
      "/Users/zeyudeng/apps/matsci/lib/python3.12/site-packages/pymatgen/io/cif.py:1724: FutureWarning: We strongly discourage using implicit binary/text `mode`, and this would not be allowed after 2025-06-01. I.e. you should pass t/b in `mode`.\n",
      "  with zopen(filename, mode=mode) as file:\n"
     ]
    },
    {
     "data": {
      "text/plain": [
       "\"# generated using pymatgen\\ndata_Si\\n_symmetry_space_group_name_H-M   'P 1'\\n_cell_length_a   5.43000000\\n_cell_length_b   5.43000000\\n_cell_length_c   5.43000000\\n_cell_angle_alpha   90.00000000\\n_cell_angle_beta   90.00000000\\n_cell_angle_gamma   90.00000000\\n_symmetry_Int_Tables_number   1\\n_chemical_formula_structural   Si\\n_chemical_formula_sum   Si8\\n_cell_volume   160.10300700\\n_cell_formula_units_Z   8\\nloop_\\n _symmetry_equiv_pos_site_id\\n _symmetry_equiv_pos_as_xyz\\n  1  'x, y, z'\\nloop_\\n _atom_site_type_symbol\\n _atom_site_label\\n _atom_site_symmetry_multiplicity\\n _atom_site_fract_x\\n _atom_site_fract_y\\n _atom_site_fract_z\\n _atom_site_occupancy\\n  Si  Si0  1  0.50000000  0.00000000  0.50000000  1\\n  Si  Si1  1  0.25000000  0.25000000  0.25000000  1\\n  Si  Si2  1  0.00000000  0.00000000  0.00000000  1\\n  Si  Si3  1  0.25000000  0.75000000  0.75000000  1\\n  Si  Si4  1  0.75000000  0.25000000  0.75000000  1\\n  Si  Si5  1  0.00000000  0.50000000  0.50000000  1\\n  Si  Si6  1  0.50000000  0.50000000  0.00000000  1\\n  Si  Si7  1  0.75000000  0.75000000  0.25000000  1\\n\""
      ]
     },
     "execution_count": 7,
     "metadata": {},
     "output_type": "execute_result"
    }
   ],
   "source": [
    "structure_si.to(filename=\"Si.cif\")"
   ]
  },
  {
   "cell_type": "markdown",
   "metadata": {},
   "source": [
    "## Primitive Cell vs Convensional Cell\n",
    "The primitive cell is the smallest unit cell that can be used to describe the crystal structure. The conventional cell is a larger unit cell that is used to describe the crystal structure in a more convenient way. You can convert a structure to a primitive cell using `structure.get_primitive_structure()`."
   ]
  },
  {
   "cell_type": "code",
   "execution_count": 50,
   "metadata": {},
   "outputs": [
    {
     "name": "stdout",
     "output_type": "stream",
     "text": [
      "conventional_structure = \n",
      "Full Formula (Si8)\n",
      "Reduced Formula: Si\n",
      "abc   :   5.430000   5.430000   5.430000\n",
      "angles:  90.000000  90.000000  90.000000\n",
      "pbc   :       True       True       True\n",
      "Sites (8)\n",
      "  #  SP       a     b     c\n",
      "---  ----  ----  ----  ----\n",
      "  0  Si    0.5   0     0.5\n",
      "  1  Si    0.25  0.25  0.25\n",
      "  2  Si    0     0     0\n",
      "  3  Si    0.25  0.75  0.75\n",
      "  4  Si    0.75  0.25  0.75\n",
      "  5  Si    0     0.5   0.5\n",
      "  6  Si    0.5   0.5   0\n",
      "  7  Si    0.75  0.75  0.25\n",
      "primitive_structure = \n",
      "Full Formula (Si2)\n",
      "Reduced Formula: Si\n",
      "abc   :   3.839590   3.839590   3.839590\n",
      "angles:  60.000000  60.000000  60.000000\n",
      "pbc   :       True       True       True\n",
      "Sites (2)\n",
      "  #  SP       a     b     c\n",
      "---  ----  ----  ----  ----\n",
      "  0  Si    0     0     0\n",
      "  1  Si    0.75  0.75  0.75\n",
      "\n"
     ]
    }
   ],
   "source": [
    "primitive_structure = structure_si.get_primitive_structure()\n",
    "\n",
    "print(f\"conventional_structure = \\n{structure_si}\")\n",
    "print(f\"primitive_structure = \\n{primitive_structure}\\n\")"
   ]
  },
  {
   "cell_type": "markdown",
   "metadata": {},
   "source": [
    "## Symmetry\n",
    "### Symmetry Analyzer\n",
    "`pymatgen` provides a `SymmetryAnalyzer` class to analyze the symmetry of a crystal structure. You can use `SymmetryAnalyzer` to get the symmetry operations of a crystal structure."
   ]
  },
  {
   "cell_type": "code",
   "execution_count": null,
   "metadata": {},
   "outputs": [
    {
     "name": "stderr",
     "output_type": "stream",
     "text": [
      "/Users/zeyudeng/apps/matsci/lib/python3.12/site-packages/paramiko/pkey.py:82: CryptographyDeprecationWarning:\n",
      "\n",
      "TripleDES has been moved to cryptography.hazmat.decrepit.ciphers.algorithms.TripleDES and will be removed from this module in 48.0.0.\n",
      "\n",
      "/Users/zeyudeng/apps/matsci/lib/python3.12/site-packages/paramiko/transport.py:253: CryptographyDeprecationWarning:\n",
      "\n",
      "TripleDES has been moved to cryptography.hazmat.decrepit.ciphers.algorithms.TripleDES and will be removed from this module in 48.0.0.\n",
      "\n"
     ]
    },
    {
     "data": {
      "application/vnd.jupyter.widget-view+json": {
       "model_id": "4c1a82d47c9940ea82adf0b27f6cbde2",
       "version_major": 2,
       "version_minor": 0
      },
      "text/plain": [
       "Retrieving MaterialsDoc documents:   0%|          | 0/1 [00:00<?, ?it/s]"
      ]
     },
     "metadata": {},
     "output_type": "display_data"
    },
    {
     "name": "stdout",
     "output_type": "stream",
     "text": [
      "conventional_structure = \n",
      "Full Formula (Ba1 Ti1 O3)\n",
      "Reduced Formula: BaTiO3\n",
      "abc   :   4.007682   4.007682   4.007682\n",
      "angles:  90.000000  90.000000  90.000000\n",
      "pbc   :       True       True       True\n",
      "Sites (5)\n",
      "  #  SP      a    b    c\n",
      "---  ----  ---  ---  ---\n",
      "  0  Ba    0.5  0.5  0.5\n",
      "  1  Ti    0    0    0\n",
      "  2  O     0.5  0    0\n",
      "  3  O     0    0.5  0\n",
      "  4  O     0    0    0.5\n",
      "\n",
      "primitive_structure = \n",
      "Full Formula (Ba1 Ti1 O3)\n",
      "Reduced Formula: BaTiO3\n",
      "abc   :   4.007682   4.007682   4.007682\n",
      "angles:  90.000000  90.000000  90.000000\n",
      "pbc   :       True       True       True\n",
      "Sites (5)\n",
      "  #  SP      a    b    c\n",
      "---  ----  ---  ---  ---\n",
      "  0  Ba    0.5  0.5  0.5\n",
      "  1  Ti    0    0    0\n",
      "  2  O     0.5  0    0\n",
      "  3  O     0    0.5  0\n",
      "  4  O     0    0    0.5\n",
      "\n",
      "Crystal system: cubic\n",
      "\n",
      "Wyckoff sites: ['b', 'a', 'd', 'd', 'd']\n",
      "multiplicity: [0 1 2 2 2]\n"
     ]
    },
    {
     "name": "stderr",
     "output_type": "stream",
     "text": [
      "/Users/zeyudeng/apps/matsci/lib/python3.12/site-packages/spglib/spglib.py:115: DeprecationWarning:\n",
      "\n",
      "dict interface (SpglibDataset['wyckoffs']) is deprecated.Use attribute interface ({self.__class__.__name__}.{key}) instead\n",
      "\n",
      "/Users/zeyudeng/apps/matsci/lib/python3.12/site-packages/spglib/spglib.py:115: DeprecationWarning:\n",
      "\n",
      "dict interface (SpglibDataset['equivalent_atoms']) is deprecated.Use attribute interface ({self.__class__.__name__}.{key}) instead\n",
      "\n"
     ]
    }
   ],
   "source": [
    "from pymatgen.symmetry.analyzer import SpacegroupAnalyzer\n",
    "\n",
    "structure = Structure.from_id(id_ = \"mp-2998\",api_key=\"api-key\")\n",
    "sga = SpacegroupAnalyzer(structure, symprec = 0.01, angle_tolerance=3)\n",
    "\n",
    "conventional_structure = sga.get_conventional_standard_structure()\n",
    "primitive_structure = sga.get_primitive_standard_structure()\n",
    "\n",
    "print(f\"conventional_structure = \\n{conventional_structure}\\n\")\n",
    "print(f\"primitive_structure = \\n{primitive_structure}\\n\")\n",
    "symmtrized_structure = sga.get_symmetrized_structure()\n",
    "\n",
    "sga = SpacegroupAnalyzer(primitive_structure)\n",
    "print(f\"Crystal system: {sga.get_crystal_system()}\\n\")\n",
    "print(f\"Wyckoff sites: {sga.get_symmetry_dataset()['wyckoffs']}\")\n",
    "print(f\"multiplicity: {sga.get_symmetry_dataset()['equivalent_atoms']}\")\n"
   ]
  },
  {
   "cell_type": "markdown",
   "metadata": {},
   "source": [
    "### Symmetry Operations\n",
    "Symmetry operations are operations that leave the crystal structure invariant. "
   ]
  },
  {
   "cell_type": "code",
   "execution_count": 46,
   "metadata": {},
   "outputs": [
    {
     "name": "stdout",
     "output_type": "stream",
     "text": [
      "orbit = [array([-0.5, -0.5, -0.5]), array([-0.5, -0.5,  0.5]), array([ 0.5,  0.5, -0.5]), array([-0.5,  0.5,  0.5]), array([ 0.5, -0.5, -0.5]), array([-0.5,  0.5, -0.5]), array([0.5, 0.5, 0.5]), array([ 0.5, -0.5,  0.5])]\n",
      "Symmetry operation 1:\n",
      "Rot:\n",
      "[[ 0.  0. -1.]\n",
      " [ 0. -1.  0.]\n",
      " [-1.  0.  0.]]\n",
      "tau\n",
      "[0. 0. 0.]\n",
      "\n",
      "Symmetry operation 2:\n",
      "Rot:\n",
      "[[ 0.  0. -1.]\n",
      " [-1.  0.  0.]\n",
      " [ 0.  1.  0.]]\n",
      "tau\n",
      "[0. 0. 0.]\n",
      "\n",
      "Symmetry operation 3:\n",
      "Rot:\n",
      "[[ 0.  0.  1.]\n",
      " [ 1.  0.  0.]\n",
      " [ 0. -1.  0.]]\n",
      "tau\n",
      "[0. 0. 0.]\n",
      "\n",
      "Symmetry operation 4:\n",
      "Rot:\n",
      "[[ 0.  0. -1.]\n",
      " [ 0.  1.  0.]\n",
      " [ 1.  0.  0.]]\n",
      "tau\n",
      "[0. 0. 0.]\n",
      "\n",
      "Symmetry operation 5:\n",
      "Rot:\n",
      "[[ 1.  0.  0.]\n",
      " [ 0.  0. -1.]\n",
      " [ 0. -1.  0.]]\n",
      "tau\n",
      "[0. 0. 0.]\n",
      "\n",
      "Symmetry operation 6:\n",
      "Rot:\n",
      "[[-1.  0.  0.]\n",
      " [ 0.  0.  1.]\n",
      " [ 0. -1.  0.]]\n",
      "tau\n",
      "[0. 0. 0.]\n",
      "\n",
      "Symmetry operation 7:\n",
      "Rot:\n",
      "[[ 1.  0.  0.]\n",
      " [ 0.  1.  0.]\n",
      " [ 0.  0. -1.]]\n",
      "tau\n",
      "[0. 0. 0.]\n",
      "\n",
      "Symmetry operation 8:\n",
      "Rot:\n",
      "[[ 0.  1.  0.]\n",
      " [-1.  0.  0.]\n",
      " [ 0.  0. -1.]]\n",
      "tau\n",
      "[0. 0. 0.]\n",
      "\n",
      "Symmetry operation 9:\n",
      "Rot:\n",
      "[[-1.  0.  0.]\n",
      " [ 0.  1.  0.]\n",
      " [ 0.  0.  1.]]\n",
      "tau\n",
      "[0. 0. 0.]\n",
      "\n",
      "Symmetry operation 10:\n",
      "Rot:\n",
      "[[1. 0. 0.]\n",
      " [0. 1. 0.]\n",
      " [0. 0. 1.]]\n",
      "tau\n",
      "[0. 0. 0.]\n",
      "\n",
      "Symmetry operation 11:\n",
      "Rot:\n",
      "[[0. 1. 0.]\n",
      " [1. 0. 0.]\n",
      " [0. 0. 1.]]\n",
      "tau\n",
      "[0. 0. 0.]\n",
      "\n",
      "Symmetry operation 12:\n",
      "Rot:\n",
      "[[0. 1. 0.]\n",
      " [0. 0. 1.]\n",
      " [1. 0. 0.]]\n",
      "tau\n",
      "[0. 0. 0.]\n",
      "\n",
      "Symmetry operation 13:\n",
      "Rot:\n",
      "[[ 0. -1.  0.]\n",
      " [ 1.  0.  0.]\n",
      " [ 0.  0.  1.]]\n",
      "tau\n",
      "[0. 0. 0.]\n",
      "\n",
      "Symmetry operation 14:\n",
      "Rot:\n",
      "[[-1.  0.  0.]\n",
      " [ 0. -1.  0.]\n",
      " [ 0.  0. -1.]]\n",
      "tau\n",
      "[0. 0. 0.]\n",
      "\n",
      "Symmetry operation 15:\n",
      "Rot:\n",
      "[[0. 0. 1.]\n",
      " [1. 0. 0.]\n",
      " [0. 1. 0.]]\n",
      "tau\n",
      "[0. 0. 0.]\n",
      "\n",
      "Symmetry operation 16:\n",
      "Rot:\n",
      "[[ 0.  0.  1.]\n",
      " [ 0. -1.  0.]\n",
      " [ 1.  0.  0.]]\n",
      "tau\n",
      "[0. 0. 0.]\n",
      "\n",
      "Symmetry operation 17:\n",
      "Rot:\n",
      "[[ 0.  0. -1.]\n",
      " [-1.  0.  0.]\n",
      " [ 0. -1.  0.]]\n",
      "tau\n",
      "[0. 0. 0.]\n",
      "\n",
      "Symmetry operation 18:\n",
      "Rot:\n",
      "[[ 0.  1.  0.]\n",
      " [ 0.  0. -1.]\n",
      " [-1.  0.  0.]]\n",
      "tau\n",
      "[0. 0. 0.]\n",
      "\n",
      "Symmetry operation 19:\n",
      "Rot:\n",
      "[[ 0.  0. -1.]\n",
      " [ 1.  0.  0.]\n",
      " [ 0.  1.  0.]]\n",
      "tau\n",
      "[0. 0. 0.]\n",
      "\n",
      "Symmetry operation 20:\n",
      "Rot:\n",
      "[[ 0.  0.  1.]\n",
      " [ 0. -1.  0.]\n",
      " [-1.  0.  0.]]\n",
      "tau\n",
      "[0. 0. 0.]\n",
      "\n",
      "Symmetry operation 21:\n",
      "Rot:\n",
      "[[-1.  0.  0.]\n",
      " [ 0.  1.  0.]\n",
      " [ 0.  0. -1.]]\n",
      "tau\n",
      "[0. 0. 0.]\n",
      "\n",
      "Symmetry operation 22:\n",
      "Rot:\n",
      "[[ 0. -1.  0.]\n",
      " [-1.  0.  0.]\n",
      " [ 0.  0.  1.]]\n",
      "tau\n",
      "[0. 0. 0.]\n",
      "\n",
      "Symmetry operation 23:\n",
      "Rot:\n",
      "[[ 0. -1.  0.]\n",
      " [ 0.  0. -1.]\n",
      " [ 1.  0.  0.]]\n",
      "tau\n",
      "[0. 0. 0.]\n",
      "\n",
      "Symmetry operation 24:\n",
      "Rot:\n",
      "[[ 0.  0. -1.]\n",
      " [ 0. -1.  0.]\n",
      " [ 1.  0.  0.]]\n",
      "tau\n",
      "[0. 0. 0.]\n",
      "\n",
      "Symmetry operation 25:\n",
      "Rot:\n",
      "[[ 0.  1.  0.]\n",
      " [ 1.  0.  0.]\n",
      " [ 0.  0. -1.]]\n",
      "tau\n",
      "[0. 0. 0.]\n",
      "\n",
      "Symmetry operation 26:\n",
      "Rot:\n",
      "[[ 1.  0.  0.]\n",
      " [ 0. -1.  0.]\n",
      " [ 0.  0. -1.]]\n",
      "tau\n",
      "[0. 0. 0.]\n",
      "\n",
      "Symmetry operation 27:\n",
      "Rot:\n",
      "[[0. 0. 1.]\n",
      " [0. 1. 0.]\n",
      " [1. 0. 0.]]\n",
      "tau\n",
      "[0. 0. 0.]\n",
      "\n",
      "Symmetry operation 28:\n",
      "Rot:\n",
      "[[-1.  0.  0.]\n",
      " [ 0.  0.  1.]\n",
      " [ 0.  1.  0.]]\n",
      "tau\n",
      "[0. 0. 0.]\n",
      "\n",
      "Symmetry operation 29:\n",
      "Rot:\n",
      "[[-1.  0.  0.]\n",
      " [ 0. -1.  0.]\n",
      " [ 0.  0.  1.]]\n",
      "tau\n",
      "[0. 0. 0.]\n",
      "\n",
      "Symmetry operation 30:\n",
      "Rot:\n",
      "[[ 0. -1.  0.]\n",
      " [-1.  0.  0.]\n",
      " [ 0.  0. -1.]]\n",
      "tau\n",
      "[0. 0. 0.]\n",
      "\n",
      "Symmetry operation 31:\n",
      "Rot:\n",
      "[[1. 0. 0.]\n",
      " [0. 0. 1.]\n",
      " [0. 1. 0.]]\n",
      "tau\n",
      "[0. 0. 0.]\n",
      "\n",
      "Symmetry operation 32:\n",
      "Rot:\n",
      "[[ 1.  0.  0.]\n",
      " [ 0. -1.  0.]\n",
      " [ 0.  0.  1.]]\n",
      "tau\n",
      "[0. 0. 0.]\n",
      "\n",
      "Symmetry operation 33:\n",
      "Rot:\n",
      "[[ 1.  0.  0.]\n",
      " [ 0.  0.  1.]\n",
      " [ 0. -1.  0.]]\n",
      "tau\n",
      "[0. 0. 0.]\n",
      "\n",
      "Symmetry operation 34:\n",
      "Rot:\n",
      "[[ 0. -1.  0.]\n",
      " [ 0.  0. -1.]\n",
      " [-1.  0.  0.]]\n",
      "tau\n",
      "[0. 0. 0.]\n",
      "\n",
      "Symmetry operation 35:\n",
      "Rot:\n",
      "[[ 0.  0.  1.]\n",
      " [ 0.  1.  0.]\n",
      " [-1.  0.  0.]]\n",
      "tau\n",
      "[0. 0. 0.]\n",
      "\n",
      "Symmetry operation 36:\n",
      "Rot:\n",
      "[[ 0. -1.  0.]\n",
      " [ 0.  0.  1.]\n",
      " [-1.  0.  0.]]\n",
      "tau\n",
      "[0. 0. 0.]\n",
      "\n",
      "Symmetry operation 37:\n",
      "Rot:\n",
      "[[ 0.  0. -1.]\n",
      " [ 1.  0.  0.]\n",
      " [ 0. -1.  0.]]\n",
      "tau\n",
      "[0. 0. 0.]\n",
      "\n",
      "Symmetry operation 38:\n",
      "Rot:\n",
      "[[ 0.  1.  0.]\n",
      " [ 0.  0. -1.]\n",
      " [ 1.  0.  0.]]\n",
      "tau\n",
      "[0. 0. 0.]\n",
      "\n",
      "Symmetry operation 39:\n",
      "Rot:\n",
      "[[-1.  0.  0.]\n",
      " [ 0.  0. -1.]\n",
      " [ 0.  1.  0.]]\n",
      "tau\n",
      "[0. 0. 0.]\n",
      "\n",
      "Symmetry operation 40:\n",
      "Rot:\n",
      "[[ 0.  1.  0.]\n",
      " [ 0.  0.  1.]\n",
      " [-1.  0.  0.]]\n",
      "tau\n",
      "[0. 0. 0.]\n",
      "\n",
      "Symmetry operation 41:\n",
      "Rot:\n",
      "[[-1.  0.  0.]\n",
      " [ 0.  0. -1.]\n",
      " [ 0. -1.  0.]]\n",
      "tau\n",
      "[0. 0. 0.]\n",
      "\n",
      "Symmetry operation 42:\n",
      "Rot:\n",
      "[[ 0. -1.  0.]\n",
      " [ 0.  0.  1.]\n",
      " [ 1.  0.  0.]]\n",
      "tau\n",
      "[0. 0. 0.]\n",
      "\n",
      "Symmetry operation 43:\n",
      "Rot:\n",
      "[[ 0.  1.  0.]\n",
      " [-1.  0.  0.]\n",
      " [ 0.  0.  1.]]\n",
      "tau\n",
      "[0. 0. 0.]\n",
      "\n",
      "Symmetry operation 44:\n",
      "Rot:\n",
      "[[ 0.  0.  1.]\n",
      " [-1.  0.  0.]\n",
      " [ 0. -1.  0.]]\n",
      "tau\n",
      "[0. 0. 0.]\n",
      "\n",
      "Symmetry operation 45:\n",
      "Rot:\n",
      "[[ 0.  0. -1.]\n",
      " [ 0.  1.  0.]\n",
      " [-1.  0.  0.]]\n",
      "tau\n",
      "[0. 0. 0.]\n",
      "\n",
      "Symmetry operation 46:\n",
      "Rot:\n",
      "[[ 0.  0.  1.]\n",
      " [-1.  0.  0.]\n",
      " [ 0.  1.  0.]]\n",
      "tau\n",
      "[0. 0. 0.]\n",
      "\n",
      "Symmetry operation 47:\n",
      "Rot:\n",
      "[[ 1.  0.  0.]\n",
      " [ 0.  0. -1.]\n",
      " [ 0.  1.  0.]]\n",
      "tau\n",
      "[0. 0. 0.]\n",
      "\n",
      "Symmetry operation 48:\n",
      "Rot:\n",
      "[[ 0. -1.  0.]\n",
      " [ 1.  0.  0.]\n",
      " [ 0.  0. -1.]]\n",
      "tau\n",
      "[0. 0. 0.]\n",
      "\n"
     ]
    }
   ],
   "source": [
    "from pymatgen.symmetry.groups import PointGroup\n",
    "\n",
    "point_group = PointGroup(\"m-3m\")\n",
    "\n",
    "orbit = point_group.get_orbit([0.5, 0.5, 0.5])\n",
    "\n",
    "print(f\"orbit = {orbit}\")\n",
    "for i,sym_op in enumerate(point_group.symmetry_ops):\n",
    "    print(f\"Symmetry operation {i+1}:\")\n",
    "    print(sym_op)\n",
    "    print()\n"
   ]
  },
  {
   "cell_type": "code",
   "execution_count": 17,
   "metadata": {},
   "outputs": [
    {
     "name": "stdout",
     "output_type": "stream",
     "text": [
      "crystal system: triclinic\n",
      "Symmetry operation 1:\n",
      "Rot:\n",
      "[[-1.  0.  0.]\n",
      " [ 0. -1.  0.]\n",
      " [ 0.  0. -1.]]\n",
      "tau\n",
      "[0. 0. 0.]\n",
      "\n",
      "Symmetry operation 2:\n",
      "Rot:\n",
      "[[1. 0. 0.]\n",
      " [0. 1. 0.]\n",
      " [0. 0. 1.]]\n",
      "tau\n",
      "[0. 0. 0.]\n",
      "\n"
     ]
    }
   ],
   "source": [
    "from pymatgen.symmetry.groups import SpaceGroup\n",
    "\n",
    "sg = SpaceGroup(int_symbol = 'P-1')\n",
    "crystal_system = sg.crystal_system\n",
    "symm_ops = sg.symmetry_ops\n",
    "print(f\"crystal system: {crystal_system}\")\n",
    "\n",
    "for i, symm_op in enumerate(symm_ops):\n",
    "    print(f\"Symmetry operation {i+1}:\")\n",
    "    print(symm_op)\n",
    "    print()\n"
   ]
  },
  {
   "cell_type": "markdown",
   "metadata": {},
   "source": [
    "### Subgroup and Supergroup\n",
    "\n",
    "When $H$ is a subgroup of $G$, it means that all the symmetry operations of $H$ are also symmetry operations of G (also written as $H < G$). When $H$ is a supergroup of $G$, it means that all the symmetry operations of G are also symmetry operations of $H$ (also written as $H > G$).\n",
    "\n",
    "Supergroup and subgroup relationship is very important for phase transitions in materials. When a material undergoes a phase transition, the symmetry of the material changes. The lower symmetry group is a subgroup of the higher symmetry group. For example, when a material undergoes a phase transition from cubic to tetragonal, the cubic group is a supergroup of the tetragonal group. An example is $BaTiO_3$, which undergoes a phase transition from cubic (Pm-3m) to tetragonal (P4mm) at 393 K.\n",
    "\n",
    "You can use `is_subgroup()` and `is_supergroup()` methods to check if a group is a subgroup or supergroup of another group."
   ]
  },
  {
   "cell_type": "code",
   "execution_count": 45,
   "metadata": {},
   "outputs": [
    {
     "name": "stdout",
     "output_type": "stream",
     "text": [
      "Are H (Pnma) and G (Fm-3m) equivalent? False\n",
      "Is G (Pnma) a subgroup (<) of H (Fm-3m)? True\n",
      "Is H (Fm-3m) a supergroup (>) of G (Pnma)? True\n"
     ]
    }
   ],
   "source": [
    "H = SpaceGroup(int_symbol = 'Fm-3m')\n",
    "G = SpaceGroup(int_symbol = 'Pnma')\n",
    "\n",
    "print(f\"Are H ({G.symbol}) and G ({H.symbol}) equivalent? {H==G}\")\n",
    "print(f\"Is G ({G.symbol}) a subgroup (<) of H ({H.symbol})? {G.is_subgroup(H)}\")\n",
    "print(f\"Is H ({H.symbol}) a supergroup (>) of G ({G.symbol})? {H.is_supergroup(G)}\")"
   ]
  },
  {
   "cell_type": "markdown",
   "metadata": {},
   "source": [
    "## Calculate Diffraction Pattern\n",
    "You can generate an X-ray diffraction pattern from a crystal structure using `XRDCalculator`. The X-ray diffraction pattern is a plot of the intensity of X-ray diffraction peaks as a function of the diffraction angle. The diffraction angle is related to the spacing between the atomic planes in the crystal structure. You can also calculate electron diffraction patterns using `TEMCalculator`, and neutron diffraction patterns using `NDCalculator`.\n"
   ]
  },
  {
   "cell_type": "code",
   "execution_count": null,
   "metadata": {},
   "outputs": [
    {
     "name": "stderr",
     "output_type": "stream",
     "text": [
      "/Users/zeyudeng/apps/matsci/lib/python3.12/site-packages/pymatgen/core/structure.py:3087: EncodingWarning:\n",
      "\n",
      "We strongly encourage explicit `encoding`, and we would use UTF-8 by default as per PEP 686\n",
      "\n"
     ]
    },
    {
     "data": {
      "image/png": "[encoded data removed]",
      "text/plain": [
       "<Figure size 500x400 with 1 Axes>"
      ]
     },
     "metadata": {},
     "output_type": "display_data"
    }
   ],
   "source": [
    "from pymatgen.analysis.diffraction.xrd import XRDCalculator\n",
    "import numpy as np\n",
    "import matplotlib.pyplot as plt\n",
    "\n",
    "structure = Structure.from_file(\"BaTiO3.cif\")\n",
    "\n",
    "xrd = XRDCalculator(wavelength='CuKa')\n",
    "range_2theta = (30, 90)\n",
    "sigma = 0.2\n",
    "\n",
    "# Apply smearing to the XRD pattern\n",
    "pattern = xrd.get_pattern(structure=structure, scaled=True, two_theta_range=range_2theta)\n",
    "\n",
    "# Apply Gaussian smearing\n",
    "x_new = np.linspace(range_2theta[0], range_2theta[1], 1000)\n",
    "y_new = np.zeros_like(x_new)\n",
    "\n",
    "for x, y in zip(pattern.x, pattern.y):\n",
    "    y_new += y * np.exp(-(x_new - x)**2 / (2 * sigma**2))\n",
    "\n",
    "\n",
    "# Plot the smeared XRD pattern\n",
    "plt.figure(figsize=(5, 4))\n",
    "plt.plot(x_new, y_new, label=f'{structure.composition.reduced_formula}')\n",
    "plt.xlabel(\"2θ (degrees)\")\n",
    "plt.ylabel(\"Intensity (a.u.)\")\n",
    "plt.legend()\n",
    "plt.show()"
   ]
  },
  {
   "cell_type": "code",
   "execution_count": 138,
   "metadata": {},
   "outputs": [
    {
     "data": {
      "application/vnd.plotly.v1+json": {
       "config": {
        "plotlyServerURL": "https://plot.ly"
       },
       "data": [
        {
         "hoverinfo": "text",
         "marker": {
          "cmax": 1,
          "cmin": 0,
          "color": [
           0.0028933997594831366,
           0.00017053837380866734,
           0.004372988257721436,
           0.0002502457213192039,
           0.0061238241040120385,
           0.00033304272625363836,
           0.00794777437019291,
           0.0004046104654656901,
           0.009439963678929368,
           0.0004477423527966519,
           0.010036241024185289,
           0.0004477423527966519,
           0.009439963678929368,
           0.0004046104654656901,
           0.00794777437019291,
           0.00033304272625363836,
           0.0061238241040120385,
           0.0002502457213192039,
           0.004372988257721436,
           0.00017053837380866734,
           0.0028933997594831366,
           0.00010475412746486686,
           0.00017053837380866734,
           0.001997189890519644,
           0.00026244295844292745,
           0.0029493203923849926,
           0.00036675961660750966,
           0.004013148562453134,
           0.00047181070786766533,
           0.0050525731800775955,
           0.0005579889848753228,
           0.005758952219855128,
           0.000593018190890082,
           0.005758952219855128,
           0.0005579889848753228,
           0.0050525731800775955,
           0.00047181070786766533,
           0.004013148562453134,
           0.00036675961660750966,
           0.0029493203923849926,
           0.00026244295844292745,
           0.001997189890519644,
           0.00017053837380866734,
           0.0012322357226165234,
           0.004372988257721436,
           0.00026244295844292745,
           0.006777173085243294,
           0.00038510803299073455,
           0.010036241024185289,
           0.0005264988681037747,
           0.014258655087825228,
           0.0006770051011842517,
           0.01858823086012593,
           0.0007875032465630954,
           0.020576038758764136,
           0.0007875032465630954,
           0.01858823086012593,
           0.0006770051011842517,
           0.014258655087825228,
           0.0005264988681037747,
           0.010036241024185289,
           0.00038510803299073455,
           0.006777173085243294,
           0.00026244295844292745,
           0.004372988257721436,
           0.0001624881827471288,
           0.0002502457213192039,
           0.0029493203923849926,
           0.00038510803299073455,
           0.004485014291597586,
           0.0005579889848753228,
           0.006675376456187078,
           0.0007875032465630954,
           0.009708668478140881,
           0.0010368939310228273,
           0.012406929947097547,
           0.0011544858743505408,
           0.012406929947097547,
           0.0010368939310228273,
           0.009708668478140881,
           0.0007875032465630954,
           0.006675376456187078,
           0.0005579889848753228,
           0.004485014291597586,
           0.00038510803299073455,
           0.0029493203923849926,
           0.0002502457213192039,
           0.0018133040295068904,
           0.0061238241040120385,
           0.00036675961660750966,
           0.010036241024185289,
           0.0005579889848753229,
           0.016913034631239637,
           0.0008569371343779957,
           0.029417764486753768,
           0.0012965402612888316,
           0.04664278860231766,
           0.0016770149498595251,
           0.056016696739280364,
           0.0016770149498595251,
           0.04664278860231766,
           0.0012965402612888316,
           0.029417764486753803,
           0.0008569371343779957,
           0.016913034631239637,
           0.0005579889848753229,
           0.010036241024185289,
           0.00036675961660750966,
           0.0061238241040120385,
           0.00022748648865918183,
           0.00033304272625363836,
           0.004013148562453134,
           0.0005264988681037747,
           0.006675376456187078,
           0.0008569371343779957,
           0.012406929947097547,
           0.0014686421447590119,
           0.0238684154655425,
           0.002227152188908292,
           0.03642065593487897,
           0.0025788277870372783,
           0.03642065593487897,
           0.002227152188908292,
           0.0238684154655425,
           0.0014686421447590119,
           0.012406929947097547,
           0.0008569371343779957,
           0.006675376456187078,
           0.0005264988681037747,
           0.004013148562453134,
           0.00033304272625363836,
           0.0024242337660778466,
           0.00794777437019291,
           0.00047181070786766533,
           0.014258655087825228,
           0.0007875032465630954,
           0.029417764486753803,
           0.0014686421447590119,
           0.0684738258318908,
           0.0025788277870372783,
           0.14325891462549073,
           0.0034953441607558757,
           0.19601752724607593,
           0.0034953441607558757,
           0.14325891462549073,
           0.0025788277870372783,
           0.0684738258318908,
           0.0014686421447590119,
           0.029417764486753803,
           0.0007875032465630954,
           0.014258655087825228,
           0.00047181070786766517,
           0.00794777437019291,
           0.0002886327850117211,
           0.0004046104654656899,
           0.0050525731800775955,
           0.0006770051011842517,
           0.009708668478140881,
           0.0012965402612888316,
           0.0238684154655425,
           0.0025788277870372783,
           0.060185079433160524,
           0.004261163827898525,
           0.12265267337043675,
           0.00602931992485668,
           0.12265267337043675,
           0.004261163827898533,
           0.060185079433160524,
           0.0025788277870372783,
           0.0238684154655425,
           0.0012965402612888316,
           0.009708668478140881,
           0.0006770051011842517,
           0.0050525731800775955,
           0.0004046104654656899,
           0.0029493203923849926,
           0.009439963678929368,
           0.0005579889848753229,
           0.01858823086012593,
           0.0010368939310228273,
           0.04664278860231766,
           0.002227152188908292,
           0.14325891462549073,
           0.004261163827898531,
           0.47372684077744476,
           0.012327102345919945,
           1,
           0.012327102345919945,
           0.47372684077744476,
           0.004261163827898531,
           0.14325891462549073,
           0.002227152188908292,
           0.04664278860231766,
           0.0010368939310228273,
           0.01858823086012593,
           0.0005579889848753229,
           0.009439963678929368,
           0.00033304272625363836,
           0.0004477423527966519,
           0.005758952219855128,
           0.0007875032465630954,
           0.012406929947097547,
           0.001677014949859526,
           0.03642065593487897,
           0.0034953441607558757,
           0.12265267337043675,
           0.012327102345919945,
           0.6881103990943706,
           0.055571334601517225,
           0.6881103990943706,
           0.012327102345919945,
           0.12265267337043675,
           0.0034953441607558757,
           0.03642065593487897,
           0.001677014949859526,
           0.012406929947097547,
           0.0007875032465630954,
           0.005758952219855128,
           0.0004477423527966519,
           0.0032593368724953375,
           0.010036241024185289,
           0.0005930181908900817,
           0.020576038758764136,
           0.0011544858743505408,
           0.056016696739280364,
           0.0025788277870372783,
           0.19601752724607593,
           0.0060293199248566826,
           1,
           0.055571334601517225,
           0.055571334601517225,
           1,
           0.0060293199248566826,
           0.19601752724607593,
           0.0025788277870372783,
           0.056016696739280364,
           0.0011544858743505408,
           0.020576038758764136,
           0.0005930181908900817,
           0.010036241024185289,
           0.0003494387579983337,
           0.0004477423527966519,
           0.005758952219855128,
           0.0007875032465630954,
           0.012406929947097547,
           0.001677014949859526,
           0.03642065593487897,
           0.0034953441607558757,
           0.12265267337043675,
           0.012327102345919945,
           0.6881103990943706,
           0.055571334601517225,
           0.6881103990943706,
           0.012327102345919945,
           0.12265267337043675,
           0.0034953441607558757,
           0.03642065593487897,
           0.001677014949859526,
           0.012406929947097547,
           0.0007875032465630954,
           0.005758952219855128,
           0.0004477423527966519,
           0.0032593368724953375,
           0.009439963678929368,
           0.0005579889848753229,
           0.01858823086012593,
           0.0010368939310228273,
           0.04664278860231766,
           0.002227152188908292,
           0.14325891462549073,
           0.004261163827898531,
           0.47372684077744476,
           0.012327102345919945,
           1,
           0.012327102345919945,
           0.47372684077744476,
           0.004261163827898531,
           0.14325891462549073,
           0.002227152188908292,
           0.04664278860231766,
           0.0010368939310228273,
           0.01858823086012593,
           0.0005579889848753229,
           0.009439963678929368,
           0.00033304272625363836,
           0.0004046104654656899,
           0.0050525731800775955,
           0.0006770051011842517,
           0.009708668478140881,
           0.0012965402612888316,
           0.0238684154655425,
           0.0025788277870372783,
           0.060185079433160524,
           0.004261163827898533,
           0.12265267337043675,
           0.00602931992485668,
           0.12265267337043675,
           0.004261163827898525,
           0.060185079433160524,
           0.0025788277870372783,
           0.0238684154655425,
           0.0012965402612888316,
           0.009708668478140881,
           0.0006770051011842517,
           0.0050525731800775955,
           0.0004046104654656899,
           0.0029493203923849926,
           0.00794777437019291,
           0.00047181070786766517,
           0.014258655087825228,
           0.0007875032465630954,
           0.029417764486753803,
           0.0014686421447590119,
           0.0684738258318908,
           0.0025788277870372783,
           0.14325891462549073,
           0.0034953441607558757,
           0.19601752724607593,
           0.0034953441607558757,
           0.14325891462549073,
           0.0025788277870372783,
           0.0684738258318908,
           0.0014686421447590119,
           0.029417764486753803,
           0.0007875032465630954,
           0.014258655087825228,
           0.00047181070786766533,
           0.00794777437019291,
           0.0002886327850117211,
           0.00033304272625363836,
           0.004013148562453134,
           0.0005264988681037747,
           0.006675376456187078,
           0.0008569371343779957,
           0.012406929947097547,
           0.0014686421447590119,
           0.0238684154655425,
           0.002227152188908292,
           0.03642065593487897,
           0.0025788277870372783,
           0.03642065593487897,
           0.002227152188908292,
           0.0238684154655425,
           0.0014686421447590119,
           0.012406929947097547,
           0.0008569371343779957,
           0.006675376456187078,
           0.0005264988681037747,
           0.004013148562453134,
           0.00033304272625363836,
           0.002424233766077844,
           0.0061238241040120385,
           0.00036675961660750966,
           0.010036241024185289,
           0.0005579889848753229,
           0.016913034631239637,
           0.0008569371343779957,
           0.029417764486753803,
           0.0012965402612888316,
           0.04664278860231766,
           0.0016770149498595251,
           0.056016696739280364,
           0.0016770149498595251,
           0.04664278860231766,
           0.0012965402612888316,
           0.029417764486753768,
           0.0008569371343779957,
           0.016913034631239637,
           0.0005579889848753229,
           0.010036241024185289,
           0.00036675961660750966,
           0.0061238241040120385,
           0.00022748648865918196,
           0.0002502457213192039,
           0.0029493203923849926,
           0.00038510803299073455,
           0.004485014291597586,
           0.0005579889848753228,
           0.006675376456187078,
           0.0007875032465630954,
           0.009708668478140881,
           0.0010368939310228273,
           0.012406929947097547,
           0.0011544858743505408,
           0.012406929947097547,
           0.0010368939310228273,
           0.009708668478140881,
           0.0007875032465630954,
           0.006675376456187078,
           0.0005579889848753228,
           0.004485014291597586,
           0.00038510803299073455,
           0.0029493203923849926,
           0.0002502457213192039,
           0.0018133040295068904,
           0.004372988257721436,
           0.00026244295844292745,
           0.006777173085243294,
           0.00038510803299073455,
           0.010036241024185289,
           0.0005264988681037747,
           0.014258655087825228,
           0.0006770051011842517,
           0.01858823086012593,
           0.0007875032465630954,
           0.020576038758764136,
           0.0007875032465630954,
           0.01858823086012593,
           0.0006770051011842517,
           0.014258655087825228,
           0.0005264988681037747,
           0.010036241024185289,
           0.00038510803299073455,
           0.006777173085243294,
           0.00026244295844292745,
           0.004372988257721436,
           0.0001624881827471288,
           0.00017053837380866734,
           0.001997189890519644,
           0.00026244295844292745,
           0.0029493203923849926,
           0.00036675961660750966,
           0.004013148562453134,
           0.00047181070786766533,
           0.0050525731800775955,
           0.0005579889848753228,
           0.005758952219855128,
           0.000593018190890082,
           0.005758952219855128,
           0.0005579889848753228,
           0.0050525731800775955,
           0.00047181070786766533,
           0.004013148562453134,
           0.00036675961660750966,
           0.0029493203923849926,
           0.00026244295844292745,
           0.001997189890519644,
           0.00017053837380866734,
           0.0012322357226165234,
           0.0028933997594831366,
           0.00017053837380866734,
           0.004372988257721436,
           0.0002502457213192039,
           0.0061238241040120385,
           0.00033304272625363836,
           0.00794777437019291,
           0.0004046104654656901,
           0.009439963678929368,
           0.0004477423527966519,
           0.010036241024185289,
           0.0004477423527966519,
           0.009439963678929368,
           0.0004046104654656901,
           0.00794777437019291,
           0.00033304272625363836,
           0.0061238241040120385,
           0.0002502457213192039,
           0.004372988257721436,
           0.00017053837380866734,
           0.0028933997594831366,
           0.00010475412746486686,
           0.00010475412746486686,
           0.0012322357226165238,
           0.00016248818274712892,
           0.0018133040295068904,
           0.00022748648865918183,
           0.0024242337660778466,
           0.0002886327850117211,
           0.0029493203923849926,
           0.00033304272625363836,
           0.0032593368724953375,
           0.0003494387579983335,
           0.0032593368724953375,
           0.00033304272625363836,
           0.0029493203923849926,
           0.0002886327850117211,
           0.0024242337660778466,
           0.00022748648865918196,
           0.0018133040295068904,
           0.00016248818274712892,
           0.0012322357226165238,
           0.00010475412746486686,
           0.0007592464685008874
          ],
          "colorscale": [
           [
            0,
            "black"
           ],
           [
            1,
            "white"
           ]
          ],
          "size": 8
         },
         "mode": "markers",
         "showlegend": false,
         "text": [
          "(1̅0, 1̅0, 0)",
          "(9̅, 1̅0, 0)",
          "(8̅, 1̅0, 0)",
          "(7̅, 1̅0, 0)",
          "(6̅, 1̅0, 0)",
          "(5̅, 1̅0, 0)",
          "(4̅, 1̅0, 0)",
          "(3̅, 1̅0, 0)",
          "(2̅, 1̅0, 0)",
          "(1̅, 1̅0, 0)",
          "(0, 1̅0, 0)",
          "(1, 1̅0, 0)",
          "(2, 1̅0, 0)",
          "(3, 1̅0, 0)",
          "(4, 1̅0, 0)",
          "(5, 1̅0, 0)",
          "(6, 1̅0, 0)",
          "(7, 1̅0, 0)",
          "(8, 1̅0, 0)",
          "(9, 1̅0, 0)",
          "(10, 1̅0, 0)",
          "(11, 1̅0, 0)",
          "(1̅0, 9̅, 0)",
          "(9̅, 9̅, 0)",
          "(8̅, 9̅, 0)",
          "(7̅, 9̅, 0)",
          "(6̅, 9̅, 0)",
          "(5̅, 9̅, 0)",
          "(4̅, 9̅, 0)",
          "(3̅, 9̅, 0)",
          "(2̅, 9̅, 0)",
          "(1̅, 9̅, 0)",
          "(0, 9̅, 0)",
          "(1, 9̅, 0)",
          "(2, 9̅, 0)",
          "(3, 9̅, 0)",
          "(4, 9̅, 0)",
          "(5, 9̅, 0)",
          "(6, 9̅, 0)",
          "(7, 9̅, 0)",
          "(8, 9̅, 0)",
          "(9, 9̅, 0)",
          "(10, 9̅, 0)",
          "(11, 9̅, 0)",
          "(1̅0, 8̅, 0)",
          "(9̅, 8̅, 0)",
          "(8̅, 8̅, 0)",
          "(7̅, 8̅, 0)",
          "(6̅, 8̅, 0)",
          "(5̅, 8̅, 0)",
          "(4̅, 8̅, 0)",
          "(3̅, 8̅, 0)",
          "(2̅, 8̅, 0)",
          "(1̅, 8̅, 0)",
          "(0, 8̅, 0)",
          "(1, 8̅, 0)",
          "(2, 8̅, 0)",
          "(3, 8̅, 0)",
          "(4, 8̅, 0)",
          "(5, 8̅, 0)",
          "(6, 8̅, 0)",
          "(7, 8̅, 0)",
          "(8, 8̅, 0)",
          "(9, 8̅, 0)",
          "(10, 8̅, 0)",
          "(11, 8̅, 0)",
          "(1̅0, 7̅, 0)",
          "(9̅, 7̅, 0)",
          "(8̅, 7̅, 0)",
          "(7̅, 7̅, 0)",
          "(6̅, 7̅, 0)",
          "(5̅, 7̅, 0)",
          "(4̅, 7̅, 0)",
          "(3̅, 7̅, 0)",
          "(2̅, 7̅, 0)",
          "(1̅, 7̅, 0)",
          "(0, 7̅, 0)",
          "(1, 7̅, 0)",
          "(2, 7̅, 0)",
          "(3, 7̅, 0)",
          "(4, 7̅, 0)",
          "(5, 7̅, 0)",
          "(6, 7̅, 0)",
          "(7, 7̅, 0)",
          "(8, 7̅, 0)",
          "(9, 7̅, 0)",
          "(10, 7̅, 0)",
          "(11, 7̅, 0)",
          "(1̅0, 6̅, 0)",
          "(9̅, 6̅, 0)",
          "(8̅, 6̅, 0)",
          "(7̅, 6̅, 0)",
          "(6̅, 6̅, 0)",
          "(5̅, 6̅, 0)",
          "(4̅, 6̅, 0)",
          "(3̅, 6̅, 0)",
          "(2̅, 6̅, 0)",
          "(1̅, 6̅, 0)",
          "(0, 6̅, 0)",
          "(1, 6̅, 0)",
          "(2, 6̅, 0)",
          "(3, 6̅, 0)",
          "(4, 6̅, 0)",
          "(5, 6̅, 0)",
          "(6, 6̅, 0)",
          "(7, 6̅, 0)",
          "(8, 6̅, 0)",
          "(9, 6̅, 0)",
          "(10, 6̅, 0)",
          "(11, 6̅, 0)",
          "(1̅0, 5̅, 0)",
          "(9̅, 5̅, 0)",
          "(8̅, 5̅, 0)",
          "(7̅, 5̅, 0)",
          "(6̅, 5̅, 0)",
          "(5̅, 5̅, 0)",
          "(4̅, 5̅, 0)",
          "(3̅, 5̅, 0)",
          "(2̅, 5̅, 0)",
          "(1̅, 5̅, 0)",
          "(0, 5̅, 0)",
          "(1, 5̅, 0)",
          "(2, 5̅, 0)",
          "(3, 5̅, 0)",
          "(4, 5̅, 0)",
          "(5, 5̅, 0)",
          "(6, 5̅, 0)",
          "(7, 5̅, 0)",
          "(8, 5̅, 0)",
          "(9, 5̅, 0)",
          "(10, 5̅, 0)",
          "(11, 5̅, 0)",
          "(1̅0, 4̅, 0)",
          "(9̅, 4̅, 0)",
          "(8̅, 4̅, 0)",
          "(7̅, 4̅, 0)",
          "(6̅, 4̅, 0)",
          "(5̅, 4̅, 0)",
          "(4̅, 4̅, 0)",
          "(3̅, 4̅, 0)",
          "(2̅, 4̅, 0)",
          "(1̅, 4̅, 0)",
          "(0, 4̅, 0)",
          "(1, 4̅, 0)",
          "(2, 4̅, 0)",
          "(3, 4̅, 0)",
          "(4, 4̅, 0)",
          "(5, 4̅, 0)",
          "(6, 4̅, 0)",
          "(7, 4̅, 0)",
          "(8, 4̅, 0)",
          "(9, 4̅, 0)",
          "(10, 4̅, 0)",
          "(11, 4̅, 0)",
          "(1̅0, 3̅, 0)",
          "(9̅, 3̅, 0)",
          "(8̅, 3̅, 0)",
          "(7̅, 3̅, 0)",
          "(6̅, 3̅, 0)",
          "(5̅, 3̅, 0)",
          "(4̅, 3̅, 0)",
          "(3̅, 3̅, 0)",
          "(2̅, 3̅, 0)",
          "(1̅, 3̅, 0)",
          "(0, 3̅, 0)",
          "(1, 3̅, 0)",
          "(2, 3̅, 0)",
          "(3, 3̅, 0)",
          "(4, 3̅, 0)",
          "(5, 3̅, 0)",
          "(6, 3̅, 0)",
          "(7, 3̅, 0)",
          "(8, 3̅, 0)",
          "(9, 3̅, 0)",
          "(10, 3̅, 0)",
          "(11, 3̅, 0)",
          "(1̅0, 2̅, 0)",
          "(9̅, 2̅, 0)",
          "(8̅, 2̅, 0)",
          "(7̅, 2̅, 0)",
          "(6̅, 2̅, 0)",
          "(5̅, 2̅, 0)",
          "(4̅, 2̅, 0)",
          "(3̅, 2̅, 0)",
          "(2̅, 2̅, 0)",
          "(1̅, 2̅, 0)",
          "(0, 2̅, 0)",
          "(1, 2̅, 0)",
          "(2, 2̅, 0)",
          "(3, 2̅, 0)",
          "(4, 2̅, 0)",
          "(5, 2̅, 0)",
          "(6, 2̅, 0)",
          "(7, 2̅, 0)",
          "(8, 2̅, 0)",
          "(9, 2̅, 0)",
          "(10, 2̅, 0)",
          "(11, 2̅, 0)",
          "(1̅0, 1̅, 0)",
          "(9̅, 1̅, 0)",
          "(8̅, 1̅, 0)",
          "(7̅, 1̅, 0)",
          "(6̅, 1̅, 0)",
          "(5̅, 1̅, 0)",
          "(4̅, 1̅, 0)",
          "(3̅, 1̅, 0)",
          "(2̅, 1̅, 0)",
          "(1̅, 1̅, 0)",
          "(0, 1̅, 0)",
          "(1, 1̅, 0)",
          "(2, 1̅, 0)",
          "(3, 1̅, 0)",
          "(4, 1̅, 0)",
          "(5, 1̅, 0)",
          "(6, 1̅, 0)",
          "(7, 1̅, 0)",
          "(8, 1̅, 0)",
          "(9, 1̅, 0)",
          "(10, 1̅, 0)",
          "(11, 1̅, 0)",
          "(1̅0, 0, 0)",
          "(9̅, 0, 0)",
          "(8̅, 0, 0)",
          "(7̅, 0, 0)",
          "(6̅, 0, 0)",
          "(5̅, 0, 0)",
          "(4̅, 0, 0)",
          "(3̅, 0, 0)",
          "(2̅, 0, 0)",
          "(1̅, 0, 0)",
          "(1, 0, 0)",
          "(2, 0, 0)",
          "(3, 0, 0)",
          "(4, 0, 0)",
          "(5, 0, 0)",
          "(6, 0, 0)",
          "(7, 0, 0)",
          "(8, 0, 0)",
          "(9, 0, 0)",
          "(10, 0, 0)",
          "(11, 0, 0)",
          "(1̅0, 1, 0)",
          "(9̅, 1, 0)",
          "(8̅, 1, 0)",
          "(7̅, 1, 0)",
          "(6̅, 1, 0)",
          "(5̅, 1, 0)",
          "(4̅, 1, 0)",
          "(3̅, 1, 0)",
          "(2̅, 1, 0)",
          "(1̅, 1, 0)",
          "(0, 1, 0)",
          "(1, 1, 0)",
          "(2, 1, 0)",
          "(3, 1, 0)",
          "(4, 1, 0)",
          "(5, 1, 0)",
          "(6, 1, 0)",
          "(7, 1, 0)",
          "(8, 1, 0)",
          "(9, 1, 0)",
          "(10, 1, 0)",
          "(11, 1, 0)",
          "(1̅0, 2, 0)",
          "(9̅, 2, 0)",
          "(8̅, 2, 0)",
          "(7̅, 2, 0)",
          "(6̅, 2, 0)",
          "(5̅, 2, 0)",
          "(4̅, 2, 0)",
          "(3̅, 2, 0)",
          "(2̅, 2, 0)",
          "(1̅, 2, 0)",
          "(0, 2, 0)",
          "(1, 2, 0)",
          "(2, 2, 0)",
          "(3, 2, 0)",
          "(4, 2, 0)",
          "(5, 2, 0)",
          "(6, 2, 0)",
          "(7, 2, 0)",
          "(8, 2, 0)",
          "(9, 2, 0)",
          "(10, 2, 0)",
          "(11, 2, 0)",
          "(1̅0, 3, 0)",
          "(9̅, 3, 0)",
          "(8̅, 3, 0)",
          "(7̅, 3, 0)",
          "(6̅, 3, 0)",
          "(5̅, 3, 0)",
          "(4̅, 3, 0)",
          "(3̅, 3, 0)",
          "(2̅, 3, 0)",
          "(1̅, 3, 0)",
          "(0, 3, 0)",
          "(1, 3, 0)",
          "(2, 3, 0)",
          "(3, 3, 0)",
          "(4, 3, 0)",
          "(5, 3, 0)",
          "(6, 3, 0)",
          "(7, 3, 0)",
          "(8, 3, 0)",
          "(9, 3, 0)",
          "(10, 3, 0)",
          "(11, 3, 0)",
          "(1̅0, 4, 0)",
          "(9̅, 4, 0)",
          "(8̅, 4, 0)",
          "(7̅, 4, 0)",
          "(6̅, 4, 0)",
          "(5̅, 4, 0)",
          "(4̅, 4, 0)",
          "(3̅, 4, 0)",
          "(2̅, 4, 0)",
          "(1̅, 4, 0)",
          "(0, 4, 0)",
          "(1, 4, 0)",
          "(2, 4, 0)",
          "(3, 4, 0)",
          "(4, 4, 0)",
          "(5, 4, 0)",
          "(6, 4, 0)",
          "(7, 4, 0)",
          "(8, 4, 0)",
          "(9, 4, 0)",
          "(10, 4, 0)",
          "(11, 4, 0)",
          "(1̅0, 5, 0)",
          "(9̅, 5, 0)",
          "(8̅, 5, 0)",
          "(7̅, 5, 0)",
          "(6̅, 5, 0)",
          "(5̅, 5, 0)",
          "(4̅, 5, 0)",
          "(3̅, 5, 0)",
          "(2̅, 5, 0)",
          "(1̅, 5, 0)",
          "(0, 5, 0)",
          "(1, 5, 0)",
          "(2, 5, 0)",
          "(3, 5, 0)",
          "(4, 5, 0)",
          "(5, 5, 0)",
          "(6, 5, 0)",
          "(7, 5, 0)",
          "(8, 5, 0)",
          "(9, 5, 0)",
          "(10, 5, 0)",
          "(11, 5, 0)",
          "(1̅0, 6, 0)",
          "(9̅, 6, 0)",
          "(8̅, 6, 0)",
          "(7̅, 6, 0)",
          "(6̅, 6, 0)",
          "(5̅, 6, 0)",
          "(4̅, 6, 0)",
          "(3̅, 6, 0)",
          "(2̅, 6, 0)",
          "(1̅, 6, 0)",
          "(0, 6, 0)",
          "(1, 6, 0)",
          "(2, 6, 0)",
          "(3, 6, 0)",
          "(4, 6, 0)",
          "(5, 6, 0)",
          "(6, 6, 0)",
          "(7, 6, 0)",
          "(8, 6, 0)",
          "(9, 6, 0)",
          "(10, 6, 0)",
          "(11, 6, 0)",
          "(1̅0, 7, 0)",
          "(9̅, 7, 0)",
          "(8̅, 7, 0)",
          "(7̅, 7, 0)",
          "(6̅, 7, 0)",
          "(5̅, 7, 0)",
          "(4̅, 7, 0)",
          "(3̅, 7, 0)",
          "(2̅, 7, 0)",
          "(1̅, 7, 0)",
          "(0, 7, 0)",
          "(1, 7, 0)",
          "(2, 7, 0)",
          "(3, 7, 0)",
          "(4, 7, 0)",
          "(5, 7, 0)",
          "(6, 7, 0)",
          "(7, 7, 0)",
          "(8, 7, 0)",
          "(9, 7, 0)",
          "(10, 7, 0)",
          "(11, 7, 0)",
          "(1̅0, 8, 0)",
          "(9̅, 8, 0)",
          "(8̅, 8, 0)",
          "(7̅, 8, 0)",
          "(6̅, 8, 0)",
          "(5̅, 8, 0)",
          "(4̅, 8, 0)",
          "(3̅, 8, 0)",
          "(2̅, 8, 0)",
          "(1̅, 8, 0)",
          "(0, 8, 0)",
          "(1, 8, 0)",
          "(2, 8, 0)",
          "(3, 8, 0)",
          "(4, 8, 0)",
          "(5, 8, 0)",
          "(6, 8, 0)",
          "(7, 8, 0)",
          "(8, 8, 0)",
          "(9, 8, 0)",
          "(10, 8, 0)",
          "(11, 8, 0)",
          "(1̅0, 9, 0)",
          "(9̅, 9, 0)",
          "(8̅, 9, 0)",
          "(7̅, 9, 0)",
          "(6̅, 9, 0)",
          "(5̅, 9, 0)",
          "(4̅, 9, 0)",
          "(3̅, 9, 0)",
          "(2̅, 9, 0)",
          "(1̅, 9, 0)",
          "(0, 9, 0)",
          "(1, 9, 0)",
          "(2, 9, 0)",
          "(3, 9, 0)",
          "(4, 9, 0)",
          "(5, 9, 0)",
          "(6, 9, 0)",
          "(7, 9, 0)",
          "(8, 9, 0)",
          "(9, 9, 0)",
          "(10, 9, 0)",
          "(11, 9, 0)",
          "(1̅0, 10, 0)",
          "(9̅, 10, 0)",
          "(8̅, 10, 0)",
          "(7̅, 10, 0)",
          "(6̅, 10, 0)",
          "(5̅, 10, 0)",
          "(4̅, 10, 0)",
          "(3̅, 10, 0)",
          "(2̅, 10, 0)",
          "(1̅, 10, 0)",
          "(0, 10, 0)",
          "(1, 10, 0)",
          "(2, 10, 0)",
          "(3, 10, 0)",
          "(4, 10, 0)",
          "(5, 10, 0)",
          "(6, 10, 0)",
          "(7, 10, 0)",
          "(8, 10, 0)",
          "(9, 10, 0)",
          "(10, 10, 0)",
          "(11, 10, 0)",
          "(1̅0, 11, 0)",
          "(9̅, 11, 0)",
          "(8̅, 11, 0)",
          "(7̅, 11, 0)",
          "(6̅, 11, 0)",
          "(5̅, 11, 0)",
          "(4̅, 11, 0)",
          "(3̅, 11, 0)",
          "(2̅, 11, 0)",
          "(1̅, 11, 0)",
          "(0, 11, 0)",
          "(1, 11, 0)",
          "(2, 11, 0)",
          "(3, 11, 0)",
          "(4, 11, 0)",
          "(5, 11, 0)",
          "(6, 11, 0)",
          "(7, 11, 0)",
          "(8, 11, 0)",
          "(9, 11, 0)",
          "(10, 11, 0)",
          "(11, 11, 0)"
         ],
         "type": "scatter",
         "x": [
          10.012508059616433,
          9.011257253654788,
          8.010006447693145,
          7.008755641731502,
          6.007504835769859,
          5.006254029808216,
          4.005003223846572,
          3.003752417884929,
          2.002501611923286,
          1.001250805961643,
          0,
          -1.001250805961643,
          -2.002501611923286,
          -3.003752417884929,
          -4.005003223846572,
          -5.006254029808215,
          -6.007504835769858,
          -7.008755641731501,
          -8.010006447693144,
          -9.011257253654787,
          -10.01250805961643,
          -11.01375886557807,
          10.01250805961643,
          9.011257253654788,
          8.010006447693145,
          7.0087556417315025,
          6.007504835769859,
          5.006254029808216,
          4.005003223846573,
          3.003752417884929,
          2.002501611923286,
          1.001250805961643,
          0,
          -1.001250805961643,
          -2.002501611923286,
          -3.003752417884929,
          -4.005003223846572,
          -5.006254029808215,
          -6.007504835769858,
          -7.008755641731501,
          -8.010006447693144,
          -9.011257253654785,
          -10.012508059616428,
          -11.01375886557807,
          10.01250805961643,
          9.011257253654787,
          8.010006447693145,
          7.0087556417315025,
          6.0075048357698595,
          5.006254029808216,
          4.005003223846573,
          3.0037524178849297,
          2.002501611923286,
          1.001250805961643,
          0,
          -1.001250805961643,
          -2.002501611923286,
          -3.003752417884927,
          -4.005003223846572,
          -5.006254029808215,
          -6.007504835769858,
          -7.008755641731501,
          -8.010006447693144,
          -9.011257253654787,
          -10.01250805961643,
          -11.013758865578072,
          10.01250805961643,
          9.011257253654787,
          8.010006447693145,
          7.008755641731502,
          6.007504835769859,
          5.006254029808215,
          4.005003223846572,
          3.003752417884929,
          2.002501611923287,
          1.001250805961643,
          0,
          -1.001250805961643,
          -2.002501611923286,
          -3.003752417884929,
          -4.00500322384657,
          -5.006254029808215,
          -6.007504835769858,
          -7.008755641731501,
          -8.010006447693144,
          -9.011257253654787,
          -10.01250805961643,
          -11.013758865578072,
          10.01250805961643,
          9.011257253654787,
          8.010006447693144,
          7.008755641731502,
          6.007504835769859,
          5.006254029808216,
          4.005003223846572,
          3.003752417884929,
          2.002501611923286,
          1.0012508059616438,
          0,
          -1.001250805961643,
          -2.002501611923286,
          -3.003752417884929,
          -4.005003223846572,
          -5.006254029808214,
          -6.007504835769859,
          -7.008755641731502,
          -8.010006447693144,
          -9.011257253654787,
          -10.01250805961643,
          -11.013758865578072,
          10.01250805961643,
          9.011257253654787,
          8.010006447693144,
          7.008755641731501,
          6.007504835769858,
          5.006254029808216,
          4.005003223846573,
          3.0037524178849293,
          2.002501611923286,
          1.001250805961643,
          0,
          -1.001250805961643,
          -2.002501611923286,
          -3.003752417884929,
          -4.005003223846572,
          -5.006254029808215,
          -6.007504835769857,
          -7.008755641731502,
          -8.010006447693144,
          -9.011257253654787,
          -10.01250805961643,
          -11.013758865578072,
          10.01250805961643,
          9.011257253654787,
          8.010006447693144,
          7.008755641731502,
          6.007504835769858,
          5.006254029808215,
          4.005003223846573,
          3.0037524178849297,
          2.0025016119232864,
          1.001250805961643,
          0,
          -1.001250805961643,
          -2.002501611923286,
          -3.003752417884929,
          -4.005003223846572,
          -5.006254029808215,
          -6.007504835769858,
          -7.008755641731501,
          -8.010006447693144,
          -9.011257253654787,
          -10.01250805961643,
          -11.013758865578072,
          10.01250805961643,
          9.011257253654787,
          8.010006447693144,
          7.008755641731501,
          6.007504835769859,
          5.006254029808215,
          4.005003223846572,
          3.0037524178849293,
          2.002501611923286,
          1.001250805961643,
          0,
          -1.001250805961643,
          -2.002501611923286,
          -3.0037524178849293,
          -4.005003223846572,
          -5.006254029808215,
          -6.007504835769858,
          -7.008755641731501,
          -8.010006447693144,
          -9.011257253654787,
          -10.01250805961643,
          -11.013758865578072,
          10.01250805961643,
          9.011257253654787,
          8.010006447693144,
          7.008755641731501,
          6.007504835769858,
          5.006254029808215,
          4.005003223846572,
          3.003752417884929,
          2.0025016119232864,
          1.0012508059616432,
          0,
          -1.001250805961643,
          -2.002501611923286,
          -3.003752417884929,
          -4.005003223846572,
          -5.006254029808215,
          -6.007504835769858,
          -7.008755641731501,
          -8.010006447693144,
          -9.011257253654787,
          -10.01250805961643,
          -11.013758865578072,
          10.01250805961643,
          9.011257253654787,
          8.010006447693144,
          7.008755641731502,
          6.007504835769858,
          5.006254029808215,
          4.005003223846572,
          3.003752417884929,
          2.002501611923286,
          1.0012508059616432,
          0,
          -1.001250805961643,
          -2.002501611923286,
          -3.003752417884929,
          -4.005003223846572,
          -5.006254029808215,
          -6.007504835769858,
          -7.008755641731501,
          -8.010006447693144,
          -9.011257253654787,
          -10.01250805961643,
          -11.013758865578074,
          10.01250805961643,
          9.011257253654787,
          8.010006447693144,
          7.008755641731501,
          6.007504835769859,
          5.006254029808215,
          4.005003223846572,
          3.0037524178849293,
          2.002501611923286,
          1.0012508059616432,
          -1.001250805961643,
          -2.002501611923286,
          -3.0037524178849293,
          -4.005003223846572,
          -5.006254029808215,
          -6.007504835769859,
          -7.008755641731501,
          -8.010006447693144,
          -9.011257253654787,
          -10.01250805961643,
          -11.013758865578072,
          10.01250805961643,
          9.011257253654787,
          8.010006447693144,
          7.008755641731501,
          6.007504835769858,
          5.006254029808215,
          4.005003223846572,
          3.003752417884929,
          2.002501611923286,
          1.001250805961643,
          0,
          -1.0012508059616432,
          -2.002501611923286,
          -3.003752417884929,
          -4.005003223846572,
          -5.006254029808215,
          -6.007504835769858,
          -7.008755641731502,
          -8.010006447693144,
          -9.011257253654787,
          -10.01250805961643,
          -11.013758865578072,
          10.01250805961643,
          9.011257253654787,
          8.010006447693144,
          7.008755641731501,
          6.007504835769858,
          5.006254029808215,
          4.005003223846572,
          3.003752417884929,
          2.002501611923286,
          1.001250805961643,
          0,
          -1.0012508059616432,
          -2.0025016119232864,
          -3.003752417884929,
          -4.005003223846572,
          -5.006254029808215,
          -6.007504835769858,
          -7.008755641731501,
          -8.010006447693144,
          -9.011257253654787,
          -10.01250805961643,
          -11.013758865578072,
          10.01250805961643,
          9.011257253654787,
          8.010006447693144,
          7.008755641731501,
          6.007504835769858,
          5.006254029808215,
          4.005003223846572,
          3.0037524178849293,
          2.002501611923286,
          1.001250805961643,
          0,
          -1.001250805961643,
          -2.002501611923286,
          -3.0037524178849293,
          -4.005003223846572,
          -5.006254029808215,
          -6.007504835769859,
          -7.008755641731501,
          -8.010006447693144,
          -9.011257253654787,
          -10.01250805961643,
          -11.013758865578072,
          10.01250805961643,
          9.011257253654787,
          8.010006447693144,
          7.008755641731501,
          6.007504835769858,
          5.006254029808215,
          4.005003223846572,
          3.003752417884929,
          2.002501611923286,
          1.001250805961643,
          0,
          -1.001250805961643,
          -2.0025016119232864,
          -3.0037524178849297,
          -4.005003223846573,
          -5.006254029808215,
          -6.007504835769858,
          -7.008755641731502,
          -8.010006447693144,
          -9.011257253654787,
          -10.01250805961643,
          -11.013758865578072,
          10.01250805961643,
          9.011257253654787,
          8.010006447693144,
          7.008755641731502,
          6.007504835769857,
          5.006254029808215,
          4.005003223846572,
          3.003752417884929,
          2.002501611923286,
          1.001250805961643,
          0,
          -1.001250805961643,
          -2.002501611923286,
          -3.0037524178849293,
          -4.005003223846573,
          -5.006254029808216,
          -6.007504835769858,
          -7.008755641731501,
          -8.010006447693144,
          -9.011257253654787,
          -10.01250805961643,
          -11.013758865578072,
          10.01250805961643,
          9.011257253654787,
          8.010006447693144,
          7.008755641731502,
          6.007504835769859,
          5.006254029808214,
          4.005003223846572,
          3.003752417884929,
          2.002501611923286,
          1.001250805961643,
          0,
          -1.0012508059616438,
          -2.002501611923286,
          -3.003752417884929,
          -4.005003223846572,
          -5.006254029808216,
          -6.007504835769859,
          -7.008755641731502,
          -8.010006447693144,
          -9.011257253654787,
          -10.01250805961643,
          -11.013758865578072,
          10.01250805961643,
          9.011257253654787,
          8.010006447693144,
          7.008755641731501,
          6.007504835769858,
          5.006254029808215,
          4.00500322384657,
          3.003752417884929,
          2.002501611923286,
          1.001250805961643,
          0,
          -1.001250805961643,
          -2.002501611923287,
          -3.003752417884929,
          -4.005003223846572,
          -5.006254029808215,
          -6.007504835769859,
          -7.008755641731502,
          -8.010006447693145,
          -9.011257253654787,
          -10.01250805961643,
          -11.013758865578072,
          10.01250805961643,
          9.011257253654787,
          8.010006447693144,
          7.008755641731501,
          6.007504835769858,
          5.006254029808215,
          4.005003223846572,
          3.003752417884927,
          2.002501611923286,
          1.001250805961643,
          0,
          -1.001250805961643,
          -2.002501611923286,
          -3.0037524178849297,
          -4.005003223846573,
          -5.006254029808216,
          -6.0075048357698595,
          -7.0087556417315025,
          -8.010006447693145,
          -9.011257253654787,
          -10.01250805961643,
          -11.013758865578072,
          10.012508059616428,
          9.011257253654785,
          8.010006447693144,
          7.008755641731501,
          6.007504835769858,
          5.006254029808215,
          4.005003223846572,
          3.003752417884929,
          2.002501611923286,
          1.001250805961643,
          0,
          -1.001250805961643,
          -2.002501611923286,
          -3.003752417884929,
          -4.005003223846573,
          -5.006254029808216,
          -6.007504835769859,
          -7.0087556417315025,
          -8.010006447693145,
          -9.011257253654788,
          -10.01250805961643,
          -11.013758865578072,
          10.01250805961643,
          9.011257253654787,
          8.010006447693144,
          7.008755641731501,
          6.007504835769858,
          5.006254029808215,
          4.005003223846572,
          3.003752417884929,
          2.002501611923286,
          1.001250805961643,
          0,
          -1.001250805961643,
          -2.002501611923286,
          -3.003752417884929,
          -4.005003223846572,
          -5.006254029808216,
          -6.007504835769859,
          -7.008755641731502,
          -8.010006447693145,
          -9.011257253654788,
          -10.012508059616431,
          -11.013758865578072,
          10.012508059616428,
          9.011257253654785,
          8.010006447693142,
          7.008755641731499,
          6.007504835769856,
          5.006254029808213,
          4.00500322384657,
          3.0037524178849306,
          2.0025016119232877,
          1.0012508059616447,
          0,
          -1.001250805961643,
          -2.002501611923286,
          -3.003752417884929,
          -4.005003223846572,
          -5.006254029808215,
          -6.007504835769859,
          -7.008755641731502,
          -8.010006447693144,
          -9.011257253654787,
          -10.01250805961643,
          -11.013758865578072
         ],
         "y": [
          10.012508059616431,
          10.01250805961643,
          10.01250805961643,
          10.01250805961643,
          10.01250805961643,
          10.01250805961643,
          10.01250805961643,
          10.01250805961643,
          10.01250805961643,
          10.01250805961643,
          10.01250805961643,
          10.01250805961643,
          10.012508059616431,
          10.012508059616431,
          10.012508059616431,
          10.012508059616431,
          10.012508059616431,
          10.012508059616431,
          10.012508059616431,
          10.012508059616431,
          10.012508059616431,
          10.012508059616433,
          9.011257253654785,
          9.011257253654787,
          9.011257253654787,
          9.011257253654787,
          9.011257253654787,
          9.011257253654787,
          9.011257253654787,
          9.011257253654787,
          9.011257253654787,
          9.011257253654787,
          9.011257253654787,
          9.011257253654787,
          9.011257253654787,
          9.011257253654788,
          9.011257253654788,
          9.011257253654788,
          9.011257253654788,
          9.011257253654788,
          9.011257253654788,
          9.01125725365479,
          9.01125725365479,
          9.01125725365479,
          8.010006447693142,
          8.010006447693142,
          8.010006447693144,
          8.010006447693144,
          8.010006447693144,
          8.010006447693144,
          8.010006447693144,
          8.010006447693144,
          8.010006447693144,
          8.010006447693144,
          8.010006447693144,
          8.010006447693144,
          8.010006447693144,
          8.010006447693145,
          8.010006447693145,
          8.010006447693145,
          8.010006447693145,
          8.010006447693145,
          8.010006447693145,
          8.010006447693147,
          8.010006447693147,
          8.010006447693147,
          7.008755641731499,
          7.008755641731499,
          7.008755641731501,
          7.008755641731501,
          7.008755641731501,
          7.008755641731501,
          7.008755641731501,
          7.008755641731501,
          7.008755641731502,
          7.008755641731502,
          7.008755641731502,
          7.008755641731502,
          7.008755641731502,
          7.008755641731502,
          7.0087556417315025,
          7.0087556417315025,
          7.0087556417315025,
          7.0087556417315025,
          7.0087556417315025,
          7.0087556417315025,
          7.008755641731503,
          7.008755641731503,
          6.007504835769856,
          6.007504835769856,
          6.007504835769856,
          6.007504835769858,
          6.007504835769858,
          6.007504835769858,
          6.007504835769858,
          6.007504835769858,
          6.007504835769858,
          6.007504835769859,
          6.007504835769859,
          6.007504835769859,
          6.007504835769859,
          6.007504835769859,
          6.007504835769859,
          6.0075048357698595,
          6.0075048357698595,
          6.0075048357698595,
          6.0075048357698595,
          6.0075048357698595,
          6.0075048357698595,
          6.00750483576986,
          5.006254029808213,
          5.006254029808213,
          5.006254029808214,
          5.006254029808214,
          5.006254029808214,
          5.006254029808215,
          5.006254029808215,
          5.006254029808215,
          5.006254029808215,
          5.006254029808215,
          5.006254029808215,
          5.006254029808216,
          5.006254029808216,
          5.006254029808216,
          5.006254029808216,
          5.006254029808216,
          5.0062540298082165,
          5.0062540298082165,
          5.0062540298082165,
          5.0062540298082165,
          5.0062540298082165,
          5.006254029808218,
          4.005003223846571,
          4.005003223846571,
          4.005003223846571,
          4.005003223846571,
          4.005003223846571,
          4.005003223846571,
          4.005003223846572,
          4.005003223846572,
          4.005003223846572,
          4.005003223846572,
          4.005003223846572,
          4.005003223846572,
          4.005003223846573,
          4.005003223846573,
          4.005003223846573,
          4.005003223846574,
          4.005003223846574,
          4.005003223846574,
          4.005003223846574,
          4.005003223846574,
          4.005003223846574,
          4.0050032238465745,
          3.003752417884927,
          3.0037524178849275,
          3.0037524178849275,
          3.0037524178849275,
          3.003752417884928,
          3.003752417884928,
          3.003752417884928,
          3.003752417884929,
          3.003752417884929,
          3.003752417884929,
          3.0037524178849293,
          3.0037524178849293,
          3.0037524178849293,
          3.0037524178849297,
          3.0037524178849297,
          3.0037524178849297,
          3.00375241788493,
          3.00375241788493,
          3.00375241788493,
          3.003752417884931,
          3.003752417884931,
          3.0037524178849315,
          2.002501611923284,
          2.0025016119232846,
          2.0025016119232846,
          2.0025016119232846,
          2.002501611923285,
          2.0025016119232855,
          2.0025016119232855,
          2.0025016119232855,
          2.002501611923286,
          2.002501611923286,
          2.002501611923286,
          2.0025016119232864,
          2.0025016119232864,
          2.002501611923287,
          2.002501611923287,
          2.002501611923287,
          2.0025016119232872,
          2.0025016119232877,
          2.0025016119232877,
          2.0025016119232877,
          2.002501611923288,
          2.002501611923288,
          1.0012508059616412,
          1.0012508059616414,
          1.0012508059616416,
          1.0012508059616416,
          1.0012508059616418,
          1.001250805961642,
          1.0012508059616423,
          1.0012508059616425,
          1.0012508059616427,
          1.001250805961643,
          1.001250805961643,
          1.0012508059616432,
          1.0012508059616434,
          1.0012508059616436,
          1.0012508059616438,
          1.001250805961644,
          1.001250805961644,
          1.0012508059616445,
          1.0012508059616445,
          1.0012508059616447,
          1.001250805961645,
          1.0012508059616452,
          -1.9038382883132195e-15,
          -1.7134544594818975e-15,
          -1.5230706306505756e-15,
          -1.3326868018192536e-15,
          -1.1423029729879319e-15,
          -9.519191441566097e-16,
          -7.615353153252878e-16,
          -5.711514864939659e-16,
          -3.807676576626439e-16,
          0,
          1.9038382883132195e-16,
          3.807676576626439e-16,
          5.711514864939659e-16,
          7.615353153252878e-16,
          9.519191441566097e-16,
          1.1423029729879319e-15,
          1.3326868018192536e-15,
          1.5230706306505756e-15,
          1.7134544594818975e-15,
          1.9038382883132195e-15,
          2.0942221171445416e-15,
          -1.001250805961645,
          -1.0012508059616447,
          -1.0012508059616445,
          -1.0012508059616445,
          -1.001250805961644,
          -1.001250805961644,
          -1.0012508059616438,
          -1.0012508059616436,
          -1.0012508059616434,
          -1.0012508059616432,
          -1.001250805961643,
          -1.001250805961643,
          -1.0012508059616427,
          -1.0012508059616425,
          -1.0012508059616423,
          -1.001250805961642,
          -1.0012508059616418,
          -1.0012508059616416,
          -1.0012508059616416,
          -1.0012508059616414,
          -1.0012508059616412,
          -1.001250805961641,
          -2.002501611923288,
          -2.0025016119232877,
          -2.0025016119232877,
          -2.0025016119232877,
          -2.0025016119232872,
          -2.002501611923287,
          -2.002501611923287,
          -2.002501611923287,
          -2.0025016119232864,
          -2.0025016119232864,
          -2.002501611923286,
          -2.002501611923286,
          -2.002501611923286,
          -2.0025016119232855,
          -2.0025016119232855,
          -2.0025016119232855,
          -2.002501611923285,
          -2.0025016119232846,
          -2.0025016119232846,
          -2.0025016119232846,
          -2.002501611923284,
          -2.0025016119232837,
          -3.003752417884931,
          -3.003752417884931,
          -3.00375241788493,
          -3.00375241788493,
          -3.00375241788493,
          -3.0037524178849297,
          -3.0037524178849297,
          -3.0037524178849297,
          -3.0037524178849293,
          -3.0037524178849293,
          -3.0037524178849293,
          -3.003752417884929,
          -3.003752417884929,
          -3.003752417884929,
          -3.003752417884928,
          -3.003752417884928,
          -3.003752417884928,
          -3.0037524178849275,
          -3.0037524178849275,
          -3.0037524178849275,
          -3.003752417884927,
          -3.003752417884927,
          -4.005003223846574,
          -4.005003223846574,
          -4.005003223846574,
          -4.005003223846574,
          -4.005003223846574,
          -4.005003223846574,
          -4.005003223846573,
          -4.005003223846573,
          -4.005003223846573,
          -4.005003223846572,
          -4.005003223846572,
          -4.005003223846572,
          -4.005003223846572,
          -4.005003223846572,
          -4.005003223846572,
          -4.005003223846571,
          -4.005003223846571,
          -4.005003223846571,
          -4.005003223846571,
          -4.005003223846571,
          -4.005003223846571,
          -4.00500322384657,
          -5.0062540298082165,
          -5.0062540298082165,
          -5.0062540298082165,
          -5.0062540298082165,
          -5.0062540298082165,
          -5.006254029808216,
          -5.006254029808216,
          -5.006254029808216,
          -5.006254029808216,
          -5.006254029808216,
          -5.006254029808215,
          -5.006254029808215,
          -5.006254029808215,
          -5.006254029808215,
          -5.006254029808215,
          -5.006254029808215,
          -5.006254029808214,
          -5.006254029808214,
          -5.006254029808214,
          -5.006254029808213,
          -5.006254029808213,
          -5.006254029808213,
          -6.0075048357698595,
          -6.0075048357698595,
          -6.0075048357698595,
          -6.0075048357698595,
          -6.0075048357698595,
          -6.0075048357698595,
          -6.007504835769859,
          -6.007504835769859,
          -6.007504835769859,
          -6.007504835769859,
          -6.007504835769859,
          -6.007504835769859,
          -6.007504835769858,
          -6.007504835769858,
          -6.007504835769858,
          -6.007504835769858,
          -6.007504835769858,
          -6.007504835769858,
          -6.007504835769856,
          -6.007504835769856,
          -6.007504835769856,
          -6.007504835769856,
          -7.008755641731503,
          -7.0087556417315025,
          -7.0087556417315025,
          -7.0087556417315025,
          -7.0087556417315025,
          -7.0087556417315025,
          -7.0087556417315025,
          -7.008755641731502,
          -7.008755641731502,
          -7.008755641731502,
          -7.008755641731502,
          -7.008755641731502,
          -7.008755641731502,
          -7.008755641731501,
          -7.008755641731501,
          -7.008755641731501,
          -7.008755641731501,
          -7.008755641731501,
          -7.008755641731501,
          -7.008755641731499,
          -7.008755641731499,
          -7.008755641731499,
          -8.010006447693147,
          -8.010006447693147,
          -8.010006447693145,
          -8.010006447693145,
          -8.010006447693145,
          -8.010006447693145,
          -8.010006447693145,
          -8.010006447693145,
          -8.010006447693144,
          -8.010006447693144,
          -8.010006447693144,
          -8.010006447693144,
          -8.010006447693144,
          -8.010006447693144,
          -8.010006447693144,
          -8.010006447693144,
          -8.010006447693144,
          -8.010006447693144,
          -8.010006447693144,
          -8.010006447693142,
          -8.010006447693142,
          -8.010006447693142,
          -9.01125725365479,
          -9.01125725365479,
          -9.011257253654788,
          -9.011257253654788,
          -9.011257253654788,
          -9.011257253654788,
          -9.011257253654788,
          -9.011257253654788,
          -9.011257253654787,
          -9.011257253654787,
          -9.011257253654787,
          -9.011257253654787,
          -9.011257253654787,
          -9.011257253654787,
          -9.011257253654787,
          -9.011257253654787,
          -9.011257253654787,
          -9.011257253654787,
          -9.011257253654787,
          -9.011257253654787,
          -9.011257253654785,
          -9.011257253654785,
          -10.012508059616431,
          -10.012508059616431,
          -10.012508059616431,
          -10.012508059616431,
          -10.012508059616431,
          -10.012508059616431,
          -10.012508059616431,
          -10.012508059616431,
          -10.012508059616431,
          -10.01250805961643,
          -10.01250805961643,
          -10.01250805961643,
          -10.01250805961643,
          -10.01250805961643,
          -10.01250805961643,
          -10.01250805961643,
          -10.01250805961643,
          -10.01250805961643,
          -10.01250805961643,
          -10.01250805961643,
          -10.01250805961643,
          -10.012508059616428,
          -11.013758865578076,
          -11.013758865578076,
          -11.013758865578076,
          -11.013758865578076,
          -11.013758865578076,
          -11.013758865578076,
          -11.013758865578076,
          -11.013758865578072,
          -11.013758865578072,
          -11.013758865578072,
          -11.013758865578072,
          -11.013758865578072,
          -11.013758865578072,
          -11.013758865578072,
          -11.013758865578072,
          -11.013758865578072,
          -11.013758865578072,
          -11.013758865578072,
          -11.013758865578072,
          -11.01375886557807,
          -11.01375886557807,
          -11.01375886557807
         ]
        },
        {
         "hoverinfo": "text",
         "marker": {
          "cmax": 1,
          "cmin": 0,
          "color": "white",
          "size": 14
         },
         "mode": "markers",
         "showlegend": false,
         "text": "(0, 0, 0): Direct beam",
         "type": "scatter",
         "x": [
          0
         ],
         "y": [
          0
         ]
        }
       ],
       "layout": {
        "font": {
         "color": "#7f7f7f",
         "size": 14
        },
        "height": 550,
        "hovermode": "closest",
        "paper_bgcolor": "rgba(100,110,110,0.5)",
        "plot_bgcolor": "black",
        "template": {
         "data": {
          "bar": [
           {
            "error_x": {
             "color": "#2a3f5f"
            },
            "error_y": {
             "color": "#2a3f5f"
            },
            "marker": {
             "line": {
              "color": "#E5ECF6",
              "width": 0.5
             },
             "pattern": {
              "fillmode": "overlay",
              "size": 10,
              "solidity": 0.2
             }
            },
            "type": "bar"
           }
          ],
          "barpolar": [
           {
            "marker": {
             "line": {
              "color": "#E5ECF6",
              "width": 0.5
             },
             "pattern": {
              "fillmode": "overlay",
              "size": 10,
              "solidity": 0.2
             }
            },
            "type": "barpolar"
           }
          ],
          "carpet": [
           {
            "aaxis": {
             "endlinecolor": "#2a3f5f",
             "gridcolor": "white",
             "linecolor": "white",
             "minorgridcolor": "white",
             "startlinecolor": "#2a3f5f"
            },
            "baxis": {
             "endlinecolor": "#2a3f5f",
             "gridcolor": "white",
             "linecolor": "white",
             "minorgridcolor": "white",
             "startlinecolor": "#2a3f5f"
            },
            "type": "carpet"
           }
          ],
          "choropleth": [
           {
            "colorbar": {
             "outlinewidth": 0,
             "ticks": ""
            },
            "type": "choropleth"
           }
          ],
          "contour": [
           {
            "colorbar": {
             "outlinewidth": 0,
             "ticks": ""
            },
            "colorscale": [
             [
              0,
              "#0d0887"
             ],
             [
              0.1111111111111111,
              "#46039f"
             ],
             [
              0.2222222222222222,
              "#7201a8"
             ],
             [
              0.3333333333333333,
              "#9c179e"
             ],
             [
              0.4444444444444444,
              "#bd3786"
             ],
             [
              0.5555555555555556,
              "#d8576b"
             ],
             [
              0.6666666666666666,
              "#ed7953"
             ],
             [
              0.7777777777777778,
              "#fb9f3a"
             ],
             [
              0.8888888888888888,
              "#fdca26"
             ],
             [
              1,
              "#f0f921"
             ]
            ],
            "type": "contour"
           }
          ],
          "contourcarpet": [
           {
            "colorbar": {
             "outlinewidth": 0,
             "ticks": ""
            },
            "type": "contourcarpet"
           }
          ],
          "heatmap": [
           {
            "colorbar": {
             "outlinewidth": 0,
             "ticks": ""
            },
            "colorscale": [
             [
              0,
              "#0d0887"
             ],
             [
              0.1111111111111111,
              "#46039f"
             ],
             [
              0.2222222222222222,
              "#7201a8"
             ],
             [
              0.3333333333333333,
              "#9c179e"
             ],
             [
              0.4444444444444444,
              "#bd3786"
             ],
             [
              0.5555555555555556,
              "#d8576b"
             ],
             [
              0.6666666666666666,
              "#ed7953"
             ],
             [
              0.7777777777777778,
              "#fb9f3a"
             ],
             [
              0.8888888888888888,
              "#fdca26"
             ],
             [
              1,
              "#f0f921"
             ]
            ],
            "type": "heatmap"
           }
          ],
          "heatmapgl": [
           {
            "colorbar": {
             "outlinewidth": 0,
             "ticks": ""
            },
            "colorscale": [
             [
              0,
              "#0d0887"
             ],
             [
              0.1111111111111111,
              "#46039f"
             ],
             [
              0.2222222222222222,
              "#7201a8"
             ],
             [
              0.3333333333333333,
              "#9c179e"
             ],
             [
              0.4444444444444444,
              "#bd3786"
             ],
             [
              0.5555555555555556,
              "#d8576b"
             ],
             [
              0.6666666666666666,
              "#ed7953"
             ],
             [
              0.7777777777777778,
              "#fb9f3a"
             ],
             [
              0.8888888888888888,
              "#fdca26"
             ],
             [
              1,
              "#f0f921"
             ]
            ],
            "type": "heatmapgl"
           }
          ],
          "histogram": [
           {
            "marker": {
             "pattern": {
              "fillmode": "overlay",
              "size": 10,
              "solidity": 0.2
             }
            },
            "type": "histogram"
           }
          ],
          "histogram2d": [
           {
            "colorbar": {
             "outlinewidth": 0,
             "ticks": ""
            },
            "colorscale": [
             [
              0,
              "#0d0887"
             ],
             [
              0.1111111111111111,
              "#46039f"
             ],
             [
              0.2222222222222222,
              "#7201a8"
             ],
             [
              0.3333333333333333,
              "#9c179e"
             ],
             [
              0.4444444444444444,
              "#bd3786"
             ],
             [
              0.5555555555555556,
              "#d8576b"
             ],
             [
              0.6666666666666666,
              "#ed7953"
             ],
             [
              0.7777777777777778,
              "#fb9f3a"
             ],
             [
              0.8888888888888888,
              "#fdca26"
             ],
             [
              1,
              "#f0f921"
             ]
            ],
            "type": "histogram2d"
           }
          ],
          "histogram2dcontour": [
           {
            "colorbar": {
             "outlinewidth": 0,
             "ticks": ""
            },
            "colorscale": [
             [
              0,
              "#0d0887"
             ],
             [
              0.1111111111111111,
              "#46039f"
             ],
             [
              0.2222222222222222,
              "#7201a8"
             ],
             [
              0.3333333333333333,
              "#9c179e"
             ],
             [
              0.4444444444444444,
              "#bd3786"
             ],
             [
              0.5555555555555556,
              "#d8576b"
             ],
             [
              0.6666666666666666,
              "#ed7953"
             ],
             [
              0.7777777777777778,
              "#fb9f3a"
             ],
             [
              0.8888888888888888,
              "#fdca26"
             ],
             [
              1,
              "#f0f921"
             ]
            ],
            "type": "histogram2dcontour"
           }
          ],
          "mesh3d": [
           {
            "colorbar": {
             "outlinewidth": 0,
             "ticks": ""
            },
            "type": "mesh3d"
           }
          ],
          "parcoords": [
           {
            "line": {
             "colorbar": {
              "outlinewidth": 0,
              "ticks": ""
             }
            },
            "type": "parcoords"
           }
          ],
          "pie": [
           {
            "automargin": true,
            "type": "pie"
           }
          ],
          "scatter": [
           {
            "fillpattern": {
             "fillmode": "overlay",
             "size": 10,
             "solidity": 0.2
            },
            "type": "scatter"
           }
          ],
          "scatter3d": [
           {
            "line": {
             "colorbar": {
              "outlinewidth": 0,
              "ticks": ""
             }
            },
            "marker": {
             "colorbar": {
              "outlinewidth": 0,
              "ticks": ""
             }
            },
            "type": "scatter3d"
           }
          ],
          "scattercarpet": [
           {
            "marker": {
             "colorbar": {
              "outlinewidth": 0,
              "ticks": ""
             }
            },
            "type": "scattercarpet"
           }
          ],
          "scattergeo": [
           {
            "marker": {
             "colorbar": {
              "outlinewidth": 0,
              "ticks": ""
             }
            },
            "type": "scattergeo"
           }
          ],
          "scattergl": [
           {
            "marker": {
             "colorbar": {
              "outlinewidth": 0,
              "ticks": ""
             }
            },
            "type": "scattergl"
           }
          ],
          "scattermapbox": [
           {
            "marker": {
             "colorbar": {
              "outlinewidth": 0,
              "ticks": ""
             }
            },
            "type": "scattermapbox"
           }
          ],
          "scatterpolar": [
           {
            "marker": {
             "colorbar": {
              "outlinewidth": 0,
              "ticks": ""
             }
            },
            "type": "scatterpolar"
           }
          ],
          "scatterpolargl": [
           {
            "marker": {
             "colorbar": {
              "outlinewidth": 0,
              "ticks": ""
             }
            },
            "type": "scatterpolargl"
           }
          ],
          "scatterternary": [
           {
            "marker": {
             "colorbar": {
              "outlinewidth": 0,
              "ticks": ""
             }
            },
            "type": "scatterternary"
           }
          ],
          "surface": [
           {
            "colorbar": {
             "outlinewidth": 0,
             "ticks": ""
            },
            "colorscale": [
             [
              0,
              "#0d0887"
             ],
             [
              0.1111111111111111,
              "#46039f"
             ],
             [
              0.2222222222222222,
              "#7201a8"
             ],
             [
              0.3333333333333333,
              "#9c179e"
             ],
             [
              0.4444444444444444,
              "#bd3786"
             ],
             [
              0.5555555555555556,
              "#d8576b"
             ],
             [
              0.6666666666666666,
              "#ed7953"
             ],
             [
              0.7777777777777778,
              "#fb9f3a"
             ],
             [
              0.8888888888888888,
              "#fdca26"
             ],
             [
              1,
              "#f0f921"
             ]
            ],
            "type": "surface"
           }
          ],
          "table": [
           {
            "cells": {
             "fill": {
              "color": "#EBF0F8"
             },
             "line": {
              "color": "white"
             }
            },
            "header": {
             "fill": {
              "color": "#C8D4E3"
             },
             "line": {
              "color": "white"
             }
            },
            "type": "table"
           }
          ]
         },
         "layout": {
          "annotationdefaults": {
           "arrowcolor": "#2a3f5f",
           "arrowhead": 0,
           "arrowwidth": 1
          },
          "autotypenumbers": "strict",
          "coloraxis": {
           "colorbar": {
            "outlinewidth": 0,
            "ticks": ""
           }
          },
          "colorscale": {
           "diverging": [
            [
             0,
             "#8e0152"
            ],
            [
             0.1,
             "#c51b7d"
            ],
            [
             0.2,
             "#de77ae"
            ],
            [
             0.3,
             "#f1b6da"
            ],
            [
             0.4,
             "#fde0ef"
            ],
            [
             0.5,
             "#f7f7f7"
            ],
            [
             0.6,
             "#e6f5d0"
            ],
            [
             0.7,
             "#b8e186"
            ],
            [
             0.8,
             "#7fbc41"
            ],
            [
             0.9,
             "#4d9221"
            ],
            [
             1,
             "#276419"
            ]
           ],
           "sequential": [
            [
             0,
             "#0d0887"
            ],
            [
             0.1111111111111111,
             "#46039f"
            ],
            [
             0.2222222222222222,
             "#7201a8"
            ],
            [
             0.3333333333333333,
             "#9c179e"
            ],
            [
             0.4444444444444444,
             "#bd3786"
            ],
            [
             0.5555555555555556,
             "#d8576b"
            ],
            [
             0.6666666666666666,
             "#ed7953"
            ],
            [
             0.7777777777777778,
             "#fb9f3a"
            ],
            [
             0.8888888888888888,
             "#fdca26"
            ],
            [
             1,
             "#f0f921"
            ]
           ],
           "sequentialminus": [
            [
             0,
             "#0d0887"
            ],
            [
             0.1111111111111111,
             "#46039f"
            ],
            [
             0.2222222222222222,
             "#7201a8"
            ],
            [
             0.3333333333333333,
             "#9c179e"
            ],
            [
             0.4444444444444444,
             "#bd3786"
            ],
            [
             0.5555555555555556,
             "#d8576b"
            ],
            [
             0.6666666666666666,
             "#ed7953"
            ],
            [
             0.7777777777777778,
             "#fb9f3a"
            ],
            [
             0.8888888888888888,
             "#fdca26"
            ],
            [
             1,
             "#f0f921"
            ]
           ]
          },
          "colorway": [
           "#636efa",
           "#EF553B",
           "#00cc96",
           "#ab63fa",
           "#FFA15A",
           "#19d3f3",
           "#FF6692",
           "#B6E880",
           "#FF97FF",
           "#FECB52"
          ],
          "font": {
           "color": "#2a3f5f"
          },
          "geo": {
           "bgcolor": "white",
           "lakecolor": "white",
           "landcolor": "#E5ECF6",
           "showlakes": true,
           "showland": true,
           "subunitcolor": "white"
          },
          "hoverlabel": {
           "align": "left"
          },
          "hovermode": "closest",
          "mapbox": {
           "style": "light"
          },
          "paper_bgcolor": "white",
          "plot_bgcolor": "#E5ECF6",
          "polar": {
           "angularaxis": {
            "gridcolor": "white",
            "linecolor": "white",
            "ticks": ""
           },
           "bgcolor": "#E5ECF6",
           "radialaxis": {
            "gridcolor": "white",
            "linecolor": "white",
            "ticks": ""
           }
          },
          "scene": {
           "xaxis": {
            "backgroundcolor": "#E5ECF6",
            "gridcolor": "white",
            "gridwidth": 2,
            "linecolor": "white",
            "showbackground": true,
            "ticks": "",
            "zerolinecolor": "white"
           },
           "yaxis": {
            "backgroundcolor": "#E5ECF6",
            "gridcolor": "white",
            "gridwidth": 2,
            "linecolor": "white",
            "showbackground": true,
            "ticks": "",
            "zerolinecolor": "white"
           },
           "zaxis": {
            "backgroundcolor": "#E5ECF6",
            "gridcolor": "white",
            "gridwidth": 2,
            "linecolor": "white",
            "showbackground": true,
            "ticks": "",
            "zerolinecolor": "white"
           }
          },
          "shapedefaults": {
           "line": {
            "color": "#2a3f5f"
           }
          },
          "ternary": {
           "aaxis": {
            "gridcolor": "white",
            "linecolor": "white",
            "ticks": ""
           },
           "baxis": {
            "gridcolor": "white",
            "linecolor": "white",
            "ticks": ""
           },
           "bgcolor": "#E5ECF6",
           "caxis": {
            "gridcolor": "white",
            "linecolor": "white",
            "ticks": ""
           }
          },
          "title": {
           "x": 0.05
          },
          "xaxis": {
           "automargin": true,
           "gridcolor": "white",
           "linecolor": "white",
           "ticks": "",
           "title": {
            "standoff": 15
           },
           "zerolinecolor": "white",
           "zerolinewidth": 2
          },
          "yaxis": {
           "automargin": true,
           "gridcolor": "white",
           "linecolor": "white",
           "ticks": "",
           "title": {
            "standoff": 15
           },
           "zerolinecolor": "white",
           "zerolinewidth": 2
          }
         }
        },
        "title": {
         "text": "2D Diffraction Pattern<br>Beam Direction: 001"
        },
        "width": 550,
        "xaxis": {
         "range": [
          -4,
          4
         ],
         "showgrid": false,
         "showline": false,
         "showticklabels": false,
         "ticks": "",
         "zeroline": false
        },
        "yaxis": {
         "range": [
          -4,
          4
         ],
         "showgrid": false,
         "showline": false,
         "showticklabels": false,
         "ticks": "",
         "zeroline": false
        }
       }
      }
     },
     "metadata": {},
     "output_type": "display_data"
    }
   ],
   "source": [
    "from pymatgen.analysis.diffraction.tem import TEMCalculator \n",
    "from mpl_toolkits.axes_grid1 import make_axes_locatable\n",
    "\n",
    "structure = Structure.from_file(\"BaTiO3.cif\")\n",
    "tem = TEMCalculator(voltage = 200, beam_direction=(0, 0, 1))\n",
    "\n",
    "fig = tem.get_plot_2d(structure)\n",
    "\n",
    "fig.show()\n",
    "\n"
   ]
  }
 ],
 "metadata": {
  "kernelspec": {
   "display_name": "matsci",
   "language": "python",
   "name": "python3"
  },
  "language_info": {
   "codemirror_mode": {
    "name": "ipython",
    "version": 3
   },
   "file_extension": ".py",
   "mimetype": "text/x-python",
   "name": "python",
   "nbconvert_exporter": "python",
   "pygments_lexer": "ipython3",
   "version": "3.12.6"
  }
 },
 "nbformat": 4,
 "nbformat_minor": 2
}
