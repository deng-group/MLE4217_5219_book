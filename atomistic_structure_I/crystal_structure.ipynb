{
 "cells": [
  {
   "cell_type": "markdown",
   "metadata": {},
   "source": [
    "# Practical: Crystal Structure\n",
    "\n",
    "`pymatgen` (Python Materials Genome) is a Python library for materials analysis. It provides classes to work with crystal structures, molecules, and other materials-related objects. It also provides tools to perform various analyses on these objects.\n",
    "\n",
    "In this practical, we will learn how to use the `pymatgen` library to work with crystal structures. We will learn how to create a crystal structure, visualize it, and perform some basic operations on it. \n",
    "\n",
    "In short words, crystal structure = lattice + basis. We will start from the lattice.\n",
    "\n",
    "## Lattice\n",
    "\n",
    "Crystal structure is a fundamental concept in materials science. It describes the arrangement of atoms in a solid material. The crystal structure of a material can be described by the lattice parameters and the atomic positions within the unit cell.\n",
    "\n",
    "You can use `pymatgen` to create a `Lattice` object. The lattice is defined by three lattice vectors `a`, `b`, and `c`. You can supply lattice vectors as a tuple `(a, b, c)` or as a $3\\times3$ matrix.\n",
    "\n",
    "$$\n",
    "\\begin{pmatrix}\n",
    "a_x & a_y & a_z \\\\\n",
    "b_x & b_y & b_z \\\\\n",
    "c_x & c_y & c_z \\\\\n",
    "\\end{pmatrix}\n",
    "$$\n"
   ]
  },
  {
   "cell_type": "code",
   "execution_count": 27,
   "metadata": {},
   "outputs": [
    {
     "name": "stdout",
     "output_type": "stream",
     "text": [
      "5.430000 0.000000 0.000000\n",
      "-0.000000 5.430000 0.000000\n",
      "0.000000 0.000000 5.430000\n",
      "[2.715 2.715 2.715]\n"
     ]
    }
   ],
   "source": [
    "from pymatgen.core import Lattice\n",
    "\n",
    "# Create a Lattice object\n",
    "lattice = Lattice(matrix = [[5.43, 0, 0],  # ax, ay, az\n",
    "                            [0, 5.43, 0],  # bx, by, bz\n",
    "                            [0, 0, 5.43]]) # cx, cy, cz\n",
    "\n",
    "# Another way to create this Lattice object\n",
    "lattice = Lattice.from_parameters(a=5.43, b=5.43, c=5.43, alpha=90, beta=90, gamma=90)\n",
    "\n",
    "print(lattice)\n",
    "\n",
    "\n",
    "print(lattice.get_cartesian_coords([0.5, 0.5, 0.5]))\n",
    "\n"
   ]
  },
  {
   "cell_type": "markdown",
   "metadata": {},
   "source": [
    "### Reciprocal Lattice\n",
    "You can also create a reciprocal lattice object from the lattice object. The reciprocal lattice is defined by the reciprocal lattice vectors `a*`, `b*`, and `c*`. The reciprocal lattice vectors are given by the formula:\n",
    "$$\n",
    "\\mathbf{a}^* = 2\\pi \\frac{\\mathbf{b} \\times \\mathbf{c}}{\\mathbf{a} \\cdot (\\mathbf{b} \\times \\mathbf{c})}, \\quad\n",
    "\\mathbf{b}^* = 2\\pi \\frac{\\mathbf{c} \\times \\mathbf{a}}{\\mathbf{a} \\cdot (\\mathbf{b} \\times \\mathbf{c})}, \\quad\n",
    "\\mathbf{c}^* = 2\\pi \\frac{\\mathbf{a} \\times \\mathbf{b}}{\\mathbf{a} \\cdot (\\mathbf{b} \\times \\mathbf{c})}\n",
    "$$\n",
    "\n",
    "### Brillouin Zone\n",
    "The Brillouin zone is a primitive cell in reciprocal space. It is used to describe the behavior of electrons in a solid material. You can create a Brillouin zone object from the lattice object using `lattice.get_brillouin_zone()`. The Brillouin zone object contains the vertices of the Brillouin zone."
   ]
  },
  {
   "cell_type": "code",
   "execution_count": 28,
   "metadata": {},
   "outputs": [
    {
     "name": "stdout",
     "output_type": "stream",
     "text": [
      "reciprocal_lattice = \n",
      "1.157 0.000 0.000\n",
      "0.000 1.157 0.000\n",
      "-0.000 -0.000 1.157\n",
      "brillouin_zone = [[array([ 2.715,  2.715, -2.715]), array([ 2.715, -2.715, -2.715]), array([ 2.715, -2.715,  2.715]), array([2.715, 2.715, 2.715])], [array([-2.715, -2.715, -2.715]), array([-2.715,  2.715, -2.715]), array([-2.715,  2.715,  2.715]), array([-2.715, -2.715,  2.715])], [array([2.715, 2.715, 2.715]), array([ 2.715,  2.715, -2.715]), array([-2.715,  2.715, -2.715]), array([-2.715,  2.715,  2.715])], [array([-2.715, -2.715, -2.715]), array([-2.715,  2.715, -2.715]), array([ 2.715,  2.715, -2.715]), array([ 2.715, -2.715, -2.715])], [array([ 2.715, -2.715,  2.715]), array([ 2.715, -2.715, -2.715]), array([-2.715, -2.715, -2.715]), array([-2.715, -2.715,  2.715])], [array([ 2.715, -2.715,  2.715]), array([-2.715, -2.715,  2.715]), array([-2.715,  2.715,  2.715]), array([2.715, 2.715, 2.715])]]\n"
     ]
    }
   ],
   "source": [
    "reciprocal_lattice = lattice.reciprocal_lattice\n",
    "brillouin_zone = reciprocal_lattice.get_brillouin_zone()\n",
    "\n",
    "print(f\"reciprocal_lattice = \\n{reciprocal_lattice:.3f}\")\n",
    "print(f\"brillouin_zone = {brillouin_zone}\")"
   ]
  },
  {
   "cell_type": "markdown",
   "metadata": {},
   "source": [
    "## Basis\n",
    "Basis is the set of atomic positions within the unit cell. You can create a `Structure` object by providing the lattice and the basis. The basis is a list of atomic positions. Each atomic position is a tuple `(specie, coords)` where `species` is the atomic symbol and `coords` is the coordiantes (by default fractional) of the atom in the unit cell."
   ]
  },
  {
   "cell_type": "code",
   "execution_count": 47,
   "metadata": {},
   "outputs": [
    {
     "name": "stdout",
     "output_type": "stream",
     "text": [
      "Full Formula (Si8)\n",
      "Reduced Formula: Si\n",
      "abc   :   5.430000   5.430000   5.430000\n",
      "angles:  90.000000  90.000000  90.000000\n",
      "pbc   :       True       True       True\n",
      "Sites (8)\n",
      "  #  SP       a     b     c\n",
      "---  ----  ----  ----  ----\n",
      "  0  Si    0.5   0     0.5\n",
      "  1  Si    0.25  0.25  0.25\n",
      "  2  Si    0     0     0\n",
      "  3  Si    0.25  0.75  0.75\n",
      "  4  Si    0.75  0.25  0.75\n",
      "  5  Si    0     0.5   0.5\n",
      "  6  Si    0.5   0.5   0\n",
      "  7  Si    0.75  0.75  0.25\n"
     ]
    }
   ],
   "source": [
    "from pymatgen.core import Structure\n",
    "\n",
    "lattice_si = Lattice.from_parameters(a=5.43, b=5.43, c=5.43, alpha=90, beta=90, gamma=90) \n",
    "structure_si = Structure.from_spacegroup(sg=227, species=[\"Si\"], lattice=lattice_si, coords=[[0, 0, 0]])\n",
    "\n",
    "print(structure_si)"
   ]
  },
  {
   "cell_type": "markdown",
   "metadata": {},
   "source": [
    "## Structure Visualization\n",
    "You can export the crystal structure to a `.cif` file and visualize it using visualization tools like VESTA, Jmol, or VESTA.\n",
    "\n",
    "In this course, we will use VESTA to visualize the crystal structures. You can download VESTA from [here](https://jp-minerals.org/vesta/en/)."
   ]
  },
  {
   "cell_type": "code",
   "execution_count": 48,
   "metadata": {},
   "outputs": [
    {
     "name": "stderr",
     "output_type": "stream",
     "text": [
      "/Users/zeyudeng/apps/matsci/lib/python3.12/site-packages/pymatgen/io/cif.py:1724: FutureWarning: We strongly discourage using implicit binary/text `mode`, and this would not be allowed after 2025-06-01. I.e. you should pass t/b in `mode`.\n",
      "  with zopen(filename, mode=mode) as file:\n"
     ]
    },
    {
     "data": {
      "text/plain": [
       "\"# generated using pymatgen\\ndata_Si\\n_symmetry_space_group_name_H-M   'P 1'\\n_cell_length_a   5.43000000\\n_cell_length_b   5.43000000\\n_cell_length_c   5.43000000\\n_cell_angle_alpha   90.00000000\\n_cell_angle_beta   90.00000000\\n_cell_angle_gamma   90.00000000\\n_symmetry_Int_Tables_number   1\\n_chemical_formula_structural   Si\\n_chemical_formula_sum   Si8\\n_cell_volume   160.10300700\\n_cell_formula_units_Z   8\\nloop_\\n _symmetry_equiv_pos_site_id\\n _symmetry_equiv_pos_as_xyz\\n  1  'x, y, z'\\nloop_\\n _atom_site_type_symbol\\n _atom_site_label\\n _atom_site_symmetry_multiplicity\\n _atom_site_fract_x\\n _atom_site_fract_y\\n _atom_site_fract_z\\n _atom_site_occupancy\\n  Si  Si0  1  0.50000000  0.00000000  0.50000000  1\\n  Si  Si1  1  0.25000000  0.25000000  0.25000000  1\\n  Si  Si2  1  0.00000000  0.00000000  0.00000000  1\\n  Si  Si3  1  0.25000000  0.75000000  0.75000000  1\\n  Si  Si4  1  0.75000000  0.25000000  0.75000000  1\\n  Si  Si5  1  0.00000000  0.50000000  0.50000000  1\\n  Si  Si6  1  0.50000000  0.50000000  0.00000000  1\\n  Si  Si7  1  0.75000000  0.75000000  0.25000000  1\\n\""
      ]
     },
     "execution_count": 48,
     "metadata": {},
     "output_type": "execute_result"
    }
   ],
   "source": [
    "structure_si.to(filename=\"Si.cif\")"
   ]
  },
  {
   "cell_type": "markdown",
   "metadata": {},
   "source": [
    "## Primitive Cell vs Convensional Cell\n",
    "The primitive cell is the smallest unit cell that can be used to describe the crystal structure. The conventional cell is a larger unit cell that is used to describe the crystal structure in a more convenient way. You can convert a structure to a primitive cell using `structure.get_primitive_structure()`."
   ]
  },
  {
   "cell_type": "code",
   "execution_count": 50,
   "metadata": {},
   "outputs": [
    {
     "name": "stdout",
     "output_type": "stream",
     "text": [
      "conventional_structure = \n",
      "Full Formula (Si8)\n",
      "Reduced Formula: Si\n",
      "abc   :   5.430000   5.430000   5.430000\n",
      "angles:  90.000000  90.000000  90.000000\n",
      "pbc   :       True       True       True\n",
      "Sites (8)\n",
      "  #  SP       a     b     c\n",
      "---  ----  ----  ----  ----\n",
      "  0  Si    0.5   0     0.5\n",
      "  1  Si    0.25  0.25  0.25\n",
      "  2  Si    0     0     0\n",
      "  3  Si    0.25  0.75  0.75\n",
      "  4  Si    0.75  0.25  0.75\n",
      "  5  Si    0     0.5   0.5\n",
      "  6  Si    0.5   0.5   0\n",
      "  7  Si    0.75  0.75  0.25\n",
      "primitive_structure = \n",
      "Full Formula (Si2)\n",
      "Reduced Formula: Si\n",
      "abc   :   3.839590   3.839590   3.839590\n",
      "angles:  60.000000  60.000000  60.000000\n",
      "pbc   :       True       True       True\n",
      "Sites (2)\n",
      "  #  SP       a     b     c\n",
      "---  ----  ----  ----  ----\n",
      "  0  Si    0     0     0\n",
      "  1  Si    0.75  0.75  0.75\n",
      "\n"
     ]
    }
   ],
   "source": [
    "primitive_structure = structure_si.get_primitive_structure()\n",
    "\n",
    "print(f\"conventional_structure = \\n{structure_si}\")\n",
    "print(f\"primitive_structure = \\n{primitive_structure}\\n\")"
   ]
  },
  {
   "cell_type": "markdown",
   "metadata": {},
   "source": [
    "## Symmetry Operations\n",
    "Symmetry operations are operations that leave the crystal structure invariant. "
   ]
  },
  {
   "cell_type": "code",
   "execution_count": 51,
   "metadata": {},
   "outputs": [
    {
     "ename": "AttributeError",
     "evalue": "'int' object has no attribute 'endswith'",
     "output_type": "error",
     "traceback": [
      "\u001b[0;31m---------------------------------------------------------------------------\u001b[0m",
      "\u001b[0;31mAttributeError\u001b[0m                            Traceback (most recent call last)",
      "Cell \u001b[0;32mIn[51], line 3\u001b[0m\n\u001b[1;32m      1\u001b[0m \u001b[38;5;28;01mfrom\u001b[39;00m \u001b[38;5;21;01mpymatgen\u001b[39;00m\u001b[38;5;21;01m.\u001b[39;00m\u001b[38;5;21;01msymmetry\u001b[39;00m\u001b[38;5;21;01m.\u001b[39;00m\u001b[38;5;21;01mgroups\u001b[39;00m \u001b[38;5;28;01mimport\u001b[39;00m SpaceGroup\n\u001b[0;32m----> 3\u001b[0m sg_227 \u001b[38;5;241m=\u001b[39m \u001b[43mSpaceGroup\u001b[49m\u001b[43m(\u001b[49m\u001b[38;5;241;43m227\u001b[39;49m\u001b[43m)\u001b[49m\u001b[38;5;241m.\u001b[39msymbol\n\u001b[1;32m      4\u001b[0m \u001b[38;5;28mprint\u001b[39m(\u001b[38;5;124mf\u001b[39m\u001b[38;5;124m\"\u001b[39m\u001b[38;5;124mSpace group 227 is \u001b[39m\u001b[38;5;132;01m{\u001b[39;00msg_227\u001b[38;5;132;01m}\u001b[39;00m\u001b[38;5;124m\"\u001b[39m)\n",
      "File \u001b[0;32m~/apps/matsci/lib/python3.12/site-packages/monty/design_patterns.py:81\u001b[0m, in \u001b[0;36mcached_class.<locals>.new_new\u001b[0;34m(cls, *args, **kwargs)\u001b[0m\n\u001b[1;32m     78\u001b[0m \u001b[38;5;28;01melse\u001b[39;00m:\n\u001b[1;32m     79\u001b[0m     instance \u001b[38;5;241m=\u001b[39m orig_new(\u001b[38;5;28mcls\u001b[39m, \u001b[38;5;241m*\u001b[39margs, \u001b[38;5;241m*\u001b[39m\u001b[38;5;241m*\u001b[39mkwargs)\n\u001b[0;32m---> 81\u001b[0m \u001b[43morig_init\u001b[49m\u001b[43m(\u001b[49m\u001b[43minstance\u001b[49m\u001b[43m,\u001b[49m\u001b[43m \u001b[49m\u001b[38;5;241;43m*\u001b[39;49m\u001b[43margs\u001b[49m\u001b[43m,\u001b[49m\u001b[43m \u001b[49m\u001b[38;5;241;43m*\u001b[39;49m\u001b[38;5;241;43m*\u001b[39;49m\u001b[43mkwargs\u001b[49m\u001b[43m)\u001b[49m\n\u001b[1;32m     82\u001b[0m instance\u001b[38;5;241m.\u001b[39m_initialized \u001b[38;5;241m=\u001b[39m \u001b[38;5;28;01mTrue\u001b[39;00m\n\u001b[1;32m     83\u001b[0m cache[key] \u001b[38;5;241m=\u001b[39m instance\n",
      "File \u001b[0;32m~/apps/matsci/lib/python3.12/site-packages/pymatgen/symmetry/groups.py:274\u001b[0m, in \u001b[0;36mSpaceGroup.__init__\u001b[0;34m(self, int_symbol, hexagonal)\u001b[0m\n\u001b[1;32m    251\u001b[0m \u001b[38;5;250m\u001b[39m\u001b[38;5;124;03m\"\"\"Initialize a Space Group from its full or abbreviated international\u001b[39;00m\n\u001b[1;32m    252\u001b[0m \u001b[38;5;124;03msymbol. Only standard settings are supported.\u001b[39;00m\n\u001b[1;32m    253\u001b[0m \n\u001b[0;32m   (...)\u001b[0m\n\u001b[1;32m    270\u001b[0m \u001b[38;5;124;03m        attribute anymore).\u001b[39;00m\n\u001b[1;32m    271\u001b[0m \u001b[38;5;124;03m\"\"\"\u001b[39;00m\n\u001b[1;32m    272\u001b[0m \u001b[38;5;28;01mfrom\u001b[39;00m \u001b[38;5;21;01mpymatgen\u001b[39;00m\u001b[38;5;21;01m.\u001b[39;00m\u001b[38;5;21;01mcore\u001b[39;00m\u001b[38;5;21;01m.\u001b[39;00m\u001b[38;5;21;01moperations\u001b[39;00m \u001b[38;5;28;01mimport\u001b[39;00m SymmOp\n\u001b[0;32m--> 274\u001b[0m \u001b[38;5;28;01mif\u001b[39;00m \u001b[43mint_symbol\u001b[49m\u001b[38;5;241;43m.\u001b[39;49m\u001b[43mendswith\u001b[49m(\u001b[38;5;124m\"\u001b[39m\u001b[38;5;124mH\u001b[39m\u001b[38;5;124m\"\u001b[39m):\n\u001b[1;32m    275\u001b[0m     \u001b[38;5;28mself\u001b[39m\u001b[38;5;241m.\u001b[39mhexagonal \u001b[38;5;241m=\u001b[39m \u001b[38;5;28;01mTrue\u001b[39;00m\n\u001b[1;32m    276\u001b[0m     \u001b[38;5;28;01mif\u001b[39;00m \u001b[38;5;129;01mnot\u001b[39;00m int_symbol\u001b[38;5;241m.\u001b[39mendswith(\u001b[38;5;124m\"\u001b[39m\u001b[38;5;124m:H\u001b[39m\u001b[38;5;124m\"\u001b[39m):\n",
      "\u001b[0;31mAttributeError\u001b[0m: 'int' object has no attribute 'endswith'"
     ]
    }
   ],
   "source": [
    "from pymatgen.symmetry.groups import SpaceGroup\n",
    "\n",
    "sg_227 = SpaceGroup(227).symbol\n",
    "print(f\"Space group 227 is {sg_227}\")"
   ]
  }
 ],
 "metadata": {
  "kernelspec": {
   "display_name": "matsci",
   "language": "python",
   "name": "python3"
  },
  "language_info": {
   "codemirror_mode": {
    "name": "ipython",
    "version": 3
   },
   "file_extension": ".py",
   "mimetype": "text/x-python",
   "name": "python",
   "nbconvert_exporter": "python",
   "pygments_lexer": "ipython3",
   "version": "3.12.6"
  }
 },
 "nbformat": 4,
 "nbformat_minor": 2
}
