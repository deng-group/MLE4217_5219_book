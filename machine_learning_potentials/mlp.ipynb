{
 "cells": [
  {
   "cell_type": "markdown",
   "id": "e75d255c",
   "metadata": {},
   "source": [
    "# Practical: MLPs\n",
    "In this guide, you'll explore how to train and evaluate a MACE model—an MLIP celebrated for its accuracy and performance. Although we focus on MACE, the techniques discussed here can be applied to various machine learning interatomic potentials. For a comprehensive understanding of MACE, consider reading the [primary methodology paper](https://proceedings.neurips.cc/paper_files/paper/2022/file/4a36c3c51af11ed9f34615b81edb5bbc-Paper-Conference.pdf). The MACE framework emerges from merging the principles of Atomic Cluster Expansion (ACE) with those of Neural Equivariant Interatomic Potentials (NequIP), a union further elaborated in the [corresponding publication](https://doi.org/10.48550/arXiv.2205.06643). You can also refer to [this study](https://doi.org/10.48550/arXiv.2305.14247) for insights into its benchmark performance. The complete [codebase](https://github.com/ACEsuit/mace) is available publicly, and you can find the detailed documentation [here](https://mace-docs.readthedocs.io/en/latest/). This notebook was prepared by Ioan Magdău, Ilyes Batatia, and Will Baldwin.\n"
   ]
  },
  {
   "cell_type": "code",
   "execution_count": null,
   "id": "f5946b19",
   "metadata": {},
   "outputs": [
    {
     "name": "stdout",
     "output_type": "stream",
     "text": [
      "fatal: destination path 'Tutorials' already exists and is not an empty directory.\n",
      "/Users/zeyudeng/Desktop/workspace/teaching/MLE4217_5219_book/machine_learning_potentials/Tutorials\n"
     ]
    }
   ],
   "source": [
    "!git clone https://github.com/imagdau/Tutorials.git\n",
    "!pip \n",
    "%cd Tutorials\n"
   ]
  },
  {
   "cell_type": "code",
   "execution_count": 3,
   "id": "b63cd0a9",
   "metadata": {},
   "outputs": [
    {
     "name": "stdout",
     "output_type": "stream",
     "text": [
      "Number of configs in database:  5000\n",
      "Number of atoms in each config:  [24 22 25 ... 25 32 40]\n",
      "Number of atoms in the smallest config:  8\n",
      "Information stored in config.info: \n",
      " {}\n",
      "Information stored in config.arrays: \n",
      " {'numbers': array([6, 8, 6, 8, 6, 1, 1, 8, 1, 1, 6, 8, 8, 8, 6, 6, 6, 1, 1, 6, 1, 1,\n",
      "       1, 1, 1, 1, 1, 1]), 'positions': array([[ 2.42930269,  5.21925545, -2.44555688],\n",
      "       [ 1.36888075,  4.36736107, -3.07848001],\n",
      "       [ 1.0430907 ,  3.33270121, -2.205446  ],\n",
      "       [ 1.83499873,  3.2705152 , -1.20140588],\n",
      "       [ 2.83662271,  4.2916441 , -1.29654086],\n",
      "       [ 3.20092463,  5.52685308, -3.12019396],\n",
      "       [ 1.98896468,  6.07220507, -2.07261896],\n",
      "       [ 0.15712669,  2.55914021, -2.58440089],\n",
      "       [ 3.80655074,  3.73805737, -1.62337792],\n",
      "       [ 3.03487277,  4.82053137, -0.40139091],\n",
      "       [-1.35643137, -2.96665978,  1.35700715],\n",
      "       [-1.21188033, -2.7462728 ,  0.1501831 ],\n",
      "       [-0.54117233, -3.68505168,  2.08627701],\n",
      "       [-2.42475724, -2.65949082,  2.02500916],\n",
      "       [ 0.77742571, -4.09808683,  1.66831815],\n",
      "       [-3.53945827, -1.88707876,  1.42200315],\n",
      "       [ 1.73322475, -4.50847292,  2.87280703],\n",
      "       [ 0.66669869, -4.92906666,  0.76705009],\n",
      "       [ 1.3917917 , -3.23983574,  1.1674931 ],\n",
      "       [-3.06572843, -0.32736671,  1.23231006],\n",
      "       [-3.63455939, -2.22064781,  0.3318561 ],\n",
      "       [-4.44695711, -2.07443976,  2.06374216],\n",
      "       [-4.00157547,  0.09648129,  0.88270313],\n",
      "       [-2.76880741, -0.07249171,  2.23861504],\n",
      "       [-2.29997635, -0.1477067 ,  0.5424301 ],\n",
      "       [ 2.7102387 , -4.80586767,  2.51738405],\n",
      "       [ 1.87028074, -3.73427963,  3.67782402],\n",
      "       [ 1.22818565, -5.34521389,  3.32096505]])}\n"
     ]
    }
   ],
   "source": [
    "from ase.io import read, write\n",
    "import numpy as np\n",
    "\n",
    "db = read('data/solvent_configs.xyz', ':') #read in list of configs\n",
    "\n",
    "print(\"Number of configs in database: \", len(db))\n",
    "print(\"Number of atoms in each config: \", np.array([len(at) for at in db]))\n",
    "print(\"Number of atoms in the smallest config: \", np.min([len(at) for at in db])) #test if database contains isolated atoms\n",
    "print(\"Information stored in config.info: \\n\", db[10].info) #check info\n",
    "print(\"Information stored in config.arrays: \\n\", db[10].arrays)"
   ]
  },
  {
   "cell_type": "code",
   "execution_count": 4,
   "id": "9cdcd31c",
   "metadata": {},
   "outputs": [
    {
     "data": {
      "image/png": "[encoded data removed]",
      "text/plain": [
       "<Figure size 640x480 with 1 Axes>"
      ]
     },
     "metadata": {},
     "output_type": "display_data"
    }
   ],
   "source": [
    "from matplotlib import pyplot as plt\n",
    "\n",
    "db = read('data/solvent_molecs.xyz', ':')\n",
    "Nmols = np.array([at.info['Nmols'] for at in db]) #collect Nmols information across all data\n",
    "plt.hist(Nmols, align='left', bins=[1,2,3,4,5,6,7], rwidth=0.8);\n",
    "plt.xlabel('# Molecs');\n",
    "plt.ylabel('# Configs comprising that # Molecs');"
   ]
  },
  {
   "cell_type": "code",
   "execution_count": 5,
   "id": "aadc8461",
   "metadata": {},
   "outputs": [
    {
     "name": "stdout",
     "output_type": "stream",
     "text": [
      "Number of configs in database:  5003\n"
     ]
    }
   ],
   "source": [
    "from ase import Atoms\n",
    "\n",
    "db = read('data/solvent_molecs.xyz', ':')\n",
    "db = [Atoms('H'), Atoms('C'), Atoms('O')]+db #add isolated atoms to the database\n",
    "\n",
    "for at in db[:3]:\n",
    "    at.info['config_type'] = 'IsolatedAtom'\n",
    "\n",
    "print(\"Number of configs in database: \", len(db))"
   ]
  },
  {
   "cell_type": "code",
   "execution_count": 6,
   "id": "0f8b77c1",
   "metadata": {},
   "outputs": [
    {
     "ename": "ModuleNotFoundError",
     "evalue": "No module named 'xtb'",
     "output_type": "error",
     "traceback": [
      "\u001b[31m---------------------------------------------------------------------------\u001b[39m",
      "\u001b[31mModuleNotFoundError\u001b[39m                       Traceback (most recent call last)",
      "\u001b[36mCell\u001b[39m\u001b[36m \u001b[39m\u001b[32mIn[6]\u001b[39m\u001b[32m, line 2\u001b[39m\n\u001b[32m      1\u001b[39m \u001b[38;5;28;01mfrom\u001b[39;00m\u001b[38;5;250m \u001b[39m\u001b[34;01mtqdm\u001b[39;00m\u001b[38;5;250m \u001b[39m\u001b[38;5;28;01mimport\u001b[39;00m tqdm\n\u001b[32m----> \u001b[39m\u001b[32m2\u001b[39m \u001b[38;5;28;01mfrom\u001b[39;00m\u001b[38;5;250m \u001b[39m\u001b[34;01mxtb\u001b[39;00m\u001b[34;01m.\u001b[39;00m\u001b[34;01mase\u001b[39;00m\u001b[34;01m.\u001b[39;00m\u001b[34;01mcalculator\u001b[39;00m\u001b[38;5;250m \u001b[39m\u001b[38;5;28;01mimport\u001b[39;00m XTB\n\u001b[32m      3\u001b[39m xtb_calc = XTB(method=\u001b[33m\"\u001b[39m\u001b[33mGFN2-xTB\u001b[39m\u001b[33m\"\u001b[39m)\n\u001b[32m      5\u001b[39m \u001b[38;5;28;01mfor\u001b[39;00m at \u001b[38;5;129;01min\u001b[39;00m tqdm(db[:\u001b[32m15\u001b[39m]): \u001b[38;5;66;03m#showcase: first 15 frames\u001b[39;00m\n",
      "\u001b[31mModuleNotFoundError\u001b[39m: No module named 'xtb'"
     ]
    }
   ],
   "source": [
    "from tqdm import tqdm\n",
    "from xtb.ase.calculator import XTB\n",
    "xtb_calc = XTB(method=\"GFN2-xTB\")\n",
    "\n",
    "for at in tqdm(db[:15]): #showcase: first 15 frames\n",
    "    at.calc = xtb_calc\n",
    "    at.info['energy_xtb'] = at.get_potential_energy()\n",
    "    at.arrays['forces_xtb'] = at.get_forces()\n",
    "# write('data/solvent_xtb.xyz', db) #save full result\n",
    "\n",
    "print(\"Information stored in config.info: \\n\", db[13].info) #check info\n",
    "print(\"Information stored in config.arrays: \\n\", db[13].arrays)"
   ]
  }
 ],
 "metadata": {
  "kernelspec": {
   "display_name": "matsci",
   "language": "python",
   "name": "python3"
  },
  "language_info": {
   "codemirror_mode": {
    "name": "ipython",
    "version": 3
   },
   "file_extension": ".py",
   "mimetype": "text/x-python",
   "name": "python",
   "nbconvert_exporter": "python",
   "pygments_lexer": "ipython3",
   "version": "3.13.2"
  }
 },
 "nbformat": 4,
 "nbformat_minor": 5
}
