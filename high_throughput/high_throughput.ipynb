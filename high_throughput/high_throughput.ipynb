{
 "cells": [
  {
   "cell_type": "markdown",
   "metadata": {},
   "source": [
    "# Practical: Atomate 2\n",
    "\n",
    "This is a practical session on using atomate 2 to run some calculations using the MACE potential that we used last time.\n"
   ]
  },
  {
   "cell_type": "code",
   "execution_count": null,
   "metadata": {},
   "outputs": [],
   "source": [
    "!pip install atomate2"
   ]
  },
  {
   "cell_type": "markdown",
   "metadata": {},
   "source": []
  },
  {
   "cell_type": "code",
   "execution_count": null,
   "metadata": {},
   "outputs": [
    {
     "name": "stdout",
     "output_type": "stream",
     "text": [
      "Using Materials Project MACE for MACECalculator with /Users/zeyudeng/.cache/mace/20231203mace128L1_epoch199model\n",
      "Using float64 for MACECalculator, which is slower but more accurate. Recommended for geometry optimization.\n"
     ]
    },
    {
     "name": "stderr",
     "output_type": "stream",
     "text": [
      "/Users/zeyudeng/apps/matsci/lib/python3.12/site-packages/mace/calculators/mace.py:139: FutureWarning: You are using `torch.load` with `weights_only=False` (the current default value), which uses the default pickle module implicitly. It is possible to construct malicious pickle data which will execute arbitrary code during unpickling (See https://github.com/pytorch/pytorch/blob/main/SECURITY.md#untrusted-models for more details). In a future release, the default value for `weights_only` will be flipped to `True`. This limits the functions that could be executed during unpickling. Arbitrary objects will no longer be allowed to be loaded via this mode unless they are explicitly allowlisted by the user via `torch.serialization.add_safe_globals`. We recommend you start setting `weights_only=True` for any use case where you don't have full control of the loaded file. Please open an issue on GitHub for any issues related to this experimental feature.\n",
      "  torch.load(f=model_path, map_location=device)\n"
     ]
    },
    {
     "name": "stdout",
     "output_type": "stream",
     "text": [
      "       Step     Time          Energy          fmax\n",
      "LBFGS:    0 04:24:08     -341.829770        0.136334\n",
      "LBFGS:    1 04:24:08     -341.830564        0.135427\n",
      "LBFGS:    2 04:24:09     -341.884174        0.043765\n",
      "LBFGS:    3 04:24:09     -341.890577        0.001050\n"
     ]
    }
   ],
   "source": [
    "from atomate2.ase.jobs import AseRelaxer\n",
    "from pymatgen.core import Structure, Lattice\n",
    "from mace.calculators.foundations_models import mace_mp\n",
    "\n",
    "# Define the structure for silicon\n",
    "lattice_si = Lattice.from_parameters(a=5.43, b=5.43, c=5.43, alpha=90, beta=90, gamma=90) \n",
    "\n",
    "silicon_structure = Structure.from_spacegroup(sg=227, species=[\"Si\"], \n",
    "                                              lattice=lattice_si, \n",
    "                                              coords=[[0, 0, 0]])\n",
    "\n",
    "# Create a 2x2x2 supercell\n",
    "silicon_structure.make_supercell([2, 2, 2])\n",
    "# Apply some rattling to the structure\n",
    "silicon_structure.perturb(distance=0.1)\n",
    "\n",
    "relaxer = AseRelaxer(calculator = mace_mp(model='medium',\n",
    "                                        default_dtype='float64',\n",
    "                                        device='cpu'),\n",
    "                    relax_cell = True,\n",
    "                    optimizer='LBFGS')\n",
    "\n",
    "results = relaxer.relax(atoms = silicon_structure,\n",
    "                        fmax = 0.01,\n",
    "                        traj_file='silicon_relax.traj',\n",
    "                        verbose=True)"
   ]
  },
  {
   "cell_type": "code",
   "execution_count": null,
   "metadata": {},
   "outputs": [
    {
     "name": "stdout",
     "output_type": "stream",
     "text": [
      "Elapsed time: 2.12 s\n",
      "Step0: Lattice constant: (10.86, 10.86, 10.86) Angstrom\n",
      "Step1: Lattice constant: (10.860330493256305, 10.860330493256305, 10.860330493256305) Angstrom\n",
      "Step2: Lattice constant: (10.894322110283861, 10.89432211028484, 10.89432211028689) Angstrom\n",
      "Step3: Lattice constant: (10.910589533719515, 10.910589533720819, 10.910589533723915) Angstrom\n",
      "Step4: Lattice constant: (10.910589533719515, 10.910589533720819, 10.910589533723915) Angstrom\n"
     ]
    }
   ],
   "source": [
    "print(f'Elapsed time: {results.elapsed_time:.2f} s')\n",
    "\n",
    "for i,image in enumerate(results.trajectory):\n",
    "    print(f'Step{i}: Lattice constant: {image.lattice.abc} Angstrom')\n"
   ]
  },
  {
   "cell_type": "markdown",
   "metadata": {},
   "source": [
    "The other way is to use a maker to generate a workflow."
   ]
  },
  {
   "cell_type": "code",
   "execution_count": 86,
   "metadata": {},
   "outputs": [
    {
     "name": "stdout",
     "output_type": "stream",
     "text": [
      "2025-03-26 05:43:59,555 INFO Started executing jobs locally\n"
     ]
    },
    {
     "name": "stderr",
     "output_type": "stream",
     "text": [
      "INFO:jobflow.managers.local:Started executing jobs locally\n"
     ]
    },
    {
     "name": "stdout",
     "output_type": "stream",
     "text": [
      "2025-03-26 05:43:59,563 INFO Starting job - silicon_relax (44e58765-5eb4-4d1f-a984-50ccc5e92c7f)\n"
     ]
    },
    {
     "name": "stderr",
     "output_type": "stream",
     "text": [
      "INFO:jobflow.core.job:Starting job - silicon_relax (44e58765-5eb4-4d1f-a984-50ccc5e92c7f)\n"
     ]
    },
    {
     "name": "stdout",
     "output_type": "stream",
     "text": [
      "Using Materials Project MACE for MACECalculator with /Users/zeyudeng/.cache/mace/20231203mace128L1_epoch199model\n",
      "Using float64 for MACECalculator, which is slower but more accurate. Recommended for geometry optimization.\n",
      "Using Materials Project MACE for MACECalculator with /Users/zeyudeng/.cache/mace/20231203mace128L1_epoch199model\n",
      "Using float64 for MACECalculator, which is slower but more accurate. Recommended for geometry optimization.\n",
      "Using Materials Project MACE for MACECalculator with /Users/zeyudeng/.cache/mace/20231203mace128L1_epoch199model\n",
      "Using float64 for MACECalculator, which is slower but more accurate. Recommended for geometry optimization.\n"
     ]
    },
    {
     "name": "stderr",
     "output_type": "stream",
     "text": [
      "/Users/zeyudeng/apps/matsci/lib/python3.12/site-packages/mace/calculators/mace.py:139: FutureWarning: You are using `torch.load` with `weights_only=False` (the current default value), which uses the default pickle module implicitly. It is possible to construct malicious pickle data which will execute arbitrary code during unpickling (See https://github.com/pytorch/pytorch/blob/main/SECURITY.md#untrusted-models for more details). In a future release, the default value for `weights_only` will be flipped to `True`. This limits the functions that could be executed during unpickling. Arbitrary objects will no longer be allowed to be loaded via this mode unless they are explicitly allowlisted by the user via `torch.serialization.add_safe_globals`. We recommend you start setting `weights_only=True` for any use case where you don't have full control of the loaded file. Please open an issue on GitHub for any issues related to this experimental feature.\n",
      "  torch.load(f=model_path, map_location=device)\n",
      "/Users/zeyudeng/apps/matsci/lib/python3.12/site-packages/mace/calculators/mace.py:139: FutureWarning: You are using `torch.load` with `weights_only=False` (the current default value), which uses the default pickle module implicitly. It is possible to construct malicious pickle data which will execute arbitrary code during unpickling (See https://github.com/pytorch/pytorch/blob/main/SECURITY.md#untrusted-models for more details). In a future release, the default value for `weights_only` will be flipped to `True`. This limits the functions that could be executed during unpickling. Arbitrary objects will no longer be allowed to be loaded via this mode unless they are explicitly allowlisted by the user via `torch.serialization.add_safe_globals`. We recommend you start setting `weights_only=True` for any use case where you don't have full control of the loaded file. Please open an issue on GitHub for any issues related to this experimental feature.\n",
      "  torch.load(f=model_path, map_location=device)\n",
      "/Users/zeyudeng/apps/matsci/lib/python3.12/site-packages/mace/calculators/mace.py:139: FutureWarning: You are using `torch.load` with `weights_only=False` (the current default value), which uses the default pickle module implicitly. It is possible to construct malicious pickle data which will execute arbitrary code during unpickling (See https://github.com/pytorch/pytorch/blob/main/SECURITY.md#untrusted-models for more details). In a future release, the default value for `weights_only` will be flipped to `True`. This limits the functions that could be executed during unpickling. Arbitrary objects will no longer be allowed to be loaded via this mode unless they are explicitly allowlisted by the user via `torch.serialization.add_safe_globals`. We recommend you start setting `weights_only=True` for any use case where you don't have full control of the loaded file. Please open an issue on GitHub for any issues related to this experimental feature.\n",
      "  torch.load(f=model_path, map_location=device)\n"
     ]
    },
    {
     "name": "stdout",
     "output_type": "stream",
     "text": [
      "2025-03-26 05:44:06,274 INFO Finished job - silicon_relax (44e58765-5eb4-4d1f-a984-50ccc5e92c7f)\n"
     ]
    },
    {
     "name": "stderr",
     "output_type": "stream",
     "text": [
      "INFO:jobflow.core.job:Finished job - silicon_relax (44e58765-5eb4-4d1f-a984-50ccc5e92c7f)\n"
     ]
    },
    {
     "name": "stdout",
     "output_type": "stream",
     "text": [
      "2025-03-26 05:44:06,275 INFO Finished executing jobs locally\n"
     ]
    },
    {
     "name": "stderr",
     "output_type": "stream",
     "text": [
      "INFO:jobflow.managers.local:Finished executing jobs locally\n"
     ]
    },
    {
     "name": "stdout",
     "output_type": "stream",
     "text": [
      "Elapsed time: {'44e58765-5eb4-4d1f-a984-50ccc5e92c7f': {1: Response(output=AseStructureTaskDoc(builder_meta=EmmetMeta(emmet_version='0.84.6rc3', pymatgen_version='2025.2.18', run_id=None, batch_id=None, database_version=None, build_date=datetime.datetime(2025, 3, 25, 21, 44, 6, 210406, tzinfo=datetime.timezone.utc), license=None), nsites=64, elements=[Element Si], nelements=1, composition=Composition('Si64'), composition_reduced=Composition('Si1'), formula_pretty='Si', formula_anonymous='A', chemsys='Si', volume=1285.6965820096025, density=2.3215216707306627, density_atomic=20.08900909390004, symmetry=SymmetryData(crystal_system=<CrystalSystem.cubic: 'Cubic'>, symbol='Fd-3m', number=227, point_group='m-3m', symprec=0.1, angle_tolerance=5.0, version='2.5.0'), structure=Structure Summary\n",
      "Lattice\n",
      "    abc : 10.873753820678683 10.873753820678534 10.873753820678967\n",
      " angles : 90.00000000000017 90.0 90.0\n",
      " volume : 1285.6965820096025\n",
      "      A : 10.873753820678683 -2.2988371867177386e-17 6.265937644882241e-16\n",
      "      B : -7.442289862904443e-16 10.873753820678534 -1.5840655579097742e-14\n",
      "      C : -4.015892325154588e-17 -1.668314540780777e-14 10.873753820678967\n",
      "    pbc : True True True\n",
      "PeriodicSite: Si (2.737, 10.85, 2.815) [0.2517, 0.9982, 0.2589]\n",
      "PeriodicSite: Si (2.737, 10.85, 8.252) [0.2517, 0.9982, 0.7589]\n",
      "PeriodicSite: Si (2.737, 5.417, 2.815) [0.2517, 0.4982, 0.2589]\n",
      "PeriodicSite: Si (2.737, 5.417, 8.252) [0.2517, 0.4982, 0.7589]\n",
      "PeriodicSite: Si (8.174, 10.85, 2.815) [0.7517, 0.9982, 0.2589]\n",
      "PeriodicSite: Si (8.174, 10.85, 8.252) [0.7517, 0.9982, 0.7589]\n",
      "PeriodicSite: Si (8.174, 5.417, 2.815) [0.7517, 0.4982, 0.2589]\n",
      "PeriodicSite: Si (8.174, 5.417, 8.252) [0.7517, 0.4982, 0.7589]\n",
      "PeriodicSite: Si (1.378, 1.339, 1.456) [0.1267, 0.1232, 0.1339]\n",
      "PeriodicSite: Si (1.378, 1.339, 6.892) [0.1267, 0.1232, 0.6339]\n",
      "PeriodicSite: Si (1.378, 6.776, 1.456) [0.1267, 0.6232, 0.1339]\n",
      "PeriodicSite: Si (1.378, 6.776, 6.892) [0.1267, 0.6232, 0.6339]\n",
      "PeriodicSite: Si (6.815, 1.339, 1.456) [0.6267, 0.1232, 0.1339]\n",
      "PeriodicSite: Si (6.815, 1.339, 6.892) [0.6267, 0.1232, 0.6339]\n",
      "PeriodicSite: Si (6.815, 6.776, 1.456) [0.6267, 0.6232, 0.1339]\n",
      "PeriodicSite: Si (6.815, 6.776, 6.892) [0.6267, 0.6232, 0.6339]\n",
      "PeriodicSite: Si (0.01891, 10.85, 0.0963) [0.001739, 0.9982, 0.008856]\n",
      "PeriodicSite: Si (0.01891, 10.85, 5.533) [0.001739, 0.9982, 0.5089]\n",
      "PeriodicSite: Si (0.01891, 5.417, 0.0963) [0.001739, 0.4982, 0.008856]\n",
      "PeriodicSite: Si (0.01891, 5.417, 5.533) [0.001739, 0.4982, 0.5089]\n",
      "PeriodicSite: Si (5.456, 10.85, 0.0963) [0.5017, 0.9982, 0.008856]\n",
      "PeriodicSite: Si (5.456, 10.85, 5.533) [0.5017, 0.9982, 0.5089]\n",
      "PeriodicSite: Si (5.456, 5.417, 0.0963) [0.5017, 0.4982, 0.008856]\n",
      "PeriodicSite: Si (5.456, 5.417, 5.533) [0.5017, 0.4982, 0.5089]\n",
      "PeriodicSite: Si (1.378, 4.058, 4.174) [0.1267, 0.3732, 0.3839]\n",
      "PeriodicSite: Si (1.378, 4.058, 9.611) [0.1267, 0.3732, 0.8839]\n",
      "PeriodicSite: Si (1.378, 9.495, 4.174) [0.1267, 0.8732, 0.3839]\n",
      "PeriodicSite: Si (1.378, 9.495, 9.611) [0.1267, 0.8732, 0.8839]\n",
      "PeriodicSite: Si (6.815, 4.058, 4.174) [0.6267, 0.3732, 0.3839]\n",
      "PeriodicSite: Si (6.815, 4.058, 9.611) [0.6267, 0.3732, 0.8839]\n",
      "PeriodicSite: Si (6.815, 9.495, 4.174) [0.6267, 0.8732, 0.3839]\n",
      "PeriodicSite: Si (6.815, 9.495, 9.611) [0.6267, 0.8732, 0.8839]\n",
      "PeriodicSite: Si (4.097, 1.339, 4.174) [0.3767, 0.1232, 0.3839]\n",
      "PeriodicSite: Si (4.097, 1.339, 9.611) [0.3767, 0.1232, 0.8839]\n",
      "PeriodicSite: Si (4.097, 6.776, 4.174) [0.3767, 0.6232, 0.3839]\n",
      "PeriodicSite: Si (4.097, 6.776, 9.611) [0.3767, 0.6232, 0.8839]\n",
      "PeriodicSite: Si (9.533, 1.339, 4.174) [0.8767, 0.1232, 0.3839]\n",
      "PeriodicSite: Si (9.533, 1.339, 9.611) [0.8767, 0.1232, 0.8839]\n",
      "PeriodicSite: Si (9.533, 6.776, 4.174) [0.8767, 0.6232, 0.3839]\n",
      "PeriodicSite: Si (9.533, 6.776, 9.611) [0.8767, 0.6232, 0.8839]\n",
      "PeriodicSite: Si (0.01891, 2.699, 2.815) [0.001739, 0.2482, 0.2589]\n",
      "PeriodicSite: Si (0.01891, 2.699, 8.252) [0.001739, 0.2482, 0.7589]\n",
      "PeriodicSite: Si (0.01891, 8.135, 2.815) [0.001739, 0.7482, 0.2589]\n",
      "PeriodicSite: Si (0.01891, 8.135, 8.252) [0.001739, 0.7482, 0.7589]\n",
      "PeriodicSite: Si (5.456, 2.699, 2.815) [0.5017, 0.2482, 0.2589]\n",
      "PeriodicSite: Si (5.456, 2.699, 8.252) [0.5017, 0.2482, 0.7589]\n",
      "PeriodicSite: Si (5.456, 8.135, 2.815) [0.5017, 0.7482, 0.2589]\n",
      "PeriodicSite: Si (5.456, 8.135, 8.252) [0.5017, 0.7482, 0.7589]\n",
      "PeriodicSite: Si (2.737, 2.699, 0.0963) [0.2517, 0.2482, 0.008856]\n",
      "PeriodicSite: Si (2.737, 2.699, 5.533) [0.2517, 0.2482, 0.5089]\n",
      "PeriodicSite: Si (2.737, 8.135, 0.0963) [0.2517, 0.7482, 0.008856]\n",
      "PeriodicSite: Si (2.737, 8.135, 5.533) [0.2517, 0.7482, 0.5089]\n",
      "PeriodicSite: Si (8.174, 2.699, 0.0963) [0.7517, 0.2482, 0.008856]\n",
      "PeriodicSite: Si (8.174, 2.699, 5.533) [0.7517, 0.2482, 0.5089]\n",
      "PeriodicSite: Si (8.174, 8.135, 0.0963) [0.7517, 0.7482, 0.008856]\n",
      "PeriodicSite: Si (8.174, 8.135, 5.533) [0.7517, 0.7482, 0.5089]\n",
      "PeriodicSite: Si (4.097, 4.058, 1.456) [0.3767, 0.3732, 0.1339]\n",
      "PeriodicSite: Si (4.097, 4.058, 6.892) [0.3767, 0.3732, 0.6339]\n",
      "PeriodicSite: Si (4.097, 9.495, 1.456) [0.3767, 0.8732, 0.1339]\n",
      "PeriodicSite: Si (4.097, 9.495, 6.892) [0.3767, 0.8732, 0.6339]\n",
      "PeriodicSite: Si (9.533, 4.058, 1.456) [0.8767, 0.3732, 0.1339]\n",
      "PeriodicSite: Si (9.533, 4.058, 6.892) [0.8767, 0.3732, 0.6339]\n",
      "PeriodicSite: Si (9.533, 9.495, 1.456) [0.8767, 0.8732, 0.1339]\n",
      "PeriodicSite: Si (9.533, 9.495, 6.892) [0.8767, 0.8732, 0.6339], input=InputDoc(mol_or_struct=Structure Summary\n",
      "Lattice\n",
      "    abc : 10.86 10.86 10.86\n",
      " angles : 90.0 90.0 90.0\n",
      " volume : 1280.8240559999997\n",
      "      A : 10.86 0.0 6.649832119370128e-16\n",
      "      B : -6.649832119370128e-16 10.86 6.649832119370128e-16\n",
      "      C : 0.0 0.0 10.86\n",
      "    pbc : True True True\n",
      "PeriodicSite: Si (2.734, 10.84, 2.811) [0.2517, 0.9982, 0.2589]\n",
      "PeriodicSite: Si (2.734, 10.84, 8.241) [0.2517, 0.9982, 0.7589]\n",
      "PeriodicSite: Si (2.734, 5.41, 2.811) [0.2517, 0.4982, 0.2589]\n",
      "PeriodicSite: Si (2.734, 5.41, 8.241) [0.2517, 0.4982, 0.7589]\n",
      "PeriodicSite: Si (8.164, 10.84, 2.811) [0.7517, 0.9982, 0.2589]\n",
      "PeriodicSite: Si (8.164, 10.84, 8.241) [0.7517, 0.9982, 0.7589]\n",
      "PeriodicSite: Si (8.164, 5.41, 2.811) [0.7517, 0.4982, 0.2589]\n",
      "PeriodicSite: Si (8.164, 5.41, 8.241) [0.7517, 0.4982, 0.7589]\n",
      "PeriodicSite: Si (1.376, 1.338, 1.454) [0.1267, 0.1232, 0.1339]\n",
      "PeriodicSite: Si (1.376, 1.338, 6.884) [0.1267, 0.1232, 0.6339]\n",
      "PeriodicSite: Si (1.376, 6.768, 1.454) [0.1267, 0.6232, 0.1339]\n",
      "PeriodicSite: Si (1.376, 6.768, 6.884) [0.1267, 0.6232, 0.6339]\n",
      "PeriodicSite: Si (6.806, 1.338, 1.454) [0.6267, 0.1232, 0.1339]\n",
      "PeriodicSite: Si (6.806, 1.338, 6.884) [0.6267, 0.1232, 0.6339]\n",
      "PeriodicSite: Si (6.806, 6.768, 1.454) [0.6267, 0.6232, 0.1339]\n",
      "PeriodicSite: Si (6.806, 6.768, 6.884) [0.6267, 0.6232, 0.6339]\n",
      "PeriodicSite: Si (0.01888, 10.84, 0.09618) [0.001739, 0.9982, 0.008856]\n",
      "PeriodicSite: Si (0.01888, 10.84, 5.526) [0.001739, 0.9982, 0.5089]\n",
      "PeriodicSite: Si (0.01888, 5.41, 0.09618) [0.001739, 0.4982, 0.008856]\n",
      "PeriodicSite: Si (0.01888, 5.41, 5.526) [0.001739, 0.4982, 0.5089]\n",
      "PeriodicSite: Si (5.449, 10.84, 0.09618) [0.5017, 0.9982, 0.008856]\n",
      "PeriodicSite: Si (5.449, 10.84, 5.526) [0.5017, 0.9982, 0.5089]\n",
      "PeriodicSite: Si (5.449, 5.41, 0.09618) [0.5017, 0.4982, 0.008856]\n",
      "PeriodicSite: Si (5.449, 5.41, 5.526) [0.5017, 0.4982, 0.5089]\n",
      "PeriodicSite: Si (1.376, 4.053, 4.169) [0.1267, 0.3732, 0.3839]\n",
      "PeriodicSite: Si (1.376, 4.053, 9.599) [0.1267, 0.3732, 0.8839]\n",
      "PeriodicSite: Si (1.376, 9.483, 4.169) [0.1267, 0.8732, 0.3839]\n",
      "PeriodicSite: Si (1.376, 9.483, 9.599) [0.1267, 0.8732, 0.8839]\n",
      "PeriodicSite: Si (6.806, 4.053, 4.169) [0.6267, 0.3732, 0.3839]\n",
      "PeriodicSite: Si (6.806, 4.053, 9.599) [0.6267, 0.3732, 0.8839]\n",
      "PeriodicSite: Si (6.806, 9.483, 4.169) [0.6267, 0.8732, 0.3839]\n",
      "PeriodicSite: Si (6.806, 9.483, 9.599) [0.6267, 0.8732, 0.8839]\n",
      "PeriodicSite: Si (4.091, 1.338, 4.169) [0.3767, 0.1232, 0.3839]\n",
      "PeriodicSite: Si (4.091, 1.338, 9.599) [0.3767, 0.1232, 0.8839]\n",
      "PeriodicSite: Si (4.091, 6.768, 4.169) [0.3767, 0.6232, 0.3839]\n",
      "PeriodicSite: Si (4.091, 6.768, 9.599) [0.3767, 0.6232, 0.8839]\n",
      "PeriodicSite: Si (9.521, 1.338, 4.169) [0.8767, 0.1232, 0.3839]\n",
      "PeriodicSite: Si (9.521, 1.338, 9.599) [0.8767, 0.1232, 0.8839]\n",
      "PeriodicSite: Si (9.521, 6.768, 4.169) [0.8767, 0.6232, 0.3839]\n",
      "PeriodicSite: Si (9.521, 6.768, 9.599) [0.8767, 0.6232, 0.8839]\n",
      "PeriodicSite: Si (0.01888, 2.695, 2.811) [0.001739, 0.2482, 0.2589]\n",
      "PeriodicSite: Si (0.01888, 2.695, 8.241) [0.001739, 0.2482, 0.7589]\n",
      "PeriodicSite: Si (0.01888, 8.125, 2.811) [0.001739, 0.7482, 0.2589]\n",
      "PeriodicSite: Si (0.01888, 8.125, 8.241) [0.001739, 0.7482, 0.7589]\n",
      "PeriodicSite: Si (5.449, 2.695, 2.811) [0.5017, 0.2482, 0.2589]\n",
      "PeriodicSite: Si (5.449, 2.695, 8.241) [0.5017, 0.2482, 0.7589]\n",
      "PeriodicSite: Si (5.449, 8.125, 2.811) [0.5017, 0.7482, 0.2589]\n",
      "PeriodicSite: Si (5.449, 8.125, 8.241) [0.5017, 0.7482, 0.7589]\n",
      "PeriodicSite: Si (2.734, 2.695, 0.09618) [0.2517, 0.2482, 0.008856]\n",
      "PeriodicSite: Si (2.734, 2.695, 5.526) [0.2517, 0.2482, 0.5089]\n",
      "PeriodicSite: Si (2.734, 8.125, 0.09618) [0.2517, 0.7482, 0.008856]\n",
      "PeriodicSite: Si (2.734, 8.125, 5.526) [0.2517, 0.7482, 0.5089]\n",
      "PeriodicSite: Si (8.164, 2.695, 0.09618) [0.7517, 0.2482, 0.008856]\n",
      "PeriodicSite: Si (8.164, 2.695, 5.526) [0.7517, 0.2482, 0.5089]\n",
      "PeriodicSite: Si (8.164, 8.125, 0.09618) [0.7517, 0.7482, 0.008856]\n",
      "PeriodicSite: Si (8.164, 8.125, 5.526) [0.7517, 0.7482, 0.5089]\n",
      "PeriodicSite: Si (4.091, 4.053, 1.454) [0.3767, 0.3732, 0.1339]\n",
      "PeriodicSite: Si (4.091, 4.053, 6.884) [0.3767, 0.3732, 0.6339]\n",
      "PeriodicSite: Si (4.091, 9.483, 1.454) [0.3767, 0.8732, 0.1339]\n",
      "PeriodicSite: Si (4.091, 9.483, 6.884) [0.3767, 0.8732, 0.6339]\n",
      "PeriodicSite: Si (9.521, 4.053, 1.454) [0.8767, 0.3732, 0.1339]\n",
      "PeriodicSite: Si (9.521, 4.053, 6.884) [0.8767, 0.3732, 0.6339]\n",
      "PeriodicSite: Si (9.521, 9.483, 1.454) [0.8767, 0.8732, 0.1339]\n",
      "PeriodicSite: Si (9.521, 9.483, 6.884) [0.8767, 0.8732, 0.6339], structure=Structure Summary\n",
      "Lattice\n",
      "    abc : 10.86 10.86 10.86\n",
      " angles : 90.0 90.0 90.0\n",
      " volume : 1280.8240559999997\n",
      "      A : 10.86 0.0 6.649832119370128e-16\n",
      "      B : -6.649832119370128e-16 10.86 6.649832119370128e-16\n",
      "      C : 0.0 0.0 10.86\n",
      "    pbc : True True True\n",
      "PeriodicSite: Si (2.734, 10.84, 2.811) [0.2517, 0.9982, 0.2589]\n",
      "PeriodicSite: Si (2.734, 10.84, 8.241) [0.2517, 0.9982, 0.7589]\n",
      "PeriodicSite: Si (2.734, 5.41, 2.811) [0.2517, 0.4982, 0.2589]\n",
      "PeriodicSite: Si (2.734, 5.41, 8.241) [0.2517, 0.4982, 0.7589]\n",
      "PeriodicSite: Si (8.164, 10.84, 2.811) [0.7517, 0.9982, 0.2589]\n",
      "PeriodicSite: Si (8.164, 10.84, 8.241) [0.7517, 0.9982, 0.7589]\n",
      "PeriodicSite: Si (8.164, 5.41, 2.811) [0.7517, 0.4982, 0.2589]\n",
      "PeriodicSite: Si (8.164, 5.41, 8.241) [0.7517, 0.4982, 0.7589]\n",
      "PeriodicSite: Si (1.376, 1.338, 1.454) [0.1267, 0.1232, 0.1339]\n",
      "PeriodicSite: Si (1.376, 1.338, 6.884) [0.1267, 0.1232, 0.6339]\n",
      "PeriodicSite: Si (1.376, 6.768, 1.454) [0.1267, 0.6232, 0.1339]\n",
      "PeriodicSite: Si (1.376, 6.768, 6.884) [0.1267, 0.6232, 0.6339]\n",
      "PeriodicSite: Si (6.806, 1.338, 1.454) [0.6267, 0.1232, 0.1339]\n",
      "PeriodicSite: Si (6.806, 1.338, 6.884) [0.6267, 0.1232, 0.6339]\n",
      "PeriodicSite: Si (6.806, 6.768, 1.454) [0.6267, 0.6232, 0.1339]\n",
      "PeriodicSite: Si (6.806, 6.768, 6.884) [0.6267, 0.6232, 0.6339]\n",
      "PeriodicSite: Si (0.01888, 10.84, 0.09618) [0.001739, 0.9982, 0.008856]\n",
      "PeriodicSite: Si (0.01888, 10.84, 5.526) [0.001739, 0.9982, 0.5089]\n",
      "PeriodicSite: Si (0.01888, 5.41, 0.09618) [0.001739, 0.4982, 0.008856]\n",
      "PeriodicSite: Si (0.01888, 5.41, 5.526) [0.001739, 0.4982, 0.5089]\n",
      "PeriodicSite: Si (5.449, 10.84, 0.09618) [0.5017, 0.9982, 0.008856]\n",
      "PeriodicSite: Si (5.449, 10.84, 5.526) [0.5017, 0.9982, 0.5089]\n",
      "PeriodicSite: Si (5.449, 5.41, 0.09618) [0.5017, 0.4982, 0.008856]\n",
      "PeriodicSite: Si (5.449, 5.41, 5.526) [0.5017, 0.4982, 0.5089]\n",
      "PeriodicSite: Si (1.376, 4.053, 4.169) [0.1267, 0.3732, 0.3839]\n",
      "PeriodicSite: Si (1.376, 4.053, 9.599) [0.1267, 0.3732, 0.8839]\n",
      "PeriodicSite: Si (1.376, 9.483, 4.169) [0.1267, 0.8732, 0.3839]\n",
      "PeriodicSite: Si (1.376, 9.483, 9.599) [0.1267, 0.8732, 0.8839]\n",
      "PeriodicSite: Si (6.806, 4.053, 4.169) [0.6267, 0.3732, 0.3839]\n",
      "PeriodicSite: Si (6.806, 4.053, 9.599) [0.6267, 0.3732, 0.8839]\n",
      "PeriodicSite: Si (6.806, 9.483, 4.169) [0.6267, 0.8732, 0.3839]\n",
      "PeriodicSite: Si (6.806, 9.483, 9.599) [0.6267, 0.8732, 0.8839]\n",
      "PeriodicSite: Si (4.091, 1.338, 4.169) [0.3767, 0.1232, 0.3839]\n",
      "PeriodicSite: Si (4.091, 1.338, 9.599) [0.3767, 0.1232, 0.8839]\n",
      "PeriodicSite: Si (4.091, 6.768, 4.169) [0.3767, 0.6232, 0.3839]\n",
      "PeriodicSite: Si (4.091, 6.768, 9.599) [0.3767, 0.6232, 0.8839]\n",
      "PeriodicSite: Si (9.521, 1.338, 4.169) [0.8767, 0.1232, 0.3839]\n",
      "PeriodicSite: Si (9.521, 1.338, 9.599) [0.8767, 0.1232, 0.8839]\n",
      "PeriodicSite: Si (9.521, 6.768, 4.169) [0.8767, 0.6232, 0.3839]\n",
      "PeriodicSite: Si (9.521, 6.768, 9.599) [0.8767, 0.6232, 0.8839]\n",
      "PeriodicSite: Si (0.01888, 2.695, 2.811) [0.001739, 0.2482, 0.2589]\n",
      "PeriodicSite: Si (0.01888, 2.695, 8.241) [0.001739, 0.2482, 0.7589]\n",
      "PeriodicSite: Si (0.01888, 8.125, 2.811) [0.001739, 0.7482, 0.2589]\n",
      "PeriodicSite: Si (0.01888, 8.125, 8.241) [0.001739, 0.7482, 0.7589]\n",
      "PeriodicSite: Si (5.449, 2.695, 2.811) [0.5017, 0.2482, 0.2589]\n",
      "PeriodicSite: Si (5.449, 2.695, 8.241) [0.5017, 0.2482, 0.7589]\n",
      "PeriodicSite: Si (5.449, 8.125, 2.811) [0.5017, 0.7482, 0.2589]\n",
      "PeriodicSite: Si (5.449, 8.125, 8.241) [0.5017, 0.7482, 0.7589]\n",
      "PeriodicSite: Si (2.734, 2.695, 0.09618) [0.2517, 0.2482, 0.008856]\n",
      "PeriodicSite: Si (2.734, 2.695, 5.526) [0.2517, 0.2482, 0.5089]\n",
      "PeriodicSite: Si (2.734, 8.125, 0.09618) [0.2517, 0.7482, 0.008856]\n",
      "PeriodicSite: Si (2.734, 8.125, 5.526) [0.2517, 0.7482, 0.5089]\n",
      "PeriodicSite: Si (8.164, 2.695, 0.09618) [0.7517, 0.2482, 0.008856]\n",
      "PeriodicSite: Si (8.164, 2.695, 5.526) [0.7517, 0.2482, 0.5089]\n",
      "PeriodicSite: Si (8.164, 8.125, 0.09618) [0.7517, 0.7482, 0.008856]\n",
      "PeriodicSite: Si (8.164, 8.125, 5.526) [0.7517, 0.7482, 0.5089]\n",
      "PeriodicSite: Si (4.091, 4.053, 1.454) [0.3767, 0.3732, 0.1339]\n",
      "PeriodicSite: Si (4.091, 4.053, 6.884) [0.3767, 0.3732, 0.6339]\n",
      "PeriodicSite: Si (4.091, 9.483, 1.454) [0.3767, 0.8732, 0.1339]\n",
      "PeriodicSite: Si (4.091, 9.483, 6.884) [0.3767, 0.8732, 0.6339]\n",
      "PeriodicSite: Si (9.521, 4.053, 1.454) [0.8767, 0.3732, 0.1339]\n",
      "PeriodicSite: Si (9.521, 4.053, 6.884) [0.8767, 0.3732, 0.6339]\n",
      "PeriodicSite: Si (9.521, 9.483, 1.454) [0.8767, 0.8732, 0.1339]\n",
      "PeriodicSite: Si (9.521, 9.483, 6.884) [0.8767, 0.8732, 0.6339], molecule=None, relax_cell=True, fix_symmetry=False, symprec=None, steps=500, relax_kwargs={}, optimizer_kwargs={}), output=OutputDoc(mol_or_struct=Structure Summary\n",
      "Lattice\n",
      "    abc : 10.873753820678683 10.873753820678534 10.873753820678967\n",
      " angles : 90.00000000000017 90.0 90.0\n",
      " volume : 1285.6965820096025\n",
      "      A : 10.873753820678683 -2.2988371867177386e-17 6.265937644882241e-16\n",
      "      B : -7.442289862904443e-16 10.873753820678534 -1.5840655579097742e-14\n",
      "      C : -4.015892325154588e-17 -1.668314540780777e-14 10.873753820678967\n",
      "    pbc : True True True\n",
      "PeriodicSite: Si (2.737, 10.85, 2.815) [0.2517, 0.9982, 0.2589]\n",
      "PeriodicSite: Si (2.737, 10.85, 8.252) [0.2517, 0.9982, 0.7589]\n",
      "PeriodicSite: Si (2.737, 5.417, 2.815) [0.2517, 0.4982, 0.2589]\n",
      "PeriodicSite: Si (2.737, 5.417, 8.252) [0.2517, 0.4982, 0.7589]\n",
      "PeriodicSite: Si (8.174, 10.85, 2.815) [0.7517, 0.9982, 0.2589]\n",
      "PeriodicSite: Si (8.174, 10.85, 8.252) [0.7517, 0.9982, 0.7589]\n",
      "PeriodicSite: Si (8.174, 5.417, 2.815) [0.7517, 0.4982, 0.2589]\n",
      "PeriodicSite: Si (8.174, 5.417, 8.252) [0.7517, 0.4982, 0.7589]\n",
      "PeriodicSite: Si (1.378, 1.339, 1.456) [0.1267, 0.1232, 0.1339]\n",
      "PeriodicSite: Si (1.378, 1.339, 6.892) [0.1267, 0.1232, 0.6339]\n",
      "PeriodicSite: Si (1.378, 6.776, 1.456) [0.1267, 0.6232, 0.1339]\n",
      "PeriodicSite: Si (1.378, 6.776, 6.892) [0.1267, 0.6232, 0.6339]\n",
      "PeriodicSite: Si (6.815, 1.339, 1.456) [0.6267, 0.1232, 0.1339]\n",
      "PeriodicSite: Si (6.815, 1.339, 6.892) [0.6267, 0.1232, 0.6339]\n",
      "PeriodicSite: Si (6.815, 6.776, 1.456) [0.6267, 0.6232, 0.1339]\n",
      "PeriodicSite: Si (6.815, 6.776, 6.892) [0.6267, 0.6232, 0.6339]\n",
      "PeriodicSite: Si (0.01891, 10.85, 0.0963) [0.001739, 0.9982, 0.008856]\n",
      "PeriodicSite: Si (0.01891, 10.85, 5.533) [0.001739, 0.9982, 0.5089]\n",
      "PeriodicSite: Si (0.01891, 5.417, 0.0963) [0.001739, 0.4982, 0.008856]\n",
      "PeriodicSite: Si (0.01891, 5.417, 5.533) [0.001739, 0.4982, 0.5089]\n",
      "PeriodicSite: Si (5.456, 10.85, 0.0963) [0.5017, 0.9982, 0.008856]\n",
      "PeriodicSite: Si (5.456, 10.85, 5.533) [0.5017, 0.9982, 0.5089]\n",
      "PeriodicSite: Si (5.456, 5.417, 0.0963) [0.5017, 0.4982, 0.008856]\n",
      "PeriodicSite: Si (5.456, 5.417, 5.533) [0.5017, 0.4982, 0.5089]\n",
      "PeriodicSite: Si (1.378, 4.058, 4.174) [0.1267, 0.3732, 0.3839]\n",
      "PeriodicSite: Si (1.378, 4.058, 9.611) [0.1267, 0.3732, 0.8839]\n",
      "PeriodicSite: Si (1.378, 9.495, 4.174) [0.1267, 0.8732, 0.3839]\n",
      "PeriodicSite: Si (1.378, 9.495, 9.611) [0.1267, 0.8732, 0.8839]\n",
      "PeriodicSite: Si (6.815, 4.058, 4.174) [0.6267, 0.3732, 0.3839]\n",
      "PeriodicSite: Si (6.815, 4.058, 9.611) [0.6267, 0.3732, 0.8839]\n",
      "PeriodicSite: Si (6.815, 9.495, 4.174) [0.6267, 0.8732, 0.3839]\n",
      "PeriodicSite: Si (6.815, 9.495, 9.611) [0.6267, 0.8732, 0.8839]\n",
      "PeriodicSite: Si (4.097, 1.339, 4.174) [0.3767, 0.1232, 0.3839]\n",
      "PeriodicSite: Si (4.097, 1.339, 9.611) [0.3767, 0.1232, 0.8839]\n",
      "PeriodicSite: Si (4.097, 6.776, 4.174) [0.3767, 0.6232, 0.3839]\n",
      "PeriodicSite: Si (4.097, 6.776, 9.611) [0.3767, 0.6232, 0.8839]\n",
      "PeriodicSite: Si (9.533, 1.339, 4.174) [0.8767, 0.1232, 0.3839]\n",
      "PeriodicSite: Si (9.533, 1.339, 9.611) [0.8767, 0.1232, 0.8839]\n",
      "PeriodicSite: Si (9.533, 6.776, 4.174) [0.8767, 0.6232, 0.3839]\n",
      "PeriodicSite: Si (9.533, 6.776, 9.611) [0.8767, 0.6232, 0.8839]\n",
      "PeriodicSite: Si (0.01891, 2.699, 2.815) [0.001739, 0.2482, 0.2589]\n",
      "PeriodicSite: Si (0.01891, 2.699, 8.252) [0.001739, 0.2482, 0.7589]\n",
      "PeriodicSite: Si (0.01891, 8.135, 2.815) [0.001739, 0.7482, 0.2589]\n",
      "PeriodicSite: Si (0.01891, 8.135, 8.252) [0.001739, 0.7482, 0.7589]\n",
      "PeriodicSite: Si (5.456, 2.699, 2.815) [0.5017, 0.2482, 0.2589]\n",
      "PeriodicSite: Si (5.456, 2.699, 8.252) [0.5017, 0.2482, 0.7589]\n",
      "PeriodicSite: Si (5.456, 8.135, 2.815) [0.5017, 0.7482, 0.2589]\n",
      "PeriodicSite: Si (5.456, 8.135, 8.252) [0.5017, 0.7482, 0.7589]\n",
      "PeriodicSite: Si (2.737, 2.699, 0.0963) [0.2517, 0.2482, 0.008856]\n",
      "PeriodicSite: Si (2.737, 2.699, 5.533) [0.2517, 0.2482, 0.5089]\n",
      "PeriodicSite: Si (2.737, 8.135, 0.0963) [0.2517, 0.7482, 0.008856]\n",
      "PeriodicSite: Si (2.737, 8.135, 5.533) [0.2517, 0.7482, 0.5089]\n",
      "PeriodicSite: Si (8.174, 2.699, 0.0963) [0.7517, 0.2482, 0.008856]\n",
      "PeriodicSite: Si (8.174, 2.699, 5.533) [0.7517, 0.2482, 0.5089]\n",
      "PeriodicSite: Si (8.174, 8.135, 0.0963) [0.7517, 0.7482, 0.008856]\n",
      "PeriodicSite: Si (8.174, 8.135, 5.533) [0.7517, 0.7482, 0.5089]\n",
      "PeriodicSite: Si (4.097, 4.058, 1.456) [0.3767, 0.3732, 0.1339]\n",
      "PeriodicSite: Si (4.097, 4.058, 6.892) [0.3767, 0.3732, 0.6339]\n",
      "PeriodicSite: Si (4.097, 9.495, 1.456) [0.3767, 0.8732, 0.1339]\n",
      "PeriodicSite: Si (4.097, 9.495, 6.892) [0.3767, 0.8732, 0.6339]\n",
      "PeriodicSite: Si (9.533, 4.058, 1.456) [0.8767, 0.3732, 0.1339]\n",
      "PeriodicSite: Si (9.533, 4.058, 6.892) [0.8767, 0.3732, 0.6339]\n",
      "PeriodicSite: Si (9.533, 9.495, 1.456) [0.8767, 0.8732, 0.1339]\n",
      "PeriodicSite: Si (9.533, 9.495, 6.892) [0.8767, 0.8732, 0.6339], structure=Structure Summary\n",
      "Lattice\n",
      "    abc : 10.873753820678683 10.873753820678534 10.873753820678967\n",
      " angles : 90.00000000000017 90.0 90.0\n",
      " volume : 1285.6965820096025\n",
      "      A : 10.873753820678683 -2.2988371867177386e-17 6.265937644882241e-16\n",
      "      B : -7.442289862904443e-16 10.873753820678534 -1.5840655579097742e-14\n",
      "      C : -4.015892325154588e-17 -1.668314540780777e-14 10.873753820678967\n",
      "    pbc : True True True\n",
      "PeriodicSite: Si (2.737, 10.85, 2.815) [0.2517, 0.9982, 0.2589]\n",
      "PeriodicSite: Si (2.737, 10.85, 8.252) [0.2517, 0.9982, 0.7589]\n",
      "PeriodicSite: Si (2.737, 5.417, 2.815) [0.2517, 0.4982, 0.2589]\n",
      "PeriodicSite: Si (2.737, 5.417, 8.252) [0.2517, 0.4982, 0.7589]\n",
      "PeriodicSite: Si (8.174, 10.85, 2.815) [0.7517, 0.9982, 0.2589]\n",
      "PeriodicSite: Si (8.174, 10.85, 8.252) [0.7517, 0.9982, 0.7589]\n",
      "PeriodicSite: Si (8.174, 5.417, 2.815) [0.7517, 0.4982, 0.2589]\n",
      "PeriodicSite: Si (8.174, 5.417, 8.252) [0.7517, 0.4982, 0.7589]\n",
      "PeriodicSite: Si (1.378, 1.339, 1.456) [0.1267, 0.1232, 0.1339]\n",
      "PeriodicSite: Si (1.378, 1.339, 6.892) [0.1267, 0.1232, 0.6339]\n",
      "PeriodicSite: Si (1.378, 6.776, 1.456) [0.1267, 0.6232, 0.1339]\n",
      "PeriodicSite: Si (1.378, 6.776, 6.892) [0.1267, 0.6232, 0.6339]\n",
      "PeriodicSite: Si (6.815, 1.339, 1.456) [0.6267, 0.1232, 0.1339]\n",
      "PeriodicSite: Si (6.815, 1.339, 6.892) [0.6267, 0.1232, 0.6339]\n",
      "PeriodicSite: Si (6.815, 6.776, 1.456) [0.6267, 0.6232, 0.1339]\n",
      "PeriodicSite: Si (6.815, 6.776, 6.892) [0.6267, 0.6232, 0.6339]\n",
      "PeriodicSite: Si (0.01891, 10.85, 0.0963) [0.001739, 0.9982, 0.008856]\n",
      "PeriodicSite: Si (0.01891, 10.85, 5.533) [0.001739, 0.9982, 0.5089]\n",
      "PeriodicSite: Si (0.01891, 5.417, 0.0963) [0.001739, 0.4982, 0.008856]\n",
      "PeriodicSite: Si (0.01891, 5.417, 5.533) [0.001739, 0.4982, 0.5089]\n",
      "PeriodicSite: Si (5.456, 10.85, 0.0963) [0.5017, 0.9982, 0.008856]\n",
      "PeriodicSite: Si (5.456, 10.85, 5.533) [0.5017, 0.9982, 0.5089]\n",
      "PeriodicSite: Si (5.456, 5.417, 0.0963) [0.5017, 0.4982, 0.008856]\n",
      "PeriodicSite: Si (5.456, 5.417, 5.533) [0.5017, 0.4982, 0.5089]\n",
      "PeriodicSite: Si (1.378, 4.058, 4.174) [0.1267, 0.3732, 0.3839]\n",
      "PeriodicSite: Si (1.378, 4.058, 9.611) [0.1267, 0.3732, 0.8839]\n",
      "PeriodicSite: Si (1.378, 9.495, 4.174) [0.1267, 0.8732, 0.3839]\n",
      "PeriodicSite: Si (1.378, 9.495, 9.611) [0.1267, 0.8732, 0.8839]\n",
      "PeriodicSite: Si (6.815, 4.058, 4.174) [0.6267, 0.3732, 0.3839]\n",
      "PeriodicSite: Si (6.815, 4.058, 9.611) [0.6267, 0.3732, 0.8839]\n",
      "PeriodicSite: Si (6.815, 9.495, 4.174) [0.6267, 0.8732, 0.3839]\n",
      "PeriodicSite: Si (6.815, 9.495, 9.611) [0.6267, 0.8732, 0.8839]\n",
      "PeriodicSite: Si (4.097, 1.339, 4.174) [0.3767, 0.1232, 0.3839]\n",
      "PeriodicSite: Si (4.097, 1.339, 9.611) [0.3767, 0.1232, 0.8839]\n",
      "PeriodicSite: Si (4.097, 6.776, 4.174) [0.3767, 0.6232, 0.3839]\n",
      "PeriodicSite: Si (4.097, 6.776, 9.611) [0.3767, 0.6232, 0.8839]\n",
      "PeriodicSite: Si (9.533, 1.339, 4.174) [0.8767, 0.1232, 0.3839]\n",
      "PeriodicSite: Si (9.533, 1.339, 9.611) [0.8767, 0.1232, 0.8839]\n",
      "PeriodicSite: Si (9.533, 6.776, 4.174) [0.8767, 0.6232, 0.3839]\n",
      "PeriodicSite: Si (9.533, 6.776, 9.611) [0.8767, 0.6232, 0.8839]\n",
      "PeriodicSite: Si (0.01891, 2.699, 2.815) [0.001739, 0.2482, 0.2589]\n",
      "PeriodicSite: Si (0.01891, 2.699, 8.252) [0.001739, 0.2482, 0.7589]\n",
      "PeriodicSite: Si (0.01891, 8.135, 2.815) [0.001739, 0.7482, 0.2589]\n",
      "PeriodicSite: Si (0.01891, 8.135, 8.252) [0.001739, 0.7482, 0.7589]\n",
      "PeriodicSite: Si (5.456, 2.699, 2.815) [0.5017, 0.2482, 0.2589]\n",
      "PeriodicSite: Si (5.456, 2.699, 8.252) [0.5017, 0.2482, 0.7589]\n",
      "PeriodicSite: Si (5.456, 8.135, 2.815) [0.5017, 0.7482, 0.2589]\n",
      "PeriodicSite: Si (5.456, 8.135, 8.252) [0.5017, 0.7482, 0.7589]\n",
      "PeriodicSite: Si (2.737, 2.699, 0.0963) [0.2517, 0.2482, 0.008856]\n",
      "PeriodicSite: Si (2.737, 2.699, 5.533) [0.2517, 0.2482, 0.5089]\n",
      "PeriodicSite: Si (2.737, 8.135, 0.0963) [0.2517, 0.7482, 0.008856]\n",
      "PeriodicSite: Si (2.737, 8.135, 5.533) [0.2517, 0.7482, 0.5089]\n",
      "PeriodicSite: Si (8.174, 2.699, 0.0963) [0.7517, 0.2482, 0.008856]\n",
      "PeriodicSite: Si (8.174, 2.699, 5.533) [0.7517, 0.2482, 0.5089]\n",
      "PeriodicSite: Si (8.174, 8.135, 0.0963) [0.7517, 0.7482, 0.008856]\n",
      "PeriodicSite: Si (8.174, 8.135, 5.533) [0.7517, 0.7482, 0.5089]\n",
      "PeriodicSite: Si (4.097, 4.058, 1.456) [0.3767, 0.3732, 0.1339]\n",
      "PeriodicSite: Si (4.097, 4.058, 6.892) [0.3767, 0.3732, 0.6339]\n",
      "PeriodicSite: Si (4.097, 9.495, 1.456) [0.3767, 0.8732, 0.1339]\n",
      "PeriodicSite: Si (4.097, 9.495, 6.892) [0.3767, 0.8732, 0.6339]\n",
      "PeriodicSite: Si (9.533, 4.058, 1.456) [0.8767, 0.3732, 0.1339]\n",
      "PeriodicSite: Si (9.533, 4.058, 6.892) [0.8767, 0.3732, 0.6339]\n",
      "PeriodicSite: Si (9.533, 9.495, 1.456) [0.8767, 0.8732, 0.1339]\n",
      "PeriodicSite: Si (9.533, 9.495, 6.892) [0.8767, 0.8732, 0.6339], molecule=None, energy=-341.8583349452773, energy_per_atom=-5.341536483519958, forces=[(-2.4779696985501867e-14, -1.3552154779209369e-14, 2.993551231417679e-15), (-2.5432234756803227e-14, 8.402934872578241e-15, -9.103442554902336e-15), (-2.649928133573328e-14, 3.0809434322341678e-15, -1.3158253436154426e-15), (-1.7335693088828784e-14, 1.3809922257531021e-14, -3.507059481740177e-14), (-1.0562080723919287e-14, -1.0590378400621159e-14, -6.826136877968736e-16), (-1.4766910245734297e-14, -7.844043052222067e-15, -9.225890484790365e-15), (-1.8537669369278486e-14, 5.4450073058232365e-15, -4.315503693736204e-15), (-4.1736904730915736e-15, 1.457688136863311e-14, -2.068869164525977e-14), (2.586125757986224e-14, 1.2607970223399434e-14, 7.273695534770752e-15), (2.5484226274380406e-14, 8.766099825197049e-15, 8.694434061595757e-15), (2.6321773884724177e-14, 1.7011132086297565e-14, 5.371722369582616e-15), (2.3751074891553703e-14, 1.0607183534294684e-14, 1.0302089042957263e-14), (2.025983547593313e-14, 8.370637082782961e-15, -5.239949099622443e-16), (2.4862002647590975e-14, 1.3229922799645744e-14, 5.104423828061755e-16), (3.034269090356836e-14, 2.0395360747493818e-14, 1.049274944313034e-14), (1.5842549762156008e-14, 8.00068580806987e-15, 1.4125165897642443e-14), (-1.2913813491862228e-14, -8.084091765957462e-15, -1.5313381598468408e-16), (-1.7683068761202303e-14, 4.453162857882711e-15, 3.1149128415508542e-15), (-6.8866225478201e-15, -2.542527786344919e-15, -2.3246345957734994e-15), (-1.3895565957274305e-14, 9.210250018653564e-15, 1.7289934674952212e-14), (-2.4784940013566252e-14, 1.9131980825236165e-15, 1.184145072239697e-15), (-1.9671893739920085e-14, 2.990724491523904e-15, 1.1977181399447367e-15), (-2.0437188081462183e-14, -6.6963132847626565e-15, 4.567746473420425e-15), (-2.3251250337159994e-14, 6.2405285289960955e-15, 1.3398943671468248e-14), (2.840436219564424e-14, -4.6802839381854255e-15, -6.643990912991171e-15), (2.7807617319908218e-14, -1.2115742437091015e-14, 3.5502850659341334e-14), (2.8985548770205094e-14, 1.0272598743865657e-14, -7.877921405496924e-15), (3.0873632643479976e-14, -1.1596626436904955e-15, 2.4231918555051024e-17), (3.121469427134018e-14, -8.14798642578417e-15, -6.663073506501626e-16), (2.278221700714408e-14, -8.91018118831619e-15, 2.028003424710983e-14), (1.3833953429277573e-14, 1.809630580557357e-14, 2.0194190846037395e-15), (2.9171326812460485e-14, 7.819699748834452e-15, 1.1221492485224971e-17), (1.953428738210583e-14, 3.41740524767431e-15, -3.191891195797325e-15), (5.276161452183459e-15, 3.715777685542321e-15, 1.2219392164780629e-14), (1.987766961639656e-14, 2.3187181341643992e-14, -5.586541763153927e-15), (1.360673726469308e-14, 1.8533785617336207e-14, -1.0297318553398327e-14), (1.1929693344292502e-14, 5.886187804532428e-15, -2.135498809036074e-15), (-4.197163450125885e-15, 1.0548853457414964e-14, 7.2215454102742e-15), (4.998109670681314e-15, 2.1188996737753207e-14, 9.316714308887194e-16), (1.381100095398935e-14, 1.7874644906573645e-14, -1.1029859751238158e-14), (-1.6754278556526e-14, -5.792399975568577e-15, 1.4740384985474555e-15), (-1.12832750683977e-14, -4.852642437457467e-15, -2.899512871283854e-14), (-1.2385382677946964e-14, -2.515153883775323e-14, 8.834355342855985e-16), (-2.4428077091954135e-14, -2.8424841758242954e-14, -2.128250536348182e-14), (-2.16700030315764e-14, -2.684063771243844e-15, 2.8769187237670203e-15), (-2.2537578221867513e-14, -1.4606543191896535e-15, -3.1747446972581444e-14), (-2.6131035018226102e-14, -3.1895352795336556e-14, -9.63111222226764e-16), (-3.49882042402597e-14, -1.721324007674307e-14, -3.1963115219358663e-14), (-2.617629539096748e-14, -6.900548722385026e-16, -1.8009217583706027e-14), (-2.3822120332032773e-14, -3.2661556524175575e-15, 7.736315813803489e-15), (-2.933503519111043e-14, -1.8000081803974297e-14, 4.991070808704431e-15), (-2.0114288167196463e-14, -2.0948435602566896e-14, 2.4245471082207093e-15), (-1.629192350468487e-14, -4.8134638448091564e-15, -1.0559871764628552e-14), (-2.857723516491987e-14, -5.546942904796286e-15, 2.2287944059784515e-15), (-2.8545445273888337e-14, -2.2576653122273775e-14, 5.165075516370781e-15), (7.331976322681246e-16, -3.108785735398172e-14, -7.049699365935247e-15), (1.6373838049310585e-14, -2.2629692378676316e-15, 2.051550350698543e-15), (1.6536723480190508e-14, -2.2413055791920736e-15, 1.1871108683024166e-14), (1.7015804661895993e-14, 9.561140754408925e-15, 3.846502969714094e-15), (2.7200674802761965e-14, -1.279930807029016e-14, 1.5961989813506167e-14), (1.366532590343415e-14, -2.6467271290855533e-15, 7.379674620334601e-15), (1.4843699916079613e-14, -2.399165977714471e-15, 5.292961028767841e-15), (1.1749574100111783e-14, 1.2136949333411676e-14, 1.0646629752769198e-14), (1.5882471869761943e-14, -1.9299453832912703e-16, 1.7830364141673558e-14)], stress=((7.88302641797116, 1.8961539260204218e-13, 2.0660600265053523e-13), (1.8961539260204218e-13, 7.883026417976885, 1.622778972217232e-12), (2.0660600265053523e-13, 1.622778972217232e-12, 7.883026417960265)), ionic_steps=[IonicStep(mol_or_struct=None, structure=None, molecule=None, energy=-341.8297699301507, forces=[[-5.944179279991483e-15, -1.3020906620240667e-14, -1.2165171891760987e-15], [-1.4268433050341036e-15, -1.5301117831941586e-14, 3.66222783910043e-15], [4.39766461907045e-15, 3.3949686154509644e-15, 5.648894700732688e-15], [2.2561091009450345e-15, 2.577906234969363e-15, 1.2580286222067848e-14], [-1.4368064030212402e-14, -1.710263874965534e-14, 4.603956105242446e-15], [-1.415748189864609e-14, -1.515348930659758e-14, 4.343254610670623e-15], [-4.5352352634405206e-15, 6.785407298700013e-16, 5.421598703292917e-15], [-2.629515528929094e-15, -2.4494295480792516e-15, 1.2939952928614495e-15], [-1.457167719820518e-16, 4.090477956353311e-15, -3.139849491518021e-16], [5.398242616805327e-16, 8.577014966315577e-15, -1.5768636396629176e-15], [1.311377467045787e-15, 9.840218917478438e-16, -1.1051190458606556e-15], [1.933024053324406e-15, 6.191878607064716e-16, -1.1579279202145187e-15], [-2.3592239273284576e-16, 2.8085173076064507e-15, -3.9280644709149826e-16], [3.6946357431788535e-15, 6.653206631457298e-15, 1.908629504443482e-15], [-4.415436373930149e-15, 2.03743272253476e-15, -3.732796630003637e-16], [-2.4917083506085028e-15, 4.13677021274489e-15, -3.019172284006227e-15], [-5.2548196100444394e-15, -1.4011161192172645e-14, 2.9093866496467027e-16], [-5.61717239115283e-15, -1.3301775035093604e-14, -5.010315079490013e-15], [-5.67587714702571e-15, 2.0694031340959262e-16, -3.309402617668756e-15], [-5.0347607489872995e-15, -6.798470413216295e-16, -7.028882684223525e-15], [3.0401291496707193e-15, -1.2226787821201343e-14, -6.080230347254179e-15], [-1.1522508144126964e-15, -1.2802219492397841e-14, -7.0927421921829215e-15], [3.146744339708671e-15, -1.0064388554443402e-15, -1.4161882009179268e-16], [4.821462962373484e-15, -1.235161020143777e-15, -4.732009487417167e-15], [2.949029909160572e-16, 1.730386667286865e-15, 5.7696902810988604e-15], [2.8345381597461028e-15, 3.555315764014466e-15, -2.7096380694757727e-15], [-1.298223681334143e-15, 8.791144895381464e-15, 3.3523531173251797e-16], [2.822178254979768e-16, 3.8571576488344306e-15, -2.8311771330113977e-15], [-3.32246301868247e-15, 3.2044137308895326e-15, 1.4140812713760598e-16], [-2.513489802847147e-15, 3.329879215652155e-16, -3.4926332083352798e-15], [7.32889031919621e-15, 7.296365101054593e-15, -5.519461078370416e-15], [7.769826448900119e-15, 5.810456282784315e-15, 4.844648987534228e-15], [5.789639601072594e-16, 7.226858000919378e-15, 5.7245874707234634e-15], [3.355388883408139e-15, 7.119305145408816e-15, -2.785965902418752e-15], [-1.5556130172334e-14, -5.648693318649478e-15, 1.4849370668517732e-15], [-1.8254061456834947e-14, -5.72111802377151e-15, -1.2836953722228372e-16], [1.5694476968031168e-14, 4.1386165328116675e-15, 2.6124935548210715e-15], [1.2620546968600266e-14, 6.690611606408048e-15, 2.415819280732201e-15], [1.5324966471273368e-14, -1.4480604215716397e-15, -5.066890772989256e-15], [1.1958749962515114e-14, 2.3932678755445025e-15, 6.518223460982853e-16], [-5.298563991330677e-15, -2.2153918036540467e-15, -1.417630762941529e-15], [-6.997936759012063e-15, 1.3526315721516021e-15, -4.089130750450703e-15], [-6.992101783718726e-15, -2.2410458905275377e-16, 5.403921328598235e-15], [-3.098217822160472e-15, 6.629006900154243e-16, 1.2020199661739572e-14], [2.3266533929241617e-15, -3.1408554816426935e-16, 2.9219366701017095e-15], [-3.2268694213541914e-16, -2.2788131838214756e-15, 9.829676533658674e-15], [1.2689208354768667e-14, 4.541595422083216e-15, -6.435776472483736e-16], [9.896285934081332e-15, 5.3757145050236776e-15, -4.421295991265898e-15], [-2.728052565749081e-15, -1.2603401327681944e-15, -2.6283326474182533e-15], [-3.9238586520361416e-15, -3.053069279041141e-15, -3.837200493805935e-15], [-1.22296670217525e-15, -1.6778649070847045e-15, -4.824254578475936e-15], [9.417313156139686e-16, -1.7298022059254417e-15, -9.746977530644685e-16], [-4.675097131932914e-15, -2.1832775527580036e-15, -1.6819392868657249e-15], [-6.161852836893103e-15, -1.9179897175216825e-15, 1.5812004483528597e-15], [-1.019845583241012e-14, 4.618101131945119e-15, -1.1231802993775424e-14], [-1.1277992393071564e-14, 4.36957416405676e-15, 3.697563089044564e-15], [-1.8301332671555315e-16, 1.882636074617527e-15, -5.203515929018817e-16], [-7.016759198461923e-17, 7.150952059471447e-16, 4.041421470786534e-16], [-4.1137742041358144e-16, 6.69627825008771e-15, -3.0215555883282514e-16], [-1.572773952835337e-15, 5.55026314053716e-15, 4.768614664441151e-15], [1.2853161477634666e-14, 1.0993017497774405e-15, -6.521747623175251e-16], [1.2488912420505937e-14, -5.851682646876603e-16, 7.447002823863526e-15], [1.5200566440451506e-14, 7.360715314086863e-15, -2.6820942520969573e-15], [1.0020050714840266e-14, 5.593802403426463e-15, -6.668961020759754e-15]], stress=((10.914530809031833, 1.882529805682905e-14, 9.801102459091841e-14), (1.882529805682905e-14, 10.914530809031826, 6.573532330727404e-14), (9.801102459091841e-14, 6.573532330727404e-14, 10.914530809031845)), magmoms=None), IonicStep(mol_or_struct=None, structure=None, molecule=None, energy=-341.83032624032563, forces=[[-3.335585888376044e-15, -2.1313159485842953e-14, 1.1998700271472363e-15], [1.3797406498702392e-15, -2.2187286052464603e-14, -1.8515585420398554e-15], [5.578801242039737e-15, 5.140718766335128e-15, 7.59200903404126e-15], [5.577809578216739e-15, 4.9538984500381404e-15, 1.0096293282817648e-14], [-4.930843060246826e-15, -2.5462054339953077e-14, 5.83777817753095e-15], [-6.608904267217056e-15, -2.4828560939800428e-14, 2.2623449575027207e-15], [2.506732385752189e-15, 1.352596420284291e-15, 5.5634203942670196e-15], [1.7109794483993745e-15, -6.665674956440881e-16, -1.1324491691611094e-15], [-4.753142324176451e-16, 7.587680483922554e-15, -1.001802807376606e-15], [-1.2746964941912076e-15, 8.48409884013357e-15, 2.9065291839991403e-15], [-2.779194733810706e-17, -6.119237061508187e-16, -1.5323958894923354e-15], [1.3595895242968226e-15, 6.390287604629563e-16, 2.8978555666192563e-15], [-3.714042962066344e-15, 6.647460359943125e-15, 9.75781955236954e-19], [-1.326196097384269e-15, 8.139322549283179e-15, 5.581906464824371e-15], [-6.953129972926342e-15, 2.4086635463937967e-15, -1.5742750098188485e-15], [-3.9112021625175176e-15, 2.842395872639544e-15, 1.1305547799745751e-15], [-3.591127893507904e-15, -2.2711031087707407e-14, -5.153036107695863e-15], [-4.1368127535128416e-15, -2.1362257068751696e-14, -7.567731163948821e-15], [-2.7971698189703216e-15, 9.929767240662163e-17, -7.104078034116026e-15], [-2.373931008292449e-15, -9.612610805898514e-17, -1.046612883165432e-14], [3.669014267073832e-15, -2.3020115739501106e-14, -5.03031733902295e-15], [2.1516573963174384e-15, -1.9794897279382762e-14, -9.820811698590948e-15], [6.592359172658338e-15, -2.0347955210076325e-16, -4.3694998323697695e-15], [8.553789814336835e-15, 1.7848822960184335e-15, -9.990799776160098e-15], [-1.4085954624931674e-15, 4.322930902134203e-15, 6.0298988024953815e-15], [-2.0816681711721685e-16, 4.986896312564326e-15, 4.919675777870225e-15], [-1.3265213580360147e-15, 1.466144913808698e-14, 1.7770073607037418e-16], [-8.393893219382775e-16, 1.0709749059811813e-14, 4.898425415289509e-15], [-5.60442991792481e-15, 6.612685845810073e-15, -6.892069922583011e-16], [-5.380741222049158e-15, 1.5106733087909144e-15, 3.1452069749094043e-15], [4.9927662508887985e-15, 1.2211385162330234e-14, -5.957954365054443e-15], [5.073957747014912e-15, 1.3666151543745286e-14, 6.381939247901425e-15], [-3.737895409861025e-15, 9.686695889854491e-15, 4.874572967494828e-15], [-3.000204251701888e-15, 1.1098760799299612e-14, 2.3939183968479938e-15], [-2.055516176740824e-14, -5.636983935186635e-15, 1.172627471044353e-15], [-2.547614896819539e-14, -5.065392549852277e-15, 6.543376951384516e-15], [1.0481632922720863e-14, 4.576417370061314e-15, 9.928039293449764e-16], [7.676585062066366e-15, 8.35692192530102e-15, 7.755623400440559e-15], [8.086691335206682e-15, -6.31873026124552e-16, -4.673660706165044e-15], [8.795481704071406e-15, 1.615135976351656e-15, 4.195862407518902e-15], [-3.750860943184647e-15, -2.5217970784773436e-16, -6.038879045802172e-16], [-4.312295556448478e-15, 1.3884354430738046e-15, -5.562163397373294e-15], [-5.1963340111435476e-15, -3.1673882266991527e-15, 5.445966450705547e-15], [-2.81547864788346e-15, -4.850432104981607e-15, 8.748605630220932e-15], [3.893698650178981e-15, -2.283301362910355e-15, 4.607802335838618e-15], [2.562655830270523e-15, -2.272760921655107e-15, 8.586679188727275e-15], [1.6981252199705902e-14, -1.9088649796028187e-16, -2.201252347014659e-16], [1.428040226116045e-14, 2.4164147448941208e-15, -7.787570518595676e-15], [4.0848163881338634e-16, -1.5502841692945513e-15, -7.392777355726392e-15], [-8.640377753750919e-16, -3.4287388412780963e-15, -1.0846962044519905e-14], [4.246750282685794e-15, -4.544302962899115e-15, -9.140548870958845e-15], [2.9515664758349854e-15, -4.824426134834722e-15, -4.980933200615656e-15], [1.61657847346083e-15, -4.646545267810412e-16, -6.78116154691381e-15], [6.139514821304137e-16, -1.7594643259180428e-15, -8.66277535815918e-16], [-3.288356813544802e-15, 3.1730108314030267e-16, -7.378572189684464e-15], [-3.2225398875567993e-15, -1.8197427255092003e-16, -9.202708040056962e-16], [-4.850720519700147e-15, 4.862516965660101e-15, -2.729012477460075e-15], [-6.4611384848654166e-15, 3.2517205422249102e-15, 6.165801819699678e-15], [-4.537291510136374e-15, 1.478258012396016e-14, -4.139413197158807e-15], [-6.4355854443410654e-15, 1.1746026078193442e-14, 9.808507984457496e-15], [8.385460886594971e-15, 2.3021081871778132e-15, 3.0391546556661546e-16], [7.9367933464814e-15, 1.144409486134577e-15, 1.0835942560938703e-14], [6.144059858874949e-15, 1.3718653570734426e-14, -1.7550590429744883e-15], [4.3640981869966775e-15, 1.3428072064699024e-14, -4.082905481804858e-15]], stress=((10.86300023150662, 7.889746053143133e-14, 2.0326687708223137e-13), (7.889746053143133e-14, 10.86300023150666, -5.743860995566009e-14), (2.0326687708223137e-13, -5.743860995566009e-14, 10.863000231506634)), magmoms=None), IonicStep(mol_or_struct=None, structure=None, molecule=None, energy=-341.8314285096731, forces=[[-3.0007177654261608e-15, -2.910949806599213e-14, -1.0738662529466338e-15], [-1.3133334785637388e-15, -3.231608189529253e-14, 2.564921643404428e-16], [6.0627350934868785e-15, 4.395140037371159e-15, 4.913347806479525e-15], [2.4790295379375268e-15, 1.9591202913963636e-15, 1.3166031951467299e-14], [-1.187158010784728e-14, -3.4096748861844883e-14, 1.0920084281274e-15], [-1.3907043478779673e-14, -3.2551210194637324e-14, -2.4118839656592575e-16], [-3.4017753722151e-15, 1.861132131926197e-15, 5.861295623794992e-15], [-5.135106749543095e-15, -1.7074015812301724e-15, 2.8831104170734534e-15], [1.3877787807814457e-17, 1.3225531780847177e-14, -2.7842311789427754e-16], [4.4007766181186625e-16, 1.500253914155092e-14, 5.779231260216733e-15], [1.6998186239305054e-16, 3.4382219293860317e-15, -3.499811372741703e-15], [4.185996167749284e-15, 1.0416689212588981e-14, 5.53636997357998e-15], [-3.0444397003392965e-15, 1.390749494734056e-14, 1.325003474994535e-15], [-1.7023058310194905e-15, 1.1713828691750638e-14, 1.0013257584207125e-14], [-7.477934589500608e-15, 6.597153379139797e-15, -2.587629096416014e-15], [-4.276532131349507e-15, 1.4885519634063606e-14, 1.4201913435410787e-15], [-5.552458517380128e-15, -2.8495474141648595e-14, 1.4518110834620818e-15], [-3.684047421863587e-15, -3.2281811328832e-14, -1.5042654621932883e-14], [-2.366801060558121e-15, 1.017670275577521e-15, -9.507817777987433e-15], [-6.364405648946771e-15, -4.68605613222221e-15, -1.6089668659902134e-14], [6.0582540774376664e-15, -2.98024167566253e-14, 2.3113011325134143e-15], [8.51909351950724e-15, -2.9011798744118986e-14, -1.5147713812446728e-14], [1.0604244753484185e-14, 9.359951431001637e-16, -8.657215583744272e-15], [1.2975036668645975e-14, -4.612212074368018e-15, -1.4415988942609813e-14], [1.0755285551056204e-16, 1.1275702593849246e-16, 1.0842021724855044e-14], [-7.806255641895632e-16, 7.431989051953636e-15, 2.1649348980190553e-15], [-3.803814901948144e-15, 1.4839258294374602e-14, 6.257255998065592e-15], [-5.20200202358545e-16, 4.616966531312272e-15, -7.872717235068993e-15], [-7.117664019073511e-15, 2.629416426074265e-15, 4.783054657434027e-15], [-6.056375358360656e-15, 3.172184974279454e-16, 4.01130790435582e-15], [1.7593581586982775e-15, 1.1058234931454703e-14, 7.094017400285013e-16], [4.7596475372113645e-15, 5.078402975922103e-15, -3.4363787856928063e-15], [-5.798746899321472e-15, 1.3402473575396812e-14, 7.532169332691296e-15], [-4.535000847072368e-15, 1.7003759511524663e-14, -5.190292640122607e-15], [-2.4236074786696895e-14, -1.9255430583342559e-16, 2.577244292981601e-15], [-2.026720805070603e-14, 3.094746681142624e-15, 4.760081218080359e-15], [1.9915492865951734e-14, 1.2889212266942174e-14, 2.5733538563943448e-15], [1.1785711295786427e-14, 1.6953669371155833e-14, 5.693145607721384e-15], [1.464352863049364e-14, 6.375108774214766e-16, -2.2816291715185696e-15], [1.84071508035899e-14, 9.385504526338018e-15, 4.3168593699682845e-15], [-6.5949529993010675e-15, -5.057769253326988e-16, -1.1858406204418633e-15], [-5.51654135580123e-15, 1.6276201832030003e-15, -4.655033462511301e-15], [-5.510472408846497e-15, -1.2333883914195098e-15, 3.754918021202044e-15], [1.351906935465226e-16, -6.738922977587644e-15, 1.9606499058441628e-14], [1.0058037251513144e-14, 1.4946417227652145e-16, 2.0958877176267e-15], [8.368699494916117e-15, -1.8444193248439225e-15, 9.499284556318557e-15], [2.2058509844059752e-14, -8.487354834782815e-17, 1.4531969370435633e-15], [1.9870735856777053e-14, -2.2286491398279974e-15, 2.8322664173815668e-15], [-1.6008143432794802e-15, 6.925769128389523e-16, -1.6453818288322125e-15], [-4.047570155822904e-15, 1.144953368141026e-15, -1.3480299809623484e-14], [2.738015158154805e-15, -5.235711182029093e-15, -8.47718514968633e-15], [1.9562301367326508e-15, -5.329474856510399e-15, -5.838320278617193e-15], [-5.316615745744324e-15, -1.0218833422706367e-15, -8.361492681255887e-15], [-7.505724573795976e-15, 2.719988003485383e-15, -5.584616970255585e-15], [-8.78161069252717e-15, 1.201102883601965e-15, -8.540008943882984e-15], [-1.4169065417574615e-14, 2.5485183577757887e-16, -1.4220395694319876e-15], [-9.105997206271255e-15, 5.334800903709932e-16, -9.81765825102679e-16], [-8.058887446527132e-15, 2.730344398007933e-15, 5.416654691085402e-15], [-7.79193636610707e-15, 1.3984970939365887e-14, -5.0753714701774046e-15], [-1.1419789886199017e-14, 1.1973995679326668e-14, 8.339668543344722e-15], [1.5668950773818386e-14, -5.024313883096953e-16, 1.139535331958877e-15], [1.6349633081680966e-14, 9.54703328586294e-16, 8.151853687162124e-15], [1.2963031127077776e-14, 1.233855200829041e-14, -1.223462859343584e-15], [8.750076638670636e-15, 1.4640267495856543e-14, -2.538482780505306e-15]], stress=((10.760231054532209, 8.595950241449608e-14, 2.82522885826261e-13), (8.595950241449608e-14, 10.760231054532273, -5.1983001612944676e-14), (2.82522885826261e-13, -5.1983001612944676e-14, 10.760231054532277)), magmoms=None), IonicStep(mol_or_struct=None, structure=None, molecule=None, energy=-341.83305623860895, forces=[[-8.109412121849735e-15, -1.5679701748815738e-14, -2.0655385462740785e-15], [-1.3784999583607484e-15, -1.6447395237483096e-14, 2.5157285109267402e-15], [1.4373776420408685e-15, 1.3779341403519826e-15, 1.0595431375668004e-15], [-3.285653296135403e-15, -4.601438723323206e-15, 2.059225757948958e-14], [-2.3708899427044017e-14, -1.7957965843529156e-14, 3.230055112268815e-15], [-2.0907882596185503e-14, -1.36537499226063e-14, 5.132850253771609e-15], [-1.540127672509733e-14, -8.46793660446701e-16, 2.658211311116175e-15], [-1.6738021559048466e-14, -7.153565934059358e-15, 1.0629301258613388e-14], [4.933553565678039e-15, 2.9802549317281546e-15, -2.149322386735264e-15], [5.7858448934688944e-15, 5.6247324506375485e-15, -6.860831347488272e-16], [5.557896970850288e-15, 3.0747973611688906e-16, -3.506921249943393e-15], [8.426310864340092e-15, 1.464865555245165e-15, -6.843484112728504e-15], [1.0770898062339995e-14, 2.08828180442433e-15, -7.708677446371937e-16], [1.4671315377856597e-14, 4.319678295616747e-15, -3.725318664660193e-16], [8.748849529092816e-15, 3.2248509418408844e-15, -7.187804848964192e-15], [9.776392867320459e-15, 3.0139134799531987e-15, -8.19187289684731e-15], [2.4130164487097365e-15, -2.3200386161775213e-14, 2.4757184861467097e-15], [-9.182155325664676e-16, -1.6053874383011024e-14, -1.7057969620148938e-14], [-2.7637372167839576e-15, -3.6502541813580435e-15, -4.0541563365420995e-15], [2.524833779912307e-15, -1.0924858921091919e-14, -1.6019412359125074e-14], [3.922357586432857e-15, -2.4458619300087112e-14, -9.715957066533864e-16], [-2.1619687218264132e-16, -1.2731996405867413e-14, -1.790830938402932e-14], [-7.330688993659705e-16, -3.080981786548064e-15, -2.6797328188580696e-15], [4.135988163031411e-15, -6.1662645972588954e-15, -1.713303855037406e-14], [5.169475958410885e-16, 5.885049392251318e-15, 1.758662659945287e-14], [2.9559688030644793e-15, 9.116405547127115e-15, -5.68295410730002e-15], [-8.012254054667878e-17, 3.445594504158933e-15, 6.529932844445696e-15], [1.1891529427821013e-15, -1.3617579286417936e-16, 1.857238321467669e-15], [3.042239955775277e-15, 8.291802032316109e-15, 7.974258062478181e-15], [8.288412629977671e-15, 7.179057390606976e-16, -1.850395989319749e-15], [1.3753772866974007e-14, 2.7568220398025735e-15, 1.0121556675744218e-15], [1.3894918202139728e-14, 1.1679025802013854e-15, 8.727719068291062e-15], [7.593752016088473e-16, 3.892719480091955e-15, 1.10397802011164e-14], [1.0620844481668001e-15, 6.831341048396666e-15, -1.445718544879071e-14], [-8.541844623109718e-15, -2.8462475432089462e-15, 2.9871833939096995e-15], [-9.69276742202041e-15, -3.2612801348363973e-15, 5.925815393936773e-15], [1.677954650225466e-14, 8.037190704635044e-16, 5.177499054487278e-15], [8.208711488322251e-15, 8.382834357223423e-15, -5.123722626731997e-15], [1.313475362000995e-14, 9.163676761847483e-16, -2.2384983462547897e-15], [1.2540749688705333e-14, 8.685543603781376e-16, 7.1002231871730714e-15], [-3.613722073859439e-15, -2.2153807922257324e-15, -1.7448861772779642e-15], [-4.690899802113364e-15, 2.8039113541975186e-15, 1.3174233771495562e-15], [-3.1006841483462574e-15, 1.1927958620816526e-14, 3.260310655571749e-15], [-1.757731008406602e-15, 1.6383124495027808e-14, 1.5560123566553006e-14], [-2.1311221897976108e-16, -6.191795997956396e-16, 2.592004908348176e-15], [-7.297743647176249e-16, -4.563508587945159e-16, 1.68189790623229e-14], [3.937151298332497e-15, 1.3224605338561118e-14, 2.1904689309890707e-15], [-7.294262341763034e-16, 1.997278913911933e-14, 6.587383701126166e-16], [-5.638415844383968e-15, 8.752577791227081e-16, 4.021300563792816e-15], [-6.319993589359553e-15, -4.802100696806616e-16, -9.25080130025264e-15], [-3.27058160762951e-15, 8.10422489208075e-15, -5.346775680378669e-15], [-2.519542796611867e-15, 1.1775124681055722e-14, -1.6759597182280928e-15], [-1.9015988345197398e-14, 2.9268366631420626e-16, -4.408809252022758e-15], [-1.701039760486472e-14, -1.3522046098351132e-15, 2.138914045879403e-15], [-2.0827809183549765e-14, 1.230077720793519e-14, -4.445795783990518e-15], [-1.909079131291267e-14, 1.5981127841536033e-14, 2.888314587501384e-15], [-1.6202317265623378e-15, 5.345974243250606e-15, -2.7499867065194843e-15], [-2.1687590255808733e-15, -9.517636219892854e-16, -2.1658386006948393e-15], [4.862191448939117e-16, 1.2275544232154994e-15, -4.247114574426538e-15], [-4.2909348678263825e-15, -4.050658198998387e-15, 8.975128424155508e-15], [1.4836923735312858e-14, 3.3655330426604586e-15, -3.1334205685025442e-15], [1.3389054433755699e-14, -4.263557915938176e-15, 3.0031698559178644e-15], [1.1639208812314518e-14, -1.6277103541654565e-15, -4.7473560303555205e-15], [5.523107885969486e-15, -1.838388073738624e-15, -6.841714237385216e-15]], stress=((10.60680475572629, 1.9403567468511124e-14, 6.393105772497716e-14), (1.9403567468511124e-14, 10.606804755726637, 4.1491575225042436e-13), (6.393105772497716e-14, 4.1491575225042436e-13, 10.60680475572625)), magmoms=None), IonicStep(mol_or_struct=None, structure=None, molecule=None, energy=-341.83517917945164, forces=[[-1.1016354657927135e-14, -1.772304824362999e-14, -4.43967237105658e-15], [-5.586625073615288e-15, -2.1779113580676964e-14, 6.954405194753823e-15], [1.2926548632224196e-15, -7.722488318576918e-16, -2.1108853021382847e-15], [-6.340038645583123e-15, -8.187110454101372e-15, 2.346050849756935e-14], [-1.8229341647302277e-14, -5.6078188967467746e-15, -1.4042586538032253e-15], [-1.2015255953942922e-14, -2.5731838992334782e-14, 1.1089795802585872e-14], [-5.634220913712691e-15, -1.6178718927712873e-15, -3.8578962615644363e-16], [-8.847306567916213e-15, -9.625546887326308e-15, 1.3969944992475725e-14], [2.2967738821932926e-15, -1.672273430841642e-15, -4.300813177815499e-15], [3.4737837606435562e-15, -4.727121472036799e-15, -7.231628490478315e-15], [5.998408853085857e-15, 6.140270583654406e-15, -6.1937857874665345e-15], [4.423761704175355e-15, 8.364077659639424e-15, -8.887855729167171e-15], [5.771425004574837e-15, -7.44814366432367e-15, -2.2562247209423347e-15], [2.449321127862003e-15, 1.2124632894905396e-15, -3.984226143449732e-15], [3.9576773809879644e-15, 6.4362577767429485e-15, -6.2545344730765775e-15], [2.0236104153849906e-15, 9.615718128764606e-15, -1.0132573186256207e-14], [-9.59189130371658e-15, -7.127495106975818e-15, -3.701388713350838e-15], [-9.499745391752816e-15, -1.2898418340450794e-14, -5.738465258531278e-15], [-1.0758185156592892e-14, -8.224024149942714e-15, -6.3206924130678344e-15], [-7.872750587175453e-15, -9.040719141436066e-15, -1.2227198420422525e-14], [3.81723868009623e-16, -6.498435924302045e-15, 1.2059595587632843e-15], [-5.424083869467892e-15, -1.2912321433227882e-14, -9.997428232488836e-15], [-7.089372695118744e-15, -5.706719149522169e-15, -7.252899515100135e-15], [-2.435404813043811e-15, -6.818269352188501e-15, -1.3705024638551865e-14], [1.932481952238163e-15, 1.1570605584765303e-15, 1.9730744815760204e-14], [3.337607967779377e-15, 9.38528768590352e-15, -5.159067617555024e-15], [2.903493417916181e-16, 2.2707530300536405e-15, 4.7060879498905805e-15], [3.818885312145692e-15, 6.199468022272114e-15, -3.0897593511491905e-15], [-1.0751584017076703e-15, 3.2265805831191777e-15, 1.2649801157257824e-14], [-1.275500328458152e-16, 6.003299215094518e-15, -5.626299038073495e-15], [9.835833827910503e-15, -9.172812012183621e-16, 4.4532877904089824e-15], [1.4881759019536034e-14, 6.032500887709347e-15, 1.4456751767921716e-15], [2.736092602484419e-15, 3.965577866082981e-15, 1.946706684741173e-14], [5.4518022041261105e-15, -2.626371342628886e-15, -1.3156142841808105e-14], [3.1831860057957353e-15, -4.784584187178531e-15, 1.9709599493638338e-15], [4.5146178462296405e-15, 2.456368441983159e-15, 2.525757381022231e-15], [2.4428375988705398e-14, -1.0882137205237008e-15, 1.0644696929462683e-14], [2.5732888042639956e-14, -6.756747938929664e-15, -2.5410446316542767e-15], [2.253233927159787e-14, -2.5895084687643788e-15, -1.923091002492944e-15], [2.0801936562175882e-14, 1.0394679908487525e-14, 5.154947649299579e-15], [-1.1275036614194467e-14, -3.724186816884425e-15, -4.914663036888374e-15], [-1.3001464884760576e-14, 4.345670348636192e-15, 5.992564978312201e-15], [-1.0668368947107558e-14, 1.4995383407212515e-14, 2.048367535204548e-15], [-7.914891852545732e-15, 3.879259279527137e-15, 2.2010558557250624e-14], [-1.5671278429671767e-15, -7.128617271317923e-16, -8.43373016073936e-16], [-3.1147468230931924e-15, -4.137819474808301e-16, 2.0136101961789406e-14], [-6.203668151585371e-15, 1.4241430487015516e-14, -1.8141502016974927e-15], [-4.1115142313566085e-15, 5.4182990864468875e-15, 7.633064932752913e-15], [-9.716749042339547e-15, -1.143456362310679e-16, 2.4455361611371972e-15], [-8.152959969913062e-15, -1.646422188923018e-15, -1.4875080164746934e-14], [-5.2916600833433744e-15, 8.460854138478543e-15, 9.900370815211407e-16], [-6.5033819003719724e-15, 1.7105850470795285e-14, 7.1467354603727e-15], [-1.109529982267713e-14, 6.934739906996014e-16, 3.623863535483441e-15], [-8.97101981884693e-15, 1.8246157816775103e-16, -7.239651586554707e-15], [-8.528522330085268e-15, 1.0196388224985873e-14, -5.27652355876841e-15], [-1.2948301813699504e-14, 2.0635749141154305e-14, 9.437546230617322e-15], [1.874151875358443e-15, 8.555658464226582e-15, -2.206871433676581e-15], [2.018932067991858e-15, 3.623406731041028e-15, -4.127555961960805e-15], [1.7424000568904326e-15, -5.824619742546003e-15, -2.156182045160629e-15], [-5.1785080824856946e-15, 5.048277315952715e-15, -3.4864769999542508e-15], [2.1901384962170128e-14, 4.250818251107635e-15, -3.977964035973713e-15], [2.306826859840575e-14, 2.6118493862646846e-16, 1.7468704028443246e-15], [2.0103242461552315e-14, -6.715283677578079e-15, -7.273661653452862e-15], [1.0162042393015348e-14, 7.306882773224829e-15, -1.6084386138926583e-14]], stress=((10.403587387858366, -2.0048614436353867e-14, 6.238324156855094e-14), (-2.0048614436353867e-14, 10.403587387858723, 5.311699914690536e-13), (6.238324156855094e-14, 5.311699914690536e-13, 10.403587387858405)), magmoms=None), IonicStep(mol_or_struct=None, structure=None, molecule=None, energy=-341.8377579263593, forces=[[-1.3856539774574346e-14, -8.091798283469819e-15, -4.600071188629864e-15], [-1.3305813351829703e-14, -7.679298108596421e-15, 3.685833376790987e-15], [-1.018360882715241e-14, 5.332063932636348e-16, -4.321092628880425e-15], [-1.4070117861675097e-14, -2.5613056597525996e-15, 1.328574311790275e-14], [-3.2081542283846076e-15, 2.616179842207522e-16, 2.4299139089745125e-15], [-5.579007918078867e-15, -4.308915259714223e-15, 2.9389121006056194e-15], [3.1279937831135392e-15, 2.571221450949632e-15, -2.9742723380216975e-15], [9.69276742202041e-16, -2.293738116110333e-15, 3.986828228663697e-15], [8.27463098040937e-15, -1.3364309658925322e-14, -5.532900526628026e-15], [1.0434470128217743e-14, -1.4267775329257493e-14, 1.9441913357010066e-15], [1.0841874229818816e-14, -2.2551405187698492e-15, -5.053157329500327e-15], [1.0039928957650268e-14, -3.342161616903816e-15, -6.0658943146219e-15], [7.064661355915547e-15, -1.0353371805715827e-14, -3.659507592790323e-15], [1.1395398513691646e-14, -1.3025496480023602e-14, 8.701806636368659e-15], [5.1713434691041186e-15, -3.254124400497993e-15, -8.020584042581488e-15], [4.109714074585456e-15, -1.949416893710855e-15, -9.111603717349131e-15], [-8.536577613413657e-15, 2.2696705219470495e-15, -8.362055580236091e-15], [-9.345386217514413e-15, -8.884733230422363e-15, -1.5829351718288365e-16], [-1.5216825771712048e-14, 4.683112181196308e-15, -3.165925824315718e-15], [-5.93417916021361e-15, 3.722538563295771e-16, -2.6187819274214874e-15], [-9.590049007056302e-15, -3.820270211014453e-15, -7.833553819719744e-15], [-1.6524490030481896e-14, -2.197091654568307e-14, -3.584589222671575e-15], [-1.800853413399671e-14, 5.052799520647917e-15, -9.260408086440906e-15], [-1.0626926375396093e-14, 3.962627445668169e-15, -4.886556789632582e-15], [1.0658141036401503e-14, 1.1102230246251565e-15, 9.162809400109495e-15], [8.923417560424696e-15, -6.778431982379374e-16, -1.2351231148954867e-14], [1.0001765041178778e-14, 7.189127765316883e-15, 4.174178364069192e-15], [1.0423086005406645e-14, 6.9948387360074804e-15, 2.1137605554777394e-15], [2.916035858282649e-15, 1.437925672357742e-15, 1.1436407402074726e-14], [-1.7709625100756615e-15, -4.057081564825442e-15, -5.586500348013805e-15], [1.2048944571837594e-14, 1.0074178734872496e-14, 7.311771571573964e-15], [4.6330127234650575e-15, 8.609866292141888e-15, 4.601462440245729e-15], [5.937091096530622e-15, -7.632783294297951e-15, 1.112651637491524e-14], [1.51384980939806e-14, -9.027500968983304e-15, -1.2365108936762681e-14], [1.6005326965329457e-14, -4.565141667467465e-15, 9.110633885376355e-16], [1.6895772975145107e-14, -9.520162436160717e-15, 1.145264438839888e-14], [-4.893654925730573e-15, -1.2624233255986717e-14, 1.4144935223114885e-14], [1.5314572526792247e-14, -1.1761642007557249e-14, -2.5435382966509934e-16], [1.1075041418694058e-14, -2.761679773755077e-15, -3.272952069923644e-15], [9.714885146339114e-15, -6.046812356386155e-15, 1.3902507617347126e-14], [-4.560451646038518e-15, 3.1815302887865105e-15, -8.722842699613719e-15], [-8.368397104153947e-15, 3.2210763512696824e-15, 1.380179074123738e-14], [-8.757586238489127e-15, 7.836613302725226e-15, 2.2406985148590396e-16], [-2.7488131315280473e-15, 1.0648064732460966e-14, 1.682767491431765e-14], [-1.2031483834662893e-14, 1.0708213197951593e-15, -5.3358465414861295e-15], [-1.1149085144278358e-14, 2.987000278603614e-16, 2.902180770957821e-14], [-1.9645129726895865e-14, 7.599217284422395e-15, -1.3417351346598127e-15], [-1.1303771359897122e-14, 1.1888261574710506e-14, 5.614962349107444e-15], [-1.0712765344136985e-14, 2.21662635417467e-15, 2.176473604343027e-15], [-9.884556539956292e-15, 2.919764480980343e-15, -8.675171897100484e-15], [-1.436885363931007e-14, 8.303038559636148e-15, -5.091485209047052e-15], [-1.3377878713575213e-14, 1.2276981795787748e-14, 4.280647017407269e-15], [1.4345307643051468e-16, 1.8159065473470143e-16, -3.1712542897334167e-15], [6.5789899067126116e-15, -1.8974693543518705e-15, -1.2029223103726672e-14], [9.821478313520437e-16, 7.553330333296077e-15, -5.314018107453332e-15], [-5.2173021597332256e-15, 1.3668129827030604e-14, 6.912873051767576e-15], [7.172214211426109e-15, 4.486626144582526e-15, -5.370734027904062e-15], [5.207189000538276e-15, 3.05641886037567e-15, -2.1679419768730397e-15], [8.585660966047054e-15, 4.372566388933878e-15, -2.618497453431293e-15], [9.883271696363243e-15, 1.285702706655326e-14, -2.3380792419979966e-15], [1.1112154263227892e-14, 3.1588209483158803e-15, -6.198740228621942e-15], [7.886523049031768e-15, 2.3913734863579682e-15, 6.7042924534619716e-15], [9.449245085019844e-15, 1.3539668716187256e-15, -6.679163109092959e-15], [4.562920246598569e-15, 1.234923784174646e-14, -1.4481317417457985e-14]], stress=((10.151722274433839, 1.6448935697579448e-14, -7.268663518034221e-14), (1.6448935697579448e-14, 10.151722274434265, 1.0212478286976376e-12), (-7.268663518034221e-14, 1.0212478286976376e-12, 10.151722274432169)), magmoms=None), IonicStep(mol_or_struct=None, structure=None, molecule=None, energy=-341.84074468207734, forces=[[3.3556838626320204e-15, 1.3092698379992863e-15, -5.577169856583325e-16], [3.8738213280057644e-15, 8.408213158389057e-15, 9.906198548904812e-15], [-1.456947279495995e-15, 2.6371256964437e-15, -2.6487524941941863e-16], [-1.5319395532393913e-15, -1.030470425718191e-14, -2.654095154508993e-15], [1.2750651229298526e-14, -7.717351063751821e-16, 2.55351295663786e-15], [1.5944781980208392e-14, 1.1160030080506304e-14, 6.577464521797345e-15], [1.6698750570514915e-14, 4.185536228858925e-15, 2.9807152941349873e-15], [1.4019276191323815e-14, -1.0450841581022274e-14, 5.2839677078253544e-15], [-6.116634976294222e-15, -1.075181610410425e-14, -3.0461744238152733e-15], [-9.732015540664385e-15, -1.3744864621467734e-14, -4.796510411075872e-15], [-9.04435023622586e-15, -1.064036012077274e-14, -2.577882435192853e-15], [-8.045864322014928e-15, -1.188426527326536e-14, 3.281663135679125e-15], [-9.019694713341408e-15, -1.1124673231222015e-14, -6.094950932844512e-15], [-5.256862653513217e-15, -1.1555752015002252e-14, 6.830473686658678e-15], [-7.473351993779886e-15, -1.080645989359752e-14, -5.164294307664739e-15], [-9.399988366219593e-15, -9.850352184384678e-15, -6.9791156869240725e-15], [2.573878169788695e-15, 7.39989370303275e-15, 3.4167096218663774e-15], [9.104993338092712e-15, 2.5895981369359965e-15, 1.6619735102030297e-14], [8.742646329920525e-16, 2.88176956391795e-15, 1.2334198586935003e-14], [2.412650439435916e-15, 4.289255063553857e-15, 3.5152002836325025e-15], [-2.910776630713147e-15, 2.058484837054171e-14, 3.652072972854035e-15], [-6.756298507957694e-15, -6.013909642388058e-15, 1.1410143663237449e-14], [-8.038599320426328e-15, 4.4903257501015135e-15, 4.972133601041549e-16], [-6.9803619501339195e-15, 6.4074534747886245e-15, 1.3652790446035297e-15], [-5.59621793350118e-15, 3.1199001715442876e-15, -3.864963904476326e-15], [-9.936496070395151e-15, 4.762683303294324e-15, -2.6516983053781473e-14], [-1.3552527156068805e-16, -6.5394738235635685e-15, 3.0243819601483146e-15], [-5.496471333632513e-15, -1.6014967130217883e-14, -8.852944419213138e-15], [-3.552949153959838e-15, 1.713465490099566e-15, 1.1613872027711053e-15], [-1.077034283224307e-14, 7.291815475336653e-15, -2.2620497241689552e-14], [2.0899191191113727e-15, -4.1677578543290045e-15, 2.001745318642805e-15], [-9.897790052837419e-15, -2.1583863168972428e-14, -1.1231683985646335e-14], [-5.298712857371157e-15, -1.1428358259735205e-14, -2.9559688030644793e-15], [5.079270337660091e-15, -1.9446250165700008e-14, -2.500777362968165e-14], [7.601088524530135e-15, -1.195007634513523e-14, -1.6437068153392252e-15], [1.2526438220028524e-14, -6.4080685202583254e-15, 5.93275428784068e-16], [-1.6583522749469282e-14, -3.6473645284584855e-15, 3.636414086516382e-15], [2.4450927393893096e-15, -1.5507126832625673e-14, -2.5907227751975626e-14], [4.268224527640719e-16, -1.2074109073667572e-14, -7.709076989594601e-15], [8.239936510889834e-17, -5.962786688018529e-15, -2.8866882842426556e-15], [4.631476840973449e-15, 6.307284728545746e-15, -5.5710547022206226e-15], [1.7648397324164337e-15, 2.6110807038650513e-15, 1.3363376228617448e-14], [-7.354286168366622e-16, 1.3219026567812264e-14, -4.342544581279465e-15], [4.25261827366615e-15, 2.2743521153981714e-14, 7.512653270070084e-15], [-5.652128037250594e-15, 3.017798745877672e-15, -5.475884971140516e-15], [-4.321820441940353e-15, 2.4828155634535167e-15, 1.4771334298817806e-14], [-1.2705918157976935e-14, 1.6229397967738282e-14, -3.3217837490015453e-15], [-2.6574167942116506e-15, 2.2900792725913735e-14, 1.3520426724950236e-14], [3.1131145906038334e-15, 1.7262738988114718e-15, 1.3173631531070065e-14], [3.796568973403471e-15, 2.2334421580330068e-15, 6.906186150165477e-15], [5.745771493194035e-16, 2.4046045221589067e-14, 3.758093503990127e-15], [1.4036493105813914e-15, 2.6965649430563442e-14, 5.031240181418983e-15], [1.491391154318086e-14, 2.9812614468444443e-15, 1.5588112225282975e-14], [1.934748121709026e-14, -1.496000457644884e-15, -6.249666582858193e-15], [1.8150163124975313e-14, 2.5459983767913514e-14, 5.1146587389216654e-15], [1.3271091636803864e-14, 2.6626105231485736e-14, 5.967015076491222e-15], [1.7635632537649215e-15, 6.923601747870315e-16, -7.612462343100861e-16], [-5.287717772864918e-15, 4.807460698292482e-15, 7.057492417736803e-15], [-2.97146313843784e-15, -1.6935062910927608e-14, -1.210056823971996e-17], [1.1679809307490064e-15, -6.967476489833879e-15, -7.120550505432564e-15], [7.995270077743488e-16, 9.916134702256702e-16, -4.613714828112385e-15], [-2.0024175412739784e-15, 4.575146185365722e-15, 9.460326019332175e-15], [-4.393813278437745e-15, -1.5661001585651563e-14, -6.2938444332551885e-15], [-8.3246140203315e-16, -1.0583068150072319e-14, -6.707160936131502e-15]], stress=((9.852620421942953, -1.5624501755771683e-13, -2.789982693971332e-13), (-1.5624501755771683e-13, 9.852620421944977, 4.113369331197415e-14), (-2.789982693971332e-13, 4.113369331197415e-14, 9.852620421936908)), magmoms=None), IonicStep(mol_or_struct=None, structure=None, molecule=None, energy=-341.84408418512675, forces=[[2.066810810936678e-14, -2.137085301746281e-17, -5.1361735875401614e-15], [1.257375877441807e-14, -4.3282591628889065e-15, 3.327330069997393e-15], [7.394372530524309e-15, -8.037911953189631e-15, 1.8107252012350937e-15], [1.2786233177588548e-14, -6.859609078945384e-15, 3.191282390866486e-15], [2.3624656918241893e-14, -1.0848526937889957e-15, -7.265889279128857e-15], [2.5653648957457264e-14, -4.408847571556575e-15, 4.0681040045680624e-15], [2.4413125160490084e-14, -4.163018704989117e-15, 1.830381447809077e-15], [1.715625254708475e-14, -8.510553373142216e-15, 8.190984782802113e-15], [-1.955380302121057e-14, -9.471590178833367e-15, -5.247538514829841e-16], [-1.8517793635292046e-14, -1.0762874966263603e-14, -5.342514625139572e-15], [-2.3119349827656277e-14, -1.547438392701661e-14, -4.921637515262359e-16], [-2.599250025284161e-14, -1.432859907113393e-14, 8.049984290270373e-15], [-2.2896615159417877e-14, -1.4166456636238722e-14, -1.275780696363693e-15], [-2.4298922249310628e-14, -4.435416877529574e-15, 7.710412169847913e-15], [-2.372463205391628e-14, -1.432708118809245e-14, -4.441834292767432e-15], [-2.4899781587587938e-14, -1.0235522205940205e-14, -7.401042279709226e-15], [7.322466844840708e-15, -3.9465103074073395e-15, 1.149016434807222e-14], [1.2256023815280885e-14, -7.624355988329445e-15, 1.0383187365459179e-14], [5.198065226204849e-15, -3.1384391816608424e-16, 1.1649325015234855e-14], [4.275326459058628e-15, -1.6989324642802152e-15, 1.194031852558286e-14], [1.1802425796934597e-14, 9.880200778412973e-15, 1.0486926243366492e-14], [9.759587053618418e-15, -1.0000213071826708e-14, 1.0371315351670463e-14], [4.4196904403143774e-15, -2.5875435546190405e-15, 1.211229678064563e-14], [1.0451684539956583e-14, 1.1009695697564229e-17, 6.561493503818628e-15], [-1.8991752614994084e-14, 6.539907504432563e-15, -1.9349105651045306e-14], [-2.230854390106174e-14, 5.68295410730002e-15, -2.576411306520754e-14], [-1.5510054178491384e-14, -1.6102570665754712e-14, 1.3460749442167907e-14], [-1.1823007850519929e-14, -1.0657707355532509e-14, -1.1469991623158649e-14], [-2.0405678455824323e-14, 4.730228388887328e-15, -2.744048571199742e-15], [-1.826561202162018e-14, 1.0439688698205777e-14, -2.1838340665447827e-14], [-2.228166288696415e-14, -1.3344636895208867e-14, 4.938692514569031e-15], [-2.288891732399323e-14, -1.7223635712104723e-14, -1.7151373637308565e-14], [-1.3781944335766738e-14, -1.1258355359089478e-14, -1.1962653090336062e-14], [-1.373770888712933e-14, -1.3863910020006642e-14, -1.3742479376688266e-14], [-9.181258004341468e-15, -1.2671287630272587e-14, -4.486243729684052e-16], [-3.645087703896266e-15, -1.1268763699945339e-14, -1.545638617095335e-14], [-7.549516567451064e-15, -2.763468707339678e-15, -3.747544809196146e-15], [5.3681017964102296e-15, -6.620572146065484e-15, -3.212816297726295e-14], [-1.997145406295411e-15, -6.551183207026412e-15, -1.5139562811785445e-15], [-2.194425197110661e-16, -1.3386264752918153e-14, 3.385529703803236e-15], [1.012262118440068e-14, 6.1284678148091276e-15, 4.2482458895924235e-15], [2.682948908340737e-15, 2.921996005616004e-15, 1.514318260969539e-14], [3.1483038377439734e-15, 2.985762678764381e-14, -5.287892566745969e-15], [5.799749574572784e-15, 3.599529274498541e-14, -2.0027742942671295e-14], [8.088310837067736e-15, 1.2055333749880786e-15, -2.8079665227030674e-16], [7.235646391263615e-15, 4.290946091012934e-15, -6.747084563550913e-15], [5.119819885807028e-15, 3.420468372921466e-14, -3.3378833066918423e-15], [8.844065819860018e-15, 3.2115029731415775e-14, 7.055411332615056e-15], [1.8060173921142543e-14, 9.53860319045539e-16, 8.227387929534498e-15], [1.6609612699889826e-14, 4.830371574204311e-15, 1.928939575749451e-14], [1.3302711990971572e-14, 3.7660288892260715e-14, 1.2003653527035624e-14], [1.0410717488088876e-14, 4.093914556304236e-14, -4.619297565983116e-15], [2.1252572913191747e-14, 2.3878224355011805e-15, 1.324482129118372e-14], [2.7007309327733767e-14, 1.911231226107218e-15, 1.521786169300654e-15], [2.789887580261245e-14, 3.476359841946041e-14, 8.824893652615391e-15], [2.1054346635795424e-14, 2.2235663942430726e-14, -2.7367431237879103e-15], [-1.1734320112810614e-14, 7.750949048552664e-15, -1.5413289742652823e-15], [-1.42222969041011e-14, -1.2560663366375971e-15, 7.490809577492187e-15], [-1.5098854522783554e-14, -1.6517484547343352e-14, 1.3403571718116984e-15], [-1.0007516606648872e-14, -9.491718709538416e-15, 1.1570709307724734e-15], [3.0329967967625716e-15, 6.869711354299704e-15, -1.8298606452694216e-15], [5.439289752344816e-15, 1.8528115155270813e-15, 2.613517582269135e-16], [-9.36080948385082e-16, -1.5440283455597176e-14, -1.4819931967133574e-15], [7.461243398589937e-15, -1.0516990335776825e-14, 1.226272171168095e-14]], stress=((9.507948775792471, -1.2958346941045055e-13, -2.648849769601815e-13), (-1.2958346941045055e-13, 9.507948775792906, -7.936561566794896e-13), (-2.648849769601815e-13, -7.936561566794896e-13, 9.50794877578234)), magmoms=None), IonicStep(mol_or_struct=None, structure=None, molecule=None, energy=-341.84811423468364, forces=[[1.4080327785063063e-14, -5.677774077311086e-16, 6.007208483904333e-16], [8.165563841747354e-15, 1.1120486770880211e-14, 9.739664248178091e-15], [3.6138863982512065e-15, 1.0761710295961128e-15, 2.340240648431068e-15], [8.299904749489544e-15, -2.3434157514338506e-15, -1.666717614685659e-14], [2.019033811667681e-14, -1.9977509230217905e-15, -2.559584488803779e-15], [1.921470269813973e-14, 1.7628250645513894e-15, 1.278404931489229e-14], [1.2357930120776464e-14, 5.653152947116772e-15, 2.125286979823976e-15], [8.690314093340312e-15, 8.604228440844963e-15, 1.098513641162313e-15], [-1.057834375650657e-14, -2.699229728619912e-15, 9.24173931826644e-16], [-1.4483911032342478e-14, -1.4724170233765266e-14, -9.249545573908335e-15], [-1.7162606539734003e-14, -1.1508155539630138e-14, 1.6405783724393585e-15], [-1.7071522147305007e-14, -1.4748673202863438e-14, 6.173447170132462e-15], [-1.616849015784183e-14, -2.972665516520756e-15, -3.894074732807562e-15], [-2.0381754010229125e-14, -1.1346392575495301e-14, -3.855422925358454e-15], [-7.933308424623144e-15, -1.0576175352161599e-14, -1.2957371906535976e-15], [-6.608462963051537e-15, -1.1573298726021098e-14, -3.717661910333488e-15], [8.556604436902064e-15, -3.0509110320563193e-16, 8.67888105437651e-15], [1.3679192237269429e-14, 1.3785235861212028e-14, 1.804654516102122e-14], [7.897118348455258e-15, 6.374814853782069e-15, 8.134981928944974e-15], [7.265074319646815e-15, 3.792233958607816e-15, 1.7809213305464144e-14], [9.655794857389233e-15, 1.380963723094427e-14, 4.8063859682079095e-15], [1.260622478405421e-14, 1.7894991888798046e-14, 1.6694870312583543e-14], [4.3454746840253765e-15, 3.5621107458416945e-15, 9.34216130322534e-15], [7.302630433452567e-15, 4.500241662503962e-15, 9.11104954604339e-15], [-1.4009626791988694e-14, 2.001003529539247e-15, -1.5105972028806036e-14], [-1.6670692604137116e-14, -8.794614342333418e-15, -1.4016565685892601e-14], [-3.3451973829867754e-15, -2.0403817524439205e-14, 1.3755815063409838e-15], [-9.943272333973185e-15, -1.1778338721013526e-14, -2.3225778938984476e-14], [-4.5424073031631595e-15, 1.6256374908317148e-15, -3.89829549798373e-16], [-5.52026957131857e-15, 9.01035744564735e-16, -9.186341669450114e-15], [-9.441661116675083e-15, -1.592326353169987e-14, 5.789699528653612e-15], [-1.7114239712900936e-14, -1.3728601588880451e-14, -3.143692988219482e-14], [-1.527770965292774e-14, -1.3211653993039363e-14, -6.13398221105399e-15], [-1.7216696818200816e-14, -1.4786782909226304e-14, -1.3551659794330817e-14], [-9.57017645263955e-15, -3.2020826962186888e-15, -2.9429068091090432e-15], [-9.879250195687916e-16, 3.95516952522712e-16, -8.597289546941056e-15], [-1.3542552496081939e-14, -1.7611780089854534e-15, -1.5389707737345493e-15], [-9.591286098675766e-15, -5.085775550695004e-15, -3.40992425268416e-14], [-6.196300456381844e-15, -7.497691703606257e-15, -4.61344337651193e-15], [-6.7198850650651565e-15, -1.22608628978782e-14, 4.5370608312000904e-15], [1.3569433298421291e-14, 5.0342329605798696e-15, 7.292104525329903e-15], [1.4098195945085393e-14, -5.031462951084111e-15, 2.809030524869192e-14], [1.0594928747601686e-14, 1.4211722076939992e-14, -3.0154005708187413e-15], [1.1784789512181578e-14, 2.3189917258063623e-14, -8.74170824093144e-15], [7.440949813502639e-15, 3.4323063826913454e-16, -1.0854331123594717e-15], [7.895060693668141e-15, -3.499020048515814e-15, -3.145990903902088e-15], [2.9894154196202345e-15, 1.2467656251071444e-14, -1.3502951055527785e-15], [1.1412756124605018e-14, 2.022483692158553e-14, 1.7077489494418414e-14], [9.877210540350928e-15, 2.5009003521521064e-15, -2.5123113682592796e-15], [1.3086584720456158e-14, -1.0831028669985559e-15, 1.4637745132816305e-14], [1.2047685656772746e-14, 1.952908850563382e-14, 1.0272640665853611e-14], [5.20851469247863e-15, 2.2666764875317026e-14, -5.3805159112851886e-15], [1.3566850271448639e-14, 2.7635801470599274e-15, 4.232763069629072e-15], [1.513839943868446e-14, -1.097435001286301e-15, -5.946848916082992e-16], [1.9469488938124403e-14, 1.5154488805475342e-14, 1.0212674127462731e-14], [8.835810005453822e-15, 1.0218270631028176e-14, -2.7417304537813436e-15], [-1.171740655891984e-14, 2.747950587958987e-15, -2.0097391573507203e-16], [-2.0165991629875014e-14, 4.635619337173902e-15, 5.911821347087381e-15], [-1.8036844428199075e-14, -1.1719899470049261e-14, 2.520688401357441e-15], [-1.1447092934462576e-14, -9.728253312925827e-15, 2.6375177531360753e-16], [-2.685843824418749e-15, 3.2105921858207498e-15, -3.655491620831732e-15], [-2.493530715602772e-15, 8.08669766281969e-15, -1.4230668749780458e-14], [-6.040349716546139e-15, -1.1843765351013272e-14, -7.590954689780166e-16], [-3.854052097487151e-16, -5.839363080994024e-15, 1.139759656418977e-14]], stress=((9.07595115720353, -1.6005489449313538e-13, -2.6196532196600493e-13), (-1.6005489449313538e-13, 9.075951157208149, -5.676099294592536e-13), (-2.6196532196600493e-13, -5.676099294592536e-13, 9.075951157193952)), magmoms=None), IonicStep(mol_or_struct=None, structure=None, molecule=None, energy=-341.85286952314345, forces=[[5.306206028459924e-15, 4.3006030077654615e-15, 2.7344688403245325e-15], [-1.3484417236780087e-15, 1.5258661152493412e-14, 1.825655003963398e-14], [-8.054740274390088e-15, -1.466480847075579e-15, 1.4487210013913797e-15], [1.8570996198225562e-15, 6.5041148566969114e-15, -1.9809390660242463e-14], [2.548948465491696e-14, 8.223673478302551e-15, -2.271620391791629e-15], [2.0799975257386515e-14, 4.688445100632221e-15, 2.0724867151887582e-14], [1.403026040870469e-14, 1.930676077994617e-15, -1.9729773268969703e-15], [1.0647786905654266e-14, 1.330012489031418e-14, -5.026523901968671e-15], [2.9837243786801082e-15, 2.39044894989604e-15, 2.0751629581372555e-15], [1.1567352978247847e-15, -2.350062418970955e-15, -8.656703825993262e-15], [-2.1717471341711876e-15, -1.7737547541862853e-15, 3.903605957574619e-15], [-6.857578740970816e-17, -7.690191799331059e-15, 1.9936309547663456e-15], [-1.0659008398139491e-14, 1.0351962342891596e-15, -6.245004513516506e-16], [-1.7508618253142538e-14, -1.7425297316187027e-15, -8.981530796869919e-15], [3.9726936930713365e-15, 2.5441888179544847e-15, 1.3913271633701721e-15], [-3.5689402889710516e-15, -1.0060710275736442e-14, -5.487498713622248e-16], [1.1030560247485537e-14, -4.0254309082018644e-16, 3.955804905816679e-15], [1.0288359473289329e-14, 1.6331317273112015e-14, 1.0682644005499675e-14], [1.65402503772929e-14, 3.296228290723636e-15, -3.603570066349241e-15], [4.531236321776804e-15, -2.6586262303152375e-16, 2.951398890907453e-14], [6.751850817945113e-15, 1.5318073631600604e-14, 1.6420930116562609e-15], [1.436570309707553e-14, 1.7517404084587574e-14, 1.8117885663970767e-14], [3.331597845502134e-15, -7.921140396393521e-16, -5.135958738162659e-16], [1.5609205418727846e-15, 2.3573437299156217e-15, 2.1388400469635486e-14], [1.2524703496552547e-15, 1.917303121823366e-15, -2.1191381982532675e-14], [-3.5388358909926865e-16, -8.197435785728402e-15, 1.4929030234256402e-14], [4.0363762679462845e-15, -2.2753066791780796e-14, -2.1575623232461538e-16], [3.716645047280309e-16, -1.1779206082751514e-14, -2.924787148583796e-14], [5.165229358729826e-15, -1.8136389945736485e-15, -3.597231930563174e-15], [3.2066926730341203e-15, 3.0827931404327344e-15, 1.804284489759114e-14], [-1.393060115910871e-14, -1.7525304802203448e-14, 9.001051306414105e-15], [-6.1177733885753316e-15, -1.4834054123946672e-14, -2.7100934343882166e-14], [-8.195701062252425e-15, -7.636252741249905e-15, -1.2285311656867748e-14], [-2.116102432170308e-14, -1.4623718902484484e-14, -7.913808497406194e-15], [-7.236332718350749e-15, 8.68901305073333e-15, -9.296802367664313e-16], [-9.84455572616838e-16, 4.69416172599324e-15, -8.156669784042947e-15], [-1.9324385841512637e-14, -5.1287641668340544e-15, -6.2503171041616845e-15], [-3.0623073521418576e-14, -6.427475739145816e-15, -2.5414999965667207e-14], [-2.3502698244086124e-14, 3.0268756251450313e-15, -2.0639661208797686e-15], [-1.404215285716326e-14, -7.323677254922334e-15, -1.6724360611675149e-15], [1.1693603662552574e-14, -2.4885240361224186e-15, 1.0670308241172337e-14], [1.8617187022421707e-14, -1.0571926952535526e-14, 6.565343480322136e-15], [1.6518963313558073e-14, 1.3014871298733244e-14, -3.964576297074348e-15], [9.19954945419665e-15, 2.28296110416418e-14, -6.4601148832188395e-15], [2.2160635007812193e-15, -4.972480886571746e-15, 6.27362773512197e-16], [1.1482607331875054e-15, -9.1900016988152e-15, -2.746374926013552e-14], [8.026192065051018e-16, 1.2716192976092156e-14, -5.879269412827604e-15], [5.658603604132353e-17, 1.9431015007594218e-14, 3.266139986371269e-15], [-2.063631028076862e-15, 1.4609848737973195e-15, -1.1340423004920408e-14], [2.288067063541865e-15, -5.062829225274846e-15, 2.397178203145502e-14], [2.9028537104641937e-15, 1.078943114322592e-14, 1.3473863160227637e-14], [-1.4863436989555422e-15, 1.2880010369392688e-14, -1.9857162789072014e-15], [1.1139453320876892e-14, -8.536093071754073e-16, -5.571748371188316e-15], [5.384752453058878e-15, -3.879958560694087e-15, 4.898859096158503e-15], [4.222021326028957e-15, 8.998395646366225e-15, 1.3005612699224162e-14], [1.511340185516236e-14, 5.163726382341641e-16, -7.357179102052136e-15], [-7.469285606687137e-15, -1.7883434482554345e-15, 1.278787069162472e-15], [-8.821055389172947e-15, -4.787476015535965e-17, 9.136460370240683e-16], [-9.376428175774034e-15, -2.0502211599925286e-14, 4.9389690362244755e-15], [3.2258254532467005e-16, -2.1816918763594462e-14, 3.0230145559732754e-15], [-1.9643389025851168e-14, 5.226841875518134e-15, 3.6665735341125545e-15], [-9.945747401406987e-15, 1.0409796693738936e-14, -2.0996359740134016e-14], [-1.4975349747468043e-14, -1.3825202072406899e-14, 4.985607022539487e-15], [-7.466436669375151e-15, -1.550453982535799e-14, 1.4032408166621572e-14]], stress=((8.540275711559271, -9.403989881497036e-14, -1.924835527208071e-13), (-9.403989881497036e-14, 8.540275711563224, -2.1172552486091106e-13), (-1.924835527208071e-13, -2.1172552486091106e-13, 8.54027571154743)), magmoms=None), IonicStep(mol_or_struct=None, structure=None, molecule=None, energy=-341.8583349452773, forces=[[-2.4779696985501867e-14, -1.3552154779209369e-14, 2.993551231417679e-15], [-2.5432234756803227e-14, 8.402934872578241e-15, -9.103442554902336e-15], [-2.649928133573328e-14, 3.0809434322341678e-15, -1.3158253436154426e-15], [-1.7335693088828784e-14, 1.3809922257531021e-14, -3.507059481740177e-14], [-1.0562080723919287e-14, -1.0590378400621159e-14, -6.826136877968736e-16], [-1.4766910245734297e-14, -7.844043052222067e-15, -9.225890484790365e-15], [-1.8537669369278486e-14, 5.4450073058232365e-15, -4.315503693736204e-15], [-4.1736904730915736e-15, 1.457688136863311e-14, -2.068869164525977e-14], [2.586125757986224e-14, 1.2607970223399434e-14, 7.273695534770752e-15], [2.5484226274380406e-14, 8.766099825197049e-15, 8.694434061595757e-15], [2.6321773884724177e-14, 1.7011132086297565e-14, 5.371722369582616e-15], [2.3751074891553703e-14, 1.0607183534294684e-14, 1.0302089042957263e-14], [2.025983547593313e-14, 8.370637082782961e-15, -5.239949099622443e-16], [2.4862002647590975e-14, 1.3229922799645744e-14, 5.104423828061755e-16], [3.034269090356836e-14, 2.0395360747493818e-14, 1.049274944313034e-14], [1.5842549762156008e-14, 8.00068580806987e-15, 1.4125165897642443e-14], [-1.2913813491862228e-14, -8.084091765957462e-15, -1.5313381598468408e-16], [-1.7683068761202303e-14, 4.453162857882711e-15, 3.1149128415508542e-15], [-6.8866225478201e-15, -2.542527786344919e-15, -2.3246345957734994e-15], [-1.3895565957274305e-14, 9.210250018653564e-15, 1.7289934674952212e-14], [-2.4784940013566252e-14, 1.9131980825236165e-15, 1.184145072239697e-15], [-1.9671893739920085e-14, 2.990724491523904e-15, 1.1977181399447367e-15], [-2.0437188081462183e-14, -6.6963132847626565e-15, 4.567746473420425e-15], [-2.3251250337159994e-14, 6.2405285289960955e-15, 1.3398943671468248e-14], [2.840436219564424e-14, -4.6802839381854255e-15, -6.643990912991171e-15], [2.7807617319908218e-14, -1.2115742437091015e-14, 3.5502850659341334e-14], [2.8985548770205094e-14, 1.0272598743865657e-14, -7.877921405496924e-15], [3.0873632643479976e-14, -1.1596626436904955e-15, 2.4231918555051024e-17], [3.121469427134018e-14, -8.14798642578417e-15, -6.663073506501626e-16], [2.278221700714408e-14, -8.91018118831619e-15, 2.028003424710983e-14], [1.3833953429277573e-14, 1.809630580557357e-14, 2.0194190846037395e-15], [2.9171326812460485e-14, 7.819699748834452e-15, 1.1221492485224971e-17], [1.953428738210583e-14, 3.41740524767431e-15, -3.191891195797325e-15], [5.276161452183459e-15, 3.715777685542321e-15, 1.2219392164780629e-14], [1.987766961639656e-14, 2.3187181341643992e-14, -5.586541763153927e-15], [1.360673726469308e-14, 1.8533785617336207e-14, -1.0297318553398327e-14], [1.1929693344292502e-14, 5.886187804532428e-15, -2.135498809036074e-15], [-4.197163450125885e-15, 1.0548853457414964e-14, 7.2215454102742e-15], [4.998109670681314e-15, 2.1188996737753207e-14, 9.316714308887194e-16], [1.381100095398935e-14, 1.7874644906573645e-14, -1.1029859751238158e-14], [-1.6754278556526e-14, -5.792399975568577e-15, 1.4740384985474555e-15], [-1.12832750683977e-14, -4.852642437457467e-15, -2.899512871283854e-14], [-1.2385382677946964e-14, -2.515153883775323e-14, 8.834355342855985e-16], [-2.4428077091954135e-14, -2.8424841758242954e-14, -2.128250536348182e-14], [-2.16700030315764e-14, -2.684063771243844e-15, 2.8769187237670203e-15], [-2.2537578221867513e-14, -1.4606543191896535e-15, -3.1747446972581444e-14], [-2.6131035018226102e-14, -3.1895352795336556e-14, -9.63111222226764e-16], [-3.49882042402597e-14, -1.721324007674307e-14, -3.1963115219358663e-14], [-2.617629539096748e-14, -6.900548722385026e-16, -1.8009217583706027e-14], [-2.3822120332032773e-14, -3.2661556524175575e-15, 7.736315813803489e-15], [-2.933503519111043e-14, -1.8000081803974297e-14, 4.991070808704431e-15], [-2.0114288167196463e-14, -2.0948435602566896e-14, 2.4245471082207093e-15], [-1.629192350468487e-14, -4.8134638448091564e-15, -1.0559871764628552e-14], [-2.857723516491987e-14, -5.546942904796286e-15, 2.2287944059784515e-15], [-2.8545445273888337e-14, -2.2576653122273775e-14, 5.165075516370781e-15], [7.331976322681246e-16, -3.108785735398172e-14, -7.049699365935247e-15], [1.6373838049310585e-14, -2.2629692378676316e-15, 2.051550350698543e-15], [1.6536723480190508e-14, -2.2413055791920736e-15, 1.1871108683024166e-14], [1.7015804661895993e-14, 9.561140754408925e-15, 3.846502969714094e-15], [2.7200674802761965e-14, -1.279930807029016e-14, 1.5961989813506167e-14], [1.366532590343415e-14, -2.6467271290855533e-15, 7.379674620334601e-15], [1.4843699916079613e-14, -2.399165977714471e-15, 5.292961028767841e-15], [1.1749574100111783e-14, 1.2136949333411676e-14, 1.0646629752769198e-14], [1.5882471869761943e-14, -1.9299453832912703e-16, 1.7830364141673558e-14]], stress=((7.88302641797116, 1.8961539260204218e-13, 2.0660600265053523e-13), (1.8961539260204218e-13, 7.883026417976885, 1.622778972217232e-12), (2.0660600265053523e-13, 1.622778972217232e-12, 7.883026417960265)), magmoms=None), IonicStep(mol_or_struct=None, structure=None, molecule=None, energy=-341.8583349452773, forces=[[-2.4779696985501867e-14, -1.3552154779209369e-14, 2.993551231417679e-15], [-2.5432234756803227e-14, 8.402934872578241e-15, -9.103442554902336e-15], [-2.649928133573328e-14, 3.0809434322341678e-15, -1.3158253436154426e-15], [-1.7335693088828784e-14, 1.3809922257531021e-14, -3.507059481740177e-14], [-1.0562080723919287e-14, -1.0590378400621159e-14, -6.826136877968736e-16], [-1.4766910245734297e-14, -7.844043052222067e-15, -9.225890484790365e-15], [-1.8537669369278486e-14, 5.4450073058232365e-15, -4.315503693736204e-15], [-4.1736904730915736e-15, 1.457688136863311e-14, -2.068869164525977e-14], [2.586125757986224e-14, 1.2607970223399434e-14, 7.273695534770752e-15], [2.5484226274380406e-14, 8.766099825197049e-15, 8.694434061595757e-15], [2.6321773884724177e-14, 1.7011132086297565e-14, 5.371722369582616e-15], [2.3751074891553703e-14, 1.0607183534294684e-14, 1.0302089042957263e-14], [2.025983547593313e-14, 8.370637082782961e-15, -5.239949099622443e-16], [2.4862002647590975e-14, 1.3229922799645744e-14, 5.104423828061755e-16], [3.034269090356836e-14, 2.0395360747493818e-14, 1.049274944313034e-14], [1.5842549762156008e-14, 8.00068580806987e-15, 1.4125165897642443e-14], [-1.2913813491862228e-14, -8.084091765957462e-15, -1.5313381598468408e-16], [-1.7683068761202303e-14, 4.453162857882711e-15, 3.1149128415508542e-15], [-6.8866225478201e-15, -2.542527786344919e-15, -2.3246345957734994e-15], [-1.3895565957274305e-14, 9.210250018653564e-15, 1.7289934674952212e-14], [-2.4784940013566252e-14, 1.9131980825236165e-15, 1.184145072239697e-15], [-1.9671893739920085e-14, 2.990724491523904e-15, 1.1977181399447367e-15], [-2.0437188081462183e-14, -6.6963132847626565e-15, 4.567746473420425e-15], [-2.3251250337159994e-14, 6.2405285289960955e-15, 1.3398943671468248e-14], [2.840436219564424e-14, -4.6802839381854255e-15, -6.643990912991171e-15], [2.7807617319908218e-14, -1.2115742437091015e-14, 3.5502850659341334e-14], [2.8985548770205094e-14, 1.0272598743865657e-14, -7.877921405496924e-15], [3.0873632643479976e-14, -1.1596626436904955e-15, 2.4231918555051024e-17], [3.121469427134018e-14, -8.14798642578417e-15, -6.663073506501626e-16], [2.278221700714408e-14, -8.91018118831619e-15, 2.028003424710983e-14], [1.3833953429277573e-14, 1.809630580557357e-14, 2.0194190846037395e-15], [2.9171326812460485e-14, 7.819699748834452e-15, 1.1221492485224971e-17], [1.953428738210583e-14, 3.41740524767431e-15, -3.191891195797325e-15], [5.276161452183459e-15, 3.715777685542321e-15, 1.2219392164780629e-14], [1.987766961639656e-14, 2.3187181341643992e-14, -5.586541763153927e-15], [1.360673726469308e-14, 1.8533785617336207e-14, -1.0297318553398327e-14], [1.1929693344292502e-14, 5.886187804532428e-15, -2.135498809036074e-15], [-4.197163450125885e-15, 1.0548853457414964e-14, 7.2215454102742e-15], [4.998109670681314e-15, 2.1188996737753207e-14, 9.316714308887194e-16], [1.381100095398935e-14, 1.7874644906573645e-14, -1.1029859751238158e-14], [-1.6754278556526e-14, -5.792399975568577e-15, 1.4740384985474555e-15], [-1.12832750683977e-14, -4.852642437457467e-15, -2.899512871283854e-14], [-1.2385382677946964e-14, -2.515153883775323e-14, 8.834355342855985e-16], [-2.4428077091954135e-14, -2.8424841758242954e-14, -2.128250536348182e-14], [-2.16700030315764e-14, -2.684063771243844e-15, 2.8769187237670203e-15], [-2.2537578221867513e-14, -1.4606543191896535e-15, -3.1747446972581444e-14], [-2.6131035018226102e-14, -3.1895352795336556e-14, -9.63111222226764e-16], [-3.49882042402597e-14, -1.721324007674307e-14, -3.1963115219358663e-14], [-2.617629539096748e-14, -6.900548722385026e-16, -1.8009217583706027e-14], [-2.3822120332032773e-14, -3.2661556524175575e-15, 7.736315813803489e-15], [-2.933503519111043e-14, -1.8000081803974297e-14, 4.991070808704431e-15], [-2.0114288167196463e-14, -2.0948435602566896e-14, 2.4245471082207093e-15], [-1.629192350468487e-14, -4.8134638448091564e-15, -1.0559871764628552e-14], [-2.857723516491987e-14, -5.546942904796286e-15, 2.2287944059784515e-15], [-2.8545445273888337e-14, -2.2576653122273775e-14, 5.165075516370781e-15], [7.331976322681246e-16, -3.108785735398172e-14, -7.049699365935247e-15], [1.6373838049310585e-14, -2.2629692378676316e-15, 2.051550350698543e-15], [1.6536723480190508e-14, -2.2413055791920736e-15, 1.1871108683024166e-14], [1.7015804661895993e-14, 9.561140754408925e-15, 3.846502969714094e-15], [2.7200674802761965e-14, -1.279930807029016e-14, 1.5961989813506167e-14], [1.366532590343415e-14, -2.6467271290855533e-15, 7.379674620334601e-15], [1.4843699916079613e-14, -2.399165977714471e-15, 5.292961028767841e-15], [1.1749574100111783e-14, 1.2136949333411676e-14, 1.0646629752769198e-14], [1.5882471869761943e-14, -1.9299453832912703e-16, 1.7830364141673558e-14]], stress=((7.88302641797116, 1.8961539260204218e-13, 2.0660600265053523e-13), (1.8961539260204218e-13, 7.883026417976885, 1.622778972217232e-12), (2.0660600265053523e-13, 1.622778972217232e-12, 7.883026417960265)), magmoms=None)], elapsed_time=6.428618000005372, n_steps=12), ase_calculator_name='macecalculator', dir_name='/Users/zeyudeng/Desktop/workspace/teaching/MLE4217_5219_book/high_throughput', included_objects=[], objects={}, is_force_converged=True, energy_downhill=True, tags=None), detour=None, addition=None, replace=None, stored_data=None, stop_children=False, stop_jobflow=False, job_dir=PosixPath('/Users/zeyudeng/Desktop/workspace/teaching/MLE4217_5219_book/high_throughput'))}} s\n"
     ]
    }
   ],
   "source": [
    "from atomate2.ase.jobs import AseRelaxMaker\n",
    "from jobflow import run_locally\n",
    "from ase.calculators.calculator import Calculator\n",
    "\n",
    "class MACERelaxerMaker(AseRelaxMaker):\n",
    "    @property\n",
    "    def calculator(self) -> Calculator:\n",
    "        \"\"\"MACE calculator.\"\"\"\n",
    "        from mace.calculators.foundations_models import mace_mp\n",
    "        return mace_mp(model='medium',\n",
    "                     default_dtype='float64',\n",
    "                     device='cpu')\n",
    "\n",
    "workflow = MACERelaxerMaker(name='silicon_relax',\n",
    "                            relax_cell=True,\n",
    "                            ionic_step_data=['energy', 'forces', 'stress']).make(silicon_structure)\n",
    "\n",
    "results = run_locally(workflow)\n",
    "print(f'Elapsed time: {results} s')\n",
    "\n",
    "\n"
   ]
  },
  {
   "cell_type": "code",
   "execution_count": 88,
   "metadata": {},
   "outputs": [
    {
     "name": "stdout",
     "output_type": "stream",
     "text": [
      "2025-03-26 05:45:07,892 INFO Started executing jobs locally\n"
     ]
    },
    {
     "name": "stderr",
     "output_type": "stream",
     "text": [
      "INFO:jobflow.managers.local:Started executing jobs locally\n"
     ]
    },
    {
     "name": "stdout",
     "output_type": "stream",
     "text": [
      "2025-03-26 05:45:07,901 INFO Starting job - EOS equilibrium relaxation (dcf31e4b-ce83-4a92-97ba-e606f27c05f1)\n"
     ]
    },
    {
     "name": "stderr",
     "output_type": "stream",
     "text": [
      "INFO:jobflow.core.job:Starting job - EOS equilibrium relaxation (dcf31e4b-ce83-4a92-97ba-e606f27c05f1)\n"
     ]
    },
    {
     "name": "stdout",
     "output_type": "stream",
     "text": [
      "2025-03-26 05:45:07,907 INFO EOS equilibrium relaxation failed with exception:\n",
      "Traceback (most recent call last):\n",
      "  File \"/Users/zeyudeng/apps/matsci/lib/python3.12/site-packages/jobflow/managers/local.py\", line 117, in _run_job\n",
      "    response = job.run(store=store)\n",
      "               ^^^^^^^^^^^^^^^^^^^^\n",
      "  File \"/Users/zeyudeng/apps/matsci/lib/python3.12/site-packages/jobflow/core/job.py\", line 604, in run\n",
      "    response = function(*self.function_args, **self.function_kwargs)\n",
      "               ^^^^^^^^^^^^^^^^^^^^^^^^^^^^^^^^^^^^^^^^^^^^^^^^^^^^^\n",
      "TypeError: AseRelaxMaker.make() got an unexpected keyword argument 'structure'\n",
      "\n"
     ]
    },
    {
     "name": "stderr",
     "output_type": "stream",
     "text": [
      "INFO:jobflow.managers.local:EOS equilibrium relaxation failed with exception:\n",
      "Traceback (most recent call last):\n",
      "  File \"/Users/zeyudeng/apps/matsci/lib/python3.12/site-packages/jobflow/managers/local.py\", line 117, in _run_job\n",
      "    response = job.run(store=store)\n",
      "               ^^^^^^^^^^^^^^^^^^^^\n",
      "  File \"/Users/zeyudeng/apps/matsci/lib/python3.12/site-packages/jobflow/core/job.py\", line 604, in run\n",
      "    response = function(*self.function_args, **self.function_kwargs)\n",
      "               ^^^^^^^^^^^^^^^^^^^^^^^^^^^^^^^^^^^^^^^^^^^^^^^^^^^^^\n",
      "TypeError: AseRelaxMaker.make() got an unexpected keyword argument 'structure'\n",
      "\n"
     ]
    },
    {
     "name": "stdout",
     "output_type": "stream",
     "text": [
      "2025-03-26 05:45:07,909 INFO Finished executing jobs locally\n"
     ]
    },
    {
     "name": "stderr",
     "output_type": "stream",
     "text": [
      "INFO:jobflow.managers.local:Finished executing jobs locally\n"
     ]
    },
    {
     "data": {
      "text/plain": [
       "{}"
      ]
     },
     "execution_count": 88,
     "metadata": {},
     "output_type": "execute_result"
    }
   ],
   "source": [
    "from atomate2.forcefields.flows.eos import ForceFieldEosMaker\n",
    "from atomate2.common.flows.eos import CommonEosMaker    \n",
    "\n",
    "mace_relax_maker = MACERelaxerMaker(name='silicon_relax',\n",
    "                                    relax_cell=True,\n",
    "                                    ionic_step_data=['energy', 'forces', 'stress'])\n",
    "\n",
    "maker = CommonEosMaker(name='silicon_eos',\n",
    "                          number_of_frames=5,\n",
    "                          eos_relax_maker=mace_relax_maker,\n",
    "                          initial_relax_maker=mace_relax_maker,\n",
    "                          linear_strain=[-0.05, 0.05])\n",
    "\n",
    "workflow = maker.make(silicon_structure)\n",
    "\n",
    "run_locally(workflow)"
   ]
  },
  {
   "cell_type": "markdown",
   "metadata": {},
   "source": []
  },
  {
   "cell_type": "code",
   "execution_count": null,
   "metadata": {},
   "outputs": [
    {
     "name": "stdout",
     "output_type": "stream",
     "text": [
      "2025-03-26 05:50:43,458 INFO Started executing jobs locally\n"
     ]
    },
    {
     "name": "stderr",
     "output_type": "stream",
     "text": [
      "INFO:jobflow.managers.local:Started executing jobs locally\n"
     ]
    },
    {
     "name": "stdout",
     "output_type": "stream",
     "text": [
      "2025-03-26 05:50:43,465 INFO Starting job - silicon_md (f3520e45-c48c-4d4b-82c3-c264be55c3d7)\n"
     ]
    },
    {
     "name": "stderr",
     "output_type": "stream",
     "text": [
      "INFO:jobflow.core.job:Starting job - silicon_md (f3520e45-c48c-4d4b-82c3-c264be55c3d7)\n"
     ]
    },
    {
     "name": "stdout",
     "output_type": "stream",
     "text": [
      "Using Materials Project MACE for MACECalculator with /Users/zeyudeng/.cache/mace/20231203mace128L1_epoch199model\n",
      "Using float64 for MACECalculator, which is slower but more accurate. Recommended for geometry optimization.\n",
      "Using Materials Project MACE for MACECalculator with /Users/zeyudeng/.cache/mace/20231203mace128L1_epoch199model\n",
      "Using float64 for MACECalculator, which is slower but more accurate. Recommended for geometry optimization.\n",
      "Using Materials Project MACE for MACECalculator with /Users/zeyudeng/.cache/mace/20231203mace128L1_epoch199model\n",
      "Using float64 for MACECalculator, which is slower but more accurate. Recommended for geometry optimization.\n"
     ]
    },
    {
     "name": "stderr",
     "output_type": "stream",
     "text": [
      "/Users/zeyudeng/apps/matsci/lib/python3.12/site-packages/mace/calculators/mace.py:139: FutureWarning: You are using `torch.load` with `weights_only=False` (the current default value), which uses the default pickle module implicitly. It is possible to construct malicious pickle data which will execute arbitrary code during unpickling (See https://github.com/pytorch/pytorch/blob/main/SECURITY.md#untrusted-models for more details). In a future release, the default value for `weights_only` will be flipped to `True`. This limits the functions that could be executed during unpickling. Arbitrary objects will no longer be allowed to be loaded via this mode unless they are explicitly allowlisted by the user via `torch.serialization.add_safe_globals`. We recommend you start setting `weights_only=True` for any use case where you don't have full control of the loaded file. Please open an issue on GitHub for any issues related to this experimental feature.\n",
      "  torch.load(f=model_path, map_location=device)\n",
      "/Users/zeyudeng/apps/matsci/lib/python3.12/site-packages/mace/calculators/mace.py:139: FutureWarning: You are using `torch.load` with `weights_only=False` (the current default value), which uses the default pickle module implicitly. It is possible to construct malicious pickle data which will execute arbitrary code during unpickling (See https://github.com/pytorch/pytorch/blob/main/SECURITY.md#untrusted-models for more details). In a future release, the default value for `weights_only` will be flipped to `True`. This limits the functions that could be executed during unpickling. Arbitrary objects will no longer be allowed to be loaded via this mode unless they are explicitly allowlisted by the user via `torch.serialization.add_safe_globals`. We recommend you start setting `weights_only=True` for any use case where you don't have full control of the loaded file. Please open an issue on GitHub for any issues related to this experimental feature.\n",
      "  torch.load(f=model_path, map_location=device)\n",
      "/Users/zeyudeng/apps/matsci/lib/python3.12/site-packages/mace/calculators/mace.py:139: FutureWarning: You are using `torch.load` with `weights_only=False` (the current default value), which uses the default pickle module implicitly. It is possible to construct malicious pickle data which will execute arbitrary code during unpickling (See https://github.com/pytorch/pytorch/blob/main/SECURITY.md#untrusted-models for more details). In a future release, the default value for `weights_only` will be flipped to `True`. This limits the functions that could be executed during unpickling. Arbitrary objects will no longer be allowed to be loaded via this mode unless they are explicitly allowlisted by the user via `torch.serialization.add_safe_globals`. We recommend you start setting `weights_only=True` for any use case where you don't have full control of the loaded file. Please open an issue on GitHub for any issues related to this experimental feature.\n",
      "  torch.load(f=model_path, map_location=device)\n"
     ]
    }
   ],
   "source": [
    "from atomate2.ase.md import AseMDMaker\n",
    "\n",
    "class MACEMDMaker(AseMDMaker):\n",
    "    @property\n",
    "    def calculator(self) -> Calculator:\n",
    "        \"\"\"MACE calculator.\"\"\"\n",
    "        from mace.calculators.foundations_models import mace_mp\n",
    "        return mace_mp(model='medium',\n",
    "                     default_dtype='float64',\n",
    "                     device='cpu')\n",
    "\n",
    "workflow = MACEMDMaker(name='silicon_md',\n",
    "                        n_steps=100,\n",
    "                        temperature=800,\n",
    "                        ensemble='nvt',\n",
    "                        store_trajectory='si_md.traj',\n",
    "                        ).make(silicon_structure)\n",
    "\n",
    "run_locally(workflow, log=str)\n"
   ]
  }
 ],
 "metadata": {
  "kernelspec": {
   "display_name": "matsci",
   "language": "python",
   "name": "python3"
  },
  "language_info": {
   "codemirror_mode": {
    "name": "ipython",
    "version": 3
   },
   "file_extension": ".py",
   "mimetype": "text/x-python",
   "name": "python",
   "nbconvert_exporter": "python",
   "pygments_lexer": "ipython3",
   "version": "3.12.9"
  }
 },
 "nbformat": 4,
 "nbformat_minor": 2
}
