{
 "cells": [
  {
   "cell_type": "markdown",
   "metadata": {},
   "source": [
    "# Practical: Atomate 2\n",
    "\n",
    "This is a practical session on using atomate 2 to run some calculations using the MACE potential that we used last time.\n"
   ]
  },
  {
   "cell_type": "code",
   "execution_count": null,
   "metadata": {},
   "outputs": [],
   "source": [
    "!pip install atomate2"
   ]
  },
  {
   "cell_type": "code",
   "execution_count": null,
   "metadata": {},
   "outputs": [
    {
     "name": "stdout",
     "output_type": "stream",
     "text": [
      "Using Materials Project MACE for MACECalculator with /Users/zeyudeng/.cache/mace/20231203mace128L1_epoch199model\n",
      "Using float64 for MACECalculator, which is slower but more accurate. Recommended for geometry optimization.\n"
     ]
    },
    {
     "name": "stderr",
     "output_type": "stream",
     "text": [
      "/Users/zeyudeng/apps/matsci/lib/python3.12/site-packages/mace/calculators/mace.py:139: FutureWarning: You are using `torch.load` with `weights_only=False` (the current default value), which uses the default pickle module implicitly. It is possible to construct malicious pickle data which will execute arbitrary code during unpickling (See https://github.com/pytorch/pytorch/blob/main/SECURITY.md#untrusted-models for more details). In a future release, the default value for `weights_only` will be flipped to `True`. This limits the functions that could be executed during unpickling. Arbitrary objects will no longer be allowed to be loaded via this mode unless they are explicitly allowlisted by the user via `torch.serialization.add_safe_globals`. We recommend you start setting `weights_only=True` for any use case where you don't have full control of the loaded file. Please open an issue on GitHub for any issues related to this experimental feature.\n",
      "  torch.load(f=model_path, map_location=device)\n"
     ]
    },
    {
     "name": "stdout",
     "output_type": "stream",
     "text": [
      "       Step     Time          Energy          fmax\n",
      "LBFGS:    0 04:24:08     -341.829770        0.136334\n",
      "LBFGS:    1 04:24:08     -341.830564        0.135427\n",
      "LBFGS:    2 04:24:09     -341.884174        0.043765\n",
      "LBFGS:    3 04:24:09     -341.890577        0.001050\n"
     ]
    }
   ],
   "source": [
    "from atomate2.ase.jobs import AseRelaxer\n",
    "from pymatgen.core import Structure, Lattice\n",
    "from mace.calculators.foundations_models import mace_mp\n",
    "\n",
    "# Define the structure for silicon\n",
    "lattice_si = Lattice.from_parameters(a=5.43, b=5.43, c=5.43, alpha=90, beta=90, gamma=90) \n",
    "\n",
    "silicon_structure = Structure.from_spacegroup(sg=227, species=[\"Si\"], \n",
    "                                              lattice=lattice_si, \n",
    "                                              coords=[[0, 0, 0]])\n",
    "\n",
    "# Create a 2x2x2 supercell\n",
    "silicon_structure.make_supercell([2, 2, 2])\n",
    "# Apply some rattling to the structure\n",
    "silicon_structure.perturb(distance=0.1)\n",
    "\n",
    "relaxer = AseRelaxer(calculator = mace_mp(model='medium',\n",
    "                                        default_dtype='float64',\n",
    "                                        device='cpu'),\n",
    "                    relax_cell = True,\n",
    "                    optimizer='LBFGS')\n",
    "\n",
    "results = relaxer.relax(atoms = silicon_structure,\n",
    "                        fmax = 0.01,\n",
    "                        traj_file='silicon_relax.traj',\n",
    "                        verbose=True)"
   ]
  },
  {
   "cell_type": "code",
   "execution_count": null,
   "metadata": {},
   "outputs": [
    {
     "name": "stdout",
     "output_type": "stream",
     "text": [
      "Elapsed time: 2.12 s\n",
      "Step0: Lattice constant: (10.86, 10.86, 10.86) Angstrom\n",
      "Step1: Lattice constant: (10.860330493256305, 10.860330493256305, 10.860330493256305) Angstrom\n",
      "Step2: Lattice constant: (10.894322110283861, 10.89432211028484, 10.89432211028689) Angstrom\n",
      "Step3: Lattice constant: (10.910589533719515, 10.910589533720819, 10.910589533723915) Angstrom\n",
      "Step4: Lattice constant: (10.910589533719515, 10.910589533720819, 10.910589533723915) Angstrom\n"
     ]
    }
   ],
   "source": [
    "print(f'Elapsed time: {results.elapsed_time:.2f} s')\n",
    "\n",
    "for i,image in enumerate(results.trajectory):\n",
    "    print(f'Step{i}: Lattice constant: {image.lattice.abc} Angstrom')\n"
   ]
  },
  {
   "cell_type": "code",
   "execution_count": null,
   "metadata": {},
   "outputs": [
    {
     "name": "stdout",
     "output_type": "stream",
     "text": [
      "Using Materials Project MACE for MACECalculator with /Users/zeyudeng/.cache/mace/20231203mace128L1_epoch199model\n",
      "Using float64 for MACECalculator, which is slower but more accurate. Recommended for geometry optimization.\n"
     ]
    },
    {
     "name": "stderr",
     "output_type": "stream",
     "text": [
      "/Users/zeyudeng/apps/matsci/lib/python3.12/site-packages/mace/calculators/mace.py:139: FutureWarning: You are using `torch.load` with `weights_only=False` (the current default value), which uses the default pickle module implicitly. It is possible to construct malicious pickle data which will execute arbitrary code during unpickling (See https://github.com/pytorch/pytorch/blob/main/SECURITY.md#untrusted-models for more details). In a future release, the default value for `weights_only` will be flipped to `True`. This limits the functions that could be executed during unpickling. Arbitrary objects will no longer be allowed to be loaded via this mode unless they are explicitly allowlisted by the user via `torch.serialization.add_safe_globals`. We recommend you start setting `weights_only=True` for any use case where you don't have full control of the loaded file. Please open an issue on GitHub for any issues related to this experimental feature.\n",
      "  torch.load(f=model_path, map_location=device)\n"
     ]
    },
    {
     "ename": "TypeError",
     "evalue": "Can't instantiate abstract class AseRelaxMaker without an implementation for abstract method 'calculator'",
     "output_type": "error",
     "traceback": [
      "\u001b[0;31m---------------------------------------------------------------------------\u001b[0m",
      "\u001b[0;31mTypeError\u001b[0m                                 Traceback (most recent call last)",
      "Cell \u001b[0;32mIn[28], line 12\u001b[0m\n\u001b[1;32m      7\u001b[0m atoms \u001b[38;5;241m=\u001b[39m silicon_structure\u001b[38;5;241m.\u001b[39mto_ase_atoms()\n\u001b[1;32m      8\u001b[0m atoms\u001b[38;5;241m.\u001b[39mcalc \u001b[38;5;241m=\u001b[39m mace_mp(model\u001b[38;5;241m=\u001b[39m\u001b[38;5;124m'\u001b[39m\u001b[38;5;124mmedium\u001b[39m\u001b[38;5;124m'\u001b[39m,\n\u001b[1;32m      9\u001b[0m                      default_dtype\u001b[38;5;241m=\u001b[39m\u001b[38;5;124m'\u001b[39m\u001b[38;5;124mfloat64\u001b[39m\u001b[38;5;124m'\u001b[39m,\n\u001b[1;32m     10\u001b[0m                      device\u001b[38;5;241m=\u001b[39m\u001b[38;5;124m'\u001b[39m\u001b[38;5;124mcpu\u001b[39m\u001b[38;5;124m'\u001b[39m)\n\u001b[0;32m---> 12\u001b[0m workflow \u001b[38;5;241m=\u001b[39m \u001b[43mAseRelaxMaker\u001b[49m\u001b[43m(\u001b[49m\u001b[43mname\u001b[49m\u001b[38;5;241;43m=\u001b[39;49m\u001b[38;5;124;43m'\u001b[39;49m\u001b[38;5;124;43msilicon_relax\u001b[39;49m\u001b[38;5;124;43m'\u001b[39;49m\u001b[43m,\u001b[49m\n\u001b[1;32m     13\u001b[0m \u001b[43m                         \u001b[49m\u001b[43mrelax_cell\u001b[49m\u001b[38;5;241;43m=\u001b[39;49m\u001b[38;5;28;43;01mTrue\u001b[39;49;00m\u001b[43m,\u001b[49m\n\u001b[1;32m     14\u001b[0m \u001b[43m                         \u001b[49m\u001b[43moptimizer\u001b[49m\u001b[38;5;241;43m=\u001b[39;49m\u001b[38;5;124;43m'\u001b[39;49m\u001b[38;5;124;43mLBFGS\u001b[39;49m\u001b[38;5;124;43m'\u001b[39;49m\u001b[43m,\u001b[49m\n\u001b[1;32m     15\u001b[0m \u001b[43m                         \u001b[49m\u001b[43mfmax\u001b[49m\u001b[38;5;241;43m=\u001b[39;49m\u001b[38;5;241;43m0.01\u001b[39;49m\u001b[43m,\u001b[49m\n\u001b[1;32m     16\u001b[0m \u001b[43m                         \u001b[49m\u001b[43mionic_step_data\u001b[49m\u001b[43m \u001b[49m\u001b[38;5;241;43m=\u001b[39;49m\u001b[43m \u001b[49m\u001b[43m[\u001b[49m\u001b[38;5;124;43m'\u001b[39;49m\u001b[38;5;124;43menergy\u001b[39;49m\u001b[38;5;124;43m'\u001b[39;49m\u001b[43m,\u001b[49m\u001b[43m \u001b[49m\u001b[38;5;124;43m'\u001b[39;49m\u001b[38;5;124;43mforces\u001b[39;49m\u001b[38;5;124;43m'\u001b[39;49m\u001b[43m,\u001b[49m\u001b[43m \u001b[49m\u001b[38;5;124;43m'\u001b[39;49m\u001b[38;5;124;43mstress\u001b[39;49m\u001b[38;5;124;43m'\u001b[39;49m\u001b[43m]\u001b[49m\u001b[43m,\u001b[49m\n\u001b[1;32m     17\u001b[0m \u001b[43m                         \u001b[49m\u001b[43mtraj_file\u001b[49m\u001b[38;5;241;43m=\u001b[39;49m\u001b[38;5;124;43m'\u001b[39;49m\u001b[38;5;124;43msilicon_relax.traj\u001b[39;49m\u001b[38;5;124;43m'\u001b[39;49m\u001b[43m,\u001b[49m\n\u001b[1;32m     18\u001b[0m \u001b[43m                         \u001b[49m\u001b[43mtrajectory_interval\u001b[49m\u001b[38;5;241;43m=\u001b[39;49m\u001b[38;5;241;43m1\u001b[39;49m\u001b[43m,\u001b[49m\n\u001b[1;32m     19\u001b[0m \u001b[43m                         \u001b[49m\u001b[43mtrajectory_verbose\u001b[49m\u001b[38;5;241;43m=\u001b[39;49m\u001b[38;5;28;43;01mTrue\u001b[39;49;00m\u001b[43m)\u001b[49m\n\u001b[1;32m     21\u001b[0m run_locally(workflow, atoms)\n\u001b[1;32m     22\u001b[0m \u001b[38;5;66;03m# print(f'Elapsed time: {workflow.results.elapsed_time:.2f} s')\u001b[39;00m\n",
      "\u001b[0;31mTypeError\u001b[0m: Can't instantiate abstract class AseRelaxMaker without an implementation for abstract method 'calculator'"
     ]
    }
   ],
   "source": [
    "from atomate2.ase.jobs import AseRelaxMaker\n",
    "from jobflow import run_locally\n",
    "\n",
    "atoms = silicon_structure.to_ase_atoms()\n",
    "atoms.calc = mace_mp(model='medium',\n",
    "                     default_dtype='float64',\n",
    "                     device='cpu')\n",
    "\n",
    "workflow = AseRelaxMaker(name='silicon_relax',\n",
    "                         relax_cell=True,\n",
    "                         optimizer='LBFGS',\n",
    "                         fmax=0.01,\n",
    "                         ionic_step_data = ['energy', 'forces', 'stress'],\n",
    "                         traj_file='silicon_relax.traj',\n",
    "                         trajectory_interval=1,\n",
    "                         trajectory_verbose=True).make(atoms)\n",
    "\n",
    "run_locally(workflow, atoms)\n",
    "# print(f'Elapsed time: {workflow.results.elapsed_time:.2f} s')\n"
   ]
  }
 ],
 "metadata": {
  "kernelspec": {
   "display_name": "matsci",
   "language": "python",
   "name": "python3"
  },
  "language_info": {
   "codemirror_mode": {
    "name": "ipython",
    "version": 3
   },
   "file_extension": ".py",
   "mimetype": "text/x-python",
   "name": "python",
   "nbconvert_exporter": "python",
   "pygments_lexer": "ipython3",
   "version": "3.12.9"
  }
 },
 "nbformat": 4,
 "nbformat_minor": 2
}
