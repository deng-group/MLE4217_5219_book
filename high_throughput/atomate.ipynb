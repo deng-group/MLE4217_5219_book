{
 "cells": [
  {
   "cell_type": "markdown",
   "metadata": {},
   "source": [
    "# Practical: Atomate\n"
   ]
  },
  {
   "cell_type": "code",
   "execution_count": 4,
   "metadata": {},
   "outputs": [
    {
     "name": "stdout",
     "output_type": "stream",
     "text": [
      "Requirement already satisfied: atomate2 in /Users/zeyudeng/apps/matsci/lib/python3.12/site-packages (0.0.19)\n",
      "\u001b[31mERROR: Could not find a version that satisfies the requirement mock_vasp (from versions: none)\u001b[0m\u001b[31m\n",
      "\u001b[0m\n",
      "\u001b[1m[\u001b[0m\u001b[34;49mnotice\u001b[0m\u001b[1;39;49m]\u001b[0m\u001b[39;49m A new release of pip is available: \u001b[0m\u001b[31;49m24.2\u001b[0m\u001b[39;49m -> \u001b[0m\u001b[32;49m25.0.1\u001b[0m\n",
      "\u001b[1m[\u001b[0m\u001b[34;49mnotice\u001b[0m\u001b[1;39;49m]\u001b[0m\u001b[39;49m To update, run: \u001b[0m\u001b[32;49mpip install --upgrade pip\u001b[0m\n",
      "\u001b[31mERROR: No matching distribution found for mock_vasp\u001b[0m\u001b[31m\n",
      "\u001b[0m"
     ]
    }
   ],
   "source": [
    "!pip install atomate2 mock_vasp"
   ]
  },
  {
   "cell_type": "code",
   "execution_count": 5,
   "metadata": {},
   "outputs": [
    {
     "ename": "ModuleNotFoundError",
     "evalue": "No module named 'mock_vasp'",
     "output_type": "error",
     "traceback": [
      "\u001b[0;31m---------------------------------------------------------------------------\u001b[0m",
      "\u001b[0;31mModuleNotFoundError\u001b[0m                       Traceback (most recent call last)",
      "Cell \u001b[0;32mIn[5], line 3\u001b[0m\n\u001b[1;32m      1\u001b[0m \u001b[38;5;28;01mfrom\u001b[39;00m \u001b[38;5;21;01mjobflow\u001b[39;00m \u001b[38;5;28;01mimport\u001b[39;00m JobStore, run_locally\n\u001b[1;32m      2\u001b[0m \u001b[38;5;28;01mfrom\u001b[39;00m \u001b[38;5;21;01mmaggma\u001b[39;00m\u001b[38;5;21;01m.\u001b[39;00m\u001b[38;5;21;01mstores\u001b[39;00m \u001b[38;5;28;01mimport\u001b[39;00m MemoryStore\n\u001b[0;32m----> 3\u001b[0m \u001b[38;5;28;01mfrom\u001b[39;00m \u001b[38;5;21;01mmock_vasp\u001b[39;00m \u001b[38;5;28;01mimport\u001b[39;00m TEST_DIR, mock_vasp\n\u001b[1;32m      4\u001b[0m \u001b[38;5;28;01mfrom\u001b[39;00m \u001b[38;5;21;01mmonty\u001b[39;00m\u001b[38;5;21;01m.\u001b[39;00m\u001b[38;5;21;01mjson\u001b[39;00m \u001b[38;5;28;01mimport\u001b[39;00m MontyDecoder\n\u001b[1;32m      5\u001b[0m \u001b[38;5;28;01mfrom\u001b[39;00m \u001b[38;5;21;01mpymatgen\u001b[39;00m\u001b[38;5;21;01m.\u001b[39;00m\u001b[38;5;21;01mcore\u001b[39;00m \u001b[38;5;28;01mimport\u001b[39;00m Structure\n",
      "\u001b[0;31mModuleNotFoundError\u001b[0m: No module named 'mock_vasp'"
     ]
    }
   ],
   "source": [
    "from jobflow import JobStore, run_locally\n",
    "from maggma.stores import MemoryStore\n",
    "from mock_vasp import TEST_DIR, mock_vasp\n",
    "from monty.json import MontyDecoder\n",
    "from pymatgen.core import Structure\n",
    "from pymatgen.io.vasp import Chgcar\n",
    "\n",
    "from atomate2.vasp.flows.core import StaticMaker\n",
    "\n",
    "job_store = JobStore(MemoryStore(), additional_stores={\"data\": MemoryStore()})\n",
    "si_structure = Structure.from_file(TEST_DIR / \"structures\" / \"Si.cif\")\n",
    "ref_paths = {\"static\": \"Si_band_structure/static\"}"
   ]
  },
  {
   "cell_type": "code",
   "execution_count": null,
   "metadata": {},
   "outputs": [],
   "source": [
    "import time\n",
    "import os\n",
    "\n",
    "def dummy_structure_generation(formula):\n",
    "    \"\"\"Simulates structure generation.\"\"\"\n",
    "    print(f\"Generating structure for {formula}...\")\n",
    "    time.sleep(1)  # Simulate some work\n",
    "    structure_file = f\"{formula}.cif\"  # Create a dummy CIF file\n",
    "    with open(structure_file, \"w\") as f:\n",
    "        f.write(f\"# Dummy CIF file for {formula}\\n\")\n",
    "    print(f\"Structure generated: {structure_file}\")\n",
    "    return structure_file\n",
    "\n",
    "def dummy_vasp_calculation(structure_file):\n",
    "    \"\"\"Simulates a VASP calculation.\"\"\"\n",
    "    print(f\"Running VASP calculation on {structure_file}...\")\n",
    "    time.sleep(3)  # Simulate a longer calculation\n",
    "    output_file = structure_file.replace(\".cif\", \".out\")\n",
    "    with open(output_file, \"w\") as f:\n",
    "        f.write(f\"# Dummy VASP output for {structure_file}\\n\")\n",
    "        f.write(\"  Total energy = -10.0 eV\\n\")  # Dummy energy\n",
    "        f.write(\"  Band gap = 2.5 eV\\n\")      # Dummy band gap\n",
    "    print(f\"VASP calculation complete: {output_file}\")\n",
    "    return output_file\n",
    "def dummy_output_parsing(output_file):\n",
    "    \"\"\"Simulates output file parsing and data extraction.\"\"\"\n",
    "    print(f\"Parsing output file {output_file}...\")\n",
    "    time.sleep(1)\n",
    "\n",
    "    # Simulate reading values\n",
    "    energy = -10.0  # Hardcoded for the demo\n",
    "    band_gap = 2.5  # Hardcoded for the demo\n",
    "\n",
    "    print(f\"Extracted energy: {energy} eV\")\n",
    "    print(f\"Extracted band gap: {band_gap} eV\")\n",
    "\n",
    "    return {\"energy\": energy, \"band_gap\": band_gap}\n"
   ]
  },
  {
   "cell_type": "code",
   "execution_count": null,
   "metadata": {},
   "outputs": [],
   "source": [
    "# Create Firework for structure generation\n",
    "fw_structure = Firework(PyTask(func=dummy_structure_generation, formula=\"Li2O\"), name=\"Structure Generation\")\n",
    "\n",
    "# Create Firework for VASP calculation\n",
    "fw_vasp = Firework(PyTask(func=dummy_vasp_calculation, structure_file=fw_structure.output[\"structure_file\"]), name=\"VASP Calculation\")\n",
    "\n",
    "#Create Firework for parsing\n",
    "fw_parse = Firework(PyTask(func=dummy_output_parsing, output_file= fw_vasp.output['output_file']), name='Output Parsing')\n"
   ]
  },
  {
   "cell_type": "markdown",
   "metadata": {},
   "source": [
    "## Create a FireWorks Workflow"
   ]
  },
  {
   "cell_type": "code",
   "execution_count": null,
   "metadata": {},
   "outputs": [],
   "source": [
    "# Create the workflow\n",
    "wf = Workflow([fw_structure, fw_vasp, fw_parse], name=\"Dummy Oxide Workflow\")\n",
    "\n",
    "# Add the workflow to the LaunchPad\n",
    "lpad.add_wf(wf)\n"
   ]
  },
  {
   "cell_type": "markdown",
   "metadata": {},
   "source": [
    "## Run the Workflow\n",
    "- `rapidfire` is a FireWorks command that runs workflows.\n",
    "- `nlaunches=1` ensures only one instance of this work flow will be executed."
   ]
  },
  {
   "cell_type": "code",
   "execution_count": null,
   "metadata": {},
   "outputs": [],
   "source": [
    "from fireworks import rapidfire\n",
    "rapidfire(lpad, nlaunches=1)"
   ]
  },
  {
   "cell_type": "markdown",
   "metadata": {},
   "source": [
    "## Show workflow"
   ]
  },
  {
   "cell_type": "markdown",
   "metadata": {},
   "source": [
    "from IPython.display import display, SVG\n",
    "display(SVG(wf.to_svg()))"
   ]
  },
  {
   "cell_type": "markdown",
   "metadata": {},
   "source": []
  }
 ],
 "metadata": {
  "kernelspec": {
   "display_name": "matsci",
   "language": "python",
   "name": "python3"
  },
  "language_info": {
   "codemirror_mode": {
    "name": "ipython",
    "version": 3
   },
   "file_extension": ".py",
   "mimetype": "text/x-python",
   "name": "python",
   "nbconvert_exporter": "python",
   "pygments_lexer": "ipython3",
   "version": "3.12.9"
  }
 },
 "nbformat": 4,
 "nbformat_minor": 2
}
