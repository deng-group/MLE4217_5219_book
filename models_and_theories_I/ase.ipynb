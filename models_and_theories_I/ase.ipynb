{
 "cells": [
  {
   "cell_type": "markdown",
   "metadata": {},
   "source": [
    "# Atomic Simulation Environment (ASE)\n",
    "\n",
    "## Atoms Object"
   ]
  },
  {
   "cell_type": "code",
   "execution_count": 3,
   "metadata": {},
   "outputs": [
    {
     "name": "stdout",
     "output_type": "stream",
     "text": [
      "H2 molecule: Atoms(symbols='H2', pbc=False)\n"
     ]
    }
   ],
   "source": [
    "from ase.build import molecule\n",
    "\n",
    "# Build H2 molecule\n",
    "h2 = molecule('H2')\n",
    "print(\"H2 molecule:\", h2)"
   ]
  },
  {
   "cell_type": "code",
   "execution_count": 5,
   "metadata": {},
   "outputs": [
    {
     "name": "stdout",
     "output_type": "stream",
     "text": [
      "Collecting nglview==3.1.4\n",
      "  Using cached nglview-3.1.4-py3-none-any.whl\n",
      "Requirement already satisfied: ipywidgets>=8 in /Users/zeyudeng/miniconda3/envs/matsci/lib/python3.12/site-packages (from nglview==3.1.4) (8.1.1)\n",
      "Requirement already satisfied: notebook>=7 in /Users/zeyudeng/miniconda3/envs/matsci/lib/python3.12/site-packages (from nglview==3.1.4) (7.0.7)\n",
      "Requirement already satisfied: jupyterlab>=3 in /Users/zeyudeng/miniconda3/envs/matsci/lib/python3.12/site-packages (from nglview==3.1.4) (4.1.0)\n",
      "Requirement already satisfied: jupyterlab_widgets in /Users/zeyudeng/miniconda3/envs/matsci/lib/python3.12/site-packages (from nglview==3.1.4) (3.0.9)\n",
      "Requirement already satisfied: numpy in /Users/zeyudeng/miniconda3/envs/matsci/lib/python3.12/site-packages (from nglview==3.1.4) (1.26.3)\n",
      "Requirement already satisfied: comm>=0.1.3 in /Users/zeyudeng/miniconda3/envs/matsci/lib/python3.12/site-packages (from ipywidgets>=8->nglview==3.1.4) (0.2.1)\n",
      "Requirement already satisfied: ipython>=6.1.0 in /Users/zeyudeng/miniconda3/envs/matsci/lib/python3.12/site-packages (from ipywidgets>=8->nglview==3.1.4) (8.21.0)\n",
      "Requirement already satisfied: traitlets>=4.3.1 in /Users/zeyudeng/miniconda3/envs/matsci/lib/python3.12/site-packages (from ipywidgets>=8->nglview==3.1.4) (5.14.1)\n",
      "Requirement already satisfied: widgetsnbextension~=4.0.9 in /Users/zeyudeng/miniconda3/envs/matsci/lib/python3.12/site-packages (from ipywidgets>=8->nglview==3.1.4) (4.0.9)\n",
      "Requirement already satisfied: async-lru>=1.0.0 in /Users/zeyudeng/miniconda3/envs/matsci/lib/python3.12/site-packages (from jupyterlab>=3->nglview==3.1.4) (2.0.4)\n",
      "Requirement already satisfied: httpx>=0.25.0 in /Users/zeyudeng/miniconda3/envs/matsci/lib/python3.12/site-packages (from jupyterlab>=3->nglview==3.1.4) (0.26.0)\n",
      "Requirement already satisfied: ipykernel in /Users/zeyudeng/miniconda3/envs/matsci/lib/python3.12/site-packages (from jupyterlab>=3->nglview==3.1.4) (6.29.1)\n",
      "Requirement already satisfied: jinja2>=3.0.3 in /Users/zeyudeng/miniconda3/envs/matsci/lib/python3.12/site-packages (from jupyterlab>=3->nglview==3.1.4) (3.1.3)\n",
      "Requirement already satisfied: jupyter-core in /Users/zeyudeng/miniconda3/envs/matsci/lib/python3.12/site-packages (from jupyterlab>=3->nglview==3.1.4) (5.7.1)\n",
      "Requirement already satisfied: jupyter-lsp>=2.0.0 in /Users/zeyudeng/miniconda3/envs/matsci/lib/python3.12/site-packages (from jupyterlab>=3->nglview==3.1.4) (2.2.2)\n",
      "Requirement already satisfied: jupyter-server<3,>=2.4.0 in /Users/zeyudeng/miniconda3/envs/matsci/lib/python3.12/site-packages (from jupyterlab>=3->nglview==3.1.4) (2.12.5)\n",
      "Requirement already satisfied: jupyterlab-server<3,>=2.19.0 in /Users/zeyudeng/miniconda3/envs/matsci/lib/python3.12/site-packages (from jupyterlab>=3->nglview==3.1.4) (2.25.2)\n",
      "Requirement already satisfied: notebook-shim>=0.2 in /Users/zeyudeng/miniconda3/envs/matsci/lib/python3.12/site-packages (from jupyterlab>=3->nglview==3.1.4) (0.2.3)\n",
      "Requirement already satisfied: packaging in /Users/zeyudeng/miniconda3/envs/matsci/lib/python3.12/site-packages (from jupyterlab>=3->nglview==3.1.4) (23.2)\n",
      "Requirement already satisfied: tornado>=6.2.0 in /Users/zeyudeng/miniconda3/envs/matsci/lib/python3.12/site-packages (from jupyterlab>=3->nglview==3.1.4) (6.3.3)\n",
      "Requirement already satisfied: anyio in /Users/zeyudeng/miniconda3/envs/matsci/lib/python3.12/site-packages (from httpx>=0.25.0->jupyterlab>=3->nglview==3.1.4) (4.2.0)\n",
      "Requirement already satisfied: certifi in /Users/zeyudeng/miniconda3/envs/matsci/lib/python3.12/site-packages (from httpx>=0.25.0->jupyterlab>=3->nglview==3.1.4) (2024.2.2)\n",
      "Requirement already satisfied: httpcore==1.* in /Users/zeyudeng/miniconda3/envs/matsci/lib/python3.12/site-packages (from httpx>=0.25.0->jupyterlab>=3->nglview==3.1.4) (1.0.2)\n",
      "Requirement already satisfied: idna in /Users/zeyudeng/miniconda3/envs/matsci/lib/python3.12/site-packages (from httpx>=0.25.0->jupyterlab>=3->nglview==3.1.4) (3.6)\n",
      "Requirement already satisfied: sniffio in /Users/zeyudeng/miniconda3/envs/matsci/lib/python3.12/site-packages (from httpx>=0.25.0->jupyterlab>=3->nglview==3.1.4) (1.3.0)\n",
      "Requirement already satisfied: h11<0.15,>=0.13 in /Users/zeyudeng/miniconda3/envs/matsci/lib/python3.12/site-packages (from httpcore==1.*->httpx>=0.25.0->jupyterlab>=3->nglview==3.1.4) (0.14.0)\n",
      "Requirement already satisfied: decorator in /Users/zeyudeng/miniconda3/envs/matsci/lib/python3.12/site-packages (from ipython>=6.1.0->ipywidgets>=8->nglview==3.1.4) (5.1.1)\n",
      "Requirement already satisfied: jedi>=0.16 in /Users/zeyudeng/miniconda3/envs/matsci/lib/python3.12/site-packages (from ipython>=6.1.0->ipywidgets>=8->nglview==3.1.4) (0.19.1)\n",
      "Requirement already satisfied: matplotlib-inline in /Users/zeyudeng/miniconda3/envs/matsci/lib/python3.12/site-packages (from ipython>=6.1.0->ipywidgets>=8->nglview==3.1.4) (0.1.6)\n",
      "Requirement already satisfied: prompt-toolkit<3.1.0,>=3.0.41 in /Users/zeyudeng/miniconda3/envs/matsci/lib/python3.12/site-packages (from ipython>=6.1.0->ipywidgets>=8->nglview==3.1.4) (3.0.42)\n",
      "Requirement already satisfied: pygments>=2.4.0 in /Users/zeyudeng/miniconda3/envs/matsci/lib/python3.12/site-packages (from ipython>=6.1.0->ipywidgets>=8->nglview==3.1.4) (2.17.2)\n",
      "Requirement already satisfied: stack-data in /Users/zeyudeng/miniconda3/envs/matsci/lib/python3.12/site-packages (from ipython>=6.1.0->ipywidgets>=8->nglview==3.1.4) (0.6.2)\n",
      "Requirement already satisfied: pexpect>4.3 in /Users/zeyudeng/miniconda3/envs/matsci/lib/python3.12/site-packages (from ipython>=6.1.0->ipywidgets>=8->nglview==3.1.4) (4.9.0)\n",
      "Requirement already satisfied: MarkupSafe>=2.0 in /Users/zeyudeng/miniconda3/envs/matsci/lib/python3.12/site-packages (from jinja2>=3.0.3->jupyterlab>=3->nglview==3.1.4) (2.1.5)\n",
      "Requirement already satisfied: argon2-cffi in /Users/zeyudeng/miniconda3/envs/matsci/lib/python3.12/site-packages (from jupyter-server<3,>=2.4.0->jupyterlab>=3->nglview==3.1.4) (23.1.0)\n",
      "Requirement already satisfied: jupyter-client>=7.4.4 in /Users/zeyudeng/miniconda3/envs/matsci/lib/python3.12/site-packages (from jupyter-server<3,>=2.4.0->jupyterlab>=3->nglview==3.1.4) (8.6.0)\n",
      "Requirement already satisfied: jupyter-events>=0.9.0 in /Users/zeyudeng/miniconda3/envs/matsci/lib/python3.12/site-packages (from jupyter-server<3,>=2.4.0->jupyterlab>=3->nglview==3.1.4) (0.9.0)\n",
      "Requirement already satisfied: jupyter-server-terminals in /Users/zeyudeng/miniconda3/envs/matsci/lib/python3.12/site-packages (from jupyter-server<3,>=2.4.0->jupyterlab>=3->nglview==3.1.4) (0.5.2)\n",
      "Requirement already satisfied: nbconvert>=6.4.4 in /Users/zeyudeng/miniconda3/envs/matsci/lib/python3.12/site-packages (from jupyter-server<3,>=2.4.0->jupyterlab>=3->nglview==3.1.4) (7.15.0)\n",
      "Requirement already satisfied: nbformat>=5.3.0 in /Users/zeyudeng/miniconda3/envs/matsci/lib/python3.12/site-packages (from jupyter-server<3,>=2.4.0->jupyterlab>=3->nglview==3.1.4) (5.9.2)\n",
      "Requirement already satisfied: overrides in /Users/zeyudeng/miniconda3/envs/matsci/lib/python3.12/site-packages (from jupyter-server<3,>=2.4.0->jupyterlab>=3->nglview==3.1.4) (7.7.0)\n",
      "Requirement already satisfied: prometheus-client in /Users/zeyudeng/miniconda3/envs/matsci/lib/python3.12/site-packages (from jupyter-server<3,>=2.4.0->jupyterlab>=3->nglview==3.1.4) (0.19.0)\n",
      "Requirement already satisfied: pyzmq>=24 in /Users/zeyudeng/miniconda3/envs/matsci/lib/python3.12/site-packages (from jupyter-server<3,>=2.4.0->jupyterlab>=3->nglview==3.1.4) (25.1.2)\n",
      "Requirement already satisfied: send2trash>=1.8.2 in /Users/zeyudeng/miniconda3/envs/matsci/lib/python3.12/site-packages (from jupyter-server<3,>=2.4.0->jupyterlab>=3->nglview==3.1.4) (1.8.2)\n",
      "Requirement already satisfied: terminado>=0.8.3 in /Users/zeyudeng/miniconda3/envs/matsci/lib/python3.12/site-packages (from jupyter-server<3,>=2.4.0->jupyterlab>=3->nglview==3.1.4) (0.18.0)\n",
      "Requirement already satisfied: websocket-client in /Users/zeyudeng/miniconda3/envs/matsci/lib/python3.12/site-packages (from jupyter-server<3,>=2.4.0->jupyterlab>=3->nglview==3.1.4) (1.7.0)\n",
      "Requirement already satisfied: platformdirs>=2.5 in /Users/zeyudeng/miniconda3/envs/matsci/lib/python3.12/site-packages (from jupyter-core->jupyterlab>=3->nglview==3.1.4) (4.2.0)\n",
      "Requirement already satisfied: babel>=2.10 in /Users/zeyudeng/miniconda3/envs/matsci/lib/python3.12/site-packages (from jupyterlab-server<3,>=2.19.0->jupyterlab>=3->nglview==3.1.4) (2.14.0)\n",
      "Requirement already satisfied: json5>=0.9.0 in /Users/zeyudeng/miniconda3/envs/matsci/lib/python3.12/site-packages (from jupyterlab-server<3,>=2.19.0->jupyterlab>=3->nglview==3.1.4) (0.9.14)\n",
      "Requirement already satisfied: jsonschema>=4.18.0 in /Users/zeyudeng/miniconda3/envs/matsci/lib/python3.12/site-packages (from jupyterlab-server<3,>=2.19.0->jupyterlab>=3->nglview==3.1.4) (4.21.1)\n",
      "Requirement already satisfied: requests>=2.31 in /Users/zeyudeng/miniconda3/envs/matsci/lib/python3.12/site-packages (from jupyterlab-server<3,>=2.19.0->jupyterlab>=3->nglview==3.1.4) (2.32.3)\n",
      "Requirement already satisfied: appnope in /Users/zeyudeng/miniconda3/envs/matsci/lib/python3.12/site-packages (from ipykernel->jupyterlab>=3->nglview==3.1.4) (0.1.3)\n",
      "Requirement already satisfied: debugpy>=1.6.5 in /Users/zeyudeng/miniconda3/envs/matsci/lib/python3.12/site-packages (from ipykernel->jupyterlab>=3->nglview==3.1.4) (1.8.0)\n",
      "Requirement already satisfied: nest-asyncio in /Users/zeyudeng/miniconda3/envs/matsci/lib/python3.12/site-packages (from ipykernel->jupyterlab>=3->nglview==3.1.4) (1.6.0)\n",
      "Requirement already satisfied: psutil in /Users/zeyudeng/miniconda3/envs/matsci/lib/python3.12/site-packages (from ipykernel->jupyterlab>=3->nglview==3.1.4) (5.9.8)\n",
      "Requirement already satisfied: parso<0.9.0,>=0.8.3 in /Users/zeyudeng/miniconda3/envs/matsci/lib/python3.12/site-packages (from jedi>=0.16->ipython>=6.1.0->ipywidgets>=8->nglview==3.1.4) (0.8.3)\n",
      "Requirement already satisfied: attrs>=22.2.0 in /Users/zeyudeng/miniconda3/envs/matsci/lib/python3.12/site-packages (from jsonschema>=4.18.0->jupyterlab-server<3,>=2.19.0->jupyterlab>=3->nglview==3.1.4) (23.2.0)\n",
      "Requirement already satisfied: jsonschema-specifications>=2023.03.6 in /Users/zeyudeng/miniconda3/envs/matsci/lib/python3.12/site-packages (from jsonschema>=4.18.0->jupyterlab-server<3,>=2.19.0->jupyterlab>=3->nglview==3.1.4) (2023.12.1)\n",
      "Requirement already satisfied: referencing>=0.28.4 in /Users/zeyudeng/miniconda3/envs/matsci/lib/python3.12/site-packages (from jsonschema>=4.18.0->jupyterlab-server<3,>=2.19.0->jupyterlab>=3->nglview==3.1.4) (0.33.0)\n",
      "Requirement already satisfied: rpds-py>=0.7.1 in /Users/zeyudeng/miniconda3/envs/matsci/lib/python3.12/site-packages (from jsonschema>=4.18.0->jupyterlab-server<3,>=2.19.0->jupyterlab>=3->nglview==3.1.4) (0.17.1)\n",
      "Requirement already satisfied: python-dateutil>=2.8.2 in /Users/zeyudeng/miniconda3/envs/matsci/lib/python3.12/site-packages (from jupyter-client>=7.4.4->jupyter-server<3,>=2.4.0->jupyterlab>=3->nglview==3.1.4) (2.8.2)\n",
      "Requirement already satisfied: python-json-logger>=2.0.4 in /Users/zeyudeng/miniconda3/envs/matsci/lib/python3.12/site-packages (from jupyter-events>=0.9.0->jupyter-server<3,>=2.4.0->jupyterlab>=3->nglview==3.1.4) (2.0.7)\n",
      "Requirement already satisfied: pyyaml>=5.3 in /Users/zeyudeng/miniconda3/envs/matsci/lib/python3.12/site-packages (from jupyter-events>=0.9.0->jupyter-server<3,>=2.4.0->jupyterlab>=3->nglview==3.1.4) (6.0.1)\n",
      "Requirement already satisfied: rfc3339-validator in /Users/zeyudeng/miniconda3/envs/matsci/lib/python3.12/site-packages (from jupyter-events>=0.9.0->jupyter-server<3,>=2.4.0->jupyterlab>=3->nglview==3.1.4) (0.1.4)\n",
      "Requirement already satisfied: rfc3986-validator>=0.1.1 in /Users/zeyudeng/miniconda3/envs/matsci/lib/python3.12/site-packages (from jupyter-events>=0.9.0->jupyter-server<3,>=2.4.0->jupyterlab>=3->nglview==3.1.4) (0.1.1)\n",
      "Requirement already satisfied: beautifulsoup4 in /Users/zeyudeng/miniconda3/envs/matsci/lib/python3.12/site-packages (from nbconvert>=6.4.4->jupyter-server<3,>=2.4.0->jupyterlab>=3->nglview==3.1.4) (4.12.3)\n",
      "Requirement already satisfied: bleach!=5.0.0 in /Users/zeyudeng/miniconda3/envs/matsci/lib/python3.12/site-packages (from nbconvert>=6.4.4->jupyter-server<3,>=2.4.0->jupyterlab>=3->nglview==3.1.4) (6.1.0)\n",
      "Requirement already satisfied: defusedxml in /Users/zeyudeng/miniconda3/envs/matsci/lib/python3.12/site-packages (from nbconvert>=6.4.4->jupyter-server<3,>=2.4.0->jupyterlab>=3->nglview==3.1.4) (0.7.1)\n",
      "Requirement already satisfied: jupyterlab-pygments in /Users/zeyudeng/miniconda3/envs/matsci/lib/python3.12/site-packages (from nbconvert>=6.4.4->jupyter-server<3,>=2.4.0->jupyterlab>=3->nglview==3.1.4) (0.3.0)\n",
      "Requirement already satisfied: mistune<4,>=2.0.3 in /Users/zeyudeng/miniconda3/envs/matsci/lib/python3.12/site-packages (from nbconvert>=6.4.4->jupyter-server<3,>=2.4.0->jupyterlab>=3->nglview==3.1.4) (3.0.2)\n",
      "Requirement already satisfied: nbclient>=0.5.0 in /Users/zeyudeng/miniconda3/envs/matsci/lib/python3.12/site-packages (from nbconvert>=6.4.4->jupyter-server<3,>=2.4.0->jupyterlab>=3->nglview==3.1.4) (0.8.0)\n",
      "Requirement already satisfied: pandocfilters>=1.4.1 in /Users/zeyudeng/miniconda3/envs/matsci/lib/python3.12/site-packages (from nbconvert>=6.4.4->jupyter-server<3,>=2.4.0->jupyterlab>=3->nglview==3.1.4) (1.5.0)\n",
      "Requirement already satisfied: tinycss2 in /Users/zeyudeng/miniconda3/envs/matsci/lib/python3.12/site-packages (from nbconvert>=6.4.4->jupyter-server<3,>=2.4.0->jupyterlab>=3->nglview==3.1.4) (1.2.1)\n",
      "Requirement already satisfied: fastjsonschema in /Users/zeyudeng/miniconda3/envs/matsci/lib/python3.12/site-packages (from nbformat>=5.3.0->jupyter-server<3,>=2.4.0->jupyterlab>=3->nglview==3.1.4) (2.19.1)\n",
      "Requirement already satisfied: ptyprocess>=0.5 in /Users/zeyudeng/miniconda3/envs/matsci/lib/python3.12/site-packages (from pexpect>4.3->ipython>=6.1.0->ipywidgets>=8->nglview==3.1.4) (0.7.0)\n",
      "Requirement already satisfied: wcwidth in /Users/zeyudeng/miniconda3/envs/matsci/lib/python3.12/site-packages (from prompt-toolkit<3.1.0,>=3.0.41->ipython>=6.1.0->ipywidgets>=8->nglview==3.1.4) (0.2.13)\n",
      "Requirement already satisfied: charset-normalizer<4,>=2 in /Users/zeyudeng/miniconda3/envs/matsci/lib/python3.12/site-packages (from requests>=2.31->jupyterlab-server<3,>=2.19.0->jupyterlab>=3->nglview==3.1.4) (3.3.2)\n",
      "Requirement already satisfied: urllib3<3,>=1.21.1 in /Users/zeyudeng/miniconda3/envs/matsci/lib/python3.12/site-packages (from requests>=2.31->jupyterlab-server<3,>=2.19.0->jupyterlab>=3->nglview==3.1.4) (2.3.0)\n",
      "Requirement already satisfied: argon2-cffi-bindings in /Users/zeyudeng/miniconda3/envs/matsci/lib/python3.12/site-packages (from argon2-cffi->jupyter-server<3,>=2.4.0->jupyterlab>=3->nglview==3.1.4) (21.2.0)\n",
      "Requirement already satisfied: executing>=1.2.0 in /Users/zeyudeng/miniconda3/envs/matsci/lib/python3.12/site-packages (from stack-data->ipython>=6.1.0->ipywidgets>=8->nglview==3.1.4) (2.0.1)\n",
      "Requirement already satisfied: asttokens>=2.1.0 in /Users/zeyudeng/miniconda3/envs/matsci/lib/python3.12/site-packages (from stack-data->ipython>=6.1.0->ipywidgets>=8->nglview==3.1.4) (2.4.1)\n",
      "Requirement already satisfied: pure-eval in /Users/zeyudeng/miniconda3/envs/matsci/lib/python3.12/site-packages (from stack-data->ipython>=6.1.0->ipywidgets>=8->nglview==3.1.4) (0.2.2)\n",
      "Requirement already satisfied: six>=1.12.0 in /Users/zeyudeng/miniconda3/envs/matsci/lib/python3.12/site-packages (from asttokens>=2.1.0->stack-data->ipython>=6.1.0->ipywidgets>=8->nglview==3.1.4) (1.16.0)\n",
      "Requirement already satisfied: webencodings in /Users/zeyudeng/miniconda3/envs/matsci/lib/python3.12/site-packages (from bleach!=5.0.0->nbconvert>=6.4.4->jupyter-server<3,>=2.4.0->jupyterlab>=3->nglview==3.1.4) (0.5.1)\n",
      "Requirement already satisfied: fqdn in /Users/zeyudeng/miniconda3/envs/matsci/lib/python3.12/site-packages (from jsonschema[format-nongpl]>=4.18.0->jupyter-events>=0.9.0->jupyter-server<3,>=2.4.0->jupyterlab>=3->nglview==3.1.4) (1.5.1)\n",
      "Requirement already satisfied: isoduration in /Users/zeyudeng/miniconda3/envs/matsci/lib/python3.12/site-packages (from jsonschema[format-nongpl]>=4.18.0->jupyter-events>=0.9.0->jupyter-server<3,>=2.4.0->jupyterlab>=3->nglview==3.1.4) (20.11.0)\n",
      "Requirement already satisfied: jsonpointer>1.13 in /Users/zeyudeng/miniconda3/envs/matsci/lib/python3.12/site-packages (from jsonschema[format-nongpl]>=4.18.0->jupyter-events>=0.9.0->jupyter-server<3,>=2.4.0->jupyterlab>=3->nglview==3.1.4) (2.4)\n",
      "Requirement already satisfied: uri-template in /Users/zeyudeng/miniconda3/envs/matsci/lib/python3.12/site-packages (from jsonschema[format-nongpl]>=4.18.0->jupyter-events>=0.9.0->jupyter-server<3,>=2.4.0->jupyterlab>=3->nglview==3.1.4) (1.3.0)\n",
      "Requirement already satisfied: webcolors>=1.11 in /Users/zeyudeng/miniconda3/envs/matsci/lib/python3.12/site-packages (from jsonschema[format-nongpl]>=4.18.0->jupyter-events>=0.9.0->jupyter-server<3,>=2.4.0->jupyterlab>=3->nglview==3.1.4) (1.13)\n",
      "Requirement already satisfied: cffi>=1.0.1 in /Users/zeyudeng/miniconda3/envs/matsci/lib/python3.12/site-packages (from argon2-cffi-bindings->argon2-cffi->jupyter-server<3,>=2.4.0->jupyterlab>=3->nglview==3.1.4) (1.16.0)\n",
      "Requirement already satisfied: soupsieve>1.2 in /Users/zeyudeng/miniconda3/envs/matsci/lib/python3.12/site-packages (from beautifulsoup4->nbconvert>=6.4.4->jupyter-server<3,>=2.4.0->jupyterlab>=3->nglview==3.1.4) (2.5)\n",
      "Requirement already satisfied: pycparser in /Users/zeyudeng/miniconda3/envs/matsci/lib/python3.12/site-packages (from cffi>=1.0.1->argon2-cffi-bindings->argon2-cffi->jupyter-server<3,>=2.4.0->jupyterlab>=3->nglview==3.1.4) (2.21)\n",
      "Requirement already satisfied: arrow>=0.15.0 in /Users/zeyudeng/miniconda3/envs/matsci/lib/python3.12/site-packages (from isoduration->jsonschema[format-nongpl]>=4.18.0->jupyter-events>=0.9.0->jupyter-server<3,>=2.4.0->jupyterlab>=3->nglview==3.1.4) (1.3.0)\n",
      "Requirement already satisfied: types-python-dateutil>=2.8.10 in /Users/zeyudeng/miniconda3/envs/matsci/lib/python3.12/site-packages (from arrow>=0.15.0->isoduration->jsonschema[format-nongpl]>=4.18.0->jupyter-events>=0.9.0->jupyter-server<3,>=2.4.0->jupyterlab>=3->nglview==3.1.4) (2.8.19.20240106)\n",
      "Installing collected packages: nglview\n",
      "  Attempting uninstall: nglview\n",
      "    Found existing installation: nglview 3.1.0\n",
      "    Uninstalling nglview-3.1.0:\n",
      "      Successfully uninstalled nglview-3.1.0\n",
      "Successfully installed nglview-3.1.4\n"
     ]
    }
   ],
   "source": [
    "!pip install nglview==3.1.4"
   ]
  },
  {
   "cell_type": "code",
   "execution_count": 4,
   "metadata": {},
   "outputs": [
    {
     "data": {
      "application/vnd.jupyter.widget-view+json": {
       "model_id": "9496a83f4e4f46c893d446a928d5a362",
       "version_major": 2,
       "version_minor": 0
      },
      "text/plain": [
       "HBox(children=(NGLWidget(), VBox(children=(Dropdown(description='Show', options=('All', 'H'), value='All'), Dr…"
      ]
     },
     "execution_count": 4,
     "metadata": {},
     "output_type": "execute_result"
    }
   ],
   "source": [
    "from ase.visualize import view\n",
    "\n",
    "view(h2, viewer='ngl')"
   ]
  },
  {
   "cell_type": "code",
   "execution_count": 5,
   "metadata": {},
   "outputs": [
    {
     "data": {
      "application/vnd.jupyter.widget-view+json": {
       "model_id": "970adbe8001949508b0b852fbf06fc21",
       "version_major": 2,
       "version_minor": 0
      },
      "text/plain": [
       "Text(value='HELLO')"
      ]
     },
     "execution_count": 5,
     "metadata": {},
     "output_type": "execute_result"
    }
   ],
   "source": [
    "from ipywidgets import Text\n",
    "Text(\"HELLO\")"
   ]
  },
  {
   "cell_type": "code",
   "execution_count": null,
   "metadata": {},
   "outputs": [],
   "source": []
  },
  {
   "cell_type": "code",
   "execution_count": 12,
   "metadata": {},
   "outputs": [
    {
     "name": "stdout",
     "output_type": "stream",
     "text": [
      "Potential energy of H2 with Lennard-Jones potential: 23.100769499895506\n"
     ]
    }
   ],
   "source": [
    "from ase.calculators.lj import LennardJones\n",
    "\n",
    "# Create Lennard-Jones calculator\n",
    "lj_calculator = LennardJones(sigma=  3.4, epsilon = 120* 8.617333262145e-5)\n",
    "\n",
    "# Set the calculator for the H2 molecule\n",
    "h2.calc = lj_calculator\n",
    "\n",
    "# Calculate the potential energy\n",
    "potential_energy = h2.get_potential_energy()\n",
    "print(\"Potential energy of H2 with Lennard-Jones potential:\", potential_energy)"
   ]
  },
  {
   "cell_type": "code",
   "execution_count": null,
   "metadata": {},
   "outputs": [
    {
     "data": {
      "image/png": "[encoded data removed]",
      "text/plain": [
       "<Figure size 640x480 with 1 Axes>"
      ]
     },
     "metadata": {},
     "output_type": "display_data"
    }
   ],
   "source": [
    "import numpy as np\n",
    "from ase.calculators.morse import MorsePotential\n",
    "from ase import Atoms\n",
    "import matplotlib.pyplot as plt\n",
    "\n",
    "# Create a range of distances\n",
    "distances = np.linspace(0.65, 2, 100)\n",
    "\n",
    "# Initialize Morse potential calculator\n",
    "morse_calculator = MorsePotential(D0=0.3429, alpha=1.02, r0=0.74)\n",
    "\n",
    "# Calculate energies for each distance\n",
    "energies = []\n",
    "for d in distances:\n",
    "    h2 = Atoms('H2', positions=[[0, 0, 0], [0, 0, d]])\n",
    "    h2.calc = morse_calculator\n",
    "    energies.append(h2.get_potential_energy())\n",
    "\n",
    "# Plot the results\n",
    "plt.plot(distances, energies)\n",
    "plt.xlabel('Atomic Distance (Å)')\n",
    "plt.ylabel('Potential Energy (eV)')\n",
    "plt.title('Morse Potential Energy vs. Atomic Distance for H2')\n",
    "plt.show()\n"
   ]
  },
  {
   "cell_type": "code",
   "execution_count": 1,
   "metadata": {},
   "outputs": [
    {
     "ename": "NameError",
     "evalue": "name 'molecule' is not defined",
     "output_type": "error",
     "traceback": [
      "\u001b[0;31m---------------------------------------------------------------------------\u001b[0m",
      "\u001b[0;31mNameError\u001b[0m                                 Traceback (most recent call last)",
      "Cell \u001b[0;32mIn[1], line 3\u001b[0m\n\u001b[1;32m      1\u001b[0m \u001b[38;5;28;01mfrom\u001b[39;00m \u001b[38;5;21;01mase\u001b[39;00m\u001b[38;5;21;01m.\u001b[39;00m\u001b[38;5;21;01mvibrations\u001b[39;00m \u001b[38;5;28;01mimport\u001b[39;00m Vibrations\n\u001b[0;32m----> 3\u001b[0m h2 \u001b[38;5;241m=\u001b[39m \u001b[43mmolecule\u001b[49m(\u001b[38;5;124m'\u001b[39m\u001b[38;5;124mH2\u001b[39m\u001b[38;5;124m'\u001b[39m,positions\u001b[38;5;241m=\u001b[39m[[\u001b[38;5;241m0\u001b[39m, \u001b[38;5;241m0\u001b[39m, \u001b[38;5;241m0\u001b[39m], [\u001b[38;5;241m0\u001b[39m, \u001b[38;5;241m0\u001b[39m, \u001b[38;5;241m0.74\u001b[39m]])\n\u001b[1;32m      4\u001b[0m h2\u001b[38;5;241m.\u001b[39mcalc \u001b[38;5;241m=\u001b[39m morse_calculator\n\u001b[1;32m      5\u001b[0m \u001b[38;5;66;03m# Perform vibrational analysis\u001b[39;00m\n",
      "\u001b[0;31mNameError\u001b[0m: name 'molecule' is not defined"
     ]
    }
   ],
   "source": [
    "from ase.vibrations import Vibrations\n",
    "\n",
    "h2 = molecule('H2',positions=[[0, 0, 0], [0, 0, 0.74]])\n",
    "h2.calc = morse_calculator\n",
    "# Perform vibrational analysis\n",
    "vib = Vibrations(h2)\n",
    "vib.run()\n",
    "vib.write_mode()\n",
    "# Print vibrational frequencies\n",
    "vib.summary()\n",
    "\n",
    "# Clean up files generated during the vibrational analysis\n",
    "vib.clean()\n",
    "\n"
   ]
  },
  {
   "cell_type": "code",
   "execution_count": 12,
   "metadata": {},
   "outputs": [
    {
     "data": {
      "application/vnd.jupyter.widget-view+json": {
       "model_id": "acb97a04351e490aa10745adef78aedd",
       "version_major": 2,
       "version_minor": 0
      },
      "text/plain": [
       "HBox(children=(NGLWidget(max_frame=29), VBox(children=(Dropdown(description='Show', options=('All', 'H'), valu…"
      ]
     },
     "execution_count": 12,
     "metadata": {},
     "output_type": "execute_result"
    }
   ],
   "source": [
    "from ase.visualize import view\n",
    "from ase.io import read\n",
    "traj = read('vib.3.traj', index=':', format='traj')\n",
    "view(traj, viewer='ngl')"
   ]
  },
  {
   "cell_type": "code",
   "execution_count": 105,
   "metadata": {},
   "outputs": [
    {
     "name": "stderr",
     "output_type": "stream",
     "text": [
      "/var/folders/tk/8gzsg015737930qvxbpdm7_00000gn/T/ipykernel_76163/3470179650.py:16: DeprecationWarning: `product` is deprecated as of NumPy 1.25.0, and will be removed in NumPy 2.0. Please use `prod` instead.\n",
      "  atoms *= 3\n"
     ]
    },
    {
     "name": "stdout",
     "output_type": "stream",
     "text": [
      "atoms =  Atoms(symbols='Al108', pbc=True, cell=[12.899999999999999, 12.899999999999999, 12.899999999999999])\n",
      "log_filename =  ./al.log\n",
      "traj_filename =  ./al.traj\n",
      "\n",
      "    imd     Etot(eV)    Ekin(eV)    Epot(eV)    T(K)\n",
      "     0     31.944677463     22.336120234    9.608557229   1600.00\n",
      "   1000     31.947380575     8.678893413    23.268487162   621.69\n"
     ]
    },
    {
     "ename": "KeyboardInterrupt",
     "evalue": "",
     "output_type": "error",
     "traceback": [
      "\u001b[0;31m---------------------------------------------------------------------------\u001b[0m",
      "\u001b[0;31mKeyboardInterrupt\u001b[0m                         Traceback (most recent call last)",
      "Cell \u001b[0;32mIn[105], line 67\u001b[0m\n\u001b[1;32m     65\u001b[0m \u001b[38;5;66;03m# Now run MD simulation\u001b[39;00m\n\u001b[1;32m     66\u001b[0m \u001b[38;5;28mprint\u001b[39m(\u001b[38;5;124mf\u001b[39m\u001b[38;5;124m\"\u001b[39m\u001b[38;5;130;01m\\n\u001b[39;00m\u001b[38;5;124m    imd     Etot(eV)    Ekin(eV)    Epot(eV)    T(K)\u001b[39m\u001b[38;5;124m\"\u001b[39m)\n\u001b[0;32m---> 67\u001b[0m \u001b[43mdyn\u001b[49m\u001b[38;5;241;43m.\u001b[39;49m\u001b[43mrun\u001b[49m\u001b[43m(\u001b[49m\u001b[43mnum_md_steps\u001b[49m\u001b[43m)\u001b[49m\n\u001b[1;32m     69\u001b[0m \u001b[38;5;28mprint\u001b[39m(\u001b[38;5;124m\"\u001b[39m\u001b[38;5;130;01m\\n\u001b[39;00m\u001b[38;5;124mNormal termination of the MD run!\u001b[39m\u001b[38;5;124m\"\u001b[39m)\n",
      "File \u001b[0;32m~/miniconda3/envs/matsci/lib/python3.12/site-packages/ase/md/md.py:137\u001b[0m, in \u001b[0;36mMolecularDynamics.run\u001b[0;34m(self, steps)\u001b[0m\n\u001b[1;32m    135\u001b[0m \u001b[38;5;250m\u001b[39m\u001b[38;5;124;03m\"\"\" Call Dynamics.run and adjust max_steps \"\"\"\u001b[39;00m\n\u001b[1;32m    136\u001b[0m \u001b[38;5;28mself\u001b[39m\u001b[38;5;241m.\u001b[39mmax_steps \u001b[38;5;241m=\u001b[39m steps \u001b[38;5;241m+\u001b[39m \u001b[38;5;28mself\u001b[39m\u001b[38;5;241m.\u001b[39mnsteps\n\u001b[0;32m--> 137\u001b[0m \u001b[38;5;28;01mreturn\u001b[39;00m \u001b[43mDynamics\u001b[49m\u001b[38;5;241;43m.\u001b[39;49m\u001b[43mrun\u001b[49m\u001b[43m(\u001b[49m\u001b[38;5;28;43mself\u001b[39;49m\u001b[43m)\u001b[49m\n",
      "File \u001b[0;32m~/miniconda3/envs/matsci/lib/python3.12/site-packages/ase/optimize/optimize.py:156\u001b[0m, in \u001b[0;36mDynamics.run\u001b[0;34m(self)\u001b[0m\n\u001b[1;32m    149\u001b[0m \u001b[38;5;28;01mdef\u001b[39;00m \u001b[38;5;21mrun\u001b[39m(\u001b[38;5;28mself\u001b[39m):\n\u001b[1;32m    150\u001b[0m \u001b[38;5;250m    \u001b[39m\u001b[38;5;124;03m\"\"\"Run dynamics algorithm.\u001b[39;00m\n\u001b[1;32m    151\u001b[0m \n\u001b[1;32m    152\u001b[0m \u001b[38;5;124;03m    This method will return when the forces on all individual\u001b[39;00m\n\u001b[1;32m    153\u001b[0m \u001b[38;5;124;03m    atoms are less than *fmax* or when the number of steps exceeds\u001b[39;00m\n\u001b[1;32m    154\u001b[0m \u001b[38;5;124;03m    *steps*.\"\"\"\u001b[39;00m\n\u001b[0;32m--> 156\u001b[0m \u001b[43m    \u001b[49m\u001b[38;5;28;43;01mfor\u001b[39;49;00m\u001b[43m \u001b[49m\u001b[43mconverged\u001b[49m\u001b[43m \u001b[49m\u001b[38;5;129;43;01min\u001b[39;49;00m\u001b[43m \u001b[49m\u001b[43mDynamics\u001b[49m\u001b[38;5;241;43m.\u001b[39;49m\u001b[43mirun\u001b[49m\u001b[43m(\u001b[49m\u001b[38;5;28;43mself\u001b[39;49m\u001b[43m)\u001b[49m\u001b[43m:\u001b[49m\n\u001b[1;32m    157\u001b[0m \u001b[43m        \u001b[49m\u001b[38;5;28;43;01mpass\u001b[39;49;00m\n\u001b[1;32m    158\u001b[0m     \u001b[38;5;28;01mreturn\u001b[39;00m converged\n",
      "File \u001b[0;32m~/miniconda3/envs/matsci/lib/python3.12/site-packages/ase/optimize/optimize.py:135\u001b[0m, in \u001b[0;36mDynamics.irun\u001b[0;34m(self)\u001b[0m\n\u001b[1;32m    131\u001b[0m \u001b[38;5;66;03m# run the algorithm until converged or max_steps reached\u001b[39;00m\n\u001b[1;32m    132\u001b[0m \u001b[38;5;28;01mwhile\u001b[39;00m \u001b[38;5;129;01mnot\u001b[39;00m \u001b[38;5;28mself\u001b[39m\u001b[38;5;241m.\u001b[39mconverged() \u001b[38;5;129;01mand\u001b[39;00m \u001b[38;5;28mself\u001b[39m\u001b[38;5;241m.\u001b[39mnsteps \u001b[38;5;241m<\u001b[39m \u001b[38;5;28mself\u001b[39m\u001b[38;5;241m.\u001b[39mmax_steps:\n\u001b[1;32m    133\u001b[0m \n\u001b[1;32m    134\u001b[0m     \u001b[38;5;66;03m# compute the next step\u001b[39;00m\n\u001b[0;32m--> 135\u001b[0m     \u001b[38;5;28;43mself\u001b[39;49m\u001b[38;5;241;43m.\u001b[39;49m\u001b[43mstep\u001b[49m\u001b[43m(\u001b[49m\u001b[43m)\u001b[49m\n\u001b[1;32m    136\u001b[0m     \u001b[38;5;28mself\u001b[39m\u001b[38;5;241m.\u001b[39mnsteps \u001b[38;5;241m+\u001b[39m\u001b[38;5;241m=\u001b[39m \u001b[38;5;241m1\u001b[39m\n\u001b[1;32m    138\u001b[0m     \u001b[38;5;66;03m# let the user inspect the step and change things before logging\u001b[39;00m\n\u001b[1;32m    139\u001b[0m     \u001b[38;5;66;03m# and predicting the next step\u001b[39;00m\n",
      "File \u001b[0;32m~/miniconda3/envs/matsci/lib/python3.12/site-packages/ase/md/verlet.py:75\u001b[0m, in \u001b[0;36mVelocityVerlet.step\u001b[0;34m(self, forces)\u001b[0m\n\u001b[1;32m     69\u001b[0m \u001b[38;5;66;03m# We need to store the momenta on the atoms before calculating\u001b[39;00m\n\u001b[1;32m     70\u001b[0m \u001b[38;5;66;03m# the forces, as in a parallel Asap calculation atoms may\u001b[39;00m\n\u001b[1;32m     71\u001b[0m \u001b[38;5;66;03m# migrate during force calculations, and the momenta need to\u001b[39;00m\n\u001b[1;32m     72\u001b[0m \u001b[38;5;66;03m# migrate along with the atoms.\u001b[39;00m\n\u001b[1;32m     73\u001b[0m atoms\u001b[38;5;241m.\u001b[39mset_momenta(p, apply_constraint\u001b[38;5;241m=\u001b[39m\u001b[38;5;28;01mFalse\u001b[39;00m)\n\u001b[0;32m---> 75\u001b[0m forces \u001b[38;5;241m=\u001b[39m \u001b[43matoms\u001b[49m\u001b[38;5;241;43m.\u001b[39;49m\u001b[43mget_forces\u001b[49m\u001b[43m(\u001b[49m\u001b[43mmd\u001b[49m\u001b[38;5;241;43m=\u001b[39;49m\u001b[38;5;28;43;01mTrue\u001b[39;49;00m\u001b[43m)\u001b[49m\n\u001b[1;32m     77\u001b[0m \u001b[38;5;66;03m# Second part of RATTLE will be done here:\u001b[39;00m\n\u001b[1;32m     78\u001b[0m atoms\u001b[38;5;241m.\u001b[39mset_momenta(atoms\u001b[38;5;241m.\u001b[39mget_momenta() \u001b[38;5;241m+\u001b[39m \u001b[38;5;241m0.5\u001b[39m \u001b[38;5;241m*\u001b[39m \u001b[38;5;28mself\u001b[39m\u001b[38;5;241m.\u001b[39mdt \u001b[38;5;241m*\u001b[39m forces)\n",
      "File \u001b[0;32m~/miniconda3/envs/matsci/lib/python3.12/site-packages/ase/atoms.py:788\u001b[0m, in \u001b[0;36mAtoms.get_forces\u001b[0;34m(self, apply_constraint, md)\u001b[0m\n\u001b[1;32m    786\u001b[0m \u001b[38;5;28;01mif\u001b[39;00m \u001b[38;5;28mself\u001b[39m\u001b[38;5;241m.\u001b[39m_calc \u001b[38;5;129;01mis\u001b[39;00m \u001b[38;5;28;01mNone\u001b[39;00m:\n\u001b[1;32m    787\u001b[0m     \u001b[38;5;28;01mraise\u001b[39;00m \u001b[38;5;167;01mRuntimeError\u001b[39;00m(\u001b[38;5;124m'\u001b[39m\u001b[38;5;124mAtoms object has no calculator.\u001b[39m\u001b[38;5;124m'\u001b[39m)\n\u001b[0;32m--> 788\u001b[0m forces \u001b[38;5;241m=\u001b[39m \u001b[38;5;28;43mself\u001b[39;49m\u001b[38;5;241;43m.\u001b[39;49m\u001b[43m_calc\u001b[49m\u001b[38;5;241;43m.\u001b[39;49m\u001b[43mget_forces\u001b[49m\u001b[43m(\u001b[49m\u001b[38;5;28;43mself\u001b[39;49m\u001b[43m)\u001b[49m\n\u001b[1;32m    790\u001b[0m \u001b[38;5;28;01mif\u001b[39;00m apply_constraint:\n\u001b[1;32m    791\u001b[0m     \u001b[38;5;66;03m# We need a special md flag here because for MD we want\u001b[39;00m\n\u001b[1;32m    792\u001b[0m     \u001b[38;5;66;03m# to skip real constraints but include special \"constraints\"\u001b[39;00m\n\u001b[1;32m    793\u001b[0m     \u001b[38;5;66;03m# Like Hookean.\u001b[39;00m\n\u001b[1;32m    794\u001b[0m     \u001b[38;5;28;01mfor\u001b[39;00m constraint \u001b[38;5;129;01min\u001b[39;00m \u001b[38;5;28mself\u001b[39m\u001b[38;5;241m.\u001b[39mconstraints:\n",
      "File \u001b[0;32m~/miniconda3/envs/matsci/lib/python3.12/site-packages/ase/calculators/abc.py:23\u001b[0m, in \u001b[0;36mGetPropertiesMixin.get_forces\u001b[0;34m(self, atoms)\u001b[0m\n\u001b[1;32m     22\u001b[0m \u001b[38;5;28;01mdef\u001b[39;00m \u001b[38;5;21mget_forces\u001b[39m(\u001b[38;5;28mself\u001b[39m, atoms\u001b[38;5;241m=\u001b[39m\u001b[38;5;28;01mNone\u001b[39;00m):\n\u001b[0;32m---> 23\u001b[0m     \u001b[38;5;28;01mreturn\u001b[39;00m \u001b[38;5;28;43mself\u001b[39;49m\u001b[38;5;241;43m.\u001b[39;49m\u001b[43mget_property\u001b[49m\u001b[43m(\u001b[49m\u001b[38;5;124;43m'\u001b[39;49m\u001b[38;5;124;43mforces\u001b[39;49m\u001b[38;5;124;43m'\u001b[39;49m\u001b[43m,\u001b[49m\u001b[43m \u001b[49m\u001b[43matoms\u001b[49m\u001b[43m)\u001b[49m\n",
      "File \u001b[0;32m~/miniconda3/envs/matsci/lib/python3.12/site-packages/ase/calculators/calculator.py:737\u001b[0m, in \u001b[0;36mCalculator.get_property\u001b[0;34m(self, name, atoms, allow_calculation)\u001b[0m\n\u001b[1;32m    735\u001b[0m     \u001b[38;5;28;01mif\u001b[39;00m \u001b[38;5;129;01mnot\u001b[39;00m allow_calculation:\n\u001b[1;32m    736\u001b[0m         \u001b[38;5;28;01mreturn\u001b[39;00m \u001b[38;5;28;01mNone\u001b[39;00m\n\u001b[0;32m--> 737\u001b[0m     \u001b[38;5;28;43mself\u001b[39;49m\u001b[38;5;241;43m.\u001b[39;49m\u001b[43mcalculate\u001b[49m\u001b[43m(\u001b[49m\u001b[43matoms\u001b[49m\u001b[43m,\u001b[49m\u001b[43m \u001b[49m\u001b[43m[\u001b[49m\u001b[43mname\u001b[49m\u001b[43m]\u001b[49m\u001b[43m,\u001b[49m\u001b[43m \u001b[49m\u001b[43msystem_changes\u001b[49m\u001b[43m)\u001b[49m\n\u001b[1;32m    739\u001b[0m \u001b[38;5;28;01mif\u001b[39;00m name \u001b[38;5;129;01mnot\u001b[39;00m \u001b[38;5;129;01min\u001b[39;00m \u001b[38;5;28mself\u001b[39m\u001b[38;5;241m.\u001b[39mresults:\n\u001b[1;32m    740\u001b[0m     \u001b[38;5;66;03m# For some reason the calculator was not able to do what we want,\u001b[39;00m\n\u001b[1;32m    741\u001b[0m     \u001b[38;5;66;03m# and that is OK.\u001b[39;00m\n\u001b[1;32m    742\u001b[0m     \u001b[38;5;28;01mraise\u001b[39;00m PropertyNotImplementedError(\u001b[38;5;124m'\u001b[39m\u001b[38;5;132;01m{}\u001b[39;00m\u001b[38;5;124m not present in this \u001b[39m\u001b[38;5;124m'\u001b[39m\n\u001b[1;32m    743\u001b[0m                                       \u001b[38;5;124m'\u001b[39m\u001b[38;5;124mcalculation\u001b[39m\u001b[38;5;124m'\u001b[39m\u001b[38;5;241m.\u001b[39mformat(name))\n",
      "File \u001b[0;32m~/miniconda3/envs/matsci/lib/python3.12/site-packages/ase/calculators/emt.py:160\u001b[0m, in \u001b[0;36mEMT.calculate\u001b[0;34m(self, atoms, properties, system_changes)\u001b[0m\n\u001b[1;32m    158\u001b[0m             Z2 \u001b[38;5;241m=\u001b[39m numbers[a2]\n\u001b[1;32m    159\u001b[0m             p2 \u001b[38;5;241m=\u001b[39m \u001b[38;5;28mself\u001b[39m\u001b[38;5;241m.\u001b[39mpar[Z2]\n\u001b[0;32m--> 160\u001b[0m             \u001b[38;5;28;43mself\u001b[39;49m\u001b[38;5;241;43m.\u001b[39;49m\u001b[43minteract1\u001b[49m\u001b[43m(\u001b[49m\u001b[43ma1\u001b[49m\u001b[43m,\u001b[49m\u001b[43m \u001b[49m\u001b[43ma2\u001b[49m\u001b[43m,\u001b[49m\u001b[43m \u001b[49m\u001b[43md\u001b[49m\u001b[43m,\u001b[49m\u001b[43m \u001b[49m\u001b[43mr\u001b[49m\u001b[43m,\u001b[49m\u001b[43m \u001b[49m\u001b[43mp1\u001b[49m\u001b[43m,\u001b[49m\u001b[43m \u001b[49m\u001b[43mp2\u001b[49m\u001b[43m,\u001b[49m\u001b[43m \u001b[49m\u001b[43mksi\u001b[49m\u001b[43m[\u001b[49m\u001b[43mZ2\u001b[49m\u001b[43m]\u001b[49m\u001b[43m)\u001b[49m\n\u001b[1;32m    162\u001b[0m \u001b[38;5;28;01mfor\u001b[39;00m a \u001b[38;5;129;01min\u001b[39;00m \u001b[38;5;28mrange\u001b[39m(natoms):\n\u001b[1;32m    163\u001b[0m     Z \u001b[38;5;241m=\u001b[39m numbers[a]\n",
      "File \u001b[0;32m~/miniconda3/envs/matsci/lib/python3.12/site-packages/ase/calculators/emt.py:222\u001b[0m, in \u001b[0;36mEMT.interact1\u001b[0;34m(self, a1, a2, d, r, p1, p2, ksi)\u001b[0m\n\u001b[1;32m    220\u001b[0m \u001b[38;5;28mself\u001b[39m\u001b[38;5;241m.\u001b[39mforces[a1] \u001b[38;5;241m+\u001b[39m\u001b[38;5;241m=\u001b[39m f\n\u001b[1;32m    221\u001b[0m \u001b[38;5;28mself\u001b[39m\u001b[38;5;241m.\u001b[39mforces[a2] \u001b[38;5;241m-\u001b[39m\u001b[38;5;241m=\u001b[39m f\n\u001b[0;32m--> 222\u001b[0m \u001b[38;5;28mself\u001b[39m\u001b[38;5;241m.\u001b[39mstress \u001b[38;5;241m-\u001b[39m\u001b[38;5;241m=\u001b[39m \u001b[43mnp\u001b[49m\u001b[38;5;241;43m.\u001b[39;49m\u001b[43mouter\u001b[49m\u001b[43m(\u001b[49m\u001b[43mf\u001b[49m\u001b[43m,\u001b[49m\u001b[43m \u001b[49m\u001b[43md\u001b[49m\u001b[43m)\u001b[49m\n\u001b[1;32m    223\u001b[0m \u001b[38;5;28mself\u001b[39m\u001b[38;5;241m.\u001b[39msigma1[a1] \u001b[38;5;241m+\u001b[39m\u001b[38;5;241m=\u001b[39m (exp(\u001b[38;5;241m-\u001b[39mp2[\u001b[38;5;124m'\u001b[39m\u001b[38;5;124meta2\u001b[39m\u001b[38;5;124m'\u001b[39m] \u001b[38;5;241m*\u001b[39m (r \u001b[38;5;241m-\u001b[39m beta \u001b[38;5;241m*\u001b[39m p2[\u001b[38;5;124m'\u001b[39m\u001b[38;5;124ms0\u001b[39m\u001b[38;5;124m'\u001b[39m])) \u001b[38;5;241m*\u001b[39m\n\u001b[1;32m    224\u001b[0m                     ksi \u001b[38;5;241m*\u001b[39m theta \u001b[38;5;241m/\u001b[39m p1[\u001b[38;5;124m'\u001b[39m\u001b[38;5;124mgamma1\u001b[39m\u001b[38;5;124m'\u001b[39m])\n\u001b[1;32m    225\u001b[0m \u001b[38;5;28mself\u001b[39m\u001b[38;5;241m.\u001b[39msigma1[a2] \u001b[38;5;241m+\u001b[39m\u001b[38;5;241m=\u001b[39m (exp(\u001b[38;5;241m-\u001b[39mp1[\u001b[38;5;124m'\u001b[39m\u001b[38;5;124meta2\u001b[39m\u001b[38;5;124m'\u001b[39m] \u001b[38;5;241m*\u001b[39m (r \u001b[38;5;241m-\u001b[39m beta \u001b[38;5;241m*\u001b[39m p1[\u001b[38;5;124m'\u001b[39m\u001b[38;5;124ms0\u001b[39m\u001b[38;5;124m'\u001b[39m])) \u001b[38;5;241m/\u001b[39m\n\u001b[1;32m    226\u001b[0m                     ksi \u001b[38;5;241m*\u001b[39m theta \u001b[38;5;241m/\u001b[39m p2[\u001b[38;5;124m'\u001b[39m\u001b[38;5;124mgamma1\u001b[39m\u001b[38;5;124m'\u001b[39m])\n",
      "File \u001b[0;32m~/miniconda3/envs/matsci/lib/python3.12/site-packages/numpy/core/numeric.py:925\u001b[0m, in \u001b[0;36mouter\u001b[0;34m(a, b, out)\u001b[0m\n\u001b[1;32m    923\u001b[0m a \u001b[38;5;241m=\u001b[39m asarray(a)\n\u001b[1;32m    924\u001b[0m b \u001b[38;5;241m=\u001b[39m asarray(b)\n\u001b[0;32m--> 925\u001b[0m \u001b[38;5;28;01mreturn\u001b[39;00m \u001b[43mmultiply\u001b[49m\u001b[43m(\u001b[49m\u001b[43ma\u001b[49m\u001b[38;5;241;43m.\u001b[39;49m\u001b[43mravel\u001b[49m\u001b[43m(\u001b[49m\u001b[43m)\u001b[49m\u001b[43m[\u001b[49m\u001b[43m:\u001b[49m\u001b[43m,\u001b[49m\u001b[43m \u001b[49m\u001b[43mnewaxis\u001b[49m\u001b[43m]\u001b[49m\u001b[43m,\u001b[49m\u001b[43m \u001b[49m\u001b[43mb\u001b[49m\u001b[38;5;241;43m.\u001b[39;49m\u001b[43mravel\u001b[49m\u001b[43m(\u001b[49m\u001b[43m)\u001b[49m\u001b[43m[\u001b[49m\u001b[43mnewaxis\u001b[49m\u001b[43m,\u001b[49m\u001b[43m \u001b[49m\u001b[43m:\u001b[49m\u001b[43m]\u001b[49m\u001b[43m,\u001b[49m\u001b[43m \u001b[49m\u001b[43mout\u001b[49m\u001b[43m)\u001b[49m\n",
      "\u001b[0;31mKeyboardInterrupt\u001b[0m: "
     ]
    }
   ],
   "source": [
    "import os\n",
    "from ase.calculators.emt import EMT\n",
    "calculator = EMT()\n",
    "\n",
    "from ase.build import bulk\n",
    "from ase.md.velocitydistribution import MaxwellBoltzmannDistribution,Stationary\n",
    "from ase.md.verlet import VelocityVerlet\n",
    "from ase.md import MDLogger\n",
    "from ase import units\n",
    "from time import perf_counter\n",
    "import numpy as np\n",
    "\n",
    "# Set up a fcc-Al crystal\n",
    "atoms = bulk(\"Al\",\"fcc\",a=4.3,cubic=True)\n",
    "atoms.pbc = True\n",
    "atoms *= 3\n",
    "print(\"atoms = \",atoms)\n",
    "\n",
    "# Set calculator (EMT in this case)\n",
    "atoms.calc = calculator\n",
    "\n",
    "# input parameters\n",
    "time_step    = 1.0      # MD step size in fsec\n",
    "temperature  = 1600     # Temperature in Kelvin\n",
    "num_md_steps = 100000   # Total number of MD steps\n",
    "num_interval = 1000     # Print out interval for .log and .traj\n",
    "\n",
    "# Set the momenta corresponding to the given \"temperature\"\n",
    "MaxwellBoltzmannDistribution(atoms, temperature_K=temperature,force_temp=True)\n",
    "Stationary(atoms)  # Set zero total momentum to avoid drifting\n",
    "\n",
    "# Set output filenames\n",
    "output_filename = \"./al\"\n",
    "log_filename = output_filename + \".log\"\n",
    "print(\"log_filename = \",log_filename)\n",
    "traj_filename = output_filename + \".traj\"\n",
    "print(\"traj_filename = \",traj_filename)\n",
    "\n",
    "# Remove old files if they exist\n",
    "if os.path.exists(log_filename): os.remove(log_filename)\n",
    "if os.path.exists(traj_filename): os.remove(traj_filename)\n",
    "\n",
    "# Define the MD dynamics class object\n",
    "dyn = VelocityVerlet(atoms,\n",
    "                     time_step * units.fs,\n",
    "                     trajectory = traj_filename,\n",
    "                     loginterval=num_interval\n",
    "                    )\n",
    "\n",
    "# Print statements\n",
    "def print_dyn():\n",
    "    imd = dyn.get_number_of_steps()\n",
    "    time_md = time_step*imd\n",
    "    etot  = atoms.get_total_energy()\n",
    "    ekin  = atoms.get_kinetic_energy()\n",
    "    epot  = atoms.get_potential_energy()\n",
    "    temp_K = atoms.get_temperature()\n",
    "    print(f\"   {imd: >3}     {etot:.9f}     {ekin:.9f}    {epot:.9f}   {temp_K:.2f}\")\n",
    "\n",
    "dyn.attach(print_dyn, interval=num_interval)\n",
    "\n",
    "# Set MD logger\n",
    "dyn.attach(MDLogger(dyn, atoms, log_filename, header=True, stress=False,peratom=False, mode=\"w\"), interval=num_interval)\n",
    "\n",
    "# Now run MD simulation\n",
    "print(f\"\\n    imd     Etot(eV)    Ekin(eV)    Epot(eV)    T(K)\")\n",
    "dyn.run(num_md_steps)\n",
    "\n",
    "print(\"\\nNormal termination of the MD run!\")"
   ]
  },
  {
   "cell_type": "code",
   "execution_count": 2,
   "metadata": {},
   "outputs": [
    {
     "name": "stdout",
     "output_type": "stream",
     "text": [
      "log_filename =  ./al.log\n"
     ]
    }
   ],
   "source": [
    "from ase.io import Trajectory\n",
    "\n",
    "output_filename = \"./al\"\n",
    "log_filename = output_filename + \".log\"\n",
    "print(\"log_filename = \",log_filename)\n",
    "traj_filename = output_filename + \".traj\"\n",
    "\n",
    "traj = Trajectory(traj_filename)\n",
    "\n",
    "\n"
   ]
  },
  {
   "cell_type": "code",
   "execution_count": 6,
   "metadata": {},
   "outputs": [
    {
     "data": {
      "application/vnd.jupyter.widget-view+json": {
       "model_id": "a552540dff7749d994921a4b8da31ab7",
       "version_major": 2,
       "version_minor": 0
      },
      "text/plain": [
       "HBox(children=(NGLWidget(max_frame=100), VBox(children=(Dropdown(description='Show', options=('All', 'Al'), va…"
      ]
     },
     "execution_count": 6,
     "metadata": {},
     "output_type": "execute_result"
    }
   ],
   "source": [
    "from ase.visualize import view\n",
    "\n",
    "view(traj, viewer='ngl')\n"
   ]
  }
 ],
 "metadata": {
  "kernelspec": {
   "display_name": "matsci",
   "language": "python",
   "name": "python3"
  },
  "language_info": {
   "codemirror_mode": {
    "name": "ipython",
    "version": 3
   },
   "file_extension": ".py",
   "mimetype": "text/x-python",
   "name": "python",
   "nbconvert_exporter": "python",
   "pygments_lexer": "ipython3",
   "version": "3.12.9"
  }
 },
 "nbformat": 4,
 "nbformat_minor": 2
}
