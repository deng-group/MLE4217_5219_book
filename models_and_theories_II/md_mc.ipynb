{
 "cells": [
  {
   "cell_type": "markdown",
   "metadata": {},
   "source": [
    "# Practical: MD and MC\n",
    "\n",
    "In this practical, we will learn how to run MD simulations using ASE. We will also learn how to write a Monte Carlo code running a Ising model simulation."
   ]
  },
  {
   "cell_type": "markdown",
   "metadata": {},
   "source": [
    "## Molecular Dynamics: Cu Melting\n",
    "In this example, we will learn how to use molecular dynamics to simulate the melting of a copper crystal. We will use the EMT potential to describe the interactions between the atoms.\n",
    "\n",
    "It's better to install the ASAP3 package to run the EMT potential, which is faster than the implementation in ASE. You can run the code below to install this package."
   ]
  },
  {
   "cell_type": "code",
   "execution_count": null,
   "metadata": {},
   "outputs": [],
   "source": [
    "!pip install --upgrade asap3"
   ]
  },
  {
   "cell_type": "markdown",
   "metadata": {},
   "source": [
    "The code has following steps:\n",
    "1. Create a copper crystal.\n",
    "2. Define the EMT potential.\n",
    "3. Run the molecular dynamics simulation using `VelocityVerlet` algorithm. (NVE ensemble)\n",
    "4. `MDLogger` to log the temperature and energy of the system.\n",
    "5. Save the trajectory of the simulation."
   ]
  },
  {
   "cell_type": "code",
   "execution_count": null,
   "metadata": {},
   "outputs": [],
   "source": [
    "import os\n",
    "from asap3 import EMT\n",
    "\n",
    "from ase.build import bulk\n",
    "from ase.md.velocitydistribution import MaxwellBoltzmannDistribution,Stationary\n",
    "from ase.md.verlet import VelocityVerlet\n",
    "from ase.md.nvtberendsen import NVTBerendsen\n",
    "from ase.md import MDLogger\n",
    "from ase import units\n",
    "from time import perf_counter\n",
    "import numpy as np\n",
    "\n",
    "\n",
    "# Set up a fcc-Cu crystal\n",
    "atoms = bulk(\"Cu\", \"fcc\", cubic=True, a=3.615)\n",
    "atoms.pbc = True\n",
    "atoms *= 3 # 3x3x3 supercell\n",
    "print(\"atoms = \",atoms)\n",
    "\n",
    "# Set calculator (EMT in this case)\n",
    "calculator = EMT()\n",
    "atoms.calc = calculator\n",
    "\n",
    "# input parameters\n",
    "time_step    = 1.0      # MD step size in fsec\n",
    "temperature  = 2000     # Temperature in Kelvin\n",
    "num_md_steps = 100000   # Total number of MD steps\n",
    "num_interval = 1000     # Print out interval for .log and .traj\n",
    "\n",
    "# Set the momenta corresponding to the given \"temperature\"\n",
    "MaxwellBoltzmannDistribution(atoms, temperature_K=temperature,force_temp=True)\n",
    "Stationary(atoms)  # Set zero total momentum to avoid drifting\n",
    "\n",
    "# Set output filenames\n",
    "output_filename = \"./Cu_fcc_3x3x3\"\n",
    "log_filename = output_filename + \".log\"\n",
    "print(\"log_filename = \",log_filename)\n",
    "traj_filename = output_filename + \".traj\"\n",
    "print(\"traj_filename = \",traj_filename)\n",
    "\n",
    "# Remove old files if they exist\n",
    "if os.path.exists(log_filename): os.remove(log_filename)\n",
    "if os.path.exists(traj_filename): os.remove(traj_filename)\n",
    "\n",
    "# Define the MD dynamics class object\n",
    "# dyn = VelocityVerlet(atoms,\n",
    "#                      time_step * units.fs,\n",
    "#                      trajectory = traj_filename,\n",
    "#                      loginterval=num_interval\n",
    "#                     )\n",
    "\n",
    "dyn = NVTBerendsen(atoms,\n",
    "                   time_step * units.fs,\n",
    "                   temperature_K=temperature,\n",
    "                   taut=100.0 * units.fs,\n",
    "                   trajectory = traj_filename,\n",
    "                   loginterval=num_interval\n",
    "                  )\n",
    "# Print statements\n",
    "def print_dyn():\n",
    "    imd = dyn.get_number_of_steps()\n",
    "    time_md = time_step*imd\n",
    "    etot  = atoms.get_total_energy()\n",
    "    ekin  = atoms.get_kinetic_energy()\n",
    "    epot  = atoms.get_potential_energy()\n",
    "    temp_K = atoms.get_temperature()\n",
    "    print(f\"   {imd: >3}     {etot:.9f}     {ekin:.9f}    {epot:.9f}   {temp_K:.2f}\")\n",
    "\n",
    "dyn.attach(print_dyn, interval=num_interval)\n",
    "\n",
    "# Set MD logger\n",
    "dyn.attach(MDLogger(dyn, atoms, log_filename, header=True, stress=False,peratom=False, mode=\"w\"), interval=num_interval)\n",
    "\n",
    "# Now run MD simulation\n",
    "print(f\"\\n    imd     Etot(eV)    Ekin(eV)    Epot(eV)    T(K)\")\n",
    "dyn.run(num_md_steps)\n",
    "\n",
    "print(\"\\nNormal termination of the MD run!\")\n"
   ]
  },
  {
   "cell_type": "markdown",
   "metadata": {},
   "source": [
    "You can load the log file using pandas and see the evolution of the temperature and energy of the system."
   ]
  },
  {
   "cell_type": "code",
   "execution_count": 17,
   "metadata": {},
   "outputs": [
    {
     "name": "stderr",
     "output_type": "stream",
     "text": [
      "/var/folders/b4/hm0mlm2x6_g1cbpp4c29f62h0000gn/T/ipykernel_33312/510401485.py:3: FutureWarning: The 'delim_whitespace' keyword in pd.read_csv is deprecated and will be removed in a future version. Use ``sep='\\s+'`` instead\n",
      "  df = pd.read_csv(log_filename, delim_whitespace=True)\n"
     ]
    },
    {
     "data": {
      "application/vnd.microsoft.datawrangler.viewer.v0+json": {
       "columns": [
        {
         "name": "index",
         "rawType": "int64",
         "type": "integer"
        },
        {
         "name": "Time[ps]",
         "rawType": "float64",
         "type": "float"
        },
        {
         "name": "Etot[eV]",
         "rawType": "float64",
         "type": "float"
        },
        {
         "name": "Epot[eV]",
         "rawType": "float64",
         "type": "float"
        },
        {
         "name": "Ekin[eV]",
         "rawType": "float64",
         "type": "float"
        },
        {
         "name": "T[K]",
         "rawType": "float64",
         "type": "float"
        }
       ],
       "conversionMethod": "pd.DataFrame",
       "ref": "eddd91fe-c4df-422d-b519-5c08454a1500",
       "rows": [
        [
         "0",
         "0.0",
         "129.286",
         "0.026",
         "129.26",
         "2000.0"
        ],
        [
         "1",
         "1.0",
         "257.191",
         "128.581",
         "128.61",
         "1989.9"
        ],
        [
         "2",
         "2.0",
         "258.74",
         "127.844",
         "130.897",
         "2025.3"
        ],
        [
         "3",
         "3.0",
         "258.273",
         "127.815",
         "130.457",
         "2018.5"
        ],
        [
         "4",
         "4.0",
         "258.298",
         "125.821",
         "132.477",
         "2049.8"
        ],
        [
         "5",
         "5.0",
         "260.548",
         "132.683",
         "127.865",
         "1978.4"
        ],
        [
         "6",
         "6.0",
         "258.76",
         "130.317",
         "128.444",
         "1987.4"
        ],
        [
         "7",
         "7.0",
         "258.902",
         "127.308",
         "131.594",
         "2036.1"
        ],
        [
         "8",
         "8.0",
         "259.014",
         "129.751",
         "129.263",
         "2000.0"
        ],
        [
         "9",
         "9.0",
         "261.189",
         "133.886",
         "127.303",
         "1969.7"
        ],
        [
         "10",
         "10.0",
         "259.745",
         "128.271",
         "131.474",
         "2034.3"
        ],
        [
         "11",
         "11.0",
         "256.072",
         "121.741",
         "134.331",
         "2078.5"
        ],
        [
         "12",
         "12.0",
         "260.547",
         "131.754",
         "128.793",
         "1992.8"
        ],
        [
         "13",
         "13.0",
         "260.77",
         "132.112",
         "128.658",
         "1990.7"
        ],
        [
         "14",
         "14.0",
         "260.252",
         "131.903",
         "128.349",
         "1985.9"
        ],
        [
         "15",
         "15.0",
         "257.732",
         "127.62",
         "130.112",
         "2013.2"
        ],
        [
         "16",
         "16.0",
         "258.745",
         "130.673",
         "128.072",
         "1981.6"
        ],
        [
         "17",
         "17.0",
         "259.416",
         "132.938",
         "126.478",
         "1957.0"
        ],
        [
         "18",
         "18.0",
         "258.126",
         "129.661",
         "128.465",
         "1987.7"
        ],
        [
         "19",
         "19.0",
         "259.697",
         "126.637",
         "133.061",
         "2058.8"
        ],
        [
         "20",
         "20.0",
         "259.536",
         "131.724",
         "127.812",
         "1977.6"
        ],
        [
         "21",
         "21.0",
         "259.757",
         "131.892",
         "127.865",
         "1978.4"
        ],
        [
         "22",
         "22.0",
         "259.932",
         "127.664",
         "132.267",
         "2046.5"
        ],
        [
         "23",
         "23.0",
         "259.174",
         "127.494",
         "131.68",
         "2037.4"
        ],
        [
         "24",
         "24.0",
         "260.286",
         "135.15",
         "125.136",
         "1936.2"
        ],
        [
         "25",
         "25.0",
         "258.698",
         "133.322",
         "125.377",
         "1939.9"
        ],
        [
         "26",
         "26.0",
         "258.204",
         "130.51",
         "127.694",
         "1975.8"
        ],
        [
         "27",
         "27.0",
         "259.333",
         "130.369",
         "128.963",
         "1995.4"
        ],
        [
         "28",
         "28.0",
         "261.402",
         "131.07",
         "130.332",
         "2016.6"
        ],
        [
         "29",
         "29.0",
         "259.6",
         "125.418",
         "134.181",
         "2076.1"
        ],
        [
         "30",
         "30.0",
         "259.902",
         "127.801",
         "132.102",
         "2044.0"
        ],
        [
         "31",
         "31.0",
         "259.925",
         "129.181",
         "130.745",
         "2023.0"
        ],
        [
         "32",
         "32.0",
         "259.881",
         "132.969",
         "126.913",
         "1963.7"
        ],
        [
         "33",
         "33.0",
         "258.734",
         "129.316",
         "129.417",
         "2002.4"
        ],
        [
         "34",
         "34.0",
         "259.203",
         "128.898",
         "130.305",
         "2016.2"
        ],
        [
         "35",
         "35.0",
         "259.09",
         "129.433",
         "129.657",
         "2006.1"
        ],
        [
         "36",
         "36.0",
         "260.824",
         "131.92",
         "128.904",
         "1994.5"
        ],
        [
         "37",
         "37.0",
         "257.909",
         "126.727",
         "131.183",
         "2029.8"
        ],
        [
         "38",
         "38.0",
         "258.255",
         "132.176",
         "126.079",
         "1950.8"
        ],
        [
         "39",
         "39.0",
         "257.712",
         "129.11",
         "128.602",
         "1989.8"
        ],
        [
         "40",
         "40.0",
         "261.113",
         "138.081",
         "123.032",
         "1903.6"
        ],
        [
         "41",
         "41.0",
         "258.547",
         "123.772",
         "134.775",
         "2085.3"
        ],
        [
         "42",
         "42.0",
         "258.733",
         "135.847",
         "122.886",
         "1901.4"
        ],
        [
         "43",
         "43.0",
         "259.451",
         "130.582",
         "128.869",
         "1994.0"
        ],
        [
         "44",
         "44.0",
         "259.44",
         "131.291",
         "128.149",
         "1982.8"
        ],
        [
         "45",
         "45.0",
         "257.581",
         "137.112",
         "120.469",
         "1864.0"
        ],
        [
         "46",
         "46.0",
         "258.858",
         "127.987",
         "130.871",
         "2024.9"
        ],
        [
         "47",
         "47.0",
         "258.894",
         "136.108",
         "122.786",
         "1899.8"
        ],
        [
         "48",
         "48.0",
         "260.47",
         "130.144",
         "130.325",
         "2016.5"
        ],
        [
         "49",
         "49.0",
         "258.758",
         "129.144",
         "129.614",
         "2005.5"
        ]
       ],
       "shape": {
        "columns": 5,
        "rows": 101
       }
      },
      "text/html": [
       "<div>\n",
       "<style scoped>\n",
       "    .dataframe tbody tr th:only-of-type {\n",
       "        vertical-align: middle;\n",
       "    }\n",
       "\n",
       "    .dataframe tbody tr th {\n",
       "        vertical-align: top;\n",
       "    }\n",
       "\n",
       "    .dataframe thead th {\n",
       "        text-align: right;\n",
       "    }\n",
       "</style>\n",
       "<table border=\"1\" class=\"dataframe\">\n",
       "  <thead>\n",
       "    <tr style=\"text-align: right;\">\n",
       "      <th></th>\n",
       "      <th>Time[ps]</th>\n",
       "      <th>Etot[eV]</th>\n",
       "      <th>Epot[eV]</th>\n",
       "      <th>Ekin[eV]</th>\n",
       "      <th>T[K]</th>\n",
       "    </tr>\n",
       "  </thead>\n",
       "  <tbody>\n",
       "    <tr>\n",
       "      <th>0</th>\n",
       "      <td>0.0</td>\n",
       "      <td>129.286</td>\n",
       "      <td>0.026</td>\n",
       "      <td>129.260</td>\n",
       "      <td>2000.0</td>\n",
       "    </tr>\n",
       "    <tr>\n",
       "      <th>1</th>\n",
       "      <td>1.0</td>\n",
       "      <td>257.191</td>\n",
       "      <td>128.581</td>\n",
       "      <td>128.610</td>\n",
       "      <td>1989.9</td>\n",
       "    </tr>\n",
       "    <tr>\n",
       "      <th>2</th>\n",
       "      <td>2.0</td>\n",
       "      <td>258.740</td>\n",
       "      <td>127.844</td>\n",
       "      <td>130.897</td>\n",
       "      <td>2025.3</td>\n",
       "    </tr>\n",
       "    <tr>\n",
       "      <th>3</th>\n",
       "      <td>3.0</td>\n",
       "      <td>258.273</td>\n",
       "      <td>127.815</td>\n",
       "      <td>130.457</td>\n",
       "      <td>2018.5</td>\n",
       "    </tr>\n",
       "    <tr>\n",
       "      <th>4</th>\n",
       "      <td>4.0</td>\n",
       "      <td>258.298</td>\n",
       "      <td>125.821</td>\n",
       "      <td>132.477</td>\n",
       "      <td>2049.8</td>\n",
       "    </tr>\n",
       "    <tr>\n",
       "      <th>...</th>\n",
       "      <td>...</td>\n",
       "      <td>...</td>\n",
       "      <td>...</td>\n",
       "      <td>...</td>\n",
       "      <td>...</td>\n",
       "    </tr>\n",
       "    <tr>\n",
       "      <th>96</th>\n",
       "      <td>96.0</td>\n",
       "      <td>260.926</td>\n",
       "      <td>131.124</td>\n",
       "      <td>129.802</td>\n",
       "      <td>2008.4</td>\n",
       "    </tr>\n",
       "    <tr>\n",
       "      <th>97</th>\n",
       "      <td>97.0</td>\n",
       "      <td>259.524</td>\n",
       "      <td>130.503</td>\n",
       "      <td>129.021</td>\n",
       "      <td>1996.3</td>\n",
       "    </tr>\n",
       "    <tr>\n",
       "      <th>98</th>\n",
       "      <td>98.0</td>\n",
       "      <td>258.748</td>\n",
       "      <td>132.956</td>\n",
       "      <td>125.792</td>\n",
       "      <td>1946.3</td>\n",
       "    </tr>\n",
       "    <tr>\n",
       "      <th>99</th>\n",
       "      <td>99.0</td>\n",
       "      <td>259.246</td>\n",
       "      <td>130.850</td>\n",
       "      <td>128.395</td>\n",
       "      <td>1986.6</td>\n",
       "    </tr>\n",
       "    <tr>\n",
       "      <th>100</th>\n",
       "      <td>100.0</td>\n",
       "      <td>258.466</td>\n",
       "      <td>130.492</td>\n",
       "      <td>127.974</td>\n",
       "      <td>1980.1</td>\n",
       "    </tr>\n",
       "  </tbody>\n",
       "</table>\n",
       "<p>101 rows × 5 columns</p>\n",
       "</div>"
      ],
      "text/plain": [
       "     Time[ps]  Etot[eV]  Epot[eV]  Ekin[eV]    T[K]\n",
       "0         0.0   129.286     0.026   129.260  2000.0\n",
       "1         1.0   257.191   128.581   128.610  1989.9\n",
       "2         2.0   258.740   127.844   130.897  2025.3\n",
       "3         3.0   258.273   127.815   130.457  2018.5\n",
       "4         4.0   258.298   125.821   132.477  2049.8\n",
       "..        ...       ...       ...       ...     ...\n",
       "96       96.0   260.926   131.124   129.802  2008.4\n",
       "97       97.0   259.524   130.503   129.021  1996.3\n",
       "98       98.0   258.748   132.956   125.792  1946.3\n",
       "99       99.0   259.246   130.850   128.395  1986.6\n",
       "100     100.0   258.466   130.492   127.974  1980.1\n",
       "\n",
       "[101 rows x 5 columns]"
      ]
     },
     "execution_count": 17,
     "metadata": {},
     "output_type": "execute_result"
    }
   ],
   "source": [
    "import pandas as pd\n",
    "\n",
    "df = pd.read_csv(log_filename, delim_whitespace=True)\n",
    "df"
   ]
  },
  {
   "cell_type": "markdown",
   "metadata": {},
   "source": [
    "You can plot the results using matplotlib."
   ]
  },
  {
   "cell_type": "code",
   "execution_count": 18,
   "metadata": {},
   "outputs": [
    {
     "data": {
      "image/png": "[encoded data removed]",
      "text/plain": [
       "<Figure size 1000x500 with 4 Axes>"
      ]
     },
     "metadata": {},
     "output_type": "display_data"
    }
   ],
   "source": [
    "import numpy as np\n",
    "import matplotlib.pyplot as plt\n",
    "\n",
    "\n",
    "fig = plt.figure(figsize=(10, 5))\n",
    "\n",
    "#color = 'tab:grey'\n",
    "ax1 = fig.add_subplot(4, 1, 1)\n",
    "ax1.set_xticklabels([])\n",
    "ax1.set_ylabel('Tot E (eV)')\n",
    "ax1.plot(df[\"Time[ps]\"], df[\"Etot[eV]\"], color=\"blue\",alpha=0.5)\n",
    "\n",
    "ax2 = fig.add_subplot(4, 1, 2)\n",
    "ax2.set_xticklabels([])\n",
    "ax2.set_ylabel('P.E. (eV)')\n",
    "ax2.plot(df[\"Time[ps]\"], df[\"Epot[eV]\"], color=\"green\",alpha=0.5)\n",
    "\n",
    "ax3 = fig.add_subplot(4, 1, 3)\n",
    "ax3.set_xticklabels([])\n",
    "ax3.set_ylabel('K.E. (eV)')\n",
    "ax3.plot(df[\"Time[ps]\"], df[\"Ekin[eV]\"], color=\"orange\",alpha=0.5)\n",
    "\n",
    "ax4 = fig.add_subplot(4, 1, 4)\n",
    "ax4.set_xlabel('time (ps)')\n",
    "ax4.set_ylabel('Temp. (K)')\n",
    "ax4.plot(df[\"Time[ps]\"], df[\"T[K]\"], color=\"red\",alpha=0.5)\n",
    "\n",
    "fig.suptitle(\"Total energy, potential, and kinetic energies, and temperature.\", y=0)\n",
    "\n",
    "plt.show()\n"
   ]
  },
  {
   "cell_type": "markdown",
   "metadata": {},
   "source": [
    "### Visualizing the simulation\n",
    "We can use ase-gui to visualize our results."
   ]
  },
  {
   "cell_type": "code",
   "execution_count": 19,
   "metadata": {},
   "outputs": [
    {
     "name": "stdout",
     "output_type": "stream",
     "text": [
      "2025-03-12 02:59:23.425 Python[35146:490314] +[IMKClient subclass]: chose IMKClient_Modern\n",
      "2025-03-12 02:59:23.425 Python[35146:490314] +[IMKInputSession subclass]: chose IMKInputSession_Modern\n"
     ]
    }
   ],
   "source": [
    "!ase gui Cu_fcc_3x3x3.traj"
   ]
  },
  {
   "cell_type": "markdown",
   "metadata": {},
   "source": [
    "## Molecular Dynamics: Thermal Expansion of Cu\n",
    "In this example, we will learn how to use molecular dynamics to simulate the thermal expansion of a copper crystal. We will use the EMT potential to describe the interactions between the atoms."
   ]
  },
  {
   "cell_type": "code",
   "execution_count": null,
   "metadata": {},
   "outputs": [],
   "source": [
    "import ase\n",
    "from ase.build import bulk\n",
    "from ase.md.velocitydistribution import MaxwellBoltzmannDistribution,Stationary\n",
    "from ase.md.npt import NPT\n",
    "from ase.md import MDLogger\n",
    "from ase import units\n",
    "from time import perf_counter\n",
    "\n",
    "\n",
    "# ASAP3-EMT calculator\n",
    "from asap3 import EMT\n",
    "calculator = EMT()\n",
    "\n",
    "\n",
    "# Set up a crystal\n",
    "atoms_in = bulk(\"Cu\",cubic=True)\n",
    "atoms_in *= 3\n",
    "atoms_in.pbc = True\n",
    "print(\"atoms_in = \",atoms_in)\n",
    "\n",
    "# input parameters\n",
    "time_step    = 1.0    # fsec\n",
    "#temperature = 300    # Kelvin\n",
    "num_md_steps = 20000\n",
    "num_interval = 10\n",
    "\n",
    "sigma   = 1.0     # External pressure in bar\n",
    "ttime   = 20.0    # Time constant in fs\n",
    "pfactor = 2e6     # Barostat parameter in GPa\n",
    "temperature_list = [200,300,400,500,600,700,800,900,1000]\n",
    "\n",
    "# Print statements\n",
    "def print_dyn():\n",
    "    imd = dyn.get_number_of_steps()\n",
    "    etot  = atoms.get_total_energy()\n",
    "    temp_K = atoms.get_temperature()\n",
    "    stress = atoms.get_stress(include_ideal_gas=True)/units.GPa\n",
    "    stress_ave = (stress[0]+stress[1]+stress[2])/3.0\n",
    "    elapsed_time = perf_counter() - start_time\n",
    "    print(f\"  {imd: >3}   {etot:.3f}    {temp_K:.2f}    {stress_ave:.2f}  {stress[0]:.2f}  {stress[1]:.2f}  {stress[2]:.2f}  {stress[3]:.2f}  {stress[4]:.2f}  {stress[5]:.2f}    {elapsed_time:.3f}\")\n",
    "\n",
    "\n",
    "# run MD\n",
    "for i,temperature in enumerate(temperature_list):\n",
    "    print(\"i,temperature = \",i,temperature)\n",
    "\n",
    "    print(f\"sigma = {sigma:.1e} bar\")\n",
    "    print(f\"ttime = {ttime:.3f} fs\")\n",
    "    print(f\"pfactor = {pfactor:.3f} GPa*fs^2\")\n",
    "\n",
    "    temperature_str = str(int(temperature)).zfill(4)\n",
    "    output_filename = f\"./fcc-Cu_3x3x3_NPT_EMT_{temperature_str}K\"\n",
    "    log_filename = output_filename + \".log\"\n",
    "    traj_filename = output_filename + \".traj\"\n",
    "    print(\"log_filename = \",log_filename)\n",
    "    print(\"traj_filename = \",traj_filename)\n",
    "\n",
    "    atoms = atoms_in.copy()\n",
    "    atoms.calc = calculator\n",
    "\n",
    "    # Set the momenta corresponding to T=300K\n",
    "    MaxwellBoltzmannDistribution(atoms, temperature_K=temperature,force_temp=True)\n",
    "    Stationary(atoms)\n",
    "\n",
    "    dyn = NPT(atoms,\n",
    "          time_step*units.fs,\n",
    "          temperature_K = temperature,\n",
    "          externalstress = sigma*units.bar,\n",
    "          ttime = ttime*units.fs,\n",
    "          pfactor = pfactor*units.GPa*(units.fs**2),\n",
    "          logfile = log_filename,\n",
    "          trajectory = traj_filename,\n",
    "          loginterval=num_interval\n",
    "          )\n",
    "\n",
    "    print_interval = 1000\n",
    "    dyn.attach(print_dyn, interval=print_interval)\n",
    "    dyn.attach(MDLogger(dyn, atoms, log_filename, header=True, stress=True, peratom=True, mode=\"a\"), interval=num_interval)\n",
    "\n",
    "    # Now run the dynamics\n",
    "    start_time = perf_counter()\n",
    "    print(f\"    imd     Etot(eV)    T(K)    stress(mean,xx,yy,zz,yz,xz,xy)(GPa)  elapsed_time(sec)\")\n",
    "    dyn.run(num_md_steps)"
   ]
  },
  {
   "cell_type": "code",
   "execution_count": 24,
   "metadata": {},
   "outputs": [
    {
     "name": "stdout",
     "output_type": "stream",
     "text": [
      "2025-03-12 03:04:21.775 Python[35708:497125] +[IMKClient subclass]: chose IMKClient_Modern\n",
      "2025-03-12 03:04:21.775 Python[35708:497125] +[IMKInputSession subclass]: chose IMKInputSession_Modern\n"
     ]
    }
   ],
   "source": [
    "!ase gui fcc-Cu_3x3x3_NPT_EMT_1000K.traj"
   ]
  },
  {
   "cell_type": "code",
   "execution_count": null,
   "metadata": {},
   "outputs": [
    {
     "ename": "AttributeError",
     "evalue": "'str' object has no attribute 'stem'",
     "output_type": "error",
     "traceback": [
      "\u001b[0;31m---------------------------------------------------------------------------\u001b[0m",
      "\u001b[0;31mAttributeError\u001b[0m                            Traceback (most recent call last)",
      "Cell \u001b[0;32mIn[26], line 11\u001b[0m\n\u001b[1;32m      8\u001b[0m path_list \u001b[38;5;241m=\u001b[39m \u001b[38;5;28msorted\u001b[39m([ p \u001b[38;5;28;01mfor\u001b[39;00m p \u001b[38;5;129;01min\u001b[39;00m paths ])\n\u001b[1;32m     10\u001b[0m \u001b[38;5;66;03m# Temperature list extracted from the filename\u001b[39;00m\n\u001b[0;32m---> 11\u001b[0m temperature \u001b[38;5;241m=\u001b[39m [ \u001b[38;5;28mfloat\u001b[39m(\u001b[43mp\u001b[49m\u001b[38;5;241;43m.\u001b[39;49m\u001b[43mstem\u001b[49m\u001b[38;5;241m.\u001b[39msplit(\u001b[38;5;124m\"\u001b[39m\u001b[38;5;124m_\u001b[39m\u001b[38;5;124m\"\u001b[39m)[\u001b[38;5;241m-\u001b[39m\u001b[38;5;241m1\u001b[39m]\u001b[38;5;241m.\u001b[39mreplace(\u001b[38;5;124m\"\u001b[39m\u001b[38;5;124mK\u001b[39m\u001b[38;5;124m\"\u001b[39m,\u001b[38;5;124m\"\u001b[39m\u001b[38;5;124m\"\u001b[39m)) \u001b[38;5;28;01mfor\u001b[39;00m p \u001b[38;5;129;01min\u001b[39;00m path_list ]\n\u001b[1;32m     12\u001b[0m \u001b[38;5;28mprint\u001b[39m(\u001b[38;5;124m\"\u001b[39m\u001b[38;5;124mtemperature = \u001b[39m\u001b[38;5;124m\"\u001b[39m,temperature)\n\u001b[1;32m     14\u001b[0m \u001b[38;5;66;03m# Compute lattice parameter\u001b[39;00m\n",
      "\u001b[0;31mAttributeError\u001b[0m: 'str' object has no attribute 'stem'"
     ]
    }
   ],
   "source": [
    "import matplotlib.pyplot as plt\n",
    "import numpy as np\n",
    "from pathlib import Path\n",
    "from ase.io import read,Trajectory\n",
    "\n",
    "time_step = 10.0  # Time step size between each snapshots recorded in traj\n",
    "paths = [f\"fcc-Cu_3x3x3_NPT_EMT_{Temp}K.traj\" for Temp in temperature_list]\n",
    "path_list = sorted([ p for p in paths ])\n",
    "\n",
    "# Temperature list extracted from the filename\n",
    "temperature = [ float(p.stem.split(\"_\")[-1].replace(\"K\",\"\")) for p in path_list ]\n",
    "print(\"temperature = \",temperature)\n",
    "\n",
    "# Compute lattice parameter\n",
    "lat_a = []\n",
    "for path in path_list:\n",
    "    print(f\"path = {path}\")\n",
    "    traj = Trajectory(path)\n",
    "    vol = [ atoms.get_volume() for atoms in traj ]\n",
    "    lat_a.append(np.mean(vol[int(len(vol)/2):])**(1/3))\n",
    "\n",
    "print(\"lat_a = \",lat_a)\n",
    "\n",
    "# Normalize relative to the value at 300 K\n",
    "norm_lat_a = lat_a/lat_a[1]\n",
    "print(\"norm_lat_a = \",norm_lat_a)\n",
    "\n",
    "# Plot\n",
    "fig = plt.figure(figsize=(4,4))\n",
    "ax = fig.add_subplot(1, 1, 1)\n",
    "ax.set_xlabel('Temperature (K)')  # x axis label\n",
    "ax.set_ylabel('Normalized lattice parameter')  # y axis label\n",
    "ax.scatter(temperature[:len(norm_lat_a)],norm_lat_a, alpha=0.5,label='EMT')\n",
    "ax.legend(loc=\"upper left\")\n"
   ]
  },
  {
   "cell_type": "markdown",
   "metadata": {},
   "source": [
    "## Monte Carlo: Ising Model\n",
    "\n",
    "In this practical, we will use Monte Carlo simulations to study the Ising model. The Ising model is a simple model of a ferromagnet, where spins on a lattice interact with their nearest neighbors. The Hamiltonian of the Ising model is given by\n",
    "\n",
    "$$\n",
    "H = -J \\sum_{\\langle i, j \\rangle} s_i s_j - h \\sum_i s_i,\n",
    "$$\n",
    "\n",
    "where $s_i = \\pm 1$ are the spins on the lattice sites, $J$ is the coupling constant, $h$ is the external magnetic field, and the sum $\\langle i, j \\rangle$ is over nearest neighbors. We will consider the case of a 2D square lattice with periodic boundary conditions.\n",
    "\n",
    "### Accelerate Python Code with Numba\n",
    "The Monte Carlo simulation can be quite slow if implemented in pure Python. To speed up the simulation, we will use the Numba library, which can be used to compile Python code to machine code. To use Numba, you need to install it using `pip install numba`. You can then use the `@jit` decorator to compile a function. For example:\n",
    "\n",
    "There are few things to keep in mind when using Numba:\n",
    "- Numba does not support all Python features. For example, it does not support classes or list comprehensions.\n",
    "- Numba does not support all Python libraries. For example, it does not support NumPy functions that create new arrays.\n",
    "- Numba does not support all Python types. For example, it does not support complex numbers.\n",
    "\n",
    "You should always test your Numba code to make sure it is working correctly."
   ]
  },
  {
   "cell_type": "code",
   "execution_count": null,
   "metadata": {},
   "outputs": [],
   "source": [
    "!pip install numba"
   ]
  },
  {
   "cell_type": "code",
   "execution_count": 3,
   "metadata": {},
   "outputs": [
    {
     "data": {
      "application/vnd.plotly.v1+json": {
       "config": {
        "plotlyServerURL": "https://plot.ly"
       },
       "data": [
        {
         "colorbar": {
          "title": {
           "text": "Spin"
          }
         },
         "colorscale": [
          [
           0,
           "rgb(103,0,31)"
          ],
          [
           0.1,
           "rgb(178,24,43)"
          ],
          [
           0.2,
           "rgb(214,96,77)"
          ],
          [
           0.3,
           "rgb(244,165,130)"
          ],
          [
           0.4,
           "rgb(253,219,199)"
          ],
          [
           0.5,
           "rgb(247,247,247)"
          ],
          [
           0.6,
           "rgb(209,229,240)"
          ],
          [
           0.7,
           "rgb(146,197,222)"
          ],
          [
           0.8,
           "rgb(67,147,195)"
          ],
          [
           0.9,
           "rgb(33,102,172)"
          ],
          [
           1,
           "rgb(5,48,97)"
          ]
         ],
         "showscale": true,
         "type": "heatmap",
         "z": {
          "bdata": "AQEBAQEBAQEBAQEBAQEB/wEB//8BAQEBAQEBAQEBAQEBAQEBAQEBAQEBAQEBAQH/AQEBAQEBAQEBAQEBAQEBAQEBAQH/AQEBAQEBAf8BAf8BAQEBAQEBAQEBAQEBAQEBAQH///8BAQEBAQH///////8BAQEBAQEBAQEBAQEBAQEBAf///wH/AQEBAQEBAQH///8BAQEBAQEBAQEBAQEBAQEBAf//AQEBAQEBAQEBAf8BAQEBAQEBAQEBAQEBAQEBAQEBAQEBAQEBAQH/AQEBAf8BAQEBAQEBAQEBAQEBAQH/AQEBAQEBAQEB//8BAQEBAQEBAQEBAQEBAQEBAQEB//8BAQEBAQEBAQEBAQEBAQEBAQEBAQEBAQEB/wH/AQH/AQEBAQEBAQEBAQEBAf//AQEBAQEBAQEBAQEBAQEBAf8B/wEBAQEBAQEBAQEBAQEBAQEBAQEBAQEBAf8BAQEBAQH//wEBAQEBAQEBAQEBAQEBAQEBAQEBAQEBAQEBAQEBAf//AQEBAQEBAQEBAQEBAQEBAQEBAQEBAQEBAQEBAQEB/wEB/wEBAQEBAQEBAQEBAQEBAQEBAQEBAQEBAQEB/wEB/wEBAQEBAQEBAQEBAQEBAQEBAQEBAQEBAQEBAQEBAQEBAQEBAQEBAQEBAQEBAQEBAQEBAQEBAQEBAQEBAQEBAQEBAQEBAQEBAQEBAQEBAQEBAQEBAQEBAQEBAQEBAQEBAQEBAQEBAQEBAQEBAQEBAQEBAQEBAQEBAQEBAQEBAQEBAQEBAQEBAQEBAQEBAQEBAQEBAQEBAQEBAQEBAQEBAQEBAQEBAQEBAQEBAQEBAQEB/wH/AQEBAQEBAQH//wEBAQEBAQEBAQEBAQEBAQEBAQEBAf8BAQEBAQEBAQEBAQEBAQEBAQEBAQEBAQEBAQEBAQEBAQEBAQEBAQEBAQEBAf//AQEBAQEBAf8BAQEB/wEBAQEBAQEBAQEBAQEBAQEB/wEBAQEBAQEBAQEBAQEBAQEBAQEBAQH//wEBAQEBAQEBAQEBAQEBAQEBAQEBAQEBAQEBAQEBAf//AQEBAQEBAQEBAQEBAQEBAQEBAQEBAQEBAQEBAQH/AQEBAQH/AQEBAQEBAQEBAQEBAQEBAQEBAQEBAQEBAf//AQEBAQEBAQEBAQEBAQEBAQEBAQEBAQEBAQEBAQEBAQEBAQEBAQEBAQEBAQEBAQEBAQEBAQEBAQEBAQEBAQEBAQEBAQEBAQEBAQEBAQEBAQEBAQEBAQEBAQEBAQEBAQEBAQEBAQEBAQEBAQEBAQEBAQEBAQEBAQH/AQEBAQEBAQEBAQEBAQEBAQEBAQEBAQEBAQEBAQEBAQEBAQEBAQEBAQEBAQEBAQ==",
          "dtype": "i1",
          "shape": "32, 32"
         },
         "zmax": 1,
         "zmin": -1
        }
       ],
       "frames": [
        {
         "data": [
          {
           "type": "heatmap",
           "z": {
            "bdata": "AQEBAQEBAQEBAQEBAQEB/wEB//8BAQEBAQEBAQEBAQEBAQEBAQEBAQEBAQEBAQH/AQEBAQEBAQEBAQEBAQEBAQEBAQH/AQEBAQEBAf8BAf8BAQEBAQEBAQEBAQEBAQEBAQH///8BAQEBAQH///////8BAQEBAQEBAQEBAQEBAQEBAf///wH/AQEBAQEBAQH///8BAQEBAQEBAQEBAQEBAQEBAf//AQEBAQEBAQEBAf8BAQEBAQEBAQEBAQEBAQEBAQEBAQEBAQEBAQH/AQEBAf8BAQEBAQEBAQEBAQEBAQH/AQEBAQEBAQEB//8BAQEBAQEBAQEBAQEBAQEBAQEB//8BAQEBAQEBAQEBAQEBAQEBAQEBAQEBAQEB/wH/AQH/AQEBAQEBAQEBAQEBAf//AQEBAQEBAQEBAQEBAQEBAf8B/wEBAQEBAQEBAQEBAQEBAQEBAQEBAQEBAf8BAQEBAQH//wEBAQEBAQEBAQEBAQEBAQEBAQEBAQEBAQEBAQEBAf//AQEBAQEBAQEBAQEBAQEBAQEBAQEBAQEBAQEBAQEB/wEB/wEBAQEBAQEBAQEBAQEBAQEBAQEBAQEBAQEB/wEB/wEBAQEBAQEBAQEBAQEBAQEBAQEBAQEBAQEBAQEBAQEBAQEBAQEBAQEBAQEBAQEBAQEBAQEBAQEBAQEBAQEBAQEBAQEBAQEBAQEBAQEBAQEBAQEBAQEBAQEBAQEBAQEBAQEBAQEBAQEBAQEBAQEBAQEBAQEBAQEBAQEBAQEBAQEBAQEBAQEBAQEBAQEBAQEBAQEBAQEBAQEBAQEBAQEBAQEBAQEBAQEBAQEBAQEBAQEB/wH/AQEBAQEBAQH//wEBAQEBAQEBAQEBAQEBAQEBAQEBAf8BAQEBAQEBAQEBAQEBAQEBAQEBAQEBAQEBAQEBAQEBAQEBAQEBAQEBAQEBAf//AQEBAQEBAf8BAQEB/wEBAQEBAQEBAQEBAQEBAQEB/wEBAQEBAQEBAQEBAQEBAQEBAQEBAQH//wEBAQEBAQEBAQEBAQEBAQEBAQEBAQEBAQEBAQEBAf//AQEBAQEBAQEBAQEBAQEBAQEBAQEBAQEBAQEBAQH/AQEBAQH/AQEBAQEBAQEBAQEBAQEBAQEBAQEBAQEBAf//AQEBAQEBAQEBAQEBAQEBAQEBAQEBAQEBAQEBAQEBAQEBAQEBAQEBAQEBAQEBAQEBAQEBAQEBAQEBAQEBAQEBAQEBAQEBAQEBAQEBAQEBAQEBAQEBAQEBAQEBAQEBAQEBAQEBAQEBAQEBAQEBAQEBAQEBAQEBAQH/AQEBAQEBAQEBAQEBAQEBAQEBAQEBAQEBAQEBAQEBAQEBAQEBAQEBAQEBAQEBAQ==",
            "dtype": "i1",
            "shape": "32, 32"
           }
          }
         ],
         "layout": {
          "title": {
           "text": "Ising Model at T = 2.10, Frame 0"
          }
         },
         "name": "0"
        },
        {
         "data": [
          {
           "type": "heatmap",
           "z": {
            "bdata": "AQEBAQEBAQEBAQEBAQEBAQEBAQEBAQEBAQEBAQEBAQEBAQEBAQEBAQEBAQEBAQEBAQEBAQEBAQEBAQEBAQEBAQEBAQH/AQH/AQEB/wEBAQEBAQH/AQEBAQEBAQEBAQEBAf////8BAQEBAQEBAQEB////AQEBAQEBAQEBAQEBAQEB/////wEBAQEBAQEBAQEB//8BAQEBAQEBAQEBAQEBAQH/Af//AQEBAQEBAQEBAf8BAQEBAQEBAQEBAQEBAQEBAQEBAQEBAQEBAQH/AQEBAQEBAQEBAQEBAQEBAQEBAf//AQEBAQEBAQEB/wEB/wEBAQEBAQEBAQEBAQEBAQEB/wEBAQEBAQEBAQEBAQEBAQEBAQEBAQEBAQEBAQH/AQEBAQEBAQEBAQEBAQEBAQEBAQEBAQEBAQEBAQEBAQEBAQEB/wEBAQEBAQEBAQEBAQEBAQEBAQEBAQEBAQEBAQEBAQH/AQEBAQEBAQEBAQEBAQEBAQEBAQEBAQEBAQEBAQEBAQH/AQEBAQEBAQEBAQEBAQEBAQEBAQEBAQEBAf8BAQEBAQEBAQEBAQEBAQEBAQH/AQH//wEBAQEBAQEBAQEBAQEB/wEBAQEBAQEBAQEBAQEB/wEBAQEBAQEBAQEBAQEBAQEBAQEBAQEBAQEBAQEBAQEBAQEBAQEBAQEBAQEBAQEBAQEBAQEBAQEBAQEBAQEBAQEBAQEBAQEBAQEBAQEBAQEBAQEBAQEBAQEBAQEBAQEBAQEBAQEBAQEBAQEBAQEBAQEBAQEBAQEBAQEBAQEBAQEBAf8B/wEBAQEBAf8BAQEBAQEBAQEBAQEBAQEBAQEBAQEBAQEBAQEB/wEBAQEB/wEBAQEBAQEBAQEBAQEBAQEBAQEBAf8BAQEBAQEBAQH/Af//AQEBAQEBAQEBAQEBAQEBAQEBAQEBAQEBAf8BAQEB//8BAQEBAQEB/wEBAQEBAQEBAQEBAQEBAQEBAQEBAQH///8BAQEBAQH/AQEBAQEBAQEBAQEBAQEB/wEBAQEBAQEBAQEBAQEBAQEBAQEBAQEBAQEBAQEBAQH/AQEBAQEBAQEBAQEBAQEBAQEBAQEBAQEBAQEBAQH//wEBAQEBAQEBAQEBAQEBAQEBAQEBAQEBAQEBAQEBAf8BAQEBAQEBAQEBAQEBAQEBAQEBAQEBAQEBAQEBAQEBAQEBAQEBAQEBAQEBAQEBAQEBAQEBAQEBAQEBAQEBAQEBAQEBAQEBAQEBAQEBAQEBAQEB/wEBAQEBAQEBAQEBAQEBAQEBAQEBAf//AQEBAQEBAQEBAQEBAQEBAQEBAQEBAQEBAQEBAQEBAQEBAQEBAQEBAQEBAQEBAQEBAQEBAQEBAQEBAQEBAQ==",
            "dtype": "i1",
            "shape": "32, 32"
           }
          }
         ],
         "layout": {
          "title": {
           "text": "Ising Model at T = 2.10, Frame 1"
          }
         },
         "name": "1"
        },
        {
         "data": [
          {
           "type": "heatmap",
           "z": {
            "bdata": "AQEBAQEBAQEBAQEBAQEBAQH/AQEBAQEBAQEBAQEBAQEBAQEBAQEBAQEBAQEBAQEBAQEBAQEBAQEB/wEBAQEBAQEBAQEBAQEBAQEBAQEBAQEBAQEBAQEBAQEBAQEB/wEBAQEBAQEBAQEBAQEBAQEBAQEBAQEBAQEB/wEBAQEBAQEBAQEBAQEBAQEBAQEBAQEBAQEBAQEBAQEBAQEBAQEBAQEB/wEBAQEBAQEBAQEBAQEBAQEBAQEBAQEBAQEBAQEBAQEBAQEBAQEBAQEBAQEBAQEBAQEBAQEBAQEBAQEBAQEBAQEBAQEBAQEBAQEBAQEBAQEBAQEBAQEBAQEBAQEBAQEBAQEBAQEBAQEBAQEBAQEBAQEBAQEBAQEBAQEBAQEB/wEB/wEBAQEBAQEBAQEBAQEBAQEBAQEBAQEBAQEBAf8BAQEBAQEBAQEBAf8BAQEBAQEBAQEBAQEBAQEBAQEBAQEBAQEBAQEBAQEBAQEBAQEBAQEBAQH/AQEBAQEBAf8BAf8BAQEBAQEBAQEBAQEBAQEBAQEBAQEBAQEBAQEBAQEBAQEBAQEBAQEBAQEB/wEBAQEBAQEBAQEBAQEBAQEBAQEBAQEBAQEBAQEBAQEBAQEBAQEBAQEBAQEBAQEBAQEBAQEBAQEBAQEBAQEBAQEBAQEBAQEBAQEBAQEBAQEBAQEBAQEBAQH/AQEBAQEBAQEBAQEBAQEBAQEBAQEBAQEBAQEBAQEBAQEBAQEBAQEBAQEBAQH//wEBAQEBAQEBAQEBAQH/AQEBAQEBAQEBAQEBAQEBAf//AQEBAQEBAf///wEBAQEBAQEB//8BAQH/AQEBAQEBAQEBAQEBAQEB//////8BAQEBAQEBAQEBAQEBAQEBAQEBAQEBAQEBAf///////wEBAf8BAQEBAQEBAQEBAQEBAQEBAQEB/wH/////Af////8BAQEBAQEBAQEBAQEBAQEBAQEBAQEB/////////////wEBAQEBAQEBAQEBAQEBAQH/AQEBAQH///////////8BAQEB/wEBAQEBAQEBAQEBAQEBAQEBAf///////////wEBAQEBAQEBAQEBAQEBAQEBAQEBAQH/////////////AQEBAQEBAQEBAQEBAQEBAQEBAQEBAQH/////////////AQEBAQEBAQEBAQEBAQEBAQEBAQEBAQEB////////AQEBAQEBAQEBAQEBAQEBAQEBAQEBAQEBAQEB/////wEBAQEBAQEBAQEBAQEBAQEBAQEBAQEBAQEBAQH//wEBAQEBAQEBAQEB/wEBAQEBAQEBAQEBAQEBAQEBAQEBAQEBAQEBAQEBAQEBAQEBAQEBAQEBAQEBAQEBAf8BAQEBAQ==",
            "dtype": "i1",
            "shape": "32, 32"
           }
          }
         ],
         "layout": {
          "title": {
           "text": "Ising Model at T = 2.10, Frame 2"
          }
         },
         "name": "2"
        },
        {
         "data": [
          {
           "type": "heatmap",
           "z": {
            "bdata": "AQEBAQH/AQEBAQEB/wEBAQEBAQEBAQEBAf//AQEBAf8BAQEBAQEBAQEBAQEBAQEBAQH/AQEBAQEBAf8BAf///wEBAQEB/wEBAQEBAQEBAQEBAQEBAQEBAQEBAQEBAQEBAQEBAQEBAQEBAQEBAQEBAQEBAQEBAQEBAQEBAQEBAQEBAQEBAQEBAQEBAQEBAQEBAQEBAQEBAQEBAQEBAQEBAQEBAQEBAQEBAQEBAQEBAQEBAQEBAQEBAQEBAQEBAQEBAQEBAQEBAQEBAQEBAQEBAQEBAQEBAQEB/wEBAQEBAQEBAQEBAQEBAQEBAQEBAQEBAQEBAQEBAf//AQEBAQEBAQEBAQEBAQEBAQEBAQEBAQEBAQEBAQEBAQEBAQEBAQEBAQEBAQEBAQEBAf8BAQH//wEBAQEBAQH/Af8BAQEBAQEBAQEBAQEBAQEBAQEBAf//AQEBAQEBAQEBAQEBAQEBAQEBAQEB/wEBAQEBAQEBAf//AQEBAQEB/wEBAQEBAQEBAQEBAQEBAQEBAf8BAQEBAf//AQEBAQEBAQEBAQEBAQEBAf8BAQEBAQEBAQEBAf8B//8BAQEBAQEBAQEBAQEBAQEB////AQEBAQEBAQEB/wEBAQEBAQEBAQEBAQEBAQEBAQEBAQEBAQEBAQEBAQEBAQEBAQEBAQEBAQEBAQEBAQEBAQEBAQEBAQEBAQEBAQEBAQEBAQH/AQEBAQEBAf8BAQEBAf8BAQEBAQEBAQEBAQEBAQEBAf8BAQEB/wEBAQEBAQEB/wEBAQEBAQEBAQEBAQEBAQEBAQEBAQEBAQEBAQEBAQEBAQEBAQEBAQEBAQEBAQEBAQEBAQEBAQEBAQEBAQEBAQEBAf8BAQEBAQEBAQEBAQEBAQEBAQEBAQEBAQEBAQEBAQEBAQH/AQEBAQEBAQEBAQEBAQEBAQEBAQEBAQEBAQEB/wEBAQEBAQEBAQEBAQEBAQEBAQEBAQEBAQEBAf8BAQH//wEBAQEBAQEBAQEBAQEBAQEBAQEBAQEBAQEBAQEBAQH/AQEBAQEBAQEBAQEBAQEBAQEBAQEBAQEBAQEBAQEBAQH/AQEBAQEBAQEBAQEBAQEBAf//AQEB/wEBAQEBAQEBAQEBAQEBAQEBAf8BAQEBAQEB/wEBAQEBAQEBAQEBAQEBAQEBAQEBAQEBAQEBAQEBAQEBAQEBAQEBAQEBAf8BAQEBAQEBAQEBAQEBAQEBAQEBAQEBAQEBAQEBAQEBAQEBAQEBAQEBAQEBAQEBAQEBAQEBAQEBAQEBAQEBAQEBAQEBAQEBAQEBAQEBAQEBAQEBAQEBAQEBAQEBAQEBAQEBAQEB/wEBAQEBAQEBAQEBAf8BAQEBAQEBAQEB/w==",
            "dtype": "i1",
            "shape": "32, 32"
           }
          }
         ],
         "layout": {
          "title": {
           "text": "Ising Model at T = 2.10, Frame 3"
          }
         },
         "name": "3"
        },
        {
         "data": [
          {
           "type": "heatmap",
           "z": {
            "bdata": "AQEBAQEBAQEBAf8BAQEBAQEBAQEBAf8BAQEBAQEBAQH/AQEBAQEB/wEBAf8BAQEBAQEBAQEBAQEBAQEBAQEB/wEBAQEBAQEBAQEBAQEBAQEBAQEBAQEBAQEBAQEBAQH//wEBAQEBAQEB/wEBAQEBAQEBAQEBAQEBAQEBAQEBAQEBAQEBAQEBAQEBAQEBAQEBAQEBAQEBAQEBAQEBAQEBAQEBAQEBAQH/AQEBAQEBAQEBAQEBAQEBAQEBAQEBAQEBAQEBAQEBAQEBAQEBAQEBAQEBAQEBAQEBAQEBAQEBAQEBAQEBAQEBAQEBAQEBAQEBAQEBAQEBAQEBAQEB/wEBAQEBAQEBAQEBAQEBAQEBAQEBAQEBAf8BAQEBAQEBAQEBAQEBAQEBAQEBAQH//wEBAQEBAQEBAQEBAQEBAf8BAQEBAQEBAQEBAQEB//8BAQEBAQEBAQEBAQEBAQEBAQEBAQEBAQEBAQEBAQH//wEBAQEBAQEBAQEBAQEBAQEBAQEBAQEBAQEB/wEBAQEBAQEBAQEBAQEBAQEBAf8BAQEBAQEBAQEBAQEBAQEBAQEBAQEBAQH/AQEBAQEBAQEBAQEBAQEBAQEB/wEBAQEBAQEBAQEBAQEBAQEBAQEBAQEBAQEBAQEBAQEBAQEBAQEBAQH/AQEBAf8BAQH/AQEBAQEBAQEBAQEB/wEBAQEB////AQEBAQEBAQEBAQEBAQEBAQEBAQEBAQEBAQEBAQEBAQEBAQEBAQEBAQEBAQEBAQEBAQEBAQH/AQEBAQEBAQEBAQEBAQEB//8BAQEBAQEBAQEBAQEBAQEBAQEBAQEBAQEBAQEBAf///wH/AQEBAQEBAQEBAQEBAQEBAQEBAQEBAQEBAQEB/wEBAQEBAQEBAQEBAQEBAQEBAQEBAf8BAQEBAQEBAQEBAQEBAQEBAQEBAQEBAQEBAQEBAQEBAQEBAQEBAQEBAQEBAQEBAQEBAQEBAQEBAQEBAQEBAQEBAQEBAQEBAQEBAQEBAQEBAQEBAQEBAQEBAQEBAQEBAQEB/wEBAQEBAQEBAQEBAf8BAQEBAQEBAQEBAQEBAQEBAQEBAQEBAQEBAQEBAQEBAQEBAf8BAQEBAQEBAQEBAQEBAQEBAQEB/wEBAQEBAQEBAQEBAQEBAQEBAQEBAQEBAQEB/wH/AQEB/wEBAQEBAQEBAQEBAQEBAQEBAQEBAQEBAQH//wEBAQEBAQEBAQEBAQEBAQEBAQEBAf8BAQEBAQEBAQEBAf8B/wEBAQEBAQEBAQEBAQEBAQEBAQEBAQEBAQEBAQEBAQEBAQEBAQH/AQEBAQEBAQEBAQEBAQEBAQEBAQEBAQEBAQEBAQEBAQEBAQEBAQEBAQEBAQ==",
            "dtype": "i1",
            "shape": "32, 32"
           }
          }
         ],
         "layout": {
          "title": {
           "text": "Ising Model at T = 2.10, Frame 4"
          }
         },
         "name": "4"
        },
        {
         "data": [
          {
           "type": "heatmap",
           "z": {
            "bdata": "AQEB/wEBAQEBAQEBAQEBAQEBAQH///8BAQEBAQEBAQEBAQEBAQEBAQEBAQH//wEBAQH//wH//wEBAQEBAQH/AQEBAQEBAQEBAQEBAf8BAQEBAQH/AQH/AQEBAQEBAQEBAQEBAQEBAQH/AQEBAQEB/wEBAQEBAQEBAQEBAQEBAQEBAQEBAQEBAQEBAQEBAQH/AQEBAQEBAQEBAQEBAQEBAQEBAQEBAQEBAQEBAQEBAQEBAQEBAQEBAQEBAQEBAQEBAQEBAQEBAQEBAQEBAQEBAQEBAQEBAQEBAQEBAQEBAQEBAQEBAQEBAQEBAQEBAQEBAQEBAQEBAQEBAQEBAQEBAQEBAQEB//8BAQEBAQEBAQEBAQEBAQEBAQEB/wEBAQH/AQEBAQEBAQEBAQH/AQEBAQEBAQEBAQEBAQEBAQEBAQEBAQEBAQEBAQEBAQEBAQEBAQEBAQEBAQEBAQEBAQEBAQEBAQEBAQEBAQEBAQEBAQEBAQEBAQEBAf///wEBAQEBAQEBAQEBAQH/AQEBAQEBAQEBAQEBAQEBAf8BAQEBAQEBAQEBAQEBAf8BAQEBAQEBAQEBAQEB/wH/////AQEBAQEBAQEBAQEBAQEBAQEBAQEBAf8BAQEBAf8B//8BAQEBAQEBAQEBAQEBAQEBAQEBAQEBAQEBAQEBAQEBAQEBAQEBAQEBAQEBAQEBAQEBAQEBAQEBAQEBAQEBAQEBAQEBAQEBAf8BAQEBAQEBAQEBAQEBAQEBAQEBAQEBAQEBAQEBAQEBAQEBAQEBAQEBAQEBAQEBAQEBAQEBAQEBAQEBAQEBAQEBAQEBAQEBAQEBAQEBAQEBAQEBAQEBAQEBAQEBAQEBAQEBAQEBAQEBAQEBAQEBAQEBAQEBAQEBAQEBAQEBAQEB/wEBAQEBAQEBAQEBAQEBAQEBAQEBAQH///8BAQEBAQEBAQEBAQEBAQEBAQEBAQEBAQEBAQEBAQEBAQEBAQEBAQEBAQEBAQEBAQEBAf8BAQEBAQEBAQEBAQEBAQEBAQH/AQEBAQEBAQEBAQEBAQEBAQEBAQEBAQEBAQH/AQEBAQEBAQEBAQEBAQEB/wEBAQEBAQEB/wEBAQEB//8BAQEBAQEBAQEBAQEBAQH/AQEBAQEBAQEBAQEBAQH/AQEBAQEB/wEBAQEBAQEBAQEBAQEBAQEBAQEBAQEBAf8BAQEBAQEBAQEBAQEBAQEBAQEBAQEBAf8BAQEBAQEBAQEBAQH/AQEBAQEBAQEBAQEBAQEBAQEB//8B/wEBAQEBAQEBAQEBAQEBAQEBAQEBAQEBAQEB/wH///8BAQEBAQEBAQEBAQH//wEBAQEBAQEBAQEBAQEBAf//Af8BAQEBAQEBAQ==",
            "dtype": "i1",
            "shape": "32, 32"
           }
          }
         ],
         "layout": {
          "title": {
           "text": "Ising Model at T = 2.10, Frame 5"
          }
         },
         "name": "5"
        },
        {
         "data": [
          {
           "type": "heatmap",
           "z": {
            "bdata": "AQEBAQEBAQEBAQEBAQEBAQEBAQEBAQEBAQEBAQEBAQEBAQEBAQEBAQEBAQEBAQEBAQEBAQEBAf8BAQEBAQEBAQEBAQEBAQEBAQEBAQEB/wEBAQEBAQEBAQEBAQEB/wEBAQEBAf8BAQEBAQEBAf//AQEBAQEBAQEBAQEBAQH/AQEBAQEBAQEB/wEBAQEBAQH//wH/AQEBAQEB/wEBAQEBAQEBAf8BAQEBAQEBAQEBAQEBAf8BAQEBAQEBAQH/AQEBAQEBAQEBAQEBAQEBAf8BAQEBAQEBAQEBAQEBAQEBAQEBAQEBAQEBAQEBAQEB/wEBAQEBAQEBAQEBAQEBAQEBAQEBAQEBAQEBAQEBAQEBAQEBAQEBAQEBAQEBAQEBAQEBAQEBAQEBAQEBAf8BAQEBAQEBAQEBAQEBAQH/AQEBAQEBAQEBAQEBAQEBAQEBAQEBAQEBAQEBAQEBAQEBAQEBAQEBAQEBAQEBAQEBAQEBAQEBAQEBAQEB/wEBAQEBAQEBAQEBAQEBAQEBAQEBAQEB/wEBAQEBAQEBAf//AQEBAQEBAQEBAQEB/wEBAQEBAf////8BAQEBAQEBAQEBAQEBAQEBAQEBAQEBAQEBAQEBAQEB/wEBAQEBAQEBAQEBAQEBAQEBAQEBAQEBAQEBAQEBAQEBAQEBAQEBAQEBAQEBAQEBAf8B/wEBAQEBAQEBAQEBAQEBAQEBAQEBAQEBAQEBAf8BAQEBAQEBAQEBAQEBAQEBAQEBAQEBAQEBAQEBAQH/AQEBAQEBAQEBAQEBAQEBAQEBAQEBAQEBAQEBAQEBAQEBAQEBAQEBAQEBAf8BAQEBAQEBAQEBAQEBAQEBAQEB/wEBAQH/AQEBAQEBAQEBAQEBAQEBAQEBAQEBAQEBAQEBAQEBAf8BAQEBAQEBAQEBAQEBAf8BAQEBAQEBAQEBAQEBAQEBAQEBAQEBAQEBAQEBAQEBAQEBAQEBAQEBAQEBAQEBAQEBAQEBAQH/AQEBAQEBAf8BAQEBAQEBAQEBAQEBAQEBAQEBAQEBAQEBAQEBAQEB//8BAQEBAQEBAQEBAQEBAQEBAQEBAQEBAQEBAf8BAQH//wEBAQEBAQEBAQEBAQEBAQEBAQEBAQEBAQEBAQEBAQEBAQEBAQEBAQEBAQH/AQEBAQEBAQEBAQEBAQEBAQEBAQEBAQEBAQEBAQEBAQEBAQEBAQEBAQEBAQH/////AQEBAQEBAQEBAQEBAQH/AQEBAQEBAQEBAQEBAQH//wEBAQEBAQH/AQEBAQEBAQEBAQEBAQEBAQEBAQEBAQEBAQEB/wEB//8BAQEBAQEB/wEBAQEBAQEBAQEBAQEB/wEBAQEBAQH//wEBAQEBAQEBAQ==",
            "dtype": "i1",
            "shape": "32, 32"
           }
          }
         ],
         "layout": {
          "title": {
           "text": "Ising Model at T = 2.10, Frame 6"
          }
         },
         "name": "6"
        },
        {
         "data": [
          {
           "type": "heatmap",
           "z": {
            "bdata": "AQEBAQEBAQEBAQEBAf8BAQEBAQEB/wEBAQEBAQEBAQEBAQEBAQEBAQEBAQEBAf8BAQEBAQEBAQEBAQEBAQEB/wEBAQEBAQEBAQEBAQEBAQEBAQEBAQEBAQEBAQEBAQEBAQEBAQEBAQEBAQEBAf8BAQEBAQEBAQEBAQEBAQEBAQEBAQEBAQEBAQEBAQEBAQEBAQEBAQEBAQEBAQEBAQEBAQEBAf8BAQEBAQEBAQEBAQEBAQEBAQEBAQEBAQEBAQEBAQEBAQEBAQEBAQEBAQEBAQEBAQEBAQEBAQEBAQEBAQEBAQEBAQEBAQEBAf8BAQEBAQEBAQEBAQEBAQEBAQEBAf//AQEBAQEBAQEBAQEBAQEBAQEBAQEBAQEBAQEBAQEBAQEBAQEBAQEBAQEBAQEBAQEBAQEBAQEBAQEBAQEBAQEBAQEBAQEBAQEBAQEBAQEBAQEBAQEBAQEBAQEBAQEBAQEBAQEBAQEBAQEBAQEBAQEB//8BAQEBAQEBAQEBAQEBAQEBAQEBAQEBAQEBAQEBAQEBAQEBAQEBAQEBAQEBAQEBAQEBAQEBAQEBAQEBAQEBAQEBAQEBAQEB/wEBAQEBAQH///8BAQEBAQEBAQEBAQEBAQEB/wEBAQEBAQH/AQEBAQEB/wEBAf8BAQEBAQEBAQEBAQEBAQEBAQEBAQEBAQEBAQEB/wEB/wEBAQEBAQEBAQEBAQEBAQH/AQH/AQEBAQEBAQEBAf8BAQEBAQEBAQEBAQEBAQEBAQEBAf8BAQEBAQEBAQEBAQEBAQEBAQEBAQEBAf8BAQEBAQH//wH//wEBAQEB/wEBAQEBAQEBAQEBAQEBAQEBAQEBAf//AQEBAQEBAQEBAQEBAQEBAQEBAQEBAQEBAQEBAQEB/wEBAQEBAQEBAQEBAQEBAQEBAQEBAQEBAQEBAQEBAQEBAQEBAQEBAQEBAQEBAQEBAQEBAQEBAQEBAQEBAQEBAQEBAQEBAQEBAQEBAQEBAQEBAQEBAQEBAQEBAQEBAQEBAQEBAQEBAQEBAQEB/wEBAQEBAQEBAQEBAQEBAQEBAQEBAQEBAQEBAQEBAQH//wH/AQEBAQEBAf8BAQEBAQEBAQEBAQEBAQEBAQEBAQEBAQEBAQEBAQEBAQEBAQEBAQEBAQEBAQEBAQEBAQEBAQEBAQEBAQEBAQEBAQEBAQEBAQEBAQEBAQEBAQEBAf//AQEBAQEBAQEBAQEBAQEBAQEBAQEBAQEBAQEBAQEBAQEBAQEBAQEBAQEBAQH/AQEBAQEBAQEBAQH/AQEBAQEBAQEBAQEBAQEBAf8BAQEBAQEBAQEBAQEBAQEBAQEBAQEBAQEBAQEBAQEBAQEBAQH/AQEBAQEBAQEBAQ==",
            "dtype": "i1",
            "shape": "32, 32"
           }
          }
         ],
         "layout": {
          "title": {
           "text": "Ising Model at T = 2.10, Frame 7"
          }
         },
         "name": "7"
        },
        {
         "data": [
          {
           "type": "heatmap",
           "z": {
            "bdata": "AQEBAf//AQEBAQEBAQEBAQEBAQEBAQEBAQEBAQEBAQEBAQEB/////wEBAQEBAQEBAQEBAQEBAQEBAQEBAQEBAQEBAQH//////wEBAQEBAQEBAQEBAQEBAQEBAQEBAQEBAQEB//////8BAQEBAQEBAQEBAQEBAQEBAQEBAf8BAQEBAf///////wEBAQEBAQEBAQEBAQEBAQEBAQEBAQEB////////////AQEBAQEBAQEBAQEBAQEBAQEBAQH/AQH///8BAQEBAQEBAQEBAQEB/wEBAQEBAQEBAQEBAf8BAQEBAQEBAQEBAQEBAQEB/wH//wEBAQEBAf///////wEBAQEBAQH/AQH/AQEBAQH/////AQEBAQEBAf////8BAQEBAQEBAQEBAQEBAQEBAf////8BAQEBAQEBAQH//wEB/wEBAQEBAQEBAQEBAQH//////wEBAQEBAQEBAQEBAQEBAQEBAQEBAQEBAQEBAQH//wEBAQEBAQEBAQEBAQEBAQEBAQEBAQEBAQEBAQEBAQEBAQEBAQEBAQEBAQEBAQEBAQEBAQEBAQEBAQEBAQEBAQH/AQEBAQEBAQEBAQEBAQEB/wEBAQEBAQEBAQEBAQEBAf8BAQEBAQEBAQEBAQEBAQEBAQEBAQEBAQEB//8BAQEBAQEBAQEBAQEBAQEBAQEBAQEBAQEBAQEBAQEBAQEBAQEBAQEBAQEBAQEBAQEBAQEBAQEBAQEBAQEBAQEB//8BAQEBAQEBAQEBAQH/AQEBAQEBAQEBAQEBAQEBAQEBAQEBAQEBAQEBAQEBAQEBAQH/AQEBAQEBAQEBAQEBAQEBAQEBAQEBAf8BAQEBAQEBAQEBAQEBAQEBAQEBAQEBAQEBAQEB/wEBAQEBAf8BAQEBAQEBAQEBAQEBAQEBAQEBAQEBAQEBAQEBAQEBAQEBAQEBAQEBAQEBAQEBAQEBAQEBAQEBAQEBAQEBAQEBAQEBAQEBAQEBAQEBAQEBAQH//wEBAQEBAQEBAQEBAQEBAQEBAQEBAQEBAQEBAQEBAQEBAQEBAQEBAQEBAQH/AQEBAQEBAQEBAQEBAQEBAQEBAQEBAQEBAQEBAQEBAQEBAQEBAQEBAQEB//8BAQEBAQEBAQEBAQEBAQEBAQEBAQEBAQEBAQEBAQEBAQEBAQEBAQEBAQEBAQEBAQEBAQEBAQEBAQEBAQEBAQEBAQEBAQEBAQEBAQEBAQEBAQEBAQEBAQEBAQEBAQEBAQEBAQEBAQEBAf//AQEBAQEBAQEBAQEBAQEBAQEBAf8BAQEBAQEBAQEBAQEBAQEBAQEB/wEBAQEBAQEBAf8B/wEBAQEBAQEBAQEBAQEBAQEBAQEBAQEBAQEBAQEBAQ==",
            "dtype": "i1",
            "shape": "32, 32"
           }
          }
         ],
         "layout": {
          "title": {
           "text": "Ising Model at T = 2.10, Frame 8"
          }
         },
         "name": "8"
        },
        {
         "data": [
          {
           "type": "heatmap",
           "z": {
            "bdata": "AQEBAQEBAQEBAQEBAQEBAQEBAQEBAQEBAQEBAQEBAQEBAQEBAQEBAQEBAQEBAQEBAQEBAQEBAQEBAQEB/wEBAQEBAQEB/wEBAQEBAQEBAQEBAQEBAQEBAQEBAQEBAQEBAQEBAQEBAQEBAQEBAQEBAQH/AQEBAQEBAQEBAQEBAQEBAQEBAQEBAQEBAQEBAQEBAQEBAQEBAQEBAQEB//8BAQEBAQEB/wEBAQH//wEBAQEBAQEBAQEBAQEBAQH//wEBAQEBAQEBAQEBAQEBAQEBAQEBAQEBAQEBAQEBAf//AQEBAQEBAQEBAQEBAQEBAQEBAQEBAQEBAQEBAQEBAQEBAQEBAQEBAQEBAQEBAQEBAQEBAQEBAQEBAQEBAQEBAQEBAQEBAQEBAQEBAQEBAQEBAQEBAQEBAQEBAQEBAQEBAQEBAQEBAQEBAQEBAQEBAQEBAQEBAQEBAQEBAQEBAQEBAQEBAQEBAQEBAQEBAQEBAQEBAQEBAQEB/wEBAQEBAQEBAQEBAQEBAQEBAQEBAQEBAQEBAQEBAQEBAQEBAf8BAQEBAQEBAQEBAQEBAQEBAQEBAQEBAQEBAQEBAQEBAQEBAQEBAQEBAQEBAQH/AQEBAQEBAQEBAQEBAQEBAQEBAQEBAQEBAf8BAQEB//8BAQEBAQEBAQEBAQEBAQEBAQEBAQEBAQEBAQEBAQEB/wH/AQEBAQEBAQEBAQEBAQEBAQEBAQEBAQEBAQEBAQEBAQEBAQEBAf8BAQEBAQEBAQEBAQEBAQEBAQEBAQEBAQEBAQEBAQH//wEBAQEBAQEBAQEBAQH/Af8BAQEBAQEBAQEBAQEBAQEBAQEBAQEBAQEBAQEB/wEB//8BAQEBAQEBAQEBAQEBAQEBAQEBAQEBAQEBAQEBAQEBAQEBAQEBAQEBAQEBAQEBAQEBAQEBAQEBAQEBAQEBAQEBAQEBAQEBAQEBAQEBAQEBAQEBAQEBAQEBAQEBAQEBAQEBAf//AQEBAQEBAQEBAQEBAQEBAQEBAQEBAQEBAQEBAQEBAQEBAQEBAQEBAf8BAQEBAQEBAQEBAQEBAQEBAQEBAQEBAQEBAQEBAQEBAQEBAQEBAQH///8BAQEBAf//AQEBAQEBAQEBAQEBAQEBAQEBAQEBAf8B/wEBAQEBAQEBAQEBAQEBAQEBAQEBAQH/AQEBAQH//wH///8BAQEBAQEBAQEBAQEBAQEBAQEBAQEBAQEBAf//AQEB/wEBAQEBAQEBAQEBAQEBAQEBAQEBAQEBAQEBAf8BAQH/AQEBAQH/AQEBAQEBAQH/AQEBAQEBAQEBAQEBAQEBAQEBAQEBAf8BAQEBAQH/AQEBAQEBAQEBAQEBAQEBAQEBAQEBAQ==",
            "dtype": "i1",
            "shape": "32, 32"
           }
          }
         ],
         "layout": {
          "title": {
           "text": "Ising Model at T = 2.10, Frame 9"
          }
         },
         "name": "9"
        },
        {
         "data": [
          {
           "type": "heatmap",
           "z": {
            "bdata": "AQEBAQEBAQEBAQEBAQEBAQEBAQEBAQEBAQEBAQEBAQEBAQEBAQEBAQEBAQEBAQEBAQEBAQEB/wEBAQEBAQEB/wEBAQEBAQEBAQEBAQH/AQEBAQEBAQEBAQEBAQEBAQEBAQEBAQEBAQEBAQEBAQEBAQEBAQEBAQEBAQEBAQEBAQEBAQEBAQEBAQEBAQEBAQEBAQEBAQEBAQEBAQEBAQEBAQH//wEBAQEBAf8BAQEBAQEBAQEBAQEBAQEBAQEBAQH/Af//AQEBAQEBAQEBAQEBAQEBAQEBAQEBAQEBAQEB/wEB//8BAQEBAQEBAQEBAQEB/wEBAQEBAf8BAQEBAQEBAQEBAQEBAQEBAQEBAQEBAQEBAQEBAQEBAQEBAQEBAQEBAQEBAQH/AQEBAQEBAQEBAQEBAQEBAQEBAQEBAQEBAQEBAQEBAQEBAf///wEBAQEBAQEBAQEBAQH//wEBAQEBAQEBAQEBAQH/AQEBAQEBAQEBAQEBAQEBAf//AQEBAf//AQEBAQEBAQEBAQEBAf8BAQEBAQEB/wEBAQEBAQEBAQEBAQEBAQEBAQEBAQEBAQEBAQEBAQEBAQEBAQEBAQEBAQEBAQEBAQEBAQEBAQEBAQEBAQEBAQH//wEBAQEBAQEB/wEBAQEBAQEBAQEBAQEBAQEBAQEBAQEBAQEBAQEBAQEBAQEBAQEBAQEBAQEBAQEBAQEBAQEBAQEBAQEBAf8BAQEBAQEBAQEBAQEBAQEBAQEBAQEBAf8BAQEBAQEBAQEBAQEBAQEBAQH///8BAQEBAQEBAQEBAQEBAQEBAQEBAf8BAQEBAQEBAQEBAQEBAQEBAQEBAQEBAQEBAQEBAQEBAQEBAQEBAQEBAQEBAQEBAQEBAQEBAQEBAQEBAQEBAQEBAf//////AQEBAQEBAQEBAQEBAQEBAQEBAQEBAQEBAQEB//////8B/wEBAQEBAQEBAQEBAQEBAQEBAQEBAQEBAQH///////8BAQEBAQEBAQEBAQEBAQEBAQEB//8BAQEBAf///////wEBAQEBAQEBAQEB/wEBAQEBAQH//wEBAf8BAf///////wEBAQEBAQEBAQEBAQEBAQEBAQEBAQEBAQEB/////wEBAQEBAQEBAQH//wEBAQEBAQEBAQEBAQEBAQH///8BAQEBAQEBAQEBAQEBAQEBAQH/AQEBAQEBAQEBAQEBAQEBAQEBAQEBAQEBAQEBAQEBAQEBAQEBAQEBAQEBAf8BAQEBAQEBAQEBAQEB//8BAQEBAQEBAQEBAQEBAQEBAQEBAQEBAQEBAQEBAQEBAQEBAQEBAQEBAQEBAQEBAQEBAQEBAQEBAQEBAQEBAQEBAf8BAQEBAQEBAQEBAQ==",
            "dtype": "i1",
            "shape": "32, 32"
           }
          }
         ],
         "layout": {
          "title": {
           "text": "Ising Model at T = 2.10, Frame 10"
          }
         },
         "name": "10"
        },
        {
         "data": [
          {
           "type": "heatmap",
           "z": {
            "bdata": "AQEBAQEBAQEBAQEBAQH/AQEBAQEBAQEBAQEBAQEBAQEBAf8BAQEBAQEBAQEBAQEBAQEBAQEBAQEBAQEBAQEBAQEBAQH/AQEBAQEBAQH/AQEB////AQEBAQEBAQEBAQEBAQEBAf///wEB/wEBAQEBAQH//wEBAQEBAQEBAQEBAQEBAQEBAQEBAQEBAQEB/wEBAf//AQEBAQEBAQEBAQEBAQEBAQEB/wEBAQEBAQEBAQEBAf8BAQEBAQEBAQEBAQEBAQEBAQEBAQEBAQEBAQEBAQEBAQEBAQEBAQEBAQEBAQEBAQEBAQEBAQEBAQEBAQEBAQEB////////AQEBAQEBAQEBAQEBAQEBAQEBAQEBAQEBAQEBAf//AQEBAQEBAQEBAQEBAQEBAQEBAQEBAQEBAQEBAQEBAQEBAQEBAQEBAQEBAQEBAQEBAQEBAQEBAf8BAQEBAQEBAQEBAQEBAQEBAQEBAQEBAQEBAQH/AQEBAQEBAQEBAQEBAQEBAQEB/wEBAQEBAQEBAQEBAQEBAQEBAQEBAQEBAQEBAQEBAQEBAQEBAQEBAQEBAQEBAQEBAQEBAQEBAQEBAQEBAQEBAQEBAQEBAQEB/wEBAQEBAQEBAf8BAQEBAQEBAQEBAQEBAQEBAQEBAQEBAQEBAQEBAQEBAQEBAQEBAQEBAQEBAQEBAQEBAQEBAQEBAQEBAf////8BAQEBAQEBAQEBAQEBAQEBAQEBAQEBAQEBAQEBAQEBAQEBAQEBAQEBAQEBAQEBAQEBAQEBAQEBAQEBAQEBAQEBAQEBAQEBAQEBAQEBAQEBAQEBAQEBAQEBAQEBAQEBAQEBAQEBAQEBAQEBAQEBAQEBAQH/AQEBAQEBAQEBAQEBAQEBAQEBAQEBAQEBAQEBAQEBAQEBAQEBAQEBAQEBAQEBAQEBAQEBAQEBAQEBAQEBAQEBAQEBAQEBAQEB/wEBAQEBAQEBAQEBAQEBAQEBAQEBAQEBAQEBAQEBAQEBAQEBAQEBAQEBAQEBAQEBAQEBAQEBAQEBAQEBAQEBAQEBAQEBAQEBAQH/AQEBAQEBAQEBAQEBAQEBAQEBAQEBAQEBAQEBAQEB/wEBAQEBAQEBAQEBAQEBAQEBAQEBAQEBAQEBAQEBAQEBAQEBAQEBAQEBAQEBAQEBAQEBAQEB/wEBAQEBAQEBAQEBAQEBAQEBAQEBAQEBAQEBAQEBAQEBAQEBAQEBAQEBAQEBAQEBAQEBAQEBAQEB/wEBAQEBAQEBAQEBAQEBAQEBAQEBAQEBAQEBAQH//wEBAQEBAQEBAQEBAQEBAQEBAQEBAQEBAQEBAQH/AQH//wEBAQEBAQEBAQEBAQEBAQEBAQEBAQEBAQEBAf8BAQ==",
            "dtype": "i1",
            "shape": "32, 32"
           }
          }
         ],
         "layout": {
          "title": {
           "text": "Ising Model at T = 2.10, Frame 11"
          }
         },
         "name": "11"
        },
        {
         "data": [
          {
           "type": "heatmap",
           "z": {
            "bdata": "AQEBAQEBAQEBAQEBAQEBAQEBAQEBAQEBAQEBAQEBAQEBAQEBAQEBAQEBAQEBAQEBAQEBAQEBAQEBAQEBAQEBAQEBAQEBAQEBAQEBAQEBAQEBAQEBAQEBAQEBAQEBAQEBAQEBAQEBAQEBAQEBAQEBAQEBAQEBAQEBAQEBAQEBAQEBAQH/AQEBAQEBAQEBAQEBAQEBAQEBAQEBAQEBAQEBAQEBAQEBAQEBAf8BAQEBAQEBAQEBAQEBAQEBAQEBAQEBAQEBAQEBAQEBAQEBAQEBAQEBAQEBAQEBAQEBAQEBAQEBAQEBAQEBAQEBAQEBAQEBAQEBAQEBAQEBAQEBAQEBAQEBAf8BAQEBAQEBAQEBAQEBAQEBAQEBAQH/AQEBAQEBAQEBAQEBAQEBAQEBAQEBAQEBAf//AQEBAQEB/wEBAQEBAQEBAQH//wEBAQEBAQEBAQEBAQEBAQEBAQEBAQEBAQEB/wEBAQH/AQEBAQEBAQEBAQEBAQEBAQEBAQEBAQEBAQEBAQEBAQEBAQEBAQEBAQEBAQEBAQEBAQEBAQEBAQEBAQEBAQEBAQEBAQEBAQEBAQEBAQEBAf//AQEBAQH/AQEBAQEBAQEBAf8BAQEBAQEBAQEBAQEB//8BAQEBAQEB/wEBAQEBAQEBAQEBAQEBAQEB/wEBAQEBAQEBAQEBAQEBAQEBAQEBAQEBAQEBAQEBAQEBAQEBAQEBAQEBAQEBAQEBAQEBAQEBAQEBAQEB/wEBAQEBAQEBAQH/AQEBAQEBAQEBAQEBAQEBAQEBAQEBAQEBAQEBAQEBAQEBAQEBAQEBAQEBAf8BAQEBAQEBAQEBAQEBAQEBAQEBAQEBAQEBAQEBAQEB/wEBAQEBAQEBAQEBAQEBAQEBAQEBAQH//wEBAQEBAQEBAQEBAQEBAQEBAQEBAQEBAQEBAQEBAQEBAQEBAQEBAQEBAQEBAQEBAQEBAQEBAQEBAQEBAQEBAQEBAQEBAQEBAQEBAQEBAQEBAQEBAQEBAQEBAQEBAQH/AQEBAf8BAQEBAQEBAQEBAQEBAQEBAQEBAQEBAQEBAQEBAQEBAQEBAQEBAQEBAQEB//8BAQEBAQEBAQEBAQEBAQEBAQEBAQEBAf8BAQEBAQEBAQEBAQEBAQEBAQEBAQEBAQEBAQEBAQEBAQEBAQEBAQEBAQEBAQEBAQEBAQEBAQEBAQEBAQEB/wEBAQEBAQEBAQEBAQEBAQEBAQEBAQEBAQEBAQEBAQEBAQEBAQEBAQEBAQEBAQEB/wEBAQEBAQEBAQEBAQEBAQEBAf8BAQEBAQEBAQEBAQEBAQEBAQEBAQEBAQEBAQEBAQEBAQEBAQH/AQEBAQEBAQEBAQEBAQEBAf8BAQ==",
            "dtype": "i1",
            "shape": "32, 32"
           }
          }
         ],
         "layout": {
          "title": {
           "text": "Ising Model at T = 2.10, Frame 12"
          }
         },
         "name": "12"
        },
        {
         "data": [
          {
           "type": "heatmap",
           "z": {
            "bdata": "AQEBAQEBAQEBAQEBAQEBAQEBAQEBAQEBAQEBAQEBAQEBAQEBAQEBAQEBAQEBAQEBAQEBAQEBAQEBAQEBAQEBAQEBAQH/AQEBAQH/AQEBAQEBAQEBAQEBAQEBAQEBAQEBAQEBAQEBAQEBAQEBAQH/AQEBAQEBAQEBAQEBAQEBAQEBAQEBAQEBAQEBAQEBAQEBAQEBAQEBAQEB/wH/AQEBAQEBAQEBAQEBAQEBAQEBAQEBAQEBAQEBAQH//wEBAQEBAQEBAQEBAQEBAQEBAQEBAQEBAQEBAQH/////AQEBAQH/AQEBAQEBAQEBAQEBAQEBAQEBAf8BAQH//wEBAQEBAQEBAQEBAQEBAQEBAQEBAQEBAQEBAQEBAQEBAQEBAQEBAQEBAQEBAQEBAQEBAQEBAQEBAQEBAQEBAQEBAQEBAQEBAQEBAQEBAQEBAQEBAQH/AQEBAQEBAQEBAQEBAQH/AQEBAQEBAQEBAQEBAQEBAf8B////Af8BAQH///8B//8BAQEBAQEBAQH/AQEBAQEBAQH//////wEBAf///wEBAQEBAQEBAQEBAQEBAQEBAQEBAf//Af///wEBAQEBAQEBAQH/AQEBAQEBAQEBAQEBAQEBAQEBAQEBAQEBAQEBAQEBAQEBAQEBAQEBAQEBAQH//wEBAf8B/wEBAQEBAQEBAQEBAQEBAQEBAQEBAQEB/wH/AQEB/wH/AQEBAQEBAQH/AQEBAQEBAQEBAQH/////AQEBAQEBAQEBAQEBAQEBAQEBAQEBAQEBAQEBAQH//wEBAQEBAQEBAQEBAQH/AQEBAQEBAQEBAQEBAQEBAf8BAQEBAQEBAQEBAQEBAQEBAQEBAQEBAQEBAQEBAQEBAQEBAQEBAQEBAQEBAQEBAQEBAf8BAQEB/wEBAQEBAQEBAQEBAQEBAf8BAQH/AQEBAQEBAQEBAQEBAQEBAQEBAQEBAQEBAQEBAQEBAQEBAQEBAQEBAQEBAQEBAQEBAQEBAQEBAQEBAQEBAQEBAQEBAQEBAQEBAQEBAQEBAQEBAQEBAQEBAQEBAf8BAQEBAQEBAQEBAQEBAQEBAQEBAQEBAQEBAQEBAQEBAQEB/wEBAQEBAQEBAf//AQEBAQEBAQEBAQEBAQEB/wEBAQEBAQEBAQEBAQEBAQEBAQEBAQEBAQEBAQEBAQH/AQEBAQEBAQEBAQEBAQEBAQH/AQEBAQEBAQEBAQEBAQEBAQEBAQEBAQEBAQEBAQEBAQEBAQEBAQEBAQEBAQEBAQEBAQEBAQEBAQEBAQEBAQEBAQEBAQEBAQEBAf//AQEBAQEBAf8BAQEBAQEBAQH/AQEBAQEBAQEBAQEBAQEBAQEBAQEBAQEBAQEBAQEBAQ==",
            "dtype": "i1",
            "shape": "32, 32"
           }
          }
         ],
         "layout": {
          "title": {
           "text": "Ising Model at T = 2.10, Frame 13"
          }
         },
         "name": "13"
        },
        {
         "data": [
          {
           "type": "heatmap",
           "z": {
            "bdata": "AQEBAQEBAQEBAQEBAQEBAQEBAQEBAQEBAQEBAQEBAQEBAQEBAQH///8BAQEBAQEBAQEBAQEBAQEBAQEBAQEBAQEBAQEBAQEBAQEBAQEBAQEBAQEBAQEBAf8BAQEBAQEBAQEBAQEBAQEBAQEBAQEBAQEBAQEBAQEB//8BAQEBAQEBAf8BAQEBAQEBAQEBAQEBAQEBAQEBAQEBAQEBAQEBAQEBAQEBAf8BAQEBAQEBAQEBAQEBAQEBAQEBAQEBAQEBAQH/AQEBAQEBAQEBAQEBAQEBAQEBAQEB/wEBAQEBAQEBAf8BAQEBAQH/AQEBAQEBAQEBAQEBAQEBAQEBAQEBAQEBAQEBAf8BAQEBAQEBAQEBAQEBAQEBAQEBAQEBAQEBAQEBAQEBAQEBAQEBAQEBAQEBAQEBAQEBAQH/AQEBAQEBAQEBAQEBAQEBAQEBAQEBAQEBAQEBAQEBAQEBAQEB/wEBAQEBAQEBAQEBAQEBAQEBAQEBAQEBAQEBAQEBAQEBAQEBAQEBAQEB//8BAQEBAQEBAQEBAQEBAf///wEBAQEBAQEBAQEBAQEBAQEBAQEBAQEBAQH/AQEBAf//AQEBAQEBAQEBAQEBAQEBAQEB/wEBAQEBAQEBAQEBAQEBAQEBAQEBAQEB/wEBAf//AQEBAQEBAQEBAQEBAQEBAQEBAQEBAQEBAQEBAQEBAf8BAQEBAQEBAQEBAQEBAQEBAQEBAQEBAQEBAQEBAQH///8BAQEBAQEBAQEBAQEBAQEBAQEBAQEBAQEBAQEBAf8BAQEBAQEBAQEBAQEBAQEBAQEBAQEBAQEBAQEBAQEBAQEBAQEBAQEBAQEBAQEBAQEBAQEBAQEBAQEBAQEBAQEBAQEBAQEBAQEBAQEBAQEBAQEBAQEBAQEBAQEBAQEBAQEBAQEBAQEBAQEBAQEBAQEBAQEBAf8BAQEBAQEBAQEBAQEBAQEB/wEBAQEBAQH/AQEBAQEBAQEBAQEBAQEBAf//AQEBAQEBAQEBAQEBAQEBAQEBAQEBAQEBAQEBAQEBAQEBAQEBAQEBAQEBAQEBAQEBAQEBAQEBAQH/AQEBAQEBAQEBAf//////AQEBAQEBAQEBAQEBAf8BAQEBAQEBAQEBAQEBAf8BAQEBAQEBAQEBAQEBAQH/AQEBAQEBAQEBAQEBAQEBAQEBAQEBAQEBAQEBAQEBAQEBAQEBAQEBAQEBAQEBAQEBAQEBAQEBAQEBAQEBAQEBAQEBAQEBAQEBAQH/AQEBAQEBAQH/AQEBAQEBAQEBAQEBAQEBAQEBAQEBAQEBAQEBAQEBAQEBAQEBAQEBAQEBAQEBAQEBAQEBAQEBAQEBAQEBAQEBAQEBAQEBAQEBAQEBAQ==",
            "dtype": "i1",
            "shape": "32, 32"
           }
          }
         ],
         "layout": {
          "title": {
           "text": "Ising Model at T = 2.10, Frame 14"
          }
         },
         "name": "14"
        },
        {
         "data": [
          {
           "type": "heatmap",
           "z": {
            "bdata": "AQEBAQEBAQEBAQEBAf8BAQH//wEBAQEBAQEBAQEBAQH/AQEB/wEBAQEBAQEBAQEBAQH/AQEBAQEBAQEBAQEBAQEBAQH/AQEBAQEBAQEBAQEBAQEBAQEBAQEBAQEBAQEBAQEBAQEBAQEBAQEBAQEBAQEB/wEBAQEBAQEBAQEBAQEBAQEBAQEBAQH/AQEBAQEBAQEBAQEB/wEBAQEBAQEBAQEBAQEBAQEBAQEBAQEBAQEBAQEBAf8BAQH/AQEBAQEBAQEBAQEBAQEBAQEBAQEBAQEBAQEBAQEBAQEBAQEBAQEBAQEBAQEBAQEBAQEBAQEBAQEB/wEBAQEBAQEBAQEBAQEBAQEB/wEBAQEBAQEBAQH/AQEBAQEBAQEBAQEBAQEBAQEBAf//AQEBAQEBAQEBAQEBAQEBAQEBAQEBAQEBAQEBAQEBAQEBAQEBAQEBAQEBAQEBAQEBAQEBAQEBAQEB/wEBAQEBAQEBAQEBAQEBAQEBAQEBAQEBAQEBAQEBAQEBAQEBAQEBAQEBAQEBAQEBAQEBAQEBAQEBAQEBAQEBAQEBAQEBAQEBAQEBAQEBAQEBAQEBAQEBAQEBAQEBAQEBAQEBAQEBAQEBAQEBAQEBAQEBAQEBAQH//wEBAQEBAQEBAQEBAQEBAQEBAQEBAQEBAQEBAQEBAf//AQEBAQEBAQEBAQEBAQEBAQEBAf8BAf8BAQEBAf8BAQEBAQEBAQEBAQEBAQEB/wH//wEBAQEBAQEBAQH/AQEBAQEBAQH/AQEBAQEBAQEBAf//AQEBAQEBAQEBAf8BAQEBAQEBAQEBAQEBAQEBAQEBAQEBAQEBAQEBAQEBAQEBAQEBAQEBAQEBAQEBAQEBAQEBAQEB/wEBAQEBAQEBAQEBAQEBAQEBAQEBAQEBAQEBAQEBAQEBAQEBAQEBAQEBAQEBAQEBAQH/AQEBAQEBAQEBAQEBAQEBAQEBAQEBAQEBAQEBAQEBAQEBAQEBAQEBAQEBAQEBAf8BAQEBAQH/AQEBAQEBAQEB/wEBAQEBAf8BAQEBAQEBAQEBAQEBAf8BAQEBAQH/AQEBAQEBAQEBAf8BAQEBAQEBAQEBAQEBAQEBAQEBAQEBAQH/AQEBAQEBAQEBAQEBAQEBAQEBAQEBAQEBAQEB/wEBAQEBAQEBAQEBAQEBAQEBAf8BAQEBAQEBAQEBAQEBAQEBAQEBAQEBAQEBAQEBAQEBAQEBAQEBAf8BAQEBAQEBAQEBAQEBAQEBAQEBAQEBAQEBAQEBAQEB/wEBAQEBAQEBAQEBAQEBAQEBAQEBAQEBAf8BAQEBAQEBAQEBAQEBAQEBAQEBAQEBAQEBAQEBAQH//wEBAf8BAQEBAQEBAQEBAQEBAQ==",
            "dtype": "i1",
            "shape": "32, 32"
           }
          }
         ],
         "layout": {
          "title": {
           "text": "Ising Model at T = 2.10, Frame 15"
          }
         },
         "name": "15"
        },
        {
         "data": [
          {
           "type": "heatmap",
           "z": {
            "bdata": "/wEBAQEBAQEBAQEBAQEBAQEBAQEBAQEBAQEB/wEBAQH//wEBAQEBAQEBAQEBAQEBAQEBAQEBAQEBAQEBAQEB/////wEBAQEBAQEBAQEBAQEBAQEBAQEBAQEBAQEBAQEBAQEBAQEBAQEBAQEBAQEBAQEBAQEBAQEBAQEBAQEBAQEBAQEBAQEBAQEBAQEBAQEBAQEBAQEBAQEBAQEBAQEBAQEBAQEBAQEBAQEBAf//AQEBAQEBAQEBAQEBAQEBAQEBAQEBAQEBAQEBAQEB//8BAQEBAQEBAQEBAQEBAQEBAQEB/wEBAQEBAQEBAQEBAQEBAQEBAQEBAQEBAQEBAQEBAQEBAQEBAQEBAQEBAf8BAQEBAQH/AQEBAQEBAQEBAQEBAQEBAQEBAQEBAQEBAQEBAQEBAQEB/wEBAQEBAf//AQEBAQEBAQEBAQEBAQEBAQEBAQEB////AQEBAQEB//8BAQEBAQEBAQEBAQEBAQEBAQEBAQH///8BAQEBAQH/AQEBAQEBAQEBAQEBAQEBAQEBAQEBAQH//wEBAQEBAQEB/wEBAQEBAQEBAQEBAQEBAQEBAQEBAf//AQEBAQEBAQEBAQEBAQEBAQEBAQEBAQEBAQEBAQEBAQEBAQEBAQEBAQEBAQEBAQEBAQEBAQEBAQEBAQEBAQEBAQEBAQEBAQEBAQEBAQEBAQEBAQEBAQH/AQEBAQEBAQEBAQEBAQEBAQEBAQEBAQEBAQEBAQEBAQEBAQEBAQEBAQEBAQEBAf8BAf//AQEBAQEBAQEBAQEBAQEBAQEBAQEBAQEBAQH//wEBAQEBAf8BAQEBAQEBAQEBAQEBAQEBAQEBAQEBAQEBAQEBAQEBAQEBAQEB/wEBAQEBAQEBAQEBAQEBAf8BAQEBAQEBAQEBAQEBAQEBAQEBAQEBAQEBAQEBAQEBAQEBAQEBAQEBAQEBAQEBAf8BAQEBAQEBAQEBAQEBAQEBAQEBAf8BAQEBAQEBAQEBAQEBAQEBAQEBAQEBAQEB/wEBAQEBAQEBAQEBAQEBAQEBAQEBAQEBAQEBAQEBAQEBAQEBAQEBAQEBAQEBAQEBAQEBAQEBAQEBAQEBAQEBAQEBAQEBAQEBAQEBAQEBAQEBAQEBAQEBAQEBAQEBAf8BAQEB/wEBAQEBAQEBAQEBAQEBAQEBAQEBAQEBAQEBAQEBAQEBAQEBAQEBAQEBAQEBAQEB/wEBAQEBAQEBAQEB/wEB////AQEBAQEBAQEBAQH/AQEBAQEBAQEBAQEBAQEBAQEBAQEBAQEBAQEBAQEBAQEBAQEBAQEBAQEBAQEBAQEBAQEBAQEBAQEB/wEBAQEBAQEBAQEBAQEBAQEBAQEBAQEBAQEBAQEBAQ==",
            "dtype": "i1",
            "shape": "32, 32"
           }
          }
         ],
         "layout": {
          "title": {
           "text": "Ising Model at T = 2.10, Frame 16"
          }
         },
         "name": "16"
        },
        {
         "data": [
          {
           "type": "heatmap",
           "z": {
            "bdata": "AQEBAQEBAQEBAQEB////AQEB//8BAQEBAQEBAQEBAQEBAQEBAQEBAQEBAQH//////wEBAQEBAQEBAQEBAQEBAQH/AQEBAQH/AQEBAQEBAQEBAQEBAQEBAQEBAQEBAQEBAQEBAQEBAf//AQEBAQEBAQEBAQEBAQEBAQEBAQEBAQEBAQEBAQEBAQEBAQEBAQEBAQEBAQEBAQEBAQEBAQEBAQEBAQEBAf8BAQEBAQEBAQEBAQEBAQEBAQEB/wEBAQEBAQEBAQEBAQEBAQEBAQEBAQEBAQEBAQEBAQEBAQEBAQEBAQEBAQEBAQEBAQEBAQEBAQH/AQEBAQEBAQEBAQEBAQEB/wEBAQEBAQEBAQEBAQEBAQEBAQEBAf8BAQEBAQEBAQEBAQEBAQEBAQEBAQEBAQEBAQEBAQEBAf8BAQEBAQEBAQEBAf8BAQEBAQH/AQEBAQEBAQEBAQEBAQEBAQEBAQEBAQEBAQEBAQEBAQEB//8BAQEBAf8BAQEBAQEBAQEBAQEBAQEBAQEBAQEBAQEB/wEBAQEB/wEBAQEBAQEBAQEBAQEBAQEBAQEBAQEBAQEBAQEBAQH/AQEBAQEBAQEBAQEBAQEB/wEBAQEBAQEBAQEBAQEBAQEBAf8BAQEBAQEBAQEBAQEBAf8BAQEBAQEBAQEBAQEBAQEBAQEBAQEBAf//AQEBAQEBAQEBAQEBAQEBAQEBAQEBAQEBAQEBAQEB/wEBAQEBAf//AQEBAQEBAQEBAQEBAQEBAQEBAQEBAQH/AQEBAQEBAQEBAQEBAQEBAQEBAQEBAQEBAQEBAQEBAf8BAQEBAQEBAQEBAQEBAQEBAQH/AQEBAQEBAQEBAQEBAQEBAQEBAQEBAQEBAQEBAQEBAf//AQEBAQEBAQEBAQEBAQEBAQEB//8BAQEBAQEBAQEB/wEBAQEBAQEBAQEBAQEBAQEBAQEBAQEBAQEBAQEBAQEBAQH/AQEBAQEBAQEBAQEBAQEBAQEBAQEBAQEBAQEBAQH/AQEB/wEBAQEBAQEBAQEBAQEBAQEBAQEBAQEBAQEBAQEBAf//AQEBAQEBAQEBAQEBAQEBAQEB/wEBAQH///8BAQEBAQEBAQEBAQEBAQEBAQEBAQEBAQEBAQEBAf//////AQEBAQEBAQEBAQEBAQEBAQEBAQEBAf8BAQEB////AQEBAQEBAQEBAQEBAQEBAQH/AQEBAf8BAQEBAQEB//8BAQEBAQEBAQEBAQEBAQEBAQEBAQH///8BAQEBAQEBAQEBAQEBAQEBAQH//wEBAQEBAQEBAQH/AQEBAQEBAQEBAf8BAQEBAQEBAQEBAQEBAQEBAf8BAQH/AQEB/wEBAQEBAQEBAQEBAQEBAQEBAQ==",
            "dtype": "i1",
            "shape": "32, 32"
           }
          }
         ],
         "layout": {
          "title": {
           "text": "Ising Model at T = 2.10, Frame 17"
          }
         },
         "name": "17"
        },
        {
         "data": [
          {
           "type": "heatmap",
           "z": {
            "bdata": "AQEBAQEBAQH/AQEBAQEBAQEBAQEBAQEBAQEBAQEBAQEBAQEBAQEBAf8BAQEBAQH/AQEBAQEBAQEBAQEBAf8BAf8BAQEBAQEBAQEBAQEBAQEBAQEBAQEBAQH//wEBAQH/AQEBAQEBAQEBAf//AQEBAQH/AQEBAQEBAQH/AQEBAQEBAQEBAQEBAQEBAf8BAQEBAQEBAQEBAQEBAQEBAQEBAQEBAQEBAQEBAQEB/wEBAQEBAQEBAQEBAQEBAQEBAQEBAQEBAQEBAQEBAQEBAQEBAQEBAQEBAQEBAQEBAQEBAQEBAQEBAQEBAQEBAQEBAQEBAQEBAQEBAQH/AQEBAQEBAQEBAQEBAQEBAQEBAQEBAQEBAQEBAQEBAQEBAQH/Af8BAQEBAQEB/wEBAQEBAQH/AQEBAQEBAQEBAf//AQEB/wEB//8BAQEBAQEBAQEBAQEBAQEBAQEBAQEB////AQEBAQH/AQEBAQEBAQEBAQEBAQH/AQEBAQEBAQH///////8BAQEBAQEBAQEBAQEBAQEBAf8BAQEBAQEBAQH/Af//AQEBAQH/AQEBAQEBAQEB/wEB/wEBAQEBAQEB//8BAQEBAQEBAQEBAQEBAQEBAQEBAQEBAQEBAQEB/wEBAQEBAQEBAQEBAQEBAQEBAQEBAQEBAQEBAQEBAQEBAQEBAQEBAQEBAQEBAQEBAQH/AQEBAQEBAQEBAQEBAQEBAQEBAQEBAQEBAf8BAQEBAQEBAQEBAQEBAQEBAQEBAQEBAQEBAQEB/wEBAQEBAQEBAQEBAf8BAQEBAQEBAQEB/wEBAQEBAQEBAQEBAQH/AQEBAQEB/wEBAQEBAQEBAQEBAQEBAQEBAQEBAQEBAQEBAQEBAQEBAQEBAQEBAQEBAQEBAQEB/wEBAQEBAQEBAQEBAQEBAQEBAQEBAQEBAQEBAQEBAQEBAQEBAQEBAQEBAQEBAQEBAQEBAQEBAQEBAQEBAQEBAQEBAQEB/wEBAQEBAQEBAQEB//8BAQEB/wEBAQH/AQEBAQEBAQEBAQEBAQEBAQEBAQH//wEBAQEBAQEBAQEBAQEBAQEBAQEBAQEBAQEBAQEBAQH/AQEBAQEBAQEBAQEBAQEBAQEBAQEBAQEBAQEB/wEBAQEBAQEBAf8BAQEBAQEBAQEBAQEBAQEBAQEBAQEBAQEBAQEBAQEBAQEBAQEBAQEBAQEBAQEBAQEBAQEBAQEBAQEBAQEBAQEBAQEBAQEBAQEBAQEBAQEBAQEBAQEBAQEBAQEBAQH//wEBAQEBAQEBAQEBAQEBAQEBAQEBAQEBAQEBAQEBAQH/AQEBAQEBAQEBAQEBAQEBAQEBAQEBAQEBAQEBAQEBAQEBAQEBAQEBAQEBAQ==",
            "dtype": "i1",
            "shape": "32, 32"
           }
          }
         ],
         "layout": {
          "title": {
           "text": "Ising Model at T = 2.10, Frame 18"
          }
         },
         "name": "18"
        },
        {
         "data": [
          {
           "type": "heatmap",
           "z": {
            "bdata": "AQEB/wH/AQEBAQEBAQEBAQEBAQEBAQEBAQEBAQEBAQEBAQH//wEBAQEBAQEBAQEBAQEBAQEBAQEBAQEBAQEBAQEBAQH/AQEBAQEBAQEBAQEBAQEBAQEBAQEBAQEBAQEBAQH/AQEBAQEBAQEBAQEB//8BAf//AQEBAQEBAQEBAQEBAQEBAQEB//8BAQEBAQEBAQEBAQEBAQEBAQEBAQEBAQEBAQEBAQEBAQEBAQEBAQEBAQEBAQEBAQH/AQEB/wEBAQEBAQEBAQEBAQEBAQEBAQEBAQEBAQEBAf8BAQEBAQEBAQEBAf///wEBAQEBAQEBAQEBAQEBAQEBAQEBAQEBAQEBAQEBAQH/AQEBAQEBAQEBAQEBAQEBAQEBAQEBAQEBAQEBAQEBAQEBAQEBAQEBAQEBAQEBAQEBAQEBAQEBAQEBAQEBAQEBAQEBAQEBAQEBAQEBAQEBAQEBAQEBAQEBAQEBAQEBAQEBAQEBAQEBAQEBAQEBAQEBAQEBAQEBAQEBAf//AQH/AQEBAQEBAQEBAQEBAf8BAQEBAQEBAQEB/wEBAQEBAf8BAQEBAf8BAQEBAQEBAf8BAQEBAQEBAQEBAf8BAQEBAQEBAQEBAQEBAQEBAQEBAQEBAQEBAQEBAQEBAQH/AQEBAf8BAQEBAQEBAQEBAQEBAQEBAQEBAQEBAQEBAQEBAQH/AQEBAQEBAQEBAQEBAQEBAQEBAQEBAQEBAQEBAQEBAQEBAQEBAQEBAQEBAQEBAQEBAQEBAQEBAQEBAQEBAQEBAQEBAQEBAQEBAQEBAQEBAQEBAQEBAQEBAQEBAQEBAQEBAQEBAQEBAQEBAQEBAQEBAQEBAQEBAQEBAQEBAQEBAQEBAQEBAQEBAQEBAQEBAQEBAQEBAQH/Af8BAQEBAQEBAQEBAQEBAQEBAQEBAf8BAQEBAQEBAQEBAQH/AQEBAQEBAQEBAQEBAQEBAQEBAQEBAQEBAQEBAQEBAQEBAQEBAQEBAQEBAQEBAQEBAQEBAQEBAQEB/wH//wEBAf8BAQH/AQH//wH/AQEBAQEBAQEBAQEBAQEBAQH/AQH/AQEBAQEBAQH/////AQEBAQEBAQEBAQEBAQEBAQEBAQEBAQEBAQEBAf//////AQEBAQEBAQEBAQEBAf8BAQEBAQEBAQEBAQEB//////8BAQEBAQEBAQEBAQH/AQEBAQEBAQEBAQEBAQH//////wEBAQEBAQEBAQEBAQEBAQEBAQEBAQEBAQEBAQEBAQEBAQEBAQEBAQEBAQEBAQEBAQEBAf8BAQH/AQEBAQEBAQEBAQEBAQEBAQEBAQEBAQEBAQEBAQEBAf8BAQEBAQEBAQEBAQEBAQEBAQEBAQEBAQEBAQ==",
            "dtype": "i1",
            "shape": "32, 32"
           }
          }
         ],
         "layout": {
          "title": {
           "text": "Ising Model at T = 2.10, Frame 19"
          }
         },
         "name": "19"
        },
        {
         "data": [
          {
           "type": "heatmap",
           "z": {
            "bdata": "AQEBAQEBAQEBAQEBAQEBAQEBAQEBAQEBAQEBAQEBAQEBAQEBAQEBAQEBAQEBAQEBAQEBAQEBAQEBAQEBAQEBAQEBAQEBAQEBAQEBAQEBAQEBAQEBAQEBAQEBAQEBAQEBAQEB//8BAQEBAQEBAQEBAQEBAQEBAQEB/wEBAQEBAQEBAQEB/wEBAQEBAQEBAQEBAQEBAQEBAQEBAQEBAQEBAQEBAQEBAQEBAQEBAQEBAQEBAQEBAQEBAQEBAQEBAQEBAQEBAQEBAQEBAQEBAf//AQEBAQEB/wEBAQEBAQEBAQEBAQEBAQEBAQEBAQEBAQEB/wEBAQH/AQEBAQEB/wEBAQEBAQEBAQEBAQEBAQEBAQEBAQEBAf8BAQEBAQEBAQH/AQEBAQEBAQEBAQEBAQEBAQEBAQEBAQEBAQEBAQEBAQEBAQEBAQEBAQEBAQEBAQH///8BAQEBAQEBAQEBAQEBAQEBAQEBAQEBAQEBAQEBAQH/AQEB//8BAQEBAQEBAQEBAQH/AQEBAQEBAf//AQEBAQEBAQEBAQEBAQEBAQEBAQEBAQEBAQEBAQEBAQEBAQEBAQEBAQEBAQEBAQEBAQEBAQEBAQH/AQEBAQH/AQEBAQEBAQEBAQEBAQEBAQEBAQEBAQEBAQEBAQEB/wEBAQEBAQEBAQEBAQEBAQEBAQEBAQEBAQEBAQEB/wEBAQEBAQEBAQEBAQEBAQEBAQEBAQEBAQEBAQEBAQH/AQEBAQEBAQEBAQEBAQEBAQEBAQEBAQEBAQEBAQEBAQEBAQEBAQEBAQEBAQEBAQEBAQEBAQEBAQEBAQEBAQEBAQEBAQEBAQEBAQEBAQEBAQEBAQH/AQEBAQEBAQEBAQEBAQEBAQEBAQEBAQH/AQEBAQEBAQEBAQEBAQEB/wEBAQEBAQEBAQEBAQEBAQEBAQEBAQEBAQEBAQEBAQEBAQEBAQEBAQEBAQEBAQEBAQEBAQEBAQEBAQEBAQEBAQH/AQEBAf//AQEBAQEBAQEBAQEBAQEBAQEBAQEBAQEBAQEBAQEB//8BAQEBAQEBAQEBAQEBAQEBAQEBAQEBAQEBAQEBAQH//wEBAQEBAQEB//8BAQEBAQEBAQEBAQEB////AQEBAQH/AQEBAQH/AQEBAQEBAQEBAQEBAQEB//8BAQEBAQEBAQEB/wEBAf//AQEBAQEBAQEBAQEBAQEBAQEBAQEBAf8BAQEBAQEBAQEBAQEBAQEBAQEBAQEBAQEBAQEBAQEBAQEBAQEBAf8BAQEBAQEBAQEBAf8BAQEB/wEBAQEBAQEBAQEBAQEBAQEB/wEBAQEBAQEBAQEBAf8BAQEBAQEBAQEBAQEBAQEBAQEBAQEBAQEBAQEBAQEBAQ==",
            "dtype": "i1",
            "shape": "32, 32"
           }
          }
         ],
         "layout": {
          "title": {
           "text": "Ising Model at T = 2.10, Frame 20"
          }
         },
         "name": "20"
        },
        {
         "data": [
          {
           "type": "heatmap",
           "z": {
            "bdata": "AQEBAQEBAQEB/wEBAQEBAQEBAQEBAQEBAQEBAf8BAQEBAQEBAQEBAQH/AQEBAQEBAQEBAf8BAQH/AQEBAQEBAQEBAQEBAQEBAf8BAQEBAQEBAQEB/wEBAQEBAQEBAQEBAQEBAQEBAQEBAQEBAQEBAQEBAQH/AQEBAQEBAQEBAQEBAQEBAQEBAQEBAQEBAQEBAQEBAQEBAQEBAf8BAQEBAQEBAQEBAQEBAQEBAQEBAQEBAQEBAQEBAQEBAQEBAQEBAQEBAQEBAQEBAQEBAQEBAQEBAQEBAQEBAQEBAQEBAQEBAQH/AQEBAQEBAQEBAQEBAQEBAQEBAQEBAQEBAQEBAQEBAQEBAQEBAQEBAQEBAQEBAQEBAQEBAf8BAQEBAQEBAQEBAQEBAQEBAQEBAQEBAQEBAQEBAQEBAQEBAQEBAQEBAQEBAQEBAQEBAQEBAQEBAQEBAQEBAQEBAQEBAQEBAQEBAQEBAQEBAQEBAQEBAQEBAQEBAQEBAQEBAQEBAQEBAQH/AQEBAQEBAQEBAQEBAQEBAQEBAQEBAQEBAQEBAQEBAQEBAQEBAQEBAQEBAQEBAQEBAQEBAQEBAQEBAQEBAQEBAQEBAQEBAQEBAQEBAQEBAQEBAQEBAQEBAQEBAQEBAQEBAQEBAQEBAQEBAQEBAQEBAQEBAQEBAQEBAQEBAQEBAQEBAQEBAQEBAQEBAQEBAQEBAQEBAQEBAQEBAQEBAQEBAQEBAQEBAQEBAQEBAQEBAQEBAQEBAQEBAQEBAQEBAf8BAQEBAQEBAQEBAQEBAQEBAQEBAQEBAQEBAQEBAQEB/wEBAQEBAQEBAQEBAQEBAQEBAQEBAQEBAf8BAQH/AQEBAQEBAQEBAQEBAQEBAQEBAQEBAQEBAQEBAQEBAQEBAQEBAQEBAQH/AQEBAQEBAQEBAQEBAQEBAQEBAQEBAQEBAQEBAQEB//8BAQEBAQEBAQEBAQEBAQEBAQEBAQEBAQEBAQEBAf8BAQEBAQEBAQEBAQEBAQH/AQEBAQEBAQEBAQEBAQEBAQEBAQEBAQEBAQEBAQEBAQEBAQEBAQEBAQEBAQEBAQEBAQEBAf8BAQEBAQEBAQEBAQEBAQH/AQEBAQEBAQEBAQEBAQH//wEBAQEBAQEBAQEBAQEBAQEBAQEBAQEBAQEBAQEBAf8BAQEBAQEBAQEBAQEBAQEBAQEBAQEBAQEBAQEBAQEBAQEBAQEBAQEBAQEBAQEBAQEB//8BAQEBAQEBAQEBAQEBAQEBAQEBAQEBAQEBAQEBAQH//wEBAQEBAQEBAQEBAQEBAQEBAQEBAQEBAQEBAQEBAQEBAQEBAQEBAQEBAQEBAQEBAQEBAQEBAQEBAQEBAQEBAQEBAQ==",
            "dtype": "i1",
            "shape": "32, 32"
           }
          }
         ],
         "layout": {
          "title": {
           "text": "Ising Model at T = 2.10, Frame 21"
          }
         },
         "name": "21"
        },
        {
         "data": [
          {
           "type": "heatmap",
           "z": {
            "bdata": "AQEBAQEBAQEBAQEBAQEBAQEBAQEBAQEBAQEBAQEBAQEBAQEBAQEBAQEBAQEBAQEBAQEBAQEBAQEBAQEBAQEB/wEBAQEBAQEBAQEBAQEBAQEBAQEBAQEBAQEBAQEBAQEBAQEBAQEBAQEBAQEBAQEBAQH/AQEBAQEBAQEBAQEBAQEBAQEBAQEBAQEBAQEBAQEBAQEBAQEBAQEBAQEBAQEBAQEBAQEBAQEBAQEBAQEBAQEBAf//AQEBAQEBAQEBAQEBAQEBAQEBAQEBAQEBAQEBAQEBAQEBAQEBAQEBAQEBAQEBAQEBAQEBAQEBAf8BAQEBAQEBAQH/AQEBAQEBAQEBAf8BAQEBAQEBAQEBAQEBAQEBAQEBAf8BAQEBAQEBAQEBAQEBAQEBAQEBAQEBAQEBAQEBAQEBAQEBAQEB/wEBAQEBAQEB/wEBAQEBAQEBAQEBAQEBAQEBAQEBAQEBAQEBAQEBAQEBAQEBAQEBAQEBAQEBAQEBAf8BAQEBAQEBAQEBAQEBAQEBAQEBAQEBAQEBAQEBAQH//wEBAQEBAQEBAQEBAQEBAQEBAQEBAQEBAQEBAQEBAQEBAQEBAQH/AQEBAQEBAQEBAQEBAQEBAQEBAQEBAQEBAQEBAQEBAQEBAQEBAQEBAQEBAQEBAQEBAQEBAQEBAQEBAQEBAQEBAQEBAQEBAQEBAQEBAQEBAQEBAQEBAQEBAQEBAQEBAQEBAQEBAQEBAQEBAQEBAQEBAQEBAQEBAQEBAQEBAQEBAQEBAQEBAQEBAQEBAQEBAQEBAQH/AQEBAQEBAQEBAQEBAQEBAQEBAQEBAQEBAQEBAQEBAf8BAQEBAQEBAQEBAQEBAQEBAQEBAQEBAQEBAQH/AQEBAQEBAQEBAQEBAQEBAQEBAQEBAQEBAQEBAQEBAf8BAQEBAQH/AQEBAQEBAQEBAQEBAQEBAf//AQEBAQEBAQEBAQEBAQEBAQEBAQEBAQEBAQEBAQEBAf///wEB/wEBAQEBAQEB/wEBAQEBAQEBAQEBAQEBAQEB////////AQEBAQEBAQEBAQH/AQEBAQEBAf8BAQEBAf8BAf////8BAQEBAQEBAQEBAf//AQEBAQEBAQEBAQEBAQEB////AQEBAQEBAQEBAQEB////AQEBAQEBAQEBAf8BAQH///8BAQEBAQEBAQEBAQH///8BAQEBAQEBAQEBAQEBAQEB/wEBAQEBAQEBAQEBAQH//wEBAQEBAQEBAQEBAQEBAQH//wEBAQEBAQEBAQEBAQEBAQEBAQEBAQEBAQEBAQEBAQEBAQEBAQEBAQEBAQH/AQEBAQH/AQEBAQEBAQEBAQEBAQEBAQEBAQEBAQEBAQEBAQEBAQEBAQEBAQ==",
            "dtype": "i1",
            "shape": "32, 32"
           }
          }
         ],
         "layout": {
          "title": {
           "text": "Ising Model at T = 2.10, Frame 22"
          }
         },
         "name": "22"
        },
        {
         "data": [
          {
           "type": "heatmap",
           "z": {
            "bdata": "AQEBAQEBAQEBAQEBAQEBAQH/AQEBAQEBAQEBAQEBAQEBAQEBAQEBAQEBAQEBAQEBAQEBAQEBAQEBAQEBAQEBAQEBAQEBAQEBAQEBAQEBAQEBAQEBAf8BAQEBAQEBAQEBAQEBAQEBAQEBAQEBAQEBAQEBAQEB//8BAQEBAQEBAQEBAQEBAQEBAQEBAQEBAQEBAQEBAQH/AQEBAQEBAQEBAQEBAQEBAQEBAf8BAQEBAQEBAQEB//8BAQEBAQEBAQEB/wEBAQEBAQEBAQEBAQEBAQEB////AQEBAQEBAQEBAQH/AQEBAQEBAQH//wEBAQEBAQEB//8BAQEBAQEBAQEBAQEBAQEBAQEBAQEBAQEBAQEBAQEBAQEBAQEBAQEBAQEBAQEBAQEBAQEBAQEBAQEBAQEBAQEBAQEBAQEBAQEBAQEBAQEBAQEB/wEBAQEBAQEBAQH/AQEBAQEBAQEBAQEBAQEBAQEBAQEBAQEBAQEBAQEBAQEBAQEB/wEBAQEBAQEBAQEBAQEBAQEBAQEBAQEBAQEBAQEBAQEBAQEBAQEBAQEBAQEBAQEBAQEBAQEBAQH//wEBAQEBAQEBAQEBAQEBAQEBAQEBAQEBAQEBAQEBAQH/AQEBAQEBAQEBAQEBAQEBAQEBAQEB/wEBAQEBAQEBAQEBAQEBAQEBAQEBAQEBAQEBAQEBAQH/AQEBAQEBAQEBAf8BAQEBAQH/Af//AQEBAQEBAQEBAQEBAQEBAQEBAQEBAQEBAQEBAQEBAf8BAQEB/wEBAQEBAQEBAQEBAQEBAQEBAQEBAQEBAQEBAf8BAQEBAQEBAQEBAQEBAQEBAQEBAQEBAQEBAQEBAQEBAQEBAQEBAQEBAQEBAQEBAQEBAQEBAQEBAQEBAQEBAQEBAQEBAQEBAf8BAQEBAQEB/wEBAQEBAQEBAQEBAQEBAQEBAQEBAQEBAQEBAQEBAQEBAQEBAQEBAQEBAQEB//8BAQEBAQEBAQEBAQEBAQEBAQEB/wEBAQEBAQEBAQEBAf8BAQEBAQEBAQEBAQEBAQEBAQEBAQEBAQEBAQEBAQEBAQEBAQEBAQEBAf8BAQEBAQEBAQEBAQEBAQEBAQEBAQEBAQEBAQEBAQH/AQEBAQEBAQEBAQEBAQEBAQEBAQEBAQEBAQEB/wEBAQEBAQEBAQEBAQEBAQEBAQEBAQEBAQEBAQEBAf////8BAQEBAQEBAQEBAQEBAQEBAQEB/wEBAQEBAQEB/wEBAQEBAQEBAQEBAQEBAQEBAQEBAQEBAQEBAQEBAQEBAQEBAQEBAQEBAQEBAQEBAQEBAQEBAQEBAQEBAQEBAQEBAQEBAQEBAQEBAQEBAQEBAQEBAQEBAQEBAQEBAQH/AQ==",
            "dtype": "i1",
            "shape": "32, 32"
           }
          }
         ],
         "layout": {
          "title": {
           "text": "Ising Model at T = 2.10, Frame 23"
          }
         },
         "name": "23"
        },
        {
         "data": [
          {
           "type": "heatmap",
           "z": {
            "bdata": "AQEBAQH/AQEBAQEBAQEBAf////8BAQH/AQEBAQEBAQEBAQEBAf8BAQEBAQEBAQEB//8BAQEBAf8BAQEBAQEBAQEBAQEBAQEBAQEBAQEBAQEBAQEBAf8BAQEBAQEBAQEB//8BAQEBAQEBAQEBAQEBAQEBAQEBAQEBAQEBAQEBAQH//wEBAQEBAQEBAQEBAQEBAQEBAQEBAQEB//8BAQEBAQEBAQEBAQEBAQEBAQEBAQEBAQEBAQEBAQEB/wEBAQEBAQEBAQEBAQEBAQEBAQEBAQEBAQEBAQEBAf//AQEBAQEBAQEBAQEBAQEBAQH/AQEBAQEBAQEBAQEBAf//AQH/Af8BAQEBAQEBAQEBAQH/AQEB/wEBAQEBAQEBAQEBAQEBAQEBAQEB//8BAQEBAQEBAQEBAQEBAQEBAQEBAQEBAQEBAQEBAQEBAQEBAQEBAQEBAQEBAQEBAQEBAQEBAQEBAQEBAQEBAQEBAQEBAQEBAQEBAQEBAQEBAQEBAQEBAQEBAQEBAQEBAQEBAQEBAQEBAQEBAQEBAQEBAQEBAQH/AQH/AQEBAQEBAQEBAQEBAQEBAQEBAQEBAQEBAQEBAQEBAQH//wEBAQEBAQEBAQEBAQEBAQEBAQEBAQEBAQEBAQEBAf///wEBAQEBAQEBAQEB/wEBAQEBAQEBAQEBAQEBAQEB//////8BAQEBAQEBAQEBAQEB//8BAQEBAQEBAQEBAQEBAQEBAQEBAQEBAQEBAQEBAQH/AQEBAQEBAQEBAQEBAQEBAQEBAQEBAQEBAQEBAQEBAQEB/wEBAQEBAQEBAQEBAQEBAQH/AQEBAQEBAQEBAQEBAQEBAQEBAQEBAQEBAQEBAQEBAQEBAQEBAQH/AQEBAQEBAQEBAQEBAQEBAQEBAf8BAQEBAQEBAQEBAQEBAQEBAQEB/wEBAQEBAQEBAQEBAQEBAQEBAQEBAQEBAQEBAQEBAQEBAQEBAQEBAQEBAQEBAQEBAQEBAQEBAQEBAQEBAQEBAQEBAQEBAQEBAQEBAQEBAQEBAQEBAQEB/wEBAQEBAQEBAQEBAQEBAQEBAQEBAQEBAQEBAQEBAQEBAQEBAQH///8BAQEBAQEBAQEBAQEBAQEBAQEBAQEBAQEBAQEB/////wEBAQEBAQEBAQEBAQEBAQEBAQEBAQEBAQEBAf//////AQEBAQEB////AQEBAQEBAQEBAQEBAQEBAQH///////8BAQEBAQEBAQH/AQEBAQEBAQEBAQEBAQEBAf///////wEBAQEBAQEBAQH/AQEBAQEBAf8BAQEBAQEBAf////8BAQEBAQEBAQEB//8BAQEBAQEBAQEBAf8BAQEB/////wEBAQEBAQEBAQEB/w==",
            "dtype": "i1",
            "shape": "32, 32"
           }
          }
         ],
         "layout": {
          "title": {
           "text": "Ising Model at T = 2.10, Frame 24"
          }
         },
         "name": "24"
        },
        {
         "data": [
          {
           "type": "heatmap",
           "z": {
            "bdata": "AQEBAQEBAQEBAQEBAQEBAQEBAQEBAQEBAQEBAQEBAQEBAQEBAf8BAQH/Af8BAQEBAQH/AQEBAQEBAf8BAQEBAQEBAQEB/wEBAQEBAf8BAQEBAQH/AQEBAQEBAQEBAQEBAQEBAQEBAQEBAQEBAQEBAQEBAQEBAQEBAQEBAQEBAQEBAQEB/wEBAQEBAQEBAQEBAQEBAQEBAQEBAQEBAQEBAQEBAQEBAQEBAQEBAQEBAQEBAQEBAQEBAQEBAQEBAQEBAQEBAQEB//8BAQEBAQEBAQEBAQEB/wEBAQEBAQEBAQEBAQH/AQH/AQEBAQEBAQEBAQEBAQEBAQEBAQEBAQEBAQEBAQEBAQEBAQEBAQEBAQEBAQEBAQEBAQEBAQEBAQEBAQEBAQEBAQEBAQEBAQEBAQEBAQEBAQEBAQEBAQEBAQEBAQEBAQEBAQEBAQEBAQEBAQEBAQEBAQEBAQEBAQEBAQEBAQEBAQEBAQEBAQEBAQEBAQEBAQEBAQEBAQEBAQEBAQEBAQEBAQEBAQEBAQEBAQEBAQEBAQEBAQEBAQEBAQEBAQEBAQEBAQEBAQEBAQEBAQEBAQH/AQEBAQEBAQEBAQEBAQEBAQEBAQEBAQEBAQEBAQEB//8BAQEBAQEBAQEBAQEBAQEBAQEBAQEBAQEBAQEBAQEBAQEBAQEBAQEBAQEBAQEBAQEBAQEBAQEBAQEBAQH/AQEBAQEBAQEBAQEBAQEBAQEBAQEBAQEBAQEBAQH/Af//AQEBAQEBAQEBAQEB/wEBAQEBAQEBAQEBAQEBAQH/Af//AQEBAQEBAQEBAQH/AQH/AQEBAf8BAQEBAQEBAQH//wEBAQEBAQEBAQEBAf8BAQEBAQEBAQEBAQEBAQEBAQH/AQEBAQEBAQEBAQEBAQEBAQEBAQEBAQEBAQEBAQEBAQEBAQEBAQEBAQEBAQEBAQEBAQEBAQEBAQEBAQEBAQEBAQEBAQEBAQEBAQEBAQEBAQEBAQEBAQEBAQEBAQEBAQEBAQEBAQEBAQEBAQEBAQEBAQEBAQEBAQEBAQEBAQEBAQEBAQEB////AQEBAQH/Af8BAQEBAQEBAQEBAQEBAQEBAQEBAQH/Af8BAQEB/////wEBAQEBAQEBAf8BAQEBAQEBAQEBAQEB/wEBAQEBAf//AQEBAQEBAQEB/wEBAQEBAQEBAQEB////AQEBAQEBAQEBAQEBAQEBAQEBAQEBAQEBAf8BAQH//wEBAQEBAQEBAQEBAQEBAQEBAf8BAQEBAf//AQEBAf8BAQEBAQEBAQEBAQEBAQEBAQEBAQEBAQEB//8BAQEBAf8BAQEBAQEBAQEBAQEBAQEBAQEBAQEBAQH/AQEBAQEBAQEBAQH/AQ==",
            "dtype": "i1",
            "shape": "32, 32"
           }
          }
         ],
         "layout": {
          "title": {
           "text": "Ising Model at T = 2.10, Frame 25"
          }
         },
         "name": "25"
        },
        {
         "data": [
          {
           "type": "heatmap",
           "z": {
            "bdata": "AQEBAQEBAQEBAQEBAQEBAQEBAQEBAQEBAQEBAQEBAQEBAQEBAQEBAQEBAQH/AQEBAQEBAQEBAQEBAQEBAQEBAQEBAQEBAQEBAQEBAQEBAQEBAQEBAQEBAQEBAQEBAQEBAQEBAQH/AQEBAQEBAf8BAQEBAQEBAQEBAQEB/wEBAQEBAQEBAQEBAQEBAQEBAQEBAQEBAQEBAQEBAQEBAQEBAQEBAQEBAQEBAQEBAQEBAQEBAQEBAQEBAQEBAQEBAQEBAQEBAQEBAQEBAQEBAQEBAQEBAQEBAQEBAQEBAQEBAQEBAQEBAQEBAQEBAQEBAQEBAQEBAQEBAQEBAQEBAQEBAQEBAQEBAQEBAQEBAQEBAQEBAQEBAQEBAQEBAQEBAQEBAQEBAQEBAQEBAQEBAQH/AQEBAQEBAQEBAQEBAQH/AQEBAQEBAQEBAQEBAQEBAQEB//8BAQEBAQEBAQEB//8BAQEBAQEBAQEBAQEBAQEBAQH///8BAQEBAQEBAQEBAQEBAQEBAQEBAQEBAQEBAQEBAQH//wEBAQEB/wEBAQEBAQEBAQEBAQEBAQEBAQEBAQEBAf//AQEBAQEBAQEBAQEBAf8BAQEBAQEBAQEBAQEBAQEBAQEBAQEBAQEBAQEBAQEBAQEBAQEB/wEBAQEBAQEBAQEBAQEBAf8BAQEBAQEBAQEBAQEBAf8BAQEBAQEBAQEBAQEB/wEB/wEBAQEBAQEBAQEBAQEBAQEBAQEBAQEBAQEBAf///wEBAQEBAQEBAQEB/wEBAQEB/wEBAQEBAQEBAQEB////AQEBAQEBAQEBAQH/AQEBAQEBAQEBAQEBAQEBAQH//wEB//8BAQEBAQEBAf8B//8BAQEBAQEBAQEBAQEBAQEBAQH//wEBAQEBAQEBAQEBAQEBAQEBAQEBAQEBAQEBAQEBAf8BAQH/AQEBAQEBAQEBAQEBAQEBAQEBAQEBAQEBAQEBAQEBAQEBAQEBAQEBAQEBAQEBAQEBAQEBAQEBAQEBAQEBAQEBAf8BAf8BAQEBAQEBAQEBAQH/AQEBAQEBAQH//wEBAQEBAQEBAQH/AQEBAQEBAQEBAQEBAQEBAQEBAf//AQEBAQEBAQEBAQEBAQEBAQEBAQEBAQH/AQEBAQEB//8BAQEBAQEBAQEBAQEBAQEBAQEBAQEBAQEBAQEBAf///wEBAQEBAQEBAQEBAQEBAQEBAQEBAQEBAQEBAQH/////AQEBAQEBAQEBAQH/AQEBAQEBAQEBAQEBAQEBAf////8BAQEBAQEBAQEBAQEBAQEBAQEB/wEBAQEBAQEBAQEBAQEBAQEBAQEBAQEBAQEBAQEBAQEBAQEBAQEBAQEBAQEBAQEBAQEBAQEBAQ==",
            "dtype": "i1",
            "shape": "32, 32"
           }
          }
         ],
         "layout": {
          "title": {
           "text": "Ising Model at T = 2.10, Frame 26"
          }
         },
         "name": "26"
        },
        {
         "data": [
          {
           "type": "heatmap",
           "z": {
            "bdata": "AQEBAQEBAQEBAQEBAQEBAQEBAQEB/wEBAQEBAQEBAf8BAQEBAQEBAQEBAQEBAQEBAQEBAQEBAQEBAQEBAQEBAQEBAQEBAQEBAQEBAQEBAQEBAQEBAQEBAf///wEBAQEBAQEBAf8BAQEBAQEBAQH/AQEBAQEBAQEB////AQEBAQEBAQEBAQEBAQEBAf8BAQEBAQEBAQEBAQH/AQEBAQEBAQEB/wEBAQEBAQEBAQEBAQEBAQEBAQEBAQEBAQEBAQEBAQH/AQEBAQEBAQEBAQEBAQEBAQEBAf8BAQEBAQEBAQEBAQEBAQEBAQEBAQH/AQEB/wEBAQEBAQEBAQEBAQEBAQEBAQEBAQH/AQEBAQEBAQH/AQEBAQEB/wEBAQEB//8BAQEBAQEBAQEBAQEBAQEBAQEBAQEBAQEBAQEBAQEBAQEBAQEBAQEBAQEBAQEBAQEBAQEBAQH/AQEBAQEBAQEBAf8BAQEBAQEBAQEBAQEBAQEBAQEBAQEBAQEBAQEBAQEBAQEBAQEBAQEBAQEBAQEBAQEBAQEBAQEBAQEBAQEBAQEBAQEB//8BAQEBAQEBAQEBAQEBAQEBAQEBAQEBAQEBAQEBAf8BAQEBAQEBAQEBAQEBAQEBAQEBAQEBAQEBAQEBAQEBAQEBAQEBAQEBAQEBAQEBAQEBAQEBAQEBAQEBAQEBAQEBAQEBAQEBAQEBAQEB/wEBAQEBAQEBAQEBAQEBAQEBAQEBAQEBAQEBAQEBAQH/AQEBAQEBAQH/AQH/AQEBAQEBAQEBAQEBAQEBAf8BAQEBAf//AQEBAf//AQEBAQEBAQEBAQEBAQEBAQEB/wEBAQEBAQEBAQEBAQEBAQEBAQEBAQEBAQEBAQEBAf//AQEBAQEBAQH//wEBAQEBAQEBAQEBAQEBAQEBAQEBAQEBAQEBAQEBAf8BAQEBAQEBAQEBAQEBAQEB/wEBAQEBAQEBAQEBAQEBAQEBAQEBAQEBAQEBAQEBAQEBAQEBAQEBAQEBAQEBAf//AQEBAQEBAQEBAQEBAQEBAQEBAQEBAQEBAQEBAQH///8BAQEBAQEBAQEBAQEBAQEBAQEBAQEBAQEBAQEBAf8BAQEBAQEBAQEBAQEBAQEBAQEBAQEBAQEBAQEBAQEBAQEBAQEBAQEBAQH/AQEBAQEBAQEBAQEBAQEBAQEBAQEBAQEBAQEBAQEBAQEBAQEBAQEBAQEB//8BAQEBAQEBAQEBAQEBAQEBAQEBAQEBAQEBAQEBAQEBAQEBAQEBAQEBAQEBAQEBAQEBAQEBAQEBAQEBAQEBAQEBAQEBAQEBAQEBAQEBAQEBAQEBAQEBAQEBAQEBAQEBAQEBAQEBAQEB/wH/AQEBAQEBAQEBAQ==",
            "dtype": "i1",
            "shape": "32, 32"
           }
          }
         ],
         "layout": {
          "title": {
           "text": "Ising Model at T = 2.10, Frame 27"
          }
         },
         "name": "27"
        },
        {
         "data": [
          {
           "type": "heatmap",
           "z": {
            "bdata": "AQEBAQEBAQEBAQEBAQEBAQEBAQEB/wEBAQEBAQEBAQEBAQEBAQEBAQEBAQEBAQEBAQEBAQH/AQEBAQEBAQEBAQEBAQEB//8BAQEBAQEBAQEBAQEBAQEBAQEBAQEBAQEBAQEBAf///wEBAQEBAQEBAQEBAQEBAQEBAQEBAQEBAQEBAQEB////AQEBAQEBAQEBAQEBAQEBAQEBAQEBAQEBAQEBAQEBAQEBAQEBAQEBAQEBAQEBAf8BAf8BAQEBAQEBAQEBAQEBAQEBAQH/AQEBAf8BAQEBAQEBAf8BAQEBAQEBAQEBAQEBAQH/AQEBAQH///8BAQEBAQEBAQEBAQEBAQEBAQEBAQEBAQEBAQEBAf///wEBAQEBAQEBAQEBAQEBAQEBAQEBAQEBAQEBAQEBAQEB/wEBAQEBAQEBAQEBAQEBAQEBAQEBAQEBAQEBAQEBAQEBAQEBAQEBAQEB/wEBAQEBAQEBAQEBAQEBAQEBAQEBAQEBAQEBAQEBAQEBAQEBAQEBAQEBAQEBAQEBAQEBAQEBAQEBAQEBAQEBAQEBAQEBAQEB/wEBAQEBAQH/AQEBAQEBAQEBAQEBAQEBAQEBAQEBAQEBAQEBAQEBAf8BAQEBAQEBAQEBAQEBAQEBAQEBAQEBAQEBAf//AQEBAQEBAQEBAQEBAQEB/wEBAQEBAQEBAQEBAQEB//8BAQEBAQEBAQEBAQEBAQH/AQEBAQEBAQH/AQEBAQEBAQH/AQEBAQEBAQH///8BAQEBAf8BAQEBAQEBAQEBAQEBAQEBAQEBAQEBAf////8BAQEBAQEBAQEBAf///wEBAQEBAQEBAQEBAQH//wEBAQEBAQEBAQEBAQH///8BAQEBAQEBAQH/AQEBAf8BAQEBAQEBAQEBAQEBAQEBAQEBAQEBAQEBAQEB/wEBAQEBAQEBAQEBAQEBAQEB/wEBAQEBAQEBAQEBAf8BAQEBAQEBAQEBAQEBAQEBAQH/AQEBAQEBAQEBAQEBAQEBAQEBAQEBAQEBAQEBAQEBAQEBAQEBAQEBAQEBAQEBAQEBAQEBAQEB/wEBAQEBAQEBAQEB/wEBAQEBAQEBAQEBAQEBAQEBAQEBAQEBAQEBAQEBAQEBAQEBAQEBAQH/AQEBAQEBAQEBAQH//wEBAf//AQEBAQEBAQEBAQEBAQEBAQEBAQEBAQEBAf////8B//8BAQEBAQEBAQEBAQEBAQEBAQEBAQEBAQEBAQEBAf//Af8BAQEBAQEBAQEBAQEBAQEBAQEBAf8BAQEBAQEB/wEBAQEBAQEBAQEBAQEBAQEBAQEBAQEBAQEBAQEBAQEBAQEBAQEBAQEBAQEBAQEBAQEBAQEBAQEBAQEBAQEBAQEBAQ==",
            "dtype": "i1",
            "shape": "32, 32"
           }
          }
         ],
         "layout": {
          "title": {
           "text": "Ising Model at T = 2.10, Frame 28"
          }
         },
         "name": "28"
        },
        {
         "data": [
          {
           "type": "heatmap",
           "z": {
            "bdata": "AQEBAQEBAQEBAQEBAQEBAQEBAQEBAQH/AQH/AQH/AQEBAQEBAQEBAQEBAQEBAQEBAQEBAQEBAQEBAf8BAQEBAQEBAQEBAQEBAQEBAQEBAQEBAQEBAQEBAQEBAQEBAQEBAQEB/wEBAQEBAQEBAQEBAQEBAQEBAQEBAQEBAQEBAQEBAQEBAQEBAQEBAQEBAQEBAf8BAQEBAQEBAQEBAQEBAQEBAQEB/wEBAQEBAQEBAQH/AQEBAQEBAQEBAQEBAQEBAQEBAf//////AQEBAQEBAQEBAQEBAQEBAQEBAQEBAQH//wEB//////8BAQEBAQEBAQEB//8BAQEBAQEBAQEBAQEB/wEBAQH//wEBAQEBAQEBAQEBAQEBAQH/AQEBAQEBAQH/AQEBAQEBAQEBAQEBAQEBAf8B/wEBAQEBAQEBAQEBAQEB/wEBAQEBAf8BAQEBAQEBAQEBAQEB//8BAQEBAQEBAQEBAQEBAQEBAQEBAQEBAQEBAQEBAQEBAQEBAQEBAQEBAQEBAQEBAQEBAQEBAQEBAQEBAQEBAQEBAQEBAQEBAQEBAQEBAQEBAQEBAQEBAQEBAQEBAQEBAQEBAQEBAQEBAQEBAQEBAQEBAQEBAQEBAQEBAQEBAQEBAQEBAQEBAQEBAQEBAQEBAQEBAQEBAQEBAQEBAQEBAQEBAQEBAQEBAQEBAQEBAQEBAQEBAQEBAQH/AQEBAQEBAQEBAQEBAQEBAQEBAQEBAQEBAQEBAf8BAQEBAQEBAQEBAQEBAQEBAQEBAQEBAQEBAQEBAQH/////AQEBAQEBAQEBAQEBAQEBAQEBAQEBAQEBAQEBAf////8BAQEBAQEBAQEBAf8BAQEBAQEBAQEB/wH/AQEBAf8BAQEB//8B/////wEB/wEBAQEBAQEBAQEBAf8B/wEBAQEBAQEBAQEB/////wEBAQEBAQEBAQEBAQEBAQEBAQEBAQEBAQEBAQEBAQEBAQEBAQEBAQEBAQEBAQEBAQEBAQEBAQEBAQEBAQEBAf8BAQEBAQEBAQEBAQEBAQEBAQEBAQEBAQEBAQEBAQEBAQEB/wEBAQEBAQEBAQEBAQEBAQEBAQEBAQEBAQEBAQEBAQEBAQEBAQEBAQEBAQEBAQEBAQEBAQEBAQEBAQEB//8BAQEBAQEBAQEBAQEBAQEBAQEBAQEBAQEBAQEBAQH///8BAQEBAQEBAQEBAQEBAQEBAQEBAQH/AQEBAQEBAQH/AQEBAQEBAQEBAQEBAQEBAQEBAQEBAQEB//8BAQEBAf8BAQEBAQEBAQEBAQEBAQEBAQEBAQEBAQEBAf8BAQEBAQEBAQEBAQEBAQEBAQEBAQEBAQEBAQEBAQEB//8BAQEB//8BAQ==",
            "dtype": "i1",
            "shape": "32, 32"
           }
          }
         ],
         "layout": {
          "title": {
           "text": "Ising Model at T = 2.10, Frame 29"
          }
         },
         "name": "29"
        },
        {
         "data": [
          {
           "type": "heatmap",
           "z": {
            "bdata": "AQEBAQEBAQEBAQEBAQEBAQEBAQEBAQEBAQEBAQEBAQEBAQEBAQEBAQEBAQEBAQEBAQEBAQEB/wEBAQEBAQEBAQEBAQEBAQEBAQEBAQEBAf8BAf///wEBAQEBAQEBAQEBAQEBAQEBAQEBAQEBAQEBAQEBAQEBAQEBAQEBAQEBAQEBAQEBAQEB/wEBAQEBAQEBAQEBAQEBAQEBAQEBAQEBAQEBAQEB/wH/AQEB/wEBAQEB/wEBAQEBAQEBAQEBAQEBAQEBAQEBAQEBAQEBAQEBAQEBAQEBAf//AQEBAQEBAQEBAQEBAQEBAQEBAQEBAQEBAQEBAQEBAQEBAQEBAQEBAQEBAQEBAQEBAQEBAQEBAQEBAQEB//8BAf8BAQEBAQEBAQEBAQEBAQEBAQEBAQEBAQEBAQH//wEB/wEBAQEBAQEBAQEBAQEBAQEBAQEBAQEBAf8BAQEBAQEBAQEBAQEBAQEBAQEBAQEBAQEBAQEBAQEBAQEBAQEBAQEBAQEBAQEBAQEBAQH/AQEBAQEBAQEBAQEBAQH/AQEBAQEBAQEBAQEBAQEBAQEBAQEBAQEB/wEBAQEBAQEBAQEB/wEBAQEBAQEBAQEBAQH/AQEBAQEBAQEBAQEBAQEBAQEBAf8BAf8BAQEBAQEBAQEBAQEBAQEBAQEBAQEBAQEBAQH//wEBAQEBAQEBAQEBAQEBAQEBAQEBAQEBAQEBAQEBAf//AQEBAQEBAQEBAQEBAQEBAQEBAQEBAQEBAQEBAQEBAQEBAQEBAQEBAQEBAQEB/wEBAQEBAQH/AQEBAQEBAQEBAQEBAQEBAQEBAQEBAQH//wEBAQEBAQEBAQEBAQEBAQEBAQEBAQEBAQEBAQEBAQEBAQEBAQEBAQH/AQEBAQEBAQEBAQEBAQEBAQEBAQEBAQEBAQEBAQEBAf8BAQEBAQH/AQEBAQEB/wEBAQEBAQEBAQEBAQEBAQEB//8BAQEBAf8BAQH/AQH/AQEBAQEBAQEBAQEBAQEBAQH//wEBAQEBAQEBAf//AQEBAQH/AQEBAQEBAQEBAQEBAQH/AQEBAQEBAQEBAQEBAQEBAQEBAQEBAQEBAQEBAQH/AQEBAQEBAQEBAQEBAQEBAQEBAQEBAQEBAQEBAQEBAQEB////AQEBAQEBAQEBAQH/AQEBAQEBAQEBAQEBAQEBAQH/AQEBAQEBAQEBAQEBAQEBAQEBAQEBAQEBAQEBAQEBAf8BAQEBAQEBAQEBAQEBAQEB/wEBAQEBAQEBAQEBAQEBAQEBAQEBAQEBAQEBAQEBAQEBAQEBAQEBAQEBAQEBAQEBAQEBAQEBAQEBAQEBAQEBAQEBAQEBAQEBAQEBAQEBAQEBAQEBAQEBAQEBAQ==",
            "dtype": "i1",
            "shape": "32, 32"
           }
          }
         ],
         "layout": {
          "title": {
           "text": "Ising Model at T = 2.10, Frame 30"
          }
         },
         "name": "30"
        },
        {
         "data": [
          {
           "type": "heatmap",
           "z": {
            "bdata": "AQEBAQEBAQEBAQEBAQEBAQEBAQH/AQEBAQEBAQEBAQEBAQEBAQEBAQEBAQEBAQEBAQEBAQEBAf8BAf8BAQEBAQEBAQEBAQEBAQEBAQEBAQEBAf8BAQH/AQEBAQEBAQEBAQEBAQEBAQEBAQH//wEBAQEBAQEBAQEBAQEBAQH/AQEBAQEBAQEBAQEBAQEBAQEB/wEBAQEBAQEB/wEBAf8BAQEBAQEBAQEBAQEBAQEBAQEBAQEBAQEBAQEBAQEBAQEBAQEBAQEBAQEBAQEBAQEBAQEBAQEBAQEBAQEBAQEBAQEBAQEBAQEBAQEBAQEBAQEBAQEBAQEBAQEBAQEBAQEBAQEBAQEBAQEBAQEBAQEBAQEBAQEBAQEBAQEBAQEBAQEBAQEBAQEBAQEBAQEBAQEBAQEBAQEBAQEBAQEBAQEBAQEBAQEBAQEBAQEBAQEBAQEBAQEBAf8BAQEBAQEBAQEBAQEBAf8BAQEBAQEBAQEBAQEBAQEBAQEBAQEBAQEBAQEBAQH//wEBAQEBAQEBAf//AQEBAQEBAQEBAQEBAQH/AQEBAQEBAQEBAQEBAQEBAQEBAQEBAQEBAQEBAQEBAQEBAQEBAQEBAQEBAQEBAQEBAQEBAQEBAQEBAQEBAQEBAQEBAQEBAQEBAQEBAQEBAQEBAQEBAQEBAQEBAQEBAQEBAQEBAQEBAQEBAQEBAQEBAQEB/wEBAQEBAQEBAQEBAQEBAQEBAQEBAQEBAQEBAQEBAQEBAQEBAQEBAQEBAQH/AQEBAQEBAQEBAQEBAQEBAQEBAQEBAQH/AQEBAQEBAQEBAQEBAQEBAQEBAQEBAQEBAf8B/wEBAQEBAQEBAQEBAQEBAQEBAQH/AQEBAQEBAQEBAQEBAQEBAQH/AQEBAQEBAQEBAQEBAQEBAQEBAQEBAQEB/wEBAQEBAQEBAQEBAQEBAQEBAQEBAQEBAQEBAQEBAQEBAQEBAQEBAQEBAQEBAf8BAf//AQEBAQEBAQEBAQEBAQEBAQEBAQEBAQEBAQEBAQEBAQEBAQEBAQEBAQEB/wEBAQEBAQEBAQEBAQEBAQEBAQEBAQEBAQEBAQEBAQEBAQEBAQEBAf8BAQEBAf///wEBAQH/AQEBAQEBAQEBAf///wEBAQEBAQEB/wEBAQEBAQEB////AQEBAQEBAQEBAf//AQEBAQEBAQH//wEBAQEBAQEB/wEBAQEBAQEBAQEBAQEBAQEBAQEBAf8BAQEBAQEBAQH/AQEBAQEBAQEBAQEBAQEBAQEBAQEBAQEBAQEBAf8BAQEBAQEBAQEBAQEBAQEBAQEBAQEBAQEBAQEB/wEB/wEBAQEBAQEBAQEBAQEBAQEBAQEBAQEBAQEBAQH/AQH/AQ==",
            "dtype": "i1",
            "shape": "32, 32"
           }
          }
         ],
         "layout": {
          "title": {
           "text": "Ising Model at T = 2.10, Frame 31"
          }
         },
         "name": "31"
        },
        {
         "data": [
          {
           "type": "heatmap",
           "z": {
            "bdata": "AQEBAQEBAQEBAQEBAQEBAQEBAQEBAQEBAQEB/wEB/wEBAQEBAQEBAQEBAQEBAQEBAQEBAQEBAQH//wEBAQEBAQEBAQEBAQEBAQEBAQEBAQEBAQEBAQEBAQH/AQEBAQEBAf//AQEBAQEBAf8BAQEBAQEBAf8BAQEBAQEBAQEBAQEB//8BAQEBAQEBAQEBAQEBAQEBAQEBAQEBAQEBAQEBAQH/AQEBAQEBAQEBAQEBAQEBAQEBAQEBAQEBAQEBAQEBAQEBAQEBAQEBAQEBAQEBAQEBAQEBAQEBAQEBAQEBAQEB/wEBAQEBAQEBAQEBAQEBAQEBAQEBAQEBAQEB/wEBAQEBAQEBAQEBAQEBAQEBAQEBAQEBAQEBAQEBAQH/AQEBAQEBAQEBAf8BAQEBAQEBAQEBAQEBAQEBAQEBAQEBAQEBAQEBAQEBAf8BAQEBAQEBAQEBAQEBAQEBAf8BAQEBAQEBAQEBAQEBAQEBAQEBAQEBAQEBAQEBAQEBAQEBAQEBAQEBAQEBAQEBAQEBAQEBAQEBAQEBAf8BAQEBAQH/AQEBAQEBAQEBAQEBAf8BAQEBAQEBAf8B/wEBAQEBAQEBAQH/AQEBAQEBAQEBAQEBAQEBAQEB/wEBAQEBAQEBAQEBAf//AQEBAQEBAQEBAQEBAQEBAQEBAQEBAQEBAQEBAQEB/wEBAQEBAQEB/wEBAQEB/wEBAQEBAQEBAQEBAQH/AQEBAQEBAQEBAQH/AQEBAQEBAQEBAQEBAQEBAQEBAQEBAQH/////AQEBAQEBAQEBAQEBAQEBAQEBAQEBAQEBAQEBAQH//wEBAQEBAQEBAQEBAQEBAQEBAQEBAQEBAQEBAQEBAQEBAQEBAQEBAQEBAQH/AQEBAQH/AQH/AQEBAQEBAQEBAQH/Af8BAQEBAQEBAQEBAQEBAQEBAQEBAQEBAQEBAQEBAQH/AQEBAQEBAQEBAQEBAQEBAQEB/wEBAQEB/wEBAQEBAQEBAQEBAQEBAQEBAQEBAQEBAQEBAQEBAQEBAQEBAQEBAQEBAQEBAQEBAQEBAf//AQEBAQEBAQEBAQEBAQEBAQEBAQEBAQEBAQEBAQEBAQH/AQEBAQEBAQEBAQEBAQH/AQH/AQEBAQEBAQEB/wEBAQEBAQEBAQEBAQEBAQEBAQEBAf8BAQEBAQEBAQEBAQEBAQEBAQEB/wEBAQEBAQEBAQEBAf//AQEBAQEBAQEBAQEBAQEBAQEBAQEBAQEBAQEBAQEBAQEBAQEBAQEB/wEBAQEBAQEBAQEBAQEBAQEB//8BAQEBAQEBAQEBAf8BAQEBAQEBAQEBAQEBAQEBAQEBAQEBAQEBAQEBAQEBAQEBAQEBAQEBAQEBAQEBAQ==",
            "dtype": "i1",
            "shape": "32, 32"
           }
          }
         ],
         "layout": {
          "title": {
           "text": "Ising Model at T = 2.10, Frame 32"
          }
         },
         "name": "32"
        },
        {
         "data": [
          {
           "type": "heatmap",
           "z": {
            "bdata": "AQEBAQEBAQEBAQEBAQEBAQEBAQEBAQEBAQEBAQEB/wEB//8BAQEBAQEB/wEBAQEBAQEBAQEBAQEBAQEBAQH/AQH//wEBAQEBAQEBAQH/AQEBAQEBAQEBAQH/AQEBAQEBAf8B/wEBAQEBAQEBAf8BAQEBAQEBAQEBAf8BAQEBAQEBAQH//wEBAQEBAQEBAf8BAQEBAQEBAQEBAQEBAQEBAQEBAQEB//8BAQEBAQEBAQEB/wEBAQEBAQEBAQEBAQEBAQEBAQH/AQEBAQEBAQEBAQEBAQEBAQEBAQEBAQEBAf8BAQEBAQEBAQEBAQEBAf8BAQEBAQEBAQEBAQEBAQEBAQEBAQEBAQEBAQEBAQEBAQEBAf//AQEBAQEBAQEBAQEBAQEBAQEBAQEBAQEBAQEBAQEB//8BAQEBAQEBAQEBAQEBAQEBAQEBAQEBAQEBAf8BAQH/AQEBAQEBAQEBAQEBAQEBAQEBAQEBAQEBAQEBAQEBAQEBAQEBAQEBAQEBAQEBAQEBAQEBAQEBAQEBAQEBAQEBAQEBAQEBAQEBAQEBAQEBAQEBAQEBAQEBAQEBAQEBAQEBAQEBAQEBAf8BAQEBAQEBAQEBAQEBAQEBAQEBAQEBAQEBAQEBAQEBAQEBAQEBAQEBAQEBAQEBAQEBAQEBAQEBAQEBAQEBAQEB//8BAQEBAQEBAQEBAQEBAQEBAQEBAQEBAQEBAQEBAQEBAQEBAQEBAQEBAQEBAQEBAQEBAQEBAQEBAQEBAQEBAf8B/wEBAQEBAQEBAQEBAQEBAf8BAQEBAQEBAQEBAQEBAQEBAf8BAQEBAQEBAQEBAQEBAQEBAQEBAQEBAQEBAQEBAQEBAQEBAQH/AQEBAQH/AQEBAQEB/wEBAQEBAQEBAQEBAQEBAQEBAQEBAQEBAQEBAQEBAf//AQEBAQEBAQEBAQEBAQEBAQEBAQEBAQEBAQEB/wH/Af8BAQEBAQEBAQEBAQEBAQEBAQEBAQEBAQH//wEBAQEBAQEBAQEBAQEBAQEBAQH/AQEBAQH/AQEBAf8BAQEBAQEBAQEBAQEBAQEBAQEBAQEBAQEBAQEBAQH/AQEBAQEBAQH/AQEBAf8BAQEBAQEBAf8BAQEBAQEBAQEBAQEBAQEB/wEBAQEBAQEBAQEBAQEBAQEBAQEBAQEBAQEBAQEBAQEBAQEBAQEBAQEBAQEBAQH/AQEBAQEBAQEBAf8BAQEBAQEBAQEBAQEBAQEBAQEBAQEBAQEBAQEBAQEBAQEBAQEBAQEBAQEBAf8BAQEBAQEBAQEBAQEBAQEBAQEBAQEBAQEBAQEBAQEBAQEBAQEBAQEBAQEBAQEBAQEBAQEBAQH/AQEBAQEBAQEBAQEBAQEBAQ==",
            "dtype": "i1",
            "shape": "32, 32"
           }
          }
         ],
         "layout": {
          "title": {
           "text": "Ising Model at T = 2.10, Frame 33"
          }
         },
         "name": "33"
        },
        {
         "data": [
          {
           "type": "heatmap",
           "z": {
            "bdata": "AQEBAQEBAQEBAQEBAQEBAQH/AQEBAQEBAQEBAQEBAQEBAQEBAQEBAQEBAQEBAQEB//8BAQEBAQEBAQEBAQEBAQEBAQEBAQEBAQEBAQEBAQEBAQEBAQEBAQEBAQEBAQEBAQEBAQEBAQEBAQEBAQEBAQEBAQEBAQEBAQEBAQEBAQEBAQEBAQEBAQEBAQEBAQEBAQEBAQEBAQEBAQEBAQEBAQEBAQEBAQEBAQEBAQEBAQEB/wEBAQEBAQEBAQEBAQEBAQEBAQH///8BAQEBAQEBAQEBAQEBAQEBAQEBAQH/AQEBAQEBAQEBAQEBAQEBAQEBAQEBAf8BAQEBAQEBAQEBAQEBAQEBAQEBAQEBAQEBAQEBAQEBAQEBAQEBAQEBAQEBAQEBAQEBAQEBAQEBAQEBAQEB/wEBAQEBAQEBAQEBAQEBAQEBAQEBAQEBAQEBAQEBAQEBAQEBAQEBAQH/AQEBAQEBAQEBAQEBAQEBAQEB/wEBAQEBAf8BAQEBAQEBAQEBAQEBAf8BAQEBAQEBAQEBAQEBAQEBAQEBAQEBAQEBAQH/AQEBAQEBAf8BAQEBAQEBAQEBAQEBAQEBAQEBAQEBAQEBAQEBAQEBAQEBAQEBAQEBAQEBAQEBAQEBAQEBAQEBAQEBAQEBAQEBAQEBAQEBAQEBAQEBAQEBAQEBAQEBAQEBAQEBAf8BAQEBAQEBAQEBAQEBAQEBAQEBAQEBAQEBAQEBAQEBAQEBAQEBAQEBAQEBAQEBAQEBAQEBAQEBAQEBAQEBAf8BAQEBAQEBAQEBAQEBAQEBAQEBAQEBAQEBAQEBAQEBAQEBAQEBAQEBAQEB/wEBAQEBAQEBAQEBAQEBAQEBAQEBAQEBAQEBAQEBAQEBAQEBAQEBAQEBAQEBAQEBAQEBAQEBAQEB//8BAQEBAQEBAQEBAQEBAQEBAQEBAQEBAQEBAQEBAQH//wEBAQEBAf8BAQEBAQEBAQEBAQEBAQEBAQEBAQEBAQH/AQEBAQEBAQEBAQEBAQEBAQEBAQEBAQEBAQEBAQEBAQEBAQEBAQEBAQEBAQEBAQEBAQEBAQEBAQEBAQEBAQEBAf8BAf8BAQEBAQEBAQEBAQEBAQEBAQEBAQEBAQEBAQEB/wEBAQEBAQEBAQEBAQEBAQEBAQEBAQEBAQEBAQEBAf8BAQH//wEBAQEBAQEBAQEBAQEBAQEBAQEBAQEBAQEBAQEBAQEBAQEBAQEBAQEBAQEBAQEBAQEBAQEBAQEBAQEBAQEBAQEBAQEBAQEBAQEBAQEBAQEBAQEBAQEBAQEBAQEBAQEBAQEBAQEBAQEBAQEBAQEBAQEBAQEBAQEBAQEBAQEBAQEBAf8BAQEBAQEBAQEBAQEBAQ==",
            "dtype": "i1",
            "shape": "32, 32"
           }
          }
         ],
         "layout": {
          "title": {
           "text": "Ising Model at T = 2.10, Frame 34"
          }
         },
         "name": "34"
        },
        {
         "data": [
          {
           "type": "heatmap",
           "z": {
            "bdata": "AQH/AQEBAQEBAf8BAQEBAf8BAQEBAQEBAQEBAQEBAQEBAQEBAQEBAQEBAQEBAQEBAQEBAQEBAQEBAQEBAQEBAQEBAQEBAQEBAQEBAf8BAQEBAQEBAQEBAQEBAQEBAQEBAQEBAQEBAQEBAQEBAQEBAQEBAQEBAQEBAQEBAQEBAf8BAQEBAQEBAQEBAQEBAQEBAQEBAQEBAQEB//8BAQEBAQEBAQEBAQEBAQEBAQEBAQEBAQEBAQEBAQH//wEBAQEBAQEBAQEBAQEBAQEBAQEB//8BAQEBAQEBAQEBAQEBAQEBAQEBAQEBAQEBAQEBAQEBAQEBAQEBAQH/AQEBAQEBAQEBAQEBAQEBAQEBAQEBAQEBAQEBAf//////AQEBAQEBAQEBAQEBAQEBAQEBAQEBAQEBAQEB/////wEBAQEBAQEBAQEBAQEBAQEBAQEBAQEBAQEBAQH/Af8BAQEBAQEBAQEBAQEBAQEBAQEBAQEBAQEBAQEBAQEBAQEBAQEBAQEBAQEBAQEBAQEBAQEBAQEBAQEBAQEBAQEBAQEBAQEBAQEBAQEBAQEBAQEBAQEBAQEBAQEBAQEBAQEBAQEBAQEBAQEBAQEBAQEBAQEBAQEBAQEBAQEBAQEBAf//AQEBAQEBAQEBAQEBAQEBAQEBAQEBAQEBAQEBAQEB//8BAQEBAQEBAQEBAQEBAQEBAQEBAQEBAQEBAQEBAQEBAQEBAQEBAQEBAQEBAQEBAQEBAQEBAQEBAQEBAQEBAQEBAQEBAf//AQEBAQEBAQEBAQEBAQEBAQEBAQEBAQEBAQEBAQH/AQEBAQEBAQEBAQEBAQEBAQEBAQEBAQEBAQEBAQEBAQEBAQH/AQEBAQEBAQEBAQEBAQEBAQEBAQEBAQEBAQEBAQEB/wEBAQEBAQEBAQEBAQEBAQEBAQEBAQEBAQEBAQEBAQEBAQEBAQEBAQEBAQEBAQEB/wEBAQEBAQEBAQEBAQEBAQEBAQEBAQEBAQEBAQEBAQEBAQEBAQEBAf8BAf8BAQEBAQEBAQEBAQEBAQEBAQEBAQEBAQEBAQEBAQEBAQEBAQH/AQEBAQEBAQEBAQH//wEBAQEBAQEBAQEBAQEBAQEBAf8BAQEBAQEBAQEBAf//AQEBAQEBAQEBAQEBAQEBAQEBAQEBAQEBAQH//////wEBAQEBAQEBAQEBAQEBAQEBAQEBAQEBAQEBAf8BAQEBAQEBAQEBAQEBAQEBAQEBAQEBAQEB/wEBAQEBAQEB/wEB/wEBAQEBAQEBAQEBAQEBAQEBAQEBAQH/AQEBAQEBAQEBAQEBAQEBAQEBAQEBAQEBAQEBAQEBAQEBAQEBAQEBAQH/AQEBAQEBAQEBAQH/AQEBAQ==",
            "dtype": "i1",
            "shape": "32, 32"
           }
          }
         ],
         "layout": {
          "title": {
           "text": "Ising Model at T = 2.10, Frame 35"
          }
         },
         "name": "35"
        },
        {
         "data": [
          {
           "type": "heatmap",
           "z": {
            "bdata": "AQEBAQH/AQEBAQEBAQEBAQEBAQEBAQEBAQEBAQH///8BAQEB////AQEBAQEBAQEBAQEBAQEBAQEBAQEBAf8BAQEBAf////8BAQEBAQEBAQEBAQEBAQEBAQEBAQEBAQEBAQEB/wEB/wEBAQEBAQEBAf8BAQEBAQEBAQEBAQEBAQEBAQEBAQEBAQEBAQEBAQEB/wEBAQEBAQEB/wEBAQEBAQEBAQEBAQEB/wEBAQEBAQEBAQEBAQEBAf//AQEBAQEBAQEBAQEBAQEBAQEBAQEBAQEBAQEBAQEB////AQEBAQEBAQEBAQEBAQEB/wEBAQEBAQEBAQEBAQEB////AQEBAQEBAQEBAf8BAQH//wEBAQEBAQEBAQEBAQEBAQEBAQEBAQEBAQEBAQEBAf8BAQEBAQEBAQEBAQEBAQEBAQEBAQEBAQEBAQEBAQEBAQEBAQEBAQEBAQEBAQEBAQEBAQEBAQEBAQEBAQEBAQEBAQEBAQH/AQEBAQEBAQEBAQH/Af8BAQEB/wEBAQEBAQEBAQH/AQEBAQEBAQEBAQEBAQEBAQEBAQEBAQEBAf8BAQH/AQEBAQEBAQEBAQEBAQEBAQEBAQEBAQEBAQEBAQEBAQEBAQEBAf8BAQEBAQEBAf8BAQEBAQEBAf8BAQEBAQEBAQEBAQH/AQEBAQEBAQH//wEBAQEBAQEB//8BAQEBAQEBAQEBAQEBAQEBAQEBAf//AQEBAQEBAQH//wEBAQEBAQEBAQEBAQEBAQEBAQEBAQEBAQEBAQEBAf8BAQEBAQEBAQEBAQEBAQEBAQEBAQEBAQEBAQEBAQEBAQH///8BAQEBAQEBAQEBAQEBAQEB/wEBAQEBAQEBAQEB/wEBAQEBAQEBAQEBAQEBAQEBAQEBAQEBAf8BAQEBAQEBAQEBAQEBAQEBAQEBAQEBAQEBAQEBAQH/////AQEBAQEBAQEBAQEBAQEBAQEBAQEBAQEBAQEBAQH///8BAQEBAQEBAQEBAQEBAQEBAQEBAQEBAQEB/wEBAf///wEBAQH/AQEBAQEBAQEBAQEBAQEBAQEBAQEBAQH/////AQEBAQEBAQEBAQEBAQEBAQEBAQEBAQEBAQEBAf////8BAQEB/wEBAQEBAQEBAQEBAQEBAQEBAQEBAQEBAf//AQEBAQEBAQEB/wEBAQEBAQEBAQEBAQEBAQEBAQEBAQEBAQEBAQEBAQEBAQEBAQEBAQEBAQEBAQEBAQEBAQEBAQH/Af//AQEBAQEBAQEBAQH/AQEBAQEBAQEBAQEBAQEBAQEBAQEBAQEBAQEBAQEB/wEB//8BAQEBAQEBAQEBAQEBAQEBAQEBAQEBAQEBAQEBAf//AQEBAf8BAQEBAQEBAQ==",
            "dtype": "i1",
            "shape": "32, 32"
           }
          }
         ],
         "layout": {
          "title": {
           "text": "Ising Model at T = 2.10, Frame 36"
          }
         },
         "name": "36"
        },
        {
         "data": [
          {
           "type": "heatmap",
           "z": {
            "bdata": "Af///wEBAQEBAQEBAQEBAQEBAQEBAQEBAQEBAQEBAQEBAf//AQEBAQEBAQEBAQEBAQEBAQEBAQEBAQEBAQEBAQEBAf8BAQEBAQEBAQEB/wEBAQEBAQEBAQEBAQEBAQEBAQEBAQEBAQEBAQEBAQEBAQEBAQEBAf8BAQEBAf8BAQH/AQEBAQEBAQEBAQEBAQEBAQEBAQEB/wEBAQEB/wEBAQEBAQEBAQEBAQEBAQEBAf8BAQEBAf8BAQEBAQEBAQEBAQEB/wEBAQEBAQEB/wEBAQEBAQEB////AQEBAf8BAQEBAQH//wEBAQEBAf//AQH/AQEBAQH/AQEBAQEB/wEBAQEBAf//Af8BAQEB//8BAQEBAQEBAQEBAQEBAQEBAQEBAQEB/wH/AQEBAQEB/wEBAQEBAQEBAQEBAQEBAQEBAQEBAQEBAQH//wEBAQEBAQEBAQEBAQEB/wEBAQEBAQEBAQEBAQEB////AQEBAQEBAQEBAQEBAQEBAQEBAQEBAQEBAQEBAQEBAQEBAQEBAQEBAQEBAQEBAQEBAQEB/wEBAQEBAQEBAQEBAQEBAQEBAQEB/wEBAQEBAQEBAQH/AQEBAQEBAQEBAQEBAQEBAQEBAQEBAQEBAQEBAQEBAf//AQEBAQEBAQEB//8BAQEBAQEBAQEBAQEBAQEBAQEBAQEBAQEBAQEBAQH/AQEBAQEBAQEBAQEBAQEBAQEBAQEBAQEBAQEBAQEBAQEBAQEBAQEBAQEBAQEBAQEBAQEBAQEBAQEBAQEBAQEBAQEBAQEBAQEBAQEBAQEBAQEBAQEBAQEBAQEBAf8BAQEB/wEBAQEBAQEBAQEBAQEBAQEBAQEBAQEBAQEBAQEBAQEBAQEBAQEBAQH/AQEBAQEBAQEBAQEBAQEBAQEBAQEBAQEBAQEBAQEBAQEBAQEBAQEBAQEBAQEBAQEBAf8BAQEBAQEB/wEBAQEBAQEBAQEBAQEBAQEBAQH//wEBAQEBAf8BAQEBAQEBAQEBAQEBAQEBAQEBAQEBAQEBAQH/AQEB/wEBAQEBAQEBAQEBAQEB//8BAQEBAQH/AQEBAQEBAQEBAQEBAQEBAQEBAQH//wH//wEBAQEBAQEBAQEBAQH//wEBAQEBAQEBAf8BAf///wEBAQEBAQEBAQEBAQEBAf8BAQEBAQEB/wH/AQEBAQEBAQEBAQEBAQEBAQEBAQEB//8BAQEBAQEBAQEBAQEBAQEBAQEBAQEBAQEBAQEBAQEB/wEBAQEBAQEBAQEBAQEBAQEBAf8BAQEBAQEBAQEBAQEBAQEBAQEBAQEBAQEBAQEBAQEBAQEBAQEBAQEBAQEBAf8BAQEBAQEBAQEBAQEBAQEBAQEBAQEBAQEBAQ==",
            "dtype": "i1",
            "shape": "32, 32"
           }
          }
         ],
         "layout": {
          "title": {
           "text": "Ising Model at T = 2.10, Frame 37"
          }
         },
         "name": "37"
        },
        {
         "data": [
          {
           "type": "heatmap",
           "z": {
            "bdata": "AQEBAQEBAQEBAQEBAQEBAQEBAQEBAQEBAQEBAQEBAQEBAQEBAQEBAQEBAQEBAQEBAQEBAQEBAQEBAQEBAQEBAQH/AQEBAQEBAQEBAQEB//8BAQEBAQEBAQEBAQEBAf//Af8BAQEBAQEBAQH/AQEBAQEBAQEBAQEBAQEBAQEBAQEBAQEBAQEBAQEBAQEBAQEBAQEBAQEBAQEBAf8BAQEBAQEBAQEB/wEBAQEBAQEBAQEBAQEBAQEBAQEBAQEBAQEBAQEBAQEBAQEBAQEBAQEBAQEBAf8BAQEBAQEBAQEBAQEBAQEBAQEBAQEBAQEBAQEBAQEBAQEBAQEBAQEBAQEBAQEBAQEBAQEBAQEBAQEBAQEBAQEBAQEBAf8BAQEBAQEBAQEBAQEBAQEBAQEBAQEBAQEBAQEBAf8B/wEBAQEBAQEBAQEBAQEBAQEBAQEBAQEBAQEBAQEB/wEBAQEB/wEBAQEBAQEBAQEBAf8BAQEBAQEBAQEBAQEBAf8BAQEBAQEBAQEBAQEBAQEBAQEBAQEBAQEBAQEBAQEBAQEBAQEBAQEBAQEBAQEBAQEBAQEBAQEB/wEBAQEBAQEBAQEBAQEBAQEBAQEBAQEBAQEBAQEBAQEBAQEBAQEBAQEBAQEBAQEBAQEBAQEBAQEBAQEBAQEBAQEBAQEBAQEBAQEBAQEBAQEBAQEB/wEBAQEBAQEB/wH/AQEBAQEBAQEBAQEBAQH/AQEBAQEBAQEBAQEBAQEBAQEBAQEBAQEBAQEBAQEBAf//AQEBAQEBAQEBAQEBAQEBAQEBAQEBAQEBAQEBAQEBAQEBAQEBAf8BAQEBAQEBAQEBAQEBAQEBAQEBAQEBAQEBAQEBAQEBAQEBAQEB/wEBAQEBAQEBAQEBAQEBAQEBAQEBAQEBAQEBAQEBAQH/AQEBAQEBAQEBAQEBAQEBAQEBAQEBAQH/AQEBAQEBAQEBAQEBAQEBAQEBAQEBAQEBAf8B/wEBAf8BAQEBAQEBAQEB/wEBAQEBAQEBAQEBAQEBAQEBAQEBAf8BAQEBAQEBAQH//wEBAQEBAQEBAQEBAQEBAQEBAQEB////AQEBAQEB////AQEBAQEBAQH/AQEBAQEBAf///////wEBAQEBAQH/AQEBAQEBAQEBAQEBAQEBAQEB//8B//8BAQEBAQEBAQEBAQEBAQEBAQEB/wEB//8BAQEB/wEBAQEBAQEBAQEBAQEBAQEBAQEBAQEBAf////8BAQEBAQEBAQEBAQH/AQEBAQEBAQEBAQEBAQEB/wEBAQEBAQEBAQEBAQEBAQEBAQEBAf8BAQEBAQEBAQH/AQEBAQEBAQEBAQEBAQEBAQEBAQEBAQEBAQEBAQEBAQEBAQEBAQ==",
            "dtype": "i1",
            "shape": "32, 32"
           }
          }
         ],
         "layout": {
          "title": {
           "text": "Ising Model at T = 2.10, Frame 38"
          }
         },
         "name": "38"
        },
        {
         "data": [
          {
           "type": "heatmap",
           "z": {
            "bdata": "AQEBAQEBAQH/AQEBAQEBAQEBAQEBAQEBAQEBAQEBAQH/AQEBAQEBAQH/AQEBAQEB/wEBAQEBAQH/AQEBAQEB/wEBAQEBAQEBAQEBAQEBAQEBAQEBAQEBAQEBAQEB/////wEBAQEBAQEBAQEBAQEBAQEBAQEBAQEB/wEBAQEB/////wEBAQH/AQEBAQEBAQEBAQEBAQEBAQH//wEBAQH/Af//AQEBAQEBAQEBAQEBAQEBAQEB/wEBAf//AQH//////wEBAQEB/wEBAQEBAQEBAQEBAQEBAQEBAf8BAf//Af8BAQEBAQEBAQEBAQEBAQEBAQEBAQEBAQEBAQEBAQEBAQEBAQEBAQEBAQEBAQEBAQEBAQEBAQEBAQEBAQEBAQEB/wEBAQEBAQEBAQEBAQEB/wEBAQEBAQEBAQEBAQEBAQH/AQEBAQEBAQEBAQEBAQEBAQEBAQEBAQEBAQEBAQEBAQEB/wEBAf8BAQEBAQEBAQEBAQEBAQEBAQEBAQEBAQEBAQEBAQEBAQH/AQEBAQEBAQEBAQEBAQEBAQEBAQEBAQEBAQEBAQEBAf8BAQEBAQEBAQEBAQEBAQEBAQEBAQEBAQEBAQEBAQEBAQEBAQEBAQEBAQEBAQEBAQEBAQEBAQEBAQEBAQEBAQEBAQH//wEBAQEBAQH/AQEBAQEBAQEBAQEBAQEBAQEBAQEBAQEBAQH/AQEBAQEBAQEBAf//AQEBAQEBAQEBAQEBAQEBAQEBAQEB//8BAQEBAf8BAQEBAQEBAQEBAQEBAQEBAQEBAQEBAQH//wEBAQEBAQEBAQEBAQEBAQEBAQEBAQEBAQH/AQEBAQEBAQEBAQEBAQEBAQEBAQEBAQEBAQEBAQEBAQEBAQEBAQEBAQEBAQEBAQEBAQEBAQEBAQEBAQEBAQEBAQEBAQEBAQEBAQEBAQEBAQEBAQEBAQEBAQEBAf8BAQEBAQEBAQEBAQEBAf8B////AQEBAQEBAQEBAQEB////AQEBAQEBAQEBAQH/////AQEBAQEBAQEBAQEBAQEBAf8BAQEBAQEBAQEBAQEBAf8BAQEBAQEBAQEBAQEBAQEBAQEBAQEBAQEBAQEBAQEBAQEBAQEBAQEB/wEBAQEBAQEBAQEBAQEBAQEBAQEBAQEBAQEBAQEBAQEBAQEBAQEBAQEB/wEBAQEBAQEBAQEBAQEBAQEBAQEBAQEBAf//AQEBAQH//wEBAQEBAQEBAQEBAQEBAQEBAQEBAQEB/wEBAQEBAQEBAQEBAQEBAQEBAQEBAQEBAQEBAQEBAQEBAQEBAQEBAQEBAQEBAQEBAf8BAQEBAQEBAQEBAQEBAQEBAQEBAQEBAQEBAQEBAQEBAQEBAQEBAQEBAQ==",
            "dtype": "i1",
            "shape": "32, 32"
           }
          }
         ],
         "layout": {
          "title": {
           "text": "Ising Model at T = 2.10, Frame 39"
          }
         },
         "name": "39"
        },
        {
         "data": [
          {
           "type": "heatmap",
           "z": {
            "bdata": "AQEBAQEBAQEBAQEBAQEBAQEBAQEBAQEBAQEBAQEBAQEBAQEBAQEBAQEBAQEBAQEBAQEBAQEBAQEBAQEB/wEBAQEBAQEBAQEBAQEBAQEBAQEBAQEBAQEBAQEBAQEBAQEBAQEBAQEBAQEBAQEBAf//AQEBAQEBAQEBAQEBAf8BAQEBAQEBAQEBAQEBAQEBAQEBAQEBAQEBAQEBAQEBAQEBAQEBAQEBAQEBAQEBAQEBAQEBAQEBAQEBAQEBAQEBAQEBAQEBAQEBAQEBAQH/AQEBAQEBAQEBAQEBAQEBAQEBAQEBAQEBAQEBAQEBAQEBAQEBAQEBAQEBAQEBAQEBAQEBAQEBAQEBAQEBAQEBAQEBAf8BAQEBAQH/AQEBAQEBAQEBAQH/AQEBAQEBAQEBAQEB/wEBAQH/AQEBAQEBAQEBAQEBAQEBAQEBAQEB////AQEBAQEBAf8BAQEBAQEBAQEBAQEBAQEBAQEBAQEBAf8BAQEBAQH//wEBAQEBAQEBAQEBAQEBAQEBAQEBAQEBAQEBAQEBAQEBAQEBAQEBAQEBAQEBAQEBAQEBAQEBAQEBAQEBAQEBAQEBAQEBAQEBAQEBAf8BAQEBAQEBAQEBAQEBAQEBAQEBAQEBAQEBAQEBAQH/AQEBAQEBAQEBAQEBAQEB/wEBAQEB/////wEBAQEBAQEBAQEB/wEBAQH///8BAQEBAQEBAf///////wEBAQEBAQEBAQEBAQEBAf//AQEBAQEBAQEB////////AQEBAQEBAQEBAQEBAQEBAQEBAQEBAQEBAQEB//////8BAQEBAQEBAQEBAQH/AQEBAQEBAQEBAQEBAQH/////AQEBAQEBAQEBAQEBAf8BAQH/AQEBAQEBAQEBAQEBAQEBAQEBAQEBAQEBAQEBAQEBAf8BAQEBAQEBAQEBAQEBAQEBAQEBAQEBAQEBAQEBAQEBAQEBAQEBAQEBAQEBAQEBAQEB/wEB/wEBAQEBAQEBAQH/AQEBAQEBAQEBAQEBAQEBAQEBAQEBAQH/AQEBAQEBAQEBAQEBAQEBAQEBAQEBAf8BAQEBAQEBAQEBAQEBAQEBAQEBAQEBAQEBAQEBAQEBAQEBAQEBAQEBAQEBAQEBAQEBAQEBAf8BAQEBAQEBAQEBAQEBAQEBAQEBAQEBAQEBAQEBAQEBAQEBAQEBAQEBAQEBAQEBAQEBAQEBAQEBAQEBAQEBAQEB/wEBAQEBAQEBAQEBAQEBAQEBAQEBAQEBAQEBAQEBAQH/AQEBAQEBAQEBAQEBAQEBAQEBAQEBAQEBAQEBAQEBAQEBAQEBAQEBAQEBAQEBAQEBAQEBAQEBAQEBAQEBAQEBAQEBAQEBAQEBAQEBAQEBAQ==",
            "dtype": "i1",
            "shape": "32, 32"
           }
          }
         ],
         "layout": {
          "title": {
           "text": "Ising Model at T = 2.10, Frame 40"
          }
         },
         "name": "40"
        },
        {
         "data": [
          {
           "type": "heatmap",
           "z": {
            "bdata": "/wEBAQEB////Af////8BAQEBAQEBAQEBAQEBAQEBAQEBAQEBAQH/AQEB/////wEBAQEBAQEBAQEBAQEBAQEBAQEBAQEBAQEBAQEB////AQEBAQEBAQEBAQEBAQEBAQEBAQEBAQEBAQEBAQEBAQEBAQEBAQEBAQEBAQEBAQH//wEBAQEBAQEBAQEBAQEBAQEBAQEBAQEBAQEBAQEBAQEBAQEBAQEBAQEBAQEBAQEB/wEBAQEBAQEBAQEBAQEBAQEBAQEBAQEB/wEBAQEBAQEBAQEBAQEBAQEB/wEBAQEBAQEB/wEBAQEBAQEBAQEBAQEBAQEBAQEBAQH/AQEBAQEBAQEBAQEBAQEBAQEBAQEBAQEBAQEBAQEBAf8BAQEBAQEBAQEB/wEBAQEBAQEBAQEBAQEBAQEBAQEBAQEBAQEBAQEBAQH/AQEBAQEB/wEBAQEBAQEBAQEBAQEBAQEBAQEBAQEBAf8B/wEBAf8BAQEBAQEBAQEBAf///wEBAQEBAQEBAQEBAf///wEBAQEBAQEBAQEBAQEB////AQEBAQEBAQEBAQH///8BAQEB/wEBAQEBAQEBAQH///8BAQEBAQEBAQEBAQEBAQH/AQEBAQEBAQEBAQEBAQEB/wEBAQEBAQEBAQEBAQEBAQEB/wEBAQH/AQEBAQEBAQEBAQEBAQEBAQEBAQEBAQEBAQH/AQEBAf//AQEBAQEBAQEBAf8BAQEBAQEBAQEBAQEBAQEBAQEBAQEBAQEBAQEBAQEB/wEBAQEBAQEBAQEBAQEBAQEBAQEBAQEBAQEBAQEBAQEBAQEBAQEBAQEBAQEBAQEBAQEBAQEBAQEBAQEBAQEBAQH//wEBAQH/AQEBAQEBAf8BAQH//wEBAQEBAQEBAQEBAf//AQEBAQEBAQEBAQEB/wEBAQH/AQEBAQEBAQEBAQEBAQEBAQEBAQEBAQEBAQEBAQEBAQEBAQEBAQEBAQEBAQEBAQEBAQEBAQEBAQEBAQEBAQEBAQEB/wEBAQEBAQEBAQEBAQEBAQEBAQEBAQEB//8BAQEBAQH/AQEBAQEBAf8B/wEBAQEBAQEBAQEBAQEB/wEBAQEBAf8BAQEBAQEBAQEBAQEBAQEBAQEBAQEBAQEBAQEBAQEBAQEBAQEB/wEBAQEBAQEBAQEBAf///wEBAQEBAQEBAQEBAQEBAQEBAQEBAQEBAQEBAQEBAf///wEBAQEBAQEBAQEBAQEBAQH/AQEBAQEBAQEBAQEBAf///wEBAQEBAQEBAQEBAQEBAQEBAQEBAQEBAQEBAQEB////AQH/AQEB/wEBAQEBAQEBAQEBAQEBAQEBAQEBAQH///8BAf//AQEBAQEBAQEBAQEBAQEBAQEBAQ==",
            "dtype": "i1",
            "shape": "32, 32"
           }
          }
         ],
         "layout": {
          "title": {
           "text": "Ising Model at T = 2.10, Frame 41"
          }
         },
         "name": "41"
        },
        {
         "data": [
          {
           "type": "heatmap",
           "z": {
            "bdata": "AQEBAQEBAQEBAQEBAQEBAQEBAQEBAQEBAf8BAQEBAQEBAQEBAQEBAQEBAQEBAQEBAQEBAQEBAQH//wEBAQEBAf8BAQEBAQEBAQEBAQEBAQEBAQEBAQEBAf//AQEBAQEBAQEBAQEBAQEBAQEBAQEBAQEBAQH/AQEBAQEBAQEBAQEBAQEBAQEBAQEBAQEBAQEBAQEBAQEBAQEB/wEBAQEBAQEBAQEBAQEBAQEBAQEBAf8BAQEBAQEBAQEBAQEBAQEBAQEBAQEBAQEBAQEBAQEBAQH//wEBAQEBAQEBAQEBAQEBAQEBAQEBAQEBAQEBAQEBAQEBAQEBAQEBAQEBAQEBAQEBAQEBAQEBAQEBAQEBAQEBAQEBAQEBAQEBAQEBAQEB/wEBAQEBAQEBAQEBAQEBAQEBAQEBAQEBAQEBAQEBAf8BAQEBAQH/AQEBAQEBAQEBAQEBAQEBAQEBAQEBAQEBAQEBAQEBAf8BAQEBAQEBAQEBAQEBAQEB/wEBAQEBAQEBAQH/AQEBAQEBAQEB/wEBAQEBAQEBAQEBAQEBAQEBAQEBAQEBAQEB/wEBAQEBAQEBAQEBAQEBAQEBAQEBAQEBAQEBAQEBAQEBAQEBAQEBAQEBAQEBAQEBAQEBAQEBAQEBAf8BAQH/AQEBAQEBAQEBAQEBAQEBAQEB/wEBAQEBAQEBAQEBAQEBAQEBAQEBAQEBAQEBAQEBAQEBAQEBAQEBAQEBAQEBAQEBAQEBAf//AQEBAQEBAQEBAQEBAQEBAQEBAQEBAQEBAQEBAQEB//8B//8BAQEBAQEBAQEBAQEBAQEBAQEBAQEBAQEBAQEBAQEBAQEBAQEBAQEBAQEBAQH/AQEBAQEBAQEBAQEBAQEBAf8BAf8BAQEBAQEBAQEBAf8BAQEB/wEBAQEBAQEB/wEBAQEBAQEBAQEBAQEBAQEBAf8BAQEBAQEBAQEBAQEBAQEBAQH/AQEBAQEBAQEB/wEBAQEBAQEBAQEBAQEBAQEBAf8BAQEBAQEBAQEBAQEBAQEBAQEBAQEBAQEBAQEBAQEBAQEBAQEBAQEBAQEBAQEBAQEBAQEBAQEBAQEBAQEBAQEBAQEBAQEBAQEBAQEBAQEBAQEBAQEB/wEBAQEBAQEBAQEBAQEBAQEBAQEBAQEBAQEBAQEBAf8BAQEBAQEBAQEBAQEBAQEBAQEBAQEBAQEBAQEBAQEBAf8BAQEBAQEBAQEBAQEBAQEBAQEBAQEBAQEBAQEBAQEBAQEBAQEBAQEBAQEBAQEBAQEBAQEBAQEBAQEBAQEBAQEBAQEBAQEBAQEBAQEBAQEB/wEBAQEBAQEBAQEBAQEB/wEBAQEBAQEBAQEBAQEBAQEBAQEBAQEBAQEBAQ==",
            "dtype": "i1",
            "shape": "32, 32"
           }
          }
         ],
         "layout": {
          "title": {
           "text": "Ising Model at T = 2.10, Frame 42"
          }
         },
         "name": "42"
        },
        {
         "data": [
          {
           "type": "heatmap",
           "z": {
            "bdata": "AQEBAQEBAQH//wEBAQEBAQEBAQEBAQEBAQEBAQEBAQEBAQEBAQEBAf8BAQEBAf8BAQH/AQEBAQEBAQEBAQEBAQEBAQEBAQEBAQEBAQEBAQEBAf8BAf//AQEBAQEBAQEBAQEBAQEBAQEBAQEBAQEBAQEBAQEBAQEBAQH/AQEBAQEBAQEBAQEBAQEBAQEBAQEBAQEBAQEBAQEBAQEBAQEBAQEBAQEBAQEBAQEBAQEBAQEBAQEBAQEBAQEBAQEBAQEBAQEBAQEBAQEBAQEBAQEBAQEBAQEBAQEBAQH//wEBAQEBAQEBAQEBAQEBAQEBAQEBAQEBAQEB/wEBAQEBAQEBAQEBAQEBAQEBAQEBAf8BAQEB/wEBAQEBAQEBAQEBAQEBAQEBAQEBAQEB/wEBAQEBAQEBAQEBAQEBAQEBAQEBAQEBAQEBAQEBAQH/AQEBAQEBAQEBAQEBAQEBAQEBAQEBAQEBAQEBAQEBAQEBAQEBAQEBAQEBAQEBAQEBAQEBAQEBAQEBAQEBAQEBAQEBAQEBAQEBAQEBAQEBAQEB/wEBAf8B/wEBAQEBAQEBAQEBAQEBAQEBAQEBAQEBAQEBAQEBAQEBAQEB/wEBAQEBAQEBAQEBAQEB/wEBAQEBAQEBAQEBAQEBAQH/AQEBAQEBAQEBAQEBAQEBAQEBAQEBAQEBAQEBAQEBAf8BAQEBAQEBAQEBAQEBAQEBAQEBAQEBAQEBAQEBAQEB/wEBAQEBAQEBAQEBAQEBAQEBAQEBAQEBAQEBAQH/AQH//wEBAf8BAQEBAQEBAQEBAQEBAQEBAQEBAQEBAQEBAQH/AQEBAf///wEBAQEBAQEBAQEBAQEBAQEBAQEBAQEBAf//AQEB////AQEBAQEB//8BAQEBAQEB/wEBAQEBAQEB//8BAQEBAQEBAQEBAf///wEBAQEBAQEBAQEBAQEBAQEBAQEBAQEBAQEBAQEBAf8BAQEBAQEBAQEBAQEBAQEBAf//AQEBAQEBAQEBAQEBAQEBAQEBAQEBAQEBAQH/AQEBAf8BAQEBAQEBAQEBAQEBAQEBAf8BAQEBAQEBAQEBAQEB//8BAQEBAQEBAQEBAQEBAQEBAQEBAQEBAQEBAQEBAQEBAQEBAQEBAQEBAQEBAQEBAQEBAQEB/wEBAQEBAQEBAQEBAQEBAQEBAQEBAQEBAQEBAQEB//////8BAQEB/wEBAQEBAQEBAQEBAQEBAQEBAQEBAQEBAQH//wEBAQEBAQEBAQEBAQEBAQEBAQEBAQEBAQEBAQEBAf///wEBAQEBAQEBAQEBAQEBAQEBAQEBAQEBAQEBAQEB////AQEBAf8BAQEBAQEBAQH/AQEBAQEBAQEBAQH/Af//AQ==",
            "dtype": "i1",
            "shape": "32, 32"
           }
          }
         ],
         "layout": {
          "title": {
           "text": "Ising Model at T = 2.10, Frame 43"
          }
         },
         "name": "43"
        },
        {
         "data": [
          {
           "type": "heatmap",
           "z": {
            "bdata": "AQEBAQEB/wH//wEBAQEBAQEBAQEBAQEBAQEBAQEBAQEBAQEBAQH/AQH/AQEBAQEBAQEBAQEBAQEBAQEBAQEBAQEBAQEBAQEBAf8BAQEBAQEBAQEBAQEB/wEBAQEBAQEBAQEBAQEBAQEBAQEBAQEBAQEBAQEBAQEBAQEBAQEBAQEBAQEBAQEBAQEBAQEBAQEB/wEBAQEBAQEBAQEBAQEBAQEBAQEBAQEBAQEBAQEBAQH//wEBAQEBAQEBAQEBAQEBAQEBAQEBAQEBAQEBAQEB////AQEBAQEBAQEBAQEBAQEBAQEBAQEBAQEBAQEBAf////////8BAQEBAQEBAQEBAQEBAQEBAQEBAQEBAQEB////AQH//wEBAQEBAf8BAQEBAQEBAQEBAQEBAQEBAQEB//8BAQEBAQEBAQEBAQEBAQEBAQEBAQEBAQEBAQEBAf///wEBAQEBAQEBAQEBAQEBAQEBAQEBAQEBAQEBAQEB/wEBAQEBAQEBAQEBAQEBAQEBAQEBAQEBAQEBAQEB/wEBAQEBAQEB//8BAQEBAQEBAQEBAQEBAQEBAQEBAQEBAQEBAQEBAQEBAQEBAQEBAQEBAQEBAQEBAQEBAQEBAQEBAQEBAQEBAQEBAQEBAQEBAQEBAQEBAf8BAQEBAQEBAQEBAQEBAQEBAQEBAQEBAQEBAQEBAQH/AQEBAQEBAQEBAQEBAQEBAQEBAQEBAQEBAQEBAQEBAQEB////AQEBAQEBAQEBAQEB/wEBAQEBAQEBAQEBAQEBAQEBAQH///8BAQEBAQEBAQEBAQEBAQEBAQEBAQEB/wEBAQEBAQEBAQEBAQEBAQEBAQEBAQEBAQEBAQEBAQEBAQEBAQEBAQEBAQEBAQEBAQEBAQEBAQEBAQEBAf8B////AQEBAQEBAf8BAQEBAQEBAQEBAQEBAQEBAQEB/////wEBAQEBAQEBAQEBAQEBAQEBAQEBAQEBAQEBAf//////AQEBAQEBAQEBAQEBAQEBAQEBAQEBAQEB//////8BAQEBAQEBAQEBAQEBAQEBAQEBAQEBAQEBAQH//////wEBAQEBAQEBAQEBAQEBAQEBAQEBAQEBAQEBAf8BAQEBAQEBAQEB/wEBAf//AQEBAQEBAQEBAQEBAQEBAQEBAQEBAQEBAQEBAQEB//8BAQEBAQEBAQEBAQEBAQEBAQEBAQEBAf8BAQEBAQEB/wEB/wEBAQEBAQEBAQEBAQEBAQEBAQEBAQEBAQEBAQEBAQEBAQEBAQEBAQEBAQEBAQEBAQEBAQEBAQEB/wEBAQEBAQEBAQEBAQEBAQEBAQEBAQEBAQEBAQEBAQEBAf8BAQEBAQEBAQEB/wEBAQEBAQEBAQEBAQ==",
            "dtype": "i1",
            "shape": "32, 32"
           }
          }
         ],
         "layout": {
          "title": {
           "text": "Ising Model at T = 2.10, Frame 44"
          }
         },
         "name": "44"
        },
        {
         "data": [
          {
           "type": "heatmap",
           "z": {
            "bdata": "Af8BAQEBAQEBAQEBAQEBAQEBAf8BAQEBAQEBAQEBAQEBAQEBAQEBAQEBAQEBAQEBAQEBAQEBAQEBAQEBAQEBAQEBAQEBAQEBAQEBAQEBAQEBAQEBAQEBAQEBAQEBAQEBAQEBAQEBAQEBAQEBAQEB/wEBAf8B/wEBAQEBAQEBAQEBAQEBAQEBAQEBAQEBAQEBAQEBAQEBAQH/AQEBAQEBAQEBAf8BAQEBAQEBAf8BAQEBAQH/AQEBAQEBAQEBAQEB/wEBAQEBAQEBAQEBAQEBAQEBAQEBAQEBAQEBAQEBAf8BAQEBAQEBAQEBAQEBAQEB/wEBAf//AQEBAQEBAQEBAQEBAQEBAQEBAQEBAQEBAQEBAf///wEBAQEB/wEBAQEBAQEBAQEBAQEBAQH/AQEBAQEBAQEBAQEBAQEBAQEBAQEBAQEBAQEBAQEBAQEBAQEBAQEBAQEBAQEBAf//AQEBAQEBAQH/AQEBAQEBAQEBAQEBAQEBAQEBAQEB/wEBAQEB//8B/wEBAQH//wEBAQEBAQEBAQEBAQEBAQEBAQEBAQEBAQEBAQEBAQEBAQEBAQEBAQEBAQEBAQEBAQEBAQEBAQEBAQEBAQEBAQEBAQEBAQEBAQEBAQEBAQEBAQEBAQEBAQEBAQEBAQEBAQEBAQEBAQEBAQEBAQEBAQEBAQEBAQEBAf8BAQEBAQEBAQEBAQEBAQEBAQEBAQEBAQEBAQEBAQEBAQEBAQEBAQEBAQEBAQEB/wEBAQEBAQEBAQEBAQEBAQEBAQEBAQEBAQEBAQEBAQEBAQEBAQEBAQEBAf8BAQEBAQEBAQEBAQEBAQEBAQEBAQEBAQEBAQEBAQEBAQEBAQEBAQEBAQEBAQEBAQEBAQEBAQEBAQEBAQEBAQEBAQEBAQEBAQH/AQH/AQEBAQEBAQEBAQEBAQEBAQEBAQEBAQEBAQEBAQEBAQEB/wEBAQEBAQEBAQEBAQEBAQEBAQEBAQEB/wEBAQEBAQEBAQEBAQEBAQEBAQEBAQEBAQEBAQEBAf//AQEBAQEBAQEBAQEBAQEBAQEBAQEBAQEBAQEBAQEBAf8BAQEBAQEBAQEBAQEBAQEBAQEBAQEBAQEBAf8BAQEBAQEBAQEBAQEBAQEBAQEB/wEBAQEBAQEBAQEB/wEBAQEBAf//AQEBAQEBAQEBAQEBAQEBAQEBAQEBAQEBAQEBAQEBAQEBAQEBAQEBAQEBAQEBAQEBAQEBAQEBAQEBAQEBAQEBAQEBAf8BAQEBAQEBAQEBAQEBAQEBAQEBAQEB////AQEBAQEBAQEBAQEBAQEBAQEBAQEBAQEBAQEBAQH///8BAQEBAQH/AQEBAQH///8BAQEBAQEBAQEBAQEB/w==",
            "dtype": "i1",
            "shape": "32, 32"
           }
          }
         ],
         "layout": {
          "title": {
           "text": "Ising Model at T = 2.10, Frame 45"
          }
         },
         "name": "45"
        },
        {
         "data": [
          {
           "type": "heatmap",
           "z": {
            "bdata": "AQEBAQEBAQEBAQEBAQEBAQEBAQEBAQEBAQEBAQEBAQEBAQEBAQEBAQEBAQEBAQH/AQEBAQEBAf8BAQEBAQEBAQEBAQEBAQEBAQEBAQEBAQEBAQEBAQEBAQEB/wEBAQEBAQEBAQEBAQEBAQEBAQEBAQEBAQEBAQEBAQH/AQEBAQEBAQEBAQEBAQEBAQEBAQEBAQEBAQEBAQEBAf8BAQEBAQEBAQEBAQEBAQEBAQEBAQEBAQEBAQEBAQEBAQEBAQH/AQEBAQEBAQEBAf8BAQEBAf8BAQEBAQEBAQEBAQEBAf8BAQEBAQEBAQEBAQEBAQEBAQEBAQEBAQEBAQEBAQEBAf8BAQEBAQEBAQEBAQEBAf8BAQEBAQEBAQEBAQEBAQEBAQEBAQEBAQEBAQEBAf8B/wEBAQEBAQEBAQEBAQEBAQEBAQEBAQEBAQEBAQEB/wEBAQEBAQEBAQEBAQEBAQEBAQEBAf8BAQEBAQEBAQEBAQEBAQEBAQEBAQEBAQEBAQEBAQEBAQEBAQEBAQEBAQEB/wEBAQEB/wEBAQEBAQEBAQEBAQEBAQEBAQH/AQEBAQEBAQEBAQEBAQEBAf8BAQEBAQEBAQEBAQH//////////wEBAQEBAQEBAQEB/wEBAQEBAQEBAQEBAf///wH///////8BAQEBAQEBAf8BAQEBAQEBAQEBAQEB/wEBAQH//wH//wEBAQEBAQEBAQEBAQEBAQEB/wEBAQEBAQEBAQEBAQEBAQEBAQEBAQEBAQEBAf8BAQH/AQEBAQEBAQH/AQEBAQEBAQEB/wEBAQEBAQEBAQEBAf8BAQEBAQEBAf//AQEBAQEBAQH//wEBAQEBAQEBAQEBAQEBAQEBAQEBAQEBAQEBAQEB//8BAQH//wEBAQEBAQEBAQEBAQEB//8BAQEBAQEBAQEB/wEBAQEBAQEBAQEBAQEBAQEBAf//AQEBAQEBAQEBAQH/AQEBAQEBAQEBAQEBAQEBAQEBAQEBAQEBAQEBAQEBAQEBAQEBAQH/AQEBAQEBAQEBAQEBAQEBAQEBAQEBAQEBAQEBAQEBAQEBAQEBAQEBAQEBAQEBAQEBAQEBAQEBAQEBAQEBAQEBAQEBAQEBAf8BAQEBAQEBAQEBAQEBAQEBAQEBAQEBAQEBAQEBAf8BAQEBAQEBAQEBAQEBAQEBAQEBAQEBAQEBAQEBAQEB/wEBAQEBAQEBAf//AQEBAQEBAQEBAQEBAQEBAQEBAQEBAQEBAQEBAf//Af8BAQEBAQEBAQEBAQEB/wEBAQEBAQEBAQEB//8BAQEBAQEBAQEBAQEBAQEBAQEBAQEBAQEBAQEBAQEBAQEBAQEBAQEBAQEBAQEBAQEBAQEBAQEBAQ==",
            "dtype": "i1",
            "shape": "32, 32"
           }
          }
         ],
         "layout": {
          "title": {
           "text": "Ising Model at T = 2.10, Frame 46"
          }
         },
         "name": "46"
        },
        {
         "data": [
          {
           "type": "heatmap",
           "z": {
            "bdata": "AQEBAQEBAQEBAQEBAQEBAQEB/wEBAQEBAQEBAQEBAQEBAQEB/wEBAQEBAQEBAQEB/////wEBAQEBAQEB/wEBAQEBAQEBAQEBAQEBAQEBAQH//////wEBAQEBAQEBAQEBAQEBAQEBAQEB/wEBAQH///8B////AQEBAQEBAQEBAQEBAQEBAQEBAQH/AQEBAQEBAQH/AQEBAQEBAQH/AQEBAQEBAQEBAQEBAQEBAQEBAQEBAf////8B//8BAQEBAQEBAQEBAQEBAQEBAQEBAQEBAQEBAf//AQEBAQEBAQEBAQEBAQEBAQEBAQEBAQEBAQEBAQEB//8BAQEBAQEBAQEBAQEBAQEBAQEBAQEBAQEBAQEBAf//AQEBAQEBAQH/AQEB/wEBAQEBAQEBAQH/AQEBAQEBAf8BAQEBAQEBAQEBAQEBAQEBAQEBAQEBAQEBAQEBAQEBAQEBAQEBAQEBAQEBAQEBAQEBAQEBAf8BAQH/AQEBAQEBAQEBAQEBAQEBAQEBAQEBAQEBAQEBAQEBAQEBAQEBAQEB//8B/wEBAQEBAQEBAQEBAQEBAQEBAQEBAQEBAQEBAQH/////AQEBAQEBAQEBAQEBAQEBAQEBAQEBAQEBAQEBAf///wEBAQEBAQEBAQEBAQEBAQEBAQEBAf8BAQEBAQEB/////wEBAQEB/wEBAQEBAQEBAQEBAQEBAQEBAQEBAQEB////AQEBAQEBAQEBAQEBAQEBAQEBAQEBAQEBAQEBAQH//wEBAQEBAQEBAQEBAQEBAQEBAQEBAQEBAQEBAQEBAf//AQEB/wEBAQEBAQEBAQEBAQEBAQEBAQEBAQEBAQEB//8BAQEBAQEBAQEB/wEBAQEBAQEBAQEBAQEBAf//AQEBAQEBAQEBAQEBAQEBAQEBAQEBAQEBAQEBAQEBAQEBAQEBAQEBAQEBAQEBAQEBAQEBAQEBAQEBAQEBAQEBAQEBAQEBAQEBAQEBAQEBAQEBAQEBAQEBAf8BAQEBAQEBAQEBAQEBAQEBAQEBAQEBAQEBAQEBAQEBAQEBAQEBAf8BAQEBAQEBAQEBAQEBAQEBAQH/AQEBAQEBAf8BAQEBAQEBAQEBAQEBAQEBAQEB/wEBAQEBAQEBAQEBAQEBAQEBAQEBAQEBAQEBAQEBAQEB/wEBAQEBAQEBAQEBAQEBAQEBAQEBAQEBAQEBAQEBAQEBAQEBAQEBAQEBAQEBAQEBAf8BAQEBAQEBAQEBAQEBAQEBAQEBAQEBAQEBAQEBAQEBAQEBAQEBAQEBAQEBAQEBAQEBAQEBAQEBAQEBAQH/AQEBAQEBAf8BAQEBAQEBAQEBAQEBAQEBAQEBAQEBAQEBAQEBAQEBAQEBAQEBAQ==",
            "dtype": "i1",
            "shape": "32, 32"
           }
          }
         ],
         "layout": {
          "title": {
           "text": "Ising Model at T = 2.10, Frame 47"
          }
         },
         "name": "47"
        },
        {
         "data": [
          {
           "type": "heatmap",
           "z": {
            "bdata": "AQEBAQEBAQH/AQEBAQEBAQEBAQEBAQEBAQEBAQH/AQEBAQEBAQEBAQEBAf//AQEBAQEBAQEBAQEBAQEBAf8BAQEBAQEBAQEBAQEB////AQEBAQEBAQEBAQEBAQEBAQEBAQEBAQEBAQEBAQEBAQEBAQEBAQEBAQEBAQEBAQEBAQEBAQEBAQEBAQEBAQEBAQEBAQEBAQEBAQEBAQEBAQEBAQEBAQEBAQEBAQEBAQEBAQEBAf8BAQH/AQEBAQEBAQEBAQEBAQEBAQEBAQEB/wH//wEBAQEBAQEBAQEBAQEBAQEBAQEBAQEBAQEBAQEBAf8BAQEBAQEBAQEBAf8BAQEBAQEBAQEBAQEBAQEBAQEBAQEBAQEBAQEBAQEBAQEBAQH/AQEBAf///wEBAf8BAQEBAQEB/wEBAQEBAQEBAQEBAQEBAQEB////AQEBAQEBAQEBAQH/AQEBAf8BAQEBAQEBAQEBAQH//wEBAQEBAQEBAQEBAQEBAQEB/wEBAQEBAQEBAQEBAQEBAQEBAQEBAQEBAQEBAQEBAQEBAf8B/wEBAQEBAQEBAQEBAQEBAQEBAQEBAQEBAQEBAQEBAQEBAQEBAQEBAQEBAQEBAQEBAQEB/wEBAQEBAQEBAQEBAQEBAQEBAQEBAQEBAQEBAQEBAQEBAQEBAQEBAQEBAQEBAQEBAQEBAQEBAQEBAQEBAQEBAQEBAQEBAQEBAQEBAQEBAQEBAQEBAQEBAf8BAQEBAQEBAQEBAQEBAQH/AQEBAQEBAQEBAQEBAQEBAQEBAQEBAQEB//8BAQEBAf//AQEBAQEBAQEBAQEBAQEBAQH/AQEBAQEBAf8BAQEBAQEBAQEBAQEBAQEBAQEBAQEBAf8BAQEBAQEB/wEBAf8BAQEBAQEBAQEBAQEBAQEB/wEBAQEB/wEBAQEBAQEBAf8BAf//AQEBAQEBAQEBAQEBAQEBAQEBAQEBAQEBAQEB/wEBAQEBAQEBAQEBAQEBAQEBAQEBAQEBAQEB/wEBAQEBAQEBAQEBAQEBAQEBAQEBAQEBAQEBAQEBAf//AQEBAQEBAQEBAQEBAQEBAQEBAQEBAQEBAQH/AQEB//8BAQEBAQEBAQEBAQEBAQEBAf//AQEBAQH/AQEBAQEBAQEBAQEBAQEBAQEBAQEBAQEB/wH/AQEBAQEBAQEBAQEBAQEBAQEBAQEB/wEBAQEBAQEBAQEBAQEBAQEBAf8BAQEBAQEBAQEBAQEBAQEBAQEBAQEBAQEBAQEBAQEBAQEBAQEBAQEBAQEBAQEBAQEBAQEBAQEBAQEBAQEBAQEBAQEBAQH//wEBAQEBAQEBAQEBAQEBAQEBAQEBAQEBAQEBAQEBAQEBAQEBAQEBAf8BAQ==",
            "dtype": "i1",
            "shape": "32, 32"
           }
          }
         ],
         "layout": {
          "title": {
           "text": "Ising Model at T = 2.10, Frame 48"
          }
         },
         "name": "48"
        },
        {
         "data": [
          {
           "type": "heatmap",
           "z": {
            "bdata": "AQEBAQEBAQEBAQEBAQEBAQH/AQEBAQEBAQEBAQEBAQEBAQEBAQEBAQEBAQEBAf8BAQEBAQEBAQEBAQEBAQEBAQEBAQEBAQEBAQEBAQEB/wEBAQEBAQEBAQH/AQEBAQEBAQEBAQEBAQEBAQEBAQEBAQEBAQEBAQEBAQEBAQEBAQEBAQEBAQEBAQEBAQEBAQEBAQEBAQEBAQEBAQEB//8BAQEBAQEBAQEBAQEBAQEBAQEBAQEBAQEBAQEBAQEBAQEB/wEBAQEBAQEBAQEBAQEBAQEBAQEBAQEBAQEBAQEBAQEBAQEBAQEBAQEBAQEBAQEBAQEBAQEBAQEBAQEBAQEBAQEBAQEBAQEBAQEBAQEBAQEBAQEBAQEBAQEBAQEBAQEBAQEBAQEBAQEBAQEBAQEBAQEBAQEBAQEBAQEBAQEBAQEBAQEBAQH//wEBAQEBAQEBAQEBAf8BAQH/AQEBAQEBAQEBAQEBAQEBAQEBAQEBAQEBAQEBAQEBAQEBAQEBAQEBAQEBAQEBAQEBAQEBAQEBAQEB////AQEBAQEBAQEBAQEBAQEBAQEBAQH/AQEBAQEBAQEBAQEBAQEBAQEBAQEBAQEBAQEBAQEBAf8BAQEBAQEBAQH/AQEBAQEBAQEBAQEBAQH/Af//AQEBAQEBAQEBAQEBAQEBAQEBAf8BAQEBAQEBAf8BAf8BAQEBAQEBAQEBAQEBAQEBAQEBAQEBAQEBAQEB/wEBAQEBAQEBAQEBAQEBAQEBAQEBAQEBAQEBAQEBAf//AQEBAQEB/wEBAQEBAQH/AQEBAQEBAQEBAQEBAQEB////AQEBAQEBAQEBAQEB/////wEBAQEBAQEBAQEBAf////8BAQEBAQEBAQEBAQH//////wEBAQEBAQEBAQEB////AQEBAQEBAQEBAQEBAQH///8BAQEBAQEBAQEBAQH/AQEBAQEB/wEBAf8BAQEBAQEBAQEB//8BAQEBAQEB/wEBAQEBAQH///8BAQEBAQEBAQEBAQEBAQEBAQEBAQEBAQEBAQEBAQEBAQEBAQEBAQEBAQEBAQEBAQEBAQEBAQEBAQEBAQEBAQEBAQEBAQEBAQEBAQEBAQEB/wEBAQEBAQEBAQEBAQEB//8BAQEBAQEBAQEBAQEBAQH///8BAQEBAQEBAQEBAQEBAQEBAQEBAQH/AQEBAQEBAQH/AQEBAQEBAQEBAQEBAQEBAQEBAQEB//8BAQEBAQEBAQEB/wEBAQH/AQEBAQEBAQEBAQEBAQEBAQEBAQEBAQEBAQH/AQEBAQEBAQEBAQEBAQEBAQEBAQEBAQEBAQEB/wEBAQEBAQEBAQEBAQEBAQEBAQEBAQEBAf8BAQEBAQEBAQEBAQEBAQ==",
            "dtype": "i1",
            "shape": "32, 32"
           }
          }
         ],
         "layout": {
          "title": {
           "text": "Ising Model at T = 2.10, Frame 49"
          }
         },
         "name": "49"
        },
        {
         "data": [
          {
           "type": "heatmap",
           "z": {
            "bdata": "AQEBAQEBAQEBAQEBAQEBAQEBAQEBAQEBAQEBAQEBAQEBAQEBAQEBAQEBAQEBAQEBAQEBAQEBAQEBAQEBAQEBAQEBAf//AQEBAQEBAQEBAQEBAQEBAQEBAQEBAQEBAQEBAQEB/wEBAQEBAQEBAQEBAQEBAQEBAQEBAQEBAQEBAQEBAQH/AQEBAQEBAQEBAQEBAQEBAQEBAQEBAQEBAQEBAQEBAf//AQEBAQEBAQEBAQEBAQEBAQEBAQEBAQEBAQEBAQEBAf//AQEBAQEBAQEBAQEBAQEBAQEBAQEB/wEBAQEBAQEBAQEBAQEBAQEBAQEBAQEBAQEBAQEBAQEBAQEBAQEBAQEBAQEBAQEBAQEBAQEBAQEBAQEBAQEBAQEBAQEBAf8BAQEBAQEBAQH/AQEBAQEBAQEBAQEBAQEBAQEBAQEBAQEBAQEBAQEBAQEBAQEBAQEBAQEBAQEBAQEBAQEBAQEBAQEBAQEBAQEBAQEBAQEBAQEBAQEBAQEBAQEBAf8BAQEBAQEBAQEBAQEBAQEBAQEBAQEBAQEBAQEBAQEBAQEBAQEBAQEBAQEBAQEBAQEBAQEBAQEBAQEBAQEBAQEBAQEBAQEBAQEBAQEBAQEBAQEBAQEBAQEBAQEBAQEBAQEBAQEBAQEBAQEBAQEBAQEBAQEB/wEBAQEBAQEBAQEBAQH/AQEBAQEBAQEBAQEBAQEBAQH/AQEBAQEB/wEBAQEBAQEBAQEBAQEBAQEBAQH/AQEBAQEBAQEBAf8BAf8BAQEBAQEBAQEBAQEBAQEBAf8BAQEBAQEBAQEB//8BAQEBAQEBAQEBAQEBAQEBAQEBAQEBAQEBAQEBAf///wEBAQEBAQEBAQEBAQEBAQEBAQEBAQEBAQEBAQH///////8BAQEBAQEBAQEBAQEBAQEBAQEBAQEBAQEBAf///////wEBAQEBAQEBAQEBAQEBAQEBAQEBAQH/AQEBAQEBAQEBAQEBAQEBAQEBAQEBAQEBAQEBAQEBAQEBAQEBAQEBAQEBAQEBAQEBAQEBAQEBAQEBAQEBAQEBAf8BAQEBAQEBAQH/Af8BAQEBAQEBAQEBAQEBAQEBAQEB/wEBAQEBAQEB//////8BAQEBAQEBAQEBAQEBAQEBAQEBAQEB/wEBAQH///////8B/wEBAQEBAQEBAQEBAQEBAQEBAQH/AQEBAf//////////AQEBAQEBAQEBAQEBAQEBAQEBAQEBAQEBAf///wEBAQEBAQEBAQEBAQEBAQEBAQEBAQEBAQEBAQEBAQEB/wEBAQEBAQEBAQEBAQEBAQEBAQEBAQEBAQEBAQEBAQEBAQEBAQEBAQEBAQEBAQEBAQEBAQEBAQEBAQEBAQEBAQ==",
            "dtype": "i1",
            "shape": "32, 32"
           }
          }
         ],
         "layout": {
          "title": {
           "text": "Ising Model at T = 2.10, Frame 50"
          }
         },
         "name": "50"
        },
        {
         "data": [
          {
           "type": "heatmap",
           "z": {
            "bdata": "AQEBAQEBAQEBAQEBAQEBAQEBAQEBAQEBAQEB/wEBAQH//wEBAQEBAQEBAQEBAQEB/wEBAQEBAQEBAQH/AQEBAQEBAQEBAQH//wEBAQEBAQH/AQEBAQEBAQEBAf8BAQEBAQEBAQEBAQEBAQEB/wEBAQEB/wEBAQEBAQEBAQEBAQEBAQEBAQEBAf8B//8BAQEBAf///wH/AQEBAf8BAQEBAQH/AQEB/wH/AQEBAQEBAQEB//8BAQEBAQEBAQEBAQEBAQH/Af8BAQEBAQEBAQEB////AQEBAQEBAQEBAQEBAQEBAQEBAQEBAQEBAQEBAQH///8BAQEBAQEBAQEBAQEBAQEBAQEBAQEBAQEBAQEBAf//AQEBAQEBAQEBAQEBAQEBAQEBAQEBAQEBAQEBAQEBAQEBAQEBAQEBAQEBAQEBAQEB/wEBAQEBAQEBAQEBAQEBAQEBAQEBAQEBAQEBAQEBAf//AQEBAQH/AQEBAQEBAQEBAQEBAQEBAQEBAQEBAQEB//8BAQEBAQEBAQEBAQEBAQEBAf8B/wEBAQH//wEBAf///wEBAQEBAQEBAQEBAQEBAQEB/wEBAQEBAQEBAQEB////AQEBAf8BAQEBAQEBAQEBAQEBAQEBAQEBAQEBAf///wEBAQEBAQEBAQEBAQEBAQEBAf8BAQEBAQEBAQEBAf8BAQEBAf8BAf8BAQEBAQEBAQEBAQEBAQEBAQEBAQEB/wEBAQEB////////AQEBAQEBAQEBAQEBAQEBAQEBAQEBAQEBAQEBAf8B/wEBAQEBAQEBAQEBAQEBAQEBAQEBAQEBAQEBAQEBAQEBAQH/AQEBAQEBAQEBAQEBAQEBAQEBAQEBAQEBAf///wEBAQEBAQEBAQEBAQEBAQH/AQEBAQEBAQEBAQEBAQEBAQEBAQEBAQEBAQEBAQEBAQEBAQEB/wEBAQEBAQEBAQEBAQEBAQEBAQEBAQEBAQEBAQEBAQEBAQEBAQEBAQEBAQEBAQEB/wEBAQEBAQEBAQEBAQEBAQEBAQEBAQEBAQEBAQEBAQH/AQEBAQEBAQEBAQEBAQEBAQEBAQEBAf8BAQEBAQEBAQEBAQEBAQEBAQEBAQEBAQEBAQEBAQEBAQEBAQEBAQEBAQEBAf//AQEBAQEBAQEBAQEBAQEBAQEBAQEBAQEB/wEBAQEB////AQEBAQEBAQEBAQEBAQEBAQEBAQEBAf8BAQEBAQEB//8BAQEBAQEBAQEBAQEBAQEBAQEBAQEB/wEBAQEBAQEB/////wEBAQEBAQEBAQEBAQEBAQEBAQEBAQEBAQEBAQEBAQEBAQEBAQEBAQEBAQEBAQEBAQEBAQEBAQEBAQEBAQEBAQEBAQEBAQEBAQ==",
            "dtype": "i1",
            "shape": "32, 32"
           }
          }
         ],
         "layout": {
          "title": {
           "text": "Ising Model at T = 2.10, Frame 51"
          }
         },
         "name": "51"
        },
        {
         "data": [
          {
           "type": "heatmap",
           "z": {
            "bdata": "AQEBAQEBAQEBAQEBAQEBAQEBAQEBAQEBAQEBAf//AQEBAQEBAQEBAQEBAQEBAQEBAQEBAQEB/wEBAQEB//8BAQEBAQEBAf8BAQEBAQEBAQEBAQEBAQEBAQH/AQH/Af8BAQEBAQEBAQEBAQEBAQEBAQEBAQEBAQEBAQEBAf8BAQEBAQEBAQEBAQEBAQEBAQEBAQEBAQEBAQEBAQEBAQEBAQEBAQEBAQEBAQEBAQEBAQEBAQEB/wEBAQEBAQEBAQEB//8BAQEBAQEBAQEBAQEBAQEBAQEBAQEBAQEBAQEBAQEBAQEB//////8BAQEB/wEBAQEBAQEBAf8BAQH/AQEBAQEBAQEB/////wEBAQEBAQEBAQEBAQEBAQEBAQEBAQEBAQEBAQEB////AQEBAQEBAQEBAQEBAQEBAQEBAQEBAf8BAQEBAQH///8BAQH//wEBAQEBAQEBAQEBAQEBAQEBAQEBAQEBAQEBAQEBAQEBAQEBAQEBAQEBAQEBAQEBAQEBAQEBAQEBAQEBAQEBAQEBAQEBAf8BAQEBAQEBAQEBAQEBAQEBAQEBAQEBAQEBAQEBAQEBAQEBAQEBAQEBAQEBAQEBAQEBAQEBAQEB//8BAQEBAQEBAQEBAQEBAQEBAf8BAQEBAQEBAQEBAQEBAQEBAQEBAQEBAQEBAQEBAQH//wEBAQEBAQEBAQEBAQEBAQEBAQEBAQEBAQEBAQEBAQEB/wEBAQEBAf8BAQEBAQEBAQEBAQEBAQEBAQEBAQEBAQEBAQEBAQEBAQEBAQEBAQEBAf8BAQEBAQEBAQEBAQEBAQEBAQEBAQEBAQEBAQEBAQEB/wEBAQEBAQH/AQEBAf8BAQEBAQEBAQEBAQEBAQEBAQEBAQEBAQEBAQEBAQEBAQEBAQEBAQEBAQEBAQEBAQEBAQEBAQEBAQEBAQEBAQEBAQH//wEBAQEBAQEBAQEBAQH//wEBAQEBAQEBAQEBAQH//wEB//8BAQEBAQEBAQEBAQEBAQEBAQEBAQEBAQEBAQEBAQEBAQEBAQEBAf8BAQEB/wEBAQEBAQEBAQEBAQEBAQEBAQEBAQEBAQEBAQEBAQEBAQEBAQH/AQEBAQEBAQEBAQEBAQEBAQEBAQEBAQEBAQEBAQEB//8B/wEBAQEBAQEBAQEBAQEBAQEBAQEBAQEBAQEBAQEB/wEBAf8BAQEBAQEBAQEBAQEBAQEB/wEBAQEBAQEBAQEBAQEB/wEB/wEBAQEBAQEBAQEBAQEBAQEBAQEBAQEBAQEBAQEBAQEBAQEB/wEBAQEBAQEBAQEBAQEBAQEBAQEBAQEBAQEBAQH/AQEBAQEBAQEBAQEBAQEBAQEBAQH/AQEBAQEBAQEBAf//AQ==",
            "dtype": "i1",
            "shape": "32, 32"
           }
          }
         ],
         "layout": {
          "title": {
           "text": "Ising Model at T = 2.10, Frame 52"
          }
         },
         "name": "52"
        },
        {
         "data": [
          {
           "type": "heatmap",
           "z": {
            "bdata": "AQEBAf8BAQEBAQEBAQH/AQEBAQEBAQEBAQEB/wEBAQEBAQEBAQEBAQEBAQEBAf8BAQH/AQEBAQEBAQEBAQEBAQEBAQEBAQEBAQEBAQEBAQEBAQEBAQEBAQEBAQEBAf//AQEB//8BAQEBAQEB/wEBAQEBAQEBAf8BAf//AQEBAQEBAQEBAQEBAQEB/wH/AQEBAQEBAQEB/wEB/wEBAQEBAQEBAQEBAQEB/wEBAQEBAQEBAQEBAQEBAQEBAQEBAQEBAf8BAQEBAQEBAQEBAf8BAQEBAQEBAQEBAQEBAQEBAQEBAQEBAQEBAQEB/wEBAQEBAQEBAQEBAQEBAQEBAQEBAQEBAQEBAQEBAQEBAQEBAQEBAQEBAQEBAQEBAQEBAQEBAf8BAQEBAQEBAQEBAQEBAQEBAQEBAQEBAQEBAQEBAQEB/wEBAQEBAQEBAQEBAQEBAQEBAQEBAQEBAQEBAQEBAQEBAQEBAQEBAQEBAQEBAQEBAQEB/wEBAQEBAQEBAQEBAQEBAQEBAQEBAQEBAQEBAQEBAQEBAQEBAQEBAQEBAQEBAQEBAQEBAQEBAQEBAQEBAQEBAQEBAQEB////AQEBAQEBAQEBAQEBAQEBAQEBAQEBAQEBAQEBAQH///8BAQEBAQEBAQEBAQEBAQEBAQEBAQEBAQEBAQEBAQH/AQEBAQEBAQEBAQEBAQEBAQEBAQEBAQEBAQEBAQEBAf8BAQEBAQEBAQEBAQEBAQEBAQEB/wEB/wEBAQEBAQEBAQEBAQEBAf8BAQEBAQEBAQEBAQH/AQEBAQEBAQEBAQEBAQEBAQEBAQEBAQEBAQEBAQEBAQEBAQEBAQEBAQEBAQEBAQEBAQEBAQEBAQEBAQEBAQEBAQEBAQEBAQEBAQEBAQEBAQEBAQEBAQEBAQEBAQEBAQEBAQEBAQEBAQEBAQEBAQEBAQEBAQEB/wEBAQEBAQEBAQEBAQEBAQEBAQEBAf8BAQEBAQEBAQEBAQEBAQEBAQEB/wEBAQEBAQEBAQEBAQEBAQEBAQEBAQEBAQEBAQEBAQH//wEBAQEBAQEBAQEBAQEBAQEBAQEBAQEBAQEBAQEB////Af8BAQEBAQEBAQEBAQEBAQEBAQEBAQEBAQEBAQEBAQEBAQEBAQEBAf8BAQEBAQEBAQEBAQEBAQEBAQEBAQEBAQEBAQEBAQEBAQEBAQEBAQEBAQEBAQEB//8BAQEBAQEBAQEBAQEB/wEBAQEBAQEBAQEBAQEBAQH///8BAQEBAQEBAQEBAQH//wEBAQEBAQEBAQEBAQEBAQEBAQEB/wEBAQH/AQEBAQH/AQEBAQEBAQEBAQEBAQEBAQEBAQH/AQEBAQEBAQEB//8BAQEBAQEBAQ==",
            "dtype": "i1",
            "shape": "32, 32"
           }
          }
         ],
         "layout": {
          "title": {
           "text": "Ising Model at T = 2.10, Frame 53"
          }
         },
         "name": "53"
        },
        {
         "data": [
          {
           "type": "heatmap",
           "z": {
            "bdata": "AQEBAQEBAQEBAQEBAQEBAQEBAQEBAQEBAQEBAQEBAQEBAQEBAQEBAQEBAf///wEBAQEBAQEBAQEBAQEBAQEBAQEBAQEBAQEBAQEBAQEBAQEBAQEBAQEBAQEBAQEBAQEBAQEBAf8BAQEBAQEBAQEBAQEBAQEBAQEBAQEBAQEBAQEBAf8B////AQEBAQEBAQEBAQEBAQEBAQEBAQEBAQEBAQEBAQH///8BAQEBAQEBAQEBAQEBAQEBAQEBAQEBAQEB/wEBAQEBAQEBAQEBAQEBAQEBAQEBAQEBAQEBAQEBAQEBAQEBAQEBAQEB/wEBAQEBAQEBAQEBAQEBAQEBAQEBAQEB/wEBAQEBAQEBAQEBAQEBAQEBAQEBAQEBAQEBAQEBAQEBAQEBAQEBAQEBAQEBAQEBAQEBAQEBAQEBAQEBAQEBAQEBAQEBAQEBAQEBAQEBAQEBAQEBAQEBAQEBAQEB/wEBAQEBAQEBAQEBAQEBAQEBAQEBAQEBAQEBAQEBAQEBAQEBAf8BAQEBAQEBAQEBAQEBAQEBAQH/AQEBAQEBAQEBAQEBAQEBAQEBAQEBAQEBAQEBAQEBAf//AQEBAQEBAQEBAQEBAQEBAQEBAQEBAQEBAQEBAQEBAf8BAQEBAQEBAQEBAQEBAQEBAQEBAQEBAQEBAQEB/wEB/wEBAQEBAQEBAQEBAQEBAQH//wEBAQEBAQEBAQEB/wEBAQEBAQEBAQEBAQEBAQEBAQEBAQEBAQEBAQEBAQH/AQEBAQEBAQEBAQEBAQEBAQEBAQEBAQEBAQEBAQEBAQEBAQEBAQEBAQEBAQEBAQEBAQEBAQEBAf8BAQEBAQEBAQEBAQEBAQEB/wEBAQEBAQEBAQEBAQEBAQEBAQEBAQEBAQH/AQEBAQEBAQEBAQEBAQEBAQEBAQEBAQEBAQEBAQEBAQEBAQEBAQEBAQEBAQEB/wEBAQEB/wEBAQEBAQEBAQEBAf8BAf8B/wEB/wEBAQEBAQEBAQEBAQEBAQEBAQEBAQEBAQEBAf8BAQEBAQEBAQEBAQEBAQEBAQEBAQEBAQH/AQEBAQEB/wH/AQEBAQEBAQEBAQEBAQEBAQEBAQEBAQEBAQEBAQH/AQEBAQEBAQEBAQEBAQEBAQEBAQEBAQEBAf8BAQEBAQEBAQEBAQEBAQEBAQEBAf8BAQEBAQEBAQEBAQEBAQEBAQEBAQEBAQEBAQEBAQEB/wEBAQEBAQEBAQEBAQEBAQEBAQEBAQEBAQEBAQEBAQEBAQEBAQEBAQEBAQEBAQEB/wEBAQEBAQEBAQEBAQEBAQEBAQEBAQEBAQEBAQEBAQEBAQEBAQEBAQEBAQEBAQEBAQEBAQEBAQEBAQEBAQEBAQEBAQ==",
            "dtype": "i1",
            "shape": "32, 32"
           }
          }
         ],
         "layout": {
          "title": {
           "text": "Ising Model at T = 2.10, Frame 54"
          }
         },
         "name": "54"
        },
        {
         "data": [
          {
           "type": "heatmap",
           "z": {
            "bdata": "AQEBAQEBAf8BAQEBAQEBAQEBAQEBAQEBAQEBAQEBAQEBAQEBAQEBAQEBAQEBAQEBAQEBAQEBAQEBAQEBAQEBAQEBAQEBAQEBAQEBAQEBAQEBAQEBAQEBAQH/Af//AQEBAQEBAQEBAQEBAQEBAQEBAQEBAQEBAQEBAf8B//8BAQEBAQH/AQEBAQEBAQEBAQEBAQEBAQEBAQEBAQEBAQEBAQEBAQEBAQEBAQEBAQEBAQEBAQEBAQEBAQEBAQEBAQEB/wEBAQH/AQEBAQEBAQEBAQEBAQEBAQEBAQEBAQEBAQEBAQEBAQEBAQEBAQEBAQEBAQEBAf//AQEB/wEBAQEBAQEBAQEBAQEB/wEBAQEBAQEBAf8BAQEB/wEBAQEBAQEBAQEBAQEBAQEBAQEBAQEBAQEBAQEBAQEBAQEBAQEBAQEBAQEBAQEBAQEBAQEBAQEBAQEBAQEBAQEBAQEBAQEBAQEBAf8BAQEBAQEBAQEBAQEBAQEBAQEBAQEBAf8BAQEBAQEBAQEBAQEBAQEBAf8BAQEBAQEBAQEBAQEBAQEBAQEBAQEBAQEBAQEBAQEBAQEBAQEBAQEBAQEB//8BAQEBAQEBAQEBAQEBAQEBAQEBAQEBAQEBAQEBAf//AQEBAQEBAQEBAQEBAQEBAQH/AQEBAQEBAQEB/wEB/wEBAQEBAQEBAQEBAQEBAQEBAQEBAQEBAQEBAQEBAQEBAQEBAQEBAQEBAQEBAQEBAQEBAQEBAQEBAQEBAf8BAQEBAQEBAQEBAQEBAQEBAQEBAf8BAQEBAQEBAQEB/wEBAQEB/wEBAQEBAQEBAQEBAQEB/wEBAQEBAQEBAQEBAQEBAQEBAQEBAQEBAQEBAQEB//8BAQEBAQEBAQEBAQEBAQEBAQEBAQEBAQEBAQEBAQH/AQEBAQEBAQEBAQEBAQEBAQEBAQEBAQEBAQEBAQEBAf8BAQEBAQEBAQEBAQEBAQEBAQEBAQEBAQEBAQEBAQEBAQEBAQEBAQH/AQEBAQEBAf8BAQEBAQEBAQEBAQEBAQEBAQEBAQEB//8BAQEBAQEBAQEBAQEBAQEBAQEBAQEBAQEBAQEBAQEBAQEBAQEBAQEBAQEBAQEBAQEBAQEBAQEBAQEBAQEBAQEBAQEBAQEBAQH/AQEBAQH/AQH/Af8BAQEBAQEBAQEBAQEBAQEBAQEBAQEBAQEBAQEBAQEBAQEBAQEBAQEBAQEBAQEBAQEBAQEBAQEBAQEBAQEBAQEBAQEBAQEBAQEBAQEBAQH/AQEBAQEBAQEBAQEBAQEBAQH/AQEBAQEBAQEBAQEBAQEBAQEBAQEBAQEBAQEBAQEBAQEBAQEBAQEBAQEBAQEBAQEBAQEBAQEBAf8BAQ==",
            "dtype": "i1",
            "shape": "32, 32"
           }
          }
         ],
         "layout": {
          "title": {
           "text": "Ising Model at T = 2.10, Frame 55"
          }
         },
         "name": "55"
        },
        {
         "data": [
          {
           "type": "heatmap",
           "z": {
            "bdata": "AQEBAQEBAQEBAQEBAQEBAQEBAQEBAQEBAQEBAf8BAQEBAQEBAQEBAQEBAQEBAQEBAQEBAQEBAQEBAQEBAQEBAQEBAQEBAQEBAQEBAQEBAQEBAQEBAQEBAQEBAQEBAQEBAQEBAQEBAQEB/wEBAQEBAQEBAQEBAQEBAQEBAQEBAQEBAQEBAQEBAQEBAQEBAQEBAQEBAQEBAQEBAQEBAQEBAQEBAQEBAQEBAQEBAQEBAQEBAQEBAQEBAQEBAQEBAQEBAQEBAQEBAQEBAQEBAQEBAQEBAQEBAQEB/wEBAQEBAQEBAQEBAQEBAQEBAQEBAQEBAQEBAQEBAQEBAQEBAQEBAQEBAQEBAQEBAQEBAQEBAQEBAQEBAQEBAQEBAf8BAQEBAQEBAQEBAQEBAQEBAQEBAQEBAQEBAQEBAQH/AQEBAQEBAQEBAQEBAQEBAQEBAQEBAQEBAQEBAQEBAQEBAQEBAQH/AQEBAQEB/wEBAQEBAQEBAQEBAQEBAQEBAQEBAQEBAf8BAQEBAQH/AQEBAQEBAQEBAQEBAQEBAQEBAQEBAQEB/wEBAQEBAQEBAQH/Af//AQEBAQEBAQEBAQEBAQEBAQEBAQEBAQEBAQEBAf8B//8BAQEBAQEBAQH/AQEBAQEBAQEBAQEBAQEBAQEBAQEBAQEBAQEBAQEBAQEBAf8BAQEBAQEBAQEBAQEBAQEBAQEBAQEBAQEBAQEBAQEBAQEBAQEB//8BAQEBAQEBAQEBAQEBAQEBAQEBAf//AQEBAQEBAQEB/wEBAQEBAQEBAQEBAQEBAQEBAQEBAQEBAQEBAQEBAQEBAQEBAQEBAQEBAQEBAQEBAQEBAQEBAQEBAQEBAQH/AQEBAQEBAQEBAQEBAQEBAQEBAQEBAQEBAQEBAf8BAQEBAQEBAQEBAQEBAQEBAQEBAQEBAQEBAf8BAQEBAQEBAQEBAQEBAQEBAQEBAQEBAQEBAQEBAQEBAQEBAQEBAQEBAQEB/wEBAQEBAQEBAQEBAQEBAQEBAQEBAQEBAQEBAQEBAQH/AQEBAQEBAQEBAQEBAQEBAQEBAQEB/wEBAQEBAQEBAQEBAQEBAQEBAQEBAQEBAQEBAf8BAQEBAQEBAQEBAQEBAQEBAQEBAQEBAQEBAQEBAQEBAQEBAQEBAf8BAQEBAQEBAQEBAQEBAQEBAQEBAQEBAQEBAQEBAQEBAQEBAQEBAQEBAQEBAf8BAQEBAQEBAQEBAQEBAQEBAQEBAQEBAQEBAQEBAQEB/wEBAQEBAQEBAQEB/wEBAQEBAQEBAQEB/wEBAf8BAQEBAQEBAQEBAQEBAQEBAQEBAQEBAQEBAQEBAQEBAQEBAQEBAQEBAQEBAQEBAQEBAQEBAf//AQ==",
            "dtype": "i1",
            "shape": "32, 32"
           }
          }
         ],
         "layout": {
          "title": {
           "text": "Ising Model at T = 2.10, Frame 56"
          }
         },
         "name": "56"
        },
        {
         "data": [
          {
           "type": "heatmap",
           "z": {
            "bdata": "AQEBAQEBAQEBAQEBAQEBAQEB/wEBAQEBAQEBAQH/AQEBAQEBAQEBAQEBAQEBAQEBAQEBAQEBAQEBAQEBAQEBAQH/AQEBAQEBAQEBAf8BAQEBAQEBAQEBAQEBAQEBAQEBAf8BAQEBAQEBAQEBAQEBAQEBAQEBAQEBAQEBAQEBAQEBAQEBAQEBAQEBAQEBAQEBAQEBAQEBAQEBAQEBAQEBAQEBAQEBAQEBAQEBAQEBAQEBAQEBAQEBAQEBAQEBAQEBAQEBAQEBAQEBAQEBAQEBAQEBAQEBAQEBAQEBAQEBAQEBAQEBAQEBAQEB//8BAQEBAQEBAQEB/wEBAQEBAQEBAQEBAQEBAQEBAQEBAQEBAQEBAQEBAQEBAQEBAQEBAQEBAQEBAQEB/wEBAQEBAQEBAQEB////AQEBAQEBAQEBAQEBAQEB/wEBAQEBAQEBAQEBAf//////AQEBAQEBAQEBAQEBAQH/AQEBAQEBAQEBAQEBAQH//wEBAQEBAQH/AQEBAQEB/wEBAQEBAQEBAQEBAQEBAf//AQEBAQEBAQEBAQEBAQEBAQH/AQEBAQEBAf8BAQEB/wEBAQEBAQH/AQEBAQEBAQEBAf//AQEBAQEBAQEBAQEBAQEBAQEBAQEBAQEBAQEBAf8BAf8BAQEBAQEBAQEBAQH/AQEBAQEBAQEBAQEBAQEBAQEBAQEBAQEB/wEBAQEBAQEBAQEBAQEB/wEBAQEBAQEBAQH/AQEBAQEBAQEBAQEBAQEBAQEBAQEBAQEBAQEBAQEBAQEBAQEBAQEBAQEBAQEBAQEBAQEBAQEBAQEBAQEBAQEBAQEBAQEBAQH/AQEBAQEBAQEBAQEBAQEBAQEBAQEBAQEBAQEBAQEBAQEBAQEBAQEBAf8BAQEBAQEBAQEBAQEBAQEBAQEBAQEBAQEBAQEBAQEBAQEBAQEBAQEB/wEBAQEBAQEBAQEBAQEBAQEBAQEBAQEBAQEBAf8BAQEBAQEBAQEBAQEBAQEBAQEBAQEBAQEBAQEBAQEBAQEBAQEBAQEBAQEBAQEBAQEBAQEBAQEBAQEBAQEBAQEB/wEBAQEBAQEBAQEBAQEBAf8BAQEBAQEBAQEBAQEBAQEBAQEBAQEBAQEBAQEBAQEBAQEBAQEBAQEBAQEBAQEBAQEBAQEBAQEB/wEBAf8BAQH/AQEB/wEBAQEBAQEBAQEBAQEBAQEBAQEBAQEB/wEBAQEBAQEBAQEBAQEBAQEBAQEBAQEBAQEBAQEBAQEBAQEBAQEBAQEBAQEBAQEBAQEBAQEBAQEBAQEBAQEBAQEBAQEBAQEBAQEBAQEBAQEBAQEBAQEBAQEBAQEBAQEBAf8BAQEBAQEBAQEBAQEBAQEBAf8BAQ==",
            "dtype": "i1",
            "shape": "32, 32"
           }
          }
         ],
         "layout": {
          "title": {
           "text": "Ising Model at T = 2.10, Frame 57"
          }
         },
         "name": "57"
        },
        {
         "data": [
          {
           "type": "heatmap",
           "z": {
            "bdata": "AQEBAQEBAQEBAQH//wEBAQEBAQEB/wEBAQEBAQEBAQEBAf8BAQEBAQEBAQEBAQH/AQEBAQEBAQEBAQEBAQEBAQEBAQEBAQEBAQEBAQEBAQEBAQEBAQEBAf8BAQEBAQEBAQEBAQEBAQEBAQEBAQEBAQEBAQEBAQH/AQEBAQEBAQEB/wEBAQEBAQEBAQEBAQEBAQEBAQEBAQEBAQEBAQEBAQEBAQEB/wEBAQEBAf//AQEBAQEBAQEBAQEBAQEBAQEBAf8BAQEBAQEBAf////8BAQEBAQEBAQEBAQEBAQEBAQEB/wEBAQEBAQEBAf8BAQEBAQEBAQEBAQEBAQEBAQEBAQEBAQEBAQEBAQEBAQEBAQEBAQEBAQEBAQEBAQEBAQEBAQEBAQEBAQEB/wH/AQEBAQEBAQEBAQEBAQEBAQEB/wEBAQEBAQEBAQEBAQEBAQEBAQEBAQEBAQEBAQEBAQEBAQEBAQEBAQEBAQEBAQEBAQEBAQEBAQEBAQEBAQEBAQEBAQEBAQEBAQEBAQH//wEBAQEBAQEBAQEBAQEBAQEBAQEBAQEBAQEBAQEBAQEBAQEBAQEBAQEBAQEBAQEBAQEBAQEBAQEBAQEBAQEBAQEBAQEBAQEBAQEBAQEBAQEBAQEBAQEBAQEBAQEBAQEBAQEBAQEBAQEBAQEBAQEBAQEBAQEBAQEBAQEBAQEBAQEBAQEBAQEBAQEBAQEBAQEBAQEBAQEBAQEBAQEBAQEBAQEBAQEBAQEBAQEBAf8BAQEBAQEBAQEBAQEBAQEBAQEBAQEBAQEBAQEBAQEBAQEBAQEBAQEBAQEBAQEBAQEBAQEBAQEBAQEBAQEBAQEBAQEBAQEBAQEBAQEBAQEBAQEBAQEBAQEBAQEBAQEBAQEBAQEBAQEBAQEBAQEBAQEBAQEBAQEBAQEBAQEBAQEBAQEBAQEBAQEBAQEBAQEBAQEB/wEBAQEBAQEBAQH//wEBAQEBAQEBAQEBAQEBAQEBAf//AQH/Af8BAQEBAQEBAQEBAQEBAQEBAQEBAQEBAQEB/wEBAQEBAQEBAQEBAQEBAQEBAQEBAQEBAQEBAQEBAQEBAQEBAQEBAQEBAQEBAQEBAQEBAQEBAQEBAQEBAQEBAQH/Af8BAQEBAQEBAQEBAQEBAQEBAQEB/wEBAQEBAQEBAQEB/wEBAf8BAQEBAQEBAQEBAQEBAQH/AQEBAQEBAQEBAQH/AQEB/wEBAQEBAQEBAQEBAQEB/wEBAQEBAQEBAQEBAQEB/////wEB////AQEBAQEBAQEBAQEB/wEBAQEBAQEB////AQEBAQEBAQEBAQEBAQEBAQEB/wEBAQEBAQEBAQEBAQEBAQEBAQEBAQEBAQEBAQH/AQ==",
            "dtype": "i1",
            "shape": "32, 32"
           }
          }
         ],
         "layout": {
          "title": {
           "text": "Ising Model at T = 2.10, Frame 58"
          }
         },
         "name": "58"
        },
        {
         "data": [
          {
           "type": "heatmap",
           "z": {
            "bdata": "AQEBAQEBAQEBAQEBAQEBAQEBAQEBAQEBAQEBAQEBAQEBAQEBAQEBAQEBAQEBAQEBAQEBAQEBAQEBAQEBAQEBAQEBAQEBAQEBAQEBAQEBAQEBAQEBAf8BAQEBAQEBAQEBAQEBAQEBAQEBAQEBAQEBAQEBAQEBAQEBAQEBAQEBAQEBAQEBAQEBAQEBAf8BAQEBAQEBAQEBAQEBAQEBAQEBAQEBAQEBAQEBAQEBAQEBAQEBAQEBAQEBAQEBAQEBAf//AQEBAQEBAQEBAQEBAQEBAQEBAQEBAQEBAQEBAQEB/wEBAQEBAQEBAQEBAQEB/wEBAQEBAQEBAQEBAf8BAQEBAQEBAQEBAQEBAf8BAf//AQEBAQEBAQEBAQEBAQEBAQEBAQEBAQEBAQEBAQEBAQEBAQEBAQEBAQEBAQEBAQEBAQEB/wEBAQEBAQEBAQH/AQH/AQEB/wEBAQEBAQEBAQEBAQEBAQEBAQEBAQEBAQEBAQEB/wEBAQEBAQEBAQEBAQEBAQEBAQEBAQEBAQEB/wEBAQEBAf8BAQEBAQEBAQEBAQEBAQEBAQEBAQEBAQEBAQEBAQEBAQEBAQEB//8BAQEBAQEBAQEBAQEBAQEBAQEBAQEBAQEBAQEBAQEBAQEBAQEBAQEBAQEBAQEBAQEBAQEBAQEBAQEBAQEBAQEBAQEBAQEBAQEBAQEBAQEBAf8BAQEBAQEBAf8BAQEBAQEBAQEBAQEBAQEBAQEBAQEBAQH/AQEBAQEBAQEBAQEBAQEBAQEBAQEBAQEBAQEBAQEBAQEBAQEBAQEBAQEBAQEBAQEBAQH/AQEB/wEBAQEBAQEBAQEBAQEBAQEBAQEBAQEBAQH///8BAQH/AQEBAQEBAQEBAQEBAQEBAQEBAQEBAQEBAf////8BAQEBAQEBAQEBAQEB/wEBAQEBAQEBAQEBAQEB//8BAQEBAQEBAQEBAQEBAQH/AQEBAQEBAQEBAQEBAQEBAQEBAf8BAQEBAQEBAQEBAQEBAQEBAQEBAQEBAQEBAQEBAQEBAQEBAQEBAQEBAQH//wEBAQEBAQEBAQEBAQEBAQEBAQEBAQEBAQEBAQEBAQEBAQEBAQEBAQEBAQEBAQEBAQEBAQEBAf//AQEBAQEBAQEBAf8BAQEBAQEBAQEBAQEBAQEBAQEBAQEBAQEBAf8BAQEBAf8BAQEBAQEBAQEBAQEBAQEBAQEBAQEBAf8BAQEBAf///wEBAQEBAQEBAf8BAQEBAQEBAQEBAQH//wEBAQH//wEBAQEBAQEBAQEB/wEBAQEBAQEBAQEBAf8BAQEB//8BAQEBAQEBAQEBAQEBAQEBAQEBAQEBAQEB/wEBAQEBAQEBAQEBAQEBAQEBAQEBAQ==",
            "dtype": "i1",
            "shape": "32, 32"
           }
          }
         ],
         "layout": {
          "title": {
           "text": "Ising Model at T = 2.10, Frame 59"
          }
         },
         "name": "59"
        },
        {
         "data": [
          {
           "type": "heatmap",
           "z": {
            "bdata": "AQEBAQEBAQEBAQEBAQEBAQEBAQEBAQEBAQEBAQH///8BAQEBAQEBAQEBAQH///8BAQEBAQEBAQEBAQEBAQEBAQH/AQEBAQEBAQEBAQEBAQEBAQEBAf8BAQEBAQEBAQEBAQEBAf8BAQEBAQEBAQEBAQEBAQEBAQH/AQEBAQEBAQEBAQEBAQEBAQEBAQEBAQEBAQEBAQEBAf8BAQEB/wEBAQEBAQEBAQEBAQEBAQEBAQEBAQEBAQEBAQEBAQH/AQEB/wH//wEBAQEBAQEBAQEBAQEBAQEBAQEBAQEBAQEBAQEBAQEBAQEBAQEBAQEBAQEBAQEBAQEBAQEBAQEB/wEBAQEB/wEBAQEBAQEBAQEBAQEBAQEBAQEBAQEBAQEBAQEB/wEBAQEBAQEBAQEBAQEB/wEBAQEBAQEBAQEBAQEBAQH/AQEBAQEBAQEBAQEBAQH/AQEBAQEB/wEBAQEBAQEB/wEBAQEBAQEBAQEBAQEB//////8BAQEBAQEBAQEBAQEBAQEBAQEBAQEBAQEBAQEB/wEBAQEBAQEBAQEBAQEBAQEBAQEBAQH/AQEBAQEBAQEBAQEBAf//Af//AQEBAQEBAQEBAQH/AQEBAQEBAQEBAQEBAQEBAQEBAQEBAQEBAQEBAQEB/wEBAQEBAQEBAQEBAQEBAQEBAQEBAQEBAQEBAQEBAQH/AQEBAQEBAQEBAQEBAQEBAQEBAQEBAQEBAQEBAQEBAQEBAQEBAQEBAQEBAQEBAQEBAQEBAQEBAQEBAQEBAQEBAQEBAQEBAQEB/wEBAQEBAQEBAQEBAQEBAQEBAQEBAQEBAQEBAQEBAQEBAQEBAQEBAQEBAQEBAQEBAQEBAQEBAQEBAQEBAQEBAQEBAQEBAQEBAQEBAQEBAQEBAQEBAQEBAQEBAQEBAQEBAQEBAQEBAf8BAQEBAQEBAQEBAQEBAQEBAQEBAQEBAQEBAQEBAQEBAQEB/wEBAQEBAQEBAQH/AQH/AQEBAQEBAQEBAQEBAQEBAQEBAQEBAQEBAQEBAQH/AQEB////AQEB/wEBAQEBAQEBAQEBAQEBAQEBAQEBAQEBAQEB/////wH///8BAQEBAQEBAQEBAf8BAQEBAQEBAQEBAQEBAQH/Af////8BAQEBAQEBAQEBAQEBAQEBAQEBAQEBAQEBAf8BAf///wEBAQEBAQEBAQEBAQEB/wEBAQEBAQEBAQEBAQEB/wEBAQEBAQEBAQH/AQEB/wH/AQEBAQEBAQEBAQEBAQEBAQEBAQEBAQEBAf8BAQH/AQEBAQEB/wEB//8BAQEBAQEBAQEBAQEBAQEBAQEBAf8BAQEBAQEBAQEBAQEBAQEBAQEBAQEBAQEBAQEBAQEBAQH//w==",
            "dtype": "i1",
            "shape": "32, 32"
           }
          }
         ],
         "layout": {
          "title": {
           "text": "Ising Model at T = 2.10, Frame 60"
          }
         },
         "name": "60"
        },
        {
         "data": [
          {
           "type": "heatmap",
           "z": {
            "bdata": "AQEBAQEBAQEBAQEBAQH/AQEBAQEBAQEBAQEBAQEBAQEBAf8BAQEBAQEBAQEBAQEBAQEBAQEBAQEBAQEBAQEBAQEBAQEBAQEBAQEBAQEB/wEBAf8BAf8BAQH/AQEBAQEBAQEBAQEBAQEBAQEBAQEBAQEBAQEBAQEBAQEBAQEBAQEBAQEBAQEBAQEBAQEBAQEBAQEBAQEBAQEBAQEBAQEBAQH/AQEBAQEBAQEBAQEBAQEBAQEBAQEBAQEBAQEBAQEBAQEBAQEBAQEBAQEBAQEBAQEBAf8BAQEBAQEBAQEBAQEBAQEBAQEBAQEBAQEBAQEBAQEBAQEBAQEBAQEBAQEBAQEBAQEBAQEBAf//AQEBAQEBAQEBAQEBAQEBAQEBAQEBAQEBAQEBAQEBAf8BAQEBAQEBAQH/AQEBAQEBAQH/AQEBAf8BAQEBAQEB//8BAQEBAQEBAQEBAQEBAQEBAf8BAf///wEBAQEBAQEBAQEBAQEBAQEBAQEBAQEBAQEBAQEB//8BAQEBAQEBAQEBAQEBAQEBAQEBAQEBAQEBAQEBAQEBAQEBAQEBAQEBAQEBAQEBAQEBAQEBAQEBAQEBAQEBAQEBAQEBAQEBAQEBAQH/AQEBAQEBAQEBAQEBAQEBAQEBAQEBAQEBAQEBAf8BAQEBAQEBAQEBAQEBAQEBAQEBAQEBAQEBAQEBAQEB/wEBAQEBAQH/AQEBAQEBAQEBAQEBAQEBAQEBAQEBAQEBAQEBAQEBAf8BAQEBAQEBAQEBAQEBAQEBAQEBAQEBAQEBAQEBAQEBAQEBAQEBAQEBAQEBAQH/AQEBAQEBAQEBAQEBAQEBAQEBAQEBAQEBAQEBAf8BAQEBAQEBAQEBAQEBAQEBAQEBAQEBAQEBAQEBAQEBAQEBAQEBAQEBAQEBAQEBAQEBAQEBAQEBAQEBAQEBAQEBAQEBAQEBAQEBAQEBAQEBAQEBAQEBAQH/AQEBAQEBAQEBAQEBAQEBAQEBAQEBAQEBAQEBAQEB/wEBAQEBAQH//wEBAQEBAQEBAQEBAQEBAQEBAQEBAQEBAQEBAQEBAQEBAQH/AQEBAQEBAQEB/wEBAQEBAQEBAQEBAQEBAQEBAQH//wEBAQEBAQEBAQEBAQEBAQEBAf8BAQEBAQEBAQEBAf//AQEBAQEBAQEBAQEBAQEBAf8B/wEBAQEBAQEBAQEBAQEBAQEBAQEBAQEBAQEBAQEBAQEBAQH/AQH/AQEBAQEBAQEBAQEBAQEBAQEBAQEBAQEBAQH/Af8BAQEBAQEBAQEBAQH/AQEBAQEBAQEBAQEBAQEBAQEBAQEBAQEBAQH//wEBAf8BAQEBAQEBAQEBAQEBAQEBAQEBAQEBAQEBAQEBAQ==",
            "dtype": "i1",
            "shape": "32, 32"
           }
          }
         ],
         "layout": {
          "title": {
           "text": "Ising Model at T = 2.10, Frame 61"
          }
         },
         "name": "61"
        },
        {
         "data": [
          {
           "type": "heatmap",
           "z": {
            "bdata": "Af8BAQEBAQEBAQEBAQEBAQEBAQEBAQEBAQEBAQEBAQEB//8BAQEBAQEBAQEBAQEBAQEBAQEBAQH/AQEBAQH/Af////8BAQEBAQEBAQEBAQEBAQEBAQEBAQEBAQEBAQH/////AQEBAQEBAQEBAQEBAQEBAQEBAQEBAQEBAf8BAf8BAQEBAQEBAQEBAQEBAQEBAQEBAQEBAQEBAQEBAQEBAQEBAQEBAQEBAQEBAQEBAQEBAQEBAQEBAQEBAQEBAQEBAQEBAQEBAQEBAQEBAQEB/wEBAQEBAQEBAQEBAQEBAQEBAQEBAQEBAQEBAQEBAQEBAQEBAQEBAQEBAQEBAQEBAQEBAQEBAQEBAQEBAQEBAQEBAQEBAQEBAQH//wEBAQEBAQEBAQEBAQEBAQEBAQEBAQEBAQEBAQEBAQEB/wEBAQEBAQEBAQEBAQEBAQEBAQEBAf8BAQEBAQEBAQH/AQEBAQEBAQEBAQEBAQEBAQEBAQEB/wEBAQEBAQEBAQEBAQEBAQEBAQEBAQEBAQEBAQEBAQEBAQEB//8BAQEBAf8BAQEBAf///wEBAQEBAQEBAQEBAQEBAQH//wEBAQEBAQEBAQEBAf//AQEBAQEBAQEBAQEBAQEBAQEBAQEBAQEBAQEBAQEB//8BAQEBAQEBAQEBAQEBAQEBAQEBAQEBAQEBAQEBAQH///8BAQEBAQEBAQEBAQEBAQEBAQEBAQEBAQEBAQEBAQEBAQEBAQEBAQEBAQEBAQEBAQEBAQEBAQEBAQEBAQEBAQEBAQEBAQEBAQEBAQEBAQEBAQEBAQEBAQEBAf8BAQEBAQEBAQH///8BAQEBAQEBAQEBAQEBAQEBAQEB/wEBAQEBAQEBAQH//////wEB/wEBAQEBAQEBAQEB/wEBAQEBAQEBAQEBAf//AQEBAQEBAQEBAQEBAQEBAQEBAQEBAQEBAQEBAQEBAQEBAQEBAQEBAQEBAQEBAQEBAQEBAQEBAQH/AQEBAQEBAQEBAQEBAQEBAQEBAQEBAQEBAQEBAQEBAQEBAQEBAQEBAQEBAQEBAQEBAQEBAQEBAQEBAQEBAf8BAQEBAQEBAQEBAQEBAQEBAQEBAQEBAQEBAQEBAQEBAQEBAQEBAQEBAQEBAQEBAQEBAQEBAQEBAQEBAQEBAQEBAQEBAQEBAQEBAQEBAQEBAQEBAf8BAQEBAQEBAQH/AQEBAQEBAQEBAQEBAQEBAQEBAQEB//8B/wEB/wEBAQH//wEBAQEBAQEBAQEBAQEBAQEBAQEBAQH/AQEBAQEB////AQEBAQEBAQEBAQEBAQEBAQEBAQEBAQEBAQEBAQH//wEBAQEBAQEBAQEBAQEBAQEBAQEB/wEBAQEBAQEBAQ==",
            "dtype": "i1",
            "shape": "32, 32"
           }
          }
         ],
         "layout": {
          "title": {
           "text": "Ising Model at T = 2.10, Frame 62"
          }
         },
         "name": "62"
        },
        {
         "data": [
          {
           "type": "heatmap",
           "z": {
            "bdata": "AQEBAQEBAQEBAQEBAQH/AQEBAQEBAQEBAQEBAQEBAQEBAQEBAQEBAQEBAQEBAQEBAQEBAf8BAQEBAQEBAQEBAQEBAQEBAQEBAQEBAQEBAQEBAQEBAQEBAQEBAQEB/wEBAQEBAQH/AQEBAQEBAQEBAQEBAQEBAQEBAQEBAQEBAQEBAQEBAQEB/wEBAQEBAQEBAQEBAQEBAQEBAf8BAf8BAQEBAQEBAQEB//8BAQEBAQEBAQEBAQEBAQEBAQEBAQEBAQEBAQEBAf//////AQEBAQEBAQEBAQEBAQEBAQEBAQEBAQEB/wH/AQEBAQEBAQH/AQEBAQEBAQEBAQEBAQEBAQEBAQEBAQEBAQEBAQEBAf8BAQEBAQEBAQEBAQEBAQEBAf8BAQEBAQEB/wEBAQEBAQEBAQEBAQEBAQEBAQEBAQEBAQEBAQEBAQEBAQEBAQEBAQEBAQEBAQEBAQH/AQEB/wEBAQEBAQEBAQEBAQEB/wEBAQEBAQEBAQEBAf8BAQEBAQEBAQEBAQEBAQEBAQH/AQEBAQEBAQEBAQEBAf//AQEBAQEBAQEBAQEBAQEBAQEBAQEBAQEBAQEBAQEBAQEBAQEBAQEBAQEBAQEBAQEBAQEBAQEBAQEBAQEBAQEBAQEBAQEBAQEBAQEBAQEBAQEB/wEBAQEBAQH/AQEBAQEBAQEBAQEBAQEBAQEBAQEBAQEBAQEBAQEBAQEBAQEBAQEBAQEBAQEBAQEBAQEBAQEBAQH/AQEBAQEBAQEBAQEBAQEBAQEBAQEBAQEBAQEBAQEBAQH//wEBAQEBAQEBAQEBAQEBAQEBAQEBAQEBAQEBAQEB/wH/AQEBAQEBAQEBAQEBAQEBAQEBAQEBAQEBAQEBAQEBAQEBAQEBAQEBAQEBAQEBAQEBAQEBAQEB//8BAQEBAQEBAQEBAQEBAQEBAQEBAQEBAQEBAQEBAQEBAQEBAQEBAQEBAQEBAQEBAQEBAQEBAQEBAQEBAQH///8BAQEBAQEBAQEBAQEBAQEBAQEBAQEB/wEBAQEBAQH//wEBAQEB/wEBAQEBAQEBAQEBAQEBAQEBAQEBAQEBAQH/AQEBAf8BAQEBAQEBAQEBAf8BAQEBAQEBAQEBAQEBAQEBAQEBAQEBAQEBAQEBAQH/AQEBAQEBAQEBAQEBAQEBAQEBAQEBAQEBAQEBAQEBAQEBAQEBAf8BAQEBAQEBAQEBAf8BAQEBAQEBAQEBAQEBAQEBAQEBAQEBAQEBAQEBAQEBAf8BAQEBAQEBAQEBAQEBAQEBAQEBAQEBAQEBAQEBAQEBAQEBAQEBAQEBAQEBAQEBAQEBAQEBAQEBAQEBAQEBAQEBAf8BAQEBAQEBAf///wEBAQEBAQ==",
            "dtype": "i1",
            "shape": "32, 32"
           }
          }
         ],
         "layout": {
          "title": {
           "text": "Ising Model at T = 2.10, Frame 63"
          }
         },
         "name": "63"
        },
        {
         "data": [
          {
           "type": "heatmap",
           "z": {
            "bdata": "AQEBAQEBAQEBAQEBAQEBAQEBAQEBAQEB/wEBAQEBAQEBAQEBAQEBAQEBAQEBAQEBAQEBAQEBAQEBAQEBAQEBAQEBAQEBAQEBAQH/AQEBAQEBAQH//wEBAQEBAQEBAQEBAQEBAQEBAQEBAQEBAQEBAQEBAQEBAQEBAQEBAQEBAQEBAQEB/wEBAQEBAf8BAQEBAQEBAQEBAQEBAQEBAQEBAQH/AQEBAQEBAQEBAQEBAQEBAQH/AQEBAQEBAQEBAQEBAQEBAQEBAQEBAf8BAQEBAf8BAQEBAQEBAQH/AQEBAQEBAQEBAQEBAQEBAQEBAQEBAQEBAQEBAQEBAQEBAQEBAQEBAQEBAQEBAQEBAQEBAQEB/wEBAQEBAQEBAQEBAQEBAQEBAQEBAQEB/wEBAQEBAf//AQEBAQEBAQEBAQEB/wEBAQEBAQEBAQH/AQEBAQEBAQEBAQEBAQEBAf8BAQH/AQEBAQEBAQEBAQEBAQEBAf8BAQEBAQEBAQEBAQEBAQEBAQEBAQEBAQEBAQEBAQEBAQEBAQEBAQEBAQEBAQEBAQEBAQEBAQEB//8BAQEBAQEBAQEBAQEBAQEBAQEBAQEBAf8BAQEBAf///wEBAQEBAQEBAQEBAQEBAQEBAQEBAQEBAQEBAf8BAQEBAQEBAQEBAQEBAQEBAQEBAQEBAQEBAQEBAQEBAQEBAQEBAQEBAQEBAQEBAQEBAQEBAQEBAQH/AQEBAQEBAQEBAQEBAQEBAQEBAQEBAQEBAQEBAQEBAQEBAQEBAQEBAQEBAQEBAQEBAQEBAQEBAQEBAQEBAQEBAQEBAQEBAQEBAQEBAQEBAQEBAf8BAQEBAQEBAQEBAQEBAQEBAQEBAQEBAQEBAQEBAQEBAQEBAQEBAQEBAQEBAQEBAQEBAQH/AQEBAQEBAQEBAQEBAQEBAQEBAQEBAQH//wEBAQEBAQEBAQH/AQEBAQH//wEBAQEBAQEBAQEBAf//AQEBAQEBAQEB//8BAQEBAQEBAQEBAQEBAQEBAQEBAQEBAQEBAQEBAQEBAQEBAQEBAQEBAQEBAQEBAQEBAQEBAQEBAQEBAQEBAQEBAQEBAQEBAQEBAQEBAQEBAQEBAQEBAQEBAQEBAQEBAQEBAQEBAQEBAQEBAQEBAQEBAQEBAQEBAQEBAQEBAQEBAQEBAQEBAQEBAQEBAQEBAQEBAQEBAQEBAQEBAQEBAQEBAQEBAQEBAQEBAQEB/wEBAQEBAQEBAQEBAQEBAQEBAQEBAQEB/wEBAQEBAQEBAQEBAf8BAQEBAQH/AQEBAQEBAQEBAQEBAQEBAQEBAQEB/wEBAQEB//8BAQEBAQEBAQEBAQEBAQEBAQEBAQEBAQEBAQEBAQEB/w==",
            "dtype": "i1",
            "shape": "32, 32"
           }
          }
         ],
         "layout": {
          "title": {
           "text": "Ising Model at T = 2.10, Frame 64"
          }
         },
         "name": "64"
        },
        {
         "data": [
          {
           "type": "heatmap",
           "z": {
            "bdata": "AQEBAQEBAQEBAf///wEBAQEBAf8BAQEBAQEBAQEBAQH/AQEB/wEBAQEB/wEBAQEBAQEBAQEBAQEBAQEBAQEB/wEBAQH/AQEBAQH//wEBAQEBAQEB/wH/AQEBAQH/AQH/AQEBAQEB/wEBAQH/AQEBAQEBAf8BAf8BAQEBAQEBAQEBAQEBAQEBAQEBAQEBAQEB/wEBAQEB/wEBAQEBAQEBAQEBAQEBAQEBAQEBAQEBAQEBAQEBAQEBAQEBAQEBAf//AQEBAf8BAQEBAQEBAQEBAQEBAQEBAQEBAQEBAQEBAQEBAQEB////AQEBAQEBAf8BAQEBAQEB//8BAQEBAQEBAQEBAQH//wEBAQEBAQH///8BAQEBAf//AQEBAQEBAQEBAQEBAf8BAQEBAQEBAQEBAQH/AQEBAQEBAQEBAQEBAQEBAQEB/wEBAQEBAQEBAQEB//8BAQEBAQEBAQEBAQEBAQEBAQEBAQEBAQEBAQEBAQH/AQEBAQEBAQEBAf8BAQEBAQEBAQEBAQEBAQEBAQEBAQEBAQEB/wEBAQH//wEBAQEBAQEBAQEBAQEB/wEBAQEBAQEBAQEBAQEB////AQEBAf8BAQEBAQEBAQEBAQEBAQEBAQEBAQEBAQEBAQEBAQEBAQEBAQEBAQEBAQEBAQEBAQEB/////wEBAQEBAQEBAQEBAQEBAQEBAQEBAQEBAQEBAQH/AQEB/wEBAQEBAQEBAQEBAQEBAQEBAQEBAQEBAQEBAf8BAQEBAQEBAQEBAQEBAQH/Af8BAQEBAQEBAQEB/////wEB/wEBAQEBAQEBAQEBAQEBAQEBAQEBAQEBAQEBAQEBAQH///8BAQEBAQEBAQEBAQEBAQEBAQEBAf//AQEBAQEBAQEBAQEBAQEBAQEBAQEBAQEBAQEBAQEBAQEBAQEBAQEB//8BAQEBAQEBAQEBAQEBAQEBAQEBAQEBAQEBAQEBAQEBAQEBAQEBAQEBAQEBAQEBAQEBAQEBAQEBAQEBAQEBAQEBAQEBAQEBAQEBAQEBAQEBAQEBAQEBAQEBAQEBAQEBAQEBAQEBAQEBAQEBAQEBAQEBAQEBAQEBAQEBAQEBAQEB/wEBAQEBAQH//wEBAQEBAQEBAQEBAQEB/wEBAQEBAQEBAQEBAQEBAQEBAQEBAQEBAQEBAQEBAQH//wEB/wEBAQEBAQEBAQEBAQEBAQEBAQEBAQEBAQEBAQEBAQH/AQEBAQEB/wEBAQEBAQEBAQEBAQEBAQEBAQEBAQEBAQEBAQEBAQEBAQEBAQEBAQEBAQEBAQEBAQEBAQEBAQEBAQEBAQEBAQEBAQEBAQEBAQEBAQEBAQEB//8BAQH/AQEBAQEBAQEBAQEBAQEBAQ==",
            "dtype": "i1",
            "shape": "32, 32"
           }
          }
         ],
         "layout": {
          "title": {
           "text": "Ising Model at T = 2.10, Frame 65"
          }
         },
         "name": "65"
        },
        {
         "data": [
          {
           "type": "heatmap",
           "z": {
            "bdata": "AQEBAQEBAQH/AQEBAQEBAQEB/wEBAQEBAQEBAQEBAQEBAQEBAQEBAQEBAQEB/wEBAQEBAQEBAQEBAQEBAQEBAQEBAQEBAQEBAQEBAQH/AQEBAQEBAQEBAQEBAQEBAQEBAQEBAQEBAQEBAQEBAQEBAQEBAQEBAQEBAQEBAQEBAQEBAQEBAQEBAQEBAQEBAQEBAQEBAQEBAQEBAQEB////AQEBAQEBAQEBAQEBAQEBAQEBAQEBAQEBAQEBAQH///8BAQEBAQEBAQEBAQEBAQEBAQEBAQEBAQEBAQEBAf///wEBAQEBAQEBAQEBAQEBAQEBAQEBAQEBAQEBAQEBAf//AQEBAQEBAQEBAQEBAQEBAQEBAQEBAQEBAQEBAQEBAQEBAQEBAQEBAQEB//8BAQEB//8BAQEBAQEBAQEBAQEBAQEBAQEBAQEBAQH//wEBAQEBAQEBAQEBAQEBAQEBAQEBAQEBAQEBAQEBAQEBAQH/AQEBAQEBAQEBAQEBAQEBAQEBAQEBAQEBAQEBAQEBAf8BAQEBAQEBAQEBAQEB/wEBAQEBAQEBAQEBAQEBAQEBAQEBAQEBAQEBAQEBAQEBAQEBAQEBAQEB/wEBAQEBAQEBAQH/AQEBAQEBAQEB/wEBAQEBAQEBAQEBAQEBAQEBAQEBAf8BAQEB//8BAQEBAQEBAQEBAQEBAQEBAQEB/wEBAQEBAQEBAQH/AQEBAQEBAQEBAQEBAQEBAQEBAQEBAQEBAQEBAQEBAQEBAQEBAQEBAQEBAQEBAQEBAQEBAQEBAQEBAQEBAQEBAQEBAQEBAQEBAQH/AQEBAQEBAQEBAQEBAQEBAQEBAQEBAQEBAQH/AQEB/wEBAQEBAQEBAQEBAQEBAQEBAQH///8BAQEBAf8BAQEBAQEB//8BAf8BAQEBAQEBAQEB/////wEBAQEBAQEBAQEBAQEBAQEBAQH/AQH/AQEBAQEBAQEBAQEBAQEBAQEBAQEBAQEBAQEBAQEBAf8BAQEBAQEBAQEBAQEBAQEBAQEBAQEBAQEBAQEBAQEBAQEBAQEBAQEBAQEBAQEBAQEBAQEBAQEBAQEBAQEBAQEBAQEBAQEBAQEBAQEBAQEBAQEBAQEBAQEBAQEBAQEBAQEBAQEBAQEB/wEBAQH/AQEBAQEBAQEBAQEBAQEBAQEBAQEBAQEBAQEBAf8BAQEBAQEBAQEBAQEBAQEBAQEBAQEBAQEBAQEBAQEBAQEBAQEBAQEBAQEBAQEBAQEBAQEBAQEBAQEB//8BAQEBAQEBAQEBAQEBAQEBAQEBAQEBAQEBAf8BAQEB/wEBAQEBAQEBAQH/AQEBAQEBAQEBAQEBAQEBAQEBAQEBAQEBAQH/AQEBAQEBAQ==",
            "dtype": "i1",
            "shape": "32, 32"
           }
          }
         ],
         "layout": {
          "title": {
           "text": "Ising Model at T = 2.10, Frame 66"
          }
         },
         "name": "66"
        },
        {
         "data": [
          {
           "type": "heatmap",
           "z": {
            "bdata": "AQEBAQEBAQEBAQEBAQEBAQEBAQEBAQEBAQEBAQEBAQEBAQEBAQEBAQEBAQEBAQEBAQEBAQEBAQEBAQEBAQEBAQEBAQEBAQEBAQEBAQEBAQEBAf8BAQEBAQEBAQEBAQEB/wEBAQEBAQEBAQEBAQEBAQEBAQEBAQEBAQEBAQEBAQEBAQEBAQEBAQEBAQEBAQEBAQEBAQEBAQEBAQEBAQEBAQEBAf//AQEBAQEBAQEBAQEBAQEBAQEBAQEBAQEBAQEBAQEBAQEBAf8BAQEBAQEBAQEBAQEBAQEBAQEBAQEBAQEBAQEBAQEBAf8BAQEBAQEBAQEBAQEBAQEBAQEBAQEBAQEBAQEBAQH/AQEBAQEBAQEBAQEBAQEBAQEBAQEBAQEBAQEBAQEBAf//AQEBAQEBAQEBAQEBAQEBAQEBAQEBAQEB////AQEBAf///wEBAQEBAQEBAQEBAQEBAQEBAQEBAQEB/wEBAQEBAQEBAQEBAQEBAQEBAQEBAQEBAQEBAQEBAQEBAQEBAQEBAQEBAQEBAQEBAQEBAQEBAQEB/wEBAQEBAQEBAQEBAQEBAQEBAQEBAQEBAQEBAQEBAQEBAf8BAQEBAQEBAQEBAQEBAQEBAQEBAQEBAQEBAQEBAQEBAQEBAQEBAQEBAQEBAQEBAQEBAQEBAQEBAQEBAQEBAQEBAQEBAQEBAQEBAQEBAQEBAQEBAQEBAQEBAQEBAQEB/wEBAQEBAQEBAQEBAQEBAQEBAQEBAQEBAf8BAQEBAQEBAQEBAQEBAQEBAQEBAQEBAQEBAQEBAQEBAQEBAQEBAQEBAQEBAQEBAQEBAQEBAQEBAQEBAQEBAQEBAQEBAQEBAQEBAQEBAQEBAQEBAQEBAQEBAQEBAQEBAQEBAQEBAQEBAQEBAQEBAf8BAQEBAQEBAQEBAQEBAQEB/wEBAQEBAQH/AQEBAQEBAQEBAQEBAQEBAQEBAQEBAQEBAQEBAQEBAQEBAQEBAQEBAQEB/wEBAQEB/wEBAQEBAQEBAQEBAQEBAQEBAQEBAQEBAQEBAf///wEBAQEBAQEBAQEBAQEBAQEBAQEBAQEBAQEBAQEBAQH/AQEBAQEBAQEBAQEBAQEBAQEBAQEBAQEBAQEBAQEBAQEBAQEBAQEBAQH/AQEBAQEBAQEBAQEBAQEBAQEBAQEBAQEBAQEBAQEBAf//AQEBAf//AQEBAQEBAQEBAQEBAf8BAQEBAQEBAQEB//8BAQH///8B/wEBAQEBAQEBAQEB/wEBAQEBAQEBAQEB/wEBAf8BAQEBAf8BAQEBAQEB/wEBAQEBAQEBAQEBAQEBAQEBAQEBAQEBAQEBAQEB/wEBAQEBAQEBAQEBAQEBAQEB/wEBAQEBAQ==",
            "dtype": "i1",
            "shape": "32, 32"
           }
          }
         ],
         "layout": {
          "title": {
           "text": "Ising Model at T = 2.10, Frame 67"
          }
         },
         "name": "67"
        },
        {
         "data": [
          {
           "type": "heatmap",
           "z": {
            "bdata": "AQEBAQEBAQEBAQEBAQEBAQEBAQEBAf8BAQEBAQEBAQH/AQEBAQEBAQEBAQEBAQEBAQEBAQEBAQEBAQEBAQEBAf8BAQEBAQEBAQEBAQEBAQEBAQEBAQEBAQEBAQEBAQEBAQEBAQEBAQEBAQEB/wEBAQEB/wH//wEBAQEBAQEBAQEBAQEBAQEBAQEBAQEB/wEBAQEBAQEBAQEBAQEBAQEBAQEBAQEBAQEBAQEBAQEBAQEBAQEBAQEBAQEBAQEBAQEBAQEBAQEBAQEBAQEBAQEBAQEBAQEBAQEBAQEBAQEBAQEBAQEBAQEBAQEBAQEBAQEBAQEB/wEBAQEBAQEBAQEBAQEB/wEBAQEBAQEBAQEBAQEBAQH//wEBAQEBAQEBAQEBAQEBAQEBAQEBAQEBAQEBAQEBAQEBAQEBAQEBAQEBAQEBAQEBAQEBAf8BAQEBAQEBAf8BAQEBAQH///8BAQEBAQEBAQEBAf//AQEBAQEBAQEBAQEBAQEBAQEBAQEBAQEBAf//Af8B//8BAQEBAQEBAQEBAQEBAQEBAQEBAQEBAQEB//8BAQEBAQEBAQEBAQEBAQEBAQEBAQEBAQEBAQEBAQEBAQEBAQEBAQEBAQEBAQEBAQEBAQEBAQEBAQEBAQEBAQEBAQEBAQEBAQEBAQEBAQEBAQEBAf8BAQEBAQEBAQEBAQEBAQEBAQEBAQEBAQEBAQEBAQEBAQEBAQEBAQEBAQEB/wEBAQEBAQEBAQH//wEBAQEBAQEBAQEBAQEBAQEBAQH/AQEBAQEBAQEBAf8BAQEBAQEBAf8BAQEBAQEBAQEBAQEBAQEBAQEBAQEBAQEBAQEBAQEBAQEBAQEBAQEBAQEBAQEBAQEBAQEBAQEBAQEBAQEBAQEBAQEBAQEBAQEBAQEBAQEBAQH/AQEBAQEBAQEBAf8BAQEBAQEBAQEBAQEBAQEBAQEBAQEBAQEBAQEBAQEBAQEBAQEBAQEBAQEBAQEBAQEBAQEBAQEBAQEBAQEBAQEBAQEBAQEBAQEBAQEBAQEBAQEBAQEBAQEBAQEBAQEBAQEBAQEBAQEBAQEBAQEBAQEBAQEBAQEBAQEBAQEBAQEBAQEBAQEBAQEBAQEBAQEBAQEBAQEBAQEBAQEBAQEBAQEBAQEBAQH/AQEBAQEBAQEBAQEBAQEBAQEBAQEBAQEBAQEBAQEBAQEBAQEBAQEBAQH/AQEBAQEBAQEBAQEBAQEBAQEBAQEBAQEBAQEBAQEBAQEBAQEBAQEBAQEBAQEBAQEBAQEBAQEB/wEBAQEBAQEBAQEBAQEBAQEBAQEBAQEBAQEBAQEBAQEBAQEBAQEBAQEBAQEBAQEBAQEBAQEBAQEBAQEBAQEBAQEBAQEBAQ==",
            "dtype": "i1",
            "shape": "32, 32"
           }
          }
         ],
         "layout": {
          "title": {
           "text": "Ising Model at T = 2.10, Frame 68"
          }
         },
         "name": "68"
        },
        {
         "data": [
          {
           "type": "heatmap",
           "z": {
            "bdata": "AQEBAf///wEBAQEBAQEBAQEBAQEBAQEBAQEBAQEBAQEBAQEBAf8BAQEBAf8BAQEBAQEBAQH/AQEB/wEBAQEBAQEBAQEB/wEBAQH/AQEBAQEBAQEBAQEBAQEBAQEBAQEBAQEBAQEBAQEBAf//AQEBAQEBAQEBAQEBAQEBAQH/AQEBAQEBAQEB/wEBAQEBAQEBAQEBAQEBAf8BAQH///8BAQEBAQEBAQEBAQEBAQEBAQEBAQEBAQEBAQEBAf//AQEBAQEBAQEBAQEBAQEBAQEBAQEBAQEBAQEB/wEBAQEBAQEBAQEBAQEBAQEBAQEBAQEBAQEBAQEBAQEBAQEBAQEBAQEBAQEBAf8BAQH/AQEBAQEBAQEBAQEBAQEBAQEBAQEBAQEB/wEBAQEBAQEBAQEBAQEBAQEBAQEBAQEBAQEBAQEBAQEBAQEBAQEBAQEBAQEBAQEBAQEBAQEBAQEBAQEBAQEB/wEBAQEBAQEBAQEBAQEBAQEB//8BAQEBAQEBAQEBAQEBAQEBAQH//wEBAQEBAQEBAQEB/wEBAQEBAQEBAQEBAQEBAQEBAQEBAQEBAQEBAQEBAf//AQEBAQEBAQEBAQEBAQEBAQEBAQEBAQEBAQEBAQEBAQEBAQEBAQEBAQEBAQEBAQEBAQEBAQEBAQEBAQEBAQEBAQEBAQEBAQEBAQEBAQEBAQEBAQEBAQEBAQEBAQEBAQEBAQEBAQEBAQEBAQEBAQEBAQEBAQEBAQEBAQEBAQEBAQEBAf8BAQH/AQH/AQEBAQEBAQEB/wEBAQEBAQEBAQEBAQEBAQEBAQEBAQEBAQEBAQEBAQEBAQEBAQEBAQEBAQH/AQEBAQEBAQEBAQEBAQEBAQH//wEBAQEBAQEB/wEBAQEBAQEBAQEBAQEBAQEBAQEBAQEBAQEBAQEBAQEBAQEBAQEBAQEBAQEBAQEBAQEBAQEBAQEBAQEBAQEBAQH/AQEBAQEBAQEBAQEBAQEBAQEBAQEBAQEBAQEBAQH///8BAQEBAQEBAQEBAQEBAQEBAQEBAQEBAQEBAQH//////wEBAQEBAQEBAQEB/wEBAQH/AQEBAQEBAQEBAQH/////AQEBAQEBAQEBAQEBAQH//wEBAQEBAQEBAQEBAQEB//8BAQEBAQEBAQEBAQEBAQEBAQEBAQEBAQEBAf8BAQEBAQEBAQEBAQEBAQEBAQEBAQEBAQEBAQEBAQEBAQEBAQEBAQEBAQEBAQEBAQEBAQEB//8BAQEBAQEBAQEBAQH/AQEBAQEBAQEBAQEBAQEBAQEBAQEBAQEBAQEBAQEB////AQEBAQEBAQEBAQEBAQEBAQEB/wEBAQEBAQEBAQEBAQEBAQEBAQEBAQEBAQEBAQ==",
            "dtype": "i1",
            "shape": "32, 32"
           }
          }
         ],
         "layout": {
          "title": {
           "text": "Ising Model at T = 2.10, Frame 69"
          }
         },
         "name": "69"
        },
        {
         "data": [
          {
           "type": "heatmap",
           "z": {
            "bdata": "AQEBAQEBAQEBAQEBAQEBAQEBAQEBAQEBAQEBAQEBAQEBAQEBAQEBAQEBAQEBAQEB/wEBAQEBAQEBAQEBAQEBAQEBAQEBAQEBAQEBAQEBAQEBAQEBAf8BAQEBAQEBAQEBAf8BAQEBAQEBAQEBAQEBAQEBAQEBAQEBAf8BAQEBAQEBAQEBAQEBAQEBAQEBAQEBAQEBAQEBAQEBAQEBAQEBAQEBAQEBAQEBAQEBAQEBAQEBAQEBAQEBAQEBAQEBAQEBAQH/AQEBAQEBAQEBAQEBAQEBAQEBAQEBAQEBAQEBAQEBAQEBAQEBAQH/AQEBAQEBAQH/AQEBAQEBAQEBAQEBAQEBAQEBAQEBAf//AQEBAQEBAQEBAQEBAf8BAQEBAQEBAQEBAf///wEBAQEBAQEBAQEBAQEBAQEB//8BAQEBAQEBAQEBAQEBAQH/AQEBAQEB/wEBAQEBAQEBAQEBAQEBAQEBAQEBAQEBAQEBAQEBAQEBAQEBAQEBAQEBAQEBAQEBAQEBAQEBAQEB/wEBAQEBAQEBAQEBAQEBAQEBAQEBAQEBAQEBAQEBAQEBAQEBAQEBAQEBAQEBAQEBAQEBAQEBAf8BAQEBAQEBAQEBAQEBAQEBAQEBAQEBAQEBAQEBAQEBAQH/Af8BAQEBAQEBAQEBAQEBAQEBAQEBAQEBAQEBAQEBAf8BAQH/Af8BAQEBAQEBAQEBAQEBAQEBAQEBAQEBAQEBAQEBAQEBAf8BAQEBAQEBAQEBAQH/AQEBAQEBAf//AQEB/wEB/wEBAf8BAQEBAQEBAQEBAQEBAQEBAQEBAQEBAQH/Af//AQEBAQEBAQEBAQEBAQH/AQEBAQEBAQEBAQEBAQEBAf8BAQEBAQEBAQEBAQEBAQEBAQEBAQEBAQEBAQEBAQEBAQEBAQH/AQEBAQEBAQEBAQH/AQEBAQEBAQEBAQEBAQEBAQEBAQEBAQEBAQH/AQEBAQEBAQEBAQH/AQEBAQEBAQEBAQEBAQEBAQEBAQEBAQEBAQEBAf//AQEBAQEBAQH/AQEBAQEBAQEBAQEBAQEBAQEBAQEBAf//AQEBAQEBAQEBAQEBAQEBAQEBAQEBAQEBAQEBAQEBAQEBAQEBAQEBAQEBAQEBAQEBAQEBAQEBAQEBAQEBAQEBAQEBAQEBAQEBAQEBAQEBAQEBAQEBAQEBAQEB//8BAQEBAQEBAQEBAQEBAQEBAQEBAQEBAQEBAQEBAQH//wEBAQEBAQEBAQEBAQEBAQEBAQEBAQEBAQEBAQEBAQEBAQEBAQEBAQEBAQEBAQEBAQEBAQEBAQEBAQEBAQEBAQEBAQEBAQEBAQEBAQEBAQEBAQEBAQEBAQEBAQH/AQEBAQEBAQEBAQ==",
            "dtype": "i1",
            "shape": "32, 32"
           }
          }
         ],
         "layout": {
          "title": {
           "text": "Ising Model at T = 2.10, Frame 70"
          }
         },
         "name": "70"
        },
        {
         "data": [
          {
           "type": "heatmap",
           "z": {
            "bdata": "AQEBAQEBAQEBAQEBAQEBAQEBAQEBAQEBAQEBAQEBAQEBAQEBAQEBAQEBAQEBAQEB/wEBAQEBAQEB/wEBAQEBAQEBAQEB/wEBAQEBAQEBAQEBAQEBAQEBAQEBAQEBAQEBAQEBAQEBAQEBAQEBAQEBAf8BAQEBAQEBAQEBAQEBAQEBAQEBAQH/AQEBAQEBAQEBAQEBAQEBAQEB/wEBAQEBAQEBAQEBAQEBAQEBAQEBAQEBAQEBAQEBAQEBAQEBAQEBAQEBAQEBAQH/AQEBAQEBAQEBAQEBAQEBAQEBAQEBAQEBAQEBAQEBAQEBAQEBAQEBAQEBAQEBAQEBAf8BAQEBAQEBAQEBAQEBAQEBAQH/AQEBAQEBAQEBAQEBAQEBAQH/AQEB/wEBAQEBAQEBAf8BAQH/AQEBAQEBAQEBAQEBAQEBAQH/AQEBAf8BAQEBAf8BAQEBAf////8BAQEBAQEBAQEBAf8BAQEBAQEBAQH//wEBAQEBAf////8BAQEBAQEBAQEBAf8BAQEBAQEBAQH/AQH///8BAQEB/wEBAQEBAQEBAQEBAQEBAQEBAQEBAQEB/wEBAQEBAQH//wEBAQEBAQEBAQEBAQEBAQEBAQEBAf//AQEBAQEBAQEBAQEBAQEBAQH/AQEBAQEBAQEBAQEBAQEBAQEBAQEBAQEBAQEBAQEBAQEB/wEBAQEBAQEBAQEBAQEBAQEBAQH/AQEBAQEBAQEBAf//AQEBAQEBAQEB/wEBAQEBAQEB/wH//wEBAQEBAQH///8BAQEBAQEBAQEBAQEBAQEBAQEBAQEBAQEBAQEBAQEBAQEBAQEBAQEBAQEBAf8BAQH//wEBAQH/AQEBAQEBAQEBAQEBAQEBAQEBAQEBAQEBAf///wEBAQEBAQEBAQEBAQEBAQEBAf8BAQEBAQEBAQEBAQEBAQEBAQEBAQH/AQEBAQEBAQEB/wEBAQEBAQEBAQEBAQEBAQEBAQEBAf8BAQEBAQEBAQEBAQEBAQEBAQEBAQEBAQEBAQEBAQEBAQEBAQEBAQEBAQEBAQEBAQEBAQEBAQEBAQEBAQEBAQEBAQEBAQEBAQEBAQEBAQEBAQEBAQEBAQEBAf8B/wEBAQEBAQEBAQEBAQEBAQEBAQEBAQEBAQEBAQEBAQEBAQEBAQEBAQEB/wEBAQEBAQEBAQEBAQEBAQEBAQEBAQEBAQEBAQEBAf///wEBAQEBAQEBAQEBAQEBAQEBAQEBAQEBAQEBAQEBAf8BAQEBAQEBAQEBAQEBAQEBAQEBAQEBAQEBAQEBAQEBAf8BAQEBAQEBAQEBAQEBAQEBAQEBAQEBAQEBAQEBAQEBAQEBAQEBAQEBAQEBAQEBAQEBAQEBAQEBAQ==",
            "dtype": "i1",
            "shape": "32, 32"
           }
          }
         ],
         "layout": {
          "title": {
           "text": "Ising Model at T = 2.10, Frame 71"
          }
         },
         "name": "71"
        },
        {
         "data": [
          {
           "type": "heatmap",
           "z": {
            "bdata": "AQEBAQEBAf8BAQEBAQEBAQEBAQEB/wEBAQEBAQEBAQEBAQEBAQEB/wEBAQEBAQEBAQEBAQH/AQEBAQEBAQH//wEBAQEBAf//AQEBAQEB/wEBAf8BAQEBAQEBAQEBAf8BAQEBAQEB//8BAQEBAQEB/wEB/wEBAQEBAQEBAQEB/wEBAQEBAQH///8BAQEBAQEBAQEBAQEBAQEBAQEBAQEBAQEB/wEBAQH//wEBAQEBAQEBAQH/AQEBAQEBAQEBAQEBAQH/AQEBAQEBAQH/AQEBAQEBAQEBAQEBAQEBAQEB/wEBAf8BAQEBAQEBAf8BAQEBAQEBAQEBAQEBAQEBAQEBAQEBAQEBAQEBAQEBAQEBAQEBAQEBAQEBAQEBAQEBAQEBAQEB////AQEBAQEBAQEBAQEBAQEBAQEBAQEBAQEBAQEBAQH///8BAQEBAQEBAQEBAQEBAQH/AQEBAQEBAQEBAQEB/wEBAQEBAQEBAQEB/wEBAQEBAQEBAQEBAQEBAQEBAQEBAQEBAQEBAQEBAQEBAQEBAQEBAQEBAQEBAQEBAQEBAf8BAQEBAQEBAQEBAQH/AQEBAQEBAQEBAQEBAQEBAQEBAQEBAQEBAQEBAQEBAQEBAQEBAQEBAQEBAQEBAQEBAQEBAf8BAQEBAQEBAQEBAQEBAQEBAQEBAQEBAQEBAQEBAQEBAQEBAQEBAQEBAQEBAQEBAQEBAQEBAQEBAQEBAQEBAQEBAQEBAQEBAQEBAQEBAQEBAQEBAQEBAQEBAQEBAQEBAQEBAQEBAQEBAQEBAQEBAQEBAQEBAQEBAQEBAQEBAQEBAQEBAQEBAQEBAQEBAf//AQEBAQEBAQEBAQEBAQEBAQEBAQEBAQEB/wEBAQEBAQH/AQEBAQEBAQEBAQEBAQEBAQEBAQEBAQEBAQEBAQEBAf8BAQEBAQEBAQEBAQEBAQEBAQEB/wEBAQEBAQEBAQEBAQEBAQH/AQH/AQEBAf8BAQEBAQEBAQEBAQEB/wEBAQEBAQEBAQEBAf8BAQEBAQEBAQEBAQEBAQEBAQEB/wEBAQEBAQEBAQH//wEBAQEBAQEBAQEBAQEBAQEBAQEBAQEBAQEBAQEBAQH/AQEBAQEBAQEBAQEBAQEBAQEBAQEBAQEBAQEBAQEBAQEBAQEBAQEBAQEBAQEBAQEBAQEBAQEBAQEBAQEBAQEBAQEBAQEB/wEBAQEBAQH///8BAQEBAQEBAQEBAQEBAQEBAQEB/wEBAQEBAQEBAQEBAQH//wEBAQEBAQEBAQEBAQEBAQEBAQEBAQEBAQEBAQEBAf//AQEBAQEBAQEBAQEB/wEBAQEBAQEBAQEBAQEBAQEB/wEBAQEBAQEBAQEBAQEBAQH/AQ==",
            "dtype": "i1",
            "shape": "32, 32"
           }
          }
         ],
         "layout": {
          "title": {
           "text": "Ising Model at T = 2.10, Frame 72"
          }
         },
         "name": "72"
        },
        {
         "data": [
          {
           "type": "heatmap",
           "z": {
            "bdata": "AQEBAQEBAQEBAQEBAQEBAQEBAQEBAQEBAQEBAQEBAQEBAQH/AQEBAQEBAQEBAf8BAQEBAQEBAQEBAQEBAQEBAQEBAQEBAQEB/wEBAQEB/wEBAQEBAQEBAQEBAQEBAQEB/wEBAQEBAQEBAQEBAQEBAf8BAQEBAQEBAQEBAQEBAf//Af8BAQEBAQEBAQEBAQEBAQEBAQEBAf//AQEBAQEB//8BAQEBAf8BAQEBAQEBAQEBAf//Af//AQEBAQEBAQEBAQEBAQEBAQEBAQEBAQEBAQH//wEBAQEBAQEBAQEBAQEBAQEBAf8BAQEBAQEBAQEBAQH//wEBAQEBAQEBAQEBAQEBAQEBAQEBAQEBAQEBAQEB/wEBAQEBAQEBAQEBAQEB//8BAQEBAQEBAQEBAQH/AQEBAQEBAf//AQEBAQEBAQEBAQEBAQEBAQEBAQEBAQEBAQEBAf8B//8BAQEBAQEBAQEBAQEBAQEBAQEBAQEB/wEBAQEBAQEB//8BAQEBAQEBAQEBAQEBAQEBAQEBAQH/AQEBAQEBAQH///8BAQEBAQEBAQEBAQEBAQEBAQEBAQEBAQEBAQEBAQH/AQEBAQEBAQEBAQEBAQEBAQEBAQEBAQEBAQEBAQEBAf8BAQEBAQEBAQEBAQEBAQEBAQEBAQEBAQEBAf8BAQEBAQEBAQEBAQEBAQEBAQEBAQEBAQEBAQEBAQEBAQEBAQEBAQEBAQEBAQEBAQEBAQEBAQEBAQEBAQEBAQEBAQEBAQEBAQEBAQEBAQEBAQEBAQEBAQEBAQEBAQH/AQEBAQEBAQEBAQEBAQEBAQEBAQEBAQEBAQEBAQEBAQEBAQEBAQEBAQEBAQEBAQEBAQEBAQEBAQEBAQEBAQEBAQEBAQEBAQEBAQEBAQEBAQEBAQEBAQEBAQEBAQH//wEBAQEBAQEBAQEBAQEBAQEBAQEBAQEBAQEBAQEBAQEBAQEBAQEBAQEBAQEBAQEBAQEBAQEBAQEBAQEBAQEBAQEBAQEBAQEBAQEBAQEBAQEBAQEB/wEBAQEB////AQEBAQEBAf8BAQEBAQEBAQEBAf8BAQH/AQEBAQEBAQEBAQEBAQEB/wEBAQEB/wEBAQEBAQEBAQEBAQEBAQEBAQEBAQEBAQEBAQEBAQEBAQEBAQEBAQEBAQEB/wEB/wEBAQEBAQEBAQEBAQH/AQEBAQEBAQEB/wEBAQEBAQH/AQEBAQEBAQEBAQEBAQEBAf//AQEBAQEBAQEBAQEB//8BAQEBAQEBAf8BAQEBAQEBAQEBAQH/AQEB/wEBAf///wEBAQEBAQEBAQEBAQEBAQEBAQEBAQEBAQEBAQEBAQEBAQEBAQEBAQEBAQEBAQEBAQEBAQEBAQ==",
            "dtype": "i1",
            "shape": "32, 32"
           }
          }
         ],
         "layout": {
          "title": {
           "text": "Ising Model at T = 2.10, Frame 73"
          }
         },
         "name": "73"
        },
        {
         "data": [
          {
           "type": "heatmap",
           "z": {
            "bdata": "AQEBAf//Af///wEBAQEBAQEBAQEBAQEBAQEBAQEBAQEBAQEBAf///wH/AQEBAQEBAQEBAQEBAQEBAQEBAQEBAf8BAQEB////////AQEBAQEBAQEBAQEBAQEBAQEBAQH//wEBAQEB/wH///8BAQEBAQEBAQEBAQEBAQEBAQEBAf///wEBAQEBAf////8BAQEBAQEBAQEBAQEBAQEBAQEBAQEBAQEBAQEBAf8BAQEBAQEBAQEBAQEBAQEBAQEBAQEBAQEBAQEBAQEBAQEBAQEBAQEBAQEBAQEBAQEBAQEBAQEBAQEB/wEBAQEBAQEBAQEBAQEBAQEBAQEBAQEBAQEBAQEBAQEBAQEBAf8BAQEBAQEBAQEBAQEBAQEBAQEBAQEBAQEBAQEBAf//AQEBAQH/AQEBAQH//wEBAQEBAQEBAQEBAQEBAQH///8BAQEBAQEBAQH/AQEBAQEBAQEBAQEBAQEBAQEBAQEBAQEBAQEBAQEBAf///wEBAQEBAQEBAQEBAQEBAQEBAf///wEBAQEBAQEBAQEBAQEBAQEBAQEBAQEBAQEBAQEB/wEBAQEBAQEBAQEBAQEBAQEBAQEBAQEBAQEBAQEBAQEBAQEBAQEBAQEBAQEBAf8BAQEBAQEBAQEBAQEBAQEBAQEBAQEBAQEBAQEBAQEBAQEBAQEBAQH/AQEBAQEBAQEBAQEBAQEBAQEBAQEBAQEBAQEBAQEBAQEBAQEBAQEBAQEBAQEBAQEBAQEBAQEBAQEBAQEBAQEBAQEBAQEBAQEBAQEBAQH//wEBAQEBAQEBAQEBAQEBAQEBAQEBAQEBAQEBAQEBAf//AQEBAQEBAQEBAQEBAf8B/wH/AQEBAQEBAQEBAQEB/wEBAQEBAQEBAQEBAQEBAQEBAQEBAQEBAQEBAQEBAQEBAQEBAf//AQEBAQEBAQEBAQEBAQEBAQEBAQEBAQEBAQEBAQEB/wEBAQH/AQEBAQEBAQEBAQEBAQEBAQEBAQH/AQEBAQEBAQEBAQEBAQEBAQEBAQEBAQEBAQEBAQEBAQEBAQEB/wEBAQEBAQEBAQEBAQEBAQEBAQEBAQH/AQEBAQEBAQEB/////wEBAQEBAQEBAQEBAQEBAQEBAf8BAQEBAQEBAQEBAf//AQH/AQEBAQEBAQEBAQH/AQEBAQEBAQEBAQEBAQEBAQEBAQEBAQEBAQEBAQEBAf8BAQEBAQEBAQEBAQEB/wEBAQEBAQEBAQEBAQEBAQEBAf8B////AQEBAQEBAQEBAQEBAQEBAQEB/wEBAQEBAQEB/wH//wH/AQEBAQEBAQEBAQEBAQEBAQH/AQEBAQEBAQEBAf//AQEBAQEBAQEBAQEBAQEBAQEBAQEBAQEBAQ==",
            "dtype": "i1",
            "shape": "32, 32"
           }
          }
         ],
         "layout": {
          "title": {
           "text": "Ising Model at T = 2.10, Frame 74"
          }
         },
         "name": "74"
        },
        {
         "data": [
          {
           "type": "heatmap",
           "z": {
            "bdata": "AQEBAQEBAQEBAQEBAQEBAQEBAQEBAQEBAQEBAQEBAQEBAQEBAQEBAQEBAQEBAQEBAf8BAQH/AQEB/wEBAQEBAQEBAQEBAQEBAQEBAQEB/wEBAQEBAf8BAf8BAQEBAQEBAQEBAQEBAQEBAQEBAQH/AQEB/wEBAQEBAQEBAQEBAQEBAQEBAQEBAQEBAQEBAQEBAQEBAQEBAQEBAQEBAQEBAQEBAQEBAQEBAQEBAQEBAQEBAQEBAQEBAQEB/wEB/wEBAQEBAQEBAQEBAQEBAQH/AQEBAf8BAQH/AQEBAQH//wEBAQEBAQEBAQEBAQEBAQH/AQEBAQEBAf8BAQEBAQEBAQEBAQEBAQH/AQEBAQH//wEBAQEBAQEB/wEBAQEBAQEBAQEBAQEBAQEBAQEBAQEBAQEBAf8BAQEBAQEBAQEBAQEBAQEBAQH/AQEBAQEBAQEBAQEBAQEBAQEBAf8BAQEBAQEBAQEBAQEBAQEB////AQEBAQEBAQEBAQH/AQEBAQEBAQEBAQEB/wEB/wEB//8BAQEBAQEBAQEBAQEBAQEBAQEBAQEBAf8BAf8BAQH/AQEB/wEBAQEBAQEBAQH/AQEBAQEBAQEBAQEBAQEBAf8BAQEBAQEBAQEBAQEBAQEBAQEBAQEBAQEBAQEBAQEBAQEB/wEBAQH/AQEBAQEBAQEBAQEBAQEBAQEBAQEBAQEBAQH/AQEBAQEBAQEBAQEBAf8BAQEBAQEBAQEBAQH/AQEBAQH/AQEBAQEBAQEBAQEBAQEBAQH//wEBAQEBAQEBAQEBAQEBAQEBAQEBAQEBAQEBAQEBAQEBAQEBAQEBAQEB//8BAQEBAQEB/wEBAQEBAQEBAQEBAQEBAQEBAQEBAQH/AQEBAQEBAQEBAQEBAQEBAQEBAQEBAQEBAQEBAQEBAQEBAQEBAQEBAf8BAQEBAQH/AQEBAQEBAQEBAQEBAQEBAQEBAQEBAQEBAQEBAQEB/wEBAQEBAQEBAQEBAQEBAQEBAQEBAQEBAQEBAQEBAQEBAQEBAQEBAQEBAQEBAQEBAQEBAQEBAQEBAQEBAQEBAQEBAQEBAQEBAQEBAQEBAQEBAQEBAQEBAQEBAQEBAQEBAQEBAQEBAQEBAQEBAQEBAQEBAQEBAf////8BAQEBAQEBAQEBAQEBAQEBAQEBAQEBAQEBAQEB//8B/wEBAQEBAQEBAQEBAQEBAf//AQEBAQEBAQEBAQH/AQH/AQEBAQEBAQEBAQEBAQEBAQEBAQEBAQEBAQEBAf//Af8B//8BAQEBAQEBAQEBAQEBAQEB/wEBAQEBAQH//wEB/wEBAQEBAQEBAQEBAQEBAQEBAQEBAQEBAQEBAQEBAQEBAQEBAQEBAQEBAQ==",
            "dtype": "i1",
            "shape": "32, 32"
           }
          }
         ],
         "layout": {
          "title": {
           "text": "Ising Model at T = 2.10, Frame 75"
          }
         },
         "name": "75"
        },
        {
         "data": [
          {
           "type": "heatmap",
           "z": {
            "bdata": "AQEBAQEBAQEBAQEBAQEBAQEBAQEBAQEBAQEBAQEBAQEBAQEBAQEBAQEBAQEBAQEBAQEBAQEBAQEBAQEBAQEBAQEBAQEBAQEBAQEBAQEBAQEBAQEBAQEBAQEBAQEBAQEBAQEBAQEBAQEBAQEBAQEBAQEBAQEBAQEBAQEBAQEBAQEBAQEBAQEBAQEBAQEBAQEBAQEBAQEBAQEBAQEBAQEBAQEBAQEBAQEBAQEBAQEBAQEBAQEBAQEBAQEBAQEBAQEBAQEBAQEBAQEBAQEBAQEBAQEBAQEB/wEBAQEBAQEBAQEBAQEBAQEBAQEBAQEBAQEBAQEBAQEBAQEB/wH//wEBAQEBAQEBAQEBAQEBAf//AQEBAQEBAQEBAf//Af8BAQEBAQEBAQEBAQEBAQEBAQEBAQEBAQEBAQEB//8BAQEBAQEBAQEBAf8B/wEBAQEBAQEBAQEBAQEBAQH///8BAQEBAQEBAQEBAQH/AQEBAQEBAQEBAQEBAQEBAQEBAQEBAQEBAQEBAQEBAQEBAQEBAQEBAQEBAQEBAQEBAQEBAQEBAQEBAQEBAQEBAQEBAQEBAQEBAQEBAQEBAQEBAQEBAQEBAQEBAQH/AQEBAQEBAQEBAQEBAQEBAQEBAQEBAQEBAQEBAQEBAQEBAQEBAQEBAQEBAQEBAQEBAQEBAQEBAQEBAQEBAQEBAQEBAQEBAQEBAQEBAQEBAQEBAQEBAQEBAQEBAQEBAQEBAQEBAQEBAQEBAQEBAQH/AQEBAQEBAQEBAQEBAQEBAQEBAQH/AQEBAQH/AQEBAQEBAQEBAQEBAQEBAQEBAQEBAQEBAQEB/wEBAQEBAQEBAQEBAQEBAQEBAQEBAQEBAQH/AQEBAQEBAQEBAQEBAQEBAQEB/wEBAQEBAQEB/wEBAQEBAQEBAQEBAQEBAQEBAf////8BAQEBAQEBAQEBAQEBAQEBAQEBAQEBAQEBAQH//wEB/wEBAf8BAQEBAQEBAQEBAf8BAQH/Af8BAQEBAQEBAQEBAQEB/wEBAQEBAQEBAQEBAQEBAQEBAQEBAQEBAQEBAQH/AQEBAQEBAQEBAQEBAQEBAQEBAQEBAQEBAQEBAQEBAQEBAQEBAQEBAQEBAQEB/wEBAQEBAQH/AQEBAQEBAQEBAQEBAQEBAQEBAQEBAQEBAQEBAQEBAQEB/wEBAQEBAQEB/wEBAQEBAQEBAQEBAQEBAQEBAQEBAQEBAQEBAQEBAQEBAQEBAQEBAf8BAf8BAQEBAQEBAQEBAQEBAQEBAQEBAQEBAQEBAQEBAQEB/wEBAQEBAQEBAQEBAQEBAf8BAQEBAQEBAQEBAQEBAQH/AQEBAQEBAQEBAQEBAQEBAQEBAQEBAQEBAQEBAQ==",
            "dtype": "i1",
            "shape": "32, 32"
           }
          }
         ],
         "layout": {
          "title": {
           "text": "Ising Model at T = 2.10, Frame 76"
          }
         },
         "name": "76"
        },
        {
         "data": [
          {
           "type": "heatmap",
           "z": {
            "bdata": "AQEBAf///wEBAQEBAQEBAQEBAQEBAQEBAQEBAQEBAQEBAQEBAf8BAQEBAQEBAQEBAQEBAQEBAQEBAQEBAQEBAQH/AQEBAQEBAQEBAQEBAQEBAQEBAQEBAQEBAQEBAQEBAQEBAQEBAQH/AQEBAQEBAQEBAQEBAQEBAQEBAQEBAQEBAQEBAQEBAQEBAQEBAQH///8BAQEBAQEBAf//AQEBAQEBAQEBAQEBAQEBAQEBAf///wEBAQEBAQEBAQEBAQEBAQEBAQEBAQEBAQEBAQEBAQEBAf8BAQEBAQEBAQEBAQEBAQEBAQEBAQEBAQEBAQEBAQH/AQEBAQEBAQEBAQEBAQEBAQEBAQEBAQEBAQEBAQEB//8BAQEBAQEBAQEBAQEBAQEBAQEBAQEBAQEBAQEBAQH/AQEBAQEBAQEBAQEBAQEBAQEBAQEBAQEBAQEBAQEBAQEBAQEBAQEBAQEBAQEBAQEBAQEBAQEBAQEBAQEBAQEBAQEBAQEBAQEBAQEBAQEBAQEBAQEBAQH/AQEBAQEBAQEBAQEBAf8BAQEBAQEBAQEBAQEBAQEB//8BAQEBAQEBAQEBAQEB/wEB/wEBAQEBAQEBAQEBAQH/AQEBAQEBAQEBAQEBAQEBAQEBAQEBAQEBAQEBAQEB////AQEBAQEBAQEBAQEB/wEBAQEBAQEBAQEBAQEBAf//////AQEB/wEBAQEBAQEBAQEBAQEBAQEBAQEBAQEBAQH/AQEBAQH//wEBAQEBAQH/AQEBAQEBAQEBAQEBAQEBAf//AQEB//8BAQEBAQEBAQEBAQEBAQEBAQEBAQEBAQEB////AQH//wEBAQH/AQEBAQEBAQEBAQEBAQH//wEBAQH///8BAf//AQEBAQEBAQEBAQEBAQEBAQEBAQEBAQEBAQEBAQEB//8BAQEBAQEBAQEB/wEBAQEBAQEBAQH/AQEBAQEB/wEBAQEBAQEBAQEBAQH/AQEBAQEBAQEBAQEBAQEBAQH/AQEBAQEBAQEBAQEBAQEBAQEB/wEBAQEBAQEBAQEBAf8BAQEBAQEBAQEBAf//AQEBAQEBAQEBAQEBAQEBAQEBAQH/AQEBAQEBAQEB////AQEBAQEBAQEBAf8BAQEBAQEBAQEBAQEBAQEBAQH///8BAQEBAQEBAQEB/wEBAQH/AQEBAQEBAQEBAQEBAQH/AQEBAQEBAQEBAQEBAQEBAQEBAQEBAQEBAQEBAQEBAQEBAQEBAQEBAQEBAQEBAQEBAQEBAQEBAQEBAQEBAQEBAQEBAQEBAQEBAf8B//8BAQEBAQEBAQEBAQEBAQEBAQEBAQEBAQEBAQEBAQH///8BAQEBAQEBAQEBAQEBAQEBAQEBAQEBAf8BAQ==",
            "dtype": "i1",
            "shape": "32, 32"
           }
          }
         ],
         "layout": {
          "title": {
           "text": "Ising Model at T = 2.10, Frame 77"
          }
         },
         "name": "77"
        },
        {
         "data": [
          {
           "type": "heatmap",
           "z": {
            "bdata": "AQEBAQEBAQEBAQEBAQEBAf//AQEBAQEBAQEBAQEBAQEBAQEBAQEBAQEBAQEBAQEBAQEBAQEBAQEBAQEB/wEBAQEBAQEBAQEBAQEBAQH/AQEBAQEBAQEBAQEBAQEBAQEBAQEBAQEBAQEBAQH/AQEBAQEBAQEBAQH/AQEBAQEBAQEBAQEBAQEBAQEBAQEBAQEBAQEBAQEBAQEBAQEBAQEBAQEBAQEBAQEBAQEBAQEBAQEBAQEBAQEBAQEBAQEBAQEBAQEBAQEBAQEB/wEBAQEBAQEBAQEBAQEBAQEBAQEBAQEBAQEBAQEBAQEBAQEBAf///wH//wEBAQEBAQEBAQEBAQEBAQEBAQEBAQEBAQEBAf//AQH//wEBAQEBAQEBAQEBAQEBAQEBAQEBAQEBAQEBAQEBAQEBAQEBAQEBAQEBAQEBAQEBAQEBAQEBAQH/AQEBAQEBAQEBAQEBAQEBAQEBAQEBAf8BAQH/AQEBAQEBAQEBAQEBAQEBAQEBAQEBAQEBAQEBAQEBAQEBAQEBAQEBAQEBAQEBAQEBAQEBAQEBAQEBAQEBAQEBAQEBAQEBAQEBAQEBAQEBAQEBAQEBAQEBAQEBAQEBAQEBAQEBAQEBAQEBAQH/AQEBAQEBAQEBAQEBAQEBAQEBAQEBAQEBAQEBAQEBAQEBAQEBAQEBAQEBAQEBAQEBAQEBAQEBAf8BAQEBAQEBAQEBAQEBAQEBAQEBAQEBAQEBAQEBAQEBAQEBAQEBAQEBAQEBAQEBAQEBAQEBAQEBAQEBAQEBAQEBAQEBAQEBAQEBAQEBAQEBAQEBAQEBAQEBAQEBAQEBAQEBAQEBAQEBAQH///8BAQEBAQEBAQEBAQEBAQEBAQEBAQEBAQEBAQEBAQEBAQEBAQEBAQEBAQEBAQEBAQEBAQEBAQEBAQEBAQEBAQEBAQEBAQEBAQEBAQH//wEBAQEBAQEBAQEBAQEBAQEBAQEBAQEBAQEBAQEBAf//AQEBAQEBAQEBAQEB/wEBAQEB/wEBAQEBAQEBAQEBAQEBAQEB/wEBAQEBAQEBAQEBAQEBAQEBAQEBAQEBAQEBAQEBAQEBAQEBAQEBAQEBAQH//wEBAQEBAQEBAQEBAQH/AQEBAQEBAQEBAQEBAQEBAQH/AQEBAQEBAQEBAQEBAQEBAQEBAQEBAQEBAQEBAQEBAQEBAQEBAQEBAQEBAQEBAQEBAQEBAQEBAQEBAQEBAQEBAQEBAQEB/wEBAQEBAQEBAQEBAQEBAf8BAQEBAQEB//8B/wEBAQEBAQEBAQEBAQEBAQEBAQEBAQEBAQEBAQEBAQEBAQEBAQEBAQEBAQEBAQEBAQEBAQEBAQEBAQEBAQEBAQEBAQEBAQEBAQ==",
            "dtype": "i1",
            "shape": "32, 32"
           }
          }
         ],
         "layout": {
          "title": {
           "text": "Ising Model at T = 2.10, Frame 78"
          }
         },
         "name": "78"
        },
        {
         "data": [
          {
           "type": "heatmap",
           "z": {
            "bdata": "AQEBAQEBAQEBAQEBAQEBAQEBAQH//wEBAQEBAQEBAQEBAQEBAQEBAQEBAQEBAQEBAQEBAf//AQH//wEBAQEBAQEBAQEBAQEBAQEBAQEBAQEBAQH//wEB//8BAQEBAQEBAQEBAf8BAQEBAQEBAQEBAQEBAf//AQEBAQEBAQEBAQEBAQEBAQEBAQEBAQEBAQEBAQEB/wEBAQEB/wEBAQEBAQEBAQEBAQEBAQEBAQEBAQH/AQEB/wEB/wEBAQEBAQEBAQEBAQEBAQH/AQEBAQEBAQEBAQH//wEBAQEBAQEBAQEBAQEBAQEBAQEBAQEBAQEBAQEBAQEBAQEBAQEBAQEBAQEBAQEBAQEBAQEB/wEBAQEBAQEBAQEBAQEBAQEBAQEBAQEBAQEBAQEBAQH//wEBAQH//wEBAQH/AQEBAQEBAQEBAQEBAQEBAQEBAf///wEBAQEBAQEBAf8B//8BAQEBAQEBAQEBAQEBAQEB//////8BAQEBAQEB/wEBAQEBAQEBAQEBAQEBAQEBAQEBAQEBAQEBAQEBAQEBAf8BAQEBAQEBAQH/AQEBAQEBAQEBAQEBAQEBAQEBAQEBAQEBAQEBAQEB//8BAQEBAQEBAQEBAQEBAQEBAQEBAQEBAQEBAQEBAQH//wEBAQEBAQEBAQEBAQEBAQEBAQEBAQEBAQEBAQEBAQEBAQH/AQEBAQEBAQEBAQEBAQEBAf8BAQEB//8BAQEBAQEBAQEBAQEBAQEBAQEBAQEBAQEBAf//AQH/AQEBAQEBAQEBAQEBAQEBAQEBAQEBAQEBAQEBAQEBAQEBAQEBAQEBAQEBAQEBAQEBAQEBAQEBAQEBAf8BAQEBAQEBAQEBAQEBAQEBAQEBAQEBAQEBAQEBAQEBAQEBAQEBAQEBAQEBAQEBAQEBAQEBAQEBAQEBAQEBAQEBAQEBAQEBAQH/AQEBAQEBAQH/AQEBAQEBAQEBAQEBAQEBAQEBAQEBAQEBAQEBAf8BAQEBAQEBAQEBAQEBAQEBAQEBAQEBAQEBAQEBAQEBAQEBAQEBAQEBAQH/AQEBAQEBAQEBAQEBAQEBAQEBAQEBAQEBAQEBAQEBAf//AQEBAQEBAQEBAQEBAQEBAQEBAQEBAQEBAQEBAQEB//8BAQEBAQEBAQEBAQEBAf8BAQEBAQEBAf8BAQH/Af///wEBAQEBAQEBAQEBAQEBAQEBAQEBAQEBAQEBAQEBAQH/AQEBAQEBAQEBAQEBAf8BAQEBAQEBAQEBAQEBAQEBAQEBAf8BAQEBAQEBAQEBAQEBAQEBAQEBAQEBAQEBAQEBAQEBAQEBAQEBAQEBAQEBAQEB/wEB/wEBAQEBAQEBAQEBAQEBAQEBAQEBAQEBAQ==",
            "dtype": "i1",
            "shape": "32, 32"
           }
          }
         ],
         "layout": {
          "title": {
           "text": "Ising Model at T = 2.10, Frame 79"
          }
         },
         "name": "79"
        },
        {
         "data": [
          {
           "type": "heatmap",
           "z": {
            "bdata": "AQEBAQEBAQEBAQEBAQEBAQEBAQEBAQEBAQEBAQEBAQEBAQH/AQEBAQEBAQEBAQEBAQEBAQEBAQEBAQEBAQEBAQEBAQEBAQEBAQEBAQEB/wEBAQEBAQEBAQEBAQEB////AQEBAQEBAQEBAQEBAQEBAQEBAQEBAQEBAQEBAQH///8BAQEBAQEBAQEBAQEBAf8BAQEBAQEBAQEBAf8BAQEB/wEBAQEBAQEBAQEBAQH/AQEBAQEBAQEBAQEBAQEBAQEBAQEBAQEBAQEBAQEBAf8BAQEB/wEBAQEBAQEBAQEB/wEB/wEBAQEBAQEBAQEBAQEBAQEBAQEBAQEBAQEBAQEBAf///wEBAQEBAQEBAQEBAQEBAQEBAQEBAQEBAQEBAQEBAQEBAQH/AQEBAQEBAQEBAQEBAQEBAQEBAQEBAQEBAQEBAQEBAQEBAQEBAQEBAQEBAQEBAQEBAQEBAQEBAQEBAQEBAQEBAQEBAQEBAQEBAQEBAQEBAQEB/wEBAQEBAQEBAQEBAQEBAf8BAQEB/wEBAQEBAQEBAQEBAQEBAQEB/wH//wEBAQEBAQEBAQEBAQEBAQEBAQEBAQEBAQEBAQEB//8BAQEBAQEBAQEBAQH/AQEBAQEBAQEBAQEBAQEBAQEBAQH/AQEBAQEBAQEBAQEBAQEBAQEBAQEBAQEBAQEBAQEBAQEBAQEBAQEBAQEBAQEBAQEBAQEBAQEB/wEBAQEBAQEBAQEBAQH/AQH/AQEBAQEBAQEBAf8BAQEBAQEBAQEBAQEBAQEBAQEBAQEBAQEBAQEBAQEBAQEBAQEBAQEBAQEBAQEBAQEBAQEBAQEBAQEBAQEBAQEBAQEBAQEBAQEBAQEBAQEBAQH/AQEBAQEBAQEBAQEBAQH/AQEBAQEBAQEBAQEBAQEBAQEBAQEBAQEBAQEBAQEBAQEBAQEBAQEBAQEBAQEBAQEBAQEBAQEBAQEBAQEB/wEBAQEBAQEBAQEBAQEBAQEBAQEBAQEBAQEBAQEBAQEBAQEBAQEBAf8BAQEBAQEBAQEBAf8BAQEBAQEBAQEBAQEBAQEBAQEBAQEBAQEBAQEBAQEBAQEBAQEBAQEBAQEBAQEBAQEBAQEBAQEBAQEBAQEBAQEBAQEBAQEBAQEB/wEBAQEBAQEBAQEBAQEBAQEBAQEBAQEBAQEBAQEB/wEBAf8BAQEBAQEBAQEBAQEBAQEBAf8BAQEBAQEBAf//AQEB/wEB/wEBAQEBAQEBAQEBAQEBAQEBAQEBAQEBAQEBAQEBAQEBAQEBAQEBAQEBAQH/AQEBAQEBAQEBAQEBAQEBAQEBAQEBAQEBAQEBAQEBAQEBAQH//////wEBAQEBAQEBAQEBAQEBAQEBAQEBAQ==",
            "dtype": "i1",
            "shape": "32, 32"
           }
          }
         ],
         "layout": {
          "title": {
           "text": "Ising Model at T = 2.10, Frame 80"
          }
         },
         "name": "80"
        },
        {
         "data": [
          {
           "type": "heatmap",
           "z": {
            "bdata": "AQEBAQEBAQEBAQEBAQEBAQEBAQEBAQEBAQEBAQEBAQEBAQEBAQEBAQEBAQEBAQEBAQEBAQEBAf///wEBAQEBAQEBAQEBAQEBAQEBAQEBAQEBAQH/AQEBAf8BAQEBAQEBAQEBAQEBAQEBAQEBAQEBAQEBAQEBAQEBAQEBAQEBAQEB/wEBAQEBAQEBAQEBAQEBAQEBAQEBAQEBAQEBAQEBAQEBAQEBAQEB/wEBAQEBAQEBAQEBAQEBAQEBAQEBAQEBAQEBAQEBAQEBAQEBAQEBAQEBAQEBAQEB//8BAQEBAQEBAQEBAQEBAQEBAQEBAQEBAQEBAQH/AQEBAQEBAQEBAQEBAQEBAQEBAQEBAQEBAQEBAQEBAQEBAQEBAQEBAQEBAQH/AQEBAQEBAQEBAQEBAQEBAQEBAQH/AQEBAQEBAQEBAf//Af8BAQEBAQEBAQEBAQEBAQEBAQEBAQEBAQEBAQH/AQH//wEBAQEBAQEBAQEBAQEBAQEBAQEBAQEBAQEBAQEBAQEBAQEB/wEBAQEBAQEBAQEBAQEBAQEBAQEBAQEBAQEBAQEBAQH//wH//wEBAQEBAQEBAQEBAQEBAQEBAQEBAQEBAQEBAf8BAQEBAQEBAQEBAQEBAQEBAQEBAQEBAQEBAQEBAQEBAQEBAQEBAQEBAQEBAf8BAQEBAQEBAQEBAQEBAQEBAQEBAQEBAQEBAQEBAQEBAQH/AQEBAQEBAQEBAQEBAQEBAQH//wEBAQEBAQEBAQEBAQEBAQEBAQEBAQEBAQH//wEBAf///wEBAQEBAQEBAQEBAQEBAQEBAQEBAQEBAQEBAQEBAQEBAQEB////AQEBAQEBAQEBAQEBAQEBAQEBAf8BAQEBAQEBAQH//////wEBAQEBAQEBAQEBAQEBAQEB//8BAQEBAQEBAQH/////AQEBAQEBAQH/AQH//wEBAQH/AQEBAQEBAQEBAQH/AQEBAQH/AQEBAQEBAQEBAQH//wEBAQEBAQEBAQEBAQEBAQEBAQEBAQEBAQEBAQEBAQEBAQEBAQEBAf//AQEBAQH//wEBAQEBAQEBAQEBAQEBAQEBAQEBAQEB/wEBAQEB////AQEBAQEBAQEBAQEBAQEBAQEBAQEBAQEBAQEBAQH//wEBAQH//wEBAQEB/wEBAQEBAQEBAQEBAQEBAQH/AQEBAQEB//8BAf8BAf8BAQEBAQEBAQEBAQEBAQEBAQEBAQEBAQH//wEBAQEBAQEBAQEBAQEBAQEBAQEBAQEBAQEBAQEBAQH/AQEBAQEBAQEBAQEBAQEBAQEBAQEBAQEBAQEBAQEBAf8BAQEBAQEBAQEBAQEBAQEBAQEBAQEBAQEBAQEBAQEBAQEBAQEBAQ==",
            "dtype": "i1",
            "shape": "32, 32"
           }
          }
         ],
         "layout": {
          "title": {
           "text": "Ising Model at T = 2.10, Frame 81"
          }
         },
         "name": "81"
        },
        {
         "data": [
          {
           "type": "heatmap",
           "z": {
            "bdata": "AQEBAQEBAQEBAQEBAQEBAQEB//8BAQEBAQEBAQEBAQEBAQEBAQEBAf8BAQEBAQEBAQH//wEBAQEBAQEBAQEBAQEBAQEBAQEBAQEBAQEBAQEBAf//AQEBAQEBAQEBAQEBAQEBAQEBAQEBAQEBAQEBAQEB//8BAQEBAQEBAQEB/wEBAQEBAQEBAQEBAQEBAQEBAQH/AQEBAQEBAQEBAQEBAQEBAQEB/wEBAQEBAQEBAQEBAQH/AQEBAQEBAQEBAQEBAQEBAQEBAQEBAQH/AQEBAQEBAQEBAQEBAf8BAQEBAQEBAQEBAQEBAQEBAQEBAQEBAQEBAQEBAQEBAQEBAf8BAQEBAQEBAQEBAQEBAQEBAQEBAQEBAQEBAQH/AQEBAf8BAQEBAQEBAQEBAQEBAQEBAQEBAQEBAf8B/wEBAQEBAQEBAQEBAQEBAQEBAQEBAQEBAQEBAQEBAQEBAQEBAQEBAQEBAQEBAQEBAQEBAQEBAQEBAQEBAQEBAQEBAQEBAQEBAQEBAQEBAQEBAQEBAQEBAQEBAQEBAQEBAQEBAQEBAQEBAQEBAQEBAQEBAQEBAQEBAQEBAQEBAQEBAQEBAQEBAQEBAQEBAQEBAQEBAQEB/wEBAQEBAQEBAQEBAQEBAQEBAQEBAQEBAQEBAQEBAQH/AQEBAQEBAQEBAQEBAQEBAQEBAQEBAQEBAQEBAQEBAQEBAQEB/wEB//8BAQEBAQEBAQEBAQEBAQEBAQEBAQEBAQEBAQEBAQEBAQEBAQEB/wEBAQEBAQH/AQEBAQH/AQEBAQEB/wEBAQEBAQEBAQEBAQEBAQEBAQH//wEBAf//AQEBAQEBAQEBAQEBAQEBAQEBAQEBAQEB////AQEBAQEBAQEBAQEBAQEBAQEBAf//////AQEBAQH//wEBAQEBAQEBAQEBAQEBAQEBAQEBAf//AQEBAQEBAQEBAQEBAQEBAQEBAQEBAQEBAQEB/wEBAf8BAQEBAQEBAQEBAQEBAQEBAQEBAQEBAf8BAQEBAQEBAQEBAQEBAQEBAQEBAQEB////Af8BAQEBAQEBAQEBAQEBAf8BAQEBAQEBAQEBAQEBAQEBAQH/AQEBAQEBAQEBAf8BAf8BAQEBAQEBAQEBAQEBAQEBAQEBAQEBAQH/AQEBAQEB/wEBAQEBAQEBAQEBAQEBAQEBAQEBAQEBAQEBAQEBAQH/Af8BAQEBAQEBAQEBAQEBAQEBAQEBAQEBAQEBAQEBAQEBAQH/AQEBAQEBAQEBAQEBAQEBAQEBAQEBAQEBAQEBAf////8BAQEBAQEBAQEBAf8B//8BAQEBAQEBAQEBAQEB////AQEBAQEBAQEBAQEBAQEBAQEBAQEBAQEBAQEBAQ==",
            "dtype": "i1",
            "shape": "32, 32"
           }
          }
         ],
         "layout": {
          "title": {
           "text": "Ising Model at T = 2.10, Frame 82"
          }
         },
         "name": "82"
        },
        {
         "data": [
          {
           "type": "heatmap",
           "z": {
            "bdata": "AQEBAQEBAQEBAQEBAQEBAQEBAQEBAQEBAQEBAQEBAQEBAQEBAQEBAQEBAQEBAQEBAQEBAQEBAQEBAQEBAQEBAQEBAQEBAQH/AQEB/wEBAQEBAQEBAQEBAQEBAQEBAQEBAQEBAQEBAQEBAQH/AQEBAQEBAQEBAQEBAQEBAQEBAQEBAQEBAQEBAQEBAQEBAf8BAQEBAQEBAQEBAQEBAQEBAQEBAQH//wEBAQEBAQEBAQEBAQEBAQEBAQEBAQEBAQEBAQEBAf//AQEBAQEBAQEBAQEBAQEBAQEBAf//AQEBAQEBAf8B/////wEBAf8BAQEBAQEBAQEBAQEBAQEBAQEBAQEBAQH//wEBAQEBAQEBAQEBAQEBAQEBAQEBAQH//wEBAQEBAf8BAQEBAQEBAQEBAQEBAQEBAQEBAQEBAQEBAQEBAQEBAQEBAQEBAQEBAQEBAQEB//8BAQEBAQEBAQEBAQEBAQEBAQEBAQEBAQEBAQEBAQH///8BAQEBAQEBAQEBAQEBAQEBAQEBAQEBAQEBAQEBAQEBAQEBAQEBAQEBAQEBAf8BAQEBAQEBAQEBAQEBAQEBAQEBAQEBAQEBAQH/AQEB/wEBAQH/AQEBAQH/AQEBAQEBAQEBAQEBAQEBAQEBAQEBAQEBAQEBAQEBAQEBAQEB/wEBAQEBAQEBAQEBAQEBAQEBAQEBAf8BAf8BAQEBAQEBAQEBAQEBAQEBAQEBAQEBAQEBAQEBAQEB/wEBAQEBAQEBAQEBAQEBAQEBAQEBAQEBAQEBAf8BAQEBAQEBAQEBAQEBAQEBAQEBAQEBAQEBAQEBAQH/AQEBAQEBAQEBAQEBAQEBAQEBAQEBAQEBAQEBAQEBAQEBAQEBAQEBAQEBAQEBAQEBAQEBAQEBAQEBAQEBAQEBAQEBAQEBAQH/AQEBAQEBAQEBAQEBAQEBAQEBAQEBAQEBAQEBAQEBAQEBAQEBAQEBAQEBAQEBAQEBAQEBAQEBAQEBAQEBAQEBAQEBAQEBAQEBAQEBAQEBAQEBAQEBAQEBAQEBAQEBAQEB/wEBAQEB////AQEBAQH/AQEBAQEBAQEBAQEBAf8BAQEBAQEBAQH///8BAQEBAf8BAQEBAQEBAQEBAQEB/wEBAQEBAQEBAf///wEBAQEBAQEBAQEBAf8BAQEBAQH/AQEBAQEB/wEBAQEBAQEBAQEBAQH/AQEBAQEBAQEBAQEBAf8B/wH/AQEBAQH/AQEBAQEBAQEBAQEBAQEBAQEBAQEBAQH//////wEBAQEBAQEBAQEBAQEBAQEBAQEBAQEBAQEBAQH///8BAQEBAQEBAQEBAQEBAQEBAQEBAQEBAQH/AQEBAQEBAQEBAQEBAQEBAQEBAQ==",
            "dtype": "i1",
            "shape": "32, 32"
           }
          }
         ],
         "layout": {
          "title": {
           "text": "Ising Model at T = 2.10, Frame 83"
          }
         },
         "name": "83"
        },
        {
         "data": [
          {
           "type": "heatmap",
           "z": {
            "bdata": "AQEBAQEBAQEBAQH/AQEBAQEBAQEBAQEBAf8BAQEBAQEBAQEB/wEBAQEBAQEBAQEBAQEBAQEBAQH//wEBAQH/AQEBAQEBAQEBAQEBAQEBAQEBAQEBAQEB/wEBAQEBAQEBAQEBAQEBAQEBAQEBAQEBAQEBAQEBAQEBAQEBAf8BAQEBAQEBAQEBAQEBAQEBAQEBAQEBAQEBAQEBAQH/AQEBAQEBAQEBAQEBAQEBAQEBAf8BAQEBAQEBAQEBAQEBAQEBAQEBAQEBAf//AQEBAQEBAf8BAQEBAQEBAQEBAQEBAQEBAQEBAQEB/wEBAQEBAQEBAQEBAQEBAQEBAQEB/wEBAQEBAQEBAQEBAQEBAQEBAQH/AQEBAQEBAQEBAQEBAQEBAQEBAQEBAQEBAQEBAf8BAQEBAQEBAQEBAQEBAQEBAQEBAQEBAQEBAQEBAQEBAQEBAf//AQEBAQEBAQEBAQEBAQEBAQEBAQEBAQEBAQEBAQEBAQEBAQEBAQEBAQEBAQEBAQH///8BAQEB/wEBAQEBAQEBAQEBAQEBAQEBAQEBAQEBAf//////AQEBAQEBAQEBAQEBAQEBAQEBAQEBAQEBAQEBAf//AQEBAQEBAQEBAQEBAQH/AQEBAQEBAQEBAQEBAQEB/wEBAQEBAQH//wEBAQEBAQEBAQEBAQEBAQEBAQEBAQEBAQEBAQEBAQEBAQEBAf//AQEBAQEBAQEBAQEBAQEBAQEBAf8BAf8BAQEBAQEBAQEBAQEBAQEBAQEBAQEBAQEBAQEBAQEBAQEBAQEBAQEBAQEBAQEBAQEBAQEBAQEBAQEBAQEBAQH/AQEBAQEBAQEBAQEBAQEBAQEBAQEBAQEBAQEBAQEBAQEBAQEBAQEBAQEBAQEBAQEBAQEBAQEBAQEBAQEBAQEBAQEBAQEBAQEBAQEBAQEBAQEBAQEBAQEBAQEBAQEBAQEBAQEBAQEBAQEBAQEBAQEBAQEBAQEBAQEBAQEBAQEBAQEBAQEBAQH/AQEBAf8BAQEBAQEBAQEBAQEBAQEBAQEBAQEBAQH/AQEBAQEBAQEBAQEBAQEBAQEBAQEBAQEBAQEBAQEBAQEBAQEBAQEBAQEBAQH//wEBAQEBAQEBAQEBAQEBAQEBAQEBAf//AQEBAQEBAQEBAQEBAQEBAQEBAQEBAQEBAQEBAQEBAQEBAQEBAQEBAQEBAQEBAQEBAQEBAQEBAQEBAQEBAf8BAQEBAQEBAQEBAf//AQEBAQEBAf//AQEBAQEBAQEB//8BAQEB//8BAQEB//8BAQEBAQEBAQH//wEBAQEBAQH/AQEBAQEBAQEBAQEB/wEBAQEBAQEBAQEBAf8BAQEBAQEBAQEBAQEBAQEBAQEBAQ==",
            "dtype": "i1",
            "shape": "32, 32"
           }
          }
         ],
         "layout": {
          "title": {
           "text": "Ising Model at T = 2.10, Frame 84"
          }
         },
         "name": "84"
        },
        {
         "data": [
          {
           "type": "heatmap",
           "z": {
            "bdata": "AQEBAQEBAQEBAQEBAQEBAQEBAQEBAQEBAQEBAQEBAQEB/wEBAQEBAQEBAQEBAQEBAQEBAQEBAQEBAQEBAQEBAQEBAQEBAQEBAQEBAQEBAQEBAQEBAQEBAQEBAQEBAQEBAQEBAQEBAQEBAQEBAQEBAQEBAQEBAQEBAQEBAQEBAQEBAQEBAQEBAQEBAQEBAQEBAQEBAQEBAQEBAf//AQH/AQEBAQEBAQEBAQEBAQEBAQEBAQEBAf8BAQEB//8BAQEBAQEBAQEBAQEBAQEBAQEBAQEBAQEBAQEBAQEBAQEBAQH/AQEBAQEBAQEBAQEBAQEB/wEBAQEBAQEBAQEBAQEBAQEBAQEBAQEBAQEBAQEBAQEBAQEBAQEBAQEBAQEBAQEBAQEBAQEBAQEBAQEBAQEBAQEBAQEBAQEBAQEBAQEBAQEBAQEBAQEBAQEBAQEBAQEBAQEBAQEBAQEBAQEBAQEBAQEBAQEBAQEBAQEBAf///wEBAQEBAQEBAQEBAQEBAQEBAQEBAQEBAQEBAQEB////AQEB/wEBAQEBAQH//wEBAQEBAQEBAQEBAQEBAQEBAf8BAQEBAQEBAQEBAQEBAf8BAQEBAf8BAQEBAQEBAQEBAQEBAQEBAQEBAQEBAQEBAQEBAQEB/wEBAQEBAQEBAQEBAQEBAQEBAQEBAf8BAQEBAQEBAQEBAQEBAQEBAQEBAQEBAQEBAQEBAQEBAQEBAQEBAQEBAQEBAQEBAQEBAQEBAQH/AQEBAQEBAQEBAQEBAQEBAQEBAQEBAQEBAQEBAQEBAQEBAQEBAQEBAQEBAf//AQEBAQEBAQEBAQEBAQEBAQH/AQEBAQEBAQEBAQEBAf8BAQH/AQEBAQEBAQEBAQEBAQEBAQEBAQEBAQEBAQEBAf8BAQEBAQEBAQEBAQEBAQEBAQEBAQEBAQEBAQEBAQEBAQEBAQEBAQEBAQEBAQEBAQEBAQH/AQEBAQH/AQEBAQEBAQEBAf8BAQEBAQEBAQEBAQEBAQEBAQEBAQEBAQEBAQEBAQEBAQH/AQEBAQEBAQEBAQEBAQEBAQEBAQEBAQEBAQEBAQEBAQEBAQEBAQEBAQEBAQH/AQEBAQEBAQEBAQH/Af8BAQEBAQEBAQEBAQEBAQEB/wEBAQEBAQEBAQEB////AQEBAQEBAQEBAQEBAQEBAQEBAQEBAQEBAQEBAf8BAQEBAQEBAQEBAQEBAQEBAQEBAQEBAQEBAQEBAQEBAQEBAQEBAQEBAQEBAQEBAQEBAQEBAQEBAQEBAQEBAQEBAQEBAQEB/wEBAQEBAQEBAQEBAQEBAf//AQEBAQEBAQEBAQEBAQEBAQEBAQEBAQEBAQEBAQEBAQEBAf8B/wEBAQEBAQ==",
            "dtype": "i1",
            "shape": "32, 32"
           }
          }
         ],
         "layout": {
          "title": {
           "text": "Ising Model at T = 2.10, Frame 85"
          }
         },
         "name": "85"
        },
        {
         "data": [
          {
           "type": "heatmap",
           "z": {
            "bdata": "AQH/AQEBAQEBAQEBAQEBAQEBAQEBAQEBAf8BAQEB/wEBAQEBAQEBAQEBAQEBAQEB//8BAQEBAQEBAQEBAQEBAQH/AQEBAQEBAQEBAQEBAQEBAQEBAQEBAQEBAQEBAQEBAQEBAQEBAf//Af8BAQEBAQEBAQEBAQEBAQEBAQEBAQEBAQEB/wEBAQEBAQEBAQEBAQEBAf8BAQEBAQEBAQEBAQEBAQEBAQEBAQEBAQEBAf8BAQEBAQEBAQEBAQEBAQEBAQEBAQEBAQEBAQEBAQEBAQEBAQEBAQEBAQEBAQEBAQH//wEBAQEBAQEBAQEBAQEBAQEBAQEBAQEBAQEBAQEBAQEB/wEBAQEB/wEBAQEBAf//AQEBAQEBAQEBAQEBAQEBAQEBAQEBAQH/AQEBAQEB/wEBAQEBAQEBAQEBAQEB/wEBAQEBAQEBAf8BAQEBAQEBAQEBAQEBAQEBAQEBAQEBAQEBAQEBAQEB/wEBAQEBAQEBAQEBAf8BAQEBAQEBAf8BAQEBAQEBAQH/AQEBAQEBAQEBAQEB/wEBAQEBAQEBAQEBAQEBAf8BAQEBAf8BAQEBAQEBAQEBAQEBAQEBAQEBAQEBAQEBAQEBAQEB/wEBAQEBAQEBAQEBAQEBAQEBAQEBAQEBAQEBAQEBAQEBAQEBAQEBAQEBAQEBAQEBAQEBAf8BAQEBAQEBAQEBAQEBAQEBAQEBAQEBAQEBAQEBAQEBAQEBAQEBAQEBAf8BAQEBAQEBAQEBAQEBAQEBAQEBAQEBAQEBAQEBAQEBAQEBAQH//wEBAQEB////AQEBAQEBAQEBAQEBAQEBAQEBAQEBAf8BAQEBAQEB//8BAQEBAQEBAQEBAQEBAQEBAQEBAQEB/wH/AQEBAQH//wEBAQEBAQEBAQEBAQEBAQEBAQEBAf//AQEBAQEBAf//AQEBAQEBAQEBAQEBAQEBAQEBAQEBAQEBAQEBAQH//////wEBAQEBAQEBAQEBAf8BAQEBAQEBAQEBAQEBAf////8BAQEBAQEBAQEBAQEBAQEBAQEBAQEBAQEBAQEBAQEBAQEBAQEBAQEBAQEBAQEBAQH/AQEBAQEBAQEBAQEBAQH/AQEBAQEBAQEBAQEBAQEBAQEBAQEBAQEBAQEBAQEBAQEBAQEBAQEBAQEBAQEBAQEBAQEBAQEB/wEBAQEBAQEBAQEBAQEBAQEBAQEBAQEBAQEBAQEBAQEBAQEBAf8BAQEBAQEB/wEBAQEBAQEBAQEBAQEBAQEBAQEBAQEB/wEBAQEBAQEBAQEBAQEBAQEBAQEBAQEBAQEBAQEBAQEBAQEBAQEBAQEBAQEB/wEBAQEBAQH//wEBAQEBAQEBAQEB//8BAQEBAQEBAQ==",
            "dtype": "i1",
            "shape": "32, 32"
           }
          }
         ],
         "layout": {
          "title": {
           "text": "Ising Model at T = 2.10, Frame 86"
          }
         },
         "name": "86"
        },
        {
         "data": [
          {
           "type": "heatmap",
           "z": {
            "bdata": "AQEBAQEBAQEBAQEBAQEBAQEBAQEBAQEBAQEBAQEBAQEBAQEBAQEBAQEBAQEBAQEBAQEBAQEBAQEBAQEBAQEBAQEBAQEBAQEBAQEBAQH/AQEBAQEBAQEBAQEBAf//AQEBAQEBAQEB//8BAQEBAQEBAQEBAQEBAQEBAQEBAQEBAQEBAQEBAQEB/wEBAQEBAQEBAQEBAQEBAQEBAQEBAQEBAQEBAQEBAQEBAQEBAQEBAQEBAQEBAQEBAQEBAQEBAQEBAQEBAQEBAQEBAQEBAQEBAQEBAQEBAQEBAQEBAQEBAQEBAQEBAQEBAQEB/wEBAQEBAQEBAQEBAQEBAQEBAQEBAf8BAQEBAQEBAQEBAQH/AQEBAQEBAQEBAQEBAQEBAQH/AQEBAf8BAQEB//8BAQEBAQEBAQEBAQEBAQEBAQEBAQEBAQEB//8BAf//////AQEBAQEBAQEB/wEBAQEBAQEBAQEBAQEBAQEB//////8BAQEBAQEBAQH/AQEBAQEBAQEBAQEBAQEBAf////////8BAQEBAQEB//8BAQEBAQEBAQEBAQEB//////////8BAQEBAQEBAQEBAQEBAQEBAQEBAQEBAQH///////////8BAQEBAf8BAQEBAQEBAQEBAQEBAQEBAf////////////8BAQEBAQEBAQEBAQEBAQEBAQEBAQEBAQEB/////wEBAQEBAQEBAQEBAQEBAQEBAQEBAQEBAQEBAQH//////wEBAf8BAQEBAQEBAQH//wEBAQEBAQEBAQEBAQEBAQH/AQH/AQEBAQEBAQEB////AQEBAQEBAf///wEBAQEBAQEBAQEBAQEBAQEBAQEBAQEBAf//AQEB////////Af8BAQEBAQEBAQEBAQEBAQEBAQH/Af8BAQEB/wEBAQEBAQEBAQEBAf8B//8BAQH/Af8BAQEBAQEBAQEBAQEBAQEBAQEBAQEBAQEBAQEBAQEB//8BAQEBAf//AQEB/wEBAQEBAQH/AQEBAQH/AQEBAQEBAQEBAQH/Af8BAQEBAQEB/wEBAQEBAQEBAQEBAQEBAQEBAf8BAf8BAQEBAQEBAQEBAQEBAQEBAQEBAQEBAQEBAQEB//8BAQEBAQEBAQEBAQEBAQEBAQEBAQEBAQEBAQEBAQEB/wEBAQEBAQH/AQEBAQEBAQEBAQEBAQEBAQEBAQEBAQH/AQEBAQEBAQEBAQEBAQEBAQEBAQEBAQEBAQEBAQEBAQEBAQEBAQEBAQEBAQEBAQEBAQEBAQEBAQEBAQEBAQEB/wEBAQEBAQEBAQEBAQEB/wEBAQEBAQEB/wEBAQEB/wEBAQEBAQEBAQEBAQEBAQEBAQEB/wH//wEBAQEBAQH/AQEBAQ==",
            "dtype": "i1",
            "shape": "32, 32"
           }
          }
         ],
         "layout": {
          "title": {
           "text": "Ising Model at T = 2.10, Frame 87"
          }
         },
         "name": "87"
        },
        {
         "data": [
          {
           "type": "heatmap",
           "z": {
            "bdata": "AQEBAQEBAQEBAQH/AQEBAQEBAQEBAQEBAQEBAQEBAQH/AQEBAQEBAQH///8BAQEBAQEBAQEBAQEBAQEBAQH//wEBAQEBAQEBAQEBAQEBAQEBAQEBAQEBAQEBAQEBAQEBAQEBAQEBAQEBAQEBAQEBAQEBAQEBAQEBAQEBAQEBAQEBAQEBAQEBAQEBAQEBAQEBAQEBAQEBAQEBAQEBAQEBAQEBAQEBAQEBAQEB/wEBAQEBAQEBAf//AQEBAQEBAQEB//8BAQEBAQEBAQH/AQEBAQEBAQEB//8BAQEBAQH/AQH//wEBAQEBAQEBAQEBAQEBAQH/AQH///8BAQEBAQH/Af8BAQEBAf//AQEBAQH/AQEBAQEBAf//AQEBAQEBAf//AQEBAQEBAQH//wEBAQEBAQEBAQEBAQEBAQEBAQEBAQEBAQEBAQEBAf8BAQEBAQEBAQEBAQEBAQEBAQEB/wEBAQEBAQEBAQEB/wEBAQEBAQEBAQEBAQEBAQEBAQEBAQEBAQEBAQEBAQEBAQEBAQEBAf8BAQEBAQEBAQEBAQEBAQEBAQEBAQEBAQH/AQEBAQEB/wEBAQEBAQH/AQEBAQEBAQEBAf8BAQEBAQEBAQEBAQEBAQEBAf//Af8BAQEBAQEBAQEBAQEBAQEBAQEBAQEBAQEBAQEB//8B/wEBAQEBAQEBAQEBAf8BAQEBAQEB/wEBAQEBAf//AQEBAQEBAQEBAQEBAQEBAQEBAQEBAQEBAQEBAQEBAQEBAQEBAQEBAQEBAQEBAQEBAQEBAQEBAQEBAQEBAQEBAQEBAQEBAQEBAQEBAQEBAQEBAQEBAQEBAQEBAQEBAQEBAQEBAQEBAQEBAQEBAQEBAQH/AQEBAQEBAQEBAQEBAQEBAQEBAQEBAQEBAQEBAQEBAQEBAQEBAQEBAQEBAQEBAQEBAQEBAQEBAQH/AQEBAQEBAQEBAQEBAQEBAQEBAQEBAQEBAQEBAQEBAQEB/wEBAQEBAQEB//8BAQEBAQEBAQEBAQEBAQEBAQEBAQEBAQEBAQEBAQEBAQEBAQEBAQEBAQEBAQEBAQEBAQEBAQEBAQEBAQEBAQEBAQEBAf8BAQEBAQEBAQEB/wEBAQEBAQEB/wEBAQEBAQEB/wH//wEBAQEBAQEBAQEBAQEBAQEB//8BAQEBAQEBAQEBAQEBAQEBAQEB//8BAQEB/wEBAQEBAQEBAQEBAQEBAQEBAQEBAQEBAQH/AQEBAQEBAQEBAQEBAf8BAQEBAQEBAQEBAQEBAQEBAQEBAQEBAQEBAQEBAQEBAQEBAQEBAQEBAQEBAQEBAQEBAQEBAQEBAQEBAQEBAQEBAQEBAQEBAQEBAQEBAQEBAQEBAQEBAQH/AQ==",
            "dtype": "i1",
            "shape": "32, 32"
           }
          }
         ],
         "layout": {
          "title": {
           "text": "Ising Model at T = 2.10, Frame 88"
          }
         },
         "name": "88"
        },
        {
         "data": [
          {
           "type": "heatmap",
           "z": {
            "bdata": "AQEBAQEBAQH//wEBAQEBAQEBAQEBAQEBAQEBAQEBAQEBAQEBAQH/////AQEBAQEBAQEBAQEBAQEBAQEBAQEBAQEBAQEBAQEBAQEBAQEBAQEBAQEBAQEBAQH/AQEBAQEBAQEBAQEBAQEBAQEBAQH/AQEBAQEBAQEBAQEBAQEBAQEBAQEBAQEBAQEBAQEBAf8BAQEBAQEBAQEBAQEBAQEBAQEBAQEBAQEBAQEBAQEBAQEBAQEBAQEBAQH/AQEB/wEBAQEBAQEBAQEBAQEB/wEBAQEBAQEBAQEBAQEBAQEBAQEBAQEBAQEBAQEBAQEBAQEBAQEBAQEBAQEBAQEBAQEBAQEBAQEBAQEBAQEBAQEBAQEBAQEBAQEBAQEBAQEBAQEBAQEBAQEBAQEBAQH/AQEBAQEBAQEBAQEBAQEBAQEBAQEBAQEBAQEBAQEBAQEBAQEBAQH/AQEBAQEBAQEBAQEBAQEBAQEBAQEBAQEBAQEBAQEBAQEBAQEBAQEBAQEBAQEBAQEBAQEBAQEBAQEBAQEBAQEBAQEBAQEBAQEBAQEBAQH/AQEBAQEBAQEBAQEBAQEBAQEBAQEBAQEBAQEBAQEBAQEBAQEBAQEBAQEBAQEBAQEBAQEBAQEBAf8BAQEBAQEBAQEBAQEBAQEBAQEBAQEBAQEBAQEBAQEBAQEBAQEBAQEBAQEBAQEBAQEBAQEBAQEBAQEBAQEBAQEBAQEBAQEBAQEBAQEBAQEBAQEBAQEBAQEBAQEBAQEBAQEBAQEBAQEBAQEBAf8BAf8BAQH//wEBAQH/AQEBAQEBAQEBAQEBAQEBAQEBAQEBAQEBAQEBAQEBAQEBAQEBAQEBAQEBAQEBAQEBAQEBAQEBAf//Af8BAQEBAQEBAQEBAQEB//8BAQEBAQEBAQEBAQEBAf8BAQEBAQEBAQEBAQEB/////wEBAQEBAQEBAQEBAQEBAQEBAQEBAQEBAQEBAQEBAQEBAQEBAQEBAQEBAQEBAQEBAf8BAQEBAQEBAQEBAQEBAQEBAQEBAQEBAQEBAQEBAQH//wEBAQEBAQEBAQEBAQEBAQEBAQEBAQEBAQEBAQEBAQEBAQEBAQEBAQEBAQEBAQEBAQEBAQEBAQEBAQEBAQEBAQEBAQH//wEBAQEBAQEBAQEBAQEBAQEBAQEB//8BAQEBAQEB/wEBAQEBAQEBAQEBAQEBAQEBAQEBAQEBAQEBAQEBAQEBAQEBAQEBAQEBAQEBAQEBAQEBAQEBAQEBAQEBAQEBAQEBAQEBAQEBAQEBAQEBAQEBAQEBAQEBAQEB//8BAQEBAQEBAQEBAQEBAQEBAQEBAQEBAQEBAQEBAQEBAQEBAQEBAQEBAQEBAQEBAQEBAQEBAQ==",
            "dtype": "i1",
            "shape": "32, 32"
           }
          }
         ],
         "layout": {
          "title": {
           "text": "Ising Model at T = 2.10, Frame 89"
          }
         },
         "name": "89"
        },
        {
         "data": [
          {
           "type": "heatmap",
           "z": {
            "bdata": "AQEBAQEBAQEBAQEBAQEBAQEBAQEBAQEBAQEBAQEBAQEBAQEBAQEBAQEBAQEBAQEBAQEBAQEBAQEBAQH/AQEBAQEBAQEBAQEBAQEBAQEBAQEBAQEB/wEBAQEBAQEBAQEBAQEBAQEBAQEB/wEBAQEBAQEBAQEBAQEBAQEBAQEB/wEBAQEBAQEBAQEBAQEBAQEBAQEBAQEBAQEBAf///wEBAQEBAQEBAQEBAf8BAQEBAQEBAQEBAQEBAQEBAQEBAQEBAQEBAQEBAQEBAQEBAQEBAQEBAf8BAQEBAQEBAQEBAQEBAQEBAQEBAQEBAQEBAQEBAQEBAQEBAQEBAQEBAQEBAQEBAQEBAQEBAQH//wEBAQEBAQEBAQEBAQEBAQEBAQEBAQEBAQEBAQEBAQEBAQEBAQEBAQEBAQEBAf8BAQEBAQEBAQEBAQEBAQEBAQEBAQEBAQH/AQEBAQEBAQEBAQEBAQEBAQEBAQEBAQEBAQEBAQEBAf8BAQEBAQEBAQEBAQEBAQEBAQEBAQEBAQEBAQEBAQEBAQEBAQEBAQEBAQEBAQEBAQEBAQEBAQEBAQEBAQH/AQH/AQEBAQEBAQEBAQEBAQEBAQEBAf8BAQEBAQEBAQEBAf////8BAQEBAQEBAQEBAQEBAQEBAQEBAQEBAQEBAQEBAf//AQEBAQEBAQEBAQEBAQEBAQEBAQH/AQEBAQEBAQH/////Af8BAQEBAQEBAQEBAQH/AQEBAQEBAQEBAQEBAQEB//8B/wEBAQEBAQEBAQEBAQEBAf8BAQEBAQEBAQH/AQEBAQEBAQEBAQEBAQEBAQEB/wH/AQEBAQEBAQEBAf8BAQEBAQEBAQEBAQEBAQEBAQEBAQH/AQEBAQEBAQH/AQEBAQEBAQEBAQEBAQEBAQEBAQEBAQEBAQEBAQEB//8BAQEBAQEBAQEBAQEBAQEBAQEBAQH/AQEBAQEBAQH///8BAQEBAQEBAQEBAQEBAQEBAQEBAQEBAQEBAQEBAQEBAQEB/wEBAQEBAQEBAQEBAQEBAQEBAQEBAQEBAQEBAQEBAQEBAQEBAQEBAQEBAQEBAQH//wEBAQEBAQEBAQEBAQEBAQEBAQEBAQEBAQEBAQEBAQH/AQEBAQEBAf//AQEBAQEBAQEBAQEBAQEBAQEBAQEBAQEBAQEBAQEBAQEBAQEBAQEB//8BAQEBAQEBAQEBAQEBAQEBAQEBAQEBAQEBAQEBAQEBAQEBAQEBAQEBAQEBAQEBAQH/AQH/AQEBAQEBAQEBAQEBAQEBAQEBAQEBAQEBAQEBAQEBAQEBAQEBAQEBAQEBAQEBAQEBAQEBAQEBAQEBAf8BAQEBAQEBAQEBAQEBAQEBAQEBAQEBAQEBAQ==",
            "dtype": "i1",
            "shape": "32, 32"
           }
          }
         ],
         "layout": {
          "title": {
           "text": "Ising Model at T = 2.10, Frame 90"
          }
         },
         "name": "90"
        },
        {
         "data": [
          {
           "type": "heatmap",
           "z": {
            "bdata": "AQEBAQEBAQEBAQEBAQEB/wEB/wEB/wEBAQEBAQEBAQEBAQEBAQH/Af8BAQEBAQEBAQEBAQH/AQEBAQEBAQEBAQEBAQEBAQEBAQEBAQEBAQEBAQH//wEBAQEBAQEBAQEBAQEBAQEBAf8BAQEBAQEBAQEBAQEBAQEBAQEBAQEBAQEBAQEB/wEB/wEBAQEBAQEBAQEBAQEBAQEBAQEBAQEBAQEBAQEBAQH/AQEBAQEBAQEBAQEBAQEBAQEBAQEBAQEBAQEBAQEBAf8BAf///wEBAQEBAQEBAQEBAQEBAQEBAQEBAQEBAQEBAQEBAQEBAQEBAQEBAQEBAQEBAf8BAQEB/wEBAQEBAf8BAQEB/wEBAQEBAQEBAQEBAQEBAQEBAQEBAQEB/wEBAQEBAQEBAQEBAQEBAQEBAQEBAQEBAQEBAQEBAQEBAQEBAQEBAQEBAQEBAQEBAQEBAQEBAQEBAQEBAQEBAQEBAQEBAQEBAQEBAQEBAQEBAQEBAQEBAQEBAQEBAQEBAQEBAQEBAQEB/wEBAQEBAQH//wEBAQEBAQEBAQEBAQEBAQEBAQEBAQEBAQEBAQEBAQH/AQEBAQEBAQEBAQEBAQEBAQEBAQEBAQEBAQEBAQEBAf8BAQEBAQEBAQEBAQEBAf8BAQEBAQEBAQEBAQEB/wEBAQEBAQEBAQEBAQEBAQEB//8BAQEBAQEBAQEBAQH/AQEBAQEBAQEBAQEBAQEBAQEBAQEBAQEBAQEBAf8BAQEBAQEBAQEBAQEBAQEBAQEBAQEBAQEBAQEBAQEB/wEBAQEBAQEBAQEBAQEBAQEBAQEBAQEBAQEBAf8BAQH/AQEBAQEBAQEBAQEBAQEBAQEBAQEBAQEBAQEBAQEBAf8BAQEBAQEBAQEBAQH/AQEBAQEBAQEBAQEBAQEBAQH/AQEBAQEBAQEBAQEB//8BAf8BAQEBAQEBAQEBAQEBAQEBAQEBAQEB////AQH/AQH//wEBAQEBAQEBAQEBAQEBAQEBAQEBAQH///8BAQEBAQEBAQEBAQEBAQEBAQEBAQEBAQEBAQEBAQH/AQEBAQEBAQEBAQEBAQEBAQEBAQEBAQEBAQEBAQEBAQEBAQEBAQEBAQEBAQEB/wEBAQEBAQEBAf8BAQH/AQEBAQEBAQEBAQEBAQEBAQEBAQEBAQEB//8BAQEBAf//AQEBAQEBAQEBAQEBAQEBAQEBAQEBAQEB/wEBAQEBAf//AQEBAf8BAQEBAQEBAQEBAQEBAQEBAQEBAQEBAQEBAQEBAQEBAQEBAQEBAQEBAQEBAQEBAQEBAQEBAQEBAQEBAQEBAQEBAQEBAQEBAQEBAQEBAQH/Af8B/wH/AQEBAQEBAQEBAQEBAQEBAQ==",
            "dtype": "i1",
            "shape": "32, 32"
           }
          }
         ],
         "layout": {
          "title": {
           "text": "Ising Model at T = 2.10, Frame 91"
          }
         },
         "name": "91"
        },
        {
         "data": [
          {
           "type": "heatmap",
           "z": {
            "bdata": "AQH/AQEBAQEBAQEBAQEBAQEBAQEBAQEBAQEBAQEBAQEBAQEBAQEBAQEBAQEBAQH//wEBAQEBAQEBAQEBAQEBAQEBAQEBAQEBAQEBAQEB////AQEB/wEBAQEBAQEBAQEBAQEBAQEBAQEBAQEB/wH/AQEBAQEBAQEBAQEBAQEB/wEBAQEBAQEBAQEBAQEBAQEBAQEBAQEBAQEBAQEBAQEBAQEBAQEBAQEB/wEBAQEBAQEBAQEBAQEBAQEBAQEBAQEBAQEBAQEBAQEBAQEBAQEBAQEBAf8BAQEBAQEBAQEBAf8BAQEBAQEB//8BAQEBAQEBAQEBAQEBAQEBAQEBAQEBAQEBAQEB//////8BAQEBAQEBAQEBAQEBAQEBAQEBAQEBAQEBAQH//wEBAQEBAQEBAQEBAQEBAQEBAQEBAQEBAQEBAQEBAQEBAQEBAQEBAQEBAQEBAQEBAQEBAQEBAQEBAQEBAQEBAQEBAQEBAQEBAQEBAQEBAQEBAQEBAQEBAQEBAQEBAQEBAQEBAQEBAQEBAQEBAQEBAQEBAQEBAQEBAQEBAQEBAQEBAQEBAQEBAQEBAQEBAQEBAQEBAQEBAQEBAQEBAQEBAQEBAQH/Af8BAQEBAQEBAQEBAQEBAQEBAQEBAQEBAQH/AQEBAQEBAQEBAQEBAQEBAQEBAQEBAQEBAQEBAQEBAQEBAQEBAQEBAQEBAQEBAQEBAQEBAQEBAQEBAQEBAQEBAQEBAQEBAQEBAQEBAQEBAQEBAQEBAQEBAQEBAQEBAQEBAQEBAQEBAQEB/wEBAQEBAQEBAQEBAQEBAQEBAQEBAQEBAQEBAQEBAQH/AQEBAf8BAQEBAQEBAQEBAQEBAQEBAQEB/wEBAQEBAQEBAQH/AQEBAQEBAQEBAQEBAQEBAQEBAQEBAQEBAQEBAQEBAQEBAQEBAQEBAQEBAQEBAQEB/wEBAQEBAQEBAQEBAQEBAQEBAQEBAQEBAQEBAQEBAQEBAQEBAQEBAQH/AQEBAQEBAQEBAQEBAQEBAQEBAQEBAQEBAQEBAQEBAf8BAQEB/wEBAQEBAQEBAQEBAQEBAQEBAQEBAQEBAQEBAQEBAQEBAQEBAQEBAQEBAQEBAf//AQEBAQEBAQEBAQEBAQEBAQEBAQEBAQEBAQEBAQH///8BAQEBAQEBAQEBAQEBAQEBAQEBAQEBAQEBAQEBAQH//wEBAQEBAQEBAQH/AQEBAQEBAQEBAQEBAf8BAQEBAQEBAQEBAQEBAQEBAQEBAQEBAQEBAQEBAQEBAQEB/wEBAQEBAQEBAQEBAQEBAQEBAQEBAQEBAQEBAQEBAQEBAQEBAQEBAQEBAQEBAQEBAQEBAQEB/wEBAQEBAQEBAQEBAQ==",
            "dtype": "i1",
            "shape": "32, 32"
           }
          }
         ],
         "layout": {
          "title": {
           "text": "Ising Model at T = 2.10, Frame 92"
          }
         },
         "name": "92"
        },
        {
         "data": [
          {
           "type": "heatmap",
           "z": {
            "bdata": "AQEBAQEBAQEBAQEBAQEBAQEBAQEBAQEBAQEBAQEBAQEBAQEBAQEBAQEBAQEBAQEBAQEBAQEBAQEBAQEBAQEBAQEBAQEBAQEB//8BAQEBAQEBAQEBAQEBAQEBAQEBAQEBAQEBAQEBAQEB/wEBAQEBAQEBAQEBAQEBAQEBAQH//wEBAQEBAQEBAQEBAQEBAQEBAQEBAQEBAQEBAQEBAQEBAQEBAQEBAQEBAQEBAQH/AQEBAQEBAQEBAQEBAQEBAQEBAQEBAQEB//8BAQEBAQEBAQEBAQEB/wEBAf8BAQEBAQH/AQEBAQEBAQEBAQEBAQEBAQEBAQEBAQEBAQEBAQEBAf//AQEBAQEBAQH/AQEBAQEBAQEBAQEBAQEBAQEBAQEBAQEBAQEBAQEBAQEBAQEBAQEBAQEBAQEBAQEBAQEBAQEBAQEBAQEBAQEBAQEBAQEBAQEBAQEBAQEBAQEBAQEBAQEBAQEBAQEBAQEBAQEBAQEBAQEBAQEBAQEBAQEBAQEBAQEBAQEBAQEBAQEBAQEBAQEBAQEBAQEBAQEBAQEBAQEBAQEBAQEBAQEBAQEBAQEBAQEBAQEBAQEBAQEBAQEBAQEBAQEBAQH/AQEB/wEBAQEBAQEBAQEBAQEBAQEBAQEBAQH/AQEBAf//AQEBAQEBAQEBAQEBAQEBAQEBAQEBAQEBAQEBAQEB/wH/AQEBAQEBAQEBAQEBAQEBAQEBAQEBAQEBAQEBAQEBAf//AQEBAQEBAQEBAQEBAQEBAQEBAQEBAQEBAQEBAQEBAQEBAQEBAQEBAQEBAQEBAQEBAQEBAQEBAQEBAQEBAQEBAQEBAQEBAQEBAQEBAQEBAQH//wEBAQEBAQEBAQEBAQEBAQEB/wEBAQEBAQEBAQEBAf//AQEBAQEBAQH/AQEBAQEBAQEBAQEBAQEBAQEBAQEBAQEBAQEBAQEBAQEBAf8BAQEBAQEBAQEBAQEBAQEBAQEBAQEBAf8BAQEBAQEBAQEBAQEBAQEBAQEBAQEBAQEBAQH/AQEBAQEBAQEBAQEBAQEBAQEBAf8BAQEBAQEBAQEBAQEBAQEB/wEBAQEBAQEBAQEBAQEBAQEBAQEBAQEBAQEBAQEBAQH/AQEBAQEBAQEBAQEBAQEBAQEBAQEBAQEB/wEBAQEBAf8BAQEBAQEBAf//AQEBAQEBAQEBAQEBAQH/AQEBAQEBAQEBAQEBAQEBAQEBAQEBAQEBAQEBAQEBAf//AQEB/wEBAf//Af//AQEBAQEBAQEBAQEBAQEBAQEB/wEBAQEBAQEBAf8BAQEBAQEBAQEBAQEBAQEBAQEBAQEBAQEBAQEBAQEBAQEBAQEBAf8B/wEBAQEBAQEBAQEBAQEBAQEBAQ==",
            "dtype": "i1",
            "shape": "32, 32"
           }
          }
         ],
         "layout": {
          "title": {
           "text": "Ising Model at T = 2.10, Frame 93"
          }
         },
         "name": "93"
        },
        {
         "data": [
          {
           "type": "heatmap",
           "z": {
            "bdata": "AQEBAf8BAQEBAQEBAQEBAQEBAQEBAQEB//8BAQEBAQEBAQEB/wEBAQEBAQEBAQEBAQEBAQEBAQEB/wEBAQEBAf8BAQEBAQEBAQEBAQEBAQEB/wEBAQEBAQH/AQEBAQEBAQEBAQEBAQEBAQEBAQEBAf8BAf8BAQEBAQEBAQEBAQEBAQEBAQEBAQEBAQEBAQEBAQEBAQEBAQEBAQH/AQEBAQEBAQEBAQH/AQEBAQEBAQEBAQEBAQEB//8BAQEBAQEBAf8BAf8BAQEBAQEBAQEBAQEBAf8BAQEBAQEBAQEBAQEBAQEBAf8BAQEBAQEBAQEB/wEBAQEBAQEBAQEBAQEBAf8BAQEB/wEBAQEBAQEBAQEB/wEBAf8BAQEBAQEBAQEBAQEBAQEBAQEBAQEBAQEBAQEBAQEBAQEBAQEBAQEBAQEBAQEBAQEBAQEBAQEBAQEBAQEBAQEBAQEBAQEBAQEBAQEBAQEBAQEBAQEBAQEBAQEBAQEBAQEBAQEBAQEBAQEBAQEBAQEBAQEBAQEBAQEBAQEBAQEBAQEBAQEBAQEBAQEBAQEBAQEBAQEBAQEBAQEBAQEBAQEBAQEBAQEBAQEBAQEBAQEBAQEBAQEBAf//AQEBAQEBAQEBAQEB//8BAQEBAQEBAf///wEBAQEBAQEBAQEBAQEBAQEBAQH//wEBAQEBAQEBAf///wEBAQEBAQEBAQEBAQEB/wEB//8BAQEBAQEBAQEBAQEBAQEBAQEBAQEBAQEBAQEBAQEB/wEBAQEBAQEBAQEBAQEBAQEBAQEBAQEBAQEBAQEBAQH/AQEB//8BAQH/AQEBAQEB/wEBAQEBAQEBAQEBAQEBAQEBAQEBAQEBAQEBAQEBAQEBAQEBAQEBAQEBAQEBAQEBAQEBAQEBAQEBAQEBAQEBAQEBAQEBAQEBAQEBAQEBAQEBAQEBAQEBAQEBAQEBAQEBAQEBAQEBAQEBAQEBAQEBAQEBAQEBAQEB/wEBAQEB/wEBAQEB/wEBAQEBAQEBAQEBAQEBAQEBAQH/AQEBAQH/AQEBAQEBAQEB/wEB/wEBAQEBAQEBAQEBAf8BAQEBAQEBAQEBAQEBAQEBAQEBAQEBAQEBAQEBAQH//wEBAQEBAQEBAQEBAQEBAQEBAQEBAQEBAQEBAQEBAQEBAQEBAQEBAQEBAQEBAQEBAQEBAQEBAQEBAQEBAQEBAQEBAQEBAQEBAf8BAQEBAQEBAQEBAQEBAQEBAf8BAQH/AQEBAQEBAQEBAQEBAQEBAQEBAQEBAQEBAQEB/wEBAQEBAQEBAQEBAQEBAQEBAQEBAQEBAQEBAQEBAQEBAQEBAQEBAQEBAQEBAf8BAQEBAQEBAQEB/wEBAQEBAQEBAQ==",
            "dtype": "i1",
            "shape": "32, 32"
           }
          }
         ],
         "layout": {
          "title": {
           "text": "Ising Model at T = 2.10, Frame 94"
          }
         },
         "name": "94"
        },
        {
         "data": [
          {
           "type": "heatmap",
           "z": {
            "bdata": "AQEBAQEBAQEBAQH/AQEBAQEBAQEBAQEBAQEBAQH/Af8BAQEBAQEBAQH//wEBAQEBAQEBAQEBAQEBAQEBAQEBAQEBAQEBAQEBAf//AQEBAQEBAQEBAQEBAQEBAQEB/wEBAQEBAQEBAQEBAQEBAQEBAQEBAQEBAQEBAQEBAQEBAQEBAQEBAQEBAQEBAQEBAQEBAQEBAQEBAQEBAQEBAf8BAQEBAQEBAQEBAQEBAQEBAQH/AQEBAQH/AQEBAQEBAQH/AQEBAQEBAQEBAQEBAQEBAf8BAQH/Af8BAQEBAQEBAQH/AQEBAQH/AQEBAQEBAf///wH/Af8B/wEB////AQEBAQEBAQEBAQEBAQEBAQEBAQEBAf8B////AQEBAQEBAQEBAQEBAQEBAQEBAQEBAQEBAQEB/////wEBAQEBAQEBAQEBAQEBAQEBAQEBAQEBAQEBAQEBAQEBAQEBAQEBAQEBAQEBAQEBAQEBAQH/AQEBAQEBAQEBAQEBAQEBAQEBAQEBAQEBAQEBAQEBAQEBAQEBAQEBAQEBAQEBAQEBAQEBAQH/AQEBAQEBAQEBAQEBAf8BAQEBAf8BAQEBAQEBAQEBAQEBAQEBAQEBAQEBAQEBAQEBAQEBAQEBAQEBAQEBAQEBAQEBAQEBAQEBAQEBAQEBAQEBAQEBAQEBAQEBAQEBAQEBAQEBAQEBAQEBAQEBAf//AQEBAQEBAQEBAQEBAQEBAQEBAQEBAQEBAQEBAQEB/wEBAQEBAQEBAQEBAQEBAQEBAQEBAQEBAQEBAQEBAQEBAQEBAQEBAQEBAQEBAQH//wEBAQEBAQEBAQEBAQEBAQEBAQEBAQEBAQH///8BAQEBAQEBAQEBAQEBAQEBAQEBAQEBAQEBAQEBAQEBAQEBAQEBAQEBAQEBAQEBAQEBAQH/AQEBAQEBAQEBAQEBAQEBAQEBAQEB/wEBAQEBAQEB/wEBAQEBAQEBAQEBAQEBAQEBAQEBAQEBAQEBAQEBAQEBAQEBAQEBAQEBAQEBAQEBAQEBAQEBAQEBAQEBAQEBAQEBAQEBAQEBAQEBAQEBAQEBAQEBAQEBAQEBAQEBAQEBAQEBAQEB/wEBAQEBAQEBAQEBAQEBAQEBAQEBAQEBAQEBAQEBAQEBAQEBAQEBAQEBAQEBAQEBAQEBAQEB/wEBAQH/AQEBAQEBAQEBAQEB/wEBAQEBAQEBAQEBAQEBAQEBAQEBAQEBAQEBAQEBAQH/AQEBAQEBAQEBAQEBAf8BAQEBAQEBAQEBAQEBAQEBAf8BAQEBAQEBAQEBAQEBAQH/AQEBAQEBAQEBAQEBAQEB/wEBAQEBAQEBAQEBAf8BAf8B/wEBAQEBAQEBAQEBAQEB//8BAQ==",
            "dtype": "i1",
            "shape": "32, 32"
           }
          }
         ],
         "layout": {
          "title": {
           "text": "Ising Model at T = 2.10, Frame 95"
          }
         },
         "name": "95"
        },
        {
         "data": [
          {
           "type": "heatmap",
           "z": {
            "bdata": "AQEBAQEBAQEBAQEBAQEBAQEBAQEBAf//AQEBAQEBAQEBAQEBAQEBAQEBAQEBAQEBAQEBAQEBAf//AQEBAQEBAQEBAQEB/wEBAQEBAQEBAQEBAQH/AQEB////AQEBAQEBAQEBAf8BAQEBAQEBAQEBAQEB//8BAf//AQEBAQEBAQEBAf////8BAQEBAQEBAQH/AQEBAf//////AQEBAQEBAQEBAQEBAQEBAQEBAQEBAQEBAQH/Af///wEBAQEBAQEBAQEBAQEBAQEBAf8BAQEBAQEBAf//////AQEBAQEBAQEBAQEBAQEBAQEBAQEBAQEBAQEB/////wEBAQH/////AQEBAQEBAQEBAQEBAQEBAQEBAQEB//8BAQEBAf//AQEBAQEBAQEBAQEBAQEBAf8BAQEBAQH/AQEBAQEBAQEBAQEBAQEBAQEBAQEBAQEBAQEBAQEBAQEBAQEBAQEBAQEBAQEBAQEBAQEBAQEBAQEBAQEBAQEBAQEBAQEBAf8BAQH/AQEBAQEBAQEBAQEBAQEBAQEBAQEBAQEBAQEBAQEBAf8BAQEBAQEBAQEBAQEBAQEBAQEBAQEBAQEBAQEBAQEBAQEBAQEBAf8BAQEBAQEBAQEBAQEBAQEBAQEBAQEBAQEBAQEBAQEBAQEBAQEBAQEBAQEBAQEBAQEBAQEBAf8BAQEBAQEBAQEBAQEBAQEBAQEBAQEBAQEBAQEBAf8BAQEBAQEBAQEBAQEBAQEBAQEBAQEBAQEBAQEBAQEB/wEBAQEBAQEBAQEBAQEBAQEBAQH/AQEBAQEBAQEBAQH//wEBAQEBAQEBAQEBAQEBAQEBAf8BAQEBAQEBAQEBAQEBAQEBAQEBAQEBAQEBAQEBAQEBAQEBAQEBAQEBAQH//wEBAQEBAQEBAQEBAQEBAQEBAQEBAQEBAQEBAQEB//8BAQEBAQEBAQEBAQEBAQEBAQEBAQEBAQEBAQEBAf8BAQEBAQEBAQEBAQEBAQEB/wEBAQEBAQEBAQEBAQEBAQEBAQEBAQEBAQEBAQEBAQEBAQEBAQEBAQEBAQEBAQEB//8BAQEBAQEBAQEBAQEBAQEBAQEBAf8BAQEBAQEBAf////8BAQEBAQEBAQEBAQEBAQEBAQEBAQEBAQH/AQEBAf///wEBAQEBAQH/AQEBAQEBAQEBAf8BAQEBAQEBAQH/////AQEBAQEB/wEBAQEBAQEBAQEBAQEBAQEBAQEBAQEB//8BAQEBAQEB/wEBAQEBAQEBAQEBAQEBAQEBAQEBAQH/AQEBAQEBAQEBAQEBAQEBAQEBAQEBAQEBAQEBAQEBAQEBAQEBAQEBAQEBAQEBAQEBAQEBAQEBAQEBAQEB//8BAQEBAQEBAQ==",
            "dtype": "i1",
            "shape": "32, 32"
           }
          }
         ],
         "layout": {
          "title": {
           "text": "Ising Model at T = 2.10, Frame 96"
          }
         },
         "name": "96"
        },
        {
         "data": [
          {
           "type": "heatmap",
           "z": {
            "bdata": "AQEBAQEBAQEBAQEBAQEBAQEBAQEBAQEBAQEBAQEBAQEBAQEBAQEBAQEBAQEBAQEBAQEBAQEBAQEBAQEBAQEBAQEBAQEBAQEBAQEBAQEBAQEBAQEBAQEBAQEBAQEBAQEBAQEBAQEB//8BAQEBAQEBAf8BAQEBAQEB/wEBAQEBAQEBAQEBAQEBAQEBAf//AQEB//8BAQEBAQH/AQEBAQEBAQEBAQEBAQEBAQEBAQEBAQEBAQEBAQEBAQEBAf8BAQEBAQEBAQEBAQEBAQEBAQEBAQEBAQEBAQEBAQEB/wEBAQEBAQEBAQEBAQEBAQEBAQEBAQEBAQEBAQEBAQH/AQEBAQEBAQEB/////wEBAQEBAQEBAQEBAQEBAQEBAf8BAQEBAQEBAQH/AQEBAQEBAQEBAQEBAQEBAQEBAQEBAQEBAQEBAQEBAQEBAQEBAf8BAQEBAQEBAQEBAQEBAQEBAQH/AQEB/wEBAQEBAQH//wEBAQEBAQEBAQEBAQEBAf8BAQEBAQEBAQEBAQEB////AQEB//8BAQEBAQH/AQH///8B/wEBAQEB//8BAQEBAQEBAQEBAQEB////AQEBAf//AQEBAQEBAQEBAQEBAQEBAQH//wEBAQEBAQEB/wEBAf///wEBAQEBAQEBAf//AQEBAQEBAQEBAQEBAQEBAQEBAf8BAQEBAQEBAQEB/wEBAQEBAQEBAQEBAQEBAQEBAQEBAQEBAQEBAQEBAQEBAf8BAQEBAQEBAQEBAQEBAQEBAQEBAQEBAQEBAQEBAQEBAQEBAQEBAQEBAQEBAQEBAQEB/wEBAQEB/wEBAQEBAQEBAQEBAQEBAQEBAQEBAQEBAQEBAQEBAQEBAQEBAQEBAQEBAQEBAQEBAQEBAQEBAQEBAQEBAQEBAQEBAQEBAQEBAQEBAQEBAQEBAQEBAQEBAQEBAQEBAQEBAQEBAQEBAQEBAQEBAQEBAQEBAQEBAQEBAf//AQEBAQH/AQEBAQEBAQEBAQEBAQEBAQEBAQEBAQEB/wEBAQEBAQEBAQEBAQEBAQEBAQEBAQEBAQEBAQEBAQEBAQEB/wEBAQEBAQEBAQEBAQEBAQEBAQEBAQEBAQEBAQEBAQEBAQEBAQEBAQEBAQEBAQEBAQEBAQEBAQEBAQEBAQEBAQEBAQEBAQEBAQEBAQEBAQEBAQEBAQEBAQEBAQEBAQEBAQEBAQEBAQEBAQEBAQH//wEBAQEBAQEBAQEBAQEBAQEBAQEBAQEBAQEBAQEBAf//AQEBAQEBAQEBAQEBAQEBAQEBAQEBAQEBAQEBAQEBAQEBAQEBAQEBAQEBAQEBAQEBAQEBAQEBAQEBAQEBAQEBAQEBAQEBAQEBAQEBAQEBAf8BAQ==",
            "dtype": "i1",
            "shape": "32, 32"
           }
          }
         ],
         "layout": {
          "title": {
           "text": "Ising Model at T = 2.10, Frame 97"
          }
         },
         "name": "97"
        },
        {
         "data": [
          {
           "type": "heatmap",
           "z": {
            "bdata": "AQEBAQEBAf8BAQEBAQEBAQH/AQEBAQEBAQEBAQEBAQEBAQEBAQEBAQEBAQEB/wEB//8BAQEBAQEBAQEBAQEBAQEBAQEBAQEBAQEBAQEBAQEB/wH//wEBAQEBAQEBAQEBAQEBAQEBAQEBAQEBAQEBAQEBAQH/AQEBAQEBAQEBAQEBAQEBAQEBAQEBAQEBAQEBAQEBAQEBAQEBAQH/AQEBAQEBAQEBAQEBAQEBAQEBAQEBAQEBAQH/AQEBAQEB/wEB////AQEBAQEB/wEBAQEBAQEBAQEBAf8BAQEBAQEBAQEBAQEBAQEB/wH/AQEBAQEBAQEBAQEBAQH/AQEBAQEBAQEBAQEBAQEBAQEBAf///wEBAQEBAQEBAQEBAQEBAQEBAQEBAQEBAQEBAQH/////AQEBAQEBAQEBAQEBAQEBAQEBAQEBAQEBAQEBAf////8BAQEBAQEBAQEB//8BAQEBAQEBAQEBAQEBAQEBAQEB/wEBAQEBAQEBAQEBAQEBAQEBAQEBAQEBAQEBAQEBAQH/AQEB/wEB/wEBAQEBAQEBAQEBAQEBAQEBAQEBAQEBAQEBAQEBAQEBAQEBAQEBAQEBAQEBAQEBAQEBAQEBAQEBAQEBAQEBAQEBAQH/AQH/AQEBAQEBAQEBAf//AQEBAQEBAQEB/wEBAf8BAQEBAf8BAQEBAQEBAQEB////AQEBAQEBAQEBAQEBAQEBAQEBAQEBAQEBAQEBAQH/AQEBAQEBAQEBAQEBAQEBAQEBAQEBAQEBAQEBAQEBAf8BAQEBAQEBAQEBAQEBAQEBAQEBAQEBAQEBAQEBAQEBAQEBAQEBAQEBAQEBAQEBAQEBAQEBAQEBAQEBAQEBAQEBAQEBAQEBAQEBAQEBAQEBAQEBAQEBAQEBAQEBAf8BAQEBAQEBAQEBAQEBAQEBAQEBAQEBAQEBAQEBAQEBAQEBAQEBAQEBAQEBAQEBAQEBAQEBAQEBAQEBAQEBAQEBAQEBAQEB//8BAQEBAQEBAQEBAQEBAQEBAQEBAQEBAQEBAQEBAQEBAQEB/wEBAQEBAQEBAQEBAQEBAQEBAQEBAQEBAQEBAQEBAQEBAQEBAQEBAQEBAQEB/wEBAQEBAQEBAQEBAQEBAQEBAQEBAQEBAQEBAQEBAQEBAQEBAQEBAQEBAQEBAQEBAQEBAQEBAQEBAQEBAQEBAQEBAQEBAQEBAQEBAQEBAQEBAQEBAQEBAQEBAQEBAQEBAQEBAQEBAQEBAQEBAQEBAQEBAQEBAQEBAQEBAQEBAQEBAQEBAQEBAQEBAQEBAQH/Af8BAQEBAQEBAQH/AQEBAQEBAQEBAQEBAQEBAQEBAQEBAQEBAQEBAQEBAQEBAQEBAQEBAQ==",
            "dtype": "i1",
            "shape": "32, 32"
           }
          }
         ],
         "layout": {
          "title": {
           "text": "Ising Model at T = 2.10, Frame 98"
          }
         },
         "name": "98"
        },
        {
         "data": [
          {
           "type": "heatmap",
           "z": {
            "bdata": "AQEBAQEBAQEBAQEB/wEBAQEBAQEBAQH/AQEBAQEBAQEBAQEBAQEBAQEBAQEBAQEBAQEBAQEBAQEBAQEBAQEBAQEBAQEBAQEBAQEBAQEBAQEBAQEBAQEBAQEBAQEBAQEBAQEBAQEBAQEBAQEBAQEB/wEBAQEBAQEBAQEBAQEBAQEBAf//AQEBAQH/AQEBAQH/AQEBAQEBAQEBAQEBAQEBAQEBAQEBAQEBAQEBAQEB////AQEBAQEBAQEBAQEBAQEBAQEBAQEBAQEBAQH/AQEB//8BAQEBAQEBAQEBAQEBAQEBAQEBAf8BAQEBAQEBAQEB/wEBAQEBAQEBAQEBAQEBAQEBAQEB/wEBAQEBAQEBAQEBAQEBAQEBAQEBAQH//wH/AQEBAQH/AQEBAQEBAQEBAQEBAf8BAQEBAQEBAQH/AQEBAQEBAQEBAQEBAQEBAQEB/wEBAQEBAQEBAQEBAQEBAQEBAQEBAQEBAQEBAQEBAQEBAf8BAQEBAQEBAQEBAQEBAQEBAQEBAQEBAQEBAQEBAQEBAQEBAQEBAQEBAQEBAQEBAQEBAQEBAQH/AQEBAQEBAQEBAQEBAQEBAQEBAQEBAQEBAQEBAQEBAQEBAQH//wH/AQEBAQEBAQEBAQEBAQEBAQEBAQEBAQEBAQEBAQEBAQEBAQEBAQEBAQEBAQEBAQEBAQEBAQEBAQEBAQEBAQEBAQEBAQEBAQEBAQEBAQEBAQEBAQEBAQEBAQEBAQEBAQEBAQEBAQEBAQEBAQH/AQEBAQEBAQEBAQEBAQEBAQEBAf8BAf8BAQEBAQEBAQEBAQEBAQEBAQEBAQEBAQEBAQEB/wEBAQEBAQH/AQEBAQEBAQEBAQEBAQEBAQEBAQEBAQH/AQEBAQEBAf///wEBAQEBAQEBAQEBAQEBAQEBAQEBAQEBAQEBAQEBAQEBAQEBAQEBAQEBAQEBAQEBAQEBAQEBAQEBAQEBAQEBAQEBAQEBAQEBAQEBAQEBAQEBAQEBAQEBAQEBAQEBAQEBAQEBAQEBAQEBAQEBAQEBAQEBAQEBAQEBAQEBAQH/AQEBAQEBAQEBAQEBAQEBAQEBAQEBAQEBAQEBAQEB//8BAQEBAQEBAQEBAQEBAQEB/wEBAQEBAQEBAQEBAQEBAQEBAQEB/wEB/wEBAf8BAQEBAf8BAQEBAQEBAQEBAQEBAQEBAQEBAQEBAQEBAQEBAQEBAQEBAQEBAQEBAQEBAQEBAQEBAQEBAQEBAQEBAQEBAQEBAQEBAQEBAQEBAQEBAQEBAQEBAQEBAQEBAQEBAQEBAQEBAQEBAQEBAQEBAQEBAQEBAQEBAQEBAQEBAQEBAQEBAQEBAQEBAQEB/wEBAQEBAQEBAQEBAQ==",
            "dtype": "i1",
            "shape": "32, 32"
           }
          }
         ],
         "layout": {
          "title": {
           "text": "Ising Model at T = 2.10, Frame 99"
          }
         },
         "name": "99"
        },
        {
         "data": [
          {
           "type": "heatmap",
           "z": {
            "bdata": "AQEBAQEBAQEB/wEBAQEBAQEBAQEBAQEBAQEBAQEBAQEBAQEBAQEBAQEBAQEBAQEBAQEBAQEBAQEBAQEBAQH/AQEBAQEBAQEBAQEBAQEBAQEBAQEBAQEBAQEBAQEBAf8B/wEBAQEBAQEBAQEBAQEBAQEBAQEBAQEBAQEBAQEBAQH/AQEBAQEBAQEBAQEBAQEBAQEBAQEBAQEBAQEBAQEBAf8BAQEBAQEBAQEBAQEBAQEBAQEBAQEBAQEBAQEBAQEBAQEBAQEBAQEBAQEBAQEBAQEBAQEBAQEBAQEBAQEBAQEBAQEBAQEBAQEBAQH/AQEBAQEBAQEB/wEBAQEBAQEBAQEBAQEBAQEBAQEBAf///wEBAQEBAQEBAQEBAQEBAQH/AQEBAQEBAQEBAQEBAQH/AQEBAQEBAQEBAf8BAQEBAf8BAQEBAQEBAQEBAQEBAf8BAQEBAQEBAQEB/wEBAQEBAQEBAQEBAQEBAQEBAQH/AQEBAQEBAf//AQH//wEBAQEBAQH/AQEBAQEB/wEBAQEBAQEBAQEB////////AQEBAQEBAf8BAQEBAQEBAQEBAQEBAQEBAQEBAf//Af//AQEBAQH//wEBAQEBAQEBAQEBAQEBAQEBAQEBAQEBAQEBAf////8BAQEBAQEBAQEBAQEBAQEBAQEBAQEBAQEBAQEB/////wEBAQEBAQEBAQEBAQEBAQEBAQH/AQEBAQH//wH///8BAQEBAf8BAQEBAQEBAQEBAQH/AQEBAQEBAQEBAQEBAQEBAQEBAQH/AQEBAQEBAQEBAf8BAQEBAQEBAQEBAQEBAQEBAQH/AQEBAQEBAQEBAQEBAQEBAQEB/wEBAQEBAQEBAQEBAf8BAQEBAQEBAQEBAQEBAQEBAf///wEBAQEBAQEBAQEBAQEB/wEBAQEBAQEBAQEBAQEBAQEBAf8BAQEBAQEBAQEBAQEBAQEBAQEBAQEBAQEBAQEBAQEBAQEBAQEBAQEBAQEBAQEBAQEBAQEBAQEBAQEBAQEBAQEBAQEBAQEBAQEBAQEBAQEBAQEBAQEBAQEBAQEBAQEBAQEBAQEBAQEBAQEBAQEBAQEBAQEBAQEBAQH/AQEBAf8BAQEBAQEBAQEBAQEBAQEBAQEBAQEBAQEBAf8BAf//AQEBAQEBAQEBAQEBAQEBAQEBAQEBAQEBAQEBAQEBAQEBAQEBAQEBAQEBAQEBAQEB/wEBAQEBAf8BAQEBAQEBAQEBAQEBAQEBAQEBAQEBAQH/AQEBAQEBAQEBAQEBAQEBAQEBAQEBAf8BAQEBAQEBAQEBAQEBAQEBAQEBAQEBAQEBAQEBAQEBAQEBAQEBAQEBAQEBAQEBAQEBAQEBAQEBAQEBAQEBAQ==",
            "dtype": "i1",
            "shape": "32, 32"
           }
          }
         ],
         "layout": {
          "title": {
           "text": "Ising Model at T = 2.10, Frame 100"
          }
         },
         "name": "100"
        }
       ],
       "layout": {
        "height": 700,
        "sliders": [
         {
          "active": 0,
          "currentvalue": {
           "prefix": "Frame: ",
           "visible": true,
           "xanchor": "right"
          },
          "len": 0.9,
          "pad": {
           "b": 10,
           "t": 50
          },
          "steps": [
           {
            "args": [
             [
              "0"
             ],
             {
              "frame": {
               "duration": 100,
               "redraw": true
              },
              "mode": "immediate",
              "transition": {
               "duration": 100
              }
             }
            ],
            "label": "0",
            "method": "animate"
           },
           {
            "args": [
             [
              "1"
             ],
             {
              "frame": {
               "duration": 100,
               "redraw": true
              },
              "mode": "immediate",
              "transition": {
               "duration": 100
              }
             }
            ],
            "label": "1",
            "method": "animate"
           },
           {
            "args": [
             [
              "2"
             ],
             {
              "frame": {
               "duration": 100,
               "redraw": true
              },
              "mode": "immediate",
              "transition": {
               "duration": 100
              }
             }
            ],
            "label": "2",
            "method": "animate"
           },
           {
            "args": [
             [
              "3"
             ],
             {
              "frame": {
               "duration": 100,
               "redraw": true
              },
              "mode": "immediate",
              "transition": {
               "duration": 100
              }
             }
            ],
            "label": "3",
            "method": "animate"
           },
           {
            "args": [
             [
              "4"
             ],
             {
              "frame": {
               "duration": 100,
               "redraw": true
              },
              "mode": "immediate",
              "transition": {
               "duration": 100
              }
             }
            ],
            "label": "4",
            "method": "animate"
           },
           {
            "args": [
             [
              "5"
             ],
             {
              "frame": {
               "duration": 100,
               "redraw": true
              },
              "mode": "immediate",
              "transition": {
               "duration": 100
              }
             }
            ],
            "label": "5",
            "method": "animate"
           },
           {
            "args": [
             [
              "6"
             ],
             {
              "frame": {
               "duration": 100,
               "redraw": true
              },
              "mode": "immediate",
              "transition": {
               "duration": 100
              }
             }
            ],
            "label": "6",
            "method": "animate"
           },
           {
            "args": [
             [
              "7"
             ],
             {
              "frame": {
               "duration": 100,
               "redraw": true
              },
              "mode": "immediate",
              "transition": {
               "duration": 100
              }
             }
            ],
            "label": "7",
            "method": "animate"
           },
           {
            "args": [
             [
              "8"
             ],
             {
              "frame": {
               "duration": 100,
               "redraw": true
              },
              "mode": "immediate",
              "transition": {
               "duration": 100
              }
             }
            ],
            "label": "8",
            "method": "animate"
           },
           {
            "args": [
             [
              "9"
             ],
             {
              "frame": {
               "duration": 100,
               "redraw": true
              },
              "mode": "immediate",
              "transition": {
               "duration": 100
              }
             }
            ],
            "label": "9",
            "method": "animate"
           },
           {
            "args": [
             [
              "10"
             ],
             {
              "frame": {
               "duration": 100,
               "redraw": true
              },
              "mode": "immediate",
              "transition": {
               "duration": 100
              }
             }
            ],
            "label": "10",
            "method": "animate"
           },
           {
            "args": [
             [
              "11"
             ],
             {
              "frame": {
               "duration": 100,
               "redraw": true
              },
              "mode": "immediate",
              "transition": {
               "duration": 100
              }
             }
            ],
            "label": "11",
            "method": "animate"
           },
           {
            "args": [
             [
              "12"
             ],
             {
              "frame": {
               "duration": 100,
               "redraw": true
              },
              "mode": "immediate",
              "transition": {
               "duration": 100
              }
             }
            ],
            "label": "12",
            "method": "animate"
           },
           {
            "args": [
             [
              "13"
             ],
             {
              "frame": {
               "duration": 100,
               "redraw": true
              },
              "mode": "immediate",
              "transition": {
               "duration": 100
              }
             }
            ],
            "label": "13",
            "method": "animate"
           },
           {
            "args": [
             [
              "14"
             ],
             {
              "frame": {
               "duration": 100,
               "redraw": true
              },
              "mode": "immediate",
              "transition": {
               "duration": 100
              }
             }
            ],
            "label": "14",
            "method": "animate"
           },
           {
            "args": [
             [
              "15"
             ],
             {
              "frame": {
               "duration": 100,
               "redraw": true
              },
              "mode": "immediate",
              "transition": {
               "duration": 100
              }
             }
            ],
            "label": "15",
            "method": "animate"
           },
           {
            "args": [
             [
              "16"
             ],
             {
              "frame": {
               "duration": 100,
               "redraw": true
              },
              "mode": "immediate",
              "transition": {
               "duration": 100
              }
             }
            ],
            "label": "16",
            "method": "animate"
           },
           {
            "args": [
             [
              "17"
             ],
             {
              "frame": {
               "duration": 100,
               "redraw": true
              },
              "mode": "immediate",
              "transition": {
               "duration": 100
              }
             }
            ],
            "label": "17",
            "method": "animate"
           },
           {
            "args": [
             [
              "18"
             ],
             {
              "frame": {
               "duration": 100,
               "redraw": true
              },
              "mode": "immediate",
              "transition": {
               "duration": 100
              }
             }
            ],
            "label": "18",
            "method": "animate"
           },
           {
            "args": [
             [
              "19"
             ],
             {
              "frame": {
               "duration": 100,
               "redraw": true
              },
              "mode": "immediate",
              "transition": {
               "duration": 100
              }
             }
            ],
            "label": "19",
            "method": "animate"
           },
           {
            "args": [
             [
              "20"
             ],
             {
              "frame": {
               "duration": 100,
               "redraw": true
              },
              "mode": "immediate",
              "transition": {
               "duration": 100
              }
             }
            ],
            "label": "20",
            "method": "animate"
           },
           {
            "args": [
             [
              "21"
             ],
             {
              "frame": {
               "duration": 100,
               "redraw": true
              },
              "mode": "immediate",
              "transition": {
               "duration": 100
              }
             }
            ],
            "label": "21",
            "method": "animate"
           },
           {
            "args": [
             [
              "22"
             ],
             {
              "frame": {
               "duration": 100,
               "redraw": true
              },
              "mode": "immediate",
              "transition": {
               "duration": 100
              }
             }
            ],
            "label": "22",
            "method": "animate"
           },
           {
            "args": [
             [
              "23"
             ],
             {
              "frame": {
               "duration": 100,
               "redraw": true
              },
              "mode": "immediate",
              "transition": {
               "duration": 100
              }
             }
            ],
            "label": "23",
            "method": "animate"
           },
           {
            "args": [
             [
              "24"
             ],
             {
              "frame": {
               "duration": 100,
               "redraw": true
              },
              "mode": "immediate",
              "transition": {
               "duration": 100
              }
             }
            ],
            "label": "24",
            "method": "animate"
           },
           {
            "args": [
             [
              "25"
             ],
             {
              "frame": {
               "duration": 100,
               "redraw": true
              },
              "mode": "immediate",
              "transition": {
               "duration": 100
              }
             }
            ],
            "label": "25",
            "method": "animate"
           },
           {
            "args": [
             [
              "26"
             ],
             {
              "frame": {
               "duration": 100,
               "redraw": true
              },
              "mode": "immediate",
              "transition": {
               "duration": 100
              }
             }
            ],
            "label": "26",
            "method": "animate"
           },
           {
            "args": [
             [
              "27"
             ],
             {
              "frame": {
               "duration": 100,
               "redraw": true
              },
              "mode": "immediate",
              "transition": {
               "duration": 100
              }
             }
            ],
            "label": "27",
            "method": "animate"
           },
           {
            "args": [
             [
              "28"
             ],
             {
              "frame": {
               "duration": 100,
               "redraw": true
              },
              "mode": "immediate",
              "transition": {
               "duration": 100
              }
             }
            ],
            "label": "28",
            "method": "animate"
           },
           {
            "args": [
             [
              "29"
             ],
             {
              "frame": {
               "duration": 100,
               "redraw": true
              },
              "mode": "immediate",
              "transition": {
               "duration": 100
              }
             }
            ],
            "label": "29",
            "method": "animate"
           },
           {
            "args": [
             [
              "30"
             ],
             {
              "frame": {
               "duration": 100,
               "redraw": true
              },
              "mode": "immediate",
              "transition": {
               "duration": 100
              }
             }
            ],
            "label": "30",
            "method": "animate"
           },
           {
            "args": [
             [
              "31"
             ],
             {
              "frame": {
               "duration": 100,
               "redraw": true
              },
              "mode": "immediate",
              "transition": {
               "duration": 100
              }
             }
            ],
            "label": "31",
            "method": "animate"
           },
           {
            "args": [
             [
              "32"
             ],
             {
              "frame": {
               "duration": 100,
               "redraw": true
              },
              "mode": "immediate",
              "transition": {
               "duration": 100
              }
             }
            ],
            "label": "32",
            "method": "animate"
           },
           {
            "args": [
             [
              "33"
             ],
             {
              "frame": {
               "duration": 100,
               "redraw": true
              },
              "mode": "immediate",
              "transition": {
               "duration": 100
              }
             }
            ],
            "label": "33",
            "method": "animate"
           },
           {
            "args": [
             [
              "34"
             ],
             {
              "frame": {
               "duration": 100,
               "redraw": true
              },
              "mode": "immediate",
              "transition": {
               "duration": 100
              }
             }
            ],
            "label": "34",
            "method": "animate"
           },
           {
            "args": [
             [
              "35"
             ],
             {
              "frame": {
               "duration": 100,
               "redraw": true
              },
              "mode": "immediate",
              "transition": {
               "duration": 100
              }
             }
            ],
            "label": "35",
            "method": "animate"
           },
           {
            "args": [
             [
              "36"
             ],
             {
              "frame": {
               "duration": 100,
               "redraw": true
              },
              "mode": "immediate",
              "transition": {
               "duration": 100
              }
             }
            ],
            "label": "36",
            "method": "animate"
           },
           {
            "args": [
             [
              "37"
             ],
             {
              "frame": {
               "duration": 100,
               "redraw": true
              },
              "mode": "immediate",
              "transition": {
               "duration": 100
              }
             }
            ],
            "label": "37",
            "method": "animate"
           },
           {
            "args": [
             [
              "38"
             ],
             {
              "frame": {
               "duration": 100,
               "redraw": true
              },
              "mode": "immediate",
              "transition": {
               "duration": 100
              }
             }
            ],
            "label": "38",
            "method": "animate"
           },
           {
            "args": [
             [
              "39"
             ],
             {
              "frame": {
               "duration": 100,
               "redraw": true
              },
              "mode": "immediate",
              "transition": {
               "duration": 100
              }
             }
            ],
            "label": "39",
            "method": "animate"
           },
           {
            "args": [
             [
              "40"
             ],
             {
              "frame": {
               "duration": 100,
               "redraw": true
              },
              "mode": "immediate",
              "transition": {
               "duration": 100
              }
             }
            ],
            "label": "40",
            "method": "animate"
           },
           {
            "args": [
             [
              "41"
             ],
             {
              "frame": {
               "duration": 100,
               "redraw": true
              },
              "mode": "immediate",
              "transition": {
               "duration": 100
              }
             }
            ],
            "label": "41",
            "method": "animate"
           },
           {
            "args": [
             [
              "42"
             ],
             {
              "frame": {
               "duration": 100,
               "redraw": true
              },
              "mode": "immediate",
              "transition": {
               "duration": 100
              }
             }
            ],
            "label": "42",
            "method": "animate"
           },
           {
            "args": [
             [
              "43"
             ],
             {
              "frame": {
               "duration": 100,
               "redraw": true
              },
              "mode": "immediate",
              "transition": {
               "duration": 100
              }
             }
            ],
            "label": "43",
            "method": "animate"
           },
           {
            "args": [
             [
              "44"
             ],
             {
              "frame": {
               "duration": 100,
               "redraw": true
              },
              "mode": "immediate",
              "transition": {
               "duration": 100
              }
             }
            ],
            "label": "44",
            "method": "animate"
           },
           {
            "args": [
             [
              "45"
             ],
             {
              "frame": {
               "duration": 100,
               "redraw": true
              },
              "mode": "immediate",
              "transition": {
               "duration": 100
              }
             }
            ],
            "label": "45",
            "method": "animate"
           },
           {
            "args": [
             [
              "46"
             ],
             {
              "frame": {
               "duration": 100,
               "redraw": true
              },
              "mode": "immediate",
              "transition": {
               "duration": 100
              }
             }
            ],
            "label": "46",
            "method": "animate"
           },
           {
            "args": [
             [
              "47"
             ],
             {
              "frame": {
               "duration": 100,
               "redraw": true
              },
              "mode": "immediate",
              "transition": {
               "duration": 100
              }
             }
            ],
            "label": "47",
            "method": "animate"
           },
           {
            "args": [
             [
              "48"
             ],
             {
              "frame": {
               "duration": 100,
               "redraw": true
              },
              "mode": "immediate",
              "transition": {
               "duration": 100
              }
             }
            ],
            "label": "48",
            "method": "animate"
           },
           {
            "args": [
             [
              "49"
             ],
             {
              "frame": {
               "duration": 100,
               "redraw": true
              },
              "mode": "immediate",
              "transition": {
               "duration": 100
              }
             }
            ],
            "label": "49",
            "method": "animate"
           },
           {
            "args": [
             [
              "50"
             ],
             {
              "frame": {
               "duration": 100,
               "redraw": true
              },
              "mode": "immediate",
              "transition": {
               "duration": 100
              }
             }
            ],
            "label": "50",
            "method": "animate"
           },
           {
            "args": [
             [
              "51"
             ],
             {
              "frame": {
               "duration": 100,
               "redraw": true
              },
              "mode": "immediate",
              "transition": {
               "duration": 100
              }
             }
            ],
            "label": "51",
            "method": "animate"
           },
           {
            "args": [
             [
              "52"
             ],
             {
              "frame": {
               "duration": 100,
               "redraw": true
              },
              "mode": "immediate",
              "transition": {
               "duration": 100
              }
             }
            ],
            "label": "52",
            "method": "animate"
           },
           {
            "args": [
             [
              "53"
             ],
             {
              "frame": {
               "duration": 100,
               "redraw": true
              },
              "mode": "immediate",
              "transition": {
               "duration": 100
              }
             }
            ],
            "label": "53",
            "method": "animate"
           },
           {
            "args": [
             [
              "54"
             ],
             {
              "frame": {
               "duration": 100,
               "redraw": true
              },
              "mode": "immediate",
              "transition": {
               "duration": 100
              }
             }
            ],
            "label": "54",
            "method": "animate"
           },
           {
            "args": [
             [
              "55"
             ],
             {
              "frame": {
               "duration": 100,
               "redraw": true
              },
              "mode": "immediate",
              "transition": {
               "duration": 100
              }
             }
            ],
            "label": "55",
            "method": "animate"
           },
           {
            "args": [
             [
              "56"
             ],
             {
              "frame": {
               "duration": 100,
               "redraw": true
              },
              "mode": "immediate",
              "transition": {
               "duration": 100
              }
             }
            ],
            "label": "56",
            "method": "animate"
           },
           {
            "args": [
             [
              "57"
             ],
             {
              "frame": {
               "duration": 100,
               "redraw": true
              },
              "mode": "immediate",
              "transition": {
               "duration": 100
              }
             }
            ],
            "label": "57",
            "method": "animate"
           },
           {
            "args": [
             [
              "58"
             ],
             {
              "frame": {
               "duration": 100,
               "redraw": true
              },
              "mode": "immediate",
              "transition": {
               "duration": 100
              }
             }
            ],
            "label": "58",
            "method": "animate"
           },
           {
            "args": [
             [
              "59"
             ],
             {
              "frame": {
               "duration": 100,
               "redraw": true
              },
              "mode": "immediate",
              "transition": {
               "duration": 100
              }
             }
            ],
            "label": "59",
            "method": "animate"
           },
           {
            "args": [
             [
              "60"
             ],
             {
              "frame": {
               "duration": 100,
               "redraw": true
              },
              "mode": "immediate",
              "transition": {
               "duration": 100
              }
             }
            ],
            "label": "60",
            "method": "animate"
           },
           {
            "args": [
             [
              "61"
             ],
             {
              "frame": {
               "duration": 100,
               "redraw": true
              },
              "mode": "immediate",
              "transition": {
               "duration": 100
              }
             }
            ],
            "label": "61",
            "method": "animate"
           },
           {
            "args": [
             [
              "62"
             ],
             {
              "frame": {
               "duration": 100,
               "redraw": true
              },
              "mode": "immediate",
              "transition": {
               "duration": 100
              }
             }
            ],
            "label": "62",
            "method": "animate"
           },
           {
            "args": [
             [
              "63"
             ],
             {
              "frame": {
               "duration": 100,
               "redraw": true
              },
              "mode": "immediate",
              "transition": {
               "duration": 100
              }
             }
            ],
            "label": "63",
            "method": "animate"
           },
           {
            "args": [
             [
              "64"
             ],
             {
              "frame": {
               "duration": 100,
               "redraw": true
              },
              "mode": "immediate",
              "transition": {
               "duration": 100
              }
             }
            ],
            "label": "64",
            "method": "animate"
           },
           {
            "args": [
             [
              "65"
             ],
             {
              "frame": {
               "duration": 100,
               "redraw": true
              },
              "mode": "immediate",
              "transition": {
               "duration": 100
              }
             }
            ],
            "label": "65",
            "method": "animate"
           },
           {
            "args": [
             [
              "66"
             ],
             {
              "frame": {
               "duration": 100,
               "redraw": true
              },
              "mode": "immediate",
              "transition": {
               "duration": 100
              }
             }
            ],
            "label": "66",
            "method": "animate"
           },
           {
            "args": [
             [
              "67"
             ],
             {
              "frame": {
               "duration": 100,
               "redraw": true
              },
              "mode": "immediate",
              "transition": {
               "duration": 100
              }
             }
            ],
            "label": "67",
            "method": "animate"
           },
           {
            "args": [
             [
              "68"
             ],
             {
              "frame": {
               "duration": 100,
               "redraw": true
              },
              "mode": "immediate",
              "transition": {
               "duration": 100
              }
             }
            ],
            "label": "68",
            "method": "animate"
           },
           {
            "args": [
             [
              "69"
             ],
             {
              "frame": {
               "duration": 100,
               "redraw": true
              },
              "mode": "immediate",
              "transition": {
               "duration": 100
              }
             }
            ],
            "label": "69",
            "method": "animate"
           },
           {
            "args": [
             [
              "70"
             ],
             {
              "frame": {
               "duration": 100,
               "redraw": true
              },
              "mode": "immediate",
              "transition": {
               "duration": 100
              }
             }
            ],
            "label": "70",
            "method": "animate"
           },
           {
            "args": [
             [
              "71"
             ],
             {
              "frame": {
               "duration": 100,
               "redraw": true
              },
              "mode": "immediate",
              "transition": {
               "duration": 100
              }
             }
            ],
            "label": "71",
            "method": "animate"
           },
           {
            "args": [
             [
              "72"
             ],
             {
              "frame": {
               "duration": 100,
               "redraw": true
              },
              "mode": "immediate",
              "transition": {
               "duration": 100
              }
             }
            ],
            "label": "72",
            "method": "animate"
           },
           {
            "args": [
             [
              "73"
             ],
             {
              "frame": {
               "duration": 100,
               "redraw": true
              },
              "mode": "immediate",
              "transition": {
               "duration": 100
              }
             }
            ],
            "label": "73",
            "method": "animate"
           },
           {
            "args": [
             [
              "74"
             ],
             {
              "frame": {
               "duration": 100,
               "redraw": true
              },
              "mode": "immediate",
              "transition": {
               "duration": 100
              }
             }
            ],
            "label": "74",
            "method": "animate"
           },
           {
            "args": [
             [
              "75"
             ],
             {
              "frame": {
               "duration": 100,
               "redraw": true
              },
              "mode": "immediate",
              "transition": {
               "duration": 100
              }
             }
            ],
            "label": "75",
            "method": "animate"
           },
           {
            "args": [
             [
              "76"
             ],
             {
              "frame": {
               "duration": 100,
               "redraw": true
              },
              "mode": "immediate",
              "transition": {
               "duration": 100
              }
             }
            ],
            "label": "76",
            "method": "animate"
           },
           {
            "args": [
             [
              "77"
             ],
             {
              "frame": {
               "duration": 100,
               "redraw": true
              },
              "mode": "immediate",
              "transition": {
               "duration": 100
              }
             }
            ],
            "label": "77",
            "method": "animate"
           },
           {
            "args": [
             [
              "78"
             ],
             {
              "frame": {
               "duration": 100,
               "redraw": true
              },
              "mode": "immediate",
              "transition": {
               "duration": 100
              }
             }
            ],
            "label": "78",
            "method": "animate"
           },
           {
            "args": [
             [
              "79"
             ],
             {
              "frame": {
               "duration": 100,
               "redraw": true
              },
              "mode": "immediate",
              "transition": {
               "duration": 100
              }
             }
            ],
            "label": "79",
            "method": "animate"
           },
           {
            "args": [
             [
              "80"
             ],
             {
              "frame": {
               "duration": 100,
               "redraw": true
              },
              "mode": "immediate",
              "transition": {
               "duration": 100
              }
             }
            ],
            "label": "80",
            "method": "animate"
           },
           {
            "args": [
             [
              "81"
             ],
             {
              "frame": {
               "duration": 100,
               "redraw": true
              },
              "mode": "immediate",
              "transition": {
               "duration": 100
              }
             }
            ],
            "label": "81",
            "method": "animate"
           },
           {
            "args": [
             [
              "82"
             ],
             {
              "frame": {
               "duration": 100,
               "redraw": true
              },
              "mode": "immediate",
              "transition": {
               "duration": 100
              }
             }
            ],
            "label": "82",
            "method": "animate"
           },
           {
            "args": [
             [
              "83"
             ],
             {
              "frame": {
               "duration": 100,
               "redraw": true
              },
              "mode": "immediate",
              "transition": {
               "duration": 100
              }
             }
            ],
            "label": "83",
            "method": "animate"
           },
           {
            "args": [
             [
              "84"
             ],
             {
              "frame": {
               "duration": 100,
               "redraw": true
              },
              "mode": "immediate",
              "transition": {
               "duration": 100
              }
             }
            ],
            "label": "84",
            "method": "animate"
           },
           {
            "args": [
             [
              "85"
             ],
             {
              "frame": {
               "duration": 100,
               "redraw": true
              },
              "mode": "immediate",
              "transition": {
               "duration": 100
              }
             }
            ],
            "label": "85",
            "method": "animate"
           },
           {
            "args": [
             [
              "86"
             ],
             {
              "frame": {
               "duration": 100,
               "redraw": true
              },
              "mode": "immediate",
              "transition": {
               "duration": 100
              }
             }
            ],
            "label": "86",
            "method": "animate"
           },
           {
            "args": [
             [
              "87"
             ],
             {
              "frame": {
               "duration": 100,
               "redraw": true
              },
              "mode": "immediate",
              "transition": {
               "duration": 100
              }
             }
            ],
            "label": "87",
            "method": "animate"
           },
           {
            "args": [
             [
              "88"
             ],
             {
              "frame": {
               "duration": 100,
               "redraw": true
              },
              "mode": "immediate",
              "transition": {
               "duration": 100
              }
             }
            ],
            "label": "88",
            "method": "animate"
           },
           {
            "args": [
             [
              "89"
             ],
             {
              "frame": {
               "duration": 100,
               "redraw": true
              },
              "mode": "immediate",
              "transition": {
               "duration": 100
              }
             }
            ],
            "label": "89",
            "method": "animate"
           },
           {
            "args": [
             [
              "90"
             ],
             {
              "frame": {
               "duration": 100,
               "redraw": true
              },
              "mode": "immediate",
              "transition": {
               "duration": 100
              }
             }
            ],
            "label": "90",
            "method": "animate"
           },
           {
            "args": [
             [
              "91"
             ],
             {
              "frame": {
               "duration": 100,
               "redraw": true
              },
              "mode": "immediate",
              "transition": {
               "duration": 100
              }
             }
            ],
            "label": "91",
            "method": "animate"
           },
           {
            "args": [
             [
              "92"
             ],
             {
              "frame": {
               "duration": 100,
               "redraw": true
              },
              "mode": "immediate",
              "transition": {
               "duration": 100
              }
             }
            ],
            "label": "92",
            "method": "animate"
           },
           {
            "args": [
             [
              "93"
             ],
             {
              "frame": {
               "duration": 100,
               "redraw": true
              },
              "mode": "immediate",
              "transition": {
               "duration": 100
              }
             }
            ],
            "label": "93",
            "method": "animate"
           },
           {
            "args": [
             [
              "94"
             ],
             {
              "frame": {
               "duration": 100,
               "redraw": true
              },
              "mode": "immediate",
              "transition": {
               "duration": 100
              }
             }
            ],
            "label": "94",
            "method": "animate"
           },
           {
            "args": [
             [
              "95"
             ],
             {
              "frame": {
               "duration": 100,
               "redraw": true
              },
              "mode": "immediate",
              "transition": {
               "duration": 100
              }
             }
            ],
            "label": "95",
            "method": "animate"
           },
           {
            "args": [
             [
              "96"
             ],
             {
              "frame": {
               "duration": 100,
               "redraw": true
              },
              "mode": "immediate",
              "transition": {
               "duration": 100
              }
             }
            ],
            "label": "96",
            "method": "animate"
           },
           {
            "args": [
             [
              "97"
             ],
             {
              "frame": {
               "duration": 100,
               "redraw": true
              },
              "mode": "immediate",
              "transition": {
               "duration": 100
              }
             }
            ],
            "label": "97",
            "method": "animate"
           },
           {
            "args": [
             [
              "98"
             ],
             {
              "frame": {
               "duration": 100,
               "redraw": true
              },
              "mode": "immediate",
              "transition": {
               "duration": 100
              }
             }
            ],
            "label": "98",
            "method": "animate"
           },
           {
            "args": [
             [
              "99"
             ],
             {
              "frame": {
               "duration": 100,
               "redraw": true
              },
              "mode": "immediate",
              "transition": {
               "duration": 100
              }
             }
            ],
            "label": "99",
            "method": "animate"
           },
           {
            "args": [
             [
              "100"
             ],
             {
              "frame": {
               "duration": 100,
               "redraw": true
              },
              "mode": "immediate",
              "transition": {
               "duration": 100
              }
             }
            ],
            "label": "100",
            "method": "animate"
           }
          ],
          "transition": {
           "duration": 100
          },
          "x": 0.1,
          "xanchor": "left",
          "y": 0,
          "yanchor": "top"
         }
        ],
        "template": {
         "data": {
          "bar": [
           {
            "error_x": {
             "color": "#2a3f5f"
            },
            "error_y": {
             "color": "#2a3f5f"
            },
            "marker": {
             "line": {
              "color": "#E5ECF6",
              "width": 0.5
             },
             "pattern": {
              "fillmode": "overlay",
              "size": 10,
              "solidity": 0.2
             }
            },
            "type": "bar"
           }
          ],
          "barpolar": [
           {
            "marker": {
             "line": {
              "color": "#E5ECF6",
              "width": 0.5
             },
             "pattern": {
              "fillmode": "overlay",
              "size": 10,
              "solidity": 0.2
             }
            },
            "type": "barpolar"
           }
          ],
          "carpet": [
           {
            "aaxis": {
             "endlinecolor": "#2a3f5f",
             "gridcolor": "white",
             "linecolor": "white",
             "minorgridcolor": "white",
             "startlinecolor": "#2a3f5f"
            },
            "baxis": {
             "endlinecolor": "#2a3f5f",
             "gridcolor": "white",
             "linecolor": "white",
             "minorgridcolor": "white",
             "startlinecolor": "#2a3f5f"
            },
            "type": "carpet"
           }
          ],
          "choropleth": [
           {
            "colorbar": {
             "outlinewidth": 0,
             "ticks": ""
            },
            "type": "choropleth"
           }
          ],
          "contour": [
           {
            "colorbar": {
             "outlinewidth": 0,
             "ticks": ""
            },
            "colorscale": [
             [
              0,
              "#0d0887"
             ],
             [
              0.1111111111111111,
              "#46039f"
             ],
             [
              0.2222222222222222,
              "#7201a8"
             ],
             [
              0.3333333333333333,
              "#9c179e"
             ],
             [
              0.4444444444444444,
              "#bd3786"
             ],
             [
              0.5555555555555556,
              "#d8576b"
             ],
             [
              0.6666666666666666,
              "#ed7953"
             ],
             [
              0.7777777777777778,
              "#fb9f3a"
             ],
             [
              0.8888888888888888,
              "#fdca26"
             ],
             [
              1,
              "#f0f921"
             ]
            ],
            "type": "contour"
           }
          ],
          "contourcarpet": [
           {
            "colorbar": {
             "outlinewidth": 0,
             "ticks": ""
            },
            "type": "contourcarpet"
           }
          ],
          "heatmap": [
           {
            "colorbar": {
             "outlinewidth": 0,
             "ticks": ""
            },
            "colorscale": [
             [
              0,
              "#0d0887"
             ],
             [
              0.1111111111111111,
              "#46039f"
             ],
             [
              0.2222222222222222,
              "#7201a8"
             ],
             [
              0.3333333333333333,
              "#9c179e"
             ],
             [
              0.4444444444444444,
              "#bd3786"
             ],
             [
              0.5555555555555556,
              "#d8576b"
             ],
             [
              0.6666666666666666,
              "#ed7953"
             ],
             [
              0.7777777777777778,
              "#fb9f3a"
             ],
             [
              0.8888888888888888,
              "#fdca26"
             ],
             [
              1,
              "#f0f921"
             ]
            ],
            "type": "heatmap"
           }
          ],
          "histogram": [
           {
            "marker": {
             "pattern": {
              "fillmode": "overlay",
              "size": 10,
              "solidity": 0.2
             }
            },
            "type": "histogram"
           }
          ],
          "histogram2d": [
           {
            "colorbar": {
             "outlinewidth": 0,
             "ticks": ""
            },
            "colorscale": [
             [
              0,
              "#0d0887"
             ],
             [
              0.1111111111111111,
              "#46039f"
             ],
             [
              0.2222222222222222,
              "#7201a8"
             ],
             [
              0.3333333333333333,
              "#9c179e"
             ],
             [
              0.4444444444444444,
              "#bd3786"
             ],
             [
              0.5555555555555556,
              "#d8576b"
             ],
             [
              0.6666666666666666,
              "#ed7953"
             ],
             [
              0.7777777777777778,
              "#fb9f3a"
             ],
             [
              0.8888888888888888,
              "#fdca26"
             ],
             [
              1,
              "#f0f921"
             ]
            ],
            "type": "histogram2d"
           }
          ],
          "histogram2dcontour": [
           {
            "colorbar": {
             "outlinewidth": 0,
             "ticks": ""
            },
            "colorscale": [
             [
              0,
              "#0d0887"
             ],
             [
              0.1111111111111111,
              "#46039f"
             ],
             [
              0.2222222222222222,
              "#7201a8"
             ],
             [
              0.3333333333333333,
              "#9c179e"
             ],
             [
              0.4444444444444444,
              "#bd3786"
             ],
             [
              0.5555555555555556,
              "#d8576b"
             ],
             [
              0.6666666666666666,
              "#ed7953"
             ],
             [
              0.7777777777777778,
              "#fb9f3a"
             ],
             [
              0.8888888888888888,
              "#fdca26"
             ],
             [
              1,
              "#f0f921"
             ]
            ],
            "type": "histogram2dcontour"
           }
          ],
          "mesh3d": [
           {
            "colorbar": {
             "outlinewidth": 0,
             "ticks": ""
            },
            "type": "mesh3d"
           }
          ],
          "parcoords": [
           {
            "line": {
             "colorbar": {
              "outlinewidth": 0,
              "ticks": ""
             }
            },
            "type": "parcoords"
           }
          ],
          "pie": [
           {
            "automargin": true,
            "type": "pie"
           }
          ],
          "scatter": [
           {
            "fillpattern": {
             "fillmode": "overlay",
             "size": 10,
             "solidity": 0.2
            },
            "type": "scatter"
           }
          ],
          "scatter3d": [
           {
            "line": {
             "colorbar": {
              "outlinewidth": 0,
              "ticks": ""
             }
            },
            "marker": {
             "colorbar": {
              "outlinewidth": 0,
              "ticks": ""
             }
            },
            "type": "scatter3d"
           }
          ],
          "scattercarpet": [
           {
            "marker": {
             "colorbar": {
              "outlinewidth": 0,
              "ticks": ""
             }
            },
            "type": "scattercarpet"
           }
          ],
          "scattergeo": [
           {
            "marker": {
             "colorbar": {
              "outlinewidth": 0,
              "ticks": ""
             }
            },
            "type": "scattergeo"
           }
          ],
          "scattergl": [
           {
            "marker": {
             "colorbar": {
              "outlinewidth": 0,
              "ticks": ""
             }
            },
            "type": "scattergl"
           }
          ],
          "scattermap": [
           {
            "marker": {
             "colorbar": {
              "outlinewidth": 0,
              "ticks": ""
             }
            },
            "type": "scattermap"
           }
          ],
          "scattermapbox": [
           {
            "marker": {
             "colorbar": {
              "outlinewidth": 0,
              "ticks": ""
             }
            },
            "type": "scattermapbox"
           }
          ],
          "scatterpolar": [
           {
            "marker": {
             "colorbar": {
              "outlinewidth": 0,
              "ticks": ""
             }
            },
            "type": "scatterpolar"
           }
          ],
          "scatterpolargl": [
           {
            "marker": {
             "colorbar": {
              "outlinewidth": 0,
              "ticks": ""
             }
            },
            "type": "scatterpolargl"
           }
          ],
          "scatterternary": [
           {
            "marker": {
             "colorbar": {
              "outlinewidth": 0,
              "ticks": ""
             }
            },
            "type": "scatterternary"
           }
          ],
          "surface": [
           {
            "colorbar": {
             "outlinewidth": 0,
             "ticks": ""
            },
            "colorscale": [
             [
              0,
              "#0d0887"
             ],
             [
              0.1111111111111111,
              "#46039f"
             ],
             [
              0.2222222222222222,
              "#7201a8"
             ],
             [
              0.3333333333333333,
              "#9c179e"
             ],
             [
              0.4444444444444444,
              "#bd3786"
             ],
             [
              0.5555555555555556,
              "#d8576b"
             ],
             [
              0.6666666666666666,
              "#ed7953"
             ],
             [
              0.7777777777777778,
              "#fb9f3a"
             ],
             [
              0.8888888888888888,
              "#fdca26"
             ],
             [
              1,
              "#f0f921"
             ]
            ],
            "type": "surface"
           }
          ],
          "table": [
           {
            "cells": {
             "fill": {
              "color": "#EBF0F8"
             },
             "line": {
              "color": "white"
             }
            },
            "header": {
             "fill": {
              "color": "#C8D4E3"
             },
             "line": {
              "color": "white"
             }
            },
            "type": "table"
           }
          ]
         },
         "layout": {
          "annotationdefaults": {
           "arrowcolor": "#2a3f5f",
           "arrowhead": 0,
           "arrowwidth": 1
          },
          "autotypenumbers": "strict",
          "coloraxis": {
           "colorbar": {
            "outlinewidth": 0,
            "ticks": ""
           }
          },
          "colorscale": {
           "diverging": [
            [
             0,
             "#8e0152"
            ],
            [
             0.1,
             "#c51b7d"
            ],
            [
             0.2,
             "#de77ae"
            ],
            [
             0.3,
             "#f1b6da"
            ],
            [
             0.4,
             "#fde0ef"
            ],
            [
             0.5,
             "#f7f7f7"
            ],
            [
             0.6,
             "#e6f5d0"
            ],
            [
             0.7,
             "#b8e186"
            ],
            [
             0.8,
             "#7fbc41"
            ],
            [
             0.9,
             "#4d9221"
            ],
            [
             1,
             "#276419"
            ]
           ],
           "sequential": [
            [
             0,
             "#0d0887"
            ],
            [
             0.1111111111111111,
             "#46039f"
            ],
            [
             0.2222222222222222,
             "#7201a8"
            ],
            [
             0.3333333333333333,
             "#9c179e"
            ],
            [
             0.4444444444444444,
             "#bd3786"
            ],
            [
             0.5555555555555556,
             "#d8576b"
            ],
            [
             0.6666666666666666,
             "#ed7953"
            ],
            [
             0.7777777777777778,
             "#fb9f3a"
            ],
            [
             0.8888888888888888,
             "#fdca26"
            ],
            [
             1,
             "#f0f921"
            ]
           ],
           "sequentialminus": [
            [
             0,
             "#0d0887"
            ],
            [
             0.1111111111111111,
             "#46039f"
            ],
            [
             0.2222222222222222,
             "#7201a8"
            ],
            [
             0.3333333333333333,
             "#9c179e"
            ],
            [
             0.4444444444444444,
             "#bd3786"
            ],
            [
             0.5555555555555556,
             "#d8576b"
            ],
            [
             0.6666666666666666,
             "#ed7953"
            ],
            [
             0.7777777777777778,
             "#fb9f3a"
            ],
            [
             0.8888888888888888,
             "#fdca26"
            ],
            [
             1,
             "#f0f921"
            ]
           ]
          },
          "colorway": [
           "#636efa",
           "#EF553B",
           "#00cc96",
           "#ab63fa",
           "#FFA15A",
           "#19d3f3",
           "#FF6692",
           "#B6E880",
           "#FF97FF",
           "#FECB52"
          ],
          "font": {
           "color": "#2a3f5f"
          },
          "geo": {
           "bgcolor": "white",
           "lakecolor": "white",
           "landcolor": "#E5ECF6",
           "showlakes": true,
           "showland": true,
           "subunitcolor": "white"
          },
          "hoverlabel": {
           "align": "left"
          },
          "hovermode": "closest",
          "mapbox": {
           "style": "light"
          },
          "paper_bgcolor": "white",
          "plot_bgcolor": "#E5ECF6",
          "polar": {
           "angularaxis": {
            "gridcolor": "white",
            "linecolor": "white",
            "ticks": ""
           },
           "bgcolor": "#E5ECF6",
           "radialaxis": {
            "gridcolor": "white",
            "linecolor": "white",
            "ticks": ""
           }
          },
          "scene": {
           "xaxis": {
            "backgroundcolor": "#E5ECF6",
            "gridcolor": "white",
            "gridwidth": 2,
            "linecolor": "white",
            "showbackground": true,
            "ticks": "",
            "zerolinecolor": "white"
           },
           "yaxis": {
            "backgroundcolor": "#E5ECF6",
            "gridcolor": "white",
            "gridwidth": 2,
            "linecolor": "white",
            "showbackground": true,
            "ticks": "",
            "zerolinecolor": "white"
           },
           "zaxis": {
            "backgroundcolor": "#E5ECF6",
            "gridcolor": "white",
            "gridwidth": 2,
            "linecolor": "white",
            "showbackground": true,
            "ticks": "",
            "zerolinecolor": "white"
           }
          },
          "shapedefaults": {
           "line": {
            "color": "#2a3f5f"
           }
          },
          "ternary": {
           "aaxis": {
            "gridcolor": "white",
            "linecolor": "white",
            "ticks": ""
           },
           "baxis": {
            "gridcolor": "white",
            "linecolor": "white",
            "ticks": ""
           },
           "bgcolor": "#E5ECF6",
           "caxis": {
            "gridcolor": "white",
            "linecolor": "white",
            "ticks": ""
           }
          },
          "title": {
           "x": 0.05
          },
          "xaxis": {
           "automargin": true,
           "gridcolor": "white",
           "linecolor": "white",
           "ticks": "",
           "title": {
            "standoff": 15
           },
           "zerolinecolor": "white",
           "zerolinewidth": 2
          },
          "yaxis": {
           "automargin": true,
           "gridcolor": "white",
           "linecolor": "white",
           "ticks": "",
           "title": {
            "standoff": 15
           },
           "zerolinecolor": "white",
           "zerolinewidth": 2
          }
         }
        },
        "title": {
         "text": "Ising Model at T = 2.10, Frame 0"
        },
        "updatemenus": [
         {
          "buttons": [
           {
            "args": [
             null,
             {
              "frame": {
               "duration": 100,
               "redraw": true
              },
              "fromcurrent": true
             }
            ],
            "label": "Play",
            "method": "animate"
           },
           {
            "args": [
             [
              null
             ],
             {
              "frame": {
               "duration": 0,
               "redraw": false
              },
              "mode": "immediate"
             }
            ],
            "label": "Pause",
            "method": "animate"
           }
          ],
          "direction": "left",
          "pad": {
           "r": 10,
           "t": 10
          },
          "showactive": false,
          "type": "buttons",
          "x": 0.1,
          "xanchor": "right",
          "y": 0,
          "yanchor": "top"
         }
        ],
        "width": 700
       }
      }
     },
     "metadata": {},
     "output_type": "display_data"
    },
    {
     "name": "stdout",
     "output_type": "stream",
     "text": [
      "Simulating T = 1.50 K\n",
      "T = 1.50 K, E = -7992.084 eV/spin, |M| = 0.986, C = 0.198\n",
      "Simulating T = 1.60 K\n",
      "T = 1.60 K, E = -7897.849 eV/spin, |M| = 0.980, C = 0.258\n",
      "Simulating T = 1.70 K\n",
      "T = 1.70 K, E = -7773.970 eV/spin, |M| = 0.970, C = 0.347\n",
      "Simulating T = 1.80 K\n",
      "T = 1.80 K, E = -7617.409 eV/spin, |M| = 0.942, C = 0.442\n",
      "Simulating T = 1.90 K\n",
      "T = 1.90 K, E = -7410.524 eV/spin, |M| = 0.938, C = 0.556\n",
      "Simulating T = 2.00 K\n",
      "T = 2.00 K, E = -7152.215 eV/spin, |M| = 0.912, C = 0.718\n",
      "Simulating T = 2.10 K\n",
      "T = 2.10 K, E = -6817.687 eV/spin, |M| = 0.700, C = 0.922\n",
      "Simulating T = 2.20 K\n",
      "T = 2.20 K, E = -6338.014 eV/spin, |M| = 0.709, C = 1.348\n",
      "Simulating T = 2.30 K\n",
      "T = 2.30 K, E = -5559.019 eV/spin, |M| = 0.483, C = 2.168\n",
      "Simulating T = 2.40 K\n",
      "T = 2.40 K, E = -4929.058 eV/spin, |M| = 0.142, C = 1.184\n",
      "Simulating T = 2.50 K\n",
      "T = 2.50 K, E = -4527.733 eV/spin, |M| = 0.116, C = 0.866\n",
      "Simulating T = 2.60 K\n",
      "T = 2.60 K, E = -4208.385 eV/spin, |M| = 0.080, C = 0.732\n",
      "Simulating T = 2.70 K\n",
      "T = 2.70 K, E = -3954.581 eV/spin, |M| = 0.058, C = 0.631\n",
      "Simulating T = 2.80 K\n",
      "T = 2.80 K, E = -3716.485 eV/spin, |M| = 0.052, C = 0.506\n",
      "Simulating T = 2.90 K\n",
      "T = 2.90 K, E = -3521.308 eV/spin, |M| = 0.048, C = 0.454\n",
      "Simulating T = 3.00 K\n",
      "T = 3.00 K, E = -3351.360 eV/spin, |M| = 0.043, C = 0.409\n",
      "Simulating T = 3.10 K\n",
      "T = 3.10 K, E = -3191.404 eV/spin, |M| = 0.040, C = 0.375\n",
      "Simulating T = 3.20 K\n",
      "T = 3.20 K, E = -3053.387 eV/spin, |M| = 0.036, C = 0.322\n",
      "Simulating T = 3.30 K\n",
      "T = 3.30 K, E = -2927.730 eV/spin, |M| = 0.035, C = 0.300\n",
      "Simulating T = 3.40 K\n",
      "T = 3.40 K, E = -2812.926 eV/spin, |M| = 0.031, C = 0.271\n",
      "Simulating T = 3.50 K\n",
      "T = 3.50 K, E = -2706.668 eV/spin, |M| = 0.031, C = 0.248\n"
     ]
    },
    {
     "data": {
      "image/png": "[encoded data removed]",
      "text/plain": [
       "<Figure size 1800x500 with 3 Axes>"
      ]
     },
     "metadata": {},
     "output_type": "display_data"
    },
    {
     "data": {
      "text/plain": [
       "(array([1.5, 1.6, 1.7, 1.8, 1.9, 2. , 2.1, 2.2, 2.3, 2.4, 2.5, 2.6, 2.7,\n",
       "        2.8, 2.9, 3. , 3.1, 3.2, 3.3, 3.4, 3.5]),\n",
       " [0.98644365234375,\n",
       "  0.979540478515625,\n",
       "  0.9702671875,\n",
       "  0.94246650390625,\n",
       "  0.938353564453125,\n",
       "  0.911546142578125,\n",
       "  0.700337451171875,\n",
       "  0.708797705078125,\n",
       "  0.482557373046875,\n",
       "  0.141636279296875,\n",
       "  0.115818505859375,\n",
       "  0.080205859375,\n",
       "  0.058296337890625,\n",
       "  0.051948876953125,\n",
       "  0.0482072265625,\n",
       "  0.043180322265625,\n",
       "  0.039861376953125,\n",
       "  0.0363427734375,\n",
       "  0.03476875,\n",
       "  0.03074345703125,\n",
       "  0.031267431640625],\n",
       " [-1.9508822265625,\n",
       "  -1.92791875,\n",
       "  -1.89853173828125,\n",
       "  -1.85561796875,\n",
       "  -1.8096216796875,\n",
       "  -1.74581767578125,\n",
       "  -1.63452236328125,\n",
       "  -1.5339140625,\n",
       "  -1.36590595703125,\n",
       "  -1.203241796875,\n",
       "  -1.10629013671875,\n",
       "  -1.0276837890625,\n",
       "  -0.9644478515625,\n",
       "  -0.9096236328125,\n",
       "  -0.859937890625,\n",
       "  -0.81811650390625,\n",
       "  -0.7796388671875,\n",
       "  -0.745257421875,\n",
       "  -0.71339111328125,\n",
       "  -0.6859888671875,\n",
       "  -0.65999013671875],\n",
       " [0.19828691526021833,\n",
       "  0.2580019701539982,\n",
       "  0.34696494544748296,\n",
       "  0.44226488318633567,\n",
       "  0.555639513493039,\n",
       "  0.7181437659282892,\n",
       "  0.9220931380296034,\n",
       "  1.3475529343278958,\n",
       "  2.1682049916632677,\n",
       "  1.1840459118313145,\n",
       "  0.8661814069439426,\n",
       "  0.7321734157210155,\n",
       "  0.630708530473014,\n",
       "  0.5062224899902225,\n",
       "  0.45435476571324945,\n",
       "  0.4090379045095081,\n",
       "  0.3751205080929618,\n",
       "  0.3222574347534035,\n",
       "  0.29975630963038646,\n",
       "  0.2708606097399487,\n",
       "  0.24794073481820192])"
      ]
     },
     "execution_count": 3,
     "metadata": {},
     "output_type": "execute_result"
    }
   ],
   "source": [
    "import numpy as np\n",
    "import matplotlib.pyplot as plt\n",
    "from numba import njit\n",
    "\n",
    "@njit\n",
    "def initial_state(N):\n",
    "    \"\"\"\n",
    "    Generate an N x N lattice with spins ±1.\n",
    "    For better compatibility with Numba, using explicit array creation\n",
    "    instead of relying on random.randint with subtraction.\n",
    "    \"\"\"\n",
    "    config = np.empty((N, N), dtype=np.int64)\n",
    "    for i in range(N):\n",
    "        for j in range(N):\n",
    "            # Randomly assign -1 or 1\n",
    "            config[i, j] = 1 if np.random.random() < 0.5 else -1\n",
    "    return config\n",
    "\n",
    "def create_neighbor_list(N):\n",
    "    \"\"\"\n",
    "    Create a neighbor list for each spin in the lattice.\n",
    "    \"\"\"\n",
    "    neighbor_list = {}\n",
    "    for i in range(N):\n",
    "        for j in range(N):\n",
    "            neighbors = [\n",
    "                ((i+1) % N, j),\n",
    "                ((i-1) % N, j),\n",
    "                (i, (j+1) % N),\n",
    "                (i, (j-1) % N)\n",
    "            ]\n",
    "            neighbor_list[(i, j)] = neighbors\n",
    "    return neighbor_list\n",
    "\n",
    "@njit\n",
    "def mc_step(config, beta):\n",
    "    \"\"\"\n",
    "    Perform one Monte Carlo sweep using the Metropolis algorithm.\n",
    "    One sweep means N*N spin update attempts.\n",
    "    \n",
    "    Parameters:\n",
    "      config: 2D numpy array of spins\n",
    "      beta: 1/T (temperature inverse in natural units, with J=kB=1)\n",
    "      neighbor_list: Dictionary of neighbors for each site (ignored in this implementation)\n",
    "    Returns:\n",
    "      Updated spin configuration.\n",
    "    \"\"\"\n",
    "    N = config.shape[0]\n",
    "    for _ in range(N*N):\n",
    "        # Generate random coordinates for spin flip attempt\n",
    "        i = np.random.randint(0, N)\n",
    "        j = np.random.randint(0, N)\n",
    "        s = config[i, j]\n",
    "        \n",
    "        # Calculate energy difference directly from neighbors\n",
    "        nb_sum = 0\n",
    "        nb_sum += config[(i+1) % N, j]\n",
    "        nb_sum += config[(i-1) % N, j]\n",
    "        nb_sum += config[i, (j+1) % N]\n",
    "        nb_sum += config[i, (j-1) % N]\n",
    "        \n",
    "        # Energy change if we flip this spin\n",
    "        dE = 2 * s * nb_sum\n",
    "        \n",
    "        # Metropolis acceptance criterion\n",
    "        if dE <= 0 or np.random.random() < np.exp(-beta * dE):\n",
    "            config[i, j] = -s\n",
    "    \n",
    "    return config\n",
    "\n",
    "@njit\n",
    "def calc_energy(config, J=1):\n",
    "    \"\"\"\n",
    "    Calculate the total energy of the configuration.\n",
    "    \n",
    "    Hamiltonian: H = -J Σ_{<ij>} s_i s_j with J=1.\n",
    "    Each neighbor pair is counted twice so we divide by 2.\n",
    "    \"\"\"\n",
    "    N = config.shape[0]\n",
    "    energy = 0\n",
    "    for i in range(N):\n",
    "        for j in range(N):\n",
    "            S = config[i, j]\n",
    "            # Calculate contribution from neighbors directly\n",
    "            nb_sum = config[(i+1) % N, j] + config[(i-1) % N, j] + config[i, (j+1) % N] + config[i, (j-1) % N]\n",
    "            energy += -S * J * nb_sum\n",
    "    return energy / 2.0\n",
    "\n",
    "@njit\n",
    "def calc_magnetization(config):\n",
    "    \"\"\"\n",
    "    Calculate the magnetization of the configuration.\n",
    "    \n",
    "    Magnetization: M = Σ s_i\n",
    "    \"\"\"\n",
    "    return np.sum(config)\n",
    "\n",
    "@njit\n",
    "def run_simulation(N, T, n_equil, n_steps):\n",
    "    \"\"\"\n",
    "    Run a simulation at a specific temperature and return results\n",
    "    \"\"\"\n",
    "    beta = 1.0 / T\n",
    "    config = initial_state(N)\n",
    "    \n",
    "    # Equilibration\n",
    "    for _ in range(n_equil):\n",
    "        config = mc_step(config, beta)\n",
    "    \n",
    "    # Measurement\n",
    "    E_total = 0.0\n",
    "    M_total = 0.0\n",
    "    configs = np.zeros((n_steps//100 + 1, N, N), dtype=np.int64)\n",
    "    configs[0] = config.copy()\n",
    "    \n",
    "    save_idx = 1\n",
    "    for step in range(n_steps):\n",
    "        config = mc_step(config, beta)\n",
    "        E_total += calc_energy(config)\n",
    "        M_total += abs(calc_magnetization(config))\n",
    "        \n",
    "        if step % 100 == 0 and save_idx < len(configs):\n",
    "            configs[save_idx] = config.copy()\n",
    "            save_idx += 1\n",
    "            \n",
    "    E_avg = E_total / (n_steps * N * N)\n",
    "    M_avg = M_total / (n_steps * N * N)\n",
    "    \n",
    "    return E_avg, M_avg, configs\n",
    "\n",
    "# Function to create animation\n",
    "def create_ising_animation(N=64, T=2.27, n_equil=1000, n_steps=10000):\n",
    "    import plotly.graph_objects as go\n",
    "    \n",
    "    _, _, configs = run_simulation(N, T, n_equil, n_steps)\n",
    "    \n",
    "    # Create initial figure\n",
    "    fig = go.Figure(\n",
    "        data=go.Heatmap(\n",
    "            z=configs[0],\n",
    "            colorscale='RdBu',  # Red-Blue colorscale similar to coolwarm\n",
    "            showscale=True,\n",
    "            colorbar=dict(title='Spin'),\n",
    "            zmin=-1, zmax=1\n",
    "        ),\n",
    "        layout=go.Layout(\n",
    "            title=f'Ising Model at T = {T:.2f}, Frame 0',\n",
    "            width=700, height=700,\n",
    "            updatemenus=[{\n",
    "                'type': 'buttons',\n",
    "                'buttons': [{\n",
    "                    'label': 'Play',\n",
    "                    'method': 'animate',\n",
    "                    'args': [None, {'frame': {'duration': 100, 'redraw': True}, 'fromcurrent': True}]\n",
    "                }, {\n",
    "                    'label': 'Pause',\n",
    "                    'method': 'animate',\n",
    "                    'args': [[None], {'frame': {'duration': 0, 'redraw': False}, 'mode': 'immediate'}]\n",
    "                }],\n",
    "                'direction': 'left',\n",
    "                'pad': {'r': 10, 't': 10},\n",
    "                'showactive': False,\n",
    "                'x': 0.1,\n",
    "                'y': 0,\n",
    "                'xanchor': 'right',\n",
    "                'yanchor': 'top'\n",
    "            }],\n",
    "            sliders=[{\n",
    "                'active': 0,\n",
    "                'yanchor': 'top',\n",
    "                'xanchor': 'left',\n",
    "                'currentvalue': {\n",
    "                    'visible': True,\n",
    "                    'prefix': 'Frame: ',\n",
    "                    'xanchor': 'right'\n",
    "                },\n",
    "                'transition': {'duration': 100},\n",
    "                'pad': {'b': 10, 't': 50},\n",
    "                'len': 0.9,\n",
    "                'x': 0.1,\n",
    "                'y': 0,\n",
    "                'steps': [{\n",
    "                    'method': 'animate',\n",
    "                    'label': str(i),\n",
    "                    'args': [[str(i)], {\n",
    "                        'frame': {'duration': 100, 'redraw': True},\n",
    "                        'mode': 'immediate',\n",
    "                        'transition': {'duration': 100}\n",
    "                    }]\n",
    "                } for i in range(len(configs))]\n",
    "            }]\n",
    "        ),\n",
    "        frames=[go.Frame(\n",
    "                data=[go.Heatmap(z=configs[i])],\n",
    "                name=str(i),\n",
    "                layout=go.Layout(title_text=f'Ising Model at T = {T:.2f}, Frame {i}')\n",
    "            ) for i in range(len(configs))\n",
    "        ]\n",
    "    )\n",
    "    \n",
    "    return fig\n",
    "\n",
    "# Function to run full simulation with temperature sweep\n",
    "def run_ising_simulation(N=64, temps=None, n_equil=1000, n_steps=10000):\n",
    "    if temps is None:\n",
    "        temps = np.linspace(1.5, 3.5, 21)\n",
    "    \n",
    "    magnetizations = []\n",
    "    energies = []\n",
    "    specific_heats = []\n",
    "    \n",
    "    for T in temps:\n",
    "        print(f\"Simulating T = {T:.2f} K\")\n",
    "        E_avg, M_avg, configs = run_simulation(N, T, n_equil, n_steps)\n",
    "        energies.append(E_avg)\n",
    "        magnetizations.append(M_avg)\n",
    "        \n",
    "        # Calculate energy fluctuations for specific heat\n",
    "        # Need to run an additional loop to collect E^2 samples\n",
    "        beta = 1.0 / T\n",
    "        config = configs[-1].copy()  # Use the last config as starting point\n",
    "        E_total = 0.0\n",
    "        E_squared_total = 0.0\n",
    "        \n",
    "        for _ in range(n_steps):\n",
    "            config = mc_step(config, beta)\n",
    "            E = calc_energy(config)\n",
    "            E_total += E\n",
    "            E_squared_total += E**2\n",
    "            \n",
    "        E_avg = E_total / n_steps\n",
    "        E_squared_avg = E_squared_total / n_steps\n",
    "        # Specific heat: C = (β^2 / N^2) * (<E^2> - <E>^2)\n",
    "        C = (beta**2) * (E_squared_avg - E_avg**2) / (N**2)\n",
    "        specific_heats.append(C)\n",
    "        \n",
    "        print(f\"T = {T:.2f} K, E = {E_avg:.3f} eV/spin, |M| = {M_avg:.3f}, C = {C:.3f}\")\n",
    "        \n",
    "    # Create plot with 3 panels\n",
    "    fig, (ax_mag, ax_eng, ax_heat) = plt.subplots(1, 3, figsize=(18, 5))\n",
    "    \n",
    "    ax_mag.plot(temps, magnetizations, 'o-', label='|M| per spin')\n",
    "    ax_mag.set_xlabel('Temperature T')\n",
    "    ax_mag.set_ylabel('Average Magnetization per Spin')\n",
    "    ax_mag.set_title('Magnetization vs Temperature')\n",
    "    ax_mag.set_xlim(temps[0], temps[-1])\n",
    "    ax_mag.set_ylim(0, 1.0)\n",
    "    ax_mag.legend()\n",
    "    \n",
    "    ax_eng.plot(temps, energies, 's-', color='red', label='E per spin')\n",
    "    ax_eng.set_xlabel('Temperature T')\n",
    "    ax_eng.set_ylabel('Average Energy per Spin')\n",
    "    ax_eng.set_title('Energy vs Temperature')\n",
    "    ax_eng.set_xlim(temps[0], temps[-1])\n",
    "    ax_eng.set_ylim(-2.0, 0)\n",
    "    ax_eng.legend()\n",
    "    \n",
    "    ax_heat.plot(temps, specific_heats, '^-', color='green', label='C per spin')\n",
    "    ax_heat.set_xlabel('Temperature T')\n",
    "    ax_heat.set_ylabel('Specific Heat per Spin')\n",
    "    ax_heat.set_title('Specific Heat vs Temperature')\n",
    "    ax_heat.set_xlim(temps[0], temps[-1])\n",
    "    ax_heat.legend()\n",
    "    \n",
    "    fig.tight_layout()\n",
    "    plt.show()\n",
    "    \n",
    "    return temps, magnetizations, energies, specific_heats\n",
    "# Example usage\n",
    "# Display animation for temperature near critical point\n",
    "fig = create_ising_animation(N=32, T=2.1)\n",
    "fig.show()\n",
    "# For full simulation with temperature sweep\n",
    "run_ising_simulation()\n"
   ]
  },
  {
   "cell_type": "code",
   "execution_count": null,
   "metadata": {},
   "outputs": [],
   "source": []
  }
 ],
 "metadata": {
  "kernelspec": {
   "display_name": "matsci",
   "language": "python",
   "name": "python3"
  },
  "language_info": {
   "codemirror_mode": {
    "name": "ipython",
    "version": 3
   },
   "file_extension": ".py",
   "mimetype": "text/x-python",
   "name": "python",
   "nbconvert_exporter": "python",
   "pygments_lexer": "ipython3",
   "version": "3.12.9"
  }
 },
 "nbformat": 4,
 "nbformat_minor": 2
}
